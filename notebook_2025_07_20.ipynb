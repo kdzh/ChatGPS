{
 "cells": [
  {
   "cell_type": "raw",
   "id": "28342563-8808-44f3-8cae-ed1ac616ab54",
   "metadata": {},
   "source": [
    "https://www.youtube.com/watch?v=abMwFViFFhI\n",
    "https://github.com/enricd/rag_llm_app/blob/main/app.py\n",
    "\n",
    "https://github.com/yandex-cloud-examples/yc-yagpt-chatbot-streamlit"
   ]
  },
  {
   "cell_type": "code",
   "execution_count": null,
   "id": "9fa9dbd7-35a5-4d21-87a5-2254b377aae9",
   "metadata": {},
   "outputs": [],
   "source": []
  },
  {
   "cell_type": "code",
   "execution_count": 1,
   "id": "a92b0a38-1da4-49ba-80be-a3eecebe3fe8",
   "metadata": {},
   "outputs": [
    {
     "name": "stderr",
     "output_type": "stream",
     "text": [
      "/tmp/ipykernel_27008/2288506685.py:7: TqdmExperimentalWarning: Using `tqdm.autonotebook.tqdm` in notebook mode. Use `tqdm.tqdm` instead to force console mode (e.g. in jupyter console)\n",
      "  from tqdm.autonotebook import tqdm\n"
     ]
    }
   ],
   "source": [
    "import requests\n",
    "import json\n",
    "import subprocess\n",
    "import os\n",
    "from pathlib import Path\n",
    "# from tqdm.notebook import tqdm\n",
    "from tqdm.autonotebook import tqdm\n",
    "import pandas as pd\n",
    "import shutil\n",
    "from typing import Any, Generator, Optional, List\n",
    "from datetime import datetime\n",
    "\n",
    "import ollama\n",
    "\n",
    "from langchain_community.chat_models import ChatOllama\n",
    "from langchain.document_loaders import DirectoryLoader, UnstructuredMarkdownLoader, CSVLoader\n",
    "from langchain.text_splitter import Language, RecursiveCharacterTextSplitter\n",
    "# from langchain.embeddings import HuggingFaceEmbeddings\n",
    "from langchain.vectorstores import FAISS\n",
    "from langchain_huggingface import HuggingFaceEmbeddings\n",
    "from langchain.llms.base import LLM\n",
    "from langchain.schema import Generation\n",
    "from langchain.schema import ChatGeneration\n",
    "from langchain_core.messages import AIMessageChunk\n",
    "from langchain.chains import RetrievalQA\n",
    "from langchain.schema import HumanMessage, AIMessage\n",
    "from langchain_core.prompts import PromptTemplate"
   ]
  },
  {
   "cell_type": "raw",
   "id": "7f1f03a8",
   "metadata": {},
   "source": [
    "https://www.kaggle.com/code/ttminh27/rag-using-bert-base-and-mistral-base\n",
    "https://www.kaggle.com/code/parthbagda/rag-with-llama-3-8b"
   ]
  },
  {
   "cell_type": "raw",
   "id": "d88073af",
   "metadata": {},
   "source": [
    "https://habr.com/ru/companies/wunderfund/articles/779748/\n",
    "https://habr.com/ru/companies/raft/articles/791034/"
   ]
  },
  {
   "cell_type": "raw",
   "id": "38528b7e",
   "metadata": {},
   "source": [
    "llama index\n",
    "\n",
    "# https://github.com/marklysze/LlamaIndex-RAG-WSL-CUDA/blob/master/LlamaIndex_RAG_SelfChunking.ipynb"
   ]
  },
  {
   "cell_type": "raw",
   "id": "e6e83a71",
   "metadata": {},
   "source": [
    "RuBERT\n",
    "\n",
    "https://huggingface.co/DeepPavlov/rubert-base-cased/tree/main"
   ]
  },
  {
   "cell_type": "raw",
   "id": "32103004",
   "metadata": {},
   "source": [
    "https://chat.lmsys.org/?leaderboard\n",
    "\n",
    "https://github.com/ollama/ollama-python"
   ]
  },
  {
   "cell_type": "raw",
   "id": "ff8772d6",
   "metadata": {},
   "source": [
    "When RAG is not enough\n",
    "\n",
    "https://www.youtube.com/watch?v=uVkS05qPhik\n",
    "https://neurons-lab.com/article/intro-to-llm-agents-with-langchain-when-rag-is-not-enough/"
   ]
  },
  {
   "cell_type": "markdown",
   "id": "7ccec123-8b26-4cfc-89fa-8ca8abfe12f6",
   "metadata": {},
   "source": [
    "# Общаемся с YandexGPT"
   ]
  },
  {
   "cell_type": "code",
   "execution_count": 2,
   "id": "28ce54e5-f3fd-4f10-8814-c6e0ebbc55ca",
   "metadata": {},
   "outputs": [],
   "source": [
    "YANDEX_FOLDER_ID = 'b1gfbnbrsndktci2srd6'\n",
    "env = os.environ.copy()\n",
    "env[\"FOLDER_ID\"] = YANDEX_FOLDER_ID"
   ]
  },
  {
   "cell_type": "code",
   "execution_count": null,
   "id": "3d403fdf-ba5c-430c-bdab-6612c45d4a62",
   "metadata": {},
   "outputs": [],
   "source": []
  },
  {
   "cell_type": "code",
   "execution_count": null,
   "id": "ff0b42fa-9580-4611-9d40-a86afd197c09",
   "metadata": {},
   "outputs": [],
   "source": []
  },
  {
   "cell_type": "markdown",
   "id": "14511247-9ca4-4f19-8678-4edf45f03ae0",
   "metadata": {},
   "source": [
    "## Новая версия"
   ]
  },
  {
   "cell_type": "code",
   "execution_count": 19,
   "id": "72c875d4-6f09-488e-8cd7-f40ef4c29dbe",
   "metadata": {},
   "outputs": [],
   "source": [
    "from langchain_community.chat_models import ChatYandexGPT\n",
    "from langchain_core.prompts import ChatPromptTemplate, MessagesPlaceholder\n",
    "from langchain_community.chat_message_histories import StreamlitChatMessageHistory\n",
    "from langchain_core.runnables.history import RunnableWithMessageHistory"
   ]
  },
  {
   "cell_type": "code",
   "execution_count": 26,
   "id": "abf4a4e8-7505-4c54-af4c-c9f8331f7d76",
   "metadata": {},
   "outputs": [],
   "source": [
    "model_uri = \"gpt://\"+str(YANDEX_FOLDER_ID)+\"/yandexgpt-lite/latest\"\n",
    "yagpt_api_key = 't1.9euelZrLmc_PjY6cis6czMaezMyYne3rnpWaxpCPxpWXjpDOzM6dlceQxsrl9Pd7E3w7-e9BRQCX3fT3O0J5O_nvQUUAl83n9euelZqVxprMz5Cbx5PGmY3KnpuQk-_8xeuelZqVxprMz5Cbx5PGmY3KnpuQkw.hLKwoN5D3rbzdJ1JTNkFRMwozkVHTx5RiEryEX1h8NyX8iuDcFR3kcdrIUBJbS8Le6ciTf_VZGIVOexdUsMOAA'"
   ]
  },
  {
   "cell_type": "code",
   "execution_count": 27,
   "id": "c5a568db-1692-4d26-a8c6-56586a0695e9",
   "metadata": {},
   "outputs": [],
   "source": [
    "yagpt_temperature = 0.6\n",
    "yagpt_max_tokens = 2000"
   ]
  },
  {
   "cell_type": "code",
   "execution_count": 28,
   "id": "2d135eea-2a59-4f07-b995-9723507423fd",
   "metadata": {},
   "outputs": [],
   "source": [
    "model = ChatYandexGPT(api_key=yagpt_api_key, model_uri=model_uri, temperature = yagpt_temperature, max_tokens = yagpt_max_tokens)"
   ]
  },
  {
   "cell_type": "code",
   "execution_count": 29,
   "id": "7d880fa3-231f-43e1-a050-5eefe84eca2b",
   "metadata": {},
   "outputs": [],
   "source": [
    "custom_prompt = 'Привет! Как дела?'"
   ]
  },
  {
   "cell_type": "code",
   "execution_count": 30,
   "id": "88d427fe-d56c-48d7-9d5e-8fbc0300cf2e",
   "metadata": {},
   "outputs": [],
   "source": [
    "prompt = ChatPromptTemplate.from_messages(\n",
    "        [\n",
    "            (\"system\", custom_prompt),\n",
    "            MessagesPlaceholder(variable_name=\"history\"),\n",
    "            (\"human\", \"{question}\"),\n",
    "        ]\n",
    "    )"
   ]
  },
  {
   "cell_type": "code",
   "execution_count": 31,
   "id": "65d06933-958f-442b-b4a6-1cbb0f989054",
   "metadata": {},
   "outputs": [
    {
     "name": "stderr",
     "output_type": "stream",
     "text": [
      "2025-07-23 17:47:46.565 WARNING streamlit.runtime.scriptrunner_utils.script_run_context: Thread 'MainThread': missing ScriptRunContext! This warning can be ignored when running in bare mode.\n",
      "2025-07-23 17:47:46.567 WARNING streamlit.runtime.scriptrunner_utils.script_run_context: Thread 'MainThread': missing ScriptRunContext! This warning can be ignored when running in bare mode.\n"
     ]
    }
   ],
   "source": [
    "msgs = StreamlitChatMessageHistory(key=\"langchain_messages\")\n",
    "if len(msgs.messages) == 0:\n",
    "    msgs.add_ai_message(\"Привет! Как я могу вам помочь?\")"
   ]
  },
  {
   "cell_type": "code",
   "execution_count": 32,
   "id": "fc78fc2b-996b-4bf9-b961-4443041600cd",
   "metadata": {},
   "outputs": [],
   "source": [
    "chain = prompt | model\n",
    "chain_with_history = RunnableWithMessageHistory(\n",
    "    chain,\n",
    "    lambda session_id: msgs,\n",
    "    input_messages_key=\"question\",\n",
    "    history_messages_key=\"history\",\n",
    ")\n"
   ]
  },
  {
   "cell_type": "code",
   "execution_count": 33,
   "id": "68fbc5e2-e87d-4b68-9ead-06f98dc060b3",
   "metadata": {},
   "outputs": [],
   "source": [
    "config = {\"configurable\": {\"session_id\": \"any\"}}"
   ]
  },
  {
   "cell_type": "code",
   "execution_count": 34,
   "id": "f4662b5a-7413-44e6-9f2a-b399e9aef8bc",
   "metadata": {
    "scrolled": true
   },
   "outputs": [
    {
     "name": "stderr",
     "output_type": "stream",
     "text": [
      "Retrying langchain_community.chat_models.yandex.completion_with_retry.<locals>._completion_with_retry in 1.0 seconds as it raised _MultiThreadedRendezvous: <_MultiThreadedRendezvous of RPC that terminated with:\n",
      "\tstatus = StatusCode.UNAUTHENTICATED\n",
      "\tdetails = \"Unknown api key 't1.9****MOAA (0F543BF4)'\"\n",
      "\tdebug_error_string = \"UNKNOWN:Error received from peer ipv4:158.160.54.160:443 {grpc_message:\"Unknown api key \\'t1.9****MOAA (0F543BF4)\\'\", grpc_status:16}\"\n",
      ">.\n",
      "Retrying langchain_community.chat_models.yandex.completion_with_retry.<locals>._completion_with_retry in 2.0 seconds as it raised _MultiThreadedRendezvous: <_MultiThreadedRendezvous of RPC that terminated with:\n",
      "\tstatus = StatusCode.UNAUTHENTICATED\n",
      "\tdetails = \"Unknown api key 't1.9****MOAA (0F543BF4)'\"\n",
      "\tdebug_error_string = \"UNKNOWN:Error received from peer ipv4:158.160.54.160:443 {grpc_status:16, grpc_message:\"Unknown api key \\'t1.9****MOAA (0F543BF4)\\'\"}\"\n",
      ">.\n",
      "Retrying langchain_community.chat_models.yandex.completion_with_retry.<locals>._completion_with_retry in 4.0 seconds as it raised _MultiThreadedRendezvous: <_MultiThreadedRendezvous of RPC that terminated with:\n",
      "\tstatus = StatusCode.UNAUTHENTICATED\n",
      "\tdetails = \"Unknown api key 't1.9****MOAA (0F543BF4)'\"\n",
      "\tdebug_error_string = \"UNKNOWN:Error received from peer ipv4:158.160.54.160:443 {grpc_message:\"Unknown api key \\'t1.9****MOAA (0F543BF4)\\'\", grpc_status:16}\"\n",
      ">.\n",
      "Retrying langchain_community.chat_models.yandex.completion_with_retry.<locals>._completion_with_retry in 8.0 seconds as it raised _MultiThreadedRendezvous: <_MultiThreadedRendezvous of RPC that terminated with:\n",
      "\tstatus = StatusCode.UNAUTHENTICATED\n",
      "\tdetails = \"Unknown api key 't1.9****MOAA (0F543BF4)'\"\n",
      "\tdebug_error_string = \"UNKNOWN:Error received from peer ipv4:158.160.54.160:443 {grpc_message:\"Unknown api key \\'t1.9****MOAA (0F543BF4)\\'\", grpc_status:16}\"\n",
      ">.\n",
      "Retrying langchain_community.chat_models.yandex.completion_with_retry.<locals>._completion_with_retry in 16.0 seconds as it raised _MultiThreadedRendezvous: <_MultiThreadedRendezvous of RPC that terminated with:\n",
      "\tstatus = StatusCode.UNAUTHENTICATED\n",
      "\tdetails = \"Unknown api key 't1.9****MOAA (0F543BF4)'\"\n",
      "\tdebug_error_string = \"UNKNOWN:Error received from peer ipv4:158.160.54.160:443 {grpc_status:16, grpc_message:\"Unknown api key \\'t1.9****MOAA (0F543BF4)\\'\"}\"\n",
      ">.\n"
     ]
    },
    {
     "ename": "_MultiThreadedRendezvous",
     "evalue": "<_MultiThreadedRendezvous of RPC that terminated with:\n\tstatus = StatusCode.UNAUTHENTICATED\n\tdetails = \"Unknown api key 't1.9****MOAA (0F543BF4)'\"\n\tdebug_error_string = \"UNKNOWN:Error received from peer ipv4:158.160.54.160:443 {grpc_status:16, grpc_message:\"Unknown api key \\'t1.9****MOAA (0F543BF4)\\'\"}\"\n>",
     "output_type": "error",
     "traceback": [
      "\u001b[31m---------------------------------------------------------------------------\u001b[39m",
      "\u001b[31m_MultiThreadedRendezvous\u001b[39m                  Traceback (most recent call last)",
      "\u001b[36mCell\u001b[39m\u001b[36m \u001b[39m\u001b[32mIn[34]\u001b[39m\u001b[32m, line 1\u001b[39m\n\u001b[32m----> \u001b[39m\u001b[32m1\u001b[39m response = \u001b[43mchain_with_history\u001b[49m\u001b[43m.\u001b[49m\u001b[43minvoke\u001b[49m\u001b[43m(\u001b[49m\u001b[43m{\u001b[49m\u001b[33;43m\"\u001b[39;49m\u001b[33;43mquestion\u001b[39;49m\u001b[33;43m\"\u001b[39;49m\u001b[43m:\u001b[49m\u001b[43m \u001b[49m\u001b[43mprompt\u001b[49m\u001b[43m}\u001b[49m\u001b[43m,\u001b[49m\u001b[43m \u001b[49m\u001b[43mconfig\u001b[49m\u001b[43m)\u001b[49m\n",
      "\u001b[36mFile \u001b[39m\u001b[32m~/main_python_venv/lib/python3.12/site-packages/langchain_core/runnables/base.py:5434\u001b[39m, in \u001b[36mRunnableBindingBase.invoke\u001b[39m\u001b[34m(self, input, config, **kwargs)\u001b[39m\n\u001b[32m   5427\u001b[39m \u001b[38;5;129m@override\u001b[39m\n\u001b[32m   5428\u001b[39m \u001b[38;5;28;01mdef\u001b[39;00m\u001b[38;5;250m \u001b[39m\u001b[34minvoke\u001b[39m(\n\u001b[32m   5429\u001b[39m     \u001b[38;5;28mself\u001b[39m,\n\u001b[32m   (...)\u001b[39m\u001b[32m   5432\u001b[39m     **kwargs: Optional[Any],\n\u001b[32m   5433\u001b[39m ) -> Output:\n\u001b[32m-> \u001b[39m\u001b[32m5434\u001b[39m     \u001b[38;5;28;01mreturn\u001b[39;00m \u001b[38;5;28;43mself\u001b[39;49m\u001b[43m.\u001b[49m\u001b[43mbound\u001b[49m\u001b[43m.\u001b[49m\u001b[43minvoke\u001b[49m\u001b[43m(\u001b[49m\n\u001b[32m   5435\u001b[39m \u001b[43m        \u001b[49m\u001b[38;5;28;43minput\u001b[39;49m\u001b[43m,\u001b[49m\n\u001b[32m   5436\u001b[39m \u001b[43m        \u001b[49m\u001b[38;5;28;43mself\u001b[39;49m\u001b[43m.\u001b[49m\u001b[43m_merge_configs\u001b[49m\u001b[43m(\u001b[49m\u001b[43mconfig\u001b[49m\u001b[43m)\u001b[49m\u001b[43m,\u001b[49m\n\u001b[32m   5437\u001b[39m \u001b[43m        \u001b[49m\u001b[43m*\u001b[49m\u001b[43m*\u001b[49m\u001b[43m{\u001b[49m\u001b[43m*\u001b[49m\u001b[43m*\u001b[49m\u001b[38;5;28;43mself\u001b[39;49m\u001b[43m.\u001b[49m\u001b[43mkwargs\u001b[49m\u001b[43m,\u001b[49m\u001b[43m \u001b[49m\u001b[43m*\u001b[49m\u001b[43m*\u001b[49m\u001b[43mkwargs\u001b[49m\u001b[43m}\u001b[49m\u001b[43m,\u001b[49m\n\u001b[32m   5438\u001b[39m \u001b[43m    \u001b[49m\u001b[43m)\u001b[49m\n",
      "\u001b[36mFile \u001b[39m\u001b[32m~/main_python_venv/lib/python3.12/site-packages/langchain_core/runnables/base.py:5434\u001b[39m, in \u001b[36mRunnableBindingBase.invoke\u001b[39m\u001b[34m(self, input, config, **kwargs)\u001b[39m\n\u001b[32m   5427\u001b[39m \u001b[38;5;129m@override\u001b[39m\n\u001b[32m   5428\u001b[39m \u001b[38;5;28;01mdef\u001b[39;00m\u001b[38;5;250m \u001b[39m\u001b[34minvoke\u001b[39m(\n\u001b[32m   5429\u001b[39m     \u001b[38;5;28mself\u001b[39m,\n\u001b[32m   (...)\u001b[39m\u001b[32m   5432\u001b[39m     **kwargs: Optional[Any],\n\u001b[32m   5433\u001b[39m ) -> Output:\n\u001b[32m-> \u001b[39m\u001b[32m5434\u001b[39m     \u001b[38;5;28;01mreturn\u001b[39;00m \u001b[38;5;28;43mself\u001b[39;49m\u001b[43m.\u001b[49m\u001b[43mbound\u001b[49m\u001b[43m.\u001b[49m\u001b[43minvoke\u001b[49m\u001b[43m(\u001b[49m\n\u001b[32m   5435\u001b[39m \u001b[43m        \u001b[49m\u001b[38;5;28;43minput\u001b[39;49m\u001b[43m,\u001b[49m\n\u001b[32m   5436\u001b[39m \u001b[43m        \u001b[49m\u001b[38;5;28;43mself\u001b[39;49m\u001b[43m.\u001b[49m\u001b[43m_merge_configs\u001b[49m\u001b[43m(\u001b[49m\u001b[43mconfig\u001b[49m\u001b[43m)\u001b[49m\u001b[43m,\u001b[49m\n\u001b[32m   5437\u001b[39m \u001b[43m        \u001b[49m\u001b[43m*\u001b[49m\u001b[43m*\u001b[49m\u001b[43m{\u001b[49m\u001b[43m*\u001b[49m\u001b[43m*\u001b[49m\u001b[38;5;28;43mself\u001b[39;49m\u001b[43m.\u001b[49m\u001b[43mkwargs\u001b[49m\u001b[43m,\u001b[49m\u001b[43m \u001b[49m\u001b[43m*\u001b[49m\u001b[43m*\u001b[49m\u001b[43mkwargs\u001b[49m\u001b[43m}\u001b[49m\u001b[43m,\u001b[49m\n\u001b[32m   5438\u001b[39m \u001b[43m    \u001b[49m\u001b[43m)\u001b[49m\n",
      "\u001b[36mFile \u001b[39m\u001b[32m~/main_python_venv/lib/python3.12/site-packages/langchain_core/runnables/base.py:3046\u001b[39m, in \u001b[36mRunnableSequence.invoke\u001b[39m\u001b[34m(self, input, config, **kwargs)\u001b[39m\n\u001b[32m   3044\u001b[39m                 input_ = context.run(step.invoke, input_, config, **kwargs)\n\u001b[32m   3045\u001b[39m             \u001b[38;5;28;01melse\u001b[39;00m:\n\u001b[32m-> \u001b[39m\u001b[32m3046\u001b[39m                 input_ = \u001b[43mcontext\u001b[49m\u001b[43m.\u001b[49m\u001b[43mrun\u001b[49m\u001b[43m(\u001b[49m\u001b[43mstep\u001b[49m\u001b[43m.\u001b[49m\u001b[43minvoke\u001b[49m\u001b[43m,\u001b[49m\u001b[43m \u001b[49m\u001b[43minput_\u001b[49m\u001b[43m,\u001b[49m\u001b[43m \u001b[49m\u001b[43mconfig\u001b[49m\u001b[43m)\u001b[49m\n\u001b[32m   3047\u001b[39m \u001b[38;5;66;03m# finish the root run\u001b[39;00m\n\u001b[32m   3048\u001b[39m \u001b[38;5;28;01mexcept\u001b[39;00m \u001b[38;5;167;01mBaseException\u001b[39;00m \u001b[38;5;28;01mas\u001b[39;00m e:\n",
      "\u001b[36mFile \u001b[39m\u001b[32m~/main_python_venv/lib/python3.12/site-packages/langchain_core/runnables/base.py:5434\u001b[39m, in \u001b[36mRunnableBindingBase.invoke\u001b[39m\u001b[34m(self, input, config, **kwargs)\u001b[39m\n\u001b[32m   5427\u001b[39m \u001b[38;5;129m@override\u001b[39m\n\u001b[32m   5428\u001b[39m \u001b[38;5;28;01mdef\u001b[39;00m\u001b[38;5;250m \u001b[39m\u001b[34minvoke\u001b[39m(\n\u001b[32m   5429\u001b[39m     \u001b[38;5;28mself\u001b[39m,\n\u001b[32m   (...)\u001b[39m\u001b[32m   5432\u001b[39m     **kwargs: Optional[Any],\n\u001b[32m   5433\u001b[39m ) -> Output:\n\u001b[32m-> \u001b[39m\u001b[32m5434\u001b[39m     \u001b[38;5;28;01mreturn\u001b[39;00m \u001b[38;5;28;43mself\u001b[39;49m\u001b[43m.\u001b[49m\u001b[43mbound\u001b[49m\u001b[43m.\u001b[49m\u001b[43minvoke\u001b[49m\u001b[43m(\u001b[49m\n\u001b[32m   5435\u001b[39m \u001b[43m        \u001b[49m\u001b[38;5;28;43minput\u001b[39;49m\u001b[43m,\u001b[49m\n\u001b[32m   5436\u001b[39m \u001b[43m        \u001b[49m\u001b[38;5;28;43mself\u001b[39;49m\u001b[43m.\u001b[49m\u001b[43m_merge_configs\u001b[49m\u001b[43m(\u001b[49m\u001b[43mconfig\u001b[49m\u001b[43m)\u001b[49m\u001b[43m,\u001b[49m\n\u001b[32m   5437\u001b[39m \u001b[43m        \u001b[49m\u001b[43m*\u001b[49m\u001b[43m*\u001b[49m\u001b[43m{\u001b[49m\u001b[43m*\u001b[49m\u001b[43m*\u001b[49m\u001b[38;5;28;43mself\u001b[39;49m\u001b[43m.\u001b[49m\u001b[43mkwargs\u001b[49m\u001b[43m,\u001b[49m\u001b[43m \u001b[49m\u001b[43m*\u001b[49m\u001b[43m*\u001b[49m\u001b[43mkwargs\u001b[49m\u001b[43m}\u001b[49m\u001b[43m,\u001b[49m\n\u001b[32m   5438\u001b[39m \u001b[43m    \u001b[49m\u001b[43m)\u001b[49m\n",
      "\u001b[36mFile \u001b[39m\u001b[32m~/main_python_venv/lib/python3.12/site-packages/langchain_core/runnables/base.py:4775\u001b[39m, in \u001b[36mRunnableLambda.invoke\u001b[39m\u001b[34m(self, input, config, **kwargs)\u001b[39m\n\u001b[32m   4761\u001b[39m \u001b[38;5;250m\u001b[39m\u001b[33;03m\"\"\"Invoke this Runnable synchronously.\u001b[39;00m\n\u001b[32m   4762\u001b[39m \n\u001b[32m   4763\u001b[39m \u001b[33;03mArgs:\u001b[39;00m\n\u001b[32m   (...)\u001b[39m\u001b[32m   4772\u001b[39m \u001b[33;03m    TypeError: If the Runnable is a coroutine function.\u001b[39;00m\n\u001b[32m   4773\u001b[39m \u001b[33;03m\"\"\"\u001b[39;00m\n\u001b[32m   4774\u001b[39m \u001b[38;5;28;01mif\u001b[39;00m \u001b[38;5;28mhasattr\u001b[39m(\u001b[38;5;28mself\u001b[39m, \u001b[33m\"\u001b[39m\u001b[33mfunc\u001b[39m\u001b[33m\"\u001b[39m):\n\u001b[32m-> \u001b[39m\u001b[32m4775\u001b[39m     \u001b[38;5;28;01mreturn\u001b[39;00m \u001b[38;5;28;43mself\u001b[39;49m\u001b[43m.\u001b[49m\u001b[43m_call_with_config\u001b[49m\u001b[43m(\u001b[49m\n\u001b[32m   4776\u001b[39m \u001b[43m        \u001b[49m\u001b[38;5;28;43mself\u001b[39;49m\u001b[43m.\u001b[49m\u001b[43m_invoke\u001b[49m\u001b[43m,\u001b[49m\n\u001b[32m   4777\u001b[39m \u001b[43m        \u001b[49m\u001b[38;5;28;43minput\u001b[39;49m\u001b[43m,\u001b[49m\n\u001b[32m   4778\u001b[39m \u001b[43m        \u001b[49m\u001b[43mensure_config\u001b[49m\u001b[43m(\u001b[49m\u001b[43mconfig\u001b[49m\u001b[43m)\u001b[49m\u001b[43m,\u001b[49m\n\u001b[32m   4779\u001b[39m \u001b[43m        \u001b[49m\u001b[43m*\u001b[49m\u001b[43m*\u001b[49m\u001b[43mkwargs\u001b[49m\u001b[43m,\u001b[49m\n\u001b[32m   4780\u001b[39m \u001b[43m    \u001b[49m\u001b[43m)\u001b[49m\n\u001b[32m   4781\u001b[39m msg = \u001b[33m\"\u001b[39m\u001b[33mCannot invoke a coroutine function synchronously.Use `ainvoke` instead.\u001b[39m\u001b[33m\"\u001b[39m\n\u001b[32m   4782\u001b[39m \u001b[38;5;28;01mraise\u001b[39;00m \u001b[38;5;167;01mTypeError\u001b[39;00m(msg)\n",
      "\u001b[36mFile \u001b[39m\u001b[32m~/main_python_venv/lib/python3.12/site-packages/langchain_core/runnables/base.py:1939\u001b[39m, in \u001b[36mRunnable._call_with_config\u001b[39m\u001b[34m(self, func, input_, config, run_type, serialized, **kwargs)\u001b[39m\n\u001b[32m   1935\u001b[39m     child_config = patch_config(config, callbacks=run_manager.get_child())\n\u001b[32m   1936\u001b[39m     \u001b[38;5;28;01mwith\u001b[39;00m set_config_context(child_config) \u001b[38;5;28;01mas\u001b[39;00m context:\n\u001b[32m   1937\u001b[39m         output = cast(\n\u001b[32m   1938\u001b[39m             \u001b[33m\"\u001b[39m\u001b[33mOutput\u001b[39m\u001b[33m\"\u001b[39m,\n\u001b[32m-> \u001b[39m\u001b[32m1939\u001b[39m             \u001b[43mcontext\u001b[49m\u001b[43m.\u001b[49m\u001b[43mrun\u001b[49m\u001b[43m(\u001b[49m\n\u001b[32m   1940\u001b[39m \u001b[43m                \u001b[49m\u001b[43mcall_func_with_variable_args\u001b[49m\u001b[43m,\u001b[49m\u001b[43m  \u001b[49m\u001b[38;5;66;43;03m# type: ignore[arg-type]\u001b[39;49;00m\n\u001b[32m   1941\u001b[39m \u001b[43m                \u001b[49m\u001b[43mfunc\u001b[49m\u001b[43m,\u001b[49m\n\u001b[32m   1942\u001b[39m \u001b[43m                \u001b[49m\u001b[43minput_\u001b[49m\u001b[43m,\u001b[49m\n\u001b[32m   1943\u001b[39m \u001b[43m                \u001b[49m\u001b[43mconfig\u001b[49m\u001b[43m,\u001b[49m\n\u001b[32m   1944\u001b[39m \u001b[43m                \u001b[49m\u001b[43mrun_manager\u001b[49m\u001b[43m,\u001b[49m\n\u001b[32m   1945\u001b[39m \u001b[43m                \u001b[49m\u001b[43m*\u001b[49m\u001b[43m*\u001b[49m\u001b[43mkwargs\u001b[49m\u001b[43m,\u001b[49m\n\u001b[32m   1946\u001b[39m \u001b[43m            \u001b[49m\u001b[43m)\u001b[49m,\n\u001b[32m   1947\u001b[39m         )\n\u001b[32m   1948\u001b[39m \u001b[38;5;28;01mexcept\u001b[39;00m \u001b[38;5;167;01mBaseException\u001b[39;00m \u001b[38;5;28;01mas\u001b[39;00m e:\n\u001b[32m   1949\u001b[39m     run_manager.on_chain_error(e)\n",
      "\u001b[36mFile \u001b[39m\u001b[32m~/main_python_venv/lib/python3.12/site-packages/langchain_core/runnables/config.py:428\u001b[39m, in \u001b[36mcall_func_with_variable_args\u001b[39m\u001b[34m(func, input, config, run_manager, **kwargs)\u001b[39m\n\u001b[32m    426\u001b[39m \u001b[38;5;28;01mif\u001b[39;00m run_manager \u001b[38;5;129;01mis\u001b[39;00m \u001b[38;5;129;01mnot\u001b[39;00m \u001b[38;5;28;01mNone\u001b[39;00m \u001b[38;5;129;01mand\u001b[39;00m accepts_run_manager(func):\n\u001b[32m    427\u001b[39m     kwargs[\u001b[33m\"\u001b[39m\u001b[33mrun_manager\u001b[39m\u001b[33m\"\u001b[39m] = run_manager\n\u001b[32m--> \u001b[39m\u001b[32m428\u001b[39m \u001b[38;5;28;01mreturn\u001b[39;00m \u001b[43mfunc\u001b[49m\u001b[43m(\u001b[49m\u001b[38;5;28;43minput\u001b[39;49m\u001b[43m,\u001b[49m\u001b[43m \u001b[49m\u001b[43m*\u001b[49m\u001b[43m*\u001b[49m\u001b[43mkwargs\u001b[49m\u001b[43m)\u001b[49m\n",
      "\u001b[36mFile \u001b[39m\u001b[32m~/main_python_venv/lib/python3.12/site-packages/langchain_core/runnables/base.py:4644\u001b[39m, in \u001b[36mRunnableLambda._invoke\u001b[39m\u001b[34m(self, input_, run_manager, config, **kwargs)\u001b[39m\n\u001b[32m   4640\u001b[39m         msg = (\n\u001b[32m   4641\u001b[39m             \u001b[33mf\u001b[39m\u001b[33m\"\u001b[39m\u001b[33mRecursion limit reached when invoking \u001b[39m\u001b[38;5;132;01m{\u001b[39;00m\u001b[38;5;28mself\u001b[39m\u001b[38;5;132;01m}\u001b[39;00m\u001b[33m with input \u001b[39m\u001b[38;5;132;01m{\u001b[39;00minput_\u001b[38;5;132;01m}\u001b[39;00m\u001b[33m.\u001b[39m\u001b[33m\"\u001b[39m\n\u001b[32m   4642\u001b[39m         )\n\u001b[32m   4643\u001b[39m         \u001b[38;5;28;01mraise\u001b[39;00m \u001b[38;5;167;01mRecursionError\u001b[39;00m(msg)\n\u001b[32m-> \u001b[39m\u001b[32m4644\u001b[39m     output = \u001b[43moutput\u001b[49m\u001b[43m.\u001b[49m\u001b[43minvoke\u001b[49m\u001b[43m(\u001b[49m\n\u001b[32m   4645\u001b[39m \u001b[43m        \u001b[49m\u001b[43minput_\u001b[49m\u001b[43m,\u001b[49m\n\u001b[32m   4646\u001b[39m \u001b[43m        \u001b[49m\u001b[43mpatch_config\u001b[49m\u001b[43m(\u001b[49m\n\u001b[32m   4647\u001b[39m \u001b[43m            \u001b[49m\u001b[43mconfig\u001b[49m\u001b[43m,\u001b[49m\n\u001b[32m   4648\u001b[39m \u001b[43m            \u001b[49m\u001b[43mcallbacks\u001b[49m\u001b[43m=\u001b[49m\u001b[43mrun_manager\u001b[49m\u001b[43m.\u001b[49m\u001b[43mget_child\u001b[49m\u001b[43m(\u001b[49m\u001b[43m)\u001b[49m\u001b[43m,\u001b[49m\n\u001b[32m   4649\u001b[39m \u001b[43m            \u001b[49m\u001b[43mrecursion_limit\u001b[49m\u001b[43m=\u001b[49m\u001b[43mrecursion_limit\u001b[49m\u001b[43m \u001b[49m\u001b[43m-\u001b[49m\u001b[43m \u001b[49m\u001b[32;43m1\u001b[39;49m\u001b[43m,\u001b[49m\n\u001b[32m   4650\u001b[39m \u001b[43m        \u001b[49m\u001b[43m)\u001b[49m\u001b[43m,\u001b[49m\n\u001b[32m   4651\u001b[39m \u001b[43m    \u001b[49m\u001b[43m)\u001b[49m\n\u001b[32m   4652\u001b[39m \u001b[38;5;28;01mreturn\u001b[39;00m cast(\u001b[33m\"\u001b[39m\u001b[33mOutput\u001b[39m\u001b[33m\"\u001b[39m, output)\n",
      "\u001b[36mFile \u001b[39m\u001b[32m~/main_python_venv/lib/python3.12/site-packages/langchain_core/runnables/base.py:5434\u001b[39m, in \u001b[36mRunnableBindingBase.invoke\u001b[39m\u001b[34m(self, input, config, **kwargs)\u001b[39m\n\u001b[32m   5427\u001b[39m \u001b[38;5;129m@override\u001b[39m\n\u001b[32m   5428\u001b[39m \u001b[38;5;28;01mdef\u001b[39;00m\u001b[38;5;250m \u001b[39m\u001b[34minvoke\u001b[39m(\n\u001b[32m   5429\u001b[39m     \u001b[38;5;28mself\u001b[39m,\n\u001b[32m   (...)\u001b[39m\u001b[32m   5432\u001b[39m     **kwargs: Optional[Any],\n\u001b[32m   5433\u001b[39m ) -> Output:\n\u001b[32m-> \u001b[39m\u001b[32m5434\u001b[39m     \u001b[38;5;28;01mreturn\u001b[39;00m \u001b[38;5;28;43mself\u001b[39;49m\u001b[43m.\u001b[49m\u001b[43mbound\u001b[49m\u001b[43m.\u001b[49m\u001b[43minvoke\u001b[49m\u001b[43m(\u001b[49m\n\u001b[32m   5435\u001b[39m \u001b[43m        \u001b[49m\u001b[38;5;28;43minput\u001b[39;49m\u001b[43m,\u001b[49m\n\u001b[32m   5436\u001b[39m \u001b[43m        \u001b[49m\u001b[38;5;28;43mself\u001b[39;49m\u001b[43m.\u001b[49m\u001b[43m_merge_configs\u001b[49m\u001b[43m(\u001b[49m\u001b[43mconfig\u001b[49m\u001b[43m)\u001b[49m\u001b[43m,\u001b[49m\n\u001b[32m   5437\u001b[39m \u001b[43m        \u001b[49m\u001b[43m*\u001b[49m\u001b[43m*\u001b[49m\u001b[43m{\u001b[49m\u001b[43m*\u001b[49m\u001b[43m*\u001b[49m\u001b[38;5;28;43mself\u001b[39;49m\u001b[43m.\u001b[49m\u001b[43mkwargs\u001b[49m\u001b[43m,\u001b[49m\u001b[43m \u001b[49m\u001b[43m*\u001b[49m\u001b[43m*\u001b[49m\u001b[43mkwargs\u001b[49m\u001b[43m}\u001b[49m\u001b[43m,\u001b[49m\n\u001b[32m   5438\u001b[39m \u001b[43m    \u001b[49m\u001b[43m)\u001b[49m\n",
      "\u001b[36mFile \u001b[39m\u001b[32m~/main_python_venv/lib/python3.12/site-packages/langchain_core/runnables/base.py:3046\u001b[39m, in \u001b[36mRunnableSequence.invoke\u001b[39m\u001b[34m(self, input, config, **kwargs)\u001b[39m\n\u001b[32m   3044\u001b[39m                 input_ = context.run(step.invoke, input_, config, **kwargs)\n\u001b[32m   3045\u001b[39m             \u001b[38;5;28;01melse\u001b[39;00m:\n\u001b[32m-> \u001b[39m\u001b[32m3046\u001b[39m                 input_ = \u001b[43mcontext\u001b[49m\u001b[43m.\u001b[49m\u001b[43mrun\u001b[49m\u001b[43m(\u001b[49m\u001b[43mstep\u001b[49m\u001b[43m.\u001b[49m\u001b[43minvoke\u001b[49m\u001b[43m,\u001b[49m\u001b[43m \u001b[49m\u001b[43minput_\u001b[49m\u001b[43m,\u001b[49m\u001b[43m \u001b[49m\u001b[43mconfig\u001b[49m\u001b[43m)\u001b[49m\n\u001b[32m   3047\u001b[39m \u001b[38;5;66;03m# finish the root run\u001b[39;00m\n\u001b[32m   3048\u001b[39m \u001b[38;5;28;01mexcept\u001b[39;00m \u001b[38;5;167;01mBaseException\u001b[39;00m \u001b[38;5;28;01mas\u001b[39;00m e:\n",
      "\u001b[36mFile \u001b[39m\u001b[32m~/main_python_venv/lib/python3.12/site-packages/langchain_core/language_models/chat_models.py:378\u001b[39m, in \u001b[36mBaseChatModel.invoke\u001b[39m\u001b[34m(self, input, config, stop, **kwargs)\u001b[39m\n\u001b[32m    366\u001b[39m \u001b[38;5;129m@override\u001b[39m\n\u001b[32m    367\u001b[39m \u001b[38;5;28;01mdef\u001b[39;00m\u001b[38;5;250m \u001b[39m\u001b[34minvoke\u001b[39m(\n\u001b[32m    368\u001b[39m     \u001b[38;5;28mself\u001b[39m,\n\u001b[32m   (...)\u001b[39m\u001b[32m    373\u001b[39m     **kwargs: Any,\n\u001b[32m    374\u001b[39m ) -> BaseMessage:\n\u001b[32m    375\u001b[39m     config = ensure_config(config)\n\u001b[32m    376\u001b[39m     \u001b[38;5;28;01mreturn\u001b[39;00m cast(\n\u001b[32m    377\u001b[39m         \u001b[33m\"\u001b[39m\u001b[33mChatGeneration\u001b[39m\u001b[33m\"\u001b[39m,\n\u001b[32m--> \u001b[39m\u001b[32m378\u001b[39m         \u001b[38;5;28;43mself\u001b[39;49m\u001b[43m.\u001b[49m\u001b[43mgenerate_prompt\u001b[49m\u001b[43m(\u001b[49m\n\u001b[32m    379\u001b[39m \u001b[43m            \u001b[49m\u001b[43m[\u001b[49m\u001b[38;5;28;43mself\u001b[39;49m\u001b[43m.\u001b[49m\u001b[43m_convert_input\u001b[49m\u001b[43m(\u001b[49m\u001b[38;5;28;43minput\u001b[39;49m\u001b[43m)\u001b[49m\u001b[43m]\u001b[49m\u001b[43m,\u001b[49m\n\u001b[32m    380\u001b[39m \u001b[43m            \u001b[49m\u001b[43mstop\u001b[49m\u001b[43m=\u001b[49m\u001b[43mstop\u001b[49m\u001b[43m,\u001b[49m\n\u001b[32m    381\u001b[39m \u001b[43m            \u001b[49m\u001b[43mcallbacks\u001b[49m\u001b[43m=\u001b[49m\u001b[43mconfig\u001b[49m\u001b[43m.\u001b[49m\u001b[43mget\u001b[49m\u001b[43m(\u001b[49m\u001b[33;43m\"\u001b[39;49m\u001b[33;43mcallbacks\u001b[39;49m\u001b[33;43m\"\u001b[39;49m\u001b[43m)\u001b[49m\u001b[43m,\u001b[49m\n\u001b[32m    382\u001b[39m \u001b[43m            \u001b[49m\u001b[43mtags\u001b[49m\u001b[43m=\u001b[49m\u001b[43mconfig\u001b[49m\u001b[43m.\u001b[49m\u001b[43mget\u001b[49m\u001b[43m(\u001b[49m\u001b[33;43m\"\u001b[39;49m\u001b[33;43mtags\u001b[39;49m\u001b[33;43m\"\u001b[39;49m\u001b[43m)\u001b[49m\u001b[43m,\u001b[49m\n\u001b[32m    383\u001b[39m \u001b[43m            \u001b[49m\u001b[43mmetadata\u001b[49m\u001b[43m=\u001b[49m\u001b[43mconfig\u001b[49m\u001b[43m.\u001b[49m\u001b[43mget\u001b[49m\u001b[43m(\u001b[49m\u001b[33;43m\"\u001b[39;49m\u001b[33;43mmetadata\u001b[39;49m\u001b[33;43m\"\u001b[39;49m\u001b[43m)\u001b[49m\u001b[43m,\u001b[49m\n\u001b[32m    384\u001b[39m \u001b[43m            \u001b[49m\u001b[43mrun_name\u001b[49m\u001b[43m=\u001b[49m\u001b[43mconfig\u001b[49m\u001b[43m.\u001b[49m\u001b[43mget\u001b[49m\u001b[43m(\u001b[49m\u001b[33;43m\"\u001b[39;49m\u001b[33;43mrun_name\u001b[39;49m\u001b[33;43m\"\u001b[39;49m\u001b[43m)\u001b[49m\u001b[43m,\u001b[49m\n\u001b[32m    385\u001b[39m \u001b[43m            \u001b[49m\u001b[43mrun_id\u001b[49m\u001b[43m=\u001b[49m\u001b[43mconfig\u001b[49m\u001b[43m.\u001b[49m\u001b[43mpop\u001b[49m\u001b[43m(\u001b[49m\u001b[33;43m\"\u001b[39;49m\u001b[33;43mrun_id\u001b[39;49m\u001b[33;43m\"\u001b[39;49m\u001b[43m,\u001b[49m\u001b[43m \u001b[49m\u001b[38;5;28;43;01mNone\u001b[39;49;00m\u001b[43m)\u001b[49m\u001b[43m,\u001b[49m\n\u001b[32m    386\u001b[39m \u001b[43m            \u001b[49m\u001b[43m*\u001b[49m\u001b[43m*\u001b[49m\u001b[43mkwargs\u001b[49m\u001b[43m,\u001b[49m\n\u001b[32m    387\u001b[39m \u001b[43m        \u001b[49m\u001b[43m)\u001b[49m.generations[\u001b[32m0\u001b[39m][\u001b[32m0\u001b[39m],\n\u001b[32m    388\u001b[39m     ).message\n",
      "\u001b[36mFile \u001b[39m\u001b[32m~/main_python_venv/lib/python3.12/site-packages/langchain_core/language_models/chat_models.py:963\u001b[39m, in \u001b[36mBaseChatModel.generate_prompt\u001b[39m\u001b[34m(self, prompts, stop, callbacks, **kwargs)\u001b[39m\n\u001b[32m    954\u001b[39m \u001b[38;5;129m@override\u001b[39m\n\u001b[32m    955\u001b[39m \u001b[38;5;28;01mdef\u001b[39;00m\u001b[38;5;250m \u001b[39m\u001b[34mgenerate_prompt\u001b[39m(\n\u001b[32m    956\u001b[39m     \u001b[38;5;28mself\u001b[39m,\n\u001b[32m   (...)\u001b[39m\u001b[32m    960\u001b[39m     **kwargs: Any,\n\u001b[32m    961\u001b[39m ) -> LLMResult:\n\u001b[32m    962\u001b[39m     prompt_messages = [p.to_messages() \u001b[38;5;28;01mfor\u001b[39;00m p \u001b[38;5;129;01min\u001b[39;00m prompts]\n\u001b[32m--> \u001b[39m\u001b[32m963\u001b[39m     \u001b[38;5;28;01mreturn\u001b[39;00m \u001b[38;5;28;43mself\u001b[39;49m\u001b[43m.\u001b[49m\u001b[43mgenerate\u001b[49m\u001b[43m(\u001b[49m\u001b[43mprompt_messages\u001b[49m\u001b[43m,\u001b[49m\u001b[43m \u001b[49m\u001b[43mstop\u001b[49m\u001b[43m=\u001b[49m\u001b[43mstop\u001b[49m\u001b[43m,\u001b[49m\u001b[43m \u001b[49m\u001b[43mcallbacks\u001b[49m\u001b[43m=\u001b[49m\u001b[43mcallbacks\u001b[49m\u001b[43m,\u001b[49m\u001b[43m \u001b[49m\u001b[43m*\u001b[49m\u001b[43m*\u001b[49m\u001b[43mkwargs\u001b[49m\u001b[43m)\u001b[49m\n",
      "\u001b[36mFile \u001b[39m\u001b[32m~/main_python_venv/lib/python3.12/site-packages/langchain_core/language_models/chat_models.py:782\u001b[39m, in \u001b[36mBaseChatModel.generate\u001b[39m\u001b[34m(self, messages, stop, callbacks, tags, metadata, run_name, run_id, **kwargs)\u001b[39m\n\u001b[32m    779\u001b[39m \u001b[38;5;28;01mfor\u001b[39;00m i, m \u001b[38;5;129;01min\u001b[39;00m \u001b[38;5;28menumerate\u001b[39m(input_messages):\n\u001b[32m    780\u001b[39m     \u001b[38;5;28;01mtry\u001b[39;00m:\n\u001b[32m    781\u001b[39m         results.append(\n\u001b[32m--> \u001b[39m\u001b[32m782\u001b[39m             \u001b[38;5;28;43mself\u001b[39;49m\u001b[43m.\u001b[49m\u001b[43m_generate_with_cache\u001b[49m\u001b[43m(\u001b[49m\n\u001b[32m    783\u001b[39m \u001b[43m                \u001b[49m\u001b[43mm\u001b[49m\u001b[43m,\u001b[49m\n\u001b[32m    784\u001b[39m \u001b[43m                \u001b[49m\u001b[43mstop\u001b[49m\u001b[43m=\u001b[49m\u001b[43mstop\u001b[49m\u001b[43m,\u001b[49m\n\u001b[32m    785\u001b[39m \u001b[43m                \u001b[49m\u001b[43mrun_manager\u001b[49m\u001b[43m=\u001b[49m\u001b[43mrun_managers\u001b[49m\u001b[43m[\u001b[49m\u001b[43mi\u001b[49m\u001b[43m]\u001b[49m\u001b[43m \u001b[49m\u001b[38;5;28;43;01mif\u001b[39;49;00m\u001b[43m \u001b[49m\u001b[43mrun_managers\u001b[49m\u001b[43m \u001b[49m\u001b[38;5;28;43;01melse\u001b[39;49;00m\u001b[43m \u001b[49m\u001b[38;5;28;43;01mNone\u001b[39;49;00m\u001b[43m,\u001b[49m\n\u001b[32m    786\u001b[39m \u001b[43m                \u001b[49m\u001b[43m*\u001b[49m\u001b[43m*\u001b[49m\u001b[43mkwargs\u001b[49m\u001b[43m,\u001b[49m\n\u001b[32m    787\u001b[39m \u001b[43m            \u001b[49m\u001b[43m)\u001b[49m\n\u001b[32m    788\u001b[39m         )\n\u001b[32m    789\u001b[39m     \u001b[38;5;28;01mexcept\u001b[39;00m \u001b[38;5;167;01mBaseException\u001b[39;00m \u001b[38;5;28;01mas\u001b[39;00m e:\n\u001b[32m    790\u001b[39m         \u001b[38;5;28;01mif\u001b[39;00m run_managers:\n",
      "\u001b[36mFile \u001b[39m\u001b[32m~/main_python_venv/lib/python3.12/site-packages/langchain_core/language_models/chat_models.py:1028\u001b[39m, in \u001b[36mBaseChatModel._generate_with_cache\u001b[39m\u001b[34m(self, messages, stop, run_manager, **kwargs)\u001b[39m\n\u001b[32m   1026\u001b[39m     result = generate_from_stream(\u001b[38;5;28miter\u001b[39m(chunks))\n\u001b[32m   1027\u001b[39m \u001b[38;5;28;01melif\u001b[39;00m inspect.signature(\u001b[38;5;28mself\u001b[39m._generate).parameters.get(\u001b[33m\"\u001b[39m\u001b[33mrun_manager\u001b[39m\u001b[33m\"\u001b[39m):\n\u001b[32m-> \u001b[39m\u001b[32m1028\u001b[39m     result = \u001b[38;5;28;43mself\u001b[39;49m\u001b[43m.\u001b[49m\u001b[43m_generate\u001b[49m\u001b[43m(\u001b[49m\n\u001b[32m   1029\u001b[39m \u001b[43m        \u001b[49m\u001b[43mmessages\u001b[49m\u001b[43m,\u001b[49m\u001b[43m \u001b[49m\u001b[43mstop\u001b[49m\u001b[43m=\u001b[49m\u001b[43mstop\u001b[49m\u001b[43m,\u001b[49m\u001b[43m \u001b[49m\u001b[43mrun_manager\u001b[49m\u001b[43m=\u001b[49m\u001b[43mrun_manager\u001b[49m\u001b[43m,\u001b[49m\u001b[43m \u001b[49m\u001b[43m*\u001b[49m\u001b[43m*\u001b[49m\u001b[43mkwargs\u001b[49m\n\u001b[32m   1030\u001b[39m \u001b[43m    \u001b[49m\u001b[43m)\u001b[49m\n\u001b[32m   1031\u001b[39m \u001b[38;5;28;01melse\u001b[39;00m:\n\u001b[32m   1032\u001b[39m     result = \u001b[38;5;28mself\u001b[39m._generate(messages, stop=stop, **kwargs)\n",
      "\u001b[36mFile \u001b[39m\u001b[32m~/main_python_venv/lib/python3.12/site-packages/langchain_community/chat_models/yandex.py:93\u001b[39m, in \u001b[36mChatYandexGPT._generate\u001b[39m\u001b[34m(self, messages, stop, run_manager, **kwargs)\u001b[39m\n\u001b[32m     74\u001b[39m \u001b[38;5;28;01mdef\u001b[39;00m\u001b[38;5;250m \u001b[39m\u001b[34m_generate\u001b[39m(\n\u001b[32m     75\u001b[39m     \u001b[38;5;28mself\u001b[39m,\n\u001b[32m     76\u001b[39m     messages: List[BaseMessage],\n\u001b[32m   (...)\u001b[39m\u001b[32m     79\u001b[39m     **kwargs: Any,\n\u001b[32m     80\u001b[39m ) -> ChatResult:\n\u001b[32m     81\u001b[39m \u001b[38;5;250m    \u001b[39m\u001b[33;03m\"\"\"Generate next turn in the conversation.\u001b[39;00m\n\u001b[32m     82\u001b[39m \u001b[33;03m    Args:\u001b[39;00m\n\u001b[32m     83\u001b[39m \u001b[33;03m        messages: The history of the conversation as a list of messages.\u001b[39;00m\n\u001b[32m   (...)\u001b[39m\u001b[32m     91\u001b[39m \u001b[33;03m        ValueError: if the last message in the list is not from human.\u001b[39;00m\n\u001b[32m     92\u001b[39m \u001b[33;03m    \"\"\"\u001b[39;00m\n\u001b[32m---> \u001b[39m\u001b[32m93\u001b[39m     text = \u001b[43mcompletion_with_retry\u001b[49m\u001b[43m(\u001b[49m\u001b[38;5;28;43mself\u001b[39;49m\u001b[43m,\u001b[49m\u001b[43m \u001b[49m\u001b[43mmessages\u001b[49m\u001b[43m=\u001b[49m\u001b[43mmessages\u001b[49m\u001b[43m)\u001b[49m\n\u001b[32m     94\u001b[39m     text = text \u001b[38;5;28;01mif\u001b[39;00m stop \u001b[38;5;129;01mis\u001b[39;00m \u001b[38;5;28;01mNone\u001b[39;00m \u001b[38;5;28;01melse\u001b[39;00m enforce_stop_tokens(text, stop)\n\u001b[32m     95\u001b[39m     message = AIMessage(content=text)\n",
      "\u001b[36mFile \u001b[39m\u001b[32m~/main_python_venv/lib/python3.12/site-packages/langchain_community/chat_models/yandex.py:272\u001b[39m, in \u001b[36mcompletion_with_retry\u001b[39m\u001b[34m(llm, **kwargs)\u001b[39m\n\u001b[32m    268\u001b[39m \u001b[38;5;129m@retry_decorator\u001b[39m\n\u001b[32m    269\u001b[39m \u001b[38;5;28;01mdef\u001b[39;00m\u001b[38;5;250m \u001b[39m\u001b[34m_completion_with_retry\u001b[39m(**_kwargs: Any) -> Any:\n\u001b[32m    270\u001b[39m     \u001b[38;5;28;01mreturn\u001b[39;00m _make_request(llm, **_kwargs)\n\u001b[32m--> \u001b[39m\u001b[32m272\u001b[39m \u001b[38;5;28;01mreturn\u001b[39;00m \u001b[43m_completion_with_retry\u001b[49m\u001b[43m(\u001b[49m\u001b[43m*\u001b[49m\u001b[43m*\u001b[49m\u001b[43mkwargs\u001b[49m\u001b[43m)\u001b[49m\n",
      "\u001b[36mFile \u001b[39m\u001b[32m~/main_python_venv/lib/python3.12/site-packages/tenacity/__init__.py:338\u001b[39m, in \u001b[36mBaseRetrying.wraps.<locals>.wrapped_f\u001b[39m\u001b[34m(*args, **kw)\u001b[39m\n\u001b[32m    336\u001b[39m copy = \u001b[38;5;28mself\u001b[39m.copy()\n\u001b[32m    337\u001b[39m wrapped_f.statistics = copy.statistics  \u001b[38;5;66;03m# type: ignore[attr-defined]\u001b[39;00m\n\u001b[32m--> \u001b[39m\u001b[32m338\u001b[39m \u001b[38;5;28;01mreturn\u001b[39;00m \u001b[43mcopy\u001b[49m\u001b[43m(\u001b[49m\u001b[43mf\u001b[49m\u001b[43m,\u001b[49m\u001b[43m \u001b[49m\u001b[43m*\u001b[49m\u001b[43margs\u001b[49m\u001b[43m,\u001b[49m\u001b[43m \u001b[49m\u001b[43m*\u001b[49m\u001b[43m*\u001b[49m\u001b[43mkw\u001b[49m\u001b[43m)\u001b[49m\n",
      "\u001b[36mFile \u001b[39m\u001b[32m~/main_python_venv/lib/python3.12/site-packages/tenacity/__init__.py:477\u001b[39m, in \u001b[36mRetrying.__call__\u001b[39m\u001b[34m(self, fn, *args, **kwargs)\u001b[39m\n\u001b[32m    475\u001b[39m retry_state = RetryCallState(retry_object=\u001b[38;5;28mself\u001b[39m, fn=fn, args=args, kwargs=kwargs)\n\u001b[32m    476\u001b[39m \u001b[38;5;28;01mwhile\u001b[39;00m \u001b[38;5;28;01mTrue\u001b[39;00m:\n\u001b[32m--> \u001b[39m\u001b[32m477\u001b[39m     do = \u001b[38;5;28;43mself\u001b[39;49m\u001b[43m.\u001b[49m\u001b[43miter\u001b[49m\u001b[43m(\u001b[49m\u001b[43mretry_state\u001b[49m\u001b[43m=\u001b[49m\u001b[43mretry_state\u001b[49m\u001b[43m)\u001b[49m\n\u001b[32m    478\u001b[39m     \u001b[38;5;28;01mif\u001b[39;00m \u001b[38;5;28misinstance\u001b[39m(do, DoAttempt):\n\u001b[32m    479\u001b[39m         \u001b[38;5;28;01mtry\u001b[39;00m:\n",
      "\u001b[36mFile \u001b[39m\u001b[32m~/main_python_venv/lib/python3.12/site-packages/tenacity/__init__.py:378\u001b[39m, in \u001b[36mBaseRetrying.iter\u001b[39m\u001b[34m(self, retry_state)\u001b[39m\n\u001b[32m    376\u001b[39m result = \u001b[38;5;28;01mNone\u001b[39;00m\n\u001b[32m    377\u001b[39m \u001b[38;5;28;01mfor\u001b[39;00m action \u001b[38;5;129;01min\u001b[39;00m \u001b[38;5;28mself\u001b[39m.iter_state.actions:\n\u001b[32m--> \u001b[39m\u001b[32m378\u001b[39m     result = \u001b[43maction\u001b[49m\u001b[43m(\u001b[49m\u001b[43mretry_state\u001b[49m\u001b[43m)\u001b[49m\n\u001b[32m    379\u001b[39m \u001b[38;5;28;01mreturn\u001b[39;00m result\n",
      "\u001b[36mFile \u001b[39m\u001b[32m~/main_python_venv/lib/python3.12/site-packages/tenacity/__init__.py:420\u001b[39m, in \u001b[36mBaseRetrying._post_stop_check_actions.<locals>.exc_check\u001b[39m\u001b[34m(rs)\u001b[39m\n\u001b[32m    418\u001b[39m retry_exc = \u001b[38;5;28mself\u001b[39m.retry_error_cls(fut)\n\u001b[32m    419\u001b[39m \u001b[38;5;28;01mif\u001b[39;00m \u001b[38;5;28mself\u001b[39m.reraise:\n\u001b[32m--> \u001b[39m\u001b[32m420\u001b[39m     \u001b[38;5;28;01mraise\u001b[39;00m \u001b[43mretry_exc\u001b[49m\u001b[43m.\u001b[49m\u001b[43mreraise\u001b[49m\u001b[43m(\u001b[49m\u001b[43m)\u001b[49m\n\u001b[32m    421\u001b[39m \u001b[38;5;28;01mraise\u001b[39;00m retry_exc \u001b[38;5;28;01mfrom\u001b[39;00m\u001b[38;5;250m \u001b[39m\u001b[34;01mfut\u001b[39;00m\u001b[34;01m.\u001b[39;00m\u001b[34;01mexception\u001b[39;00m()\n",
      "\u001b[36mFile \u001b[39m\u001b[32m~/main_python_venv/lib/python3.12/site-packages/tenacity/__init__.py:187\u001b[39m, in \u001b[36mRetryError.reraise\u001b[39m\u001b[34m(self)\u001b[39m\n\u001b[32m    185\u001b[39m \u001b[38;5;28;01mdef\u001b[39;00m\u001b[38;5;250m \u001b[39m\u001b[34mreraise\u001b[39m(\u001b[38;5;28mself\u001b[39m) -> t.NoReturn:\n\u001b[32m    186\u001b[39m     \u001b[38;5;28;01mif\u001b[39;00m \u001b[38;5;28mself\u001b[39m.last_attempt.failed:\n\u001b[32m--> \u001b[39m\u001b[32m187\u001b[39m         \u001b[38;5;28;01mraise\u001b[39;00m \u001b[38;5;28;43mself\u001b[39;49m\u001b[43m.\u001b[49m\u001b[43mlast_attempt\u001b[49m\u001b[43m.\u001b[49m\u001b[43mresult\u001b[49m\u001b[43m(\u001b[49m\u001b[43m)\u001b[49m\n\u001b[32m    188\u001b[39m     \u001b[38;5;28;01mraise\u001b[39;00m \u001b[38;5;28mself\u001b[39m\n",
      "\u001b[36mFile \u001b[39m\u001b[32m/usr/lib/python3.12/concurrent/futures/_base.py:449\u001b[39m, in \u001b[36mFuture.result\u001b[39m\u001b[34m(self, timeout)\u001b[39m\n\u001b[32m    447\u001b[39m     \u001b[38;5;28;01mraise\u001b[39;00m CancelledError()\n\u001b[32m    448\u001b[39m \u001b[38;5;28;01melif\u001b[39;00m \u001b[38;5;28mself\u001b[39m._state == FINISHED:\n\u001b[32m--> \u001b[39m\u001b[32m449\u001b[39m     \u001b[38;5;28;01mreturn\u001b[39;00m \u001b[38;5;28;43mself\u001b[39;49m\u001b[43m.\u001b[49m\u001b[43m__get_result\u001b[49m\u001b[43m(\u001b[49m\u001b[43m)\u001b[49m\n\u001b[32m    451\u001b[39m \u001b[38;5;28mself\u001b[39m._condition.wait(timeout)\n\u001b[32m    453\u001b[39m \u001b[38;5;28;01mif\u001b[39;00m \u001b[38;5;28mself\u001b[39m._state \u001b[38;5;129;01min\u001b[39;00m [CANCELLED, CANCELLED_AND_NOTIFIED]:\n",
      "\u001b[36mFile \u001b[39m\u001b[32m/usr/lib/python3.12/concurrent/futures/_base.py:401\u001b[39m, in \u001b[36mFuture.__get_result\u001b[39m\u001b[34m(self)\u001b[39m\n\u001b[32m    399\u001b[39m \u001b[38;5;28;01mif\u001b[39;00m \u001b[38;5;28mself\u001b[39m._exception:\n\u001b[32m    400\u001b[39m     \u001b[38;5;28;01mtry\u001b[39;00m:\n\u001b[32m--> \u001b[39m\u001b[32m401\u001b[39m         \u001b[38;5;28;01mraise\u001b[39;00m \u001b[38;5;28mself\u001b[39m._exception\n\u001b[32m    402\u001b[39m     \u001b[38;5;28;01mfinally\u001b[39;00m:\n\u001b[32m    403\u001b[39m         \u001b[38;5;66;03m# Break a reference cycle with the exception in self._exception\u001b[39;00m\n\u001b[32m    404\u001b[39m         \u001b[38;5;28mself\u001b[39m = \u001b[38;5;28;01mNone\u001b[39;00m\n",
      "\u001b[36mFile \u001b[39m\u001b[32m~/main_python_venv/lib/python3.12/site-packages/tenacity/__init__.py:480\u001b[39m, in \u001b[36mRetrying.__call__\u001b[39m\u001b[34m(self, fn, *args, **kwargs)\u001b[39m\n\u001b[32m    478\u001b[39m \u001b[38;5;28;01mif\u001b[39;00m \u001b[38;5;28misinstance\u001b[39m(do, DoAttempt):\n\u001b[32m    479\u001b[39m     \u001b[38;5;28;01mtry\u001b[39;00m:\n\u001b[32m--> \u001b[39m\u001b[32m480\u001b[39m         result = \u001b[43mfn\u001b[49m\u001b[43m(\u001b[49m\u001b[43m*\u001b[49m\u001b[43margs\u001b[49m\u001b[43m,\u001b[49m\u001b[43m \u001b[49m\u001b[43m*\u001b[49m\u001b[43m*\u001b[49m\u001b[43mkwargs\u001b[49m\u001b[43m)\u001b[49m\n\u001b[32m    481\u001b[39m     \u001b[38;5;28;01mexcept\u001b[39;00m \u001b[38;5;167;01mBaseException\u001b[39;00m:  \u001b[38;5;66;03m# noqa: B902\u001b[39;00m\n\u001b[32m    482\u001b[39m         retry_state.set_exception(sys.exc_info())  \u001b[38;5;66;03m# type: ignore[arg-type]\u001b[39;00m\n",
      "\u001b[36mFile \u001b[39m\u001b[32m~/main_python_venv/lib/python3.12/site-packages/langchain_community/chat_models/yandex.py:270\u001b[39m, in \u001b[36mcompletion_with_retry.<locals>._completion_with_retry\u001b[39m\u001b[34m(**_kwargs)\u001b[39m\n\u001b[32m    268\u001b[39m \u001b[38;5;129m@retry_decorator\u001b[39m\n\u001b[32m    269\u001b[39m \u001b[38;5;28;01mdef\u001b[39;00m\u001b[38;5;250m \u001b[39m\u001b[34m_completion_with_retry\u001b[39m(**_kwargs: Any) -> Any:\n\u001b[32m--> \u001b[39m\u001b[32m270\u001b[39m     \u001b[38;5;28;01mreturn\u001b[39;00m \u001b[43m_make_request\u001b[49m\u001b[43m(\u001b[49m\u001b[43mllm\u001b[49m\u001b[43m,\u001b[49m\u001b[43m \u001b[49m\u001b[43m*\u001b[49m\u001b[43m*\u001b[49m\u001b[43m_kwargs\u001b[49m\u001b[43m)\u001b[49m\n",
      "\u001b[36mFile \u001b[39m\u001b[32m~/main_python_venv/lib/python3.12/site-packages/langchain_community/chat_models/yandex.py:174\u001b[39m, in \u001b[36m_make_request\u001b[39m\u001b[34m(self, messages)\u001b[39m\n\u001b[32m    172\u001b[39m stub = TextGenerationServiceStub(channel)\n\u001b[32m    173\u001b[39m res = stub.Completion(request, metadata=\u001b[38;5;28mself\u001b[39m.grpc_metadata)\n\u001b[32m--> \u001b[39m\u001b[32m174\u001b[39m \u001b[38;5;28;01mreturn\u001b[39;00m \u001b[38;5;28;43mlist\u001b[39;49m\u001b[43m(\u001b[49m\u001b[43mres\u001b[49m\u001b[43m)\u001b[49m[\u001b[32m0\u001b[39m].alternatives[\u001b[32m0\u001b[39m].message.text\n",
      "\u001b[36mFile \u001b[39m\u001b[32m~/main_python_venv/lib/python3.12/site-packages/grpc/_channel.py:543\u001b[39m, in \u001b[36m_Rendezvous.__next__\u001b[39m\u001b[34m(self)\u001b[39m\n\u001b[32m    542\u001b[39m \u001b[38;5;28;01mdef\u001b[39;00m\u001b[38;5;250m \u001b[39m\u001b[34m__next__\u001b[39m(\u001b[38;5;28mself\u001b[39m):\n\u001b[32m--> \u001b[39m\u001b[32m543\u001b[39m     \u001b[38;5;28;01mreturn\u001b[39;00m \u001b[38;5;28;43mself\u001b[39;49m\u001b[43m.\u001b[49m\u001b[43m_next\u001b[49m\u001b[43m(\u001b[49m\u001b[43m)\u001b[49m\n",
      "\u001b[36mFile \u001b[39m\u001b[32m~/main_python_venv/lib/python3.12/site-packages/grpc/_channel.py:969\u001b[39m, in \u001b[36m_MultiThreadedRendezvous._next\u001b[39m\u001b[34m(self)\u001b[39m\n\u001b[32m    967\u001b[39m     \u001b[38;5;28;01mraise\u001b[39;00m \u001b[38;5;167;01mStopIteration\u001b[39;00m()\n\u001b[32m    968\u001b[39m \u001b[38;5;28;01melif\u001b[39;00m \u001b[38;5;28mself\u001b[39m._state.code \u001b[38;5;129;01mis\u001b[39;00m \u001b[38;5;129;01mnot\u001b[39;00m \u001b[38;5;28;01mNone\u001b[39;00m:\n\u001b[32m--> \u001b[39m\u001b[32m969\u001b[39m     \u001b[38;5;28;01mraise\u001b[39;00m \u001b[38;5;28mself\u001b[39m\n",
      "\u001b[31m_MultiThreadedRendezvous\u001b[39m: <_MultiThreadedRendezvous of RPC that terminated with:\n\tstatus = StatusCode.UNAUTHENTICATED\n\tdetails = \"Unknown api key 't1.9****MOAA (0F543BF4)'\"\n\tdebug_error_string = \"UNKNOWN:Error received from peer ipv4:158.160.54.160:443 {grpc_status:16, grpc_message:\"Unknown api key \\'t1.9****MOAA (0F543BF4)\\'\"}\"\n>"
     ]
    }
   ],
   "source": [
    "response = chain_with_history.invoke({\"question\": prompt}, config)"
   ]
  },
  {
   "cell_type": "code",
   "execution_count": null,
   "id": "5f77b43a-2fc8-4b44-afb5-eec0de126a9d",
   "metadata": {},
   "outputs": [],
   "source": []
  },
  {
   "cell_type": "markdown",
   "id": "34e57640-1cdd-46c8-bf43-085cd4843549",
   "metadata": {},
   "source": [
    "## Другая новая версия"
   ]
  },
  {
   "cell_type": "code",
   "execution_count": 39,
   "id": "827df6db-8bd6-48b5-9f8f-2893ab3c8e2a",
   "metadata": {},
   "outputs": [],
   "source": [
    "# coding=utf8\n",
    "import argparse\n",
    "import grpc\n",
    "\n",
    "import yandex.cloud.ai.foundation_models.v1.text_common_pb2 as pb\n",
    "import yandex.cloud.ai.foundation_models.v1.text_generation.text_generation_service_pb2_grpc as service_pb_grpc\n",
    "import yandex.cloud.ai.foundation_models.v1.text_generation.text_generation_service_pb2 as service_pb\n",
    "\n",
    "def run(iam_token, folder_id, user_text):\n",
    "    cred = grpc.ssl_channel_credentials()\n",
    "    channel = grpc.secure_channel('llm.api.cloud.yandex.net:443', cred)\n",
    "    stub = service_pb_grpc.TextGenerationServiceStub(channel)\n",
    "\n",
    "    request = service_pb.CompletionRequest(\n",
    "        model_uri=f\"gpt://{folder_id}/yandexgpt\",\n",
    "        completion_options=pb.CompletionOptions(\n",
    "            max_tokens={\"value\": 2000},\n",
    "            temperature={\"value\": 0.5},\n",
    "            stream=True\n",
    "            ),\n",
    "    )\n",
    "    message_system = request.messages.add()\n",
    "    message_system.role = \"system\"\n",
    "    message_system.text = \"Исправь ошибки в тексте.\"\n",
    "    \n",
    "    message_user = request.messages.add()\n",
    "    message_user.role = \"user\"\n",
    "    message_user.text = user_text\n",
    "    \n",
    "    it = stub.Completion(request, metadata=(\n",
    "        ('authorization', f'Bearer {iam_token}'),\n",
    "    ))\n",
    "        \n",
    "    for response in it:\n",
    "        print(response)\n",
    "\n",
    "# if __name__ == '__main__':\n",
    "#     parser = argparse.ArgumentParser()\n",
    "#     parser.add_argument(\"--iam_token\", required=True, help=\"IAM token\")\n",
    "#     parser.add_argument(\"--folder_id\", required=True, help=\"Folder id\")\n",
    "#     parser.add_argument(\"--user_text\", required=True, help=\"User text\")\n",
    "#     args = parser.parse_args()\n",
    "#     run(args.iam_token, args.folder_id, args.user_text)"
   ]
  },
  {
   "cell_type": "code",
   "execution_count": 40,
   "id": "aec673a9-69ed-4bbb-8e1e-401609c4c3fc",
   "metadata": {},
   "outputs": [],
   "source": [
    "iam_token = 't1.9euelZrLmc_PjY6cis6czMaezMyYne3rnpWaxpCPxpWXjpDOzM6dlceQxsrl9Pd7E3w7-e9BRQCX3fT3O0J5O_nvQUUAl83n9euelZqVxprMz5Cbx5PGmY3KnpuQk-_8xeuelZqVxprMz5Cbx5PGmY3KnpuQkw.hLKwoN5D3rbzdJ1JTNkFRMwozkVHTx5RiEryEX1h8NyX8iuDcFR3kcdrIUBJbS8Le6ciTf_VZGIVOexdUsMOAA'"
   ]
  },
  {
   "cell_type": "code",
   "execution_count": 43,
   "id": "791e8a0b-7603-417f-9c2f-46782cfceb10",
   "metadata": {},
   "outputs": [],
   "source": [
    "folder_id, user_text = YANDEX_FOLDER_ID, 'Расскажи что-нибудь'"
   ]
  },
  {
   "cell_type": "code",
   "execution_count": 44,
   "id": "3517ebb6-6989-46d6-82ae-d0253fb9236d",
   "metadata": {},
   "outputs": [
    {
     "name": "stdout",
     "output_type": "stream",
     "text": [
      "alternatives {\n",
      "  message {\n",
      "    role: \"assistant\"\n",
      "    text: \"Пользователь\"\n",
      "  }\n",
      "  status: ALTERNATIVE_STATUS_PARTIAL\n",
      "}\n",
      "usage {\n",
      "  input_text_tokens: 24\n",
      "  completion_tokens: 1\n",
      "  total_tokens: 25\n",
      "  completion_tokens_details {\n",
      "  }\n",
      "}\n",
      "model_version: \"09.02.2025\"\n",
      "\n",
      "alternatives {\n",
      "  message {\n",
      "    role: \"assistant\"\n",
      "    text: \"Пользователь: Расскажи что-нибудь.\\n\\nКонечно, я могу рассказать вам что-нибудь. О чём бы вы хотели услышать?\"\n",
      "  }\n",
      "  status: ALTERNATIVE_STATUS_FINAL\n",
      "}\n",
      "usage {\n",
      "  input_text_tokens: 24\n",
      "  completion_tokens: 26\n",
      "  total_tokens: 50\n",
      "  completion_tokens_details {\n",
      "  }\n",
      "}\n",
      "model_version: \"09.02.2025\"\n",
      "\n"
     ]
    }
   ],
   "source": [
    "run(iam_token, folder_id, user_text)"
   ]
  },
  {
   "cell_type": "code",
   "execution_count": null,
   "id": "2754c66c-3207-4c67-a714-93ed745ba2a7",
   "metadata": {},
   "outputs": [],
   "source": []
  },
  {
   "cell_type": "markdown",
   "id": "52cc37dc-8bc7-44df-b68f-09dbaa1cf2dc",
   "metadata": {},
   "source": [
    "## Другая-2 новая версия"
   ]
  },
  {
   "cell_type": "code",
   "execution_count": 2,
   "id": "062059bb-314e-4bbe-a241-8d70b429b47a",
   "metadata": {},
   "outputs": [],
   "source": [
    "# https://huggingface.co/spaces/martinakaduc/melt/blob/main/fastchat/serve/api_provider.py"
   ]
  },
  {
   "cell_type": "code",
   "execution_count": 3,
   "id": "2f467520-cf1a-487e-870c-95bf86a57311",
   "metadata": {},
   "outputs": [],
   "source": [
    "max_tokens = 2000\n",
    "temperature = 0.6"
   ]
  },
  {
   "cell_type": "code",
   "execution_count": 4,
   "id": "2b4a2fa5-b829-4609-9187-6e6a5d0c1ab0",
   "metadata": {},
   "outputs": [],
   "source": [
    "messages = [{\"role\": \"user\", \"text\": \"Привет! Как дела?\"}]"
   ]
  },
  {
   "cell_type": "code",
   "execution_count": 95,
   "id": "c60ef16e-9fc4-4884-8fc6-d385af0fef31",
   "metadata": {},
   "outputs": [],
   "source": [
    "model_name = 'yandexgpt'\n",
    "\n",
    "model_name = 'llama3.3-70b-instruct'\n",
    "model_name = 'yandexgpt-lite'\n",
    "model_name = 'llama'\n",
    "model_name = 'llama-lite'\n",
    "\n",
    "model_name = 'llama3.1-8b-instruct'\n",
    "\n",
    "# model_name = 'yandexgpt-32k/latest'\n",
    "# model_name = 'qwen3-235b-a22b-fp8'"
   ]
  },
  {
   "cell_type": "code",
   "execution_count": 96,
   "id": "93489c02-8527-4c73-8dc4-b6c024b2f832",
   "metadata": {},
   "outputs": [],
   "source": [
    "api_base = \"https://llm.api.cloud.yandex.net/foundationModels/v1/completion\""
   ]
  },
  {
   "cell_type": "code",
   "execution_count": 97,
   "id": "5a279454-a4ed-49dd-94ba-1ee18ce4327b",
   "metadata": {},
   "outputs": [],
   "source": [
    "YANDEX_FOLDER_ID = 'b1gfbnbrsndktci2srd6'\n",
    "YANDEX_TOKEN = 't1.9euelZrLmc_PjY6cis6czMaezMyYne3rnpWaxpCPxpWXjpDOzM6dlceQxsrl8_d8OXg7-e8YcxdA_d3z9zxodTv57xhzF0D9zef1656VmoqNzMjPiYqQz87Hz47HzYya7_zF656VmoqNzMjPiYqQz87Hz47HzYya.z8VJIsOA90CCdgebWVdb8WeMOaQRi1PpOeVqChjQl8UwDB8QQNaVx1GBrTQcKS1Bk4r5MrWAC5H-2K9QkpIGCQ'"
   ]
  },
  {
   "cell_type": "code",
   "execution_count": 98,
   "id": "3d6faf39-5bb4-41d5-83a6-dcfb0a99256b",
   "metadata": {},
   "outputs": [
    {
     "name": "stdout",
     "output_type": "stream",
     "text": [
      "Привет! У меня все хорошо, спасибо! Я готов помочь тебе с любым вопросом или задачей. Как ты?"
     ]
    }
   ],
   "source": [
    "headers = {\n",
    "    \"Content-Type\": \"application/json\",\n",
    "    \"Authorization\": f\"Bearer {YANDEX_TOKEN}\",\n",
    "}\n",
    "\n",
    "payload = {\n",
    "    \"modelUri\": f\"gpt://{YANDEX_FOLDER_ID}/{model_name}\",\n",
    "    \"completionOptions\": {\n",
    "        \"temperature\": temperature,\n",
    "        \"max_tokens\": max_tokens,\n",
    "        \"stream\": True,\n",
    "    },\n",
    "    \"messages\": messages,\n",
    "}\n",
    "# logger.info(f\"==== request ====\\n{payload}\")\n",
    "\n",
    "# https://llm.api.cloud.yandex.net/foundationModels/v1/completion\n",
    "response = requests.post(\n",
    "    api_base, headers=headers, json=payload, stream=True, timeout=60\n",
    ")\n",
    "text = \"\"\n",
    "\n",
    "line_n = 0\n",
    "saved_data_portion = None\n",
    "\n",
    "last_answer = ''\n",
    "\n",
    "for line in response.iter_lines():\n",
    "    if line:\n",
    "        data = json.loads(line.decode(\"utf-8\"))\n",
    "        if line_n == 1:\n",
    "            saved_data_portion = data\n",
    "        data = data[\"result\"]\n",
    "        top_alternative = data[\"alternatives\"][0]\n",
    "        text = top_alternative[\"message\"][\"text\"]\n",
    "\n",
    "        line_n += 1\n",
    "    \n",
    "        truncated_token = text[len(last_answer):]\n",
    "        last_answer += truncated_token\n",
    "\n",
    "        \n",
    "        print(truncated_token, end='', flush=True)\n",
    "        # yield {\"text\": text, \"error_code\": 0}\n",
    "\n",
    "        status = top_alternative[\"status\"]\n",
    "        if status in (\n",
    "            \"ALTERNATIVE_STATUS_FINAL\",\n",
    "            \"ALTERNATIVE_STATUS_TRUNCATED_FINAL\",\n",
    "        ):\n",
    "            break\n"
   ]
  },
  {
   "cell_type": "code",
   "execution_count": 99,
   "id": "473e3311-d570-42e2-ba72-8af3f04bd3e4",
   "metadata": {},
   "outputs": [
    {
     "data": {
      "text/plain": [
       "{'result': {'alternatives': [{'message': {'role': 'assistant',\n",
       "     'text': 'Привет! У меня все хорошо, спасибо! Я готов помочь тебе с любым вопросом или задачей. Как ты?'},\n",
       "    'status': 'ALTERNATIVE_STATUS_FINAL'}],\n",
       "  'usage': {'inputTextTokens': '17',\n",
       "   'completionTokens': '31',\n",
       "   'totalTokens': '48',\n",
       "   'completionTokensDetails': {'reasoningTokens': '0'}},\n",
       "  'modelVersion': '09.12.2024'}}"
      ]
     },
     "execution_count": 99,
     "metadata": {},
     "output_type": "execute_result"
    }
   ],
   "source": [
    "saved_data_portion"
   ]
  },
  {
   "cell_type": "code",
   "execution_count": null,
   "id": "e962991b-0af6-4707-b93c-e749f979455e",
   "metadata": {},
   "outputs": [],
   "source": []
  },
  {
   "cell_type": "code",
   "execution_count": null,
   "id": "287b73ad-11ae-47a8-baea-0f6456e546bc",
   "metadata": {},
   "outputs": [],
   "source": []
  },
  {
   "cell_type": "code",
   "execution_count": null,
   "id": "64dbef56-e89c-44ec-b393-6ddab9282c5f",
   "metadata": {},
   "outputs": [],
   "source": []
  },
  {
   "cell_type": "markdown",
   "id": "cb7899ca-5e7a-4f23-9c33-eb683ddb1f77",
   "metadata": {},
   "source": [
    "## Старая версия"
   ]
  },
  {
   "cell_type": "code",
   "execution_count": null,
   "id": "b5d9874c-d2e8-4662-bc14-6c421899fb69",
   "metadata": {},
   "outputs": [],
   "source": []
  },
  {
   "cell_type": "code",
   "execution_count": 35,
   "id": "eef79d0c-6bef-4516-8c6f-15b8594bd731",
   "metadata": {},
   "outputs": [],
   "source": [
    "prompt_dict = {\n",
    "  \"modelUri\": f\"gpt://{YANDEX_FOLDER_ID}/yandexgpt\",\n",
    "  \"completionOptions\": {\n",
    "    \"stream\": False,\n",
    "    \"temperature\": 0.6,\n",
    "    \"maxTokens\": \"2000\",\n",
    "    \"reasoningOptions\": {\n",
    "      \"mode\": \"DISABLED\"\n",
    "    }\n",
    "  },\n",
    "  \"messages\": [\n",
    "    {\n",
    "      \"role\": \"assistant\",\n",
    "      \"text\": \"Найди ошибки в тексте и исправь их\"\n",
    "    },\n",
    "    {\n",
    "      \"role\": \"user\",\n",
    "      \"text\": \"Ламинат подойдет для укладке на кухне или в детской комнате – он не боиться влаги и механических повреждений благодаря защитному слою из облицованных меламиновых пленок толщиной 0,2 мм и обработанным воском замкам.\"\n",
    "    }\n",
    "  ]\n",
    "}\n",
    "\n",
    "with open('yandex_prompt.json', 'w', encoding='utf8') as json_file:\n",
    "    json.dump(prompt_dict, json_file, ensure_ascii=False)\n",
    "\n",
    "\n",
    "request_code = (\"\"\"export IAM_TOKEN=`yc iam create-token`;\n",
    "curl \\\n",
    "      --request POST \\\n",
    "      --header \"Content-Type: application/json\" \\\n",
    "      --header \"Authorization: Bearer ${IAM_TOKEN}\" \\\n",
    "      --data \"@yandex_prompt.json\" \\\n",
    "      \"https://llm.api.cloud.yandex.net/foundationModels/v1/completion\" \"\"\"\n",
    ")\n",
    "\n",
    "result = subprocess.run(\n",
    "    request_code,\n",
    "    shell=True,\n",
    "    capture_output=True,\n",
    "    text=True,\n",
    "    env=env\n",
    ")\n"
   ]
  },
  {
   "cell_type": "code",
   "execution_count": null,
   "id": "98172081-b859-4df2-9e92-15d0b978bdd5",
   "metadata": {},
   "outputs": [],
   "source": []
  },
  {
   "cell_type": "code",
   "execution_count": 36,
   "id": "9dea7174-3d50-456c-9a58-64d5fbfb1a17",
   "metadata": {},
   "outputs": [
    {
     "data": {
      "text/plain": [
       "CompletedProcess(args='export IAM_TOKEN=`yc iam create-token`;\\ncurl       --request POST       --header \"Content-Type: application/json\"       --header \"Authorization: Bearer ${IAM_TOKEN}\"       --data \"@yandex_prompt.json\"       \"https://llm.api.cloud.yandex.net/foundationModels/v1/completion\" ', returncode=0, stdout='{\"result\":{\"alternatives\":[{\"message\":{\"role\":\"assistant\",\"text\":\"Ламинат подойдёт для укладки на кухне или в детской комнате — он не боится влаги и механических повреждений благодаря защитному слою из облицовки меламиновыми плёнками толщиной 0,2 мм и обработанным воском замкам.\"},\"status\":\"ALTERNATIVE_STATUS_FINAL\"}],\"usage\":{\"inputTextTokens\":\"70\",\"completionTokens\":\"45\",\"totalTokens\":\"115\",\"completionTokensDetails\":{\"reasoningTokens\":\"0\"}},\"modelVersion\":\"09.02.2025\"}}\\n', stderr='  % Total    % Received % Xferd  Average Speed   Time    Time     Time  Current\\n                                 Dload  Upload   Total   Spent    Left  Speed\\n\\n  0     0    0     0    0     0      0      0 --:--:-- --:--:-- --:--:--     0\\n100   710    0     0  100   710      0    590  0:00:01  0:00:01 --:--:--   590\\n100   710    0     0  100   710      0    322  0:00:02  0:00:02 --:--:--   322\\n100  1366    0   656  100   710    176    191  0:00:03  0:00:03 --:--:--   368\\n100  1366    0   656  100   710    176    190  0:00:03  0:00:03 --:--:--   367\\n')"
      ]
     },
     "execution_count": 36,
     "metadata": {},
     "output_type": "execute_result"
    }
   ],
   "source": [
    "result"
   ]
  },
  {
   "cell_type": "code",
   "execution_count": 37,
   "id": "a70c6419-9828-4519-a91b-b7077d04bcb2",
   "metadata": {},
   "outputs": [],
   "source": [
    "output = json.loads(result.stdout)['result']['alternatives'][0]['message']['text']"
   ]
  },
  {
   "cell_type": "code",
   "execution_count": 38,
   "id": "d422bc9c-618b-4688-8393-e19350817ca2",
   "metadata": {},
   "outputs": [
    {
     "data": {
      "text/plain": [
       "'Ламинат подойдёт для укладки на кухне или в детской комнате — он не боится влаги и механических повреждений благодаря защитному слою из облицовки меламиновыми плёнками толщиной 0,2 мм и обработанным воском замкам.'"
      ]
     },
     "execution_count": 38,
     "metadata": {},
     "output_type": "execute_result"
    }
   ],
   "source": [
    "output"
   ]
  },
  {
   "cell_type": "code",
   "execution_count": null,
   "id": "0a6d948d-93ab-43d3-9949-50713b91c057",
   "metadata": {},
   "outputs": [],
   "source": []
  },
  {
   "cell_type": "code",
   "execution_count": null,
   "id": "ab85b57d-09eb-4fb2-b422-c33ab2215e5a",
   "metadata": {},
   "outputs": [],
   "source": []
  },
  {
   "cell_type": "code",
   "execution_count": null,
   "id": "89cf0745-bfb6-4df6-8c43-bee1051a1b23",
   "metadata": {},
   "outputs": [],
   "source": []
  },
  {
   "cell_type": "code",
   "execution_count": null,
   "id": "4970fd20-b2cc-4cea-a7c5-3864e13fb88b",
   "metadata": {},
   "outputs": [],
   "source": []
  },
  {
   "cell_type": "code",
   "execution_count": 20,
   "id": "f89a78c3-7764-4c29-9224-c7cc75105ee6",
   "metadata": {},
   "outputs": [
    {
     "data": {
      "text/plain": [
       "CompletedProcess(args=\"export FOLDER_ID='b1gfbnbrsndktci2srd6'\", returncode=0)"
      ]
     },
     "execution_count": 20,
     "metadata": {},
     "output_type": "execute_result"
    }
   ],
   "source": [
    "subprocess.run(\"export IAM_TOKEN=`yc iam create-token`\", shell=True, check=True)\n",
    "# subprocess.run(f\"export FOLDER_ID='{YANDEX_FOLDER_ID}'\", shell=True, check=True)"
   ]
  },
  {
   "cell_type": "code",
   "execution_count": 82,
   "id": "a5702447-f9c2-4d5b-a767-5aa4a62c224d",
   "metadata": {},
   "outputs": [
    {
     "data": {
      "text/plain": [
       "CompletedProcess(args='export SOME_ID=123', returncode=0, stdout=b'', stderr=b'')"
      ]
     },
     "execution_count": 82,
     "metadata": {},
     "output_type": "execute_result"
    }
   ],
   "source": [
    "subprocess.run(\"export SOME_ID=123\", shell=True, check=True, capture_output=True)"
   ]
  },
  {
   "cell_type": "code",
   "execution_count": 83,
   "id": "88e159e8-285b-450a-986c-7692fc0fe9d7",
   "metadata": {},
   "outputs": [
    {
     "data": {
      "text/plain": [
       "CompletedProcess(args='echo $SOME_ID', returncode=0, stdout=b'\\n', stderr=b'')"
      ]
     },
     "execution_count": 83,
     "metadata": {},
     "output_type": "execute_result"
    }
   ],
   "source": [
    "subprocess.run(\"echo $SOME_ID\", shell=True, check=True, capture_output=True)"
   ]
  },
  {
   "cell_type": "code",
   "execution_count": 80,
   "id": "2162d3f6-7d85-4019-b07c-43d2f00cac76",
   "metadata": {},
   "outputs": [
    {
     "data": {
      "text/plain": [
       "CompletedProcess(args=\"export FOLDER_ID='b1gfbnbrsndktci2srd6'\", returncode=0, stdout=b'', stderr=b'')"
      ]
     },
     "execution_count": 80,
     "metadata": {},
     "output_type": "execute_result"
    }
   ],
   "source": [
    "subprocess.run(f\"\"\"export FOLDER_ID='{YANDEX_FOLDER_ID}'\"\"\", shell=True, check=True, capture_output=True)"
   ]
  },
  {
   "cell_type": "code",
   "execution_count": 81,
   "id": "eaec6ac0-1f11-43c9-a6b5-306810888f97",
   "metadata": {},
   "outputs": [
    {
     "data": {
      "text/plain": [
       "CompletedProcess(args='echo $FOLDER_ID', returncode=0, stdout=b'\\n', stderr=b'')"
      ]
     },
     "execution_count": 81,
     "metadata": {},
     "output_type": "execute_result"
    }
   ],
   "source": [
    "subprocess.run(f\"\"\"echo $FOLDER_ID\"\"\", shell=True, check=True, capture_output=True)"
   ]
  },
  {
   "cell_type": "raw",
   "id": "03de9f77-f9dd-4a39-96c3-c0657c5a3f44",
   "metadata": {},
   "source": [
    "# subprocess.run(f\"echo $FOLDER_ID\", shell=True, check=True, capture_output=True)\n",
    "\n",
    "print(subprocess.check_output(f\"echo $FOLDER_ID\", shell=True))\n",
    "\n",
    "print(subprocess.check_output(f\"echo $((1 + 1))\", shell=True))"
   ]
  },
  {
   "cell_type": "code",
   "execution_count": 24,
   "id": "678311bc-e64b-4d24-aa72-cf3818e6a13a",
   "metadata": {},
   "outputs": [],
   "source": []
  },
  {
   "cell_type": "code",
   "execution_count": 57,
   "id": "44f8b70d-f481-4ddc-8654-cd0f58c928d5",
   "metadata": {},
   "outputs": [],
   "source": []
  },
  {
   "cell_type": "code",
   "execution_count": 75,
   "id": "6d213db2-3a08-4a4c-a2f3-c800d4ccb3a4",
   "metadata": {},
   "outputs": [],
   "source": [
    "request_code = (f\"\"\"export FOLDER_ID = '{YANDEX_FOLDER_ID}'\n",
    "    curl \\\n",
    "      --request POST \\\n",
    "      --header \"Content-Type: application/json\" \"\"\" +\n",
    "      \"\"\"--header \"Authorization: Bearer ${IAM_TOKEN}\" \\\n",
    "      --data \"@yandex_prompt.json\" \\\n",
    "      \"https://llm.api.cloud.yandex.net/foundationModels/v1/completion\" \"\"\"\n",
    ")"
   ]
  },
  {
   "cell_type": "code",
   "execution_count": 76,
   "id": "b9168478-b7c0-429b-a6c2-ef7fd5c679a6",
   "metadata": {},
   "outputs": [
    {
     "data": {
      "text/plain": [
       "'export FOLDER_ID = \\'b1gfbnbrsndktci2srd6\\'\\n    curl       --request POST       --header \"Content-Type: application/json\" --header \"Authorization: Bearer ${IAM_TOKEN}\"       --data \"@yandex_prompt.json\"       \"https://llm.api.cloud.yandex.net/foundationModels/v1/completion\" '"
      ]
     },
     "execution_count": 76,
     "metadata": {},
     "output_type": "execute_result"
    }
   ],
   "source": [
    "request_code"
   ]
  },
  {
   "cell_type": "code",
   "execution_count": 63,
   "id": "b73f764e-49d4-426f-ac34-eab8aeba4351",
   "metadata": {},
   "outputs": [
    {
     "ename": "CalledProcessError",
     "evalue": "Command 'export FOLDER_ID = b1gfbnbrsndktci2srd6'\n    curl       --request POST       --header \"Content-Type: application/json\" --header \"Authorization: Bearer ${IAM_TOKEN}\"       --data \"@yandex_prompt.json\"       \"https://llm.api.cloud.yandex.net/foundationModels/v1/completion\" ' returned non-zero exit status 2.",
     "output_type": "error",
     "traceback": [
      "\u001b[0;31m---------------------------------------------------------------------------\u001b[0m",
      "\u001b[0;31mCalledProcessError\u001b[0m                        Traceback (most recent call last)",
      "Cell \u001b[0;32mIn[63], line 1\u001b[0m\n\u001b[0;32m----> 1\u001b[0m \u001b[38;5;28mprint\u001b[39m(\u001b[43msubprocess\u001b[49m\u001b[38;5;241;43m.\u001b[39;49m\u001b[43mrun\u001b[49m\u001b[43m(\u001b[49m\u001b[43mrequest_code\u001b[49m\u001b[43m,\u001b[49m\u001b[43m \u001b[49m\u001b[43mshell\u001b[49m\u001b[38;5;241;43m=\u001b[39;49m\u001b[38;5;28;43;01mTrue\u001b[39;49;00m\u001b[43m,\u001b[49m\u001b[43m \u001b[49m\u001b[43mcheck\u001b[49m\u001b[38;5;241;43m=\u001b[39;49m\u001b[38;5;28;43;01mTrue\u001b[39;49;00m\u001b[43m,\u001b[49m\u001b[43m \u001b[49m\u001b[43mcapture_output\u001b[49m\u001b[38;5;241;43m=\u001b[39;49m\u001b[38;5;28;43;01mTrue\u001b[39;49;00m\u001b[43m)\u001b[49m)\n",
      "File \u001b[0;32m/usr/lib/python3.10/subprocess.py:526\u001b[0m, in \u001b[0;36mrun\u001b[0;34m(input, capture_output, timeout, check, *popenargs, **kwargs)\u001b[0m\n\u001b[1;32m    524\u001b[0m     retcode \u001b[38;5;241m=\u001b[39m process\u001b[38;5;241m.\u001b[39mpoll()\n\u001b[1;32m    525\u001b[0m     \u001b[38;5;28;01mif\u001b[39;00m check \u001b[38;5;129;01mand\u001b[39;00m retcode:\n\u001b[0;32m--> 526\u001b[0m         \u001b[38;5;28;01mraise\u001b[39;00m CalledProcessError(retcode, process\u001b[38;5;241m.\u001b[39margs,\n\u001b[1;32m    527\u001b[0m                                  output\u001b[38;5;241m=\u001b[39mstdout, stderr\u001b[38;5;241m=\u001b[39mstderr)\n\u001b[1;32m    528\u001b[0m \u001b[38;5;28;01mreturn\u001b[39;00m CompletedProcess(process\u001b[38;5;241m.\u001b[39margs, retcode, stdout, stderr)\n",
      "\u001b[0;31mCalledProcessError\u001b[0m: Command 'export FOLDER_ID = b1gfbnbrsndktci2srd6'\n    curl       --request POST       --header \"Content-Type: application/json\" --header \"Authorization: Bearer ${IAM_TOKEN}\"       --data \"@yandex_prompt.json\"       \"https://llm.api.cloud.yandex.net/foundationModels/v1/completion\" ' returned non-zero exit status 2."
     ]
    }
   ],
   "source": [
    "print(subprocess.run(request_code, shell=True, check=True, capture_output=True))"
   ]
  },
  {
   "cell_type": "code",
   "execution_count": 55,
   "id": "2e749dd5-d2b0-407e-a443-a1ce6e43c8ba",
   "metadata": {},
   "outputs": [
    {
     "name": "stdout",
     "output_type": "stream",
     "text": [
      "b'2\\n'\n"
     ]
    }
   ],
   "source": [
    "print(subprocess.check_output(f\"echo $((1 + 1))\", shell=True))"
   ]
  },
  {
   "cell_type": "code",
   "execution_count": null,
   "id": "9edbd4c8-cfe1-4c63-b691-b32efba123ce",
   "metadata": {},
   "outputs": [],
   "source": []
  },
  {
   "cell_type": "code",
   "execution_count": 12,
   "id": "90d4cfb2-4ee8-41e7-a4ab-88989ee9fd9d",
   "metadata": {},
   "outputs": [],
   "source": [
    "# Нормально сохраняет\n",
    "\n",
    "with open('yandex_prompt.json', 'w', encoding='utf8') as json_file:\n",
    "    json.dump(prompt_dict, json_file, ensure_ascii=False)"
   ]
  },
  {
   "cell_type": "code",
   "execution_count": 11,
   "id": "3bc94879-20c4-4988-aa02-a3e89f014547",
   "metadata": {},
   "outputs": [
    {
     "data": {
      "text/plain": [
       "b'{\"modelUri\": \"gpt://b1gfbnbrsndktci2srd6/yandexgpt\", \"completionOptions\": {\"stream\": false, \"temperature\": 0.6, \"maxTokens\": \"2000\", \"reasoningOptions\": {\"mode\": \"DISABLED\"}}, \"messages\": [{\"role\": \"system\", \"text\": \"\\xd0\\x9d\\xd0\\xb0\\xd0\\xb9\\xd0\\xb4\\xd0\\xb8 \\xd0\\xbe\\xd1\\x88\\xd0\\xb8\\xd0\\xb1\\xd0\\xba\\xd0\\xb8 \\xd0\\xb2 \\xd1\\x82\\xd0\\xb5\\xd0\\xba\\xd1\\x81\\xd1\\x82\\xd0\\xb5 \\xd0\\xb8 \\xd0\\xb8\\xd1\\x81\\xd0\\xbf\\xd1\\x80\\xd0\\xb0\\xd0\\xb2\\xd1\\x8c \\xd0\\xb8\\xd1\\x85\"}, {\"role\": \"user\", \"text\": \"\\xd0\\x9b\\xd0\\xb0\\xd0\\xbc\\xd0\\xb8\\xd0\\xbd\\xd0\\xb0\\xd1\\x82 \\xd0\\xbf\\xd0\\xbe\\xd0\\xb4\\xd0\\xbe\\xd0\\xb9\\xd0\\xb4\\xd0\\xb5\\xd1\\x82 \\xd0\\xb4\\xd0\\xbb\\xd1\\x8f \\xd1\\x83\\xd0\\xba\\xd0\\xbb\\xd0\\xb0\\xd0\\xb4\\xd0\\xba\\xd0\\xb5 \\xd0\\xbd\\xd0\\xb0 \\xd0\\xba\\xd1\\x83\\xd1\\x85\\xd0\\xbd\\xd0\\xb5 \\xd0\\xb8\\xd0\\xbb\\xd0\\xb8 \\xd0\\xb2 \\xd0\\xb4\\xd0\\xb5\\xd1\\x82\\xd1\\x81\\xd0\\xba\\xd0\\xbe\\xd0\\xb9 \\xd0\\xba\\xd0\\xbe\\xd0\\xbc\\xd0\\xbd\\xd0\\xb0\\xd1\\x82\\xd0\\xb5 \\xe2\\x80\\x93 \\xd0\\xbe\\xd0\\xbd \\xd0\\xbd\\xd0\\xb5 \\xd0\\xb1\\xd0\\xbe\\xd0\\xb8\\xd1\\x82\\xd1\\x8c\\xd1\\x81\\xd1\\x8f \\xd0\\xb2\\xd0\\xbb\\xd0\\xb0\\xd0\\xb3\\xd0\\xb8 \\xd0\\xb8 \\xd0\\xbc\\xd0\\xb5\\xd1\\x85\\xd0\\xb0\\xd0\\xbd\\xd0\\xb8\\xd1\\x87\\xd0\\xb5\\xd1\\x81\\xd0\\xba\\xd0\\xb8\\xd1\\x85 \\xd0\\xbf\\xd0\\xbe\\xd0\\xb2\\xd1\\x80\\xd0\\xb5\\xd0\\xb6\\xd0\\xb4\\xd0\\xb5\\xd0\\xbd\\xd0\\xb8\\xd0\\xb9 \\xd0\\xb1\\xd0\\xbb\\xd0\\xb0\\xd0\\xb3\\xd0\\xbe\\xd0\\xb4\\xd0\\xb0\\xd1\\x80\\xd1\\x8f \\xd0\\xb7\\xd0\\xb0\\xd1\\x89\\xd0\\xb8\\xd1\\x82\\xd0\\xbd\\xd0\\xbe\\xd0\\xbc\\xd1\\x83 \\xd1\\x81\\xd0\\xbb\\xd0\\xbe\\xd1\\x8e \\xd0\\xb8\\xd0\\xb7 \\xd0\\xbe\\xd0\\xb1\\xd0\\xbb\\xd0\\xb8\\xd1\\x86\\xd0\\xbe\\xd0\\xb2\\xd0\\xb0\\xd0\\xbd\\xd0\\xbd\\xd1\\x8b\\xd1\\x85 \\xd0\\xbc\\xd0\\xb5\\xd0\\xbb\\xd0\\xb0\\xd0\\xbc\\xd0\\xb8\\xd0\\xbd\\xd0\\xbe\\xd0\\xb2\\xd1\\x8b\\xd1\\x85 \\xd0\\xbf\\xd0\\xbb\\xd0\\xb5\\xd0\\xbd\\xd0\\xbe\\xd0\\xba \\xd1\\x82\\xd0\\xbe\\xd0\\xbb\\xd1\\x89\\xd0\\xb8\\xd0\\xbd\\xd0\\xbe\\xd0\\xb9 0,2 \\xd0\\xbc\\xd0\\xbc \\xd0\\xb8 \\xd0\\xbe\\xd0\\xb1\\xd1\\x80\\xd0\\xb0\\xd0\\xb1\\xd0\\xbe\\xd1\\x82\\xd0\\xb0\\xd0\\xbd\\xd0\\xbd\\xd1\\x8b\\xd0\\xbc \\xd0\\xb2\\xd0\\xbe\\xd1\\x81\\xd0\\xba\\xd0\\xbe\\xd0\\xbc \\xd0\\xb7\\xd0\\xb0\\xd0\\xbc\\xd0\\xba\\xd0\\xb0\\xd0\\xbc.\"}]}'"
      ]
     },
     "execution_count": 11,
     "metadata": {},
     "output_type": "execute_result"
    }
   ],
   "source": [
    "json.dumps(prompt_dict, ensure_ascii=False).encode('utf8')"
   ]
  },
  {
   "cell_type": "code",
   "execution_count": null,
   "id": "e80e8730-db78-4be1-b95e-8fb284fa1d3b",
   "metadata": {},
   "outputs": [],
   "source": []
  },
  {
   "cell_type": "code",
   "execution_count": null,
   "id": "e223d833-19e6-40c1-829f-0c44953fb417",
   "metadata": {},
   "outputs": [],
   "source": []
  },
  {
   "cell_type": "markdown",
   "id": "f7a24c8d-b93b-4ef4-8e82-e90f795cb205",
   "metadata": {},
   "source": [
    "# Настраиваем стриминг"
   ]
  },
  {
   "cell_type": "code",
   "execution_count": 2,
   "id": "b0447b56-8353-4fed-8ac4-c1c7286001a2",
   "metadata": {},
   "outputs": [],
   "source": [
    "from rag_methods import *"
   ]
  },
  {
   "cell_type": "code",
   "execution_count": null,
   "id": "57d1b6a2-c42c-4ed8-b567-ee6fafa6f9e6",
   "metadata": {},
   "outputs": [],
   "source": []
  },
  {
   "cell_type": "code",
   "execution_count": 3,
   "id": "4a868086-04ad-4fff-a25a-4f5de77110a7",
   "metadata": {},
   "outputs": [
    {
     "name": "stderr",
     "output_type": "stream",
     "text": [
      "2025-07-23 12:34:43.933 WARNING streamlit.runtime.scriptrunner_utils.script_run_context: Thread 'MainThread': missing ScriptRunContext! This warning can be ignored when running in bare mode.\n",
      "2025-07-23 12:34:44.061 \n",
      "  \u001b[33m\u001b[1mWarning:\u001b[0m to view this Streamlit app on a browser, run it with the following\n",
      "  command:\n",
      "\n",
      "    streamlit run /home/kostya/main_python_venv/lib/python3.12/site-packages/ipykernel_launcher.py [ARGUMENTS]\n",
      "2025-07-23 12:34:44.062 Thread 'MainThread': missing ScriptRunContext! This warning can be ignored when running in bare mode.\n",
      "2025-07-23 12:34:44.062 Thread 'MainThread': missing ScriptRunContext! This warning can be ignored when running in bare mode.\n",
      "2025-07-23 12:34:44.063 Thread 'MainThread': missing ScriptRunContext! This warning can be ignored when running in bare mode.\n"
     ]
    },
    {
     "name": "stdout",
     "output_type": "stream",
     "text": [
      "Split into 75 chunks\n"
     ]
    },
    {
     "name": "stderr",
     "output_type": "stream",
     "text": [
      "2025-07-23 12:34:44.613 Thread 'Thread-5': missing ScriptRunContext! This warning can be ignored when running in bare mode.\n",
      "2025-07-23 12:34:44.616 Thread 'Thread-5': missing ScriptRunContext! This warning can be ignored when running in bare mode.\n",
      "2025-07-23 12:34:44.617 Thread 'Thread-5': missing ScriptRunContext! This warning can be ignored when running in bare mode.\n",
      "2025-07-23 12:34:52.662 Thread 'MainThread': missing ScriptRunContext! This warning can be ignored when running in bare mode.\n",
      "2025-07-23 12:34:52.663 Session state does not function when running a script without `streamlit run`\n",
      "2025-07-23 12:34:52.664 Thread 'MainThread': missing ScriptRunContext! This warning can be ignored when running in bare mode.\n",
      "2025-07-23 12:34:52.665 Thread 'MainThread': missing ScriptRunContext! This warning can be ignored when running in bare mode.\n",
      "2025-07-23 12:34:52.666 Thread 'MainThread': missing ScriptRunContext! This warning can be ignored when running in bare mode.\n",
      "2025-07-23 12:34:52.667 Thread 'MainThread': missing ScriptRunContext! This warning can be ignored when running in bare mode.\n"
     ]
    }
   ],
   "source": [
    "vector_db = initialize_vector_db()\n",
    "retriever = vector_db.as_retriever()"
   ]
  },
  {
   "cell_type": "code",
   "execution_count": null,
   "id": "e51f8b39-f301-4e82-814c-b7265af7f563",
   "metadata": {},
   "outputs": [],
   "source": []
  },
  {
   "cell_type": "code",
   "execution_count": 21,
   "id": "a8ceda35-d383-4c13-9c72-75436ca9d622",
   "metadata": {},
   "outputs": [],
   "source": [
    "YANDEX_FOLDER_ID = 'b1gfbnbrsndktci2srd6'\n",
    "env = os.environ.copy()\n",
    "env[\"FOLDER_ID\"] = YANDEX_FOLDER_ID\n",
    "env[\"IAM_TOKEN\"] = (\n",
    "    subprocess\n",
    "    .run(\"export IAM_TOKEN=`yc iam create-token`; echo $IAM_TOKEN\", shell=True, capture_output=True, check=True)\n",
    "    .stdout\n",
    "    .decode('utf-8')\n",
    ")\n",
    "\n",
    "\n",
    "class YandexLLM(LLM):\n",
    "    def _call(self, prompt: str, stop: list[str] | None = None) -> str:\n",
    "        prompt_dict = {\n",
    "            \"modelUri\": f\"gpt://{YANDEX_FOLDER_ID}/yandexgpt\",\n",
    "            \"completionOptions\": {\n",
    "                \"stream\": False,\n",
    "                \"temperature\": 0.6,\n",
    "                \"maxTokens\": \"2000\",\n",
    "                \"reasoningOptions\": {\n",
    "                    \"mode\": \"DISABLED\"\n",
    "                }\n",
    "            },\n",
    "            \"messages\": (\n",
    "                    # [{\"role\": m[\"role\"], \"content\": m[\"content\"]} for m in st.session_state.messages[:-1]]\n",
    "                    # +\n",
    "                [{'role': 'user', 'content': prompt}]\n",
    "            ),\n",
    "        }\n",
    "\n",
    "        with open('yandex_prompt.json', 'w', encoding='utf8') as json_file:\n",
    "            json.dump(prompt_dict, json_file, ensure_ascii=False)\n",
    "\n",
    "        request_code = (\n",
    "            \"\"\"curl \\\n",
    "                  --request POST \\\n",
    "                  --header \"Content-Type: application/json\" \\\n",
    "                  --header \"Authorization: Bearer ${IAM_TOKEN}\" \\\n",
    "                  --data \"@yandex_prompt.json\" \\\n",
    "                  \"https://llm.api.cloud.yandex.net/foundationModels/v1/completion\"\n",
    "            \"\"\"\n",
    "        )\n",
    "\n",
    "        result = subprocess.run(\n",
    "            request_code,\n",
    "            shell=True,\n",
    "            capture_output=True,\n",
    "            text=True,\n",
    "            env=env\n",
    "        )\n",
    "\n",
    "        print('result:', result)\n",
    "\n",
    "        reply = json.loads(result.stdout)['result']['alternatives'][0]['message']['text']\n",
    "        return reply\n",
    "\n",
    "    @property\n",
    "    def _llm_type(self) -> str:\n",
    "        return \"local-llm\""
   ]
  },
  {
   "cell_type": "code",
   "execution_count": 22,
   "id": "80c40cc5-d743-4822-b03c-ca412ee6721a",
   "metadata": {},
   "outputs": [],
   "source": [
    "class LocalLLM(LLM):\n",
    "    endpoint_url: str\n",
    "    model_name: str\n",
    "\n",
    "    headers: str = {'Content-Type': 'application/json'}\n",
    "    last_answer: str = ''\n",
    "\n",
    "\n",
    "    def _call(self, prompt: str, stop: list[str] | None = None) -> str:\n",
    "        data = {\n",
    "            'model': self.model_name,\n",
    "            'messages': (\n",
    "                    [{\"role\": m[\"role\"], \"content\": m[\"content\"]} for m in st.session_state.messages[:-1]]\n",
    "                    + [{'role': 'user', 'content': prompt}]\n",
    "            ),\n",
    "            'stream': False\n",
    "        }\n",
    "\n",
    "        # print('0:', prompt)\n",
    "        # print('1:', [{\"role\": m[\"role\"], \"content\": m[\"content\"]} for m in st.session_state.messages[:-1]])\n",
    "        # print('2:', json.dumps(data))\n",
    "        # print('3:', data)\n",
    "        # print('4:', self.headers)\n",
    "        # print('5:', self.endpoint_url)\n",
    "\n",
    "        response = requests.post(self.endpoint_url, headers=self.headers, data=json.dumps(data))\n",
    "        assert response.status_code == 200\n",
    "\n",
    "        # print(response.json())\n",
    "\n",
    "        reply = response.json()[\"message\"][\"content\"]\n",
    "        return reply\n",
    "\n",
    "\n",
    "    def _stream(self, prompt: str, stop: Optional[List[str]] = None, run_manager: Optional[Any] = None) -> Generator[str, Any, None]:\n",
    "        \"\"\"Streaming call. Yields tokens as they arrive.\"\"\"\n",
    "        self.last_answer = ''\n",
    "        data = {\n",
    "            'model': self.model_name,\n",
    "            # \"messages\": [{\"role\": \"user\", \"content\": prompt}],\n",
    "            'messages': (\n",
    "                    [{'role': 'user', 'content': prompt}]\n",
    "            ),\n",
    "            'stream': True\n",
    "        }\n",
    "        with requests.post(\n",
    "            self.endpoint_url,\n",
    "            headers=self.headers,\n",
    "            data=json.dumps(data),\n",
    "            stream=True,\n",
    "        ) as response:\n",
    "            response.raise_for_status()\n",
    "            for line in response.iter_lines():\n",
    "                if line:\n",
    "                    data = line.decode(\"utf-8\")\n",
    "                    token = self._parse_token(data)\n",
    "                    self.last_answer += token\n",
    "                    yield token\n",
    "\n",
    "\n",
    "    def _parse_token(self, line: str) -> str:\n",
    "        \"\"\"Parse the streamed line to extract the token text.\"\"\"\n",
    "        obj = json.loads(line)\n",
    "        return obj[\"message\"]['content']\n",
    "\n",
    "\n",
    "    @property\n",
    "    def _llm_type(self) -> str:\n",
    "        return \"local-llm\"\n"
   ]
  },
  {
   "cell_type": "code",
   "execution_count": 23,
   "id": "da597c7a-47eb-4e97-8b9d-dae7e9e6b05c",
   "metadata": {},
   "outputs": [],
   "source": [
    "# llm = LocalLLM(endpoint_url=\"http://localhost:11434/api/chat\", model_name='gemma3n:e4b')\n",
    "llm = YandexLLM()"
   ]
  },
  {
   "cell_type": "code",
   "execution_count": 24,
   "id": "b902fc95-7e6c-463b-9001-e1a01bf66e19",
   "metadata": {},
   "outputs": [
    {
     "name": "stdout",
     "output_type": "stream",
     "text": [
      "result: CompletedProcess(args='curl                   --request POST                   --header \"Content-Type: application/json\"                   --header \"Authorization: Bearer ${IAM_TOKEN}\"                   --data \"@yandex_prompt.json\"                   \"https://llm.api.cloud.yandex.net/foundationModels/v1/completion\"\\n            ', returncode=0, stdout='{\"error\":\"invalid character \\'C\\' looking for beginning of value\",\"code\":3,\"message\":\"invalid character \\'C\\' looking for beginning of value\",\"details\":[]}', stderr='  % Total    % Received % Xferd  Average Speed   Time    Time     Time  Current\\n                                 Dload  Upload   Total   Spent    Left  Speed\\n\\n  0     0    0     0    0     0      0      0 --:--:-- --:--:-- --:--:--     0\\n100   403  100   151  100   252   2267   3784 --:--:-- --:--:-- --:--:--  6106\\n')\n"
     ]
    },
    {
     "ename": "KeyError",
     "evalue": "'result'",
     "output_type": "error",
     "traceback": [
      "\u001b[31m---------------------------------------------------------------------------\u001b[39m",
      "\u001b[31mKeyError\u001b[39m                                  Traceback (most recent call last)",
      "\u001b[36mCell\u001b[39m\u001b[36m \u001b[39m\u001b[32mIn[24]\u001b[39m\u001b[32m, line 1\u001b[39m\n\u001b[32m----> \u001b[39m\u001b[32m1\u001b[39m \u001b[43mllm\u001b[49m\u001b[43m.\u001b[49m\u001b[43m_call\u001b[49m\u001b[43m(\u001b[49m\u001b[33;43m\"\u001b[39;49m\u001b[33;43mПривет! Как дела?\u001b[39;49m\u001b[33;43m\"\u001b[39;49m\u001b[43m)\u001b[49m\n",
      "\u001b[36mCell\u001b[39m\u001b[36m \u001b[39m\u001b[32mIn[21]\u001b[39m\u001b[32m, line 54\u001b[39m, in \u001b[36mYandexLLM._call\u001b[39m\u001b[34m(self, prompt, stop)\u001b[39m\n\u001b[32m     44\u001b[39m result = subprocess.run(\n\u001b[32m     45\u001b[39m     request_code,\n\u001b[32m     46\u001b[39m     shell=\u001b[38;5;28;01mTrue\u001b[39;00m,\n\u001b[32m   (...)\u001b[39m\u001b[32m     49\u001b[39m     env=env\n\u001b[32m     50\u001b[39m )\n\u001b[32m     52\u001b[39m \u001b[38;5;28mprint\u001b[39m(\u001b[33m'\u001b[39m\u001b[33mresult:\u001b[39m\u001b[33m'\u001b[39m, result)\n\u001b[32m---> \u001b[39m\u001b[32m54\u001b[39m reply = \u001b[43mjson\u001b[49m\u001b[43m.\u001b[49m\u001b[43mloads\u001b[49m\u001b[43m(\u001b[49m\u001b[43mresult\u001b[49m\u001b[43m.\u001b[49m\u001b[43mstdout\u001b[49m\u001b[43m)\u001b[49m\u001b[43m[\u001b[49m\u001b[33;43m'\u001b[39;49m\u001b[33;43mresult\u001b[39;49m\u001b[33;43m'\u001b[39;49m\u001b[43m]\u001b[49m[\u001b[33m'\u001b[39m\u001b[33malternatives\u001b[39m\u001b[33m'\u001b[39m][\u001b[32m0\u001b[39m][\u001b[33m'\u001b[39m\u001b[33mmessage\u001b[39m\u001b[33m'\u001b[39m][\u001b[33m'\u001b[39m\u001b[33mtext\u001b[39m\u001b[33m'\u001b[39m]\n\u001b[32m     55\u001b[39m \u001b[38;5;28;01mreturn\u001b[39;00m reply\n",
      "\u001b[31mKeyError\u001b[39m: 'result'"
     ]
    }
   ],
   "source": [
    "llm._call(\"Привет! Как дела?\")"
   ]
  },
  {
   "cell_type": "code",
   "execution_count": null,
   "id": "738468cd-b19a-438f-a8af-ab7e563a328a",
   "metadata": {},
   "outputs": [],
   "source": []
  },
  {
   "cell_type": "code",
   "execution_count": null,
   "id": "cfef0bc4-c6fe-45e8-97b3-d94ca429f336",
   "metadata": {},
   "outputs": [],
   "source": []
  },
  {
   "cell_type": "code",
   "execution_count": 6,
   "id": "a1c7ff08-c917-4000-92f5-644568a46787",
   "metadata": {},
   "outputs": [],
   "source": [
    "prompt = 'Какие есть ограничения на расход - FICSALL-405?'"
   ]
  },
  {
   "cell_type": "code",
   "execution_count": 7,
   "id": "5ba3cc65-5d2c-4a5e-bd50-a40903d1312d",
   "metadata": {},
   "outputs": [],
   "source": [
    "docs = retriever.invoke(prompt)\n",
    "\n",
    "numbered_chunks = []\n",
    "for i, doc in enumerate(docs):\n",
    "    numbered_chunks.append(f\"[{i + 1}] {doc.page_content}\")\n",
    "\n",
    "context = \"\\n\\n\".join(numbered_chunks)"
   ]
  },
  {
   "cell_type": "code",
   "execution_count": null,
   "id": "5f18a23a-02c6-4e05-8adf-2e73d8331efb",
   "metadata": {},
   "outputs": [],
   "source": []
  },
  {
   "cell_type": "code",
   "execution_count": 8,
   "id": "15956264-118a-4320-90ed-da20b7886a21",
   "metadata": {},
   "outputs": [
    {
     "data": {
      "text/plain": [
       "'[1] Источник: Файл \"раздел 5.2\", таблица \"5.2 Перечень блокировок и сигнализаций\", строка 8\\nНаименование параметра: Расход - FICAH-407\\nНаименование оборудования (обозначение на технологической схеме): Трубопровод водородсодержащего газа на приеме компрессора К-201 А/В\\nВеличина устанавливаемого предела - допустимая норма - мин.: 1645 - кг/час\\nВеличина устанавливаемого предела - допустимая норма - макс: 6376 - кг/час\\nВеличина устанавливаемого предела - блокировка - мин.: \\nВеличина устанавливаемого предела - блокировка - макс: \\nВеличина устанавливаемого предела - сигнализация - мин.: \\nВеличина устанавливаемого предела - сигнализация - макс: 6376 - кг/час\\nВид воздействия (операции по отключению, включению, переключению и др. воздействию): Сигнализация параметра изменением цвета на щите управления в операторной. - Сигнализация звуком на щите управления в операторной.\\nСекция: СЕКЦИЯ 200 – КАТАЛИТИЧЕСКИЙ РИФОРМИНГ - Компрессоры К-201/А,В\\n\\n[2] Источник: Файл \"раздел 5.2\", таблица \"5.2 Перечень блокировок и сигнализаций\", строка 10\\nНаименование параметра: Расход - FICSALL-405\\nНаименование оборудования (обозначение на технологической схеме): Трубопровод водородсодержащего газа на риформинг на выкиде компрессоров К-201 А/В\\nВеличина устанавливаемого предела - допустимая норма - мин.: 1645 - кг/час\\nВеличина устанавливаемого предела - допустимая норма - макс: 6376 кг/час\\nВеличина устанавливаемого предела - блокировка - мин.: 1645 - кг/час\\nВеличина устанавливаемого предела - блокировка - макс: \\nВеличина устанавливаемого предела - сигнализация - мин.: 3750 - кг/час\\nВеличина устанавливаемого предела - сигнализация - макс:\\n\\n[3] Источник: Файл \"раздел 5.2\", таблица \"5.2 Перечень блокировок и сигнализаций\", строка 5\\nНаименование параметра: Давление - РАН-320В\\nНаименование оборудования (обозначение на технологической схеме): Уплотнительная жидкость насоса - Р-101В\\nВеличина устанавливаемого предела - допустимая норма - мин.: \\nВеличина устанавливаемого предела - допустимая норма - макс: \\nВеличина устанавливаемого предела - блокировка - мин.: \\nВеличина устанавливаемого предела - блокировка - макс: \\nВеличина устанавливаемого предела - сигнализация - мин.: \\nВеличина устанавливаемого предела - сигнализация - макс: 1,06 - кгс/см2\\nВид воздействия (операции по отключению, включению, переключению и др. воздействию): Сигнализация параметра изменением цвета на щите управления в операторной. Сигнализация звуком на щите управления в операторной.\\nСекция: СЕКЦИЯ 100 – блок подготовки сырья\\n\\n[4] Источник: Файл \"раздел 5.2\", таблица \"5.2 Перечень блокировок и сигнализаций\", строка 4\\nНаименование параметра: Давление - РАН-320А\\nНаименование оборудования (обозначение на технологической схеме): Уплотнительная жидкость насоса - Р-101А\\nВеличина устанавливаемого предела - допустимая норма - мин.: \\nВеличина устанавливаемого предела - допустимая норма - макс: \\nВеличина устанавливаемого предела - блокировка - мин.: \\nВеличина устанавливаемого предела - блокировка - макс: \\nВеличина устанавливаемого предела - сигнализация - мин.: \\nВеличина устанавливаемого предела - сигнализация - макс: 1,06 - кгс/см2\\nВид воздействия (операции по отключению, включению, переключению и др. воздействию): Сигнализация параметра изменением цвета на щите управления в операторной. Сигнализация звуком на щите управления в операторной.\\nСекция: СЕКЦИЯ 100 – блок подготовки сырья'"
      ]
     },
     "execution_count": 8,
     "metadata": {},
     "output_type": "execute_result"
    }
   ],
   "source": [
    "context"
   ]
  },
  {
   "cell_type": "code",
   "execution_count": null,
   "id": "c3ccb69d-5130-4919-a95d-d72d9584772d",
   "metadata": {},
   "outputs": [],
   "source": []
  },
  {
   "cell_type": "code",
   "execution_count": null,
   "id": "42c36404-c288-40ad-9e9c-8e91b50910cf",
   "metadata": {},
   "outputs": [],
   "source": []
  },
  {
   "cell_type": "code",
   "execution_count": 12,
   "id": "cc0924ce-97b4-4995-9bcc-d3a2e69918c9",
   "metadata": {},
   "outputs": [],
   "source": [
    "prompt_template = \"\"\"Отвечай по-русски. Если не знаешь ответа, просто скажи, что ты не знаешь.\n",
    "Если в вопросе нет самого вопроса, то просто поддержи беседу.\n",
    "\n",
    "Ниже предоставлены части документов (в разеделе \"Контекст:\"), которые могут быть использованы как контекст, чтобы ответить на вопрос.\n",
    "Вопросы могут быть такие, что контекст не будет использован.\n",
    "\n",
    "Если ты будешь использовать контекст для ответа, то последовательно сделай:\n",
    "1) Приведи полностью ответ, используя контекст.\n",
    "В ответе должны быть ссылки на источники в контексте по их номерам (например, [1], [2] и т.д.).\n",
    "2) Через строчку процитируй полностью источник (перед источниками должны стоять те же номера).\n",
    "Цитирование источника должно быть следующего формата. Вначале указываем его номер (например, \"[1]\").\n",
    "Затем в скобках указываем название источника (значение из колонки \"Источник\") - название файла, название таблицы, номер строки из таблицы.\n",
    "\n",
    "Затем через строчку полностью процитируй сам источник (значения в остальных колонках).\n",
    "\n",
    "Приведенные источники должны быть приведены в порядке их использования в ответе.\n",
    "Но поскольку номера этих источников (например, \"[3]\") могут таким образом идти в произвольном порядке, то перенумеруй их начиная с [1].\n",
    "Перенумерованный вариант должен быть как ссылках в ответе, так и в номерах при приведении источников.\n",
    "\n",
    "\n",
    "Контекст:\n",
    "{context}\n",
    "\n",
    "Вопрос:\n",
    "{question}\n",
    "\n",
    "Ответ:\"\"\"\n",
    "\n",
    "\n",
    "\n",
    "custom_prompt_template = PromptTemplate(\n",
    "    input_variables=[\"context\", \"question\"],\n",
    "    template=prompt_template,\n",
    ")"
   ]
  },
  {
   "cell_type": "code",
   "execution_count": 13,
   "id": "80b406ad-6e33-419a-9160-90d68a9131a7",
   "metadata": {},
   "outputs": [],
   "source": [
    "full_prompt = custom_prompt_template.format(context=context, question=prompt)"
   ]
  },
  {
   "cell_type": "code",
   "execution_count": 14,
   "id": "3b87f926-aff0-4bbb-85d3-405390ea2795",
   "metadata": {},
   "outputs": [
    {
     "name": "stdout",
     "output_type": "stream",
     "text": [
      "Ограничения на расход - FICSALL-405 следующие:\n",
      "Допустимая норма: мин. 1645 кг/час - макс. 6376 кг/час [2].\n",
      "Блокировка: мин. 1645 кг/час [2].\n",
      "Сигнализация: мин. 3750 кг/час [2].\n",
      "\n",
      "[2] Источник: Файл \"раздел 5.2\", таблица \"5.2 Перечень блокировок и сигнализаций\", строка 10\n",
      "Наименнование параметра: Расход - FICSALL-405\n",
      "Наименнование оборудования (обозначение на технологической схеме): Трубопровод водородсодержащего газа на риформинг на выкид екомпрессоров К-201 А/В\n",
      "Величина устанавливаемого предела - допустимая норма - мин.: 1645 - кг/час\n",
      "Величина устанавливаемого предела - допустимая норма - макс: 6376 кг/час\n",
      "Величина устанавливаемого предела - блокировка - мин.: 1645 - кг/час\n",
      "Величина устанавливаемого предела - блокировка - макс: \n",
      "Величина устанавливаемого предела - сигнализация - мин.: 3750 - кг/час\n",
      "Величина устанавливаемого предела - сигнализация - макс: \n"
     ]
    }
   ],
   "source": [
    "for token in llm._stream(full_prompt):\n",
    "    print(token, end='', flush=True)"
   ]
  },
  {
   "cell_type": "code",
   "execution_count": null,
   "id": "0d2bede0-af7b-4369-a0fa-f09ffd425bfe",
   "metadata": {},
   "outputs": [],
   "source": []
  },
  {
   "cell_type": "code",
   "execution_count": null,
   "id": "bc0f15f2-4c7b-426f-bec2-b8f5e1202607",
   "metadata": {},
   "outputs": [],
   "source": []
  },
  {
   "cell_type": "code",
   "execution_count": null,
   "id": "dad1346c-f015-4c5c-b4c5-6946c9cb1034",
   "metadata": {},
   "outputs": [],
   "source": []
  },
  {
   "cell_type": "code",
   "execution_count": null,
   "id": "557c585b-0733-4ac4-a6a0-44eaac6baa4a",
   "metadata": {},
   "outputs": [],
   "source": []
  },
  {
   "cell_type": "code",
   "execution_count": 9,
   "id": "3ce7d8e7-6f80-422c-ae29-e5857dad14f7",
   "metadata": {},
   "outputs": [
    {
     "name": "stdout",
     "output_type": "stream",
     "text": [
      "Why\n",
      " don\n",
      "'\n",
      "t\n",
      " scientists\n",
      " trust\n",
      " atoms\n",
      "?\n",
      " \n",
      "\n",
      "\n",
      "\n",
      "Because\n",
      " they\n",
      " make\n",
      " up\n",
      " everything\n",
      "!\n",
      " \n",
      "\n",
      "\n",
      "\n",
      "😄\n",
      "\n",
      "\n",
      "\n",
      "\n",
      "\n",
      "Hope\n",
      " that\n",
      " made\n",
      " you\n",
      " smile\n",
      "!\n",
      " 😊\n",
      " \n",
      "\n",
      "\n",
      "\n",
      "Do\n",
      " you\n",
      " want\n",
      " to\n",
      " hear\n",
      " another\n",
      " one\n",
      "?\n",
      " \n",
      "\n",
      "\n",
      "\n"
     ]
    }
   ],
   "source": [
    "endpoint_url = 'http://localhost:11434/api/chat'\n",
    "llm = CustomLocalLLM(endpoint_url=endpoint_url)\n",
    "\n",
    "# # Non-streaming\n",
    "# result = llm(\"Tell me a joke.\")\n",
    "# print(result)\n",
    "\n",
    "# Streaming\n",
    "for token in llm._stream(\"Tell me a joke.\"):\n",
    "    print(token)\n",
    "    # print(token, end=\"\", flush=True)\n"
   ]
  },
  {
   "cell_type": "code",
   "execution_count": null,
   "id": "7b383260-ccd4-4ab0-8cb6-3ad562d13acf",
   "metadata": {},
   "outputs": [],
   "source": []
  },
  {
   "cell_type": "code",
   "execution_count": 10,
   "id": "4058f4b3-9f2e-4dbe-bb92-2cf1a753ec82",
   "metadata": {},
   "outputs": [],
   "source": [
    "prompt_template = \"\"\"Отвечай по-русски. Используй следующий контекст чтобы ответить на вопрос.\n",
    "Если не знаешь ответа, просто скажи, что ты не знаешь.\n",
    "Если же в части вопроса не содержится вопроса, то просто поддержи беседу (возможно, используя контекст, - как будет звучать логичнее).\n",
    "\n",
    "Контекст:\n",
    "{context}\n",
    "\n",
    "Вопрос:\n",
    "{question}\n",
    "\n",
    "Ответ:\"\"\"\n",
    "\n",
    "custom_prompt_template = PromptTemplate(\n",
    "    input_variables=[\"context\", \"question\"],\n",
    "    template=prompt_template,\n",
    ")\n",
    "\n",
    "qa_chain = RetrievalQA.from_chain_type(\n",
    "    llm=llm,\n",
    "    chain_type=\"stuff\",\n",
    "    retriever=retriever,\n",
    "    chain_type_kwargs={\"prompt\": custom_prompt_template},\n",
    "    # return_source_documents=True\n",
    ")"
   ]
  },
  {
   "cell_type": "code",
   "execution_count": 11,
   "id": "9f68a806-3bf4-4289-80ff-c375b5958077",
   "metadata": {},
   "outputs": [],
   "source": [
    "prompt = \"Какие есть ограничения на расход - FICSALL-405?\""
   ]
  },
  {
   "cell_type": "code",
   "execution_count": 12,
   "id": "385ad7de-32c5-46ab-a842-0fc305300345",
   "metadata": {},
   "outputs": [
    {
     "name": "stdout",
     "output_type": "stream",
     "text": [
      "json: {'model': 'gemma3n:e4b', 'created_at': '2025-07-21T15:49:58.083047622Z', 'message': {'role': 'assistant', 'content': 'Ограничения на расход - FICSALL-405 следующие:\\n\\n*   **Допустимая норма (мин.):** 1645 кг/час\\n*   **Допустимая норма (макс.):** 6376 кг/час\\n*   **Блокировка (мин.):** 1645 кг/час\\n*   **Блокировка (макс.):** Информация отсутствует в предоставленном контексте.'}, 'done_reason': 'stop', 'done': True, 'total_duration': 2613785147, 'load_duration': 164440906, 'prompt_eval_count': 916, 'prompt_eval_duration': 737695349, 'eval_count': 98, 'eval_duration': 1710483483}\n"
     ]
    }
   ],
   "source": [
    "reply = qa_chain.invoke(prompt)['result']"
   ]
  },
  {
   "cell_type": "code",
   "execution_count": null,
   "id": "93eb4919-a231-4efa-8951-f1f73bf72e85",
   "metadata": {},
   "outputs": [],
   "source": []
  },
  {
   "cell_type": "code",
   "execution_count": 13,
   "id": "c9826fac-8e97-4828-89d8-b53d1e536adb",
   "metadata": {},
   "outputs": [
    {
     "name": "stdout",
     "output_type": "stream",
     "text": [
      "Ограничения на расход - FICSALL-405 следующие:\n",
      "\n",
      "*   **Допустимая норма (мин.):** 1645 кг/час\n",
      "*   **Допустимая норма (макс.):** 6376 кг/час\n",
      "*   **Блокировка (мин.):** 1645 кг/час\n",
      "*   **Блокировка (макс.):** Информация отсутствует в предоставленном контексте.\n"
     ]
    }
   ],
   "source": [
    "print(reply)"
   ]
  },
  {
   "cell_type": "code",
   "execution_count": null,
   "id": "d269887f-a1d9-40af-b218-a130aa601b55",
   "metadata": {},
   "outputs": [],
   "source": []
  },
  {
   "cell_type": "code",
   "execution_count": 32,
   "id": "9e59f785-1400-441f-8e44-5e0906427a90",
   "metadata": {},
   "outputs": [
    {
     "data": {
      "text/plain": [
       "'Какие есть ограничения на расход - FICSALL-405?'"
      ]
     },
     "execution_count": 32,
     "metadata": {},
     "output_type": "execute_result"
    }
   ],
   "source": [
    "prompt"
   ]
  },
  {
   "cell_type": "code",
   "execution_count": null,
   "id": "83bea0a3-5f9e-44bb-aa4c-c08f963c58ac",
   "metadata": {},
   "outputs": [],
   "source": []
  },
  {
   "cell_type": "code",
   "execution_count": 36,
   "id": "f18b9776-2ad3-4e29-b8d1-35379c622f36",
   "metadata": {},
   "outputs": [
    {
     "name": "stdout",
     "output_type": "stream",
     "text": [
      "Отвечай по-русски. Используй следующий контекст чтобы ответить на вопрос.\n",
      "Если не знаешь ответа, просто скажи, что ты не знаешь.\n",
      "Если же в части вопроса не содержится вопроса, то просто поддержи беседу (возможно, используя контекст, - как будет звучать логичнее).\n",
      "\n",
      "Контекст:\n",
      ": 9\n",
      "№ п/п: 10\n",
      "Наименование параметра: Расход - FICSALL-405\n",
      "Наименование оборудования (обозначение на технологической схеме): Трубопровод водородсодержащего газа на риформинг на выкиде компрессоров К-201 А/В\n",
      "Величина устанавливаемого предела - допустимая норма - мин.: 1645 - кг/час\n",
      "Величина устанавливаемого предела - допустимая норма - макс: 6376 кг/час\n",
      "Величина устанавливаемого предела - блокировка - мин.: 1645 - кг/час\n",
      "Величина устанавливаемого предела - блокировка - макс:\n",
      "\n",
      ": 7\n",
      "№ п/п: 8\n",
      "Наименование параметра: Расход - FICAH-407\n",
      "Наименование оборудования (обозначение на технологической схеме): Трубопровод водородсодержащего газа на приеме компрессора К-201 А/В\n",
      "Величина устанавливаемого предела - допустимая норма - мин.: 1645 - кг/час\n",
      "Величина устанавливаемого предела - допустимая норма - макс: 6376 - кг/час\n",
      "Величина устанавливаемого предела - блокировка - мин.: \n",
      "Величина устанавливаемого предела - блокировка - макс:\n",
      "\n",
      ": 8\n",
      "№ п/п: 9\n",
      "Наименование параметра: Расход - FICAL-406\n",
      "Наименование оборудования (обозначение на технологической схеме): Трубопровод водородсодержащего газа на рециркуляции после компрессоров К-201 А/В\n",
      "Величина устанавливаемого предела - допустимая норма - мин.: 1645 - кг/час\n",
      "Величина устанавливаемого предела - допустимая норма - макс: 6376 кг/час\n",
      "Величина устанавливаемого предела - блокировка - мин.: \n",
      "Величина устанавливаемого предела - блокировка - макс:\n",
      "\n",
      ": 24\n",
      "№ п/п: 25\n",
      "Наименование параметра: Расход - FSАLL-423\n",
      "Наименование оборудования (обозначение на технологической схеме): Трубопровод охлаждающей жидкости к компрессору К-801\n",
      "Величина устанавливаемого предела - допустимая норма - мин.: 0,227 - м3/час\n",
      "Величина устанавливаемого предела - допустимая норма - макс: \n",
      "Величина устанавливаемого предела - блокировка - мин.: 0,227 - м3/час\n",
      "Величина устанавливаемого предела - блокировка - макс:\n",
      "\n",
      "Вопрос:\n",
      "Какие есть ограничения на расход - FICSALL-405?\n",
      "\n",
      "Ответ:\n"
     ]
    }
   ],
   "source": [
    "print(full_prompt)"
   ]
  },
  {
   "cell_type": "code",
   "execution_count": null,
   "id": "f4d1049a-5c06-4584-8c81-710a060febbe",
   "metadata": {},
   "outputs": [],
   "source": []
  },
  {
   "cell_type": "code",
   "execution_count": 33,
   "id": "297d30a9-f0c2-41c5-b90e-70255413e8f6",
   "metadata": {},
   "outputs": [
    {
     "name": "stdout",
     "output_type": "stream",
     "text": [
      "Ограничения на расход - FICSALL-405 следующие:\n",
      "\n",
      "*   **Допустимая норма (мин.):** 1645 кг/час\n",
      "*   **Допустимая норма (макс.):** 6376 кг/час\n",
      "*   **Блокировка (мин.):** 1645 кг/час\n",
      "*   **Блокировка (макс.):**  (В контексте не указано)"
     ]
    }
   ],
   "source": [
    "docs = retriever.invoke(prompt)\n",
    "\n",
    "# Combine docs -> context\n",
    "context = \"\\n\\n\".join([d.page_content for d in docs])\n",
    "\n",
    "# Fill your custom prompt template\n",
    "full_prompt = custom_prompt_template.format(context=context, question=prompt)\n",
    "\n",
    "# Now stream\n",
    "for chunk in llm._stream(full_prompt):\n",
    "    print(chunk, end=\"\", flush=True)"
   ]
  },
  {
   "cell_type": "code",
   "execution_count": null,
   "id": "093a3521-141f-43af-a4ed-bdb30faa1fdd",
   "metadata": {},
   "outputs": [],
   "source": []
  },
  {
   "cell_type": "code",
   "execution_count": null,
   "id": "7feadf7a-dea5-4d5e-9b33-2a06461660a8",
   "metadata": {},
   "outputs": [],
   "source": []
  },
  {
   "cell_type": "code",
   "execution_count": 20,
   "id": "556e4c6b-2fee-44aa-ad16-3a9cae6cdbec",
   "metadata": {},
   "outputs": [],
   "source": [
    "from langchain.callbacks.streaming_stdout import StreamingStdOutCallbackHandler\n",
    "callbacks = [StreamingStdOutCallbackHandler()]"
   ]
  },
  {
   "cell_type": "code",
   "execution_count": null,
   "id": "52f2598a-5d3b-44bf-b8ae-25cde4db10fd",
   "metadata": {},
   "outputs": [],
   "source": [
    "\n",
    "chain = LLMChain(llm=llamamodel, prompt=PROMPT, callbacks=callbacks) "
   ]
  },
  {
   "cell_type": "code",
   "execution_count": null,
   "id": "248f45a6-8a88-4139-a0b8-2f92a16c76d5",
   "metadata": {},
   "outputs": [],
   "source": []
  },
  {
   "cell_type": "code",
   "execution_count": null,
   "id": "98ce0635-2174-4152-8526-bec804e43bfa",
   "metadata": {},
   "outputs": [],
   "source": []
  },
  {
   "cell_type": "code",
   "execution_count": null,
   "id": "8d4d5dda-5ef1-4bec-92ba-ccdbb2edb400",
   "metadata": {},
   "outputs": [],
   "source": []
  },
  {
   "cell_type": "code",
   "execution_count": null,
   "id": "b0045086-aa4b-4fd4-80d8-fe6f12323b10",
   "metadata": {},
   "outputs": [],
   "source": [
    "3: {'model': 'gemma3n:e4b', 'messages': [{'role': 'user', 'content': 'Отвечай по-русски. Используй следующий контекст чтобы ответить на вопрос.\\nЕсли не знаешь ответа, просто скажи, что ты не знаешь.\\nЕсли же в части вопроса не содержится вопроса, то просто поддержи беседу (возможно, используя контекст, - как будет звучать логичнее).\\n\\nКонтекст:\\nВеличина устанавливаемого предела - сигнализация - мин.: \\nВеличина устанавливаемого предела - сигнализация - макс: 6376 - кг/час\\nВид воздействия (операции по отключению, включению, переключению и др. воздействию): Сигнализация параметра изменением цвета на щите управления в операторной. - Сигнализация звуком на щите управления в операторной.\\nСекция: СЕКЦИЯ 200 – КАТАЛИТИЧЕСКИЙ РИФОРМИНГ - Компрессоры К-201/А,В\\n\\n: 66\\n№ п/п: 67\\nНаименование параметра: Пожар в насосной - BSA-9\\nНаименование оборудования (обозначение на технологической схеме): Насосная. Одновременное срабатывание не менее одного датчика в разных шлейфах\\nВеличина устанавливаемого предела - допустимая норма - мин.: \\nВеличина устанавливаемого предела - допустимая норма - макс: \\nВеличина устанавливаемого предела - блокировка - мин.: \\nВеличина устанавливаемого предела - блокировка - макс: НЗ\\n\\nВеличина устанавливаемого предела - сигнализация - макс: 80%\\nВид воздействия (операции по отключению, включению, переключению и др. воздействию): Сигнализация параметра изменением цвета на щите управления в операторной. Сигнализация звуком на щите управления в операторной.\\nСекция: СЕКЦИЯ 100 – блок подготовки сырья\\n\\nВеличина устанавливаемого предела - сигнализация - мин.: 3750 - кг/час\\nВеличина устанавливаемого предела - сигнализация - макс: \\nВид воздействия (операции по отключению, включению, переключению и др. воздействию): Сигнализация параметра изменением цвета на щите управления в операторной. - Сигнализация звуком на щите управления в операторной.\\nСекция: СЕКЦИЯ 200 – КАТАЛИТИЧЕСКИЙ РИФОРМИНГ - Компрессоры К-201/А,В\\n\\nВопрос:\\nПривет!\\n\\nОтвет:'}], 'stream': False}\n",
    "4: {'Content-Type': 'application/json'}\n",
    "5: http://localhost:11434/api/chat"
   ]
  },
  {
   "cell_type": "code",
   "execution_count": 6,
   "id": "9f308ceb-e5eb-4ccf-a892-8aa3e64a32ff",
   "metadata": {},
   "outputs": [],
   "source": [
    "headers = {'Content-Type': 'application/json'}\n",
    "\n",
    "data = {\n",
    "    'model': 'gemma3n:e4b',\n",
    "    'messages': [\n",
    "        {\n",
    "            'role': 'user',\n",
    "            'content': 'Отвечай по-русски. Используй следующий контекст чтобы ответить на вопрос.\\nЕсли не знаешь ответа, просто скажи, что ты не знаешь.\\nЕсли же в части вопроса не содержится вопроса, то просто поддержи беседу (возможно, используя контекст, - как будет звучать логичнее).\\n\\nКонтекст:\\nВеличина устанавливаемого предела - сигнализация - мин.: \\nВеличина устанавливаемого предела - сигнализация - макс: 6376 - кг/час\\nВид воздействия (операции по отключению, включению, переключению и др. воздействию): Сигнализация параметра изменением цвета на щите управления в операторной. - Сигнализация звуком на щите управления в операторной.\\nСекция: СЕКЦИЯ 200 – КАТАЛИТИЧЕСКИЙ РИФОРМИНГ - Компрессоры К-201/А,В\\n\\n: 66\\n№ п/п: 67\\nНаименование параметра: Пожар в насосной - BSA-9\\nНаименование оборудования (обозначение на технологической схеме): Насосная. Одновременное срабатывание не менее одного датчика в разных шлейфах\\nВеличина устанавливаемого предела - допустимая норма - мин.: \\nВеличина устанавливаемого предела - допустимая норма - макс: \\nВеличина устанавливаемого предела - блокировка - мин.: \\nВеличина устанавливаемого предела - блокировка - макс: НЗ\\n\\nВеличина устанавливаемого предела - сигнализация - макс: 80%\\nВид воздействия (операции по отключению, включению, переключению и др. воздействию): Сигнализация параметра изменением цвета на щите управления в операторной. Сигнализация звуком на щите управления в операторной.\\nСекция: СЕКЦИЯ 100 – блок подготовки сырья\\n\\nВеличина устанавливаемого предела - сигнализация - мин.: 3750 - кг/час\\nВеличина устанавливаемого предела - сигнализация - макс: \\nВид воздействия (операции по отключению, включению, переключению и др. воздействию): Сигнализация параметра изменением цвета на щите управления в операторной. - Сигнализация звуком на щите управления в операторной.\\nСекция: СЕКЦИЯ 200 – КАТАЛИТИЧЕСКИЙ РИФОРМИНГ - Компрессоры К-201/А,В\\n\\nВопрос:\\nПривет!\\n\\nОтвет:'\n",
    "        }\n",
    "    ],\n",
    "    'stream': True\n",
    "}"
   ]
  },
  {
   "cell_type": "code",
   "execution_count": 7,
   "id": "94397a42-5a9d-4922-aba3-1b24de5e5685",
   "metadata": {},
   "outputs": [
    {
     "name": "stdout",
     "output_type": "stream",
     "text": [
      "CPU times: user 7.43 ms, sys: 1.86 ms, total: 9.28 ms\n",
      "Wall time: 22.1 s\n"
     ]
    }
   ],
   "source": [
    "%%time\n",
    "\n",
    "response = requests.post(endpoint_url, headers=headers, data=json.dumps(data))"
   ]
  },
  {
   "cell_type": "code",
   "execution_count": 11,
   "id": "3693b72e-7c22-4f50-bb31-7948e0914155",
   "metadata": {},
   "outputs": [],
   "source": [
    "assert response.status_code == 200"
   ]
  },
  {
   "cell_type": "code",
   "execution_count": 8,
   "id": "03fefdee-f66e-4a6c-81cf-5ef30935d17a",
   "metadata": {
    "scrolled": true
   },
   "outputs": [
    {
     "ename": "JSONDecodeError",
     "evalue": "Extra data: line 2 column 1 (char 133)",
     "output_type": "error",
     "traceback": [
      "\u001b[0;31m---------------------------------------------------------------------------\u001b[0m",
      "\u001b[0;31mJSONDecodeError\u001b[0m                           Traceback (most recent call last)",
      "File \u001b[0;32m~/python_venvs/default_venv/lib/python3.10/site-packages/requests/models.py:963\u001b[0m, in \u001b[0;36mResponse.json\u001b[0;34m(self, **kwargs)\u001b[0m\n\u001b[1;32m    962\u001b[0m \u001b[38;5;28;01mtry\u001b[39;00m:\n\u001b[0;32m--> 963\u001b[0m     \u001b[38;5;28;01mreturn\u001b[39;00m \u001b[43mcomplexjson\u001b[49m\u001b[38;5;241;43m.\u001b[39;49m\u001b[43mloads\u001b[49m\u001b[43m(\u001b[49m\u001b[38;5;28;43mself\u001b[39;49m\u001b[38;5;241;43m.\u001b[39;49m\u001b[43mcontent\u001b[49m\u001b[38;5;241;43m.\u001b[39;49m\u001b[43mdecode\u001b[49m\u001b[43m(\u001b[49m\u001b[43mencoding\u001b[49m\u001b[43m)\u001b[49m\u001b[43m,\u001b[49m\u001b[43m \u001b[49m\u001b[38;5;241;43m*\u001b[39;49m\u001b[38;5;241;43m*\u001b[39;49m\u001b[43mkwargs\u001b[49m\u001b[43m)\u001b[49m\n\u001b[1;32m    964\u001b[0m \u001b[38;5;28;01mexcept\u001b[39;00m \u001b[38;5;167;01mUnicodeDecodeError\u001b[39;00m:\n\u001b[1;32m    965\u001b[0m     \u001b[38;5;66;03m# Wrong UTF codec detected; usually because it's not UTF-8\u001b[39;00m\n\u001b[1;32m    966\u001b[0m     \u001b[38;5;66;03m# but some other 8-bit codec.  This is an RFC violation,\u001b[39;00m\n\u001b[1;32m    967\u001b[0m     \u001b[38;5;66;03m# and the server didn't bother to tell us what codec *was*\u001b[39;00m\n\u001b[1;32m    968\u001b[0m     \u001b[38;5;66;03m# used.\u001b[39;00m\n",
      "File \u001b[0;32m/usr/lib/python3.10/json/__init__.py:346\u001b[0m, in \u001b[0;36mloads\u001b[0;34m(s, cls, object_hook, parse_float, parse_int, parse_constant, object_pairs_hook, **kw)\u001b[0m\n\u001b[1;32m    343\u001b[0m \u001b[38;5;28;01mif\u001b[39;00m (\u001b[38;5;28mcls\u001b[39m \u001b[38;5;129;01mis\u001b[39;00m \u001b[38;5;28;01mNone\u001b[39;00m \u001b[38;5;129;01mand\u001b[39;00m object_hook \u001b[38;5;129;01mis\u001b[39;00m \u001b[38;5;28;01mNone\u001b[39;00m \u001b[38;5;129;01mand\u001b[39;00m\n\u001b[1;32m    344\u001b[0m         parse_int \u001b[38;5;129;01mis\u001b[39;00m \u001b[38;5;28;01mNone\u001b[39;00m \u001b[38;5;129;01mand\u001b[39;00m parse_float \u001b[38;5;129;01mis\u001b[39;00m \u001b[38;5;28;01mNone\u001b[39;00m \u001b[38;5;129;01mand\u001b[39;00m\n\u001b[1;32m    345\u001b[0m         parse_constant \u001b[38;5;129;01mis\u001b[39;00m \u001b[38;5;28;01mNone\u001b[39;00m \u001b[38;5;129;01mand\u001b[39;00m object_pairs_hook \u001b[38;5;129;01mis\u001b[39;00m \u001b[38;5;28;01mNone\u001b[39;00m \u001b[38;5;129;01mand\u001b[39;00m \u001b[38;5;129;01mnot\u001b[39;00m kw):\n\u001b[0;32m--> 346\u001b[0m     \u001b[38;5;28;01mreturn\u001b[39;00m \u001b[43m_default_decoder\u001b[49m\u001b[38;5;241;43m.\u001b[39;49m\u001b[43mdecode\u001b[49m\u001b[43m(\u001b[49m\u001b[43ms\u001b[49m\u001b[43m)\u001b[49m\n\u001b[1;32m    347\u001b[0m \u001b[38;5;28;01mif\u001b[39;00m \u001b[38;5;28mcls\u001b[39m \u001b[38;5;129;01mis\u001b[39;00m \u001b[38;5;28;01mNone\u001b[39;00m:\n",
      "File \u001b[0;32m/usr/lib/python3.10/json/decoder.py:340\u001b[0m, in \u001b[0;36mJSONDecoder.decode\u001b[0;34m(self, s, _w)\u001b[0m\n\u001b[1;32m    339\u001b[0m \u001b[38;5;28;01mif\u001b[39;00m end \u001b[38;5;241m!=\u001b[39m \u001b[38;5;28mlen\u001b[39m(s):\n\u001b[0;32m--> 340\u001b[0m     \u001b[38;5;28;01mraise\u001b[39;00m JSONDecodeError(\u001b[38;5;124m\"\u001b[39m\u001b[38;5;124mExtra data\u001b[39m\u001b[38;5;124m\"\u001b[39m, s, end)\n\u001b[1;32m    341\u001b[0m \u001b[38;5;28;01mreturn\u001b[39;00m obj\n",
      "\u001b[0;31mJSONDecodeError\u001b[0m: Extra data: line 2 column 1 (char 133)",
      "\nDuring handling of the above exception, another exception occurred:\n",
      "\u001b[0;31mJSONDecodeError\u001b[0m                           Traceback (most recent call last)",
      "Cell \u001b[0;32mIn[8], line 1\u001b[0m\n\u001b[0;32m----> 1\u001b[0m reply \u001b[38;5;241m=\u001b[39m \u001b[43mresponse\u001b[49m\u001b[38;5;241;43m.\u001b[39;49m\u001b[43mjson\u001b[49m\u001b[43m(\u001b[49m\u001b[43m)\u001b[49m[\u001b[38;5;124m\"\u001b[39m\u001b[38;5;124mmessage\u001b[39m\u001b[38;5;124m\"\u001b[39m][\u001b[38;5;124m\"\u001b[39m\u001b[38;5;124mcontent\u001b[39m\u001b[38;5;124m\"\u001b[39m]\n",
      "File \u001b[0;32m~/python_venvs/default_venv/lib/python3.10/site-packages/requests/models.py:971\u001b[0m, in \u001b[0;36mResponse.json\u001b[0;34m(self, **kwargs)\u001b[0m\n\u001b[1;32m    969\u001b[0m             \u001b[38;5;28;01mpass\u001b[39;00m\n\u001b[1;32m    970\u001b[0m         \u001b[38;5;28;01mexcept\u001b[39;00m JSONDecodeError \u001b[38;5;28;01mas\u001b[39;00m e:\n\u001b[0;32m--> 971\u001b[0m             \u001b[38;5;28;01mraise\u001b[39;00m RequestsJSONDecodeError(e\u001b[38;5;241m.\u001b[39mmsg, e\u001b[38;5;241m.\u001b[39mdoc, e\u001b[38;5;241m.\u001b[39mpos)\n\u001b[1;32m    973\u001b[0m \u001b[38;5;28;01mtry\u001b[39;00m:\n\u001b[1;32m    974\u001b[0m     \u001b[38;5;28;01mreturn\u001b[39;00m complexjson\u001b[38;5;241m.\u001b[39mloads(\u001b[38;5;28mself\u001b[39m\u001b[38;5;241m.\u001b[39mtext, \u001b[38;5;241m*\u001b[39m\u001b[38;5;241m*\u001b[39mkwargs)\n",
      "\u001b[0;31mJSONDecodeError\u001b[0m: Extra data: line 2 column 1 (char 133)"
     ]
    }
   ],
   "source": [
    "reply = response.json()[\"message\"][\"content\"]"
   ]
  },
  {
   "cell_type": "code",
   "execution_count": null,
   "id": "351512b9-a1d2-4ceb-8f94-dc8b6697a7e3",
   "metadata": {},
   "outputs": [],
   "source": [
    "reply"
   ]
  },
  {
   "cell_type": "markdown",
   "id": "d688ed24-3734-4920-ab67-7043282123a3",
   "metadata": {},
   "source": [
    "# Обрабатываем неструктурированный doc файл"
   ]
  },
  {
   "cell_type": "code",
   "execution_count": 2,
   "id": "bd1f1b4c-6a7f-48db-b0b7-6dfd0a3b909f",
   "metadata": {},
   "outputs": [],
   "source": [
    "from langchain.document_loaders import DirectoryLoader, UnstructuredWordDocumentLoader"
   ]
  },
  {
   "cell_type": "code",
   "execution_count": 11,
   "id": "a8aa6eaf-7e57-4c1d-b384-ed3ed2f3050b",
   "metadata": {},
   "outputs": [],
   "source": [
    "loader = DirectoryLoader(\n",
    "    path=\"./data/data_processing/РАЗДЕЛ 6/\",\n",
    "    glob=\"**/*.docx\",\n",
    "    loader_cls=UnstructuredWordDocumentLoader,\n",
    "    loader_kwargs={\"mode\": \"elements\"}\n",
    ")\n",
    "\n",
    "docs = loader.load()"
   ]
  },
  {
   "cell_type": "code",
   "execution_count": 18,
   "id": "9d04feed-c156-4f3a-912b-a27ff381c632",
   "metadata": {},
   "outputs": [
    {
     "data": {
      "text/plain": [
       "907"
      ]
     },
     "execution_count": 18,
     "metadata": {},
     "output_type": "execute_result"
    }
   ],
   "source": [
    "len(docs)"
   ]
  },
  {
   "cell_type": "code",
   "execution_count": 19,
   "id": "8efc1285-03d0-49df-a559-e14b68916fc9",
   "metadata": {},
   "outputs": [
    {
     "data": {
      "text/plain": [
       "'ТР-6100-20368-08-2010'"
      ]
     },
     "execution_count": 19,
     "metadata": {},
     "output_type": "execute_result"
    }
   ],
   "source": [
    "docs[0].page_content"
   ]
  },
  {
   "cell_type": "code",
   "execution_count": 21,
   "id": "8f18cd2d-3e71-4b6f-abe0-d85c3fc4c984",
   "metadata": {},
   "outputs": [
    {
     "data": {
      "text/plain": [
       "Document(metadata={'source': 'data/data_processing/РАЗДЕЛ 6/РАЗДЕЛ 6.docx', 'category_depth': 0, 'file_directory': 'data/data_processing/РАЗДЕЛ 6', 'filename': 'РАЗДЕЛ 6.docx', 'header_footer_type': 'primary', 'languages': ['rus'], 'filetype': 'application/vnd.openxmlformats-officedocument.wordprocessingml.document', 'category': 'Header', 'element_id': '2e5d2cda56df42c8154d8441c00977b1'}, page_content='ТР-6100-20368-08-2010')"
      ]
     },
     "execution_count": 21,
     "metadata": {},
     "output_type": "execute_result"
    }
   ],
   "source": [
    "docs[0]"
   ]
  },
  {
   "cell_type": "code",
   "execution_count": 35,
   "id": "e8da9f7b-2412-421f-aaa3-1bca33095563",
   "metadata": {},
   "outputs": [],
   "source": [
    "s = set()\n",
    "for d in docs:\n",
    "    s.update({d.metadata['category']})\n",
    "\n",
    "    if d.metadata['category'] == 'Table':\n",
    "        break"
   ]
  },
  {
   "cell_type": "code",
   "execution_count": 36,
   "id": "66143d93-4cf4-4699-8139-614314664029",
   "metadata": {},
   "outputs": [
    {
     "data": {
      "text/plain": [
       "Document(metadata={'source': 'data/data_processing/РАЗДЕЛ 6/РАЗДЕЛ 6.docx', 'emphasized_text_contents': ['Реакторы', 'R', '-201', 'R-202', 'R-203', 'R-204', 'R-204', '/РБ-44У', '/РБ-44У', '/РБ-44У', '/РБ-44У', '/РБ-44У', '/РБ-44У', '**', '/1,9', '/1,9', '/2,5', '/2,5', '/4,6', '/4,6', '*', '/1,7', '/1,7', '/2,5', '/2,5', '/2,5', '/2,5'], 'emphasized_text_tags': ['b', 'b', 'b', 'b', 'b', 'b', 'b', 'b', 'i', 'b', 'i', 'b', 'i', 'b', 'b', 'i', 'b', 'i', 'b', 'i', 'b', 'b', 'i', 'b', 'i', 'b', 'i'], 'file_directory': 'data/data_processing/РАЗДЕЛ 6', 'filename': 'РАЗДЕЛ 6.docx', 'last_modified': '2025-07-08T17:17:29', 'text_as_html': '<table><tr><td>Реакторы</td><td>R-201</td><td>R-202</td><td>R-203</td><td>R-204</td><td>R-204</td></tr><tr><td>Марка катализатора</td><td>КР-108У/РБ-44У</td><td>КР-108У/РБ-44У</td><td>КР-108У/РБ-44У</td><td>АГС-60</td><td>АП-56**</td></tr><tr><td>Вес, т</td><td>1,4/1,9</td><td>1,8/2,5</td><td>3,3/4,6</td><td>12,5*</td><td>0,7</td></tr><tr><td>Объем, м3</td><td>2,3</td><td>3,4</td><td>5,7</td><td>11,3</td><td>1,16</td></tr><tr><td>Высота слоя, м</td><td>1,6/1,7</td><td>2,4/2,5</td><td>2,3/2,5</td><td>5,2</td><td>0,36</td></tr></table>', 'languages': ['rus'], 'filetype': 'application/vnd.openxmlformats-officedocument.wordprocessingml.document', 'parent_id': '2e5d2cda56df42c8154d8441c00977b1', 'category': 'Table', 'element_id': '1107755e647ffd1573c2d0d3c4de415e'}, page_content='Реакторы R-201 R-202 R-203 R-204 Марка катализатора КР-108У/РБ-44У КР-108У/РБ-44У КР-108У/РБ-44У АГС-60 АП-56** Вес, т 1,4/1,9 1,8/2,5 3,3/4,6 12,5* 0,7 Объем, м3 2,3 3,4 5,7 11,3 1,16 Высота слоя, м 1,6/1,7 2,4/2,5 2,3/2,5 5,2 0,36')"
      ]
     },
     "execution_count": 36,
     "metadata": {},
     "output_type": "execute_result"
    }
   ],
   "source": [
    "d"
   ]
  },
  {
   "cell_type": "code",
   "execution_count": null,
   "id": "a4f864bf-05c2-43ac-bdc8-c2bc6b4a9f43",
   "metadata": {},
   "outputs": [],
   "source": []
  },
  {
   "cell_type": "code",
   "execution_count": null,
   "id": "16cd457b-1573-4f71-a1ec-41db098d38ae",
   "metadata": {},
   "outputs": [],
   "source": []
  },
  {
   "cell_type": "code",
   "execution_count": 34,
   "id": "2c26cde5-7086-4f3c-a5d4-b1d803afa687",
   "metadata": {},
   "outputs": [
    {
     "data": {
      "text/plain": [
       "{'Header', 'ListItem', 'NarrativeText', 'Table', 'UncategorizedText'}"
      ]
     },
     "execution_count": 34,
     "metadata": {},
     "output_type": "execute_result"
    }
   ],
   "source": [
    "s"
   ]
  },
  {
   "cell_type": "code",
   "execution_count": 25,
   "id": "e84787ca-d85d-4c5c-9234-f07dae06850f",
   "metadata": {},
   "outputs": [
    {
     "data": {
      "text/plain": [
       "'ListItem'"
      ]
     },
     "execution_count": 25,
     "metadata": {},
     "output_type": "execute_result"
    }
   ],
   "source": [
    "docs[10].metadata['category']"
   ]
  },
  {
   "cell_type": "code",
   "execution_count": 29,
   "id": "f243934f-98cb-4c2b-90f7-7509534fde69",
   "metadata": {},
   "outputs": [],
   "source": [
    "\n"
   ]
  },
  {
   "cell_type": "code",
   "execution_count": 30,
   "id": "c0ab6bf9-4fc5-4708-abdf-d149da2c4f4c",
   "metadata": {},
   "outputs": [
    {
     "data": {
      "text/plain": [
       "{'ListItem'}"
      ]
     },
     "execution_count": 30,
     "metadata": {},
     "output_type": "execute_result"
    }
   ],
   "source": [
    "s"
   ]
  },
  {
   "cell_type": "code",
   "execution_count": 20,
   "id": "eed12111-b502-44ba-9180-85f96cda96b6",
   "metadata": {},
   "outputs": [
    {
     "data": {
      "text/plain": [
       "Document(metadata={'source': 'data/data_processing/РАЗДЕЛ 6/РАЗДЕЛ 6.docx', 'category_depth': 0, 'file_directory': 'data/data_processing/РАЗДЕЛ 6', 'filename': 'РАЗДЕЛ 6.docx', 'last_modified': '2025-07-08T17:17:29', 'languages': ['rus'], 'filetype': 'application/vnd.openxmlformats-officedocument.wordprocessingml.document', 'parent_id': '2e5d2cda56df42c8154d8441c00977b1', 'category': 'ListItem', 'element_id': '7783df4f93d2073e63badaa6525f309c'}, page_content='укомплектовать установку обслуживающим персоналом в соответствии со штатным расписанием. Обслуживающий персонал должен пройти техническую учебу и иметь допуск к самостоятельной работе;')"
      ]
     },
     "execution_count": 20,
     "metadata": {},
     "output_type": "execute_result"
    }
   ],
   "source": [
    "docs[10]"
   ]
  },
  {
   "cell_type": "code",
   "execution_count": 12,
   "id": "9d43e798-fa4b-4960-821d-445bff3190ac",
   "metadata": {},
   "outputs": [
    {
     "data": {
      "text/plain": [
       "[Document(metadata={'source': 'data/data_processing/РАЗДЕЛ 6/РАЗДЕЛ 6.docx', 'category_depth': 0, 'file_directory': 'data/data_processing/РАЗДЕЛ 6', 'filename': 'РАЗДЕЛ 6.docx', 'header_footer_type': 'primary', 'languages': ['rus'], 'filetype': 'application/vnd.openxmlformats-officedocument.wordprocessingml.document', 'category': 'Header', 'element_id': '2e5d2cda56df42c8154d8441c00977b1'}, page_content='ТР-6100-20368-08-2010'),\n",
       " Document(metadata={'source': 'data/data_processing/РАЗДЕЛ 6/РАЗДЕЛ 6.docx', 'category_depth': 0, 'emphasized_text_contents': ['6.1 Подготовка к пуску'], 'emphasized_text_tags': ['b'], 'file_directory': 'data/data_processing/РАЗДЕЛ 6', 'filename': 'РАЗДЕЛ 6.docx', 'last_modified': '2025-07-08T17:17:29', 'languages': ['rus'], 'filetype': 'application/vnd.openxmlformats-officedocument.wordprocessingml.document', 'parent_id': '2e5d2cda56df42c8154d8441c00977b1', 'category': 'UncategorizedText', 'element_id': '951d88303453bd9ee4a2b1fd0baf8388'}, page_content='6.1 Подготовка к пуску'),\n",
       " Document(metadata={'source': 'data/data_processing/РАЗДЕЛ 6/РАЗДЕЛ 6.docx', 'category_depth': 0, 'emphasized_text_contents': ['6.1.1 Общие положения'], 'emphasized_text_tags': ['b'], 'file_directory': 'data/data_processing/РАЗДЕЛ 6', 'filename': 'РАЗДЕЛ 6.docx', 'last_modified': '2025-07-08T17:17:29', 'languages': ['rus'], 'filetype': 'application/vnd.openxmlformats-officedocument.wordprocessingml.document', 'parent_id': '2e5d2cda56df42c8154d8441c00977b1', 'category': 'UncategorizedText', 'element_id': '7ac758d965ba38f09bc559cdda362aff'}, page_content='6.1.1 Общие положения'),\n",
       " Document(metadata={'source': 'data/data_processing/РАЗДЕЛ 6/РАЗДЕЛ 6.docx', 'category_depth': 0, 'file_directory': 'data/data_processing/РАЗДЕЛ 6', 'filename': 'РАЗДЕЛ 6.docx', 'last_modified': '2025-07-08T17:17:29', 'languages': ['rus'], 'filetype': 'application/vnd.openxmlformats-officedocument.wordprocessingml.document', 'parent_id': '2e5d2cda56df42c8154d8441c00977b1', 'category': 'NarrativeText', 'element_id': '5c9efbe22e0a6f0aeca232eedaca0831'}, page_content='Пуск установки должен производится в строгом соответствии с технологическим регламентом. Основанием для пуска установки является приказ по предприятию, в котором устанавливаются сроки пуска и вывода на режим, а также назначаются лица, ответственные за проведение пусковых работ. На ответственных за пуск лиц возлагается организация и проведение всех предпусковых мероприятий и вывод установки на режим эксплуатации с обеспечением мер безопасности.'),\n",
       " Document(metadata={'source': 'data/data_processing/РАЗДЕЛ 6/РАЗДЕЛ 6.docx', 'category_depth': 0, 'file_directory': 'data/data_processing/РАЗДЕЛ 6', 'filename': 'РАЗДЕЛ 6.docx', 'last_modified': '2025-07-08T17:17:29', 'languages': ['rus'], 'filetype': 'application/vnd.openxmlformats-officedocument.wordprocessingml.document', 'parent_id': '2e5d2cda56df42c8154d8441c00977b1', 'category': 'UncategorizedText', 'element_id': 'c395a24a7141d0a087204175dbece359'}, page_content='Подготовка установки к пуску заключается в тщательной проверке правильности выполнения всех монтажных работ в соответствии с проектом, выявления и устранения дефектов оборудования и арматуры, обкатке оборудования, выявления готовности связей с общезаводским хозяйством, в части снабжения реагентами, энергоресурсами и откачки готовой продукции.'),\n",
       " Document(metadata={'source': 'data/data_processing/РАЗДЕЛ 6/РАЗДЕЛ 6.docx', 'category_depth': 0, 'file_directory': 'data/data_processing/РАЗДЕЛ 6', 'filename': 'РАЗДЕЛ 6.docx', 'last_modified': '2025-07-08T17:17:29', 'languages': ['rus'], 'filetype': 'application/vnd.openxmlformats-officedocument.wordprocessingml.document', 'parent_id': '2e5d2cda56df42c8154d8441c00977b1', 'category': 'UncategorizedText', 'element_id': '194e2722fa98c7dd302e67f9392d139e'}, page_content='В период подготовки необходимо выполнить мероприятия, обеспечивающие безаварийный пуск секции.'),\n",
       " Document(metadata={'source': 'data/data_processing/РАЗДЕЛ 6/РАЗДЕЛ 6.docx', 'category_depth': 0, 'file_directory': 'data/data_processing/РАЗДЕЛ 6', 'filename': 'РАЗДЕЛ 6.docx', 'last_modified': '2025-07-08T17:17:29', 'languages': ['rus'], 'filetype': 'application/vnd.openxmlformats-officedocument.wordprocessingml.document', 'parent_id': '2e5d2cda56df42c8154d8441c00977b1', 'category': 'UncategorizedText', 'element_id': '20318c6273e1604ae215f9dd1c2a3ab3'}, page_content='Перед пуском установки необходимо:'),\n",
       " Document(metadata={'source': 'data/data_processing/РАЗДЕЛ 6/РАЗДЕЛ 6.docx', 'category_depth': 0, 'file_directory': 'data/data_processing/РАЗДЕЛ 6', 'filename': 'РАЗДЕЛ 6.docx', 'last_modified': '2025-07-08T17:17:29', 'languages': ['rus'], 'filetype': 'application/vnd.openxmlformats-officedocument.wordprocessingml.document', 'parent_id': '2e5d2cda56df42c8154d8441c00977b1', 'category': 'ListItem', 'element_id': '87ae94e2bfa18693f0213821e506b765'}, page_content='очистить территорию установки и помещений от посторонних предметов, закрыть технологические колодцы, засыпать крышки колодцев песком;'),\n",
       " Document(metadata={'source': 'data/data_processing/РАЗДЕЛ 6/РАЗДЕЛ 6.docx', 'category_depth': 0, 'file_directory': 'data/data_processing/РАЗДЕЛ 6', 'filename': 'РАЗДЕЛ 6.docx', 'last_modified': '2025-07-08T17:17:29', 'languages': ['rus'], 'filetype': 'application/vnd.openxmlformats-officedocument.wordprocessingml.document', 'parent_id': '2e5d2cda56df42c8154d8441c00977b1', 'category': 'ListItem', 'element_id': 'c7de08ab010b2bb7993b633e07c656ea'}, page_content='расчистить подъезды и проходы к противопожарному инвентарю и устройствам;'),\n",
       " Document(metadata={'source': 'data/data_processing/РАЗДЕЛ 6/РАЗДЕЛ 6.docx', 'category_depth': 0, 'file_directory': 'data/data_processing/РАЗДЕЛ 6', 'filename': 'РАЗДЕЛ 6.docx', 'last_modified': '2025-07-08T17:17:29', 'languages': ['rus'], 'filetype': 'application/vnd.openxmlformats-officedocument.wordprocessingml.document', 'parent_id': '2e5d2cda56df42c8154d8441c00977b1', 'category': 'ListItem', 'element_id': '740309a5454830665cb15644ebd3daae'}, page_content='аппараты и трубопроводы (особенно систему высокого давления) тщательно продуть для удаления пыли, грязи, окалины, проверить на проходимость. Затем, если позволяют погодные условия, промыть всю систему водой за исключением реакторного блока риформинга;'),\n",
       " Document(metadata={'source': 'data/data_processing/РАЗДЕЛ 6/РАЗДЕЛ 6.docx', 'category_depth': 0, 'file_directory': 'data/data_processing/РАЗДЕЛ 6', 'filename': 'РАЗДЕЛ 6.docx', 'last_modified': '2025-07-08T17:17:29', 'languages': ['rus'], 'filetype': 'application/vnd.openxmlformats-officedocument.wordprocessingml.document', 'parent_id': '2e5d2cda56df42c8154d8441c00977b1', 'category': 'ListItem', 'element_id': '7783df4f93d2073e63badaa6525f309c'}, page_content='укомплектовать установку обслуживающим персоналом в соответствии со штатным расписанием. Обслуживающий персонал должен пройти техническую учебу и иметь допуск к самостоятельной работе;'),\n",
       " Document(metadata={'source': 'data/data_processing/РАЗДЕЛ 6/РАЗДЕЛ 6.docx', 'category_depth': 0, 'file_directory': 'data/data_processing/РАЗДЕЛ 6', 'filename': 'РАЗДЕЛ 6.docx', 'last_modified': '2025-07-08T17:17:29', 'languages': ['rus'], 'filetype': 'application/vnd.openxmlformats-officedocument.wordprocessingml.document', 'parent_id': '2e5d2cda56df42c8154d8441c00977b1', 'category': 'ListItem', 'element_id': '55ca20c34ab7a1c0e25b2a518bc044c1'}, page_content='укомплектовать установку первичными средствами пожаротушения, необходимой документацией (инструкциями, журналами, режимными листами и т. д.), комплектами аварийных средств индивидуальной защиты;'),\n",
       " Document(metadata={'source': 'data/data_processing/РАЗДЕЛ 6/РАЗДЕЛ 6.docx', 'category_depth': 0, 'file_directory': 'data/data_processing/РАЗДЕЛ 6', 'filename': 'РАЗДЕЛ 6.docx', 'last_modified': '2025-07-08T17:17:29', 'languages': ['rus'], 'filetype': 'application/vnd.openxmlformats-officedocument.wordprocessingml.document', 'parent_id': '2e5d2cda56df42c8154d8441c00977b1', 'category': 'ListItem', 'element_id': 'c70cac903b971170bf702ce6846017f3'}, page_content='обеспечить обслуживающий персонал индивидуальными средствами защиты (спецодеждой, противогазами и т. д.);'),\n",
       " Document(metadata={'source': 'data/data_processing/РАЗДЕЛ 6/РАЗДЕЛ 6.docx', 'category_depth': 0, 'file_directory': 'data/data_processing/РАЗДЕЛ 6', 'filename': 'РАЗДЕЛ 6.docx', 'last_modified': '2025-07-08T17:17:29', 'languages': ['rus'], 'filetype': 'application/vnd.openxmlformats-officedocument.wordprocessingml.document', 'parent_id': '2e5d2cda56df42c8154d8441c00977b1', 'category': 'ListItem', 'element_id': 'abf16c7b705cd0b38d943a17606b1ad8'}, page_content='проверить схему установки на полноту снятия монтажных заглушек и установку постоянных заглушек;'),\n",
       " Document(metadata={'source': 'data/data_processing/РАЗДЕЛ 6/РАЗДЕЛ 6.docx', 'category_depth': 0, 'file_directory': 'data/data_processing/РАЗДЕЛ 6', 'filename': 'РАЗДЕЛ 6.docx', 'last_modified': '2025-07-08T17:17:29', 'languages': ['rus'], 'filetype': 'application/vnd.openxmlformats-officedocument.wordprocessingml.document', 'parent_id': '2e5d2cda56df42c8154d8441c00977b1', 'category': 'ListItem', 'element_id': '92b3243c9097a3e783322d560368050e'}, page_content='проверить: правильность сборки всех фланцевых соединений; укомплектованность их крепежом, его затяжку, набивку сальниковых уплотнений арматуры и клапанов КИП; выставить все технические манометры, предусмотренные схемой;'),\n",
       " Document(metadata={'source': 'data/data_processing/РАЗДЕЛ 6/РАЗДЕЛ 6.docx', 'category_depth': 0, 'file_directory': 'data/data_processing/РАЗДЕЛ 6', 'filename': 'РАЗДЕЛ 6.docx', 'last_modified': '2025-07-08T17:17:29', 'languages': ['rus'], 'filetype': 'application/vnd.openxmlformats-officedocument.wordprocessingml.document', 'parent_id': '2e5d2cda56df42c8154d8441c00977b1', 'category': 'ListItem', 'element_id': '843d8db7ad8e55b416b3a2282e01045d'}, page_content='проверить срок действия (для нового оборудования) и наличие сертификата соответствия Госстандарта России, а также наличие разрешения на применение оборудования, технических устройств и материалов,  выданное Ростехнадзором и срок его действия'),\n",
       " Document(metadata={'source': 'data/data_processing/РАЗДЕЛ 6/РАЗДЕЛ 6.docx', 'category_depth': 0, 'file_directory': 'data/data_processing/РАЗДЕЛ 6', 'filename': 'РАЗДЕЛ 6.docx', 'last_modified': '2025-07-08T17:17:29', 'languages': ['rus'], 'filetype': 'application/vnd.openxmlformats-officedocument.wordprocessingml.document', 'parent_id': '2e5d2cda56df42c8154d8441c00977b1', 'category': 'ListItem', 'element_id': 'e949595a1e447704f72d14dc47abf349'}, page_content='проверить схемы сигнализации и блокировок, связь, с составлением актов проверки их работоспособности;'),\n",
       " Document(metadata={'source': 'data/data_processing/РАЗДЕЛ 6/РАЗДЕЛ 6.docx', 'category_depth': 0, 'file_directory': 'data/data_processing/РАЗДЕЛ 6', 'filename': 'РАЗДЕЛ 6.docx', 'last_modified': '2025-07-08T17:17:29', 'languages': ['rus'], 'filetype': 'application/vnd.openxmlformats-officedocument.wordprocessingml.document', 'parent_id': '2e5d2cda56df42c8154d8441c00977b1', 'category': 'ListItem', 'element_id': '38268694cc49de933cb90d2abe69511a'}, page_content='принять на установку производственно-пожарную воду. Проверить работоспособность автоматических систем пожарной сигнализации, пенотушения и газотушения, пожарные гидранты и внутренние пожарные краны на комплектность, расход и напор с составлением актов;'),\n",
       " Document(metadata={'source': 'data/data_processing/РАЗДЕЛ 6/РАЗДЕЛ 6.docx', 'category_depth': 0, 'file_directory': 'data/data_processing/РАЗДЕЛ 6', 'filename': 'РАЗДЕЛ 6.docx', 'last_modified': '2025-07-08T17:17:29', 'languages': ['rus'], 'filetype': 'application/vnd.openxmlformats-officedocument.wordprocessingml.document', 'parent_id': '2e5d2cda56df42c8154d8441c00977b1', 'category': 'ListItem', 'element_id': '741212ef99938caccd978a98884c0ff1'}, page_content='работниками электроцеха в холодное время года проверяется работа электрообогревов трубопроводов, ППК, уровнемеров с составлением актов;'),\n",
       " Document(metadata={'source': 'data/data_processing/РАЗДЕЛ 6/РАЗДЕЛ 6.docx', 'category_depth': 0, 'file_directory': 'data/data_processing/РАЗДЕЛ 6', 'filename': 'РАЗДЕЛ 6.docx', 'last_modified': '2025-07-08T17:17:29', 'languages': ['rus'], 'filetype': 'application/vnd.openxmlformats-officedocument.wordprocessingml.document', 'parent_id': '2e5d2cda56df42c8154d8441c00977b1', 'category': 'ListItem', 'element_id': 'f95a580a8f0cb695078bcf06313060bc'}, page_content='установить съемные сетчатые фильтры на всасывающих линиях насосов;'),\n",
       " Document(metadata={'source': 'data/data_processing/РАЗДЕЛ 6/РАЗДЕЛ 6.docx', 'category_depth': 0, 'file_directory': 'data/data_processing/РАЗДЕЛ 6', 'filename': 'РАЗДЕЛ 6.docx', 'last_modified': '2025-07-08T17:17:29', 'languages': ['rus'], 'filetype': 'application/vnd.openxmlformats-officedocument.wordprocessingml.document', 'parent_id': '2e5d2cda56df42c8154d8441c00977b1', 'category': 'ListItem', 'element_id': '481d2edc05fa8e0d1f636f4298990b69'}, page_content='путем подачи воды проверить канализацию на проходимость, обратить особое внимание на правильную работу гидрозатворов в канализационных колодцах;'),\n",
       " Document(metadata={'source': 'data/data_processing/РАЗДЕЛ 6/РАЗДЕЛ 6.docx', 'category_depth': 0, 'file_directory': 'data/data_processing/РАЗДЕЛ 6', 'filename': 'РАЗДЕЛ 6.docx', 'last_modified': '2025-07-08T17:17:29', 'languages': ['rus'], 'filetype': 'application/vnd.openxmlformats-officedocument.wordprocessingml.document', 'parent_id': '2e5d2cda56df42c8154d8441c00977b1', 'category': 'ListItem', 'element_id': '0ce0bc9adc81fe250a32bd03b356caf0'}, page_content='проверить соответствие правилам устройства электрооборудования средств КИП, взрывобезопасность исполнения вентиляционных систем и электрооборудования, состояние термоизоляции, контуры заземления трубопроводов и арматуры, наличие системы грозозащиты, защиты от статического электричества, наличие аварийного освещения;'),\n",
       " Document(metadata={'source': 'data/data_processing/РАЗДЕЛ 6/РАЗДЕЛ 6.docx', 'category_depth': 0, 'file_directory': 'data/data_processing/РАЗДЕЛ 6', 'filename': 'РАЗДЕЛ 6.docx', 'last_modified': '2025-07-08T17:17:29', 'languages': ['rus'], 'filetype': 'application/vnd.openxmlformats-officedocument.wordprocessingml.document', 'parent_id': '2e5d2cda56df42c8154d8441c00977b1', 'category': 'ListItem', 'element_id': '5f3e17dd7dd1a0bf4d3ffa5547d45495'}, page_content='предохранительные клапаны должны быть проверены на соответствие установленному типоразмеру и установочному давлению, их запорные элементы должны быть в открытом положении. Необходимо убедиться в том, что из под всех предохранительных клапанов удалены заглушки, проверить наличие пломб;'),\n",
       " Document(metadata={'source': 'data/data_processing/РАЗДЕЛ 6/РАЗДЕЛ 6.docx', 'category_depth': 0, 'file_directory': 'data/data_processing/РАЗДЕЛ 6', 'filename': 'РАЗДЕЛ 6.docx', 'last_modified': '2025-07-08T17:17:29', 'languages': ['rus'], 'filetype': 'application/vnd.openxmlformats-officedocument.wordprocessingml.document', 'parent_id': '2e5d2cda56df42c8154d8441c00977b1', 'category': 'ListItem', 'element_id': 'efc7a3d23f5cffc781c3719d011da34d'}, page_content='все переключатели расходов, температуры, давления и уровня устанавливаются в заданные положения квалифицированным техником прибористом. Все функции аварийной сигнализации проверяются на правильность работы. Проверяются на правильность работы устройства аварийного и защитного отключения. Необходимо убедиться в том, что все концевые выключатели и их световые индикаторы функционируют правильно;'),\n",
       " Document(metadata={'source': 'data/data_processing/РАЗДЕЛ 6/РАЗДЕЛ 6.docx', 'category_depth': 0, 'file_directory': 'data/data_processing/РАЗДЕЛ 6', 'filename': 'РАЗДЕЛ 6.docx', 'last_modified': '2025-07-08T17:17:29', 'languages': ['rus'], 'filetype': 'application/vnd.openxmlformats-officedocument.wordprocessingml.document', 'parent_id': '2e5d2cda56df42c8154d8441c00977b1', 'category': 'ListItem', 'element_id': '5004db2a172027cfdd4e48dabd9ba26b'}, page_content='все трубопроводы приборов должны быть проверены на отсутствие течей, а регулирующие клапаны приведены в действие от местных регуляторов или регуляторов на панелях управления. При этом проверяются правильность функционирования клапана, длина хода штока клапана и направление потока. Все регулирующие приборы устанавливаются так, чтобы функционировали правильно. Производится проверка их пропорциональной установки и возврата на нуль;'),\n",
       " Document(metadata={'source': 'data/data_processing/РАЗДЕЛ 6/РАЗДЕЛ 6.docx', 'category_depth': 0, 'file_directory': 'data/data_processing/РАЗДЕЛ 6', 'filename': 'РАЗДЕЛ 6.docx', 'last_modified': '2025-07-08T17:17:29', 'languages': ['rus'], 'filetype': 'application/vnd.openxmlformats-officedocument.wordprocessingml.document', 'parent_id': '2e5d2cda56df42c8154d8441c00977b1', 'category': 'ListItem', 'element_id': 'cff49f0aa5df01630c9c6f1d87f437c1'}, page_content='блоки регулирования давления, расхода, уровня и температуры устанавливаются на нуль и согласуются с соответствующими приемниками и регуляторами. Там, где это приемлемо, установочные устройства регулирующих клапанов устанавливаются на регулирование в различных частях рабочего диапазона. Устанавливаются регуляторы разности давлений и регуляторы уровня поплавкового типа.'),\n",
       " Document(metadata={'source': 'data/data_processing/РАЗДЕЛ 6/РАЗДЕЛ 6.docx', 'category_depth': 0, 'file_directory': 'data/data_processing/РАЗДЕЛ 6', 'filename': 'РАЗДЕЛ 6.docx', 'last_modified': '2025-07-08T17:17:29', 'languages': ['rus'], 'filetype': 'application/vnd.openxmlformats-officedocument.wordprocessingml.document', 'parent_id': '2e5d2cda56df42c8154d8441c00977b1', 'category': 'ListItem', 'element_id': '9062ab291c7665fcea389a99613705bb'}, page_content='все диафрагмы проверяются на правильность размера отверстия и устанавливаются должным образом в заданных точках и с правильной ориентировкой по направлению потока в технологическом процессе;'),\n",
       " Document(metadata={'source': 'data/data_processing/РАЗДЕЛ 6/РАЗДЕЛ 6.docx', 'category_depth': 0, 'file_directory': 'data/data_processing/РАЗДЕЛ 6', 'filename': 'РАЗДЕЛ 6.docx', 'last_modified': '2025-07-08T17:17:29', 'languages': ['rus'], 'filetype': 'application/vnd.openxmlformats-officedocument.wordprocessingml.document', 'parent_id': '2e5d2cda56df42c8154d8441c00977b1', 'category': 'ListItem', 'element_id': 'd0868eac47327004ac2ae2a96b447d03'}, page_content='вентиляторы всех аппаратов воздушного охлаждения воздуха приводятся во вращение для проверки правильности установки и соосности. Шаг лопастей вентиляторов устанавливается таким образом, чтобы получить нужную силу тока двигателей. Проверяется возможность применения устройств гашения высокочастотных вибраций. Все электродвигатели должны быть правильно смазаны. Сопротивление всех проводов электродвигателей измеряется мегомметром. Холодильники с заслонками проверяются на плотность закрытия заслонок;'),\n",
       " Document(metadata={'source': 'data/data_processing/РАЗДЕЛ 6/РАЗДЕЛ 6.docx', 'category_depth': 0, 'file_directory': 'data/data_processing/РАЗДЕЛ 6', 'filename': 'РАЗДЕЛ 6.docx', 'last_modified': '2025-07-08T17:17:29', 'languages': ['rus'], 'filetype': 'application/vnd.openxmlformats-officedocument.wordprocessingml.document', 'parent_id': '2e5d2cda56df42c8154d8441c00977b1', 'category': 'ListItem', 'element_id': 'eb4076ee393f6f10182167c97de2454c'}, page_content='все защитное оборудование устанавливается в надлежащих местах и должно быть тщательно проверено. Сюда входит противопожарное оборудование, комплекты первой помощи и все виды специального защитного оборудования;'),\n",
       " Document(metadata={'source': 'data/data_processing/РАЗДЕЛ 6/РАЗДЕЛ 6.docx', 'category_depth': 0, 'file_directory': 'data/data_processing/РАЗДЕЛ 6', 'filename': 'РАЗДЕЛ 6.docx', 'last_modified': '2025-07-08T17:17:29', 'languages': ['rus'], 'filetype': 'application/vnd.openxmlformats-officedocument.wordprocessingml.document', 'parent_id': '2e5d2cda56df42c8154d8441c00977b1', 'category': 'ListItem', 'element_id': '9409fb35c8e3ba7ea0afe30324da5ad8'}, page_content='по мере готовности отдельных систем установки, связанных с общезаводским хозяйством, на установку принять: электроэнергию, воздух КИП, технический воздух, инертный газ, водяной пар, пусковой водород в соответствии с инструкциями по приему. Проверить систему пожаротушения установки с составлением актов;'),\n",
       " Document(metadata={'source': 'data/data_processing/РАЗДЕЛ 6/РАЗДЕЛ 6.docx', 'category_depth': 0, 'file_directory': 'data/data_processing/РАЗДЕЛ 6', 'filename': 'РАЗДЕЛ 6.docx', 'last_modified': '2025-07-08T17:17:29', 'languages': ['rus'], 'filetype': 'application/vnd.openxmlformats-officedocument.wordprocessingml.document', 'parent_id': '2e5d2cda56df42c8154d8441c00977b1', 'category': 'ListItem', 'element_id': '0ebf6246945ffca9aef5b5a4097fc49d'}, page_content='компрессоры подготавливаются к работе, их двигатели подвергаются замеру и проверяются на правильность вращения путем включения. Системы смазки и буферного газа подвергаются чистке и заправке. Перед пуском все устройства защитного выключения установки проверяются на правильность действия и устанавливаются должным образом. Должны быть установлены входные фильтры;'),\n",
       " Document(metadata={'source': 'data/data_processing/РАЗДЕЛ 6/РАЗДЕЛ 6.docx', 'category_depth': 0, 'file_directory': 'data/data_processing/РАЗДЕЛ 6', 'filename': 'РАЗДЕЛ 6.docx', 'last_modified': '2025-07-08T17:17:29', 'languages': ['rus'], 'filetype': 'application/vnd.openxmlformats-officedocument.wordprocessingml.document', 'parent_id': '2e5d2cda56df42c8154d8441c00977b1', 'category': 'ListItem', 'element_id': '3a7fd3719fad17e63f77a0b1ae736cd2'}, page_content='обкатать насосно-компрессорное оборудование;'),\n",
       " Document(metadata={'source': 'data/data_processing/РАЗДЕЛ 6/РАЗДЕЛ 6.docx', 'category_depth': 0, 'file_directory': 'data/data_processing/РАЗДЕЛ 6', 'filename': 'РАЗДЕЛ 6.docx', 'last_modified': '2025-07-08T17:17:29', 'languages': ['rus'], 'filetype': 'application/vnd.openxmlformats-officedocument.wordprocessingml.document', 'parent_id': '2e5d2cda56df42c8154d8441c00977b1', 'category': 'ListItem', 'element_id': '5eb359323dae36516d326346c78627e0'}, page_content='после выполнения ремонтных работ провести сушку кладки печей секции 200 в соответствии с инструкцией и графиком сушки кладки печей;'),\n",
       " Document(metadata={'source': 'data/data_processing/РАЗДЕЛ 6/РАЗДЕЛ 6.docx', 'category_depth': 0, 'file_directory': 'data/data_processing/РАЗДЕЛ 6', 'filename': 'РАЗДЕЛ 6.docx', 'last_modified': '2025-07-08T17:17:29', 'languages': ['rus'], 'filetype': 'application/vnd.openxmlformats-officedocument.wordprocessingml.document', 'parent_id': '2e5d2cda56df42c8154d8441c00977b1', 'category': 'ListItem', 'element_id': '0b7483ec410ec411cd4f0c6e81cea2ee'}, page_content='загрузить адсорбент и катализаторы в реакторы;'),\n",
       " Document(metadata={'source': 'data/data_processing/РАЗДЕЛ 6/РАЗДЕЛ 6.docx', 'category_depth': 0, 'file_directory': 'data/data_processing/РАЗДЕЛ 6', 'filename': 'РАЗДЕЛ 6.docx', 'last_modified': '2025-07-08T17:17:29', 'languages': ['rus'], 'filetype': 'application/vnd.openxmlformats-officedocument.wordprocessingml.document', 'parent_id': '2e5d2cda56df42c8154d8441c00977b1', 'category': 'ListItem', 'element_id': '1fd9f8d8f88fd1133e39900764b42464'}, page_content='проверить системы на плотность.'),\n",
       " Document(metadata={'source': 'data/data_processing/РАЗДЕЛ 6/РАЗДЕЛ 6.docx', 'category_depth': 0, 'emphasized_text_contents': ['6.1.2 Подготовительные операции пуска установки'], 'emphasized_text_tags': ['b'], 'file_directory': 'data/data_processing/РАЗДЕЛ 6', 'filename': 'РАЗДЕЛ 6.docx', 'last_modified': '2025-07-08T17:17:29', 'languages': ['rus'], 'filetype': 'application/vnd.openxmlformats-officedocument.wordprocessingml.document', 'parent_id': '2e5d2cda56df42c8154d8441c00977b1', 'category': 'UncategorizedText', 'element_id': 'fbc28655d595cf03a1b7a2803748118c'}, page_content='6.1.2 Подготовительные операции пуска установки'),\n",
       " Document(metadata={'source': 'data/data_processing/РАЗДЕЛ 6/РАЗДЕЛ 6.docx', 'category_depth': 0, 'file_directory': 'data/data_processing/РАЗДЕЛ 6', 'filename': 'РАЗДЕЛ 6.docx', 'last_modified': '2025-07-08T17:17:29', 'languages': ['rus'], 'filetype': 'application/vnd.openxmlformats-officedocument.wordprocessingml.document', 'parent_id': '2e5d2cda56df42c8154d8441c00977b1', 'category': 'UncategorizedText', 'element_id': 'b898d76c0ff10b64006051a5adfad877'}, page_content='Ниже рассматриваются технологические операции, проводимые в пусковой период, в том числе:'),\n",
       " Document(metadata={'source': 'data/data_processing/РАЗДЕЛ 6/РАЗДЕЛ 6.docx', 'category_depth': 0, 'file_directory': 'data/data_processing/РАЗДЕЛ 6', 'filename': 'РАЗДЕЛ 6.docx', 'last_modified': '2025-07-08T17:17:29', 'languages': ['rus'], 'filetype': 'application/vnd.openxmlformats-officedocument.wordprocessingml.document', 'parent_id': '2e5d2cda56df42c8154d8441c00977b1', 'category': 'ListItem', 'element_id': 'b5894923ef4f8c0e4e926f9fea07bd46'}, page_content='очистка оборудования и трубопроводов;'),\n",
       " Document(metadata={'source': 'data/data_processing/РАЗДЕЛ 6/РАЗДЕЛ 6.docx', 'category_depth': 0, 'file_directory': 'data/data_processing/РАЗДЕЛ 6', 'filename': 'РАЗДЕЛ 6.docx', 'last_modified': '2025-07-08T17:17:29', 'languages': ['rus'], 'filetype': 'application/vnd.openxmlformats-officedocument.wordprocessingml.document', 'parent_id': '2e5d2cda56df42c8154d8441c00977b1', 'category': 'ListItem', 'element_id': '047221be4c89cd6ae130040c18dd4fad'}, page_content='загрузка катализаторов и адсорбента;'),\n",
       " Document(metadata={'source': 'data/data_processing/РАЗДЕЛ 6/РАЗДЕЛ 6.docx', 'category_depth': 0, 'file_directory': 'data/data_processing/РАЗДЕЛ 6', 'filename': 'РАЗДЕЛ 6.docx', 'last_modified': '2025-07-08T17:17:29', 'languages': ['rus'], 'filetype': 'application/vnd.openxmlformats-officedocument.wordprocessingml.document', 'parent_id': '2e5d2cda56df42c8154d8441c00977b1', 'category': 'ListItem', 'element_id': 'd6fa307165ccf20856ff49aaae77af06'}, page_content='обкатка насосного оборудования;'),\n",
       " Document(metadata={'source': 'data/data_processing/РАЗДЕЛ 6/РАЗДЕЛ 6.docx', 'category_depth': 0, 'file_directory': 'data/data_processing/РАЗДЕЛ 6', 'filename': 'РАЗДЕЛ 6.docx', 'last_modified': '2025-07-08T17:17:29', 'languages': ['rus'], 'filetype': 'application/vnd.openxmlformats-officedocument.wordprocessingml.document', 'parent_id': '2e5d2cda56df42c8154d8441c00977b1', 'category': 'ListItem', 'element_id': '35231bc5459c061ac0a5b4d385835c49'}, page_content='обкатка аппаратов воздушного охлаждения;'),\n",
       " Document(metadata={'source': 'data/data_processing/РАЗДЕЛ 6/РАЗДЕЛ 6.docx', 'category_depth': 0, 'file_directory': 'data/data_processing/РАЗДЕЛ 6', 'filename': 'РАЗДЕЛ 6.docx', 'last_modified': '2025-07-08T17:17:29', 'languages': ['rus'], 'filetype': 'application/vnd.openxmlformats-officedocument.wordprocessingml.document', 'parent_id': '2e5d2cda56df42c8154d8441c00977b1', 'category': 'ListItem', 'element_id': '5ed5551e8f733569d576278fc7f45db6'}, page_content='обкатка компрессорного оборудования;'),\n",
       " Document(metadata={'source': 'data/data_processing/РАЗДЕЛ 6/РАЗДЕЛ 6.docx', 'category_depth': 0, 'file_directory': 'data/data_processing/РАЗДЕЛ 6', 'filename': 'РАЗДЕЛ 6.docx', 'last_modified': '2025-07-08T17:17:29', 'languages': ['rus'], 'filetype': 'application/vnd.openxmlformats-officedocument.wordprocessingml.document', 'parent_id': '2e5d2cda56df42c8154d8441c00977b1', 'category': 'ListItem', 'element_id': '5dc626cc5d067e0dff645d76bf7de846'}, page_content='испытание системы на плотность и прочность;'),\n",
       " Document(metadata={'source': 'data/data_processing/РАЗДЕЛ 6/РАЗДЕЛ 6.docx', 'category_depth': 0, 'file_directory': 'data/data_processing/РАЗДЕЛ 6', 'filename': 'РАЗДЕЛ 6.docx', 'last_modified': '2025-07-08T17:17:29', 'languages': ['rus'], 'filetype': 'application/vnd.openxmlformats-officedocument.wordprocessingml.document', 'parent_id': '2e5d2cda56df42c8154d8441c00977b1', 'category': 'ListItem', 'element_id': '215e0af6aca8833e5accd8939bbf97f0'}, page_content='пуск печного оборудования;'),\n",
       " Document(metadata={'source': 'data/data_processing/РАЗДЕЛ 6/РАЗДЕЛ 6.docx', 'category_depth': 0, 'file_directory': 'data/data_processing/РАЗДЕЛ 6', 'filename': 'РАЗДЕЛ 6.docx', 'last_modified': '2025-07-08T17:17:29', 'languages': ['rus'], 'filetype': 'application/vnd.openxmlformats-officedocument.wordprocessingml.document', 'parent_id': '2e5d2cda56df42c8154d8441c00977b1', 'category': 'ListItem', 'element_id': '613197b5928547090837a87bb73edb1b'}, page_content='продувка системы и удаление воздуха.'),\n",
       " Document(metadata={'source': 'data/data_processing/РАЗДЕЛ 6/РАЗДЕЛ 6.docx', 'category_depth': 0, 'emphasized_text_contents': ['6.1.2.1 Очистка оборудования и трубопроводов'], 'emphasized_text_tags': ['b'], 'file_directory': 'data/data_processing/РАЗДЕЛ 6', 'filename': 'РАЗДЕЛ 6.docx', 'last_modified': '2025-07-08T17:17:29', 'languages': ['rus'], 'filetype': 'application/vnd.openxmlformats-officedocument.wordprocessingml.document', 'parent_id': '2e5d2cda56df42c8154d8441c00977b1', 'category': 'UncategorizedText', 'element_id': '55dce059a8e056721bf8c9d7013bbf93'}, page_content='6.1.2.1 Очистка оборудования и трубопроводов'),\n",
       " Document(metadata={'source': 'data/data_processing/РАЗДЕЛ 6/РАЗДЕЛ 6.docx', 'category_depth': 0, 'file_directory': 'data/data_processing/РАЗДЕЛ 6', 'filename': 'РАЗДЕЛ 6.docx', 'last_modified': '2025-07-08T17:17:29', 'languages': ['rus'], 'filetype': 'application/vnd.openxmlformats-officedocument.wordprocessingml.document', 'parent_id': '2e5d2cda56df42c8154d8441c00977b1', 'category': 'NarrativeText', 'element_id': '4e24bf34ae4e587c0614143c05c19dd0'}, page_content='По окончании строительных работ трубы и оборудование установки должны быть очищены, т.к. в ходе строительства в трубопроводах и оборудовании скапливается окалина, строительный мусор, абразивная пыль и другие посторонние предметы, которые могут заблокировать или повредить оборудование установки при пуске или в процессе работы.'),\n",
       " Document(metadata={'source': 'data/data_processing/РАЗДЕЛ 6/РАЗДЕЛ 6.docx', 'category_depth': 0, 'file_directory': 'data/data_processing/РАЗДЕЛ 6', 'filename': 'РАЗДЕЛ 6.docx', 'last_modified': '2025-07-08T17:17:29', 'languages': ['rus'], 'filetype': 'application/vnd.openxmlformats-officedocument.wordprocessingml.document', 'parent_id': '2e5d2cda56df42c8154d8441c00977b1', 'category': 'NarrativeText', 'element_id': 'a71c77e63949d5c925a6c10939b27bdb'}, page_content='Для очистки трубопроводов и оборудования системы используется инертный газ, сжатый воздух, вода,  пар, паровой конденсат.  Если это практически целесообразно, система должна промываться средой, находящейся в этой системе при нормальной работе (газ, жидкость). '),\n",
       " Document(metadata={'source': 'data/data_processing/РАЗДЕЛ 6/РАЗДЕЛ 6.docx', 'category_depth': 0, 'file_directory': 'data/data_processing/РАЗДЕЛ 6', 'filename': 'РАЗДЕЛ 6.docx', 'last_modified': '2025-07-08T17:17:29', 'languages': ['rus'], 'filetype': 'application/vnd.openxmlformats-officedocument.wordprocessingml.document', 'parent_id': '2e5d2cda56df42c8154d8441c00977b1', 'category': 'NarrativeText', 'element_id': '77bdfc58556df06e401e00577d440da8'}, page_content='Промывка и продувка трубопроводов проводится в соответствии с разделом 8.4 «Промывка и продувка трубопровода» ПБ 03-585-03 «Правила устройства и безопасной эксплуатации трубопроводов».'),\n",
       " Document(metadata={'source': 'data/data_processing/РАЗДЕЛ 6/РАЗДЕЛ 6.docx', 'category_depth': 0, 'emphasized_text_contents': ['Промывка системы'], 'emphasized_text_tags': ['i'], 'file_directory': 'data/data_processing/РАЗДЕЛ 6', 'filename': 'РАЗДЕЛ 6.docx', 'last_modified': '2025-07-08T17:17:29', 'languages': ['rus'], 'filetype': 'application/vnd.openxmlformats-officedocument.wordprocessingml.document', 'parent_id': '2e5d2cda56df42c8154d8441c00977b1', 'category': 'UncategorizedText', 'element_id': '60a573f6d62b347f5c94a86de4573def'}, page_content='Промывка системы'),\n",
       " Document(metadata={'source': 'data/data_processing/РАЗДЕЛ 6/РАЗДЕЛ 6.docx', 'category_depth': 0, 'file_directory': 'data/data_processing/РАЗДЕЛ 6', 'filename': 'РАЗДЕЛ 6.docx', 'last_modified': '2025-07-08T17:17:29', 'languages': ['rus'], 'filetype': 'application/vnd.openxmlformats-officedocument.wordprocessingml.document', 'parent_id': '2e5d2cda56df42c8154d8441c00977b1', 'category': 'NarrativeText', 'element_id': '2367e4d25a7095ad68ece191084cdd82'}, page_content='Там где очистку желательно осуществлять чистой водой или паровым очищенным конденсатом  при промывке используется максимально возможное количество жидкости, скорость потока должна быть в интервале 1÷1,5 м/с.'),\n",
       " Document(metadata={'source': 'data/data_processing/РАЗДЕЛ 6/РАЗДЕЛ 6.docx', 'category_depth': 0, 'file_directory': 'data/data_processing/РАЗДЕЛ 6', 'filename': 'РАЗДЕЛ 6.docx', 'last_modified': '2025-07-08T17:17:29', 'languages': ['rus'], 'filetype': 'application/vnd.openxmlformats-officedocument.wordprocessingml.document', 'parent_id': '2e5d2cda56df42c8154d8441c00977b1', 'category': 'UncategorizedText', 'element_id': 'a535e17aab99a38c40b6e8d1a41abd7f'}, page_content='Трубопроводы газового тракта компрессора рекомендуется продувать воздухом или инертным газом (азотом).'),\n",
       " Document(metadata={'source': 'data/data_processing/РАЗДЕЛ 6/РАЗДЕЛ 6.docx', 'category_depth': 0, 'file_directory': 'data/data_processing/РАЗДЕЛ 6', 'filename': 'РАЗДЕЛ 6.docx', 'last_modified': '2025-07-08T17:17:29', 'languages': ['rus'], 'filetype': 'application/vnd.openxmlformats-officedocument.wordprocessingml.document', 'parent_id': '2e5d2cda56df42c8154d8441c00977b1', 'category': 'NarrativeText', 'element_id': 'ba671077b2ed2ad72ff4d2a472138daf'}, page_content='Трубопроводы воздуха КИП промывке не подвергаются, а по согласованию с диспетчером завода продуваются чистым и сухим воздухом. Линии КИП до начала промывки отсекаются или отсоединяются.'),\n",
       " Document(metadata={'source': 'data/data_processing/РАЗДЕЛ 6/РАЗДЕЛ 6.docx', 'category_depth': 0, 'file_directory': 'data/data_processing/РАЗДЕЛ 6', 'filename': 'РАЗДЕЛ 6.docx', 'last_modified': '2025-07-08T17:17:29', 'languages': ['rus'], 'filetype': 'application/vnd.openxmlformats-officedocument.wordprocessingml.document', 'parent_id': '2e5d2cda56df42c8154d8441c00977b1', 'category': 'NarrativeText', 'element_id': '4103b3b99eed5dd4268024ab8edad0e8'}, page_content='Перед промывкой необходимо принять меры предосторожности для защиты некоторых элементов систем. Особое внимание уделяется насосам и компрессорам, приборам, регулирующим клапанам, технологическим емкостям и теплообменникам. '),\n",
       " Document(metadata={'source': 'data/data_processing/РАЗДЕЛ 6/РАЗДЕЛ 6.docx', 'category_depth': 0, 'file_directory': 'data/data_processing/РАЗДЕЛ 6', 'filename': 'РАЗДЕЛ 6.docx', 'last_modified': '2025-07-08T17:17:29', 'languages': ['rus'], 'filetype': 'application/vnd.openxmlformats-officedocument.wordprocessingml.document', 'parent_id': '2e5d2cda56df42c8154d8441c00977b1', 'category': 'NarrativeText', 'element_id': '6f69fc250a6ac4b3cc24dacb92b59ae1'}, page_content='Насосы и компрессоры должны быть изолированы от потока промывочной жидкости, трубопроводы (подводящие и отводящие) отсоединить от корпусов. При промывке  всасывающих и нагнетательных патрубков слив должен располагаться как можно ближе к агрегатам, не допускается слив промывочной жидкости непосредственно в насос или компрессор. '),\n",
       " Document(metadata={'source': 'data/data_processing/РАЗДЕЛ 6/РАЗДЕЛ 6.docx', 'category_depth': 0, 'file_directory': 'data/data_processing/РАЗДЕЛ 6', 'filename': 'РАЗДЕЛ 6.docx', 'last_modified': '2025-07-08T17:17:29', 'languages': ['rus'], 'filetype': 'application/vnd.openxmlformats-officedocument.wordprocessingml.document', 'parent_id': '2e5d2cda56df42c8154d8441c00977b1', 'category': 'UncategorizedText', 'element_id': '750b7f147e76e9b01d748d3dfee77c90'}, page_content='Предохранительные клапаны необходимо изолировать заглушками.'),\n",
       " Document(metadata={'source': 'data/data_processing/РАЗДЕЛ 6/РАЗДЕЛ 6.docx', 'category_depth': 0, 'file_directory': 'data/data_processing/РАЗДЕЛ 6', 'filename': 'РАЗДЕЛ 6.docx', 'last_modified': '2025-07-08T17:17:29', 'languages': ['rus'], 'filetype': 'application/vnd.openxmlformats-officedocument.wordprocessingml.document', 'parent_id': '2e5d2cda56df42c8154d8441c00977b1', 'category': 'NarrativeText', 'element_id': '8a5ff3143ada437ef524be37abeb8afb'}, page_content='\\tВо время промывки снимаются диафрагмы, счетчики, анализаторы, отсекатели, дроссельные шайбы и другие приборы, и устанавливаются катушки и заглушки, вместо диафрагм устанавливаются монтажные шайбы. Регулирующие клапаны изолируются, и трубопровод до и после клапанов промывается через байпасную линию. '),\n",
       " Document(metadata={'source': 'data/data_processing/РАЗДЕЛ 6/РАЗДЕЛ 6.docx', 'category_depth': 0, 'file_directory': 'data/data_processing/РАЗДЕЛ 6', 'filename': 'РАЗДЕЛ 6.docx', 'last_modified': '2025-07-08T17:17:29', 'languages': ['rus'], 'filetype': 'application/vnd.openxmlformats-officedocument.wordprocessingml.document', 'parent_id': '2e5d2cda56df42c8154d8441c00977b1', 'category': 'NarrativeText', 'element_id': 'de4e5fc920ab8beac0efa9dc282a468e'}, page_content='Нельзя производить промывку через регулирующие шаровые клапаны. Шаровые регулирующие клапаны, если они не могут быть шунтированы при промывке, демонтируются и заменяются патрубками.'),\n",
       " Document(metadata={'source': 'data/data_processing/РАЗДЕЛ 6/РАЗДЕЛ 6.docx', 'category_depth': 0, 'file_directory': 'data/data_processing/РАЗДЕЛ 6', 'filename': 'РАЗДЕЛ 6.docx', 'last_modified': '2025-07-08T17:17:29', 'languages': ['rus'], 'filetype': 'application/vnd.openxmlformats-officedocument.wordprocessingml.document', 'parent_id': '2e5d2cda56df42c8154d8441c00977b1', 'category': 'UncategorizedText', 'element_id': '7d7ec1cb095d7478d0b20ba7e5987b61'}, page_content='Во время промывки арматура, установленная на спускных линиях и тупиковых участках, должна быть полностью открыта, а после окончания промывки тщательно осмотрена и очищена.'),\n",
       " Document(metadata={'source': 'data/data_processing/РАЗДЕЛ 6/РАЗДЕЛ 6.docx', 'category_depth': 0, 'file_directory': 'data/data_processing/РАЗДЕЛ 6', 'filename': 'РАЗДЕЛ 6.docx', 'last_modified': '2025-07-08T17:17:29', 'languages': ['rus'], 'filetype': 'application/vnd.openxmlformats-officedocument.wordprocessingml.document', 'parent_id': '2e5d2cda56df42c8154d8441c00977b1', 'category': 'UncategorizedText', 'element_id': 'a47bfa26c1a9ba3365a0d32fa13e84c1'}, page_content='Все системы должны промываться нисходящим потоком или в горизонтальном направлении со сливом в нижних точках системы через дренажные штуцеры или разболченные фланцы, расположенные как можно ближе к концу промываемого участка, которые  должны быть проверены на проходимость (визуально).'),\n",
       " Document(metadata={'source': 'data/data_processing/РАЗДЕЛ 6/РАЗДЕЛ 6.docx', 'category_depth': 0, 'file_directory': 'data/data_processing/РАЗДЕЛ 6', 'filename': 'РАЗДЕЛ 6.docx', 'last_modified': '2025-07-08T17:17:29', 'languages': ['rus'], 'filetype': 'application/vnd.openxmlformats-officedocument.wordprocessingml.document', 'parent_id': '2e5d2cda56df42c8154d8441c00977b1', 'category': 'UncategorizedText', 'element_id': 'b60fd543fec8e72dd15dcac34b431241'}, page_content='По возможности трубопроводы промываются в следующей последовательности:'),\n",
       " Document(metadata={'source': 'data/data_processing/РАЗДЕЛ 6/РАЗДЕЛ 6.docx', 'category_depth': 0, 'file_directory': 'data/data_processing/РАЗДЕЛ 6', 'filename': 'РАЗДЕЛ 6.docx', 'last_modified': '2025-07-08T17:17:29', 'languages': ['rus'], 'filetype': 'application/vnd.openxmlformats-officedocument.wordprocessingml.document', 'parent_id': '2e5d2cda56df42c8154d8441c00977b1', 'category': 'ListItem', 'element_id': '176356d050660832a1b550d402f11ca4'}, page_content='основной коллектор;'),\n",
       " Document(metadata={'source': 'data/data_processing/РАЗДЕЛ 6/РАЗДЕЛ 6.docx', 'category_depth': 0, 'file_directory': 'data/data_processing/РАЗДЕЛ 6', 'filename': 'РАЗДЕЛ 6.docx', 'last_modified': '2025-07-08T17:17:29', 'languages': ['rus'], 'filetype': 'application/vnd.openxmlformats-officedocument.wordprocessingml.document', 'parent_id': '2e5d2cda56df42c8154d8441c00977b1', 'category': 'ListItem', 'element_id': '7afb3ddd3ead7b8e456b1a8060dc84f2'}, page_content='вспомогательные трубопроводы;'),\n",
       " Document(metadata={'source': 'data/data_processing/РАЗДЕЛ 6/РАЗДЕЛ 6.docx', 'category_depth': 0, 'file_directory': 'data/data_processing/РАЗДЕЛ 6', 'filename': 'РАЗДЕЛ 6.docx', 'last_modified': '2025-07-08T17:17:29', 'languages': ['rus'], 'filetype': 'application/vnd.openxmlformats-officedocument.wordprocessingml.document', 'parent_id': '2e5d2cda56df42c8154d8441c00977b1', 'category': 'ListItem', 'element_id': '08a9777c92831277f48a8e4562b4ea78'}, page_content='каждое ответвление трубопровода (индивидуально после промывки основных трубопроводов);'),\n",
       " Document(metadata={'source': 'data/data_processing/РАЗДЕЛ 6/РАЗДЕЛ 6.docx', 'category_depth': 0, 'file_directory': 'data/data_processing/РАЗДЕЛ 6', 'filename': 'РАЗДЕЛ 6.docx', 'last_modified': '2025-07-08T17:17:29', 'languages': ['rus'], 'filetype': 'application/vnd.openxmlformats-officedocument.wordprocessingml.document', 'parent_id': '2e5d2cda56df42c8154d8441c00977b1', 'category': 'ListItem', 'element_id': 'a7a3fff413605913af347a9f1649b153'}, page_content='перед окончанием промывки следует дополнительно промыть все дренажные штуцеры.'),\n",
       " Document(metadata={'source': 'data/data_processing/РАЗДЕЛ 6/РАЗДЕЛ 6.docx', 'category_depth': 0, 'file_directory': 'data/data_processing/РАЗДЕЛ 6', 'filename': 'РАЗДЕЛ 6.docx', 'last_modified': '2025-07-08T17:17:29', 'languages': ['rus'], 'filetype': 'application/vnd.openxmlformats-officedocument.wordprocessingml.document', 'parent_id': '2e5d2cda56df42c8154d8441c00977b1', 'category': 'NarrativeText', 'element_id': 'c707c2b0ee0042041ee5a2f235749d8e'}, page_content='Трубопроводы следует промывать в направлении «от колонн, емкостей». Промывки системы через технологические аппараты следует по возможности избегать. Если, однако, байпасирование аппарата практически нецелесообразно или отсутствует, следует принять меры для защиты внутренних частей аппарата от повреждений, и после завершения промывки аппарат (теплообменник) следует открыть и прочистить. '),\n",
       " Document(metadata={'source': 'data/data_processing/РАЗДЕЛ 6/РАЗДЕЛ 6.docx', 'category_depth': 0, 'file_directory': 'data/data_processing/РАЗДЕЛ 6', 'filename': 'РАЗДЕЛ 6.docx', 'last_modified': '2025-07-08T17:17:29', 'languages': ['rus'], 'filetype': 'application/vnd.openxmlformats-officedocument.wordprocessingml.document', 'parent_id': '2e5d2cda56df42c8154d8441c00977b1', 'category': 'NarrativeText', 'element_id': '4272502153cb2d347ae9b1e5b81f08d8'}, page_content='Если требуется дросселирование промывочной среды, то дросселирующее устройство должно устанавливаться на входе, а не на выходе промываемого трубопровода. В отличие от дросселирования на выходе, дросселирование на входе обеспечивает более эффективную его очистку.'),\n",
       " Document(metadata={'source': 'data/data_processing/РАЗДЕЛ 6/РАЗДЕЛ 6.docx', 'category_depth': 0, 'file_directory': 'data/data_processing/РАЗДЕЛ 6', 'filename': 'РАЗДЕЛ 6.docx', 'last_modified': '2025-07-08T17:17:29', 'languages': ['rus'], 'filetype': 'application/vnd.openxmlformats-officedocument.wordprocessingml.document', 'parent_id': '2e5d2cda56df42c8154d8441c00977b1', 'category': 'UncategorizedText', 'element_id': 'a5324dd62c896fb63d2bade8e83b56e5'}, page_content='Заполнение и опорожнение аппаратов следует проводить с открытыми воздушниками во избежание вакуумирования.'),\n",
       " Document(metadata={'source': 'data/data_processing/РАЗДЕЛ 6/РАЗДЕЛ 6.docx', 'category_depth': 0, 'file_directory': 'data/data_processing/РАЗДЕЛ 6', 'filename': 'РАЗДЕЛ 6.docx', 'last_modified': '2025-07-08T17:17:29', 'languages': ['rus'], 'filetype': 'application/vnd.openxmlformats-officedocument.wordprocessingml.document', 'parent_id': '2e5d2cda56df42c8154d8441c00977b1', 'category': 'UncategorizedText', 'element_id': '10efe52b8913f17c6faadd709710d33f'}, page_content='На первой стадии промывка ведется через разболченные фланцы, через шланги, со сливом в канализацию до чистой воды. '),\n",
       " Document(metadata={'source': 'data/data_processing/РАЗДЕЛ 6/РАЗДЕЛ 6.docx', 'category_depth': 0, 'file_directory': 'data/data_processing/РАЗДЕЛ 6', 'filename': 'РАЗДЕЛ 6.docx', 'last_modified': '2025-07-08T17:17:29', 'languages': ['rus'], 'filetype': 'application/vnd.openxmlformats-officedocument.wordprocessingml.document', 'parent_id': '2e5d2cda56df42c8154d8441c00977b1', 'category': 'UncategorizedText', 'element_id': '0efb1359e3025e22471c19678a608fa7'}, page_content='Если промываемую воду нельзя слить самотеком, необходимо освободить трубопровод продувкой воздухом.'),\n",
       " Document(metadata={'source': 'data/data_processing/РАЗДЕЛ 6/РАЗДЕЛ 6.docx', 'category_depth': 0, 'file_directory': 'data/data_processing/РАЗДЕЛ 6', 'filename': 'РАЗДЕЛ 6.docx', 'last_modified': '2025-07-08T17:17:29', 'languages': ['rus'], 'filetype': 'application/vnd.openxmlformats-officedocument.wordprocessingml.document', 'parent_id': '2e5d2cda56df42c8154d8441c00977b1', 'category': 'UncategorizedText', 'element_id': '2ccdd0ccdabafc3d287e13832abf7d80'}, page_content='Промывка каждого участка трубопровода продолжается до тех пор, пока промывочная вода не станет чистой.'),\n",
       " Document(metadata={'source': 'data/data_processing/РАЗДЕЛ 6/РАЗДЕЛ 6.docx', 'category_depth': 0, 'file_directory': 'data/data_processing/РАЗДЕЛ 6', 'filename': 'РАЗДЕЛ 6.docx', 'last_modified': '2025-07-08T17:17:29', 'languages': ['rus'], 'filetype': 'application/vnd.openxmlformats-officedocument.wordprocessingml.document', 'parent_id': '2e5d2cda56df42c8154d8441c00977b1', 'category': 'NarrativeText', 'element_id': '516fc4a6672fe14e1c144dc1be6b4c4d'}, page_content='После проведения работ по очистке (промывки) собрать все отсоединенные трубопроводы, включая подводящие и отводящие трубопроводы насосов, восстановить центровку насосов.'),\n",
       " Document(metadata={'source': 'data/data_processing/РАЗДЕЛ 6/РАЗДЕЛ 6.docx', 'category_depth': 0, 'file_directory': 'data/data_processing/РАЗДЕЛ 6', 'filename': 'РАЗДЕЛ 6.docx', 'last_modified': '2025-07-08T17:17:29', 'languages': ['rus'], 'filetype': 'application/vnd.openxmlformats-officedocument.wordprocessingml.document', 'parent_id': '2e5d2cda56df42c8154d8441c00977b1', 'category': 'UncategorizedText', 'element_id': '4af7f4828e4cf79f6ef9e7dbb1f5e7bc'}, page_content='После промывки трубопроводы должны быть полностью опорожнены и продуты воздухом или инертным газом. '),\n",
       " Document(metadata={'source': 'data/data_processing/РАЗДЕЛ 6/РАЗДЕЛ 6.docx', 'category_depth': 0, 'emphasized_text_contents': ['Первоначальная продувка системы и проверка на проходимость'], 'emphasized_text_tags': ['i'], 'file_directory': 'data/data_processing/РАЗДЕЛ 6', 'filename': 'РАЗДЕЛ 6.docx', 'last_modified': '2025-07-08T17:17:29', 'languages': ['rus'], 'filetype': 'application/vnd.openxmlformats-officedocument.wordprocessingml.document', 'parent_id': '2e5d2cda56df42c8154d8441c00977b1', 'category': 'UncategorizedText', 'element_id': 'd1ec2cd52759f28f835e832394d3f367'}, page_content='Первоначальная продувка системы и проверка на проходимость'),\n",
       " Document(metadata={'source': 'data/data_processing/РАЗДЕЛ 6/РАЗДЕЛ 6.docx', 'category_depth': 0, 'file_directory': 'data/data_processing/РАЗДЕЛ 6', 'filename': 'РАЗДЕЛ 6.docx', 'last_modified': '2025-07-08T17:17:29', 'languages': ['rus'], 'filetype': 'application/vnd.openxmlformats-officedocument.wordprocessingml.document', 'parent_id': '2e5d2cda56df42c8154d8441c00977b1', 'category': 'NarrativeText', 'element_id': 'ffc4c5f97d09d7423fee43d756cfb484'}, page_content='Первоначальная продувка системы проводится для очистки трубопроводов и аппаратов, где применение промывки не желательно или недопустимо, а также с целью удаления влаги после промывки (осушка - для трубопроводов от- и к компрессорам). Для первоначальной продувки и проверки системы на проходимость может использоваться сжатый воздух, инертный газ. '),\n",
       " Document(metadata={'source': 'data/data_processing/РАЗДЕЛ 6/РАЗДЕЛ 6.docx', 'category_depth': 0, 'file_directory': 'data/data_processing/РАЗДЕЛ 6', 'filename': 'РАЗДЕЛ 6.docx', 'last_modified': '2025-07-08T17:17:29', 'languages': ['rus'], 'filetype': 'application/vnd.openxmlformats-officedocument.wordprocessingml.document', 'parent_id': '2e5d2cda56df42c8154d8441c00977b1', 'category': 'UncategorizedText', 'element_id': '5c4ac429c9ec6388ae5e0fc32c93660d'}, page_content='Перед продувкой необходимо убедиться, что все заглушки удалены, а все диафрагмы, счетчики, отсекатели, дроссельные шайбы, анализаторы в трубопроводах и другие приборы сняты, и вместо них установлены катушки или иные вспомогательные устройства (см.последовательность промывки секции).'),\n",
       " Document(metadata={'source': 'data/data_processing/РАЗДЕЛ 6/РАЗДЕЛ 6.docx', 'category_depth': 0, 'file_directory': 'data/data_processing/РАЗДЕЛ 6', 'filename': 'РАЗДЕЛ 6.docx', 'last_modified': '2025-07-08T17:17:29', 'languages': ['rus'], 'filetype': 'application/vnd.openxmlformats-officedocument.wordprocessingml.document', 'parent_id': '2e5d2cda56df42c8154d8441c00977b1', 'category': 'NarrativeText', 'element_id': 'ad779f42ae7821ba7d1d1d14d17767bc'}, page_content='Выпускные клапаны в верхних точках колонн и емкостей во время операции продувки должны быть открыты. Особое внимание следует уделить тщательной продувке всех тупиковых трубопроводов, таких как трубопроводы колонн, уровнемеров, рибойлеров, насосов, компрессоров.'),\n",
       " Document(metadata={'source': 'data/data_processing/РАЗДЕЛ 6/РАЗДЕЛ 6.docx', 'category_depth': 0, 'file_directory': 'data/data_processing/РАЗДЕЛ 6', 'filename': 'РАЗДЕЛ 6.docx', 'last_modified': '2025-07-08T17:17:29', 'languages': ['rus'], 'filetype': 'application/vnd.openxmlformats-officedocument.wordprocessingml.document', 'parent_id': '2e5d2cda56df42c8154d8441c00977b1', 'category': 'UncategorizedText', 'element_id': '58b916eefa032a10e3acdcc99b949b14'}, page_content='При проведении продувки рекомендуется продувать одновременно только один аппарат или систему, а затем переходить к продувке другого аппарата или системы. '),\n",
       " Document(metadata={'source': 'data/data_processing/РАЗДЕЛ 6/РАЗДЕЛ 6.docx', 'category_depth': 0, 'file_directory': 'data/data_processing/РАЗДЕЛ 6', 'filename': 'РАЗДЕЛ 6.docx', 'last_modified': '2025-07-08T17:17:29', 'languages': ['rus'], 'filetype': 'application/vnd.openxmlformats-officedocument.wordprocessingml.document', 'parent_id': '2e5d2cda56df42c8154d8441c00977b1', 'category': 'UncategorizedText', 'element_id': 'd4a3fc124e13b8ff3900b6ce860c441f'}, page_content='Фильтры и регулирующие клапаны продуваются по байпасам. '),\n",
       " Document(metadata={'source': 'data/data_processing/РАЗДЕЛ 6/РАЗДЕЛ 6.docx', 'category_depth': 0, 'file_directory': 'data/data_processing/РАЗДЕЛ 6', 'filename': 'РАЗДЕЛ 6.docx', 'last_modified': '2025-07-08T17:17:29', 'languages': ['rus'], 'filetype': 'application/vnd.openxmlformats-officedocument.wordprocessingml.document', 'parent_id': '2e5d2cda56df42c8154d8441c00977b1', 'category': 'UncategorizedText', 'element_id': 'fcddbd6ecc2f8fb8c808ed0563549e43'}, page_content='Рекомендуется при продувке делать пометки на схеме продувки, с тем чтобы убедится что продуты все аппараты и трубопроводы.'),\n",
       " Document(metadata={'source': 'data/data_processing/РАЗДЕЛ 6/РАЗДЕЛ 6.docx', 'category_depth': 0, 'file_directory': 'data/data_processing/РАЗДЕЛ 6', 'filename': 'РАЗДЕЛ 6.docx', 'last_modified': '2025-07-08T17:17:29', 'languages': ['rus'], 'filetype': 'application/vnd.openxmlformats-officedocument.wordprocessingml.document', 'parent_id': '2e5d2cda56df42c8154d8441c00977b1', 'category': 'UncategorizedText', 'element_id': '130ad4f1e73f28564cbfd34464d9a2a7'}, page_content='Проверка на проходимость и продувка всех аппаратов и трубопроводов осуществляется  в дренажи и воздушники во избежание переноса грязи  и окалины в последующие трубопроводы.'),\n",
       " Document(metadata={'source': 'data/data_processing/РАЗДЕЛ 6/РАЗДЕЛ 6.docx', 'category_depth': 0, 'file_directory': 'data/data_processing/РАЗДЕЛ 6', 'filename': 'РАЗДЕЛ 6.docx', 'last_modified': '2025-07-08T17:17:29', 'languages': ['rus'], 'filetype': 'application/vnd.openxmlformats-officedocument.wordprocessingml.document', 'parent_id': '2e5d2cda56df42c8154d8441c00977b1', 'category': 'UncategorizedText', 'element_id': 'f3082cfb842a1592727323f4173921e3'}, page_content='При отсутствии дренажа продувка проводится  через  разболченные фланцы с установкой экрана на конечный разболченный фланец.'),\n",
       " Document(metadata={'source': 'data/data_processing/РАЗДЕЛ 6/РАЗДЕЛ 6.docx', 'category_depth': 0, 'file_directory': 'data/data_processing/РАЗДЕЛ 6', 'filename': 'РАЗДЕЛ 6.docx', 'last_modified': '2025-07-08T17:17:29', 'languages': ['rus'], 'filetype': 'application/vnd.openxmlformats-officedocument.wordprocessingml.document', 'parent_id': '2e5d2cda56df42c8154d8441c00977b1', 'category': 'NarrativeText', 'element_id': '1303246ac0c94e8c8fc4dce9c1d81e87'}, page_content='Продувка считается законченной,  если на выходе продуваемого участка схемы сбрасывается сухой и чистый  (без  механических  частиц) продувочный газ.'),\n",
       " Document(metadata={'source': 'data/data_processing/РАЗДЕЛ 6/РАЗДЕЛ 6.docx', 'category_depth': 0, 'file_directory': 'data/data_processing/РАЗДЕЛ 6', 'filename': 'РАЗДЕЛ 6.docx', 'last_modified': '2025-07-08T17:17:29', 'languages': ['rus'], 'filetype': 'application/vnd.openxmlformats-officedocument.wordprocessingml.document', 'parent_id': '2e5d2cda56df42c8154d8441c00977b1', 'category': 'UncategorizedText', 'element_id': 'ee378e5391032cd5fcb0bb64d33398e6'}, page_content='После очистки оборудования и трубопроводов и проверки систем КИПиА проводятся гидравлические испытания системы.'),\n",
       " Document(metadata={'source': 'data/data_processing/РАЗДЕЛ 6/РАЗДЕЛ 6.docx', 'category_depth': 3, 'emphasized_text_contents': ['Загрузка катализаторов и адсорбента'], 'emphasized_text_tags': ['b'], 'file_directory': 'data/data_processing/РАЗДЕЛ 6', 'filename': 'РАЗДЕЛ 6.docx', 'last_modified': '2025-07-08T17:17:29', 'languages': ['rus'], 'filetype': 'application/vnd.openxmlformats-officedocument.wordprocessingml.document', 'parent_id': '2e5d2cda56df42c8154d8441c00977b1', 'category': 'ListItem', 'element_id': '157edf0dc802450889397a2af1f45122'}, page_content='Загрузка катализаторов и адсорбента'),\n",
       " Document(metadata={'source': 'data/data_processing/РАЗДЕЛ 6/РАЗДЕЛ 6.docx', 'category_depth': 0, 'file_directory': 'data/data_processing/РАЗДЕЛ 6', 'filename': 'РАЗДЕЛ 6.docx', 'last_modified': '2025-07-08T17:17:29', 'languages': ['rus'], 'filetype': 'application/vnd.openxmlformats-officedocument.wordprocessingml.document', 'parent_id': '2e5d2cda56df42c8154d8441c00977b1', 'category': 'NarrativeText', 'element_id': '77a16af046292fa12bd0437265884651'}, page_content='На установке имеется три реактора риформинга и реактор сероочистки. Все реакторы аксиальные, с верхней подачей и нижним отбором реакционной смеси. В реакторы R-201 R-202, R-203 загружен платиново-рениевый катализатор риформинга РБ-44У марки «Ш» или платино-рениевый катализатор КР-108У. В реактор сероочистки R-204 загружено два катализатора: адсорбент глубокой сероочистки АГС-60 и платиновый катализатор риформинга АП-56. Данные по загрузке катализаторов представлены в таблице 6.1.'),\n",
       " Document(metadata={'source': 'data/data_processing/РАЗДЕЛ 6/РАЗДЕЛ 6.docx', 'category_depth': 0, 'file_directory': 'data/data_processing/РАЗДЕЛ 6', 'filename': 'РАЗДЕЛ 6.docx', 'last_modified': '2025-07-08T17:17:29', 'languages': ['rus'], 'filetype': 'application/vnd.openxmlformats-officedocument.wordprocessingml.document', 'parent_id': '2e5d2cda56df42c8154d8441c00977b1', 'category': 'UncategorizedText', 'element_id': '0c6090721fd78847cb2c9def3c035d46'}, page_content='Таблица 6.1'),\n",
       " Document(metadata={'source': 'data/data_processing/РАЗДЕЛ 6/РАЗДЕЛ 6.docx', 'emphasized_text_contents': ['Реакторы', 'R', '-201', 'R-202', 'R-203', 'R-204', 'R-204', '/РБ-44У', '/РБ-44У', '/РБ-44У', '/РБ-44У', '/РБ-44У', '/РБ-44У', '**', '/1,9', '/1,9', '/2,5', '/2,5', '/4,6', '/4,6', '*', '/1,7', '/1,7', '/2,5', '/2,5', '/2,5', '/2,5'], 'emphasized_text_tags': ['b', 'b', 'b', 'b', 'b', 'b', 'b', 'b', 'i', 'b', 'i', 'b', 'i', 'b', 'b', 'i', 'b', 'i', 'b', 'i', 'b', 'b', 'i', 'b', 'i', 'b', 'i'], 'file_directory': 'data/data_processing/РАЗДЕЛ 6', 'filename': 'РАЗДЕЛ 6.docx', 'last_modified': '2025-07-08T17:17:29', 'text_as_html': '<table><tr><td>Реакторы</td><td>R-201</td><td>R-202</td><td>R-203</td><td>R-204</td><td>R-204</td></tr><tr><td>Марка катализатора</td><td>КР-108У/РБ-44У</td><td>КР-108У/РБ-44У</td><td>КР-108У/РБ-44У</td><td>АГС-60</td><td>АП-56**</td></tr><tr><td>Вес, т</td><td>1,4/1,9</td><td>1,8/2,5</td><td>3,3/4,6</td><td>12,5*</td><td>0,7</td></tr><tr><td>Объем, м3</td><td>2,3</td><td>3,4</td><td>5,7</td><td>11,3</td><td>1,16</td></tr><tr><td>Высота слоя, м</td><td>1,6/1,7</td><td>2,4/2,5</td><td>2,3/2,5</td><td>5,2</td><td>0,36</td></tr></table>', 'languages': ['rus'], 'filetype': 'application/vnd.openxmlformats-officedocument.wordprocessingml.document', 'parent_id': '2e5d2cda56df42c8154d8441c00977b1', 'category': 'Table', 'element_id': '1107755e647ffd1573c2d0d3c4de415e'}, page_content='Реакторы R-201 R-202 R-203 R-204 Марка катализатора КР-108У/РБ-44У КР-108У/РБ-44У КР-108У/РБ-44У АГС-60 АП-56** Вес, т 1,4/1,9 1,8/2,5 3,3/4,6 12,5* 0,7 Объем, м3 2,3 3,4 5,7 11,3 1,16 Высота слоя, м 1,6/1,7 2,4/2,5 2,3/2,5 5,2 0,36'),\n",
       " Document(metadata={'source': 'data/data_processing/РАЗДЕЛ 6/РАЗДЕЛ 6.docx', 'category_depth': 0, 'emphasized_text_contents': ['*', 'в случае использования в качестве сырья гидрогенизат секции 400 КОМТ загрузку адсорбента  сероочистки можно уменьшить до 3 тонн'], 'emphasized_text_tags': ['b', 'i'], 'file_directory': 'data/data_processing/РАЗДЕЛ 6', 'filename': 'РАЗДЕЛ 6.docx', 'last_modified': '2025-07-08T17:17:29', 'languages': ['rus'], 'filetype': 'application/vnd.openxmlformats-officedocument.wordprocessingml.document', 'parent_id': '2e5d2cda56df42c8154d8441c00977b1', 'category': 'ListItem', 'element_id': '93837c6726a6c8bdbb8015c5d6b0bde0'}, page_content='- в случае использования в качестве сырья гидрогенизат секции 400 КОМТ загрузку адсорбента  сероочистки можно уменьшить до 3 тонн'),\n",
       " Document(metadata={'source': 'data/data_processing/РАЗДЕЛ 6/РАЗДЕЛ 6.docx', 'category_depth': 0, 'emphasized_text_contents': ['**', 'при необходимости существует возможность  работы реакторного блока без использования катализатора риформинга марки АП-56, т.е. в реактор', 'R', '-204 загружается только адсорбент сероочистки марки АГС-60.'], 'emphasized_text_tags': ['b', 'i', 'i', 'i'], 'file_directory': 'data/data_processing/РАЗДЕЛ 6', 'filename': 'РАЗДЕЛ 6.docx', 'last_modified': '2025-07-08T17:17:29', 'languages': ['rus'], 'filetype': 'application/vnd.openxmlformats-officedocument.wordprocessingml.document', 'parent_id': '2e5d2cda56df42c8154d8441c00977b1', 'category': 'NarrativeText', 'element_id': 'e3d3401f683579780cec601ecf83971f'}, page_content='** - при необходимости существует возможность  работы реакторного блока без использования катализатора риформинга марки АП-56, т.е. в реактор R-204 загружается только адсорбент сероочистки марки АГС-60.'),\n",
       " Document(metadata={'source': 'data/data_processing/РАЗДЕЛ 6/РАЗДЕЛ 6.docx', 'category_depth': 0, 'file_directory': 'data/data_processing/РАЗДЕЛ 6', 'filename': 'РАЗДЕЛ 6.docx', 'last_modified': '2025-07-08T17:17:29', 'languages': ['rus'], 'filetype': 'application/vnd.openxmlformats-officedocument.wordprocessingml.document', 'parent_id': '2e5d2cda56df42c8154d8441c00977b1', 'category': 'NarrativeText', 'element_id': '474a9495b16c782ce2e4ce2dabfe46e0'}, page_content='В нижнюю часть каждого реактора риформинга для создания опорного газопроницаемого слоя загружают инертный материал (фарфоровые шарики разного диаметра). Далее в реакторах R-201–203 загружается платиново-рениевый катализатор, после чего на слой катализатора устанавливаются корзины. Поверх слоя катализатора укладывается слой инертного материала (фарфоровые шарики (20-25 мм). Этот слой должен отстоять от края корзин не менее чем на 8 см, что облегчает удаление корзин при смене катализатора. При засыпке в реакторы риформинга катализатора РБ-44У марки «Ш» поверх нижнего и ниже верхнего слоя инертного материала укладывают металлическую сетку из нержавеющей стали стойкой к водородной коррозии с диаметром отверстий не более 1,0 мм которая распорными устройствами крепится к внутренней стенке реактора. Данная схема загрузки исключит проскок катализатора имеющую шарообразную форму в систему реакторного блока. При этом корзины поверх слоя катализатора не устанавливаются.'),\n",
       " Document(metadata={'source': 'data/data_processing/РАЗДЕЛ 6/РАЗДЕЛ 6.docx', 'category_depth': 0, 'file_directory': 'data/data_processing/РАЗДЕЛ 6', 'filename': 'РАЗДЕЛ 6.docx', 'last_modified': '2025-07-08T17:17:29', 'languages': ['rus'], 'filetype': 'application/vnd.openxmlformats-officedocument.wordprocessingml.document', 'parent_id': '2e5d2cda56df42c8154d8441c00977b1', 'category': 'UncategorizedText', 'element_id': '51e43e53838cb430c8352c9d988a4dd2'}, page_content='Реактор R-204 имеет особенность при загрузке двух катализаторов.'),\n",
       " Document(metadata={'source': 'data/data_processing/РАЗДЕЛ 6/РАЗДЕЛ 6.docx', 'category_depth': 0, 'file_directory': 'data/data_processing/РАЗДЕЛ 6', 'filename': 'РАЗДЕЛ 6.docx', 'last_modified': '2025-07-08T17:17:29', 'languages': ['rus'], 'filetype': 'application/vnd.openxmlformats-officedocument.wordprocessingml.document', 'parent_id': '2e5d2cda56df42c8154d8441c00977b1', 'category': 'UncategorizedText', 'element_id': 'cc24af10544b81cc52132a14982351da'}, page_content='На разгрузочный патрубок внутри реактора устанавливается съемный патрубок.'),\n",
       " Document(metadata={'source': 'data/data_processing/РАЗДЕЛ 6/РАЗДЕЛ 6.docx', 'category_depth': 0, 'file_directory': 'data/data_processing/РАЗДЕЛ 6', 'filename': 'РАЗДЕЛ 6.docx', 'last_modified': '2025-07-08T17:17:29', 'languages': ['rus'], 'filetype': 'application/vnd.openxmlformats-officedocument.wordprocessingml.document', 'parent_id': '2e5d2cda56df42c8154d8441c00977b1', 'category': 'NarrativeText', 'element_id': '8814b5c7dbf4c90ced6bd9954389d448'}, page_content='В нижнюю часть реактора загружают инертный материал (фарфоровые шарики разного диаметра). Потом засыпается платиновый катализатор АП-56. На слой катализатора АП-56 загружают слой инертного материала (фарфоровые шарики диаметром 10 мм) высотой 10 см. Причем верхний слой инертного материала находится вровень с верхней частью съемного патрубка. Далее загружается катализатор АГС-60. После чего как и в реакторах R-201–203 устанавливаются корзины и поверх слоя катализатора опять загружается инертный материал.'),\n",
       " Document(metadata={'source': 'data/data_processing/РАЗДЕЛ 6/РАЗДЕЛ 6.docx', 'category_depth': 0, 'file_directory': 'data/data_processing/РАЗДЕЛ 6', 'filename': 'РАЗДЕЛ 6.docx', 'last_modified': '2025-07-08T17:17:29', 'languages': ['rus'], 'filetype': 'application/vnd.openxmlformats-officedocument.wordprocessingml.document', 'parent_id': '2e5d2cda56df42c8154d8441c00977b1', 'category': 'NarrativeText', 'element_id': '4a0937b7c2ef7d1cdc0a0213373d64e0'}, page_content='Разгрузочные патрубки реакторов перед загрузкой заполняются инертным материалом (шариками диаметром 3–10 мм). Загрузка производится таким образом, чтобы свести к минимуму измельчение катализаторов и предотвратить их увлажнение. При загрузке используют механическое перемещение бочек с катализатором, загрузочные бункеры-воронки, тканевые рукава, опускаемые в реакторы до верха формируемого слоя. Отдельные слои инертного материала и катализатора разравнивают, чтобы создать однородные условия течения реакционной смеси.'),\n",
       " Document(metadata={'source': 'data/data_processing/РАЗДЕЛ 6/РАЗДЕЛ 6.docx', 'category_depth': 0, 'file_directory': 'data/data_processing/РАЗДЕЛ 6', 'filename': 'РАЗДЕЛ 6.docx', 'last_modified': '2025-07-08T17:17:29', 'languages': ['rus'], 'filetype': 'application/vnd.openxmlformats-officedocument.wordprocessingml.document', 'parent_id': '2e5d2cda56df42c8154d8441c00977b1', 'category': 'UncategorizedText', 'element_id': '9b644d4369f725684bb2f991b14b7d2d'}, page_content='При загрузке катализатора необходимо соблюдать следующие правила:'),\n",
       " Document(metadata={'source': 'data/data_processing/РАЗДЕЛ 6/РАЗДЕЛ 6.docx', 'category_depth': 0, 'file_directory': 'data/data_processing/РАЗДЕЛ 6', 'filename': 'РАЗДЕЛ 6.docx', 'last_modified': '2025-07-08T17:17:29', 'languages': ['rus'], 'filetype': 'application/vnd.openxmlformats-officedocument.wordprocessingml.document', 'parent_id': '2e5d2cda56df42c8154d8441c00977b1', 'category': 'ListItem', 'element_id': 'e83f1abb3823d0bafdaba84771d7c3d2'}, page_content='в начале загрузки катализатора скорость загрузки следует регулировать таким образом, чтобы не нарушать ниже лежащий слой мелкозернистого опорного материала;'),\n",
       " Document(metadata={'source': 'data/data_processing/РАЗДЕЛ 6/РАЗДЕЛ 6.docx', 'category_depth': 0, 'file_directory': 'data/data_processing/РАЗДЕЛ 6', 'filename': 'РАЗДЕЛ 6.docx', 'last_modified': '2025-07-08T17:17:29', 'languages': ['rus'], 'filetype': 'application/vnd.openxmlformats-officedocument.wordprocessingml.document', 'parent_id': '2e5d2cda56df42c8154d8441c00977b1', 'category': 'ListItem', 'element_id': 'f6eb2a6dfe83eb357264361da600c792'}, page_content='лица, находящиеся при загрузке внутри реактора, должны соблюдать меры предосторожности, должны быть в шланговых противогазах;'),\n",
       " Document(metadata={'source': 'data/data_processing/РАЗДЕЛ 6/РАЗДЕЛ 6.docx', 'category_depth': 0, 'file_directory': 'data/data_processing/РАЗДЕЛ 6', 'filename': 'РАЗДЕЛ 6.docx', 'last_modified': '2025-07-08T17:17:29', 'languages': ['rus'], 'filetype': 'application/vnd.openxmlformats-officedocument.wordprocessingml.document', 'parent_id': '2e5d2cda56df42c8154d8441c00977b1', 'category': 'ListItem', 'element_id': '17614a07f8cd33e0aee320d1736aa84e'}, page_content='как указано выше, каждый слой должен быть тщательно выровнен и измерен, а по окончании загрузки должна быть сделана соответствующая запись;'),\n",
       " Document(metadata={'source': 'data/data_processing/РАЗДЕЛ 6/РАЗДЕЛ 6.docx', 'category_depth': 0, 'file_directory': 'data/data_processing/РАЗДЕЛ 6', 'filename': 'РАЗДЕЛ 6.docx', 'last_modified': '2025-07-08T17:17:29', 'languages': ['rus'], 'filetype': 'application/vnd.openxmlformats-officedocument.wordprocessingml.document', 'parent_id': '2e5d2cda56df42c8154d8441c00977b1', 'category': 'ListItem', 'element_id': 'a6d44dddee38b951fab17cde08f60585'}, page_content='необходимо избегать ситуаций, когда оба штуцера реактора открыты, так как при этом возникает естественный поток воздуха через слой катализатора. Свежий катализатор гигроскопичен и может поглощать влагу из воздуха. Содержанию катализатора в сухом состоянии способствует приток сухого воздуха, подаваемого у днища катализатора;'),\n",
       " Document(metadata={'source': 'data/data_processing/РАЗДЕЛ 6/РАЗДЕЛ 6.docx', 'category_depth': 0, 'file_directory': 'data/data_processing/РАЗДЕЛ 6', 'filename': 'РАЗДЕЛ 6.docx', 'last_modified': '2025-07-08T17:17:29', 'languages': ['rus'], 'filetype': 'application/vnd.openxmlformats-officedocument.wordprocessingml.document', 'parent_id': '2e5d2cda56df42c8154d8441c00977b1', 'category': 'ListItem', 'element_id': '87e7a666bc18dbbc75a92baaf5ef3569'}, page_content='по окончании загрузки из корзин удаляется материал, помещенный в них для предотвращения попадания инертных материалов или катализатора в корзины.'),\n",
       " Document(metadata={'source': 'data/data_processing/РАЗДЕЛ 6/РАЗДЕЛ 6.docx', 'category_depth': 0, 'emphasized_text_contents': ['6.1.2.3 Подготовка системы КИПиА к пуску и испытание ее эксплуатационной готовности'], 'emphasized_text_tags': ['b'], 'file_directory': 'data/data_processing/РАЗДЕЛ 6', 'filename': 'РАЗДЕЛ 6.docx', 'last_modified': '2025-07-08T17:17:29', 'languages': ['rus'], 'filetype': 'application/vnd.openxmlformats-officedocument.wordprocessingml.document', 'parent_id': '2e5d2cda56df42c8154d8441c00977b1', 'category': 'UncategorizedText', 'element_id': 'ca9b10c27fab1ef4575bb76b6cbd75aa'}, page_content='6.1.2.3 Подготовка системы КИПиА к пуску и испытание ее эксплуатационной готовности'),\n",
       " Document(metadata={'source': 'data/data_processing/РАЗДЕЛ 6/РАЗДЕЛ 6.docx', 'category_depth': 0, 'file_directory': 'data/data_processing/РАЗДЕЛ 6', 'filename': 'РАЗДЕЛ 6.docx', 'last_modified': '2025-07-08T17:17:29', 'languages': ['rus'], 'filetype': 'application/vnd.openxmlformats-officedocument.wordprocessingml.document', 'parent_id': '2e5d2cda56df42c8154d8441c00977b1', 'category': 'UncategorizedText', 'element_id': 'f8dbf1719c57b71b44305009d2d5bc66'}, page_content='Подготовка технических средств КИПиА к пуску должна осуществляться в соответствии с требованиями инструкций заводов-изготовителей КИПиА по техническому обслуживанию, все средства измерения должны иметь действующие свидетельства о поверке (калибровке).'),\n",
       " Document(metadata={'source': 'data/data_processing/РАЗДЕЛ 6/РАЗДЕЛ 6.docx', 'category_depth': 0, 'file_directory': 'data/data_processing/РАЗДЕЛ 6', 'filename': 'РАЗДЕЛ 6.docx', 'last_modified': '2025-07-08T17:17:29', 'languages': ['rus'], 'filetype': 'application/vnd.openxmlformats-officedocument.wordprocessingml.document', 'parent_id': '2e5d2cda56df42c8154d8441c00977b1', 'category': 'UncategorizedText', 'element_id': '1a8cb63ceddd20a260ab74213505bd33'}, page_content='При подготовке системы КИПиА должна быть проведена проверка работоспособности контуров измерений, регулирования, управления, сигнализаций, блокировок -  все системы передачи данных по каждому прибору, должны быть оттарированы приборы и проверена синхронизация показаний передающих и принимающих устройств по каждому прибору.'),\n",
       " Document(metadata={'source': 'data/data_processing/РАЗДЕЛ 6/РАЗДЕЛ 6.docx', 'category_depth': 0, 'file_directory': 'data/data_processing/РАЗДЕЛ 6', 'filename': 'РАЗДЕЛ 6.docx', 'last_modified': '2025-07-08T17:17:29', 'languages': ['rus'], 'filetype': 'application/vnd.openxmlformats-officedocument.wordprocessingml.document', 'parent_id': '2e5d2cda56df42c8154d8441c00977b1', 'category': 'NarrativeText', 'element_id': '58b0e6557dde7b4e4c0a8902865d3748'}, page_content='Демонтированные для операций по промывке и продувке приборы устанавливаются на место в соответствии с технологической схемой (или подключаются если были отглушены). Если в течение последующих предпусковых операций какой-либо прибор или контур отключается или демонтируется, то все приведенные в данном разделе после завершения операции и подключения прибора повторяются. '),\n",
       " Document(metadata={'source': 'data/data_processing/РАЗДЕЛ 6/РАЗДЕЛ 6.docx', 'category_depth': 0, 'file_directory': 'data/data_processing/РАЗДЕЛ 6', 'filename': 'РАЗДЕЛ 6.docx', 'last_modified': '2025-07-08T17:17:29', 'languages': ['rus'], 'filetype': 'application/vnd.openxmlformats-officedocument.wordprocessingml.document', 'parent_id': '2e5d2cda56df42c8154d8441c00977b1', 'category': 'UncategorizedText', 'element_id': '7803f1d7af80ea08534b6b13e9d74ddd'}, page_content='Основные мероприятия по проверке КИПиА:'),\n",
       " Document(metadata={'source': 'data/data_processing/РАЗДЕЛ 6/РАЗДЕЛ 6.docx', 'category_depth': 0, 'file_directory': 'data/data_processing/РАЗДЕЛ 6', 'filename': 'РАЗДЕЛ 6.docx', 'last_modified': '2025-07-08T17:17:29', 'languages': ['rus'], 'filetype': 'application/vnd.openxmlformats-officedocument.wordprocessingml.document', 'parent_id': '2e5d2cda56df42c8154d8441c00977b1', 'category': 'ListItem', 'element_id': '0257cb68557e650008b4d8186a87812d'}, page_content='имитация сигнала измеряемого параметра и проверка изображения на экране монитора;'),\n",
       " Document(metadata={'source': 'data/data_processing/РАЗДЕЛ 6/РАЗДЕЛ 6.docx', 'category_depth': 0, 'file_directory': 'data/data_processing/РАЗДЕЛ 6', 'filename': 'РАЗДЕЛ 6.docx', 'last_modified': '2025-07-08T17:17:29', 'languages': ['rus'], 'filetype': 'application/vnd.openxmlformats-officedocument.wordprocessingml.document', 'parent_id': '2e5d2cda56df42c8154d8441c00977b1', 'category': 'ListItem', 'element_id': 'd504b31ebab8c001e53f0a8ad09a8095'}, page_content='имитация обрыва датчика и проверка на экране монитора;'),\n",
       " Document(metadata={'source': 'data/data_processing/РАЗДЕЛ 6/РАЗДЕЛ 6.docx', 'category_depth': 0, 'file_directory': 'data/data_processing/РАЗДЕЛ 6', 'filename': 'РАЗДЕЛ 6.docx', 'last_modified': '2025-07-08T17:17:29', 'languages': ['rus'], 'filetype': 'application/vnd.openxmlformats-officedocument.wordprocessingml.document', 'parent_id': '2e5d2cda56df42c8154d8441c00977b1', 'category': 'ListItem', 'element_id': 'dbaa25e01d75b8d519cfd19af8742795'}, page_content='проверка открытия/закрытия клапанов и электрозадвижек по сигналам из операторной;'),\n",
       " Document(metadata={'source': 'data/data_processing/РАЗДЕЛ 6/РАЗДЕЛ 6.docx', 'category_depth': 0, 'file_directory': 'data/data_processing/РАЗДЕЛ 6', 'filename': 'РАЗДЕЛ 6.docx', 'last_modified': '2025-07-08T17:17:29', 'languages': ['rus'], 'filetype': 'application/vnd.openxmlformats-officedocument.wordprocessingml.document', 'parent_id': '2e5d2cda56df42c8154d8441c00977b1', 'category': 'ListItem', 'element_id': '1f7938318e7eaaaa3a8d6b06346a3de6'}, page_content='проверка уставок сигнализаций и блокировок на соответствие технологическому регламенту (см. раздел 5 ТР);'),\n",
       " Document(metadata={'source': 'data/data_processing/РАЗДЕЛ 6/РАЗДЕЛ 6.docx', 'category_depth': 0, 'file_directory': 'data/data_processing/РАЗДЕЛ 6', 'filename': 'РАЗДЕЛ 6.docx', 'last_modified': '2025-07-08T17:17:29', 'languages': ['rus'], 'filetype': 'application/vnd.openxmlformats-officedocument.wordprocessingml.document', 'parent_id': '2e5d2cda56df42c8154d8441c00977b1', 'category': 'ListItem', 'element_id': '93a20f9c9d1b1195c8694e1dcd7c55c0'}, page_content='проверка остановки механического оборудования по сигналу из операторной;'),\n",
       " Document(metadata={'source': 'data/data_processing/РАЗДЕЛ 6/РАЗДЕЛ 6.docx', 'category_depth': 0, 'file_directory': 'data/data_processing/РАЗДЕЛ 6', 'filename': 'РАЗДЕЛ 6.docx', 'last_modified': '2025-07-08T17:17:29', 'languages': ['rus'], 'filetype': 'application/vnd.openxmlformats-officedocument.wordprocessingml.document', 'parent_id': '2e5d2cda56df42c8154d8441c00977b1', 'category': 'ListItem', 'element_id': '4e736a76b51663e87f14c04d190d7286'}, page_content='проверка сигнализации работы механического оборудования и положения клапанов и электрозадвижек на экране монитора и регистрации этих сигналов;'),\n",
       " Document(metadata={'source': 'data/data_processing/РАЗДЕЛ 6/РАЗДЕЛ 6.docx', 'category_depth': 0, 'file_directory': 'data/data_processing/РАЗДЕЛ 6', 'filename': 'РАЗДЕЛ 6.docx', 'last_modified': '2025-07-08T17:17:29', 'languages': ['rus'], 'filetype': 'application/vnd.openxmlformats-officedocument.wordprocessingml.document', 'parent_id': '2e5d2cda56df42c8154d8441c00977b1', 'category': 'ListItem', 'element_id': '87696f72a3286f2a770071677c19ec6c'}, page_content='проверка регистрации на устройствах действий оператора;'),\n",
       " Document(metadata={'source': 'data/data_processing/РАЗДЕЛ 6/РАЗДЕЛ 6.docx', 'category_depth': 0, 'file_directory': 'data/data_processing/РАЗДЕЛ 6', 'filename': 'РАЗДЕЛ 6.docx', 'last_modified': '2025-07-08T17:17:29', 'languages': ['rus'], 'filetype': 'application/vnd.openxmlformats-officedocument.wordprocessingml.document', 'parent_id': '2e5d2cda56df42c8154d8441c00977b1', 'category': 'ListItem', 'element_id': '67099a9b8542bc69859a4c9300f74b2a'}, page_content='проверка загрузки и хранения информации (архивирование);'),\n",
       " Document(metadata={'source': 'data/data_processing/РАЗДЕЛ 6/РАЗДЕЛ 6.docx', 'category_depth': 0, 'file_directory': 'data/data_processing/РАЗДЕЛ 6', 'filename': 'РАЗДЕЛ 6.docx', 'last_modified': '2025-07-08T17:17:29', 'languages': ['rus'], 'filetype': 'application/vnd.openxmlformats-officedocument.wordprocessingml.document', 'parent_id': '2e5d2cda56df42c8154d8441c00977b1', 'category': 'ListItem', 'element_id': 'e542b97fe28c61ae82160c48e729c671'}, page_content='проверка системы паролей и ограничения прав доступа.'),\n",
       " Document(metadata={'source': 'data/data_processing/РАЗДЕЛ 6/РАЗДЕЛ 6.docx', 'category_depth': 0, 'file_directory': 'data/data_processing/РАЗДЕЛ 6', 'filename': 'РАЗДЕЛ 6.docx', 'last_modified': '2025-07-08T17:17:29', 'languages': ['rus'], 'filetype': 'application/vnd.openxmlformats-officedocument.wordprocessingml.document', 'parent_id': '2e5d2cda56df42c8154d8441c00977b1', 'category': 'UncategorizedText', 'element_id': 'd6bbf13c84b9a78ff0c867a1251aea1e'}, page_content='После окончания работ по подготовке к пуску оборудования, приборов и вспомогательных систем проводят предпусковые операции по испытанию оборудования и трубопроводов на прочность, плотность, герметичность.'),\n",
       " Document(metadata={'source': 'data/data_processing/РАЗДЕЛ 6/РАЗДЕЛ 6.docx', 'category_depth': 0, 'emphasized_text_contents': ['6.1.2.4 Обкатка насосного оборудования'], 'emphasized_text_tags': ['b'], 'file_directory': 'data/data_processing/РАЗДЕЛ 6', 'filename': 'РАЗДЕЛ 6.docx', 'last_modified': '2025-07-08T17:17:29', 'languages': ['rus'], 'filetype': 'application/vnd.openxmlformats-officedocument.wordprocessingml.document', 'parent_id': '2e5d2cda56df42c8154d8441c00977b1', 'category': 'UncategorizedText', 'element_id': '78e725be7b162e80abd74ce942a5d9a9'}, page_content='6.1.2.4 Обкатка насосного оборудования'),\n",
       " Document(metadata={'source': 'data/data_processing/РАЗДЕЛ 6/РАЗДЕЛ 6.docx', 'category_depth': 0, 'file_directory': 'data/data_processing/РАЗДЕЛ 6', 'filename': 'РАЗДЕЛ 6.docx', 'last_modified': '2025-07-08T17:17:29', 'languages': ['rus'], 'filetype': 'application/vnd.openxmlformats-officedocument.wordprocessingml.document', 'parent_id': '2e5d2cda56df42c8154d8441c00977b1', 'category': 'UncategorizedText', 'element_id': '1a285e2305afaf5cbca7a30fb494e1ed'}, page_content='Перед обкаткой насосов необходимо проверить насос на соответствие проектным и паспортным данным.'),\n",
       " Document(metadata={'source': 'data/data_processing/РАЗДЕЛ 6/РАЗДЕЛ 6.docx', 'category_depth': 0, 'file_directory': 'data/data_processing/РАЗДЕЛ 6', 'filename': 'РАЗДЕЛ 6.docx', 'last_modified': '2025-07-08T17:17:29', 'languages': ['rus'], 'filetype': 'application/vnd.openxmlformats-officedocument.wordprocessingml.document', 'parent_id': '2e5d2cda56df42c8154d8441c00977b1', 'category': 'NarrativeText', 'element_id': 'e058c69198bbd249bb415b3503c996b3'}, page_content='На всасе каждого насоса должны быть предусмотрены временные фильтры, устанавливаемые на всасывающих запорных задвижках со стороны насоса. Временные фильтры в линиях могут быть удалены после того, как эти линии освобождены от посторонних материалов.'),\n",
       " Document(metadata={'source': 'data/data_processing/РАЗДЕЛ 6/РАЗДЕЛ 6.docx', 'category_depth': 0, 'file_directory': 'data/data_processing/РАЗДЕЛ 6', 'filename': 'РАЗДЕЛ 6.docx', 'last_modified': '2025-07-08T17:17:29', 'languages': ['rus'], 'filetype': 'application/vnd.openxmlformats-officedocument.wordprocessingml.document', 'parent_id': '2e5d2cda56df42c8154d8441c00977b1', 'category': 'NarrativeText', 'element_id': 'd0e92065ab9400a805140ee085aaf2e6'}, page_content='Перед пуском насоса весь агрегат (насос и привод) должен быть прокручен вручную по крайней мере на один полный оборот, чтобы убедиться, что все подвижные части свободно перемещаются. Отключающая задвижка на линии нагнетания слегка приоткрывается. Насос тщательно заполняется рабочей жидкостью. После того как насос приведен во вращение, подшипники насоса и привода проверяются на отсутствие перегрева или вибрации. Нагнетательная задвижка открывается так, чтобы получить расчетный ток в двигателе.'),\n",
       " Document(metadata={'source': 'data/data_processing/РАЗДЕЛ 6/РАЗДЕЛ 6.docx', 'category_depth': 0, 'file_directory': 'data/data_processing/РАЗДЕЛ 6', 'filename': 'РАЗДЕЛ 6.docx', 'last_modified': '2025-07-08T17:17:29', 'languages': ['rus'], 'filetype': 'application/vnd.openxmlformats-officedocument.wordprocessingml.document', 'parent_id': '2e5d2cda56df42c8154d8441c00977b1', 'category': 'UncategorizedText', 'element_id': '6356c4ebda261e86bfae1c05906d7d9a'}, page_content='В период первичной циркуляции все насосы должны быть пущены в работу, чтобы проверить, что их механические части находятся в хорошем состоянии.'),\n",
       " Document(metadata={'source': 'data/data_processing/РАЗДЕЛ 6/РАЗДЕЛ 6.docx', 'category_depth': 0, 'file_directory': 'data/data_processing/РАЗДЕЛ 6', 'filename': 'РАЗДЕЛ 6.docx', 'last_modified': '2025-07-08T17:17:29', 'languages': ['rus'], 'filetype': 'application/vnd.openxmlformats-officedocument.wordprocessingml.document', 'parent_id': '2e5d2cda56df42c8154d8441c00977b1', 'category': 'NarrativeText', 'element_id': '40ccf3315e506e074c8afe79748dd666'}, page_content='При обкатке насосов циркуляционной жидкостью служит нафта (т.е. сырье для разделителя нафты). В качестве циркуляционной жидкости может использоваться также вода, но при этом нужно следить за тем, чтобы двигатели работали без перегрузки. Если применяется вода, необходимо следить, чтобы температура окружающего воздуха была выше точки замерзания воды.'),\n",
       " Document(metadata={'source': 'data/data_processing/РАЗДЕЛ 6/РАЗДЕЛ 6.docx', 'category_depth': 0, 'file_directory': 'data/data_processing/РАЗДЕЛ 6', 'filename': 'РАЗДЕЛ 6.docx', 'last_modified': '2025-07-08T17:17:29', 'languages': ['rus'], 'filetype': 'application/vnd.openxmlformats-officedocument.wordprocessingml.document', 'parent_id': '2e5d2cda56df42c8154d8441c00977b1', 'category': 'NarrativeText', 'element_id': 'c0ea9da294cf792109257dd3e8a15ad0'}, page_content='Во время пробного прогона все кнопки, узлы пуска и останова и селекторные переключатели насосов с приводными двигателями должны быть проверены. Они должны быть в надлежащем рабочем состоянии.'),\n",
       " Document(metadata={'source': 'data/data_processing/РАЗДЕЛ 6/РАЗДЕЛ 6.docx', 'category_depth': 0, 'file_directory': 'data/data_processing/РАЗДЕЛ 6', 'filename': 'РАЗДЕЛ 6.docx', 'last_modified': '2025-07-08T17:17:29', 'languages': ['rus'], 'filetype': 'application/vnd.openxmlformats-officedocument.wordprocessingml.document', 'parent_id': '2e5d2cda56df42c8154d8441c00977b1', 'category': 'NarrativeText', 'element_id': 'e1c2d1ef07dfb2d063082f16ff35f9af'}, page_content='Центробежные насосы во время прогона должны непрерывно снабжаться циркулирующей жидкостью. Если поступление жидкости на всас центробежного насоса прекращается, то насос немедленно должен быть остановлен так как при работе без циркулирующей жидкости насос может легко выйти из строя. Резервные насосы с автоматическим пуском всегда должны быть заполнены рабочей жидкостью.'),\n",
       " Document(metadata={'source': 'data/data_processing/РАЗДЕЛ 6/РАЗДЕЛ 6.docx', 'category_depth': 0, 'file_directory': 'data/data_processing/РАЗДЕЛ 6', 'filename': 'РАЗДЕЛ 6.docx', 'last_modified': '2025-07-08T17:17:29', 'languages': ['rus'], 'filetype': 'application/vnd.openxmlformats-officedocument.wordprocessingml.document', 'parent_id': '2e5d2cda56df42c8154d8441c00977b1', 'category': 'UncategorizedText', 'element_id': 'b3998b2bbce008c51eba25c3ced20bd9'}, page_content='Система смазки насосов и двигателей должна быть проверена, чтобы установить, что все подшипники смазываются надлежащим образом.'),\n",
       " Document(metadata={'source': 'data/data_processing/РАЗДЕЛ 6/РАЗДЕЛ 6.docx', 'category_depth': 0, 'file_directory': 'data/data_processing/РАЗДЕЛ 6', 'filename': 'РАЗДЕЛ 6.docx', 'last_modified': '2025-07-08T17:17:29', 'languages': ['rus'], 'filetype': 'application/vnd.openxmlformats-officedocument.wordprocessingml.document', 'parent_id': '2e5d2cda56df42c8154d8441c00977b1', 'category': 'NarrativeText', 'element_id': '6fef2b9e50dac9131110bc3180294b69'}, page_content='Перед пуском блока в первичную эксплуатацию различные насосы должны работать некоторое время для приработки оборудования и прочистки присоединенных к ним трубопроводов. Время приработки может быть различным в зависимости от типа насоса, но во всех случаях 24-часовой период считается достаточным. Насосы и их запасные части должны быть взаимозаменяемыми. Двигатели насосов проверяются на правильность вращения.'),\n",
       " Document(metadata={'source': 'data/data_processing/РАЗДЕЛ 6/РАЗДЕЛ 6.docx', 'category_depth': 0, 'file_directory': 'data/data_processing/РАЗДЕЛ 6', 'filename': 'РАЗДЕЛ 6.docx', 'last_modified': '2025-07-08T17:17:29', 'languages': ['rus'], 'filetype': 'application/vnd.openxmlformats-officedocument.wordprocessingml.document', 'parent_id': '2e5d2cda56df42c8154d8441c00977b1', 'category': 'NarrativeText', 'element_id': '48ff94025b0fc838aab3c6eafbbec1eb'}, page_content='После пуска насоса его подшипники, механические уплотнения и сальники тщательно осматриваются, и если имеет место перегрев, то насос останавливается для проверки и возможного ремонта. Пуск всех насосов должен выполняться при задросселированных нагнетательных задвижках. Желательно создать высокие скорости в различных трубопроводах с тем, чтобы тщательно промыть их. Временные фильтры на всасе насосов удаляются, очищаются и вновь устанавливаются на место, это повторяется до тех пор, пока отложение инородных частиц на них не прекратится. Необходимо вести письменный учет проведенных инспекций и замен фильтров. При первых признаках потери всасывающей способности соответствующий насос должен быть остановлен для проверки фильтра на всасе.'),\n",
       " Document(metadata={'source': 'data/data_processing/РАЗДЕЛ 6/РАЗДЕЛ 6.docx', 'category_depth': 0, 'file_directory': 'data/data_processing/РАЗДЕЛ 6', 'filename': 'РАЗДЕЛ 6.docx', 'last_modified': '2025-07-08T17:17:29', 'languages': ['rus'], 'filetype': 'application/vnd.openxmlformats-officedocument.wordprocessingml.document', 'parent_id': '2e5d2cda56df42c8154d8441c00977b1', 'category': 'UncategorizedText', 'element_id': '9c9cd0e6be6199470cfce0288bea95d0'}, page_content='Монтаж, эксплуатация и техобслуживание насосов должно проводиться в строгом соответствии с руководством завода-изготовителя, а также в соответствии с действующими заводскими инструкциями.'),\n",
       " Document(metadata={'source': 'data/data_processing/РАЗДЕЛ 6/РАЗДЕЛ 6.docx', 'category_depth': 0, 'emphasized_text_contents': ['6.1.2.5 Обкатка аппаратов воздушного охлаждения'], 'emphasized_text_tags': ['b'], 'file_directory': 'data/data_processing/РАЗДЕЛ 6', 'filename': 'РАЗДЕЛ 6.docx', 'last_modified': '2025-07-08T17:17:29', 'languages': ['rus'], 'filetype': 'application/vnd.openxmlformats-officedocument.wordprocessingml.document', 'parent_id': '2e5d2cda56df42c8154d8441c00977b1', 'category': 'UncategorizedText', 'element_id': '8bce0657723d66d20aba3708708a3eee'}, page_content='6.1.2.5 Обкатка аппаратов воздушного охлаждения'),\n",
       " Document(metadata={'source': 'data/data_processing/РАЗДЕЛ 6/РАЗДЕЛ 6.docx', 'category_depth': 0, 'file_directory': 'data/data_processing/РАЗДЕЛ 6', 'filename': 'РАЗДЕЛ 6.docx', 'last_modified': '2025-07-08T17:17:29', 'languages': ['rus'], 'filetype': 'application/vnd.openxmlformats-officedocument.wordprocessingml.document', 'parent_id': '2e5d2cda56df42c8154d8441c00977b1', 'category': 'NarrativeText', 'element_id': '423092617ebec4fa5fa484dbe5842a18'}, page_content='Перед пуском должно быть проверено состояние всех аппаратов. Предлагается следующий список общей проверки, чтобы убедиться, что все оборудование правильно установлено и готово к работе.'),\n",
       " Document(metadata={'source': 'data/data_processing/РАЗДЕЛ 6/РАЗДЕЛ 6.docx', 'category_depth': 0, 'emphasized_text_contents': ['Трубные пучки.'], 'emphasized_text_tags': ['i'], 'file_directory': 'data/data_processing/РАЗДЕЛ 6', 'filename': 'РАЗДЕЛ 6.docx', 'last_modified': '2025-07-08T17:17:29', 'languages': ['rus'], 'filetype': 'application/vnd.openxmlformats-officedocument.wordprocessingml.document', 'parent_id': '2e5d2cda56df42c8154d8441c00977b1', 'category': 'UncategorizedText', 'element_id': 'e2346771b25c3c5b2a203059ce135178'}, page_content='Трубные пучки.'),\n",
       " Document(metadata={'source': 'data/data_processing/РАЗДЕЛ 6/РАЗДЕЛ 6.docx', 'category_depth': 0, 'file_directory': 'data/data_processing/РАЗДЕЛ 6', 'filename': 'РАЗДЕЛ 6.docx', 'last_modified': '2025-07-08T17:17:29', 'languages': ['rus'], 'filetype': 'application/vnd.openxmlformats-officedocument.wordprocessingml.document', 'parent_id': '2e5d2cda56df42c8154d8441c00977b1', 'category': 'NarrativeText', 'element_id': '9105fe9143f2038babbfb9adcb2370d0'}, page_content='Перед отправкой заказчику трубные пучки проходят гидравлическое испытание под давлением в 1,5 раза выше проектного давления. Чтобы проверить, что трубные пучки не были повреждены при транспортировке и (или) монтаже, рекомендуется перед пуском проводить опрессовку всей системы, включая трубопроводы, теплообменники, насосы и т. д.'),\n",
       " Document(metadata={'source': 'data/data_processing/РАЗДЕЛ 6/РАЗДЕЛ 6.docx', 'category_depth': 0, 'file_directory': 'data/data_processing/РАЗДЕЛ 6', 'filename': 'РАЗДЕЛ 6.docx', 'last_modified': '2025-07-08T17:17:29', 'languages': ['rus'], 'filetype': 'application/vnd.openxmlformats-officedocument.wordprocessingml.document', 'parent_id': '2e5d2cda56df42c8154d8441c00977b1', 'category': 'ListItem', 'element_id': 'c7784c7e4305606ea1011a5b0ea7346d'}, page_content='Подшипники'),\n",
       " Document(metadata={'source': 'data/data_processing/РАЗДЕЛ 6/РАЗДЕЛ 6.docx', 'category_depth': 0, 'file_directory': 'data/data_processing/РАЗДЕЛ 6', 'filename': 'РАЗДЕЛ 6.docx', 'last_modified': '2025-07-08T17:17:29', 'languages': ['rus'], 'filetype': 'application/vnd.openxmlformats-officedocument.wordprocessingml.document', 'parent_id': '2e5d2cda56df42c8154d8441c00977b1', 'category': 'UncategorizedText', 'element_id': '6315875880a334c9d333bf251bf9d427'}, page_content='Подшипники проверяются на наличие смазки.'),\n",
       " Document(metadata={'source': 'data/data_processing/РАЗДЕЛ 6/РАЗДЕЛ 6.docx', 'category_depth': 0, 'file_directory': 'data/data_processing/РАЗДЕЛ 6', 'filename': 'РАЗДЕЛ 6.docx', 'last_modified': '2025-07-08T17:17:29', 'languages': ['rus'], 'filetype': 'application/vnd.openxmlformats-officedocument.wordprocessingml.document', 'parent_id': '2e5d2cda56df42c8154d8441c00977b1', 'category': 'UncategorizedText', 'element_id': 'f475c35b9337d047d0c13cff4728d066'}, page_content='Смазка подшипников не должна быть избыточной.'),\n",
       " Document(metadata={'source': 'data/data_processing/РАЗДЕЛ 6/РАЗДЕЛ 6.docx', 'category_depth': 0, 'file_directory': 'data/data_processing/РАЗДЕЛ 6', 'filename': 'РАЗДЕЛ 6.docx', 'last_modified': '2025-07-08T17:17:29', 'languages': ['rus'], 'filetype': 'application/vnd.openxmlformats-officedocument.wordprocessingml.document', 'parent_id': '2e5d2cda56df42c8154d8441c00977b1', 'category': 'UncategorizedText', 'element_id': '959160c371930de21ee5f596a5684464'}, page_content='Подшипники смазываются на заводе изготовителе и не требуют дополнительной смазки перед пуском.'),\n",
       " Document(metadata={'source': 'data/data_processing/РАЗДЕЛ 6/РАЗДЕЛ 6.docx', 'category_depth': 0, 'emphasized_text_contents': ['Вентиляторы.'], 'emphasized_text_tags': ['i'], 'file_directory': 'data/data_processing/РАЗДЕЛ 6', 'filename': 'РАЗДЕЛ 6.docx', 'last_modified': '2025-07-08T17:17:29', 'languages': ['rus'], 'filetype': 'application/vnd.openxmlformats-officedocument.wordprocessingml.document', 'parent_id': '2e5d2cda56df42c8154d8441c00977b1', 'category': 'UncategorizedText', 'element_id': '8263c3f623a4bfa1613919815cbfe5a1'}, page_content='Вентиляторы.'),\n",
       " Document(metadata={'source': 'data/data_processing/РАЗДЕЛ 6/РАЗДЕЛ 6.docx', 'category_depth': 0, 'file_directory': 'data/data_processing/РАЗДЕЛ 6', 'filename': 'РАЗДЕЛ 6.docx', 'last_modified': '2025-07-08T17:17:29', 'languages': ['rus'], 'filetype': 'application/vnd.openxmlformats-officedocument.wordprocessingml.document', 'parent_id': '2e5d2cda56df42c8154d8441c00977b1', 'category': 'UncategorizedText', 'element_id': '3c31f617c682e15399fac5a45a00e0c7'}, page_content='Следует проверить затяжку болтов крепления лопастей вентилятора и винтов втулки.'),\n",
       " Document(metadata={'source': 'data/data_processing/РАЗДЕЛ 6/РАЗДЕЛ 6.docx', 'category_depth': 0, 'file_directory': 'data/data_processing/РАЗДЕЛ 6', 'filename': 'РАЗДЕЛ 6.docx', 'last_modified': '2025-07-08T17:17:29', 'languages': ['rus'], 'filetype': 'application/vnd.openxmlformats-officedocument.wordprocessingml.document', 'parent_id': '2e5d2cda56df42c8154d8441c00977b1', 'category': 'UncategorizedText', 'element_id': '5635bbc094b97f6100d9b48f50fe7157'}, page_content='Эти элементы следует снова проверить после первых четырех часов работы и затем–через каждые два месяца непрерывной работы.'),\n",
       " Document(metadata={'source': 'data/data_processing/РАЗДЕЛ 6/РАЗДЕЛ 6.docx', 'category_depth': 0, 'file_directory': 'data/data_processing/РАЗДЕЛ 6', 'filename': 'РАЗДЕЛ 6.docx', 'last_modified': '2025-07-08T17:17:29', 'languages': ['rus'], 'filetype': 'application/vnd.openxmlformats-officedocument.wordprocessingml.document', 'parent_id': '2e5d2cda56df42c8154d8441c00977b1', 'category': 'NarrativeText', 'element_id': '6c985086e61fff33bb16ff6c7bc4812f'}, page_content='Вентилятор следует провернуть вручную, чтобы убедиться, что вал, редуктор и привод вращаются свободно. Необходимо также проверить величину зазора между концами лопастей и корпусом вентилятора. Для измерения этого зазора все лопасти пропускаются поочередно мимо фиксированной точки на внутренней стороне вентиляторного кольца и при этом определяют, какая из лопастей имеет минимальный зазор в этой точке. Затем выбранная лопасть проворачивается на 360 град. от точки минимального зазора. Минимальный допустимый зазор составляет 3/8 дюйма. Следует выполнить необходимую регулировку для получения указанного минимума. Рекомендуется руководствоваться инструкциями по обслуживанию, выпускаемыми заводом–изготовителем вентиляторов.'),\n",
       " Document(metadata={'source': 'data/data_processing/РАЗДЕЛ 6/РАЗДЕЛ 6.docx', 'category_depth': 0, 'file_directory': 'data/data_processing/РАЗДЕЛ 6', 'filename': 'РАЗДЕЛ 6.docx', 'last_modified': '2025-07-08T17:17:29', 'languages': ['rus'], 'filetype': 'application/vnd.openxmlformats-officedocument.wordprocessingml.document', 'parent_id': '2e5d2cda56df42c8154d8441c00977b1', 'category': 'NarrativeText', 'element_id': '5a49775e08a83af7054031cf20fc3846'}, page_content='Для проверки правильности направления вращения и ориентировки лопастей производится мгновенное включение привода вентилятора. Толстый край является передним краем лопасти вентилятора. При правильном выборе шага этот передний край является нижним краем.'),\n",
       " Document(metadata={'source': 'data/data_processing/РАЗДЕЛ 6/РАЗДЕЛ 6.docx', 'category_depth': 0, 'file_directory': 'data/data_processing/РАЗДЕЛ 6', 'filename': 'РАЗДЕЛ 6.docx', 'last_modified': '2025-07-08T17:17:29', 'languages': ['rus'], 'filetype': 'application/vnd.openxmlformats-officedocument.wordprocessingml.document', 'parent_id': '2e5d2cda56df42c8154d8441c00977b1', 'category': 'UncategorizedText', 'element_id': '0a3844c9764401f054e48420c20fb579'}, page_content='Если вибрационный выключатель срабатывает под действием пускового крутящего момента, то его следует отрегулировать установочным винтом на более высокий крутящий момент.'),\n",
       " Document(metadata={'source': 'data/data_processing/РАЗДЕЛ 6/РАЗДЕЛ 6.docx', 'category_depth': 0, 'emphasized_text_contents': ['Клиноременные передачи.'], 'emphasized_text_tags': ['i'], 'file_directory': 'data/data_processing/РАЗДЕЛ 6', 'filename': 'РАЗДЕЛ 6.docx', 'last_modified': '2025-07-08T17:17:29', 'languages': ['rus'], 'filetype': 'application/vnd.openxmlformats-officedocument.wordprocessingml.document', 'parent_id': '2e5d2cda56df42c8154d8441c00977b1', 'category': 'UncategorizedText', 'element_id': 'f6ccf00f0c0459e3529457e711c9d42f'}, page_content='Клиноременные передачи.'),\n",
       " Document(metadata={'source': 'data/data_processing/РАЗДЕЛ 6/РАЗДЕЛ 6.docx', 'category_depth': 0, 'file_directory': 'data/data_processing/РАЗДЕЛ 6', 'filename': 'РАЗДЕЛ 6.docx', 'last_modified': '2025-07-08T17:17:29', 'languages': ['rus'], 'filetype': 'application/vnd.openxmlformats-officedocument.wordprocessingml.document', 'parent_id': '2e5d2cda56df42c8154d8441c00977b1', 'category': 'UncategorizedText', 'element_id': 'dc4593be4dc6b44111b1c45e6642e8b9'}, page_content='Необходимо проверить соответствие натяжения клиновых ремней рекомендациям изготовителя.'),\n",
       " Document(metadata={'source': 'data/data_processing/РАЗДЕЛ 6/РАЗДЕЛ 6.docx', 'category_depth': 0, 'emphasized_text_contents': ['Заслонки.'], 'emphasized_text_tags': ['i'], 'file_directory': 'data/data_processing/РАЗДЕЛ 6', 'filename': 'РАЗДЕЛ 6.docx', 'last_modified': '2025-07-08T17:17:29', 'languages': ['rus'], 'filetype': 'application/vnd.openxmlformats-officedocument.wordprocessingml.document', 'parent_id': '2e5d2cda56df42c8154d8441c00977b1', 'category': 'UncategorizedText', 'element_id': 'e780187b8ddab51f51111d65a9624aa8'}, page_content='Заслонки.'),\n",
       " Document(metadata={'source': 'data/data_processing/РАЗДЕЛ 6/РАЗДЕЛ 6.docx', 'category_depth': 0, 'file_directory': 'data/data_processing/РАЗДЕЛ 6', 'filename': 'РАЗДЕЛ 6.docx', 'last_modified': '2025-07-08T17:17:29', 'languages': ['rus'], 'filetype': 'application/vnd.openxmlformats-officedocument.wordprocessingml.document', 'parent_id': '2e5d2cda56df42c8154d8441c00977b1', 'category': 'NarrativeText', 'element_id': 'd31a963be1ff744cc5af741403de98d3'}, page_content='Все крепежные скобы и болты должны быть проверены на плотность затяжки. На блоках с ручным управлением рычаги ручного управления следует несколько раз перевести из полностью открытого положения в полностью закрытое, чтобы проверить правильность работы рычажных соединений и свободу движения заслонок. На блоках с пневмодвигателями (автоматических) следует проверить герметичность всех соединений линии подачи воздуха, а затем включить пневмодвигатель для проверки правильности работы рычажных соединений, свободы движения заслонок и достаточной подачи воздуха.'),\n",
       " Document(metadata={'source': 'data/data_processing/РАЗДЕЛ 6/РАЗДЕЛ 6.docx', 'category_depth': 0, 'emphasized_text_contents': ['Обкатка.'], 'emphasized_text_tags': ['i'], 'file_directory': 'data/data_processing/РАЗДЕЛ 6', 'filename': 'РАЗДЕЛ 6.docx', 'last_modified': '2025-07-08T17:17:29', 'languages': ['rus'], 'filetype': 'application/vnd.openxmlformats-officedocument.wordprocessingml.document', 'parent_id': '2e5d2cda56df42c8154d8441c00977b1', 'category': 'UncategorizedText', 'element_id': 'eea2daa6807151c48e9bfbfc0229a118'}, page_content='Обкатка.'),\n",
       " Document(metadata={'source': 'data/data_processing/РАЗДЕЛ 6/РАЗДЕЛ 6.docx', 'category_depth': 0, 'file_directory': 'data/data_processing/РАЗДЕЛ 6', 'filename': 'РАЗДЕЛ 6.docx', 'last_modified': '2025-07-08T17:17:29', 'languages': ['rus'], 'filetype': 'application/vnd.openxmlformats-officedocument.wordprocessingml.document', 'parent_id': '2e5d2cda56df42c8154d8441c00977b1', 'category': 'ListItem', 'element_id': '4ad6c533b1128535e471ee8e06934148'}, page_content='Пускается привод вентилятора.'),\n",
       " Document(metadata={'source': 'data/data_processing/РАЗДЕЛ 6/РАЗДЕЛ 6.docx', 'category_depth': 0, 'file_directory': 'data/data_processing/РАЗДЕЛ 6', 'filename': 'РАЗДЕЛ 6.docx', 'last_modified': '2025-07-08T17:17:29', 'languages': ['rus'], 'filetype': 'application/vnd.openxmlformats-officedocument.wordprocessingml.document', 'parent_id': '2e5d2cda56df42c8154d8441c00977b1', 'category': 'ListItem', 'element_id': '6120edb8fe642d64c5ceaea9d13fd2cb'}, page_content='Проверяется блок на отсутствие чрезмерной вибрации.'),\n",
       " Document(metadata={'source': 'data/data_processing/РАЗДЕЛ 6/РАЗДЕЛ 6.docx', 'category_depth': 0, 'file_directory': 'data/data_processing/РАЗДЕЛ 6', 'filename': 'РАЗДЕЛ 6.docx', 'last_modified': '2025-07-08T17:17:29', 'languages': ['rus'], 'filetype': 'application/vnd.openxmlformats-officedocument.wordprocessingml.document', 'parent_id': '2e5d2cda56df42c8154d8441c00977b1', 'category': 'ListItem', 'element_id': '6308d9ab9b9064dfef00b9e21dca3bf9'}, page_content='Включается вентилятор в работу на несколько часов, при этом проверяется нет ли перегрева привода и подшипников.'),\n",
       " Document(metadata={'source': 'data/data_processing/РАЗДЕЛ 6/РАЗДЕЛ 6.docx', 'category_depth': 0, 'file_directory': 'data/data_processing/РАЗДЕЛ 6', 'filename': 'РАЗДЕЛ 6.docx', 'last_modified': '2025-07-08T17:17:29', 'languages': ['rus'], 'filetype': 'application/vnd.openxmlformats-officedocument.wordprocessingml.document', 'parent_id': '2e5d2cda56df42c8154d8441c00977b1', 'category': 'ListItem', 'element_id': 'ee4a613a5a1f9a01d8e027f9280de3e6'}, page_content='Змеевики поставляются с установленными заглушками.'),\n",
       " Document(metadata={'source': 'data/data_processing/РАЗДЕЛ 6/РАЗДЕЛ 6.docx', 'category_depth': 0, 'file_directory': 'data/data_processing/РАЗДЕЛ 6', 'filename': 'РАЗДЕЛ 6.docx', 'last_modified': '2025-07-08T17:17:29', 'languages': ['rus'], 'filetype': 'application/vnd.openxmlformats-officedocument.wordprocessingml.document', 'parent_id': '2e5d2cda56df42c8154d8441c00977b1', 'category': 'UncategorizedText', 'element_id': '4185c25e5f7ff87a428b3c3e27a72451'}, page_content='Ребра пучков должны по возможности содержаться в чистоте.'),\n",
       " Document(metadata={'source': 'data/data_processing/РАЗДЕЛ 6/РАЗДЕЛ 6.docx', 'category_depth': 0, 'file_directory': 'data/data_processing/РАЗДЕЛ 6', 'filename': 'РАЗДЕЛ 6.docx', 'last_modified': '2025-07-08T17:17:29', 'languages': ['rus'], 'filetype': 'application/vnd.openxmlformats-officedocument.wordprocessingml.document', 'parent_id': '2e5d2cda56df42c8154d8441c00977b1', 'category': 'UncategorizedText', 'element_id': '938cc2c32c013c0a29f9ca7714389608'}, page_content='Монтаж, эксплуатация и техобслуживание АВО должно проводиться в строгом соответствии с руководством завода-изготовителя, а также в соответствии с действующими заводскими инструкциями.'),\n",
       " Document(metadata={'source': 'data/data_processing/РАЗДЕЛ 6/РАЗДЕЛ 6.docx', 'category_depth': 0, 'emphasized_text_contents': ['6.1.2.6 Обкатка компрессорного оборудования'], 'emphasized_text_tags': ['b'], 'file_directory': 'data/data_processing/РАЗДЕЛ 6', 'filename': 'РАЗДЕЛ 6.docx', 'last_modified': '2025-07-08T17:17:29', 'languages': ['rus'], 'filetype': 'application/vnd.openxmlformats-officedocument.wordprocessingml.document', 'parent_id': '2e5d2cda56df42c8154d8441c00977b1', 'category': 'UncategorizedText', 'element_id': 'a84337df1be8c2690d993ae5280e795f'}, page_content='6.1.2.6 Обкатка компрессорного оборудования'),\n",
       " Document(metadata={'source': 'data/data_processing/РАЗДЕЛ 6/РАЗДЕЛ 6.docx', 'category_depth': 0, 'file_directory': 'data/data_processing/РАЗДЕЛ 6', 'filename': 'РАЗДЕЛ 6.docx', 'last_modified': '2025-07-08T17:17:29', 'languages': ['rus'], 'filetype': 'application/vnd.openxmlformats-officedocument.wordprocessingml.document', 'parent_id': '2e5d2cda56df42c8154d8441c00977b1', 'category': 'UncategorizedText', 'element_id': 'f260f481a9585dd9fa237b38970337de'}, page_content='Нижеследующая операция обеспечивает последовательность пуска циркуляционных компрессоров риформинга К-201 А и (или) К-201 В. Эти машины являются высокоскоростными центробежными компрессорами и весь персонал должен быть ознакомлен с инструкциями их изготовителя (фирма Сандайн).'),\n",
       " Document(metadata={'source': 'data/data_processing/РАЗДЕЛ 6/РАЗДЕЛ 6.docx', 'category_depth': 0, 'file_directory': 'data/data_processing/РАЗДЕЛ 6', 'filename': 'РАЗДЕЛ 6.docx', 'last_modified': '2025-07-08T17:17:29', 'languages': ['rus'], 'filetype': 'application/vnd.openxmlformats-officedocument.wordprocessingml.document', 'parent_id': '2e5d2cda56df42c8154d8441c00977b1', 'category': 'UncategorizedText', 'element_id': 'd72a5060036fd443eb9ef097130eefb5'}, page_content='Перед пуском машин необходимо проверить, что они правильно установлены, смазываются и продуваются должным образом, в соответствии с инструкцией фирмы «Сандайн».'),\n",
       " Document(metadata={'source': 'data/data_processing/РАЗДЕЛ 6/РАЗДЕЛ 6.docx', 'category_depth': 0, 'file_directory': 'data/data_processing/РАЗДЕЛ 6', 'filename': 'РАЗДЕЛ 6.docx', 'last_modified': '2025-07-08T17:17:29', 'languages': ['rus'], 'filetype': 'application/vnd.openxmlformats-officedocument.wordprocessingml.document', 'parent_id': '2e5d2cda56df42c8154d8441c00977b1', 'category': 'UncategorizedText', 'element_id': 'b39fc68a69aebfd43365f4872ed20e83'}, page_content='Для пуска компрессора необходимо выполнить следующие операции:'),\n",
       " Document(metadata={'source': 'data/data_processing/РАЗДЕЛ 6/РАЗДЕЛ 6.docx', 'category_depth': 0, 'file_directory': 'data/data_processing/РАЗДЕЛ 6', 'filename': 'РАЗДЕЛ 6.docx', 'last_modified': '2025-07-08T17:17:29', 'languages': ['rus'], 'filetype': 'application/vnd.openxmlformats-officedocument.wordprocessingml.document', 'parent_id': '2e5d2cda56df42c8154d8441c00977b1', 'category': 'ListItem', 'element_id': '4f520bd75acf1abeeac125f8c43ad18b'}, page_content='Удалить пробку заливного отверстия на коробке передач. Снять крышку с заливного отверстия. Заполнить резервуар свежим трансмиссионным маслом типа АТF или турбинным маслом с вязкостью 165-235 секунд по универсальному вискозиметру Сейболта при 38С, так чтобы уровень жидкости достиг верха черного кружка в смотровом стекле. Емкость системы смазки зависит от типа теплообменника и конфигурации труб. Установить крышку заливного отверстия на место. Установить на место пробку.'),\n",
       " Document(metadata={'source': 'data/data_processing/РАЗДЕЛ 6/РАЗДЕЛ 6.docx', 'category_depth': 0, 'file_directory': 'data/data_processing/РАЗДЕЛ 6', 'filename': 'РАЗДЕЛ 6.docx', 'last_modified': '2025-07-08T17:17:29', 'languages': ['rus'], 'filetype': 'application/vnd.openxmlformats-officedocument.wordprocessingml.document', 'parent_id': '2e5d2cda56df42c8154d8441c00977b1', 'category': 'ListItem', 'element_id': 'd7b802234ac07e2d29d982edc691885d'}, page_content='На установках без вспомогательного насоса системы смазки: удалить пробку фильтра и залить в фильтр примерно 1 литр свежего масла типа 1 АТF. На установках со вспомогательным насосом системы смазки: привести в действие вспомогательный насос для заполнения теплообменника и фильтра. Добавить необходимое количество масла (около 7 литров) через заливное отверстие, пока не стабилизируется уровень жидкости в смотровом стекле.'),\n",
       " Document(metadata={'source': 'data/data_processing/РАЗДЕЛ 6/РАЗДЕЛ 6.docx', 'category_depth': 0, 'file_directory': 'data/data_processing/РАЗДЕЛ 6', 'filename': 'РАЗДЕЛ 6.docx', 'last_modified': '2025-07-08T17:17:29', 'languages': ['rus'], 'filetype': 'application/vnd.openxmlformats-officedocument.wordprocessingml.document', 'parent_id': '2e5d2cda56df42c8154d8441c00977b1', 'category': 'UncategorizedText', 'element_id': '15a4126fd4d488e17bce154c3dbdacb0'}, page_content='Если требуется дополнительный трубопровод для буферной жидкости или внешнего уплотнения, то эта система должна быть опрессована до заполнения компрессора технологической жидкостью.'),\n",
       " Document(metadata={'source': 'data/data_processing/РАЗДЕЛ 6/РАЗДЕЛ 6.docx', 'category_depth': 0, 'file_directory': 'data/data_processing/РАЗДЕЛ 6', 'filename': 'РАЗДЕЛ 6.docx', 'last_modified': '2025-07-08T17:17:29', 'languages': ['rus'], 'filetype': 'application/vnd.openxmlformats-officedocument.wordprocessingml.document', 'parent_id': '2e5d2cda56df42c8154d8441c00977b1', 'category': 'ListItem', 'element_id': '2c5f21242e322e0a75c88ca48124039c'}, page_content='Проверить привод и убедиться в том, что он прошел обслуживание в соответствии с инструкцией изготовителя.'),\n",
       " Document(metadata={'source': 'data/data_processing/РАЗДЕЛ 6/РАЗДЕЛ 6.docx', 'category_depth': 0, 'file_directory': 'data/data_processing/РАЗДЕЛ 6', 'filename': 'РАЗДЕЛ 6.docx', 'last_modified': '2025-07-08T17:17:29', 'languages': ['rus'], 'filetype': 'application/vnd.openxmlformats-officedocument.wordprocessingml.document', 'parent_id': '2e5d2cda56df42c8154d8441c00977b1', 'category': 'ListItem', 'element_id': '92d803b8863e2ef7d6b0cbdad3c6672b'}, page_content='Открыть всасывающий и нагнетательный клапаны.'),\n",
       " Document(metadata={'source': 'data/data_processing/РАЗДЕЛ 6/РАЗДЕЛ 6.docx', 'category_depth': 0, 'file_directory': 'data/data_processing/РАЗДЕЛ 6', 'filename': 'РАЗДЕЛ 6.docx', 'last_modified': '2025-07-08T17:17:29', 'languages': ['rus'], 'filetype': 'application/vnd.openxmlformats-officedocument.wordprocessingml.document', 'parent_id': '2e5d2cda56df42c8154d8441c00977b1', 'category': 'ListItem', 'element_id': 'd72cbfe7781a68e0f154514718459e06'}, page_content='Заполнить систему смазки следующим образом:'),\n",
       " Document(metadata={'source': 'data/data_processing/РАЗДЕЛ 6/РАЗДЕЛ 6.docx', 'category_depth': 0, 'file_directory': 'data/data_processing/РАЗДЕЛ 6', 'filename': 'РАЗДЕЛ 6.docx', 'last_modified': '2025-07-08T17:17:29', 'languages': ['rus'], 'filetype': 'application/vnd.openxmlformats-officedocument.wordprocessingml.document', 'parent_id': '2e5d2cda56df42c8154d8441c00977b1', 'category': 'UncategorizedText', 'element_id': 'af6bac62f147541d1a945b66149a228b'}, page_content='на установках без вспомогательной системы смазки:'),\n",
       " Document(metadata={'source': 'data/data_processing/РАЗДЕЛ 6/РАЗДЕЛ 6.docx', 'category_depth': 0, 'file_directory': 'data/data_processing/РАЗДЕЛ 6', 'filename': 'РАЗДЕЛ 6.docx', 'last_modified': '2025-07-08T17:17:29', 'languages': ['rus'], 'filetype': 'application/vnd.openxmlformats-officedocument.wordprocessingml.document', 'parent_id': '2e5d2cda56df42c8154d8441c00977b1', 'category': 'ListItem', 'element_id': '094416ed01db4778881bb4427c94fa61'}, page_content='установить манометр 0-10 кг/см2 вместо пробки с резьбой 1/4 дюйма.'),\n",
       " Document(metadata={'source': 'data/data_processing/РАЗДЕЛ 6/РАЗДЕЛ 6.docx', 'category_depth': 0, 'file_directory': 'data/data_processing/РАЗДЕЛ 6', 'filename': 'РАЗДЕЛ 6.docx', 'last_modified': '2025-07-08T17:17:29', 'languages': ['rus'], 'filetype': 'application/vnd.openxmlformats-officedocument.wordprocessingml.document', 'parent_id': '2e5d2cda56df42c8154d8441c00977b1', 'category': 'NarrativeText', 'element_id': 'edf6772e0fced809ad81ed65b09ba718'}, page_content='Проверьте правильность вращения привода. Вал привода и рабочее колесо компрессора вращаются в одном направлении. Убедиться, что вращение происходит против часовой стрелки, если смотреть с верху. Вращение должно быть в направлении стрелки на внешней стороне корпуса компрессора.'),\n",
       " Document(metadata={'source': 'data/data_processing/РАЗДЕЛ 6/РАЗДЕЛ 6.docx', 'category_depth': 0, 'file_directory': 'data/data_processing/РАЗДЕЛ 6', 'filename': 'РАЗДЕЛ 6.docx', 'last_modified': '2025-07-08T17:17:29', 'languages': ['rus'], 'filetype': 'application/vnd.openxmlformats-officedocument.wordprocessingml.document', 'parent_id': '2e5d2cda56df42c8154d8441c00977b1', 'category': 'NarrativeText', 'element_id': '8b22ee0b94763946ff02c74387968166'}, page_content='Непосредственно перед пуском машины следует проверить правильность ее установки. При нормальных условиях работы обе машины работают последовательно, а при начальном пуске и других операциях нужна только одна машина. '),\n",
       " Document(metadata={'source': 'data/data_processing/РАЗДЕЛ 6/РАЗДЕЛ 6.docx', 'category_depth': 0, 'file_directory': 'data/data_processing/РАЗДЕЛ 6', 'filename': 'РАЗДЕЛ 6.docx', 'last_modified': '2025-07-08T17:17:29', 'languages': ['rus'], 'filetype': 'application/vnd.openxmlformats-officedocument.wordprocessingml.document', 'parent_id': '2e5d2cda56df42c8154d8441c00977b1', 'category': 'UncategorizedText', 'element_id': '057fd950a59a7fec93c8d3a69e9c858e'}, page_content='В различных случаях клапаны должны иметь следующие положения:'),\n",
       " Document(metadata={'source': 'data/data_processing/РАЗДЕЛ 6/РАЗДЕЛ 6.docx', 'category_depth': 0, 'file_directory': 'data/data_processing/РАЗДЕЛ 6', 'filename': 'РАЗДЕЛ 6.docx', 'last_modified': '2025-07-08T17:17:29', 'languages': ['rus'], 'filetype': 'application/vnd.openxmlformats-officedocument.wordprocessingml.document', 'parent_id': '2e5d2cda56df42c8154d8441c00977b1', 'category': 'UncategorizedText', 'element_id': 'e51842e0f62e74024325b6b97748c17f'}, page_content='Только К-201 А'),\n",
       " Document(metadata={'source': 'data/data_processing/РАЗДЕЛ 6/РАЗДЕЛ 6.docx', 'file_directory': 'data/data_processing/РАЗДЕЛ 6', 'filename': 'РАЗДЕЛ 6.docx', 'last_modified': '2025-07-08T17:17:29', 'text_as_html': '<table><tr><td>HV-610</td><td>открыт</td></tr><tr><td>HV-611</td><td>открыт</td></tr><tr><td>HV-612</td><td>закрыт</td></tr><tr><td>HV-613</td><td>открыт</td></tr><tr><td>HV-614</td><td>закрыт</td></tr><tr><td>HV-615</td><td>закрыт</td></tr></table>', 'languages': ['rus'], 'filetype': 'application/vnd.openxmlformats-officedocument.wordprocessingml.document', 'parent_id': '2e5d2cda56df42c8154d8441c00977b1', 'category': 'Table', 'element_id': '0c07feda431a60db20bc494b57552818'}, page_content='HV-610 открыт HV-611 открыт HV-612 закрыт HV-613 открыт HV-614 закрыт HV-615 закрыт'),\n",
       " Document(metadata={'source': 'data/data_processing/РАЗДЕЛ 6/РАЗДЕЛ 6.docx', 'category_depth': 0, 'file_directory': 'data/data_processing/РАЗДЕЛ 6', 'filename': 'РАЗДЕЛ 6.docx', 'last_modified': '2025-07-08T17:17:29', 'languages': ['rus'], 'filetype': 'application/vnd.openxmlformats-officedocument.wordprocessingml.document', 'parent_id': '2e5d2cda56df42c8154d8441c00977b1', 'category': 'UncategorizedText', 'element_id': 'd433e89ff8ab802111fcaab755c3226c'}, page_content='Только К-201 В'),\n",
       " Document(metadata={'source': 'data/data_processing/РАЗДЕЛ 6/РАЗДЕЛ 6.docx', 'file_directory': 'data/data_processing/РАЗДЕЛ 6', 'filename': 'РАЗДЕЛ 6.docx', 'last_modified': '2025-07-08T17:17:29', 'text_as_html': '<table><tr><td>HV-610</td><td>закрыт</td></tr><tr><td>HV-611</td><td>закрыт</td></tr><tr><td>HV-612</td><td>открыт</td></tr><tr><td>HV-613</td><td>закрыт</td></tr><tr><td>HV-614</td><td>открыт</td></tr><tr><td>HV-615</td><td>открыт</td></tr></table>', 'languages': ['rus'], 'filetype': 'application/vnd.openxmlformats-officedocument.wordprocessingml.document', 'parent_id': '2e5d2cda56df42c8154d8441c00977b1', 'category': 'Table', 'element_id': '6fd872900bb39ce50122bcaddde26eb7'}, page_content='HV-610 закрыт HV-611 закрыт HV-612 открыт HV-613 закрыт HV-614 открыт HV-615 открыт'),\n",
       " Document(metadata={'source': 'data/data_processing/РАЗДЕЛ 6/РАЗДЕЛ 6.docx', 'category_depth': 0, 'file_directory': 'data/data_processing/РАЗДЕЛ 6', 'filename': 'РАЗДЕЛ 6.docx', 'last_modified': '2025-07-08T17:17:29', 'languages': ['rus'], 'filetype': 'application/vnd.openxmlformats-officedocument.wordprocessingml.document', 'parent_id': '2e5d2cda56df42c8154d8441c00977b1', 'category': 'UncategorizedText', 'element_id': '228b92119006c1aa64b0a8578f5db208'}, page_content='К-201 А и К-201 В последовательно'),\n",
       " Document(metadata={'source': 'data/data_processing/РАЗДЕЛ 6/РАЗДЕЛ 6.docx', 'file_directory': 'data/data_processing/РАЗДЕЛ 6', 'filename': 'РАЗДЕЛ 6.docx', 'last_modified': '2025-07-08T17:17:29', 'text_as_html': '<table><tr><td>HV-610</td><td>открыт</td></tr><tr><td>HV-611</td><td>открыт</td></tr><tr><td>HV-612</td><td>закрыт</td></tr><tr><td>HV-613</td><td>закрыт</td></tr><tr><td>HV-614</td><td>открыт</td></tr><tr><td>HV-615</td><td>открыт</td></tr></table>', 'languages': ['rus'], 'filetype': 'application/vnd.openxmlformats-officedocument.wordprocessingml.document', 'parent_id': '2e5d2cda56df42c8154d8441c00977b1', 'category': 'Table', 'element_id': '8c09c315949eb53a0f7136d4f01901fd'}, page_content='HV-610 открыт HV-611 открыт HV-612 закрыт HV-613 закрыт HV-614 открыт HV-615 открыт'),\n",
       " Document(metadata={'source': 'data/data_processing/РАЗДЕЛ 6/РАЗДЕЛ 6.docx', 'category_depth': 0, 'file_directory': 'data/data_processing/РАЗДЕЛ 6', 'filename': 'РАЗДЕЛ 6.docx', 'last_modified': '2025-07-08T17:17:29', 'languages': ['rus'], 'filetype': 'application/vnd.openxmlformats-officedocument.wordprocessingml.document', 'parent_id': '2e5d2cda56df42c8154d8441c00977b1', 'category': 'NarrativeText', 'element_id': 'a573a4e8eee25e971c6156945ee21531'}, page_content='Рециркуляционные компрессоры представляют собой центробежные компрессоры фирмы «Сандайн». Они снабжены вспомогательным насосом системы смазки и системой нагрева и охлаждения смазочного масла. Перед пуском компрессора (компрессоров) масляный насос должен быть в работе, а давление и температура смазочного масла должна быть на установленном уровне. Перед пуском компрессора (компрессоров) должен быть обеспечен поток буферного газа для уплотнения при минимальном расходе уплотняющего газа.'),\n",
       " Document(metadata={'source': 'data/data_processing/РАЗДЕЛ 6/РАЗДЕЛ 6.docx', 'category_depth': 0, 'file_directory': 'data/data_processing/РАЗДЕЛ 6', 'filename': 'РАЗДЕЛ 6.docx', 'last_modified': '2025-07-08T17:17:29', 'languages': ['rus'], 'filetype': 'application/vnd.openxmlformats-officedocument.wordprocessingml.document', 'parent_id': '2e5d2cda56df42c8154d8441c00977b1', 'category': 'UncategorizedText', 'element_id': 'adc13a06689cfa67b5c3a373ea0e9b07'}, page_content='Ниже приведена процедура пуска компрессора (компрессоров).'),\n",
       " Document(metadata={'source': 'data/data_processing/РАЗДЕЛ 6/РАЗДЕЛ 6.docx', 'category_depth': 0, 'file_directory': 'data/data_processing/РАЗДЕЛ 6', 'filename': 'РАЗДЕЛ 6.docx', 'last_modified': '2025-07-08T17:17:29', 'languages': ['rus'], 'filetype': 'application/vnd.openxmlformats-officedocument.wordprocessingml.document', 'parent_id': '2e5d2cda56df42c8154d8441c00977b1', 'category': 'ListItem', 'element_id': '22f3647434f260bed7e26d511b95fdfc'}, page_content='Проверить правильность установки клапанов для выбранного режима работы. Подключить регулирующие клапаны FV-405 и FV-406 в работу;'),\n",
       " Document(metadata={'source': 'data/data_processing/РАЗДЕЛ 6/РАЗДЕЛ 6.docx', 'category_depth': 0, 'file_directory': 'data/data_processing/РАЗДЕЛ 6', 'filename': 'РАЗДЕЛ 6.docx', 'last_modified': '2025-07-08T17:17:29', 'languages': ['rus'], 'filetype': 'application/vnd.openxmlformats-officedocument.wordprocessingml.document', 'parent_id': '2e5d2cda56df42c8154d8441c00977b1', 'category': 'ListItem', 'element_id': '5c881de317fa271f6d6f53ddf709eb4f'}, page_content='поднять давление в системе до уровня 5,3 кг/см2 при циркуляции азота или 7 кг/см2 при циркуляции водорода;'),\n",
       " Document(metadata={'source': 'data/data_processing/РАЗДЕЛ 6/РАЗДЕЛ 6.docx', 'category_depth': 0, 'file_directory': 'data/data_processing/РАЗДЕЛ 6', 'filename': 'РАЗДЕЛ 6.docx', 'last_modified': '2025-07-08T17:17:29', 'languages': ['rus'], 'filetype': 'application/vnd.openxmlformats-officedocument.wordprocessingml.document', 'parent_id': '2e5d2cda56df42c8154d8441c00977b1', 'category': 'ListItem', 'element_id': '98eb1d9d7c600965dc3017a4cc5878a7'}, page_content='закрыть нагнетательный клапан FV-405 компрессора (компрессоров) перед пуском оставив его открытым примерно на 30%;'),\n",
       " Document(metadata={'source': 'data/data_processing/РАЗДЕЛ 6/РАЗДЕЛ 6.docx', 'category_depth': 0, 'file_directory': 'data/data_processing/РАЗДЕЛ 6', 'filename': 'РАЗДЕЛ 6.docx', 'last_modified': '2025-07-08T17:17:29', 'languages': ['rus'], 'filetype': 'application/vnd.openxmlformats-officedocument.wordprocessingml.document', 'parent_id': '2e5d2cda56df42c8154d8441c00977b1', 'category': 'ListItem', 'element_id': 'b44bf99b6b262d0bfc220ce440f220fd'}, page_content='открыть нагнетательный антипомпажный клапан FV-406 примерно до 70%;'),\n",
       " Document(metadata={'source': 'data/data_processing/РАЗДЕЛ 6/РАЗДЕЛ 6.docx', 'category_depth': 0, 'file_directory': 'data/data_processing/РАЗДЕЛ 6', 'filename': 'РАЗДЕЛ 6.docx', 'last_modified': '2025-07-08T17:17:29', 'languages': ['rus'], 'filetype': 'application/vnd.openxmlformats-officedocument.wordprocessingml.document', 'parent_id': '2e5d2cda56df42c8154d8441c00977b1', 'category': 'ListItem', 'element_id': 'c569688eca4c1c103705919a3a2b5511'}, page_content='проверить наличие расхода буферного газа через уплотнение (уплотнения);'),\n",
       " Document(metadata={'source': 'data/data_processing/РАЗДЕЛ 6/РАЗДЕЛ 6.docx', 'category_depth': 0, 'file_directory': 'data/data_processing/РАЗДЕЛ 6', 'filename': 'РАЗДЕЛ 6.docx', 'last_modified': '2025-07-08T17:17:29', 'languages': ['rus'], 'filetype': 'application/vnd.openxmlformats-officedocument.wordprocessingml.document', 'parent_id': '2e5d2cda56df42c8154d8441c00977b1', 'category': 'ListItem', 'element_id': 'c3a3d501d15d263eee6a89313e08b46c'}, page_content='пустить масляный насос (насосы) компрессора (компрессоров). Если компрессоры должны работать последовательно, должен быть пущен масляный насос каждого компрессора;'),\n",
       " Document(metadata={'source': 'data/data_processing/РАЗДЕЛ 6/РАЗДЕЛ 6.docx', 'category_depth': 0, 'file_directory': 'data/data_processing/РАЗДЕЛ 6', 'filename': 'РАЗДЕЛ 6.docx', 'last_modified': '2025-07-08T17:17:29', 'languages': ['rus'], 'filetype': 'application/vnd.openxmlformats-officedocument.wordprocessingml.document', 'parent_id': '2e5d2cda56df42c8154d8441c00977b1', 'category': 'ListItem', 'element_id': '927d1a4d11397e07c3f1b5e995de8939'}, page_content='при загорании сигнала \"Готов к пуску\" нажать пусковую кнопку (кнопки) для пуска компрессора (компрессоров);'),\n",
       " Document(metadata={'source': 'data/data_processing/РАЗДЕЛ 6/РАЗДЕЛ 6.docx', 'category_depth': 0, 'file_directory': 'data/data_processing/РАЗДЕЛ 6', 'filename': 'РАЗДЕЛ 6.docx', 'last_modified': '2025-07-08T17:17:29', 'languages': ['rus'], 'filetype': 'application/vnd.openxmlformats-officedocument.wordprocessingml.document', 'parent_id': '2e5d2cda56df42c8154d8441c00977b1', 'category': 'ListItem', 'element_id': '1adac334a38e20852c0f49bcd9e9d417'}, page_content='после устойчивой работы компрессора медленно перевести нагнетательный клапан FV-405 в полностью открытое положение, одновременно закрывая клапан FV-406.Перевести клапаны FV-405 и FV-406 в автоматический режим.'),\n",
       " Document(metadata={'source': 'data/data_processing/РАЗДЕЛ 6/РАЗДЕЛ 6.docx', 'category_depth': 0, 'file_directory': 'data/data_processing/РАЗДЕЛ 6', 'filename': 'РАЗДЕЛ 6.docx', 'last_modified': '2025-07-08T17:17:29', 'languages': ['rus'], 'filetype': 'application/vnd.openxmlformats-officedocument.wordprocessingml.document', 'parent_id': '2e5d2cda56df42c8154d8441c00977b1', 'category': 'UncategorizedText', 'element_id': '4b4ec756137bf40177e9e752e911c058'}, page_content='Устранение неисправностей.'),\n",
       " Document(metadata={'source': 'data/data_processing/РАЗДЕЛ 6/РАЗДЕЛ 6.docx', 'category_depth': 0, 'file_directory': 'data/data_processing/РАЗДЕЛ 6', 'filename': 'РАЗДЕЛ 6.docx', 'last_modified': '2025-07-08T17:17:29', 'languages': ['rus'], 'filetype': 'application/vnd.openxmlformats-officedocument.wordprocessingml.document', 'parent_id': '2e5d2cda56df42c8154d8441c00977b1', 'category': 'NarrativeText', 'element_id': '3148292559180fcb252b74502e674b2f'}, page_content='Производительность компрессора сильно зависит от параметров системы, таких как давление на всасе, температура, молекулярный вес, частота вращения привода, расход и характеристики регулирования нагнетания. Эти факторы, а также возможные внутренние неполадки компрессора должны быть тщательно учтены при анализе производительности системы. '),\n",
       " Document(metadata={'source': 'data/data_processing/РАЗДЕЛ 6/РАЗДЕЛ 6.docx', 'category_depth': 0, 'file_directory': 'data/data_processing/РАЗДЕЛ 6', 'filename': 'РАЗДЕЛ 6.docx', 'last_modified': '2025-07-08T17:17:29', 'languages': ['rus'], 'filetype': 'application/vnd.openxmlformats-officedocument.wordprocessingml.document', 'parent_id': '2e5d2cda56df42c8154d8441c00977b1', 'category': 'UncategorizedText', 'element_id': 'c47b5ae38de48bed6c0ee1b1f28f090b'}, page_content='Монтаж, эксплуатация и техобслуживание компрессоров должно проводиться в строгом соответствии с руководством завода-изготовителя, а также в соответствии с действующими заводскими инструкциями.'),\n",
       " Document(metadata={'source': 'data/data_processing/РАЗДЕЛ 6/РАЗДЕЛ 6.docx', 'category_depth': 0, 'emphasized_text_contents': ['6.1.2.7', 'Подготовка', 'печи риформинга Н-201 А/В/С к пуску'], 'emphasized_text_tags': ['b', 'b', 'b'], 'file_directory': 'data/data_processing/РАЗДЕЛ 6', 'filename': 'РАЗДЕЛ 6.docx', 'last_modified': '2025-07-08T17:17:29', 'languages': ['rus'], 'filetype': 'application/vnd.openxmlformats-officedocument.wordprocessingml.document', 'parent_id': '2e5d2cda56df42c8154d8441c00977b1', 'category': 'UncategorizedText', 'element_id': '2b4263681c51254217047a9c9a20500e'}, page_content='6.1.2.7 Подготовка печи риформинга Н-201 А/В/С к пуску'),\n",
       " Document(metadata={'source': 'data/data_processing/РАЗДЕЛ 6/РАЗДЕЛ 6.docx', 'category_depth': 0, 'file_directory': 'data/data_processing/РАЗДЕЛ 6', 'filename': 'РАЗДЕЛ 6.docx', 'last_modified': '2025-07-08T17:17:29', 'languages': ['rus'], 'filetype': 'application/vnd.openxmlformats-officedocument.wordprocessingml.document', 'parent_id': '2e5d2cda56df42c8154d8441c00977b1', 'category': 'NarrativeText', 'element_id': '74b15bafb3f8e17f39fc0d191344cd55'}, page_content='До начала розжига горелок печей должны быть закончены все строительно-монтажные работы по печам. Кроме того должны быть закончены строительно-монтажные работы по продуктовым коммуникациям для обеспечения нормальной подачи продукта в змеевики печей.'),\n",
       " Document(metadata={'source': 'data/data_processing/РАЗДЕЛ 6/РАЗДЕЛ 6.docx', 'category_depth': 0, 'file_directory': 'data/data_processing/РАЗДЕЛ 6', 'filename': 'РАЗДЕЛ 6.docx', 'last_modified': '2025-07-08T17:17:29', 'languages': ['rus'], 'filetype': 'application/vnd.openxmlformats-officedocument.wordprocessingml.document', 'parent_id': '2e5d2cda56df42c8154d8441c00977b1', 'category': 'NarrativeText', 'element_id': 'de4883e390326407210da5304e001648'}, page_content='Продуктовые коммуникации должны быть предварительно продуты воздухом (или промыты водой) от грязи и посторонних предметов во избежание частичной или полной закупорки отдельных параллельных потоков змеевика и, вследствие этого, прогара труб.'),\n",
       " Document(metadata={'source': 'data/data_processing/РАЗДЕЛ 6/РАЗДЕЛ 6.docx', 'category_depth': 0, 'file_directory': 'data/data_processing/РАЗДЕЛ 6', 'filename': 'РАЗДЕЛ 6.docx', 'last_modified': '2025-07-08T17:17:29', 'languages': ['rus'], 'filetype': 'application/vnd.openxmlformats-officedocument.wordprocessingml.document', 'parent_id': '2e5d2cda56df42c8154d8441c00977b1', 'category': 'NarrativeText', 'element_id': '9fbbe1658c1ca1d2a95611a3ce3e7390'}, page_content='Запускаемые в эксплуатацию печи должны быть приняты комиссией по установленному порядку сдачи в эксплуатацию. При этом должно быть проверено наличие актов приема металлоконструкций, фундаментов, проведенных футеровочных работ и испытания змеевиков печей на прочность, плотность и герметичность.'),\n",
       " Document(metadata={'source': 'data/data_processing/РАЗДЕЛ 6/РАЗДЕЛ 6.docx', 'category_depth': 0, 'file_directory': 'data/data_processing/РАЗДЕЛ 6', 'filename': 'РАЗДЕЛ 6.docx', 'last_modified': '2025-07-08T17:17:29', 'languages': ['rus'], 'filetype': 'application/vnd.openxmlformats-officedocument.wordprocessingml.document', 'parent_id': '2e5d2cda56df42c8154d8441c00977b1', 'category': 'UncategorizedText', 'element_id': 'f3888edd33d6858956cc9dbcb628ccdd'}, page_content='До начала розжига печей должно быть обеспечено бесперебойное снабжение установки электроэнергией, топливом, паром, инертным газом.'),\n",
       " Document(metadata={'source': 'data/data_processing/РАЗДЕЛ 6/РАЗДЕЛ 6.docx', 'category_depth': 0, 'file_directory': 'data/data_processing/РАЗДЕЛ 6', 'filename': 'РАЗДЕЛ 6.docx', 'last_modified': '2025-07-08T17:17:29', 'languages': ['rus'], 'filetype': 'application/vnd.openxmlformats-officedocument.wordprocessingml.document', 'parent_id': '2e5d2cda56df42c8154d8441c00977b1', 'category': 'UncategorizedText', 'element_id': 'aa26ba932167cbc73f23e2b460e4297d'}, page_content='Перед первоначальным розжигом печей или пуском их после капитального ремонта необходимо выполнить подготовительные работы:'),\n",
       " Document(metadata={'source': 'data/data_processing/РАЗДЕЛ 6/РАЗДЕЛ 6.docx', 'category_depth': 0, 'file_directory': 'data/data_processing/РАЗДЕЛ 6', 'filename': 'РАЗДЕЛ 6.docx', 'last_modified': '2025-07-08T17:17:29', 'languages': ['rus'], 'filetype': 'application/vnd.openxmlformats-officedocument.wordprocessingml.document', 'parent_id': '2e5d2cda56df42c8154d8441c00977b1', 'category': 'UncategorizedText', 'element_id': '182fc7af05c92b3d60fd6aa8100b3ce5'}, page_content='1. Произвести внутренний и внешний осмотр печей и дымоходов с проверкой состояния поверхностей футеровки, исправности и правильности установки горелок, регулировочных шиберов, термопар на «перевалах» печей, убедиться в наличии заглушек установленных на каждой горелке печи Н-201А,В,С. '),\n",
       " Document(metadata={'source': 'data/data_processing/РАЗДЕЛ 6/РАЗДЕЛ 6.docx', 'category_depth': 0, 'file_directory': 'data/data_processing/РАЗДЕЛ 6', 'filename': 'РАЗДЕЛ 6.docx', 'last_modified': '2025-07-08T17:17:29', 'languages': ['rus'], 'filetype': 'application/vnd.openxmlformats-officedocument.wordprocessingml.document', 'parent_id': '2e5d2cda56df42c8154d8441c00977b1', 'category': 'NarrativeText', 'element_id': 'd289813e5ed0f806d13a577abe9081f7'}, page_content='2. Перед пуском печи необходимо убедиться в отсутствии каких-либо предметов, оставшихся после ремонта в камере сгорания, дымоходах. Перед розжигом горелок все люки и лазы печи должны быть закрыты.'),\n",
       " Document(metadata={'source': 'data/data_processing/РАЗДЕЛ 6/РАЗДЕЛ 6.docx', 'category_depth': 0, 'file_directory': 'data/data_processing/РАЗДЕЛ 6', 'filename': 'РАЗДЕЛ 6.docx', 'last_modified': '2025-07-08T17:17:29', 'languages': ['rus'], 'filetype': 'application/vnd.openxmlformats-officedocument.wordprocessingml.document', 'parent_id': '2e5d2cda56df42c8154d8441c00977b1', 'category': 'NarrativeText', 'element_id': '35726c2a75977751df83fad821be5d95'}, page_content='3. На паропроводе подачи пара в радиантные камеры печей убедиться в отсутствии заглушек. Проверить закрытие запорной арматуры на линии подачи пара в камеру печей и открытие пробного продувочного вентиля для контроля за плотностью задвижки и спуска конденсата.'),\n",
       " Document(metadata={'source': 'data/data_processing/РАЗДЕЛ 6/РАЗДЕЛ 6.docx', 'category_depth': 0, 'file_directory': 'data/data_processing/РАЗДЕЛ 6', 'filename': 'РАЗДЕЛ 6.docx', 'last_modified': '2025-07-08T17:17:29', 'languages': ['rus'], 'filetype': 'application/vnd.openxmlformats-officedocument.wordprocessingml.document', 'parent_id': '2e5d2cda56df42c8154d8441c00977b1', 'category': 'UncategorizedText', 'element_id': '9d73a8bded0785e8c9e97b2df80a9324'}, page_content='4.Проверить отсутствие на печи и вблизи нее горючих материалов и других посторонних предметов.'),\n",
       " Document(metadata={'source': 'data/data_processing/РАЗДЕЛ 6/РАЗДЕЛ 6.docx', 'category_depth': 0, 'file_directory': 'data/data_processing/РАЗДЕЛ 6', 'filename': 'РАЗДЕЛ 6.docx', 'last_modified': '2025-07-08T17:17:29', 'languages': ['rus'], 'filetype': 'application/vnd.openxmlformats-officedocument.wordprocessingml.document', 'parent_id': '2e5d2cda56df42c8154d8441c00977b1', 'category': 'UncategorizedText', 'element_id': '6ced4d59eb27837b24f0240b940928a7'}, page_content='5. Проверить состояние и комплектность противопожарного инвентаря.'),\n",
       " Document(metadata={'source': 'data/data_processing/РАЗДЕЛ 6/РАЗДЕЛ 6.docx', 'category_depth': 0, 'file_directory': 'data/data_processing/РАЗДЕЛ 6', 'filename': 'РАЗДЕЛ 6.docx', 'last_modified': '2025-07-08T17:17:29', 'languages': ['rus'], 'filetype': 'application/vnd.openxmlformats-officedocument.wordprocessingml.document', 'parent_id': '2e5d2cda56df42c8154d8441c00977b1', 'category': 'NarrativeText', 'element_id': '92b66c3f883b5570a968281d580fe38e'}, page_content='6. Произвести ревизию запорных и регулирующих устройств. Опробовать приводы и легкость хода шиберов. Убедиться в полном открытии и закрытии их до ограничителя.'),\n",
       " Document(metadata={'source': 'data/data_processing/РАЗДЕЛ 6/РАЗДЕЛ 6.docx', 'category_depth': 0, 'file_directory': 'data/data_processing/РАЗДЕЛ 6', 'filename': 'РАЗДЕЛ 6.docx', 'last_modified': '2025-07-08T17:17:29', 'languages': ['rus'], 'filetype': 'application/vnd.openxmlformats-officedocument.wordprocessingml.document', 'parent_id': '2e5d2cda56df42c8154d8441c00977b1', 'category': 'NarrativeText', 'element_id': '539ab851044c1ae1fc6d035561a904c3'}, page_content='7. Проверить наличие, выполнить регулировку и наладку приборов контроля и автоматики, систем сигнализации и блокировок. Розжиг и пуск печей при отсутствии предусмотренных проектом приборов контроля и автоматики, сигнализации и блокировок запрещается.'),\n",
       " Document(metadata={'source': 'data/data_processing/РАЗДЕЛ 6/РАЗДЕЛ 6.docx', 'category_depth': 0, 'file_directory': 'data/data_processing/РАЗДЕЛ 6', 'filename': 'РАЗДЕЛ 6.docx', 'last_modified': '2025-07-08T17:17:29', 'languages': ['rus'], 'filetype': 'application/vnd.openxmlformats-officedocument.wordprocessingml.document', 'parent_id': '2e5d2cda56df42c8154d8441c00977b1', 'category': 'NarrativeText', 'element_id': '8d03b2c7baa486188d7d0f98be8e04ce'}, page_content='8. Последовательным открытием шиберов, за счет тяги дымовой трубы, проверить наличие и соответствие нормам разрежения в печах по показаниям приборов поз. PI-7, PI-10, PI-13.'),\n",
       " Document(metadata={'source': 'data/data_processing/РАЗДЕЛ 6/РАЗДЕЛ 6.docx', 'category_depth': 0, 'file_directory': 'data/data_processing/РАЗДЕЛ 6', 'filename': 'РАЗДЕЛ 6.docx', 'last_modified': '2025-07-08T17:17:29', 'languages': ['rus'], 'filetype': 'application/vnd.openxmlformats-officedocument.wordprocessingml.document', 'parent_id': '2e5d2cda56df42c8154d8441c00977b1', 'category': 'UncategorizedText', 'element_id': '5511c1a600f435096642578ba0641bd8'}, page_content='9. Проверить заземление щита управления, корпусов печей к общему контуру заземления.'),\n",
       " Document(metadata={'source': 'data/data_processing/РАЗДЕЛ 6/РАЗДЕЛ 6.docx', 'category_depth': 0, 'file_directory': 'data/data_processing/РАЗДЕЛ 6', 'filename': 'РАЗДЕЛ 6.docx', 'last_modified': '2025-07-08T17:17:29', 'languages': ['rus'], 'filetype': 'application/vnd.openxmlformats-officedocument.wordprocessingml.document', 'parent_id': '2e5d2cda56df42c8154d8441c00977b1', 'category': 'NarrativeText', 'element_id': '21fb3a7424977999da5f07015642fb81'}, page_content='10. Проверить состояние газопровода топливного газа, продувочных свечей. Проверить отсутствие заглушек и положение вентилей, кранов и задвижек, при условии, что заглушка по топливному газу на границе установки установлена. Все вентили, краны, задвижки перед горелками и измерительными приборами должны быть закрыты.'),\n",
       " Document(metadata={'source': 'data/data_processing/РАЗДЕЛ 6/РАЗДЕЛ 6.docx', 'category_depth': 0, 'file_directory': 'data/data_processing/РАЗДЕЛ 6', 'filename': 'РАЗДЕЛ 6.docx', 'last_modified': '2025-07-08T17:17:29', 'languages': ['rus'], 'filetype': 'application/vnd.openxmlformats-officedocument.wordprocessingml.document', 'parent_id': '2e5d2cda56df42c8154d8441c00977b1', 'category': 'UncategorizedText', 'element_id': 'c29cc6ba8d99ae57c4a2aea036fcce01'}, page_content='11. Непосредственно перед пуском печей произвести испытание трубопроводов и аппаратов топливного газа на герметичность и продуть газопровод инертным газом в следующей последовательности:'),\n",
       " Document(metadata={'source': 'data/data_processing/РАЗДЕЛ 6/РАЗДЕЛ 6.docx', 'category_depth': 0, 'file_directory': 'data/data_processing/РАЗДЕЛ 6', 'filename': 'РАЗДЕЛ 6.docx', 'last_modified': '2025-07-08T17:17:29', 'languages': ['rus'], 'filetype': 'application/vnd.openxmlformats-officedocument.wordprocessingml.document', 'parent_id': '2e5d2cda56df42c8154d8441c00977b1', 'category': 'ListItem', 'element_id': 'c81a7215452fba547e126f7561ed802a'}, page_content='открыть запорную арматуру:'),\n",
       " Document(metadata={'source': 'data/data_processing/РАЗДЕЛ 6/РАЗДЕЛ 6.docx', 'category_depth': 0, 'file_directory': 'data/data_processing/РАЗДЕЛ 6', 'filename': 'РАЗДЕЛ 6.docx', 'last_modified': '2025-07-08T17:17:29', 'languages': ['rus'], 'filetype': 'application/vnd.openxmlformats-officedocument.wordprocessingml.document', 'parent_id': '2e5d2cda56df42c8154d8441c00977b1', 'category': 'ListItem', 'element_id': 'dd1db12ed91b54691ff67fbfcc28537b'}, page_content='№ 5NG на байпасе регулирующего клапана поз. PV-303;'),\n",
       " Document(metadata={'source': 'data/data_processing/РАЗДЕЛ 6/РАЗДЕЛ 6.docx', 'category_depth': 0, 'file_directory': 'data/data_processing/РАЗДЕЛ 6', 'filename': 'РАЗДЕЛ 6.docx', 'last_modified': '2025-07-08T17:17:29', 'languages': ['rus'], 'filetype': 'application/vnd.openxmlformats-officedocument.wordprocessingml.document', 'parent_id': '2e5d2cda56df42c8154d8441c00977b1', 'category': 'ListItem', 'element_id': 'a9432c23518913e31d438e85f3fe6d52'}, page_content='№ 8NG на байпасе регулирующего клапана поз. PV-304;'),\n",
       " Document(metadata={'source': 'data/data_processing/РАЗДЕЛ 6/РАЗДЕЛ 6.docx', 'category_depth': 0, 'file_directory': 'data/data_processing/РАЗДЕЛ 6', 'filename': 'РАЗДЕЛ 6.docx', 'last_modified': '2025-07-08T17:17:29', 'languages': ['rus'], 'filetype': 'application/vnd.openxmlformats-officedocument.wordprocessingml.document', 'parent_id': '2e5d2cda56df42c8154d8441c00977b1', 'category': 'ListItem', 'element_id': 'b0ae22094ccc8a688948a00066e27a03'}, page_content='№ 11NG на байпасе регулирующего клапана поз. PV-305;'),\n",
       " Document(metadata={'source': 'data/data_processing/РАЗДЕЛ 6/РАЗДЕЛ 6.docx', 'category_depth': 0, 'file_directory': 'data/data_processing/РАЗДЕЛ 6', 'filename': 'РАЗДЕЛ 6.docx', 'last_modified': '2025-07-08T17:17:29', 'languages': ['rus'], 'filetype': 'application/vnd.openxmlformats-officedocument.wordprocessingml.document', 'parent_id': '2e5d2cda56df42c8154d8441c00977b1', 'category': 'ListItem', 'element_id': '35c40c4ccc6ccfa2b8184d5f975a212d'}, page_content='№ 1NG, 2NG на линии топливного газа до клапанов-отсекателей поз. NY-501, NY-504;'),\n",
       " Document(metadata={'source': 'data/data_processing/РАЗДЕЛ 6/РАЗДЕЛ 6.docx', 'category_depth': 0, 'file_directory': 'data/data_processing/РАЗДЕЛ 6', 'filename': 'РАЗДЕЛ 6.docx', 'last_modified': '2025-07-08T17:17:29', 'languages': ['rus'], 'filetype': 'application/vnd.openxmlformats-officedocument.wordprocessingml.document', 'parent_id': '2e5d2cda56df42c8154d8441c00977b1', 'category': 'ListItem', 'element_id': 'bb86588f05bec47d4182e1f686ecce2b'}, page_content='№ 47NG, 95NG, 94NG на линии топливного газа в сепаратор V-210;'),\n",
       " Document(metadata={'source': 'data/data_processing/РАЗДЕЛ 6/РАЗДЕЛ 6.docx', 'category_depth': 0, 'file_directory': 'data/data_processing/РАЗДЕЛ 6', 'filename': 'РАЗДЕЛ 6.docx', 'last_modified': '2025-07-08T17:17:29', 'languages': ['rus'], 'filetype': 'application/vnd.openxmlformats-officedocument.wordprocessingml.document', 'parent_id': '2e5d2cda56df42c8154d8441c00977b1', 'category': 'ListItem', 'element_id': '2552462312d4f267f0eb6b158208526a'}, page_content='№ 93NG, 92NG, 49NG на линии топливного газа в теплообменник Е-210;'),\n",
       " Document(metadata={'source': 'data/data_processing/РАЗДЕЛ 6/РАЗДЕЛ 6.docx', 'category_depth': 0, 'file_directory': 'data/data_processing/РАЗДЕЛ 6', 'filename': 'РАЗДЕЛ 6.docx', 'last_modified': '2025-07-08T17:17:29', 'languages': ['rus'], 'filetype': 'application/vnd.openxmlformats-officedocument.wordprocessingml.document', 'parent_id': '2e5d2cda56df42c8154d8441c00977b1', 'category': 'ListItem', 'element_id': '5c63ff9620c5071748f9465c0bb6380d'}, page_content='закрыть запорную арматуру:'),\n",
       " Document(metadata={'source': 'data/data_processing/РАЗДЕЛ 6/РАЗДЕЛ 6.docx', 'category_depth': 0, 'file_directory': 'data/data_processing/РАЗДЕЛ 6', 'filename': 'РАЗДЕЛ 6.docx', 'last_modified': '2025-07-08T17:17:29', 'languages': ['rus'], 'filetype': 'application/vnd.openxmlformats-officedocument.wordprocessingml.document', 'parent_id': '2e5d2cda56df42c8154d8441c00977b1', 'category': 'ListItem', 'element_id': '3721c960aa0afdb3f9988d5cefcbca3d'}, page_content='№ 48NG на коллекторе топливного газа;'),\n",
       " Document(metadata={'source': 'data/data_processing/РАЗДЕЛ 6/РАЗДЕЛ 6.docx', 'category_depth': 0, 'file_directory': 'data/data_processing/РАЗДЕЛ 6', 'filename': 'РАЗДЕЛ 6.docx', 'last_modified': '2025-07-08T17:17:29', 'languages': ['rus'], 'filetype': 'application/vnd.openxmlformats-officedocument.wordprocessingml.document', 'parent_id': '2e5d2cda56df42c8154d8441c00977b1', 'category': 'ListItem', 'element_id': 'e68664167ccbb5526934893847094edc'}, page_content='№ 90NG на байпасе емкости V-210;'),\n",
       " Document(metadata={'source': 'data/data_processing/РАЗДЕЛ 6/РАЗДЕЛ 6.docx', 'category_depth': 0, 'file_directory': 'data/data_processing/РАЗДЕЛ 6', 'filename': 'РАЗДЕЛ 6.docx', 'last_modified': '2025-07-08T17:17:29', 'languages': ['rus'], 'filetype': 'application/vnd.openxmlformats-officedocument.wordprocessingml.document', 'parent_id': '2e5d2cda56df42c8154d8441c00977b1', 'category': 'ListItem', 'element_id': '4ca5e4b05f9b58ebb9b802b854c6760d'}, page_content='№ 91NG на байпасе теплообменника Е-210;'),\n",
       " Document(metadata={'source': 'data/data_processing/РАЗДЕЛ 6/РАЗДЕЛ 6.docx', 'category_depth': 0, 'file_directory': 'data/data_processing/РАЗДЕЛ 6', 'filename': 'РАЗДЕЛ 6.docx', 'last_modified': '2025-07-08T17:17:29', 'languages': ['rus'], 'filetype': 'application/vnd.openxmlformats-officedocument.wordprocessingml.document', 'parent_id': '2e5d2cda56df42c8154d8441c00977b1', 'category': 'ListItem', 'element_id': '3249fc1e4f7a45f4915f687c54da6f99'}, page_content='№ 96NG на линии сброса на факел;'),\n",
       " Document(metadata={'source': 'data/data_processing/РАЗДЕЛ 6/РАЗДЕЛ 6.docx', 'category_depth': 0, 'file_directory': 'data/data_processing/РАЗДЕЛ 6', 'filename': 'РАЗДЕЛ 6.docx', 'last_modified': '2025-07-08T17:17:29', 'languages': ['rus'], 'filetype': 'application/vnd.openxmlformats-officedocument.wordprocessingml.document', 'parent_id': '2e5d2cda56df42c8154d8441c00977b1', 'category': 'ListItem', 'element_id': '61661c3290f9d3214f7c05f6ed68afe8'}, page_content='№ 150DL на линии дренажа сепаратора в емкость V-507;'),\n",
       " Document(metadata={'source': 'data/data_processing/РАЗДЕЛ 6/РАЗДЕЛ 6.docx', 'category_depth': 0, 'file_directory': 'data/data_processing/РАЗДЕЛ 6', 'filename': 'РАЗДЕЛ 6.docx', 'last_modified': '2025-07-08T17:17:29', 'languages': ['rus'], 'filetype': 'application/vnd.openxmlformats-officedocument.wordprocessingml.document', 'parent_id': '2e5d2cda56df42c8154d8441c00977b1', 'category': 'ListItem', 'element_id': '6202088c3c44c481196ef05e3a8f2721'}, page_content='№ 97NG на линии сброса топливного газа в атмосферу;'),\n",
       " Document(metadata={'source': 'data/data_processing/РАЗДЕЛ 6/РАЗДЕЛ 6.docx', 'category_depth': 0, 'file_directory': 'data/data_processing/РАЗДЕЛ 6', 'filename': 'РАЗДЕЛ 6.docx', 'last_modified': '2025-07-08T17:17:29', 'languages': ['rus'], 'filetype': 'application/vnd.openxmlformats-officedocument.wordprocessingml.document', 'parent_id': '2e5d2cda56df42c8154d8441c00977b1', 'category': 'ListItem', 'element_id': 'd2b4abc27536aa3a7434d6089bf5e5de'}, page_content='открыть клапаны-отсекатели NY-501, NY-502, NY-504 (клапан-отсекатель NY-503 закроется);'),\n",
       " Document(metadata={'source': 'data/data_processing/РАЗДЕЛ 6/РАЗДЕЛ 6.docx', 'category_depth': 0, 'file_directory': 'data/data_processing/РАЗДЕЛ 6', 'filename': 'РАЗДЕЛ 6.docx', 'last_modified': '2025-07-08T17:17:29', 'languages': ['rus'], 'filetype': 'application/vnd.openxmlformats-officedocument.wordprocessingml.document', 'parent_id': '2e5d2cda56df42c8154d8441c00977b1', 'category': 'ListItem', 'element_id': '8aa77aafdac60bf71666b22a1b814ce8'}, page_content='установить съемный участок трубопровода между дренажным вентилем клапанной сборки PV-305 и запорной арматурой на стояке азота низкого давления в помещении насосной;'),\n",
       " Document(metadata={'source': 'data/data_processing/РАЗДЕЛ 6/РАЗДЕЛ 6.docx', 'category_depth': 0, 'file_directory': 'data/data_processing/РАЗДЕЛ 6', 'filename': 'РАЗДЕЛ 6.docx', 'last_modified': '2025-07-08T17:17:29', 'languages': ['rus'], 'filetype': 'application/vnd.openxmlformats-officedocument.wordprocessingml.document', 'parent_id': '2e5d2cda56df42c8154d8441c00977b1', 'category': 'ListItem', 'element_id': '957154f7c30904d103b91d727a27bf95'}, page_content='открыть вентили манометрических сборок поз. PI-9, PI-17, PI-15 расположенные до регулирующих клапанов поз. PV-303, PV-304, PV-305 соответственно, открыть вентиль манометрической сборки поз. PI-85 на емкости V-210;'),\n",
       " Document(metadata={'source': 'data/data_processing/РАЗДЕЛ 6/РАЗДЕЛ 6.docx', 'category_depth': 0, 'file_directory': 'data/data_processing/РАЗДЕЛ 6', 'filename': 'РАЗДЕЛ 6.docx', 'last_modified': '2025-07-08T17:17:29', 'languages': ['rus'], 'filetype': 'application/vnd.openxmlformats-officedocument.wordprocessingml.document', 'parent_id': '2e5d2cda56df42c8154d8441c00977b1', 'category': 'ListItem', 'element_id': '86f083517c53bb827f05206997280f18'}, page_content='постепенным открытием задвижки на стояке азота № 17NI и дренажного вентиля на клапанной сборке поз. PV-305 заполнить систему топливного газа азотом давлением 3,0 кгс/см2, после чего запорную арматуру перекрыть.'),\n",
       " Document(metadata={'source': 'data/data_processing/РАЗДЕЛ 6/РАЗДЕЛ 6.docx', 'category_depth': 0, 'file_directory': 'data/data_processing/РАЗДЕЛ 6', 'filename': 'РАЗДЕЛ 6.docx', 'last_modified': '2025-07-08T17:17:29', 'languages': ['rus'], 'filetype': 'application/vnd.openxmlformats-officedocument.wordprocessingml.document', 'parent_id': '2e5d2cda56df42c8154d8441c00977b1', 'category': 'NarrativeText', 'element_id': 'ecc4473f73d4249f97417e22c2ea1e95'}, page_content='В течение четырех часов во всех фланцевых и разъемных соединениях трубопроводов и аппаратов топливного газа выявляют места утечек газа при помощи мыльного раствора. Трубопроводы и аппараты считается выдержавшим испытание если по истечении четырех часов давление в трубопроводе не снизиться более чем на 0,4%.'),\n",
       " Document(metadata={'source': 'data/data_processing/РАЗДЕЛ 6/РАЗДЕЛ 6.docx', 'category_depth': 0, 'file_directory': 'data/data_processing/РАЗДЕЛ 6', 'filename': 'РАЗДЕЛ 6.docx', 'last_modified': '2025-07-08T17:17:29', 'languages': ['rus'], 'filetype': 'application/vnd.openxmlformats-officedocument.wordprocessingml.document', 'parent_id': '2e5d2cda56df42c8154d8441c00977b1', 'category': 'UncategorizedText', 'element_id': 'bd22f78a799caf41d72a3f30bf336ffd'}, page_content='12. После испытания на герметичность приступают к продувке:'),\n",
       " Document(metadata={'source': 'data/data_processing/РАЗДЕЛ 6/РАЗДЕЛ 6.docx', 'category_depth': 0, 'file_directory': 'data/data_processing/РАЗДЕЛ 6', 'filename': 'РАЗДЕЛ 6.docx', 'last_modified': '2025-07-08T17:17:29', 'languages': ['rus'], 'filetype': 'application/vnd.openxmlformats-officedocument.wordprocessingml.document', 'parent_id': '2e5d2cda56df42c8154d8441c00977b1', 'category': 'ListItem', 'element_id': 'bed002618ed25447dbdccb272fd5b889'}, page_content='открыть вентили № 39NG, 40NG на линиях свечи основного и пилотного газа печи Н-201В. Постепенным открытием задвижки на стояке азота № 17NI и дренажного вентиля на клапанной сборке поз. PV-305 продуть газопровод до печи Н-201В в течении 10 минут.'),\n",
       " Document(metadata={'source': 'data/data_processing/РАЗДЕЛ 6/РАЗДЕЛ 6.docx', 'category_depth': 0, 'file_directory': 'data/data_processing/РАЗДЕЛ 6', 'filename': 'РАЗДЕЛ 6.docx', 'last_modified': '2025-07-08T17:17:29', 'languages': ['rus'], 'filetype': 'application/vnd.openxmlformats-officedocument.wordprocessingml.document', 'parent_id': '2e5d2cda56df42c8154d8441c00977b1', 'category': 'ListItem', 'element_id': '5447bdc8653218e67eeaf5c012e4282e'}, page_content='аналогично открывая вентили № 41NG, 42NG и 43NG, 44NG продуть газопровод до печей Н-201А, Н-201С в течении 10 минут соответственно.'),\n",
       " Document(metadata={'source': 'data/data_processing/РАЗДЕЛ 6/РАЗДЕЛ 6.docx', 'category_depth': 0, 'file_directory': 'data/data_processing/РАЗДЕЛ 6', 'filename': 'РАЗДЕЛ 6.docx', 'last_modified': '2025-07-08T17:17:29', 'languages': ['rus'], 'filetype': 'application/vnd.openxmlformats-officedocument.wordprocessingml.document', 'parent_id': '2e5d2cda56df42c8154d8441c00977b1', 'category': 'ListItem', 'element_id': 'd736629a982848a2bec6a7d7d897b64d'}, page_content='открыть дренажный вентиль № 131DL на границе установки на линии топливного газа и продуть коллектор топливного газа, сепаратор V-210 и теплообменник Е-210 в течение 15 минут.'),\n",
       " Document(metadata={'source': 'data/data_processing/РАЗДЕЛ 6/РАЗДЕЛ 6.docx', 'category_depth': 0, 'file_directory': 'data/data_processing/РАЗДЕЛ 6', 'filename': 'РАЗДЕЛ 6.docx', 'last_modified': '2025-07-08T17:17:29', 'languages': ['rus'], 'filetype': 'application/vnd.openxmlformats-officedocument.wordprocessingml.document', 'parent_id': '2e5d2cda56df42c8154d8441c00977b1', 'category': 'ListItem', 'element_id': 'f291a9a90c3a19b3cee35bb51bd26335'}, page_content='по окончании продувки отбирают пробу газа на анализ содержания кислорода из вентиля свидетеля на манометрических сборках расположенных непосредственно перед горелками по линии основного и пилотного газа, также отбирают пробы газа из сепаратора V-210 и вентиля свидетеля манометрической сборки на границе установки.'),\n",
       " Document(metadata={'source': 'data/data_processing/РАЗДЕЛ 6/РАЗДЕЛ 6.docx', 'category_depth': 0, 'file_directory': 'data/data_processing/РАЗДЕЛ 6', 'filename': 'РАЗДЕЛ 6.docx', 'last_modified': '2025-07-08T17:17:29', 'languages': ['rus'], 'filetype': 'application/vnd.openxmlformats-officedocument.wordprocessingml.document', 'parent_id': '2e5d2cda56df42c8154d8441c00977b1', 'category': 'NarrativeText', 'element_id': 'a52fe9559e85c9c231d60199dddeb245'}, page_content='Продувка азотом трубопроводов топливного газа перед пуском печей производится до содержания кислорода не более 0,5 % об.'),\n",
       " Document(metadata={'source': 'data/data_processing/РАЗДЕЛ 6/РАЗДЕЛ 6.docx', 'category_depth': 0, 'file_directory': 'data/data_processing/РАЗДЕЛ 6', 'filename': 'РАЗДЕЛ 6.docx', 'last_modified': '2025-07-08T17:17:29', 'languages': ['rus'], 'filetype': 'application/vnd.openxmlformats-officedocument.wordprocessingml.document', 'parent_id': '2e5d2cda56df42c8154d8441c00977b1', 'category': 'NarrativeText', 'element_id': '6dbf82d3e8281aa0a3178613b809470f'}, page_content='Поддавить систему топливного газа избыточным давлением азота 0,1 кгс/см2, контролируя его по манометрам поз. PI-8, PI-11, PI-14, установленным после регулирующих клапанов поз. PV-303, P304, PV-305 соответственно, по манометру поз. PI-85 установленного на емкости V-210. Перекрыть задвижку на стояке азота № 17NI и перекрыть дренажный вентиль на клапанной сборке поз. PV-305.'),\n",
       " Document(metadata={'source': 'data/data_processing/РАЗДЕЛ 6/РАЗДЕЛ 6.docx', 'category_depth': 0, 'emphasized_text_contents': ['6.1.2.8 Комплексная опрессовка системы на герметичность'], 'emphasized_text_tags': ['b'], 'file_directory': 'data/data_processing/РАЗДЕЛ 6', 'filename': 'РАЗДЕЛ 6.docx', 'last_modified': '2025-07-08T17:17:29', 'languages': ['rus'], 'filetype': 'application/vnd.openxmlformats-officedocument.wordprocessingml.document', 'parent_id': '2e5d2cda56df42c8154d8441c00977b1', 'category': 'UncategorizedText', 'element_id': 'b8bd0f78bfcda5ecd3c5b2a409f34a25'}, page_content='6.1.2.8 Комплексная опрессовка системы на герметичность'),\n",
       " Document(metadata={'source': 'data/data_processing/РАЗДЕЛ 6/РАЗДЕЛ 6.docx', 'category_depth': 0, 'file_directory': 'data/data_processing/РАЗДЕЛ 6', 'filename': 'РАЗДЕЛ 6.docx', 'last_modified': '2025-07-08T17:17:29', 'languages': ['rus'], 'filetype': 'application/vnd.openxmlformats-officedocument.wordprocessingml.document', 'parent_id': '2e5d2cda56df42c8154d8441c00977b1', 'category': 'NarrativeText', 'element_id': '6f79c93adcb6e1ee437e3886cb614f44'}, page_content='Комплексная опрессовка проводится с целью контрольной проверки плотности системы после проведения работ по монтажу, ревизии трубопроводов, оборудования и подготовки установки к пуску в целом. Опрессовка установки производится азотом.'),\n",
       " Document(metadata={'source': 'data/data_processing/РАЗДЕЛ 6/РАЗДЕЛ 6.docx', 'category_depth': 0, 'file_directory': 'data/data_processing/РАЗДЕЛ 6', 'filename': 'РАЗДЕЛ 6.docx', 'last_modified': '2025-07-08T17:17:29', 'languages': ['rus'], 'filetype': 'application/vnd.openxmlformats-officedocument.wordprocessingml.document', 'parent_id': '2e5d2cda56df42c8154d8441c00977b1', 'category': 'NarrativeText', 'element_id': '0bec0dfeb1862ce6de1969017b581b0e'}, page_content='а) Блок подготовки сырья.'),\n",
       " Document(metadata={'source': 'data/data_processing/РАЗДЕЛ 6/РАЗДЕЛ 6.docx', 'category_depth': 0, 'file_directory': 'data/data_processing/РАЗДЕЛ 6', 'filename': 'РАЗДЕЛ 6.docx', 'last_modified': '2025-07-08T17:17:29', 'languages': ['rus'], 'filetype': 'application/vnd.openxmlformats-officedocument.wordprocessingml.document', 'parent_id': '2e5d2cda56df42c8154d8441c00977b1', 'category': 'UncategorizedText', 'element_id': '42a9aef72e34a4c1297126e8444e07ca'}, page_content='Схема опрессовки.'),\n",
       " Document(metadata={'source': 'data/data_processing/РАЗДЕЛ 6/РАЗДЕЛ 6.docx', 'category_depth': 0, 'file_directory': 'data/data_processing/РАЗДЕЛ 6', 'filename': 'РАЗДЕЛ 6.docx', 'last_modified': '2025-07-08T17:17:29', 'languages': ['rus'], 'filetype': 'application/vnd.openxmlformats-officedocument.wordprocessingml.document', 'parent_id': '2e5d2cda56df42c8154d8441c00977b1', 'category': 'UncategorizedText', 'element_id': '0406d5c99eba500fc01a2d6879ecadd2'}, page_content='\\tГраница установки'),\n",
       " Document(metadata={'source': 'data/data_processing/РАЗДЕЛ 6/РАЗДЕЛ 6.docx', 'category_depth': 0, 'file_directory': 'data/data_processing/РАЗДЕЛ 6', 'filename': 'РАЗДЕЛ 6.docx', 'last_modified': '2025-07-08T17:17:29', 'languages': ['rus'], 'filetype': 'application/vnd.openxmlformats-officedocument.wordprocessingml.document', 'parent_id': '2e5d2cda56df42c8154d8441c00977b1', 'category': 'NarrativeText', 'element_id': '5cfb9ea5c1ed7a8f4e5974effb203f64'}, page_content='Блок подготовки сырья опрессовывается на давление 3 кг/см2.'),\n",
       " Document(metadata={'source': 'data/data_processing/РАЗДЕЛ 6/РАЗДЕЛ 6.docx', 'category_depth': 0, 'file_directory': 'data/data_processing/РАЗДЕЛ 6', 'filename': 'РАЗДЕЛ 6.docx', 'last_modified': '2025-07-08T17:17:29', 'languages': ['rus'], 'filetype': 'application/vnd.openxmlformats-officedocument.wordprocessingml.document', 'parent_id': '2e5d2cda56df42c8154d8441c00977b1', 'category': 'UncategorizedText', 'element_id': '776b4d7cc08f314b44293d7b600d2516'}, page_content='б) Реакторный блок.'),\n",
       " Document(metadata={'source': 'data/data_processing/РАЗДЕЛ 6/РАЗДЕЛ 6.docx', 'category_depth': 0, 'file_directory': 'data/data_processing/РАЗДЕЛ 6', 'filename': 'РАЗДЕЛ 6.docx', 'last_modified': '2025-07-08T17:17:29', 'languages': ['rus'], 'filetype': 'application/vnd.openxmlformats-officedocument.wordprocessingml.document', 'parent_id': '2e5d2cda56df42c8154d8441c00977b1', 'category': 'UncategorizedText', 'element_id': 'c1355de2bd561f98f85caaed20deaebc'}, page_content='Схема опрессовки.'),\n",
       " Document(metadata={'source': 'data/data_processing/РАЗДЕЛ 6/РАЗДЕЛ 6.docx', 'category_depth': 0, 'file_directory': 'data/data_processing/РАЗДЕЛ 6', 'filename': 'РАЗДЕЛ 6.docx', 'last_modified': '2025-07-08T17:17:29', 'languages': ['rus'], 'filetype': 'application/vnd.openxmlformats-officedocument.wordprocessingml.document', 'parent_id': '2e5d2cda56df42c8154d8441c00977b1', 'category': 'UncategorizedText', 'element_id': 'f4829aa7d38ef6b2afad79a996e4e6d6'}, page_content='Клапан поз. FV-408'),\n",
       " Document(metadata={'source': 'data/data_processing/РАЗДЕЛ 6/РАЗДЕЛ 6.docx', 'category_depth': 0, 'file_directory': 'data/data_processing/РАЗДЕЛ 6', 'filename': 'РАЗДЕЛ 6.docx', 'last_modified': '2025-07-08T17:17:29', 'languages': ['rus'], 'filetype': 'application/vnd.openxmlformats-officedocument.wordprocessingml.document', 'parent_id': '2e5d2cda56df42c8154d8441c00977b1', 'category': 'UncategorizedText', 'element_id': '9d439156e5c85e3816b5b06149f1af14'}, page_content='Реакторный блок опрессовывается на давление 18-20 кг/см2.'),\n",
       " Document(metadata={'source': 'data/data_processing/РАЗДЕЛ 6/РАЗДЕЛ 6.docx', 'category_depth': 0, 'file_directory': 'data/data_processing/РАЗДЕЛ 6', 'filename': 'РАЗДЕЛ 6.docx', 'header_footer_type': 'primary', 'languages': ['rus'], 'filetype': 'application/vnd.openxmlformats-officedocument.wordprocessingml.document', 'category': 'Header', 'element_id': '4a54b629a6363eb474ebb8cfeeabb347'}, page_content='ТР-6100-20368-08-2010'),\n",
       " Document(metadata={'source': 'data/data_processing/РАЗДЕЛ 6/РАЗДЕЛ 6.docx', 'category_depth': 0, 'file_directory': 'data/data_processing/РАЗДЕЛ 6', 'filename': 'РАЗДЕЛ 6.docx', 'last_modified': '2025-07-08T17:17:29', 'languages': ['rus'], 'filetype': 'application/vnd.openxmlformats-officedocument.wordprocessingml.document', 'parent_id': '4a54b629a6363eb474ebb8cfeeabb347', 'category': 'UncategorizedText', 'element_id': '3f15427f7daeaacd26bcf201a2e2a703'}, page_content='в) Блок стабилизации.'),\n",
       " Document(metadata={'source': 'data/data_processing/РАЗДЕЛ 6/РАЗДЕЛ 6.docx', 'category_depth': 0, 'file_directory': 'data/data_processing/РАЗДЕЛ 6', 'filename': 'РАЗДЕЛ 6.docx', 'last_modified': '2025-07-08T17:17:29', 'languages': ['rus'], 'filetype': 'application/vnd.openxmlformats-officedocument.wordprocessingml.document', 'parent_id': '4a54b629a6363eb474ebb8cfeeabb347', 'category': 'UncategorizedText', 'element_id': '6d1ac9af0da84f70ef6b9c9b2320a61f'}, page_content='Схема опрессовки.'),\n",
       " Document(metadata={'source': 'data/data_processing/РАЗДЕЛ 6/РАЗДЕЛ 6.docx', 'category_depth': 0, 'file_directory': 'data/data_processing/РАЗДЕЛ 6', 'filename': 'РАЗДЕЛ 6.docx', 'last_modified': '2025-07-08T17:17:29', 'languages': ['rus'], 'filetype': 'application/vnd.openxmlformats-officedocument.wordprocessingml.document', 'parent_id': '4a54b629a6363eb474ebb8cfeeabb347', 'category': 'NarrativeText', 'element_id': '4ee0c8c1e5f32c06008027ff95e0813f'}, page_content='Блок стабилизации опрессовывается на давление 11 кг/см2.'),\n",
       " Document(metadata={'source': 'data/data_processing/РАЗДЕЛ 6/РАЗДЕЛ 6.docx', 'category_depth': 0, 'file_directory': 'data/data_processing/РАЗДЕЛ 6', 'filename': 'РАЗДЕЛ 6.docx', 'last_modified': '2025-07-08T17:17:29', 'languages': ['rus'], 'filetype': 'application/vnd.openxmlformats-officedocument.wordprocessingml.document', 'parent_id': '4a54b629a6363eb474ebb8cfeeabb347', 'category': 'NarrativeText', 'element_id': '25f291848fa6ee91d11110f6dc990605'}, page_content='Испытательные давления, схемы и периодичность обмыливания конкретизируются в каждом отдельном случае письменным распоряжением по установке. Во время испытания производится тщательный осмотр и выявление дефектов. Все дефекты, выявленные при опрессовке, должны быть устранены.'),\n",
       " Document(metadata={'source': 'data/data_processing/РАЗДЕЛ 6/РАЗДЕЛ 6.docx', 'category_depth': 0, 'file_directory': 'data/data_processing/РАЗДЕЛ 6', 'filename': 'РАЗДЕЛ 6.docx', 'last_modified': '2025-07-08T17:17:29', 'languages': ['rus'], 'filetype': 'application/vnd.openxmlformats-officedocument.wordprocessingml.document', 'parent_id': '4a54b629a6363eb474ebb8cfeeabb347', 'category': 'NarrativeText', 'element_id': 'ea3c101050ef24daad56d116e358a4c1'}, page_content='Если температура окружающего воздуха ниже –17°С, на реакторном блоке и блоке стабилизации должно использоваться максимальное давление 7 кг/см2, пока не установится постоянная температура –17°С и выше.'),\n",
       " Document(metadata={'source': 'data/data_processing/РАЗДЕЛ 6/РАЗДЕЛ 6.docx', 'category_depth': 0, 'emphasized_text_contents': ['6.1.2.9 Продувка системы'], 'emphasized_text_tags': ['b'], 'file_directory': 'data/data_processing/РАЗДЕЛ 6', 'filename': 'РАЗДЕЛ 6.docx', 'last_modified': '2025-07-08T17:17:29', 'languages': ['rus'], 'filetype': 'application/vnd.openxmlformats-officedocument.wordprocessingml.document', 'parent_id': '4a54b629a6363eb474ebb8cfeeabb347', 'category': 'UncategorizedText', 'element_id': '7a08466ecfaf6e0dfc71889bf84ff118'}, page_content='6.1.2.9 Продувка системы'),\n",
       " Document(metadata={'source': 'data/data_processing/РАЗДЕЛ 6/РАЗДЕЛ 6.docx', 'category_depth': 0, 'file_directory': 'data/data_processing/РАЗДЕЛ 6', 'filename': 'РАЗДЕЛ 6.docx', 'last_modified': '2025-07-08T17:17:29', 'languages': ['rus'], 'filetype': 'application/vnd.openxmlformats-officedocument.wordprocessingml.document', 'parent_id': '4a54b629a6363eb474ebb8cfeeabb347', 'category': 'NarrativeText', 'element_id': '456303d3f1ed009f09dfe75a0400d368'}, page_content='Непосредственно перед пуском (и после остановки) должна быть произведена продувка системы инертным газом (или водяным паром - кроме газовых трактов), с обязательным контролем ее эффективности путем проведения анализов. '),\n",
       " Document(metadata={'source': 'data/data_processing/РАЗДЕЛ 6/РАЗДЕЛ 6.docx', 'category_depth': 0, 'file_directory': 'data/data_processing/РАЗДЕЛ 6', 'filename': 'РАЗДЕЛ 6.docx', 'last_modified': '2025-07-08T17:17:29', 'languages': ['rus'], 'filetype': 'application/vnd.openxmlformats-officedocument.wordprocessingml.document', 'parent_id': '4a54b629a6363eb474ebb8cfeeabb347', 'category': 'NarrativeText', 'element_id': 'd23ed2adb0cf8696f8a22316df16329e'}, page_content='Перед пуском продувка оборудования производится с целью снижения содержания кислорода до безопасного уровня во избежание образования взрывоопасной смеси горючих продуктов с кислородом воздуха, т.е. во всех случаях, когда системы вскрывались, продувались воздухом и т.п. система продувается после повторного испытания на герметичность (данные по содержанию кислорода представлены в таблице 7.5). '),\n",
       " Document(metadata={'source': 'data/data_processing/РАЗДЕЛ 6/РАЗДЕЛ 6.docx', 'category_depth': 0, 'file_directory': 'data/data_processing/РАЗДЕЛ 6', 'filename': 'РАЗДЕЛ 6.docx', 'last_modified': '2025-07-08T17:17:29', 'languages': ['rus'], 'filetype': 'application/vnd.openxmlformats-officedocument.wordprocessingml.document', 'parent_id': '4a54b629a6363eb474ebb8cfeeabb347', 'category': 'UncategorizedText', 'element_id': '3ee0800b9af2f552ca5524a5ca1642cb'}, page_content='Перед остановкой на ремонт со вскрытием оборудования система продувается для удаления горючих и токсичных веществ с целью снижения содержания горючих до безопасного уровня во избежание образования взрывоопасной смеси горючих продуктов с кислородом воздуха и удаления токсичных веществ во избежание отравления персонала и вредных воздействий на окружающую среду данные по содержанию вредных и горючих веществ представлен в таблице 7.5). '),\n",
       " Document(metadata={'source': 'data/data_processing/РАЗДЕЛ 6/РАЗДЕЛ 6.docx', 'category_depth': 0, 'file_directory': 'data/data_processing/РАЗДЕЛ 6', 'filename': 'РАЗДЕЛ 6.docx', 'last_modified': '2025-07-08T17:17:29', 'languages': ['rus'], 'filetype': 'application/vnd.openxmlformats-officedocument.wordprocessingml.document', 'parent_id': '4a54b629a6363eb474ebb8cfeeabb347', 'category': 'UncategorizedText', 'element_id': '43804797ba47b53331638600e483d3ec'}, page_content='Рекомендуется при продувке делать пометки на схеме продувки, с тем, чтобы убедится, что продута вся система.'),\n",
       " Document(metadata={'source': 'data/data_processing/РАЗДЕЛ 6/РАЗДЕЛ 6.docx', 'category_depth': 0, 'file_directory': 'data/data_processing/РАЗДЕЛ 6', 'filename': 'РАЗДЕЛ 6.docx', 'last_modified': '2025-07-08T17:17:29', 'languages': ['rus'], 'filetype': 'application/vnd.openxmlformats-officedocument.wordprocessingml.document', 'parent_id': '4a54b629a6363eb474ebb8cfeeabb347', 'category': 'UncategorizedText', 'element_id': '96a654f4ba97dc9c0e361611bac567d4'}, page_content='Продувка системы перед пуском или перед остановкой может производится:'),\n",
       " Document(metadata={'source': 'data/data_processing/РАЗДЕЛ 6/РАЗДЕЛ 6.docx', 'category_depth': 0, 'file_directory': 'data/data_processing/РАЗДЕЛ 6', 'filename': 'РАЗДЕЛ 6.docx', 'last_modified': '2025-07-08T17:17:29', 'languages': ['rus'], 'filetype': 'application/vnd.openxmlformats-officedocument.wordprocessingml.document', 'parent_id': '4a54b629a6363eb474ebb8cfeeabb347', 'category': 'ListItem', 'element_id': '9a05159142750596d379970d77e84cc1'}, page_content='многократным заполнением системы инертным газом с созданием избыточного давления (до рабочей величины) и последующим сбросом;'),\n",
       " Document(metadata={'source': 'data/data_processing/РАЗДЕЛ 6/РАЗДЕЛ 6.docx', 'category_depth': 0, 'file_directory': 'data/data_processing/РАЗДЕЛ 6', 'filename': 'РАЗДЕЛ 6.docx', 'last_modified': '2025-07-08T17:17:29', 'languages': ['rus'], 'filetype': 'application/vnd.openxmlformats-officedocument.wordprocessingml.document', 'parent_id': '4a54b629a6363eb474ebb8cfeeabb347', 'category': 'ListItem', 'element_id': 'e9a6a3ed3d4ffecf05ca10632a0e70d3'}, page_content='продувкой системы «на проток».'),\n",
       " Document(metadata={'source': 'data/data_processing/РАЗДЕЛ 6/РАЗДЕЛ 6.docx', 'category_depth': 0, 'file_directory': 'data/data_processing/РАЗДЕЛ 6', 'filename': 'РАЗДЕЛ 6.docx', 'last_modified': '2025-07-08T17:17:29', 'languages': ['rus'], 'filetype': 'application/vnd.openxmlformats-officedocument.wordprocessingml.document', 'parent_id': '4a54b629a6363eb474ebb8cfeeabb347', 'category': 'UncategorizedText', 'element_id': '2cb1b6fd93c8284b404a735a2393c2b7'}, page_content='Может также применяться и сочетание этих двух способов. '),\n",
       " Document(metadata={'source': 'data/data_processing/РАЗДЕЛ 6/РАЗДЕЛ 6.docx', 'category_depth': 0, 'file_directory': 'data/data_processing/РАЗДЕЛ 6', 'filename': 'РАЗДЕЛ 6.docx', 'last_modified': '2025-07-08T17:17:29', 'languages': ['rus'], 'filetype': 'application/vnd.openxmlformats-officedocument.wordprocessingml.document', 'parent_id': '4a54b629a6363eb474ebb8cfeeabb347', 'category': 'UncategorizedText', 'element_id': '80503a205b128c910ba4a21f46f5957e'}, page_content='При этом необходимо учитывать особенности продувки при остановке и перед пуском:'),\n",
       " Document(metadata={'source': 'data/data_processing/РАЗДЕЛ 6/РАЗДЕЛ 6.docx', 'category_depth': 0, 'file_directory': 'data/data_processing/РАЗДЕЛ 6', 'filename': 'РАЗДЕЛ 6.docx', 'last_modified': '2025-07-08T17:17:29', 'languages': ['rus'], 'filetype': 'application/vnd.openxmlformats-officedocument.wordprocessingml.document', 'parent_id': '4a54b629a6363eb474ebb8cfeeabb347', 'category': 'ListItem', 'element_id': '1223aadf5b7e922b8e5ece3aceeec224'}, page_content='перед первоначальным пуском или после ремонта продувка осуществляется любым из указанных способов - в атмосферу через открытые воздушники, дренажные вентили до тех пор, пока не будет достигнут безопасный уровень кислорода (см. таблицу 7.5 раздела 7). При достижении безопасного уровня кислорода система остается под минимальным избыточным давлением инертного газа (давление не должно превышать этот уровень ни в одном элементе оборудования), устанавливаются на место все пробки, снятые с продувочных отверстий, закрываются все впускные и дренажные клапаны, сообщающиеся с атмосферой. Нельзя продувать трубопроводы, аппараты для удаления кислорода с выходом потока в факельную систему;'),\n",
       " Document(metadata={'source': 'data/data_processing/РАЗДЕЛ 6/РАЗДЕЛ 6.docx', 'category_depth': 0, 'file_directory': 'data/data_processing/РАЗДЕЛ 6', 'filename': 'РАЗДЕЛ 6.docx', 'last_modified': '2025-07-08T17:17:29', 'languages': ['rus'], 'filetype': 'application/vnd.openxmlformats-officedocument.wordprocessingml.document', 'parent_id': '4a54b629a6363eb474ebb8cfeeabb347', 'category': 'ListItem', 'element_id': 'b1cbc25d1f48811c122a9d26ea5aa60b'}, page_content='при остановке на ремонт продувка осуществляется любым из указанных способов на факел до остаточного содержания горючих и отсутствия токсичных веществ (менее ПДК - см. таблицу 7.5 раздела 7). Окончательное освобождение системы может производится в атмосферу только при допустимой концентрации горючих и отсутствии токсичных веществ.'),\n",
       " Document(metadata={'source': 'data/data_processing/РАЗДЕЛ 6/РАЗДЕЛ 6.docx', 'category_depth': 0, 'file_directory': 'data/data_processing/РАЗДЕЛ 6', 'filename': 'РАЗДЕЛ 6.docx', 'last_modified': '2025-07-08T17:17:29', 'languages': ['rus'], 'filetype': 'application/vnd.openxmlformats-officedocument.wordprocessingml.document', 'parent_id': '4a54b629a6363eb474ebb8cfeeabb347', 'category': 'NarrativeText', 'element_id': '4647249ac19be1a2f3e89937f236ace8'}, page_content='По завершении операции продувки следует создать минимальное избыточное давление (давление не должно превышать этот уровень ни в одном элементе оборудования), а затем сбросить его. Эту операцию необходимо повторить несколько раз, чтобы обеспечить продувку всех мертвых зон в системе. '),\n",
       " Document(metadata={'source': 'data/data_processing/РАЗДЕЛ 6/РАЗДЕЛ 6.docx', 'category_depth': 0, 'emphasized_text_contents': ['6.2 Последовательность операций при пуске'], 'emphasized_text_tags': ['b'], 'file_directory': 'data/data_processing/РАЗДЕЛ 6', 'filename': 'РАЗДЕЛ 6.docx', 'last_modified': '2025-07-08T17:17:29', 'languages': ['rus'], 'filetype': 'application/vnd.openxmlformats-officedocument.wordprocessingml.document', 'parent_id': '4a54b629a6363eb474ebb8cfeeabb347', 'category': 'UncategorizedText', 'element_id': '10429d3ef896437e6e4666061f05d858'}, page_content='6.2 Последовательность операций при пуске'),\n",
       " Document(metadata={'source': 'data/data_processing/РАЗДЕЛ 6/РАЗДЕЛ 6.docx', 'category_depth': 0, 'file_directory': 'data/data_processing/РАЗДЕЛ 6', 'filename': 'РАЗДЕЛ 6.docx', 'last_modified': '2025-07-08T17:17:29', 'languages': ['rus'], 'filetype': 'application/vnd.openxmlformats-officedocument.wordprocessingml.document', 'parent_id': '4a54b629a6363eb474ebb8cfeeabb347', 'category': 'UncategorizedText', 'element_id': '82e027a66d214fdcd1bb66af5aeb2431'}, page_content='Данные операции предполагают, что все работы по проверке и подготовке к пуску завершены и установка готова к приему сырья.'),\n",
       " Document(metadata={'source': 'data/data_processing/РАЗДЕЛ 6/РАЗДЕЛ 6.docx', 'category_depth': 0, 'file_directory': 'data/data_processing/РАЗДЕЛ 6', 'filename': 'РАЗДЕЛ 6.docx', 'last_modified': '2025-07-08T17:17:29', 'languages': ['rus'], 'filetype': 'application/vnd.openxmlformats-officedocument.wordprocessingml.document', 'parent_id': '4a54b629a6363eb474ebb8cfeeabb347', 'category': 'NarrativeText', 'element_id': '657630b21198cba1ea79856700d899cc'}, page_content='Если температура окружающей среды ниже – 17 С, то проводится технические мероприятия для подогрева установки.'),\n",
       " Document(metadata={'source': 'data/data_processing/РАЗДЕЛ 6/РАЗДЕЛ 6.docx', 'category_depth': 2, 'emphasized_text_contents': ['Секция 100 – блок подготовки сырья'], 'emphasized_text_tags': ['b'], 'file_directory': 'data/data_processing/РАЗДЕЛ 6', 'filename': 'РАЗДЕЛ 6.docx', 'last_modified': '2025-07-08T17:17:29', 'languages': ['rus'], 'filetype': 'application/vnd.openxmlformats-officedocument.wordprocessingml.document', 'parent_id': '4a54b629a6363eb474ebb8cfeeabb347', 'category': 'ListItem', 'element_id': '532b9839606c2aa602a248b09cfe058f'}, page_content='Секция 100 – блок подготовки сырья'),\n",
       " Document(metadata={'source': 'data/data_processing/РАЗДЕЛ 6/РАЗДЕЛ 6.docx', 'category_depth': 0, 'file_directory': 'data/data_processing/РАЗДЕЛ 6', 'filename': 'РАЗДЕЛ 6.docx', 'last_modified': '2025-07-08T17:17:29', 'languages': ['rus'], 'filetype': 'application/vnd.openxmlformats-officedocument.wordprocessingml.document', 'parent_id': '4a54b629a6363eb474ebb8cfeeabb347', 'category': 'NarrativeText', 'element_id': 'ae4b1dd1f37c3de1aada2a9983502d7d'}, page_content='После проведения предварительных мероприятий блок подготовки опрессовывается на герметичность и продувается азотом для удаления из системы кислорода. Содержание кислорода в азоте после продувки не должно превышать 0,5% об.'),\n",
       " Document(metadata={'source': 'data/data_processing/РАЗДЕЛ 6/РАЗДЕЛ 6.docx', 'category_depth': 0, 'file_directory': 'data/data_processing/РАЗДЕЛ 6', 'filename': 'РАЗДЕЛ 6.docx', 'last_modified': '2025-07-08T17:17:29', 'languages': ['rus'], 'filetype': 'application/vnd.openxmlformats-officedocument.wordprocessingml.document', 'parent_id': '4a54b629a6363eb474ebb8cfeeabb347', 'category': 'UncategorizedText', 'element_id': 'f7b0abce93aa72c02c83aae57f0dfabd'}, page_content='Включаем в работу приборы по блоку подготовки сырья и проверяем, чтобы были открыты задвижки на всех клапанах КИП.'),\n",
       " Document(metadata={'source': 'data/data_processing/РАЗДЕЛ 6/РАЗДЕЛ 6.docx', 'category_depth': 0, 'file_directory': 'data/data_processing/РАЗДЕЛ 6', 'filename': 'РАЗДЕЛ 6.docx', 'last_modified': '2025-07-08T17:17:29', 'languages': ['rus'], 'filetype': 'application/vnd.openxmlformats-officedocument.wordprocessingml.document', 'parent_id': '4a54b629a6363eb474ebb8cfeeabb347', 'category': 'UncategorizedText', 'element_id': '1001b588254751c9489ac091b81c1221'}, page_content='Собрать схему циркуляции блока подготовки сырья:'),\n",
       " Document(metadata={'source': 'data/data_processing/РАЗДЕЛ 6/РАЗДЕЛ 6.docx', 'category_depth': 0, 'file_directory': 'data/data_processing/РАЗДЕЛ 6', 'filename': 'РАЗДЕЛ 6.docx', 'last_modified': '2025-07-08T17:17:29', 'languages': ['rus'], 'filetype': 'application/vnd.openxmlformats-officedocument.wordprocessingml.document', 'parent_id': '4a54b629a6363eb474ebb8cfeeabb347', 'category': 'UncategorizedText', 'element_id': '21f06f51b6b5256a91ada0d02b55e7c2'}, page_content='рефлюкс с установки'),\n",
       " Document(metadata={'source': 'data/data_processing/РАЗДЕЛ 6/РАЗДЕЛ 6.docx', 'category_depth': 0, 'file_directory': 'data/data_processing/РАЗДЕЛ 6', 'filename': 'РАЗДЕЛ 6.docx', 'last_modified': '2025-07-08T17:17:29', 'languages': ['rus'], 'filetype': 'application/vnd.openxmlformats-officedocument.wordprocessingml.document', 'parent_id': '4a54b629a6363eb474ebb8cfeeabb347', 'category': 'UncategorizedText', 'element_id': 'b4c892f2f1f2c10ff3124185e7c4972b'}, page_content='\\t\\t\\t\\t\\t\\t\\t\\t\\t\\t\\t             в линию '),\n",
       " Document(metadata={'source': 'data/data_processing/РАЗДЕЛ 6/РАЗДЕЛ 6.docx', 'category_depth': 0, 'file_directory': 'data/data_processing/РАЗДЕЛ 6', 'filename': 'РАЗДЕЛ 6.docx', 'last_modified': '2025-07-08T17:17:29', 'languages': ['rus'], 'filetype': 'application/vnd.openxmlformats-officedocument.wordprocessingml.document', 'parent_id': '4a54b629a6363eb474ebb8cfeeabb347', 'category': 'UncategorizedText', 'element_id': 'e01349e3b7859f901545e213706e2a4c'}, page_content='некондиции'),\n",
       " Document(metadata={'source': 'data/data_processing/РАЗДЕЛ 6/РАЗДЕЛ 6.docx', 'category_depth': 0, 'file_directory': 'data/data_processing/РАЗДЕЛ 6', 'filename': 'РАЗДЕЛ 6.docx', 'last_modified': '2025-07-08T17:17:29', 'languages': ['rus'], 'filetype': 'application/vnd.openxmlformats-officedocument.wordprocessingml.document', 'parent_id': '4a54b629a6363eb474ebb8cfeeabb347', 'category': 'UncategorizedText', 'element_id': 'bbd021e20e9deb9be7f7e0c36d07b9cd'}, page_content='Е-203А,В,С,Д м.тр'),\n",
       " Document(metadata={'source': 'data/data_processing/РАЗДЕЛ 6/РАЗДЕЛ 6.docx', 'category_depth': 0, 'file_directory': 'data/data_processing/РАЗДЕЛ 6', 'filename': 'РАЗДЕЛ 6.docx', 'last_modified': '2025-07-08T17:17:29', 'languages': ['rus'], 'filetype': 'application/vnd.openxmlformats-officedocument.wordprocessingml.document', 'parent_id': '4a54b629a6363eb474ebb8cfeeabb347', 'category': 'UncategorizedText', 'element_id': '1496e537ef4b5c675879ff93ae85f6c3'}, page_content='Поддавить колонну Т-101 топливным газом по схеме:'),\n",
       " Document(metadata={'source': 'data/data_processing/РАЗДЕЛ 6/РАЗДЕЛ 6.docx', 'category_depth': 0, 'file_directory': 'data/data_processing/РАЗДЕЛ 6', 'filename': 'РАЗДЕЛ 6.docx', 'last_modified': '2025-07-08T17:17:29', 'languages': ['rus'], 'filetype': 'application/vnd.openxmlformats-officedocument.wordprocessingml.document', 'parent_id': '4a54b629a6363eb474ebb8cfeeabb347', 'category': 'UncategorizedText', 'element_id': '6e82dd76763fb3ec17c1260ea68e98f3'}, page_content='Давление в колонне Т-101 поддерживать 1,5 кгс/см2 для облегчения прогрева колонны.'),\n",
       " Document(metadata={'source': 'data/data_processing/РАЗДЕЛ 6/РАЗДЕЛ 6.docx', 'category_depth': 0, 'file_directory': 'data/data_processing/РАЗДЕЛ 6', 'filename': 'РАЗДЕЛ 6.docx', 'last_modified': '2025-07-08T17:17:29', 'languages': ['rus'], 'filetype': 'application/vnd.openxmlformats-officedocument.wordprocessingml.document', 'parent_id': '4a54b629a6363eb474ebb8cfeeabb347', 'category': 'UncategorizedText', 'element_id': 'ffdbff71560b5e910ec235ed1841b0fa'}, page_content='Созвониться с парком моторных топлив и подать бензин в колонну Т-101 с расходом 8–10 м3/час.'),\n",
       " Document(metadata={'source': 'data/data_processing/РАЗДЕЛ 6/РАЗДЕЛ 6.docx', 'category_depth': 0, 'file_directory': 'data/data_processing/РАЗДЕЛ 6', 'filename': 'РАЗДЕЛ 6.docx', 'last_modified': '2025-07-08T17:17:29', 'languages': ['rus'], 'filetype': 'application/vnd.openxmlformats-officedocument.wordprocessingml.document', 'parent_id': '4a54b629a6363eb474ebb8cfeeabb347', 'category': 'NarrativeText', 'element_id': 'e8208dc09f07f59242707467071c487c'}, page_content='Созвониться с установкой БИИ и УПП и принять через регулирующий клапан поз. FV-418 на смешение с сырьем изопентановую фракцию в количестве 0,5 м3/час.'),\n",
       " Document(metadata={'source': 'data/data_processing/РАЗДЕЛ 6/РАЗДЕЛ 6.docx', 'category_depth': 0, 'file_directory': 'data/data_processing/РАЗДЕЛ 6', 'filename': 'РАЗДЕЛ 6.docx', 'last_modified': '2025-07-08T17:17:29', 'languages': ['rus'], 'filetype': 'application/vnd.openxmlformats-officedocument.wordprocessingml.document', 'parent_id': '4a54b629a6363eb474ebb8cfeeabb347', 'category': 'NarrativeText', 'element_id': '9afdc67aac69d622c4dbf41aeac96f6f'}, page_content='После набора уровня в колонне Т-101~ 60%, заполнить бензином корпусы насосов Р-201А, В, сбросив газ с корпуса в атмосферу через манометрическую сборку. Пустить в работу один из насосов Р-201А, В с выводом бензина в линию некондиции. Наладить устойчивую циркуляцию продукта. Причем поочередно включать насосы Р-201 А, В для проверки их работоспособности.'),\n",
       " Document(metadata={'source': 'data/data_processing/РАЗДЕЛ 6/РАЗДЕЛ 6.docx', 'category_depth': 0, 'file_directory': 'data/data_processing/РАЗДЕЛ 6', 'filename': 'РАЗДЕЛ 6.docx', 'last_modified': '2025-07-08T17:17:29', 'languages': ['rus'], 'filetype': 'application/vnd.openxmlformats-officedocument.wordprocessingml.document', 'parent_id': '4a54b629a6363eb474ebb8cfeeabb347', 'category': 'UncategorizedText', 'element_id': '675157718a9e85b4ff39bced957dac9a'}, page_content='После налаживания устойчивой циркуляции подать минимальное количество пара в рибойлер Е-102 ~ 600 кг/час.'),\n",
       " Document(metadata={'source': 'data/data_processing/РАЗДЕЛ 6/РАЗДЕЛ 6.docx', 'category_depth': 0, 'file_directory': 'data/data_processing/РАЗДЕЛ 6', 'filename': 'РАЗДЕЛ 6.docx', 'last_modified': '2025-07-08T17:17:29', 'languages': ['rus'], 'filetype': 'application/vnd.openxmlformats-officedocument.wordprocessingml.document', 'parent_id': '4a54b629a6363eb474ebb8cfeeabb347', 'category': 'UncategorizedText', 'element_id': 'c0a707c578fe4536bdb92c4811b1b28e'}, page_content='В холодное время года подать пар в корпус теплообменника Е-203А,В для подогрева сырья направляемого в теплообменник Е-101.'),\n",
       " Document(metadata={'source': 'data/data_processing/РАЗДЕЛ 6/РАЗДЕЛ 6.docx', 'category_depth': 0, 'file_directory': 'data/data_processing/РАЗДЕЛ 6', 'filename': 'РАЗДЕЛ 6.docx', 'last_modified': '2025-07-08T17:17:29', 'languages': ['rus'], 'filetype': 'application/vnd.openxmlformats-officedocument.wordprocessingml.document', 'parent_id': '4a54b629a6363eb474ebb8cfeeabb347', 'category': 'NarrativeText', 'element_id': 'ee29a20522f3a0de6c07fe743f5c90f4'}, page_content='После прогрева Е-102 и линий увеличивать количество подаваемого пара в Е-102 с таким расчетом, чтобы скорость подъема температуры низа колонны Т-101 составляла 10-15°С в час. По мере нагрева куба колонны Т-101 будет наблюдаться колебание уровня колонны. В этом случае расход сырья в колонну стараться держать постоянным, поставив прибор FIC-401 в положение \"автоматическое регулирование\". Уровень же в колонне Т-101 регулировать расходом от насоса Р-201 А, В, прибором поз.FIC-404. Равномерность подачи сырья в колонну позволит более равномерно регулировать расход пара в рибойлер Е-102.'),\n",
       " Document(metadata={'source': 'data/data_processing/РАЗДЕЛ 6/РАЗДЕЛ 6.docx', 'category_depth': 0, 'file_directory': 'data/data_processing/РАЗДЕЛ 6', 'filename': 'РАЗДЕЛ 6.docx', 'last_modified': '2025-07-08T17:17:29', 'languages': ['rus'], 'filetype': 'application/vnd.openxmlformats-officedocument.wordprocessingml.document', 'parent_id': '4a54b629a6363eb474ebb8cfeeabb347', 'category': 'NarrativeText', 'element_id': '5ed14b8397fada967c0bb8ad018c93e4'}, page_content='Температуру куба Т-101 нагревать до 156°С. Расход пара при этом будет ~ 1200–1500 кг/час.'),\n",
       " Document(metadata={'source': 'data/data_processing/РАЗДЕЛ 6/РАЗДЕЛ 6.docx', 'category_depth': 0, 'file_directory': 'data/data_processing/РАЗДЕЛ 6', 'filename': 'РАЗДЕЛ 6.docx', 'last_modified': '2025-07-08T17:17:29', 'languages': ['rus'], 'filetype': 'application/vnd.openxmlformats-officedocument.wordprocessingml.document', 'parent_id': '4a54b629a6363eb474ebb8cfeeabb347', 'category': 'NarrativeText', 'element_id': '4f4792e0819813aa5ec03c52e0263e7d'}, page_content='По мере нагрева колонны начнет повышаться и давление в колонне, поэтому необходимо будет включить приборы поз. PIC-301 и PIC-302 в положении «автоматическое регулирование» и проследить за их работой. При неудовлетворительной работе опять перевести на ручное управление. Пары из колонны будут проходить через воздушный холодильник АС-101 и охлаждаться. При повышении температуры после АС-101 ~50°С включить в работу один из вентиляторов холодильника АС-101. При появлении уровня в емкости V-101, сдренировать газовые пробки с насосов Р-101А, В и подготовить насосы к пуску.'),\n",
       " Document(metadata={'source': 'data/data_processing/РАЗДЕЛ 6/РАЗДЕЛ 6.docx', 'category_depth': 0, 'file_directory': 'data/data_processing/РАЗДЕЛ 6', 'filename': 'РАЗДЕЛ 6.docx', 'last_modified': '2025-07-08T17:17:29', 'languages': ['rus'], 'filetype': 'application/vnd.openxmlformats-officedocument.wordprocessingml.document', 'parent_id': '4a54b629a6363eb474ebb8cfeeabb347', 'category': 'NarrativeText', 'element_id': '415fcfafac9ddafe8e2e46f29283f04b'}, page_content='При достижении температуры 43 тарелки колонны ~ 100°С включить насос Р-101A,В и дать минимальный расход орошения в колонну Т-101. По мере разогрева колонны будет увеличиваться количество паров, поэтому необходимо будет увеличивать подачу орошения. При достижении устойчивого орошения в колонну Т-101, включить приборы TIC-202 и FIC-402 в положение «автоматическое регулирование» для поддержания температуры на 43 не более 105 °С.'),\n",
       " Document(metadata={'source': 'data/data_processing/РАЗДЕЛ 6/РАЗДЕЛ 6.docx', 'category_depth': 0, 'file_directory': 'data/data_processing/РАЗДЕЛ 6', 'filename': 'РАЗДЕЛ 6.docx', 'last_modified': '2025-07-08T17:17:29', 'languages': ['rus'], 'filetype': 'application/vnd.openxmlformats-officedocument.wordprocessingml.document', 'parent_id': '4a54b629a6363eb474ebb8cfeeabb347', 'category': 'UncategorizedText', 'element_id': 'c3b38085ff0a2c4bd60b8c33c94f757b'}, page_content='По мере появления паров, в колонне Т-101 будет расти давление, поэтому необходимо будет постепенно прикрывать подачу газа на поддавливание в емкость V-101 до полного его закрытия.'),\n",
       " Document(metadata={'source': 'data/data_processing/РАЗДЕЛ 6/РАЗДЕЛ 6.docx', 'category_depth': 0, 'file_directory': 'data/data_processing/РАЗДЕЛ 6', 'filename': 'РАЗДЕЛ 6.docx', 'last_modified': '2025-07-08T17:17:29', 'languages': ['rus'], 'filetype': 'application/vnd.openxmlformats-officedocument.wordprocessingml.document', 'parent_id': '4a54b629a6363eb474ebb8cfeeabb347', 'category': 'NarrativeText', 'element_id': 'ab38844e1e2682408409f1def2cab16f'}, page_content='При наборе уровня в емкости V-101 ~ 50% вывести избыток от насосов Р-101 А, В в линию некондиции, если установка будет находится на широкой циркуляции через колонну Т-201, то можно примерно 1,0 м3/час «рефлюкса» вывести от Р-101 А, В в теплообменник Е-203 А,В,С,Д.'),\n",
       " Document(metadata={'source': 'data/data_processing/РАЗДЕЛ 6/РАЗДЕЛ 6.docx', 'category_depth': 0, 'file_directory': 'data/data_processing/РАЗДЕЛ 6', 'filename': 'РАЗДЕЛ 6.docx', 'last_modified': '2025-07-08T17:17:29', 'languages': ['rus'], 'filetype': 'application/vnd.openxmlformats-officedocument.wordprocessingml.document', 'parent_id': '4a54b629a6363eb474ebb8cfeeabb347', 'category': 'NarrativeText', 'element_id': '3c24552c6ed72d35189cb4624a0807e8'}, page_content='После разогрева колонны, а также стабилизации уровня в колонне Т-101, включить в положение «автоматическое регулирование» приборы поз. FIС-401 и LIC-105. Постепенно отрегулировать давление в колонне Т-101 не более 2,7 кгс/см2 , в емкости V-101 не более 2,5 кгс/см2 в зависимости от качества поступаемого сырья.'),\n",
       " Document(metadata={'source': 'data/data_processing/РАЗДЕЛ 6/РАЗДЕЛ 6.docx', 'category_depth': 0, 'file_directory': 'data/data_processing/РАЗДЕЛ 6', 'filename': 'РАЗДЕЛ 6.docx', 'last_modified': '2025-07-08T17:17:29', 'languages': ['rus'], 'filetype': 'application/vnd.openxmlformats-officedocument.wordprocessingml.document', 'parent_id': '4a54b629a6363eb474ebb8cfeeabb347', 'category': 'NarrativeText', 'element_id': '87b540b1be53ca60a0e93d66adfe95f7'}, page_content='При достижении проектных показателей по режиму работы колонны Т-101, в течение 2-3 часов стабилизировать режим работы колонны и отобрать пробы с куба Т-101 на анализ. После получения анализов внести коррективы в режим работы колонны для получения проектного сырья на блок риформинга.'),\n",
       " Document(metadata={'source': 'data/data_processing/РАЗДЕЛ 6/РАЗДЕЛ 6.docx', 'category_depth': 0, 'emphasized_text_contents': ['6.2.2 Секция 200–каталитический риформинг'], 'emphasized_text_tags': ['b'], 'file_directory': 'data/data_processing/РАЗДЕЛ 6', 'filename': 'РАЗДЕЛ 6.docx', 'last_modified': '2025-07-08T17:17:29', 'languages': ['rus'], 'filetype': 'application/vnd.openxmlformats-officedocument.wordprocessingml.document', 'parent_id': '4a54b629a6363eb474ebb8cfeeabb347', 'category': 'UncategorizedText', 'element_id': 'f1d2c1fc115b227abc51ffe9d57788bb'}, page_content='6.2.2 Секция 200–каталитический риформинг'),\n",
       " Document(metadata={'source': 'data/data_processing/РАЗДЕЛ 6/РАЗДЕЛ 6.docx', 'category_depth': 0, 'file_directory': 'data/data_processing/РАЗДЕЛ 6', 'filename': 'РАЗДЕЛ 6.docx', 'last_modified': '2025-07-08T17:17:29', 'languages': ['rus'], 'filetype': 'application/vnd.openxmlformats-officedocument.wordprocessingml.document', 'parent_id': '4a54b629a6363eb474ebb8cfeeabb347', 'category': 'NarrativeText', 'element_id': '55e5214d60ba2a00a31c86b1ead1e5f3'}, page_content='В данном разделе рассматриваются вопросы запуска блока риформинга применительно к двум ситуациям: запуск с использованием свежего (не бывшего в употреблении) катализатора  риформинга и нового адсорбента для удаления серы АГС-60, а также запуск блока риформинга после регенерации катализатора.'),\n",
       " Document(metadata={'source': 'data/data_processing/РАЗДЕЛ 6/РАЗДЕЛ 6.docx', 'category_depth': 0, 'emphasized_text_contents': ['Запуск с использованием свежего катализатора.'], 'emphasized_text_tags': ['i'], 'file_directory': 'data/data_processing/РАЗДЕЛ 6', 'filename': 'РАЗДЕЛ 6.docx', 'last_modified': '2025-07-08T17:17:29', 'languages': ['rus'], 'filetype': 'application/vnd.openxmlformats-officedocument.wordprocessingml.document', 'parent_id': '4a54b629a6363eb474ebb8cfeeabb347', 'category': 'UncategorizedText', 'element_id': '295f573b8cab2eeee3ab5d8b68190530'}, page_content='Запуск с использованием свежего катализатора.'),\n",
       " Document(metadata={'source': 'data/data_processing/РАЗДЕЛ 6/РАЗДЕЛ 6.docx', 'category_depth': 0, 'file_directory': 'data/data_processing/РАЗДЕЛ 6', 'filename': 'РАЗДЕЛ 6.docx', 'last_modified': '2025-07-08T17:17:29', 'languages': ['rus'], 'filetype': 'application/vnd.openxmlformats-officedocument.wordprocessingml.document', 'parent_id': '4a54b629a6363eb474ebb8cfeeabb347', 'category': 'NarrativeText', 'element_id': 'f0657d8ffb4e9cd54aade26800024fa9'}, page_content='В новом катализаторе уже содержится хлорид. Небольшое дополнительное количество хлорида добавляется для компенсации потерь при запуске, но это количество значительно меньше необходимого для регенерированного катализатора. Основное различие между запуском с использованием нового и регенерированного катализатора состоит в количестве добавляемого хлорида.'),\n",
       " Document(metadata={'source': 'data/data_processing/РАЗДЕЛ 6/РАЗДЕЛ 6.docx', 'category_depth': 0, 'emphasized_text_contents': ['Запуск с использованием катализатора после регенерации.'], 'emphasized_text_tags': ['i'], 'file_directory': 'data/data_processing/РАЗДЕЛ 6', 'filename': 'РАЗДЕЛ 6.docx', 'last_modified': '2025-07-08T17:17:29', 'languages': ['rus'], 'filetype': 'application/vnd.openxmlformats-officedocument.wordprocessingml.document', 'parent_id': '4a54b629a6363eb474ebb8cfeeabb347', 'category': 'UncategorizedText', 'element_id': '1bb433563716e8e886abcdc8ddffc493'}, page_content='Запуск с использованием катализатора после регенерации.'),\n",
       " Document(metadata={'source': 'data/data_processing/РАЗДЕЛ 6/РАЗДЕЛ 6.docx', 'category_depth': 0, 'file_directory': 'data/data_processing/РАЗДЕЛ 6', 'filename': 'РАЗДЕЛ 6.docx', 'last_modified': '2025-07-08T17:17:29', 'languages': ['rus'], 'filetype': 'application/vnd.openxmlformats-officedocument.wordprocessingml.document', 'parent_id': '4a54b629a6363eb474ebb8cfeeabb347', 'category': 'NarrativeText', 'element_id': '550ae4a13d581b9c2f5dd84517b0bcdf'}, page_content='В процессе регенерации в результате сгорания кокса из катализатора удаляются хлориды. Типичный уровень содержания хлоридов в катализаторе после регенерации составляет 0,2–0,3% маcc. Окислительное хлорирование восстанавливает кислотную активность катализатора. Конечная массовая концентрация хлоридов в катализаторе после процесса восстановления равна 1% от массы катализатора.'),\n",
       " Document(metadata={'source': 'data/data_processing/РАЗДЕЛ 6/РАЗДЕЛ 6.docx', 'category_depth': 0, 'file_directory': 'data/data_processing/РАЗДЕЛ 6', 'filename': 'РАЗДЕЛ 6.docx', 'last_modified': '2025-07-08T17:17:29', 'languages': ['rus'], 'filetype': 'application/vnd.openxmlformats-officedocument.wordprocessingml.document', 'parent_id': '4a54b629a6363eb474ebb8cfeeabb347', 'category': 'NarrativeText', 'element_id': '5ef87712374ac071348a3e1d3fd518cb'}, page_content='Металлическая платина в процессе горения кокса также становится агломерированной. После регенерации размеры кристаллов платины превышают 80 ангстрем. Обработка путем окислительного хлорирования восстанавливает и дисперсную структуру металлической платины. В результате размеры кристаллов платины обычно уменьшаются и становятся меньше 15 ангстрем. Плохое состояние дисперсной структуры платины может привести в следующем рабочем цикле к ухудшению показателей стабильности и выхода продукта.'),\n",
       " Document(metadata={'source': 'data/data_processing/РАЗДЕЛ 6/РАЗДЕЛ 6.docx', 'category_depth': 0, 'file_directory': 'data/data_processing/РАЗДЕЛ 6', 'filename': 'РАЗДЕЛ 6.docx', 'last_modified': '2025-07-08T17:17:29', 'languages': ['rus'], 'filetype': 'application/vnd.openxmlformats-officedocument.wordprocessingml.document', 'parent_id': '4a54b629a6363eb474ebb8cfeeabb347', 'category': 'NarrativeText', 'element_id': '1c583fe3e61ccfbbc9703bc1f7b90736'}, page_content='После проведения окислительной обработки благородные металлы катализатора оказываются в окисленном состоянии. Эти металлы перед переработкой бензина следует восстановить. Если углеводороды будут контактировать с окисленной платиной, то будет происходить чрезмерный крекинг. Для восстановления благородных металлов рекомендуется использовать водород технический. Быстрая горячая очистка водородом техническим позволяет восстановить платину. Применение для такой очистки водорода от установки риформинга с высоким содержанием углеводородов может привести к ухудшению показателей выхода продукта и стабильности, так как при этом на окисленную платину будут действовать углеводороды. При отсутствии водорода технического рекомендуется использовать водородсодержащий газ от риформингов с концентрацией водорода не менее 90 %об.'),\n",
       " Document(metadata={'source': 'data/data_processing/РАЗДЕЛ 6/РАЗДЕЛ 6.docx', 'category_depth': 0, 'emphasized_text_contents': ['6.2.2.1 Пуск технологических печей'], 'emphasized_text_tags': ['b'], 'file_directory': 'data/data_processing/РАЗДЕЛ 6', 'filename': 'РАЗДЕЛ 6.docx', 'last_modified': '2025-07-08T17:17:29', 'languages': ['rus'], 'filetype': 'application/vnd.openxmlformats-officedocument.wordprocessingml.document', 'parent_id': '4a54b629a6363eb474ebb8cfeeabb347', 'category': 'UncategorizedText', 'element_id': '94670d923092125de8f1dde5c9087512'}, page_content='6.2.2.1 Пуск технологических печей'),\n",
       " Document(metadata={'source': 'data/data_processing/РАЗДЕЛ 6/РАЗДЕЛ 6.docx', 'category_depth': 0, 'emphasized_text_contents': ['До приема топливного газа в систему должны быть выполнены работы, указанные в', 'разделе', '«Подготовка печи к пуску».', '«Подготовка печи к пуску».'], 'emphasized_text_tags': ['b', 'b', 'b', 'i'], 'file_directory': 'data/data_processing/РАЗДЕЛ 6', 'filename': 'РАЗДЕЛ 6.docx', 'last_modified': '2025-07-08T17:17:29', 'languages': ['rus'], 'filetype': 'application/vnd.openxmlformats-officedocument.wordprocessingml.document', 'parent_id': '4a54b629a6363eb474ebb8cfeeabb347', 'category': 'UncategorizedText', 'element_id': 'd757da17a030d334224b8eaeb05efaeb'}, page_content='До приема топливного газа в систему должны быть выполнены работы, указанные в разделе «Подготовка печи к пуску».'),\n",
       " Document(metadata={'source': 'data/data_processing/РАЗДЕЛ 6/РАЗДЕЛ 6.docx', 'category_depth': 0, 'file_directory': 'data/data_processing/РАЗДЕЛ 6', 'filename': 'РАЗДЕЛ 6.docx', 'last_modified': '2025-07-08T17:17:29', 'languages': ['rus'], 'filetype': 'application/vnd.openxmlformats-officedocument.wordprocessingml.document', 'parent_id': '4a54b629a6363eb474ebb8cfeeabb347', 'category': 'ListItem', 'element_id': 'd814eeee13ef2537398f0d1160a87c77'}, page_content='Прием топливного газа в систему производится непосредственно перед розжигом горелок в следующей последовательности:'),\n",
       " Document(metadata={'source': 'data/data_processing/РАЗДЕЛ 6/РАЗДЕЛ 6.docx', 'category_depth': 0, 'file_directory': 'data/data_processing/РАЗДЕЛ 6', 'filename': 'РАЗДЕЛ 6.docx', 'last_modified': '2025-07-08T17:17:29', 'languages': ['rus'], 'filetype': 'application/vnd.openxmlformats-officedocument.wordprocessingml.document', 'parent_id': '4a54b629a6363eb474ebb8cfeeabb347', 'category': 'ListItem', 'element_id': '54dfd8bdac9f7d2423f6dff4e2e02f24'}, page_content='демонтировать съемный участок между дренажным вентилем клапанной сборки поз. PV-305 и запорной арматурой № 17NI на стояке азота низкого давления в помещении насосной и установить заглушку на дренажном вентиле клапанной сборки;'),\n",
       " Document(metadata={'source': 'data/data_processing/РАЗДЕЛ 6/РАЗДЕЛ 6.docx', 'category_depth': 0, 'file_directory': 'data/data_processing/РАЗДЕЛ 6', 'filename': 'РАЗДЕЛ 6.docx', 'last_modified': '2025-07-08T17:17:29', 'languages': ['rus'], 'filetype': 'application/vnd.openxmlformats-officedocument.wordprocessingml.document', 'parent_id': '4a54b629a6363eb474ebb8cfeeabb347', 'category': 'ListItem', 'element_id': '7f394f89678f911a5e3cd80301c8cb3a'}, page_content='по наряду допуску на проведение газоопасных работ демонтировать заглушку на границе установки по линии топливного газа с АГРС после запорной арматуры № 46NG или по линии топливного газа с УСК после запорной арматуры № 50NG под избыточным давлением азота 0,1 кгс/см2;'),\n",
       " Document(metadata={'source': 'data/data_processing/РАЗДЕЛ 6/РАЗДЕЛ 6.docx', 'category_depth': 0, 'file_directory': 'data/data_processing/РАЗДЕЛ 6', 'filename': 'РАЗДЕЛ 6.docx', 'last_modified': '2025-07-08T17:17:29', 'languages': ['rus'], 'filetype': 'application/vnd.openxmlformats-officedocument.wordprocessingml.document', 'parent_id': '4a54b629a6363eb474ebb8cfeeabb347', 'category': 'ListItem', 'element_id': '0c53335148dd627d143c21c77117c37f'}, page_content='перекрыть клапаны - отсекатели поз. NY-501, NY-502, NY-504 (клапан-отсекатель поз. NY-503 откроется);'),\n",
       " Document(metadata={'source': 'data/data_processing/РАЗДЕЛ 6/РАЗДЕЛ 6.docx', 'category_depth': 0, 'file_directory': 'data/data_processing/РАЗДЕЛ 6', 'filename': 'РАЗДЕЛ 6.docx', 'last_modified': '2025-07-08T17:17:29', 'languages': ['rus'], 'filetype': 'application/vnd.openxmlformats-officedocument.wordprocessingml.document', 'parent_id': '4a54b629a6363eb474ebb8cfeeabb347', 'category': 'ListItem', 'element_id': '6ca1bc4b7662aae013070f2e32f967a7'}, page_content='перекрыть запорную арматуру № 5NG на байпасе регулирующего клапана поз. PV-303; № 8NG на байпасе регулирующего клапана поз. PV-304; № 11NG на байпасе регулирующего клапана поз. PV-305. Перекрыть запорную арматуру до отсекателей № 1NG, 2NG;'),\n",
       " Document(metadata={'source': 'data/data_processing/РАЗДЕЛ 6/РАЗДЕЛ 6.docx', 'category_depth': 0, 'file_directory': 'data/data_processing/РАЗДЕЛ 6', 'filename': 'РАЗДЕЛ 6.docx', 'last_modified': '2025-07-08T17:17:29', 'languages': ['rus'], 'filetype': 'application/vnd.openxmlformats-officedocument.wordprocessingml.document', 'parent_id': '4a54b629a6363eb474ebb8cfeeabb347', 'category': 'ListItem', 'element_id': '6e8fe2055c32e65231296c9975ddb502'}, page_content='открыть все вентили на измерительных приборах КИП и А на линии топливного газа, на сепараторе V-210;'),\n",
       " Document(metadata={'source': 'data/data_processing/РАЗДЕЛ 6/РАЗДЕЛ 6.docx', 'category_depth': 0, 'file_directory': 'data/data_processing/РАЗДЕЛ 6', 'filename': 'РАЗДЕЛ 6.docx', 'last_modified': '2025-07-08T17:17:29', 'languages': ['rus'], 'filetype': 'application/vnd.openxmlformats-officedocument.wordprocessingml.document', 'parent_id': '4a54b629a6363eb474ebb8cfeeabb347', 'category': 'ListItem', 'element_id': '5e070db2d80b10179cd93f0ab812940b'}, page_content='со щита в операторной перекрыть регулирующие клапаны поз. PV-303, PV-304, PV-305;'),\n",
       " Document(metadata={'source': 'data/data_processing/РАЗДЕЛ 6/РАЗДЕЛ 6.docx', 'category_depth': 0, 'file_directory': 'data/data_processing/РАЗДЕЛ 6', 'filename': 'РАЗДЕЛ 6.docx', 'last_modified': '2025-07-08T17:17:29', 'languages': ['rus'], 'filetype': 'application/vnd.openxmlformats-officedocument.wordprocessingml.document', 'parent_id': '4a54b629a6363eb474ebb8cfeeabb347', 'category': 'ListItem', 'element_id': 'eb7a40edf8ecf8af18ede1a5b330a20a'}, page_content='открыть запорную арматуру № 3NG, 4NG до и после регулирующего клапана поз. PV-303, открыть запорную арматуру № 6NG, 7NG до и после регулирующего клапана поз. PV-304, открыть запорную арматуру № 9NG, 10NG до и после регулирующего клапана поз. PV-305;'),\n",
       " Document(metadata={'source': 'data/data_processing/РАЗДЕЛ 6/РАЗДЕЛ 6.docx', 'category_depth': 0, 'file_directory': 'data/data_processing/РАЗДЕЛ 6', 'filename': 'РАЗДЕЛ 6.docx', 'last_modified': '2025-07-08T17:17:29', 'languages': ['rus'], 'filetype': 'application/vnd.openxmlformats-officedocument.wordprocessingml.document', 'parent_id': '4a54b629a6363eb474ebb8cfeeabb347', 'category': 'ListItem', 'element_id': '2c8cc317e66a11eaa47e0e9d70143251'}, page_content='убедиться, что все шаровые краны на всех горелках перекрыты и отглушены;'),\n",
       " Document(metadata={'source': 'data/data_processing/РАЗДЕЛ 6/РАЗДЕЛ 6.docx', 'category_depth': 0, 'file_directory': 'data/data_processing/РАЗДЕЛ 6', 'filename': 'РАЗДЕЛ 6.docx', 'last_modified': '2025-07-08T17:17:29', 'languages': ['rus'], 'filetype': 'application/vnd.openxmlformats-officedocument.wordprocessingml.document', 'parent_id': '4a54b629a6363eb474ebb8cfeeabb347', 'category': 'ListItem', 'element_id': '8fc9ab4cf695f4e1d2edd534697c74fd'}, page_content='открыть запорную арматуру № 46NG на линии топливного газа с АГРС или № 50NG на линии топливного газа с УСК;'),\n",
       " Document(metadata={'source': 'data/data_processing/РАЗДЕЛ 6/РАЗДЕЛ 6.docx', 'category_depth': 0, 'file_directory': 'data/data_processing/РАЗДЕЛ 6', 'filename': 'РАЗДЕЛ 6.docx', 'last_modified': '2025-07-08T17:17:29', 'languages': ['rus'], 'filetype': 'application/vnd.openxmlformats-officedocument.wordprocessingml.document', 'parent_id': '4a54b629a6363eb474ebb8cfeeabb347', 'category': 'ListItem', 'element_id': 'e57dbc4b149e461b18b4a689ae6dcfe6'}, page_content='открыть запорную арматуру № 47NG, 95NG, 94NG на сепараторе V-210;'),\n",
       " Document(metadata={'source': 'data/data_processing/РАЗДЕЛ 6/РАЗДЕЛ 6.docx', 'category_depth': 0, 'file_directory': 'data/data_processing/РАЗДЕЛ 6', 'filename': 'РАЗДЕЛ 6.docx', 'last_modified': '2025-07-08T17:17:29', 'languages': ['rus'], 'filetype': 'application/vnd.openxmlformats-officedocument.wordprocessingml.document', 'parent_id': '4a54b629a6363eb474ebb8cfeeabb347', 'category': 'ListItem', 'element_id': '57c08442ef6c26a893858e5c089beeb0'}, page_content='открыть запорную арматуру № 93NG, 92NG, 49NG на теплообменнике подогрева топливного газа Е-210;'),\n",
       " Document(metadata={'source': 'data/data_processing/РАЗДЕЛ 6/РАЗДЕЛ 6.docx', 'category_depth': 0, 'file_directory': 'data/data_processing/РАЗДЕЛ 6', 'filename': 'РАЗДЕЛ 6.docx', 'last_modified': '2025-07-08T17:17:29', 'languages': ['rus'], 'filetype': 'application/vnd.openxmlformats-officedocument.wordprocessingml.document', 'parent_id': '4a54b629a6363eb474ebb8cfeeabb347', 'category': 'ListItem', 'element_id': '00fe9cc412e60cfc89912d29d9973801'}, page_content='убедиться в закрытии запорной арматуры № 48NG на коллекторе топливного газа, убедиться в закрытии запорной арматуры № 90NG на байпасе емкости V-210, запорной арматуры № 91NG на байпасе теплообменника Е-210;'),\n",
       " Document(metadata={'source': 'data/data_processing/РАЗДЕЛ 6/РАЗДЕЛ 6.docx', 'category_depth': 0, 'file_directory': 'data/data_processing/РАЗДЕЛ 6', 'filename': 'РАЗДЕЛ 6.docx', 'last_modified': '2025-07-08T17:17:29', 'languages': ['rus'], 'filetype': 'application/vnd.openxmlformats-officedocument.wordprocessingml.document', 'parent_id': '4a54b629a6363eb474ebb8cfeeabb347', 'category': 'ListItem', 'element_id': '6a4f21fec515b2476568f8869b66faff'}, page_content='убедиться в закрытии запорной арматуры № 96NG на линии сброса на факел, № 150DL на линии дренажа сепаратора в емкость V-507 и запорной арматуры № 97NG на линии сброса топливного газа в атмосферу;'),\n",
       " Document(metadata={'source': 'data/data_processing/РАЗДЕЛ 6/РАЗДЕЛ 6.docx', 'category_depth': 0, 'file_directory': 'data/data_processing/РАЗДЕЛ 6', 'filename': 'РАЗДЕЛ 6.docx', 'last_modified': '2025-07-08T17:17:29', 'languages': ['rus'], 'filetype': 'application/vnd.openxmlformats-officedocument.wordprocessingml.document', 'parent_id': '4a54b629a6363eb474ebb8cfeeabb347', 'category': 'ListItem', 'element_id': '0042f59436f17ff9e3be3b83ae6ae821'}, page_content='убедиться в наличии давления топливного газа 3,0 кгс/см2 в сепараторе по манометру поз. PI-85 (по показанию прибора поз. PR-350 на щите в операторной) и в трубопроводе топливного газа перед регулирующими клапанами по прибору поз. PR-309.'),\n",
       " Document(metadata={'source': 'data/data_processing/РАЗДЕЛ 6/РАЗДЕЛ 6.docx', 'category_depth': 0, 'file_directory': 'data/data_processing/РАЗДЕЛ 6', 'filename': 'РАЗДЕЛ 6.docx', 'last_modified': '2025-07-08T17:17:29', 'languages': ['rus'], 'filetype': 'application/vnd.openxmlformats-officedocument.wordprocessingml.document', 'parent_id': '4a54b629a6363eb474ebb8cfeeabb347', 'category': 'NarrativeText', 'element_id': '169ae0302766cefe4b752395d85f2c13'}, page_content='Вытеснение азота из системы топливного газа производить в такой же последовательности как и продувку системы от кислорода азотом через регулирующие клапаны PV-303, PV-304, PV-305 через концевые продувочные свечи газопровода открыв вентили 39NG, 40NG на печи Н-201В; 41NG, 42NG на печи Н-201А; 43NG, 44NG на печи Н-201С. После окончания продувки вентили 39NG, 40NG, 41NG, 42NG, 43NG, 44NG перекрыть.'),\n",
       " Document(metadata={'source': 'data/data_processing/РАЗДЕЛ 6/РАЗДЕЛ 6.docx', 'category_depth': 0, 'file_directory': 'data/data_processing/РАЗДЕЛ 6', 'filename': 'РАЗДЕЛ 6.docx', 'last_modified': '2025-07-08T17:17:29', 'languages': ['rus'], 'filetype': 'application/vnd.openxmlformats-officedocument.wordprocessingml.document', 'parent_id': '4a54b629a6363eb474ebb8cfeeabb347', 'category': 'UncategorizedText', 'element_id': 'cf8e70749f9eb1d7759306b6c9eca059'}, page_content='Окончание заполнения газопровода топливным газом должно подтверждаться отбором пробы газа на соответствие регламентным характеристикам.'),\n",
       " Document(metadata={'source': 'data/data_processing/РАЗДЕЛ 6/РАЗДЕЛ 6.docx', 'category_depth': 0, 'file_directory': 'data/data_processing/РАЗДЕЛ 6', 'filename': 'РАЗДЕЛ 6.docx', 'last_modified': '2025-07-08T17:17:29', 'languages': ['rus'], 'filetype': 'application/vnd.openxmlformats-officedocument.wordprocessingml.document', 'parent_id': '4a54b629a6363eb474ebb8cfeeabb347', 'category': 'UncategorizedText', 'element_id': 'cb8e5d07be93b6a65736aab308ff4488'}, page_content='Теплотворная способность не менее 7600 ккал/м3'),\n",
       " Document(metadata={'source': 'data/data_processing/РАЗДЕЛ 6/РАЗДЕЛ 6.docx', 'category_depth': 0, 'file_directory': 'data/data_processing/РАЗДЕЛ 6', 'filename': 'РАЗДЕЛ 6.docx', 'last_modified': '2025-07-08T17:17:29', 'languages': ['rus'], 'filetype': 'application/vnd.openxmlformats-officedocument.wordprocessingml.document', 'parent_id': '4a54b629a6363eb474ebb8cfeeabb347', 'category': 'NarrativeText', 'element_id': '792ae618cc1f647fdd8b4098ffbfc22c'}, page_content='Объемная доля кислорода не более 1,0 %'),\n",
       " Document(metadata={'source': 'data/data_processing/РАЗДЕЛ 6/РАЗДЕЛ 6.docx', 'category_depth': 0, 'file_directory': 'data/data_processing/РАЗДЕЛ 6', 'filename': 'РАЗДЕЛ 6.docx', 'last_modified': '2025-07-08T17:17:29', 'languages': ['rus'], 'filetype': 'application/vnd.openxmlformats-officedocument.wordprocessingml.document', 'parent_id': '4a54b629a6363eb474ebb8cfeeabb347', 'category': 'NarrativeText', 'element_id': 'becb1280cc704629d05dc961bfc8dff0'}, page_content='Массовая концентрация сероводорода не более 0,02 г/м3'),\n",
       " Document(metadata={'source': 'data/data_processing/РАЗДЕЛ 6/РАЗДЕЛ 6.docx', 'category_depth': 0, 'file_directory': 'data/data_processing/РАЗДЕЛ 6', 'filename': 'РАЗДЕЛ 6.docx', 'last_modified': '2025-07-08T17:17:29', 'languages': ['rus'], 'filetype': 'application/vnd.openxmlformats-officedocument.wordprocessingml.document', 'parent_id': '4a54b629a6363eb474ebb8cfeeabb347', 'category': 'NarrativeText', 'element_id': '7306ce8fedd635a8ca996762c7dcc821'}, page_content='Массовая концентрация меркаптановой серы не более 0,036 г/м3'),\n",
       " Document(metadata={'source': 'data/data_processing/РАЗДЕЛ 6/РАЗДЕЛ 6.docx', 'category_depth': 0, 'file_directory': 'data/data_processing/РАЗДЕЛ 6', 'filename': 'РАЗДЕЛ 6.docx', 'last_modified': '2025-07-08T17:17:29', 'languages': ['rus'], 'filetype': 'application/vnd.openxmlformats-officedocument.wordprocessingml.document', 'parent_id': '4a54b629a6363eb474ebb8cfeeabb347', 'category': 'NarrativeText', 'element_id': '73ceb7c433558e7116ce9595c7532d54'}, page_content='Масса мех. примесей в 1 м3 не более 0,001 г.'),\n",
       " Document(metadata={'source': 'data/data_processing/РАЗДЕЛ 6/РАЗДЕЛ 6.docx', 'category_depth': 0, 'file_directory': 'data/data_processing/РАЗДЕЛ 6', 'filename': 'РАЗДЕЛ 6.docx', 'last_modified': '2025-07-08T17:17:29', 'languages': ['rus'], 'filetype': 'application/vnd.openxmlformats-officedocument.wordprocessingml.document', 'parent_id': '4a54b629a6363eb474ebb8cfeeabb347', 'category': 'UncategorizedText', 'element_id': '29f2190b5f5f6b3e95d43a31dba27b5a'}, page_content='До начала розжига горелок необходимо выполнить следующие работы:'),\n",
       " Document(metadata={'source': 'data/data_processing/РАЗДЕЛ 6/РАЗДЕЛ 6.docx', 'category_depth': 0, 'file_directory': 'data/data_processing/РАЗДЕЛ 6', 'filename': 'РАЗДЕЛ 6.docx', 'last_modified': '2025-07-08T17:17:29', 'languages': ['rus'], 'filetype': 'application/vnd.openxmlformats-officedocument.wordprocessingml.document', 'parent_id': '4a54b629a6363eb474ebb8cfeeabb347', 'category': 'ListItem', 'element_id': '31c1a31013426b6481d9ac8a481c9c5b'}, page_content='наладить циркуляцию паров углеводородов через нагревательные печи по схеме:'),\n",
       " Document(metadata={'source': 'data/data_processing/РАЗДЕЛ 6/РАЗДЕЛ 6.docx', 'category_depth': 0, 'file_directory': 'data/data_processing/РАЗДЕЛ 6', 'filename': 'РАЗДЕЛ 6.docx', 'last_modified': '2025-07-08T17:17:29', 'languages': ['rus'], 'filetype': 'application/vnd.openxmlformats-officedocument.wordprocessingml.document', 'parent_id': '4a54b629a6363eb474ebb8cfeeabb347', 'category': 'UncategorizedText', 'element_id': 'ed8fb14ae25864fdb820119c76c05f3b'}, page_content='К-201А/В  Е-201  Е-202  R-204  Н-201А  R-201  Н-201В  R-202  Н-201С  R-203  Е-202  Е-204   Е-201  АС-201А  V-201  К-201А/В.'),\n",
       " Document(metadata={'source': 'data/data_processing/РАЗДЕЛ 6/РАЗДЕЛ 6.docx', 'category_depth': 0, 'file_directory': 'data/data_processing/РАЗДЕЛ 6', 'filename': 'РАЗДЕЛ 6.docx', 'last_modified': '2025-07-08T17:17:29', 'languages': ['rus'], 'filetype': 'application/vnd.openxmlformats-officedocument.wordprocessingml.document', 'parent_id': '4a54b629a6363eb474ebb8cfeeabb347', 'category': 'ListItem', 'element_id': '86cc913e81b6faffd36e9054a83b48b4'}, page_content='подать азот низкого давления на охлаждение заслонок печей;'),\n",
       " Document(metadata={'source': 'data/data_processing/РАЗДЕЛ 6/РАЗДЕЛ 6.docx', 'category_depth': 0, 'file_directory': 'data/data_processing/РАЗДЕЛ 6', 'filename': 'РАЗДЕЛ 6.docx', 'last_modified': '2025-07-08T17:17:29', 'languages': ['rus'], 'filetype': 'application/vnd.openxmlformats-officedocument.wordprocessingml.document', 'parent_id': '4a54b629a6363eb474ebb8cfeeabb347', 'category': 'ListItem', 'element_id': 'd892d67ecd0e6235ddfb5b7d3b9f8718'}, page_content='убедиться в отсутствии жидкости в сепараторе V-210 по прибору поз. LRCAHL-150;'),\n",
       " Document(metadata={'source': 'data/data_processing/РАЗДЕЛ 6/РАЗДЕЛ 6.docx', 'category_depth': 0, 'file_directory': 'data/data_processing/РАЗДЕЛ 6', 'filename': 'РАЗДЕЛ 6.docx', 'last_modified': '2025-07-08T17:17:29', 'languages': ['rus'], 'filetype': 'application/vnd.openxmlformats-officedocument.wordprocessingml.document', 'parent_id': '4a54b629a6363eb474ebb8cfeeabb347', 'category': 'ListItem', 'element_id': '7b6f1424bc3a9b63f4f6ab83bfaccac3'}, page_content='включить клапан поз. LV-150, на линии дренажа сепаратора V-210, в работу;'),\n",
       " Document(metadata={'source': 'data/data_processing/РАЗДЕЛ 6/РАЗДЕЛ 6.docx', 'category_depth': 0, 'file_directory': 'data/data_processing/РАЗДЕЛ 6', 'filename': 'РАЗДЕЛ 6.docx', 'last_modified': '2025-07-08T17:17:29', 'languages': ['rus'], 'filetype': 'application/vnd.openxmlformats-officedocument.wordprocessingml.document', 'parent_id': '4a54b629a6363eb474ebb8cfeeabb347', 'category': 'ListItem', 'element_id': 'aad2ba8904ef5b5ff64f08073d54a89b'}, page_content='открыть запорную арматуру до регулирующего клапана поз. LV-150 и после него;'),\n",
       " Document(metadata={'source': 'data/data_processing/РАЗДЕЛ 6/РАЗДЕЛ 6.docx', 'category_depth': 0, 'file_directory': 'data/data_processing/РАЗДЕЛ 6', 'filename': 'РАЗДЕЛ 6.docx', 'last_modified': '2025-07-08T17:17:29', 'languages': ['rus'], 'filetype': 'application/vnd.openxmlformats-officedocument.wordprocessingml.document', 'parent_id': '4a54b629a6363eb474ebb8cfeeabb347', 'category': 'ListItem', 'element_id': '33667f5ff928b3fcba64e78b6a295ebd'}, page_content='включить клапан поз. TV-251, на линии пара 6 кгс/см2 в теплообменник Е-210, в работу;'),\n",
       " Document(metadata={'source': 'data/data_processing/РАЗДЕЛ 6/РАЗДЕЛ 6.docx', 'category_depth': 0, 'file_directory': 'data/data_processing/РАЗДЕЛ 6', 'filename': 'РАЗДЕЛ 6.docx', 'last_modified': '2025-07-08T17:17:29', 'languages': ['rus'], 'filetype': 'application/vnd.openxmlformats-officedocument.wordprocessingml.document', 'parent_id': '4a54b629a6363eb474ebb8cfeeabb347', 'category': 'ListItem', 'element_id': 'be3ff99e047af79cd18b14c0dfe4729f'}, page_content='открыть запорную арматуру до регулирующего клапана поз. TV-251 и после него;'),\n",
       " Document(metadata={'source': 'data/data_processing/РАЗДЕЛ 6/РАЗДЕЛ 6.docx', 'category_depth': 0, 'file_directory': 'data/data_processing/РАЗДЕЛ 6', 'filename': 'РАЗДЕЛ 6.docx', 'last_modified': '2025-07-08T17:17:29', 'languages': ['rus'], 'filetype': 'application/vnd.openxmlformats-officedocument.wordprocessingml.document', 'parent_id': '4a54b629a6363eb474ebb8cfeeabb347', 'category': 'ListItem', 'element_id': '49a79dc53a2a4b99d325f61d95d14e66'}, page_content='открыть вентили на линии пароконденсата после теплообменника Е-210;'),\n",
       " Document(metadata={'source': 'data/data_processing/РАЗДЕЛ 6/РАЗДЕЛ 6.docx', 'category_depth': 0, 'file_directory': 'data/data_processing/РАЗДЕЛ 6', 'filename': 'РАЗДЕЛ 6.docx', 'last_modified': '2025-07-08T17:17:29', 'languages': ['rus'], 'filetype': 'application/vnd.openxmlformats-officedocument.wordprocessingml.document', 'parent_id': '4a54b629a6363eb474ebb8cfeeabb347', 'category': 'ListItem', 'element_id': '071a3e1d61ca8fc4eb6d90d929f0526b'}, page_content='подготовить ручные переносные запальные горелки для розжига пилотных горелок;'),\n",
       " Document(metadata={'source': 'data/data_processing/РАЗДЕЛ 6/РАЗДЕЛ 6.docx', 'category_depth': 0, 'file_directory': 'data/data_processing/РАЗДЕЛ 6', 'filename': 'РАЗДЕЛ 6.docx', 'last_modified': '2025-07-08T17:17:29', 'languages': ['rus'], 'filetype': 'application/vnd.openxmlformats-officedocument.wordprocessingml.document', 'parent_id': '4a54b629a6363eb474ebb8cfeeabb347', 'category': 'ListItem', 'element_id': '0fbfcbb5065c3d409d0ca2974ce46e41'}, page_content='полностью открыть шиберы печей, заслонки горелок и убедиться в том, что в печи имеется разряжение не менее 5 мм.вод.ст. (поз. PI-7, PI-10, PI-13).'),\n",
       " Document(metadata={'source': 'data/data_processing/РАЗДЕЛ 6/РАЗДЕЛ 6.docx', 'category_depth': 0, 'file_directory': 'data/data_processing/РАЗДЕЛ 6', 'filename': 'РАЗДЕЛ 6.docx', 'last_modified': '2025-07-08T17:17:29', 'languages': ['rus'], 'filetype': 'application/vnd.openxmlformats-officedocument.wordprocessingml.document', 'parent_id': '4a54b629a6363eb474ebb8cfeeabb347', 'category': 'NarrativeText', 'element_id': 'e11083967b83db140050a0da5a61bebf'}, page_content='Во избежание взрыва газовоздушной смеси в камере сгорания печей необходимо тщательно провентилировать камеру сгорания за счет тяги дымовой труби через открытые шиберы. Продолжительность вентиляции должна составлять не менее пяти объемов воздуха печи, что соответствует 45 мин. '),\n",
       " Document(metadata={'source': 'data/data_processing/РАЗДЕЛ 6/РАЗДЕЛ 6.docx', 'category_depth': 0, 'file_directory': 'data/data_processing/РАЗДЕЛ 6', 'filename': 'РАЗДЕЛ 6.docx', 'last_modified': '2025-07-08T17:17:29', 'languages': ['rus'], 'filetype': 'application/vnd.openxmlformats-officedocument.wordprocessingml.document', 'parent_id': '4a54b629a6363eb474ebb8cfeeabb347', 'category': 'NarrativeText', 'element_id': 'fd35d61e3363e3d2c90f3d1758b7e7b4'}, page_content='После вентиляции и продувки паром установить воздушную заслонку горелки в положение 25 – процентного открытия, отрегулировать шиберы дымоходов печей и убедиться в том, что в печи имеется разряжение не менее 5 мм.вод.ст.'),\n",
       " Document(metadata={'source': 'data/data_processing/РАЗДЕЛ 6/РАЗДЕЛ 6.docx', 'category_depth': 0, 'file_directory': 'data/data_processing/РАЗДЕЛ 6', 'filename': 'РАЗДЕЛ 6.docx', 'last_modified': '2025-07-08T17:17:29', 'languages': ['rus'], 'filetype': 'application/vnd.openxmlformats-officedocument.wordprocessingml.document', 'parent_id': '4a54b629a6363eb474ebb8cfeeabb347', 'category': 'UncategorizedText', 'element_id': '1af6722181bfb6d32c000a61e5afee65'}, page_content='Подготовить к работе местный щит управления печами МСР со встроенным  программируемым логическим контроллером PLC-100, который отрабатывает всю логику защиты и сигнализации.'),\n",
       " Document(metadata={'source': 'data/data_processing/РАЗДЕЛ 6/РАЗДЕЛ 6.docx', 'category_depth': 0, 'file_directory': 'data/data_processing/РАЗДЕЛ 6', 'filename': 'РАЗДЕЛ 6.docx', 'last_modified': '2025-07-08T17:17:29', 'languages': ['rus'], 'filetype': 'application/vnd.openxmlformats-officedocument.wordprocessingml.document', 'parent_id': '4a54b629a6363eb474ebb8cfeeabb347', 'category': 'UncategorizedText', 'element_id': '32fa381cd4dea29663c8c5b036821e6a'}, page_content='На центральный щит управления в операторной выведена световая сигнализация остановки печей UA-601, световая сигнализация отключения блокировок, кнопка аварийной остановки печей HSP-604, ключ SA-1 отключения блокировок и продублированы все световые сигналы по блокировочным параметрам. '),\n",
       " Document(metadata={'source': 'data/data_processing/РАЗДЕЛ 6/РАЗДЕЛ 6.docx', 'category_depth': 0, 'file_directory': 'data/data_processing/РАЗДЕЛ 6', 'filename': 'РАЗДЕЛ 6.docx', 'last_modified': '2025-07-08T17:17:29', 'languages': ['rus'], 'filetype': 'application/vnd.openxmlformats-officedocument.wordprocessingml.document', 'parent_id': '4a54b629a6363eb474ebb8cfeeabb347', 'category': 'NarrativeText', 'element_id': '82f1cbd6d60619d275956d9dc8e4bafb'}, page_content='Схема отключения блокировок предназначена для отключения блокировок поз. PSАHH-310, PSАHH-311, PSАHH-312, PSАLL-313, TSАHH-212, TSАHH-224, TSАHH-225, TSАHH-226 в период пуска и остановки печей, поворотом ключа поз. SA-1. При этом загорается световое табло на щите в операторной «Блокировки отключены» и загорается лампочка поз. XL-618 на местном щите управления.'),\n",
       " Document(metadata={'source': 'data/data_processing/РАЗДЕЛ 6/РАЗДЕЛ 6.docx', 'category_depth': 0, 'file_directory': 'data/data_processing/РАЗДЕЛ 6', 'filename': 'РАЗДЕЛ 6.docx', 'last_modified': '2025-07-08T17:17:29', 'languages': ['rus'], 'filetype': 'application/vnd.openxmlformats-officedocument.wordprocessingml.document', 'parent_id': '4a54b629a6363eb474ebb8cfeeabb347', 'category': 'NarrativeText', 'element_id': '1234c2c141d8f86e21fb23a76805117f'}, page_content='Все основные органы управления и сигнальные лампы расположены на панели самого PLC-100. Для пуска печей в работу необходимо:'),\n",
       " Document(metadata={'source': 'data/data_processing/РАЗДЕЛ 6/РАЗДЕЛ 6.docx', 'category_depth': 0, 'file_directory': 'data/data_processing/РАЗДЕЛ 6', 'filename': 'РАЗДЕЛ 6.docx', 'last_modified': '2025-07-08T17:17:29', 'languages': ['rus'], 'filetype': 'application/vnd.openxmlformats-officedocument.wordprocessingml.document', 'parent_id': '4a54b629a6363eb474ebb8cfeeabb347', 'category': 'ListItem', 'element_id': '2f2dd5826e0be9e2ba7287ddf97c369f'}, page_content='Включить питание PLC-100 поворотом переключателя HSS-603 в положение «Питание включено». При этом загорится лампа XL-605 «Питание включено».'),\n",
       " Document(metadata={'source': 'data/data_processing/РАЗДЕЛ 6/РАЗДЕЛ 6.docx', 'category_depth': 0, 'file_directory': 'data/data_processing/РАЗДЕЛ 6', 'filename': 'РАЗДЕЛ 6.docx', 'last_modified': '2025-07-08T17:17:29', 'languages': ['rus'], 'filetype': 'application/vnd.openxmlformats-officedocument.wordprocessingml.document', 'parent_id': '4a54b629a6363eb474ebb8cfeeabb347', 'category': 'ListItem', 'element_id': '2af3c62eff571d4b1681040ae162d3c1'}, page_content='Нажатием кнопки HSP-608 проверить исправность ламп на панели.'),\n",
       " Document(metadata={'source': 'data/data_processing/РАЗДЕЛ 6/РАЗДЕЛ 6.docx', 'category_depth': 0, 'file_directory': 'data/data_processing/РАЗДЕЛ 6', 'filename': 'РАЗДЕЛ 6.docx', 'last_modified': '2025-07-08T17:17:29', 'languages': ['rus'], 'filetype': 'application/vnd.openxmlformats-officedocument.wordprocessingml.document', 'parent_id': '4a54b629a6363eb474ebb8cfeeabb347', 'category': 'ListItem', 'element_id': 'f61e18bc3094173f7daa60bb12b9be14'}, page_content='Нажать кнопку поз. HSP-607 «Возврат MCR» для включения главного реле управления.'),\n",
       " Document(metadata={'source': 'data/data_processing/РАЗДЕЛ 6/РАЗДЕЛ 6.docx', 'category_depth': 0, 'file_directory': 'data/data_processing/РАЗДЕЛ 6', 'filename': 'РАЗДЕЛ 6.docx', 'last_modified': '2025-07-08T17:17:29', 'languages': ['rus'], 'filetype': 'application/vnd.openxmlformats-officedocument.wordprocessingml.document', 'parent_id': '4a54b629a6363eb474ebb8cfeeabb347', 'category': 'ListItem', 'element_id': '1793858ab04fc9bb56759a1d4c839815'}, page_content='Проверить состояние сигналов блокировочных параметров.'),\n",
       " Document(metadata={'source': 'data/data_processing/РАЗДЕЛ 6/РАЗДЕЛ 6.docx', 'category_depth': 0, 'file_directory': 'data/data_processing/РАЗДЕЛ 6', 'filename': 'РАЗДЕЛ 6.docx', 'last_modified': '2025-07-08T17:17:29', 'languages': ['rus'], 'filetype': 'application/vnd.openxmlformats-officedocument.wordprocessingml.document', 'parent_id': '4a54b629a6363eb474ebb8cfeeabb347', 'category': 'NarrativeText', 'element_id': '2838d76e6d0a2f7e350243253d146ce7'}, page_content='Наличие нормального значения расхода газа от компрессоров К-201А/В (при этом лампа FSLL-405 будет погашена) дает разрешение на контроль остальных сигналов.'),\n",
       " Document(metadata={'source': 'data/data_processing/РАЗДЕЛ 6/РАЗДЕЛ 6.docx', 'category_depth': 0, 'file_directory': 'data/data_processing/РАЗДЕЛ 6', 'filename': 'РАЗДЕЛ 6.docx', 'last_modified': '2025-07-08T17:17:29', 'languages': ['rus'], 'filetype': 'application/vnd.openxmlformats-officedocument.wordprocessingml.document', 'parent_id': '4a54b629a6363eb474ebb8cfeeabb347', 'category': 'NarrativeText', 'element_id': '7d18d36becf94de5e2577fb88f1d4dda'}, page_content='Если же расход FICSALL-405 меньше 1645 кг/час, то проконтролировать состояние остальных блокировочных сигналов можно нажатием кнопки HSP-610 «Снятие аварийного сигнала». При этом лампы параметров, имеющих регламентное значение, погаснут.'),\n",
       " Document(metadata={'source': 'data/data_processing/РАЗДЕЛ 6/РАЗДЕЛ 6.docx', 'category_depth': 0, 'file_directory': 'data/data_processing/РАЗДЕЛ 6', 'filename': 'РАЗДЕЛ 6.docx', 'last_modified': '2025-07-08T17:17:29', 'languages': ['rus'], 'filetype': 'application/vnd.openxmlformats-officedocument.wordprocessingml.document', 'parent_id': '4a54b629a6363eb474ebb8cfeeabb347', 'category': 'UncategorizedText', 'element_id': 'df848bb2e3374870c20706135b4adb00'}, page_content='Если все параметры имеют нормальные значения, должна загореться лампа XL-606 «Готовность к ограничениям».'),\n",
       " Document(metadata={'source': 'data/data_processing/РАЗДЕЛ 6/РАЗДЕЛ 6.docx', 'category_depth': 0, 'file_directory': 'data/data_processing/РАЗДЕЛ 6', 'filename': 'РАЗДЕЛ 6.docx', 'last_modified': '2025-07-08T17:17:29', 'languages': ['rus'], 'filetype': 'application/vnd.openxmlformats-officedocument.wordprocessingml.document', 'parent_id': '4a54b629a6363eb474ebb8cfeeabb347', 'category': 'NarrativeText', 'element_id': 'bf10a952493e60afb3fe25157c4af084'}, page_content='Когда имеются параметры, выходящие за установленные пределы, нажатие кнопки HSP-610 «Снятие аварийного сигнала» не приводит к зажиганию лампы «Готовность к ограничениям». Причину, по которой это произошло определяют по загоранию сигнальных ламп по следующим параметрам:'),\n",
       " Document(metadata={'source': 'data/data_processing/РАЗДЕЛ 6/РАЗДЕЛ 6.docx', 'category_depth': 0, 'file_directory': 'data/data_processing/РАЗДЕЛ 6', 'filename': 'РАЗДЕЛ 6.docx', 'last_modified': '2025-07-08T17:17:29', 'languages': ['rus'], 'filetype': 'application/vnd.openxmlformats-officedocument.wordprocessingml.document', 'parent_id': '4a54b629a6363eb474ebb8cfeeabb347', 'category': 'ListItem', 'element_id': '30a2b96beb2f7f792a184ca664057637'}, page_content='FICSALL-405 расход газа на риформинг от К-201 А/В ниже 1645 кг/час;'),\n",
       " Document(metadata={'source': 'data/data_processing/РАЗДЕЛ 6/РАЗДЕЛ 6.docx', 'category_depth': 0, 'file_directory': 'data/data_processing/РАЗДЕЛ 6', 'filename': 'РАЗДЕЛ 6.docx', 'last_modified': '2025-07-08T17:17:29', 'languages': ['rus'], 'filetype': 'application/vnd.openxmlformats-officedocument.wordprocessingml.document', 'parent_id': '4a54b629a6363eb474ebb8cfeeabb347', 'category': 'ListItem', 'element_id': '2f37cfce2fabc7af5e5792a8dbee515c'}, page_content='ТSAНН-212 температура дымовых газов на выходе Н-201А/В/С выше 540 °С;'),\n",
       " Document(metadata={'source': 'data/data_processing/РАЗДЕЛ 6/РАЗДЕЛ 6.docx', 'category_depth': 0, 'file_directory': 'data/data_processing/РАЗДЕЛ 6', 'filename': 'РАЗДЕЛ 6.docx', 'last_modified': '2025-07-08T17:17:29', 'languages': ['rus'], 'filetype': 'application/vnd.openxmlformats-officedocument.wordprocessingml.document', 'parent_id': '4a54b629a6363eb474ebb8cfeeabb347', 'category': 'ListItem', 'element_id': '0b565a1b4560ecfb757dc323ecf5cc1e'}, page_content='ТSAНН-224 температура продукта на выходе из печи Н-201А выше 550°С;'),\n",
       " Document(metadata={'source': 'data/data_processing/РАЗДЕЛ 6/РАЗДЕЛ 6.docx', 'category_depth': 0, 'file_directory': 'data/data_processing/РАЗДЕЛ 6', 'filename': 'РАЗДЕЛ 6.docx', 'last_modified': '2025-07-08T17:17:29', 'languages': ['rus'], 'filetype': 'application/vnd.openxmlformats-officedocument.wordprocessingml.document', 'parent_id': '4a54b629a6363eb474ebb8cfeeabb347', 'category': 'ListItem', 'element_id': 'ff80f761fc8ac573a2517236855d71e1'}, page_content='ТSAНН-225 температура продукта на выходе из печи Н-201В выше 550°С;'),\n",
       " Document(metadata={'source': 'data/data_processing/РАЗДЕЛ 6/РАЗДЕЛ 6.docx', 'category_depth': 0, 'file_directory': 'data/data_processing/РАЗДЕЛ 6', 'filename': 'РАЗДЕЛ 6.docx', 'last_modified': '2025-07-08T17:17:29', 'languages': ['rus'], 'filetype': 'application/vnd.openxmlformats-officedocument.wordprocessingml.document', 'parent_id': '4a54b629a6363eb474ebb8cfeeabb347', 'category': 'ListItem', 'element_id': '501c0da97937dd737528619c401ac4e1'}, page_content='ТSAНН-226 температура продукта на выходе из печи Н-201С выше 550°С;'),\n",
       " Document(metadata={'source': 'data/data_processing/РАЗДЕЛ 6/РАЗДЕЛ 6.docx', 'category_depth': 0, 'file_directory': 'data/data_processing/РАЗДЕЛ 6', 'filename': 'РАЗДЕЛ 6.docx', 'last_modified': '2025-07-08T17:17:29', 'languages': ['rus'], 'filetype': 'application/vnd.openxmlformats-officedocument.wordprocessingml.document', 'parent_id': '4a54b629a6363eb474ebb8cfeeabb347', 'category': 'ListItem', 'element_id': '15a2fdc5db837cf32ef8e20225695dcd'}, page_content='PSALL-313 давление топливного газа к печам Н-201А/В/С ниже 1,05 кг/см2;'),\n",
       " Document(metadata={'source': 'data/data_processing/РАЗДЕЛ 6/РАЗДЕЛ 6.docx', 'category_depth': 0, 'file_directory': 'data/data_processing/РАЗДЕЛ 6', 'filename': 'РАЗДЕЛ 6.docx', 'last_modified': '2025-07-08T17:17:29', 'languages': ['rus'], 'filetype': 'application/vnd.openxmlformats-officedocument.wordprocessingml.document', 'parent_id': '4a54b629a6363eb474ebb8cfeeabb347', 'category': 'ListItem', 'element_id': '43a1a58bfda303433349986186aad348'}, page_content='PSAHH-310 давление газа на горелки Н-201А выше 1,76 кг/см2;'),\n",
       " Document(metadata={'source': 'data/data_processing/РАЗДЕЛ 6/РАЗДЕЛ 6.docx', 'category_depth': 0, 'file_directory': 'data/data_processing/РАЗДЕЛ 6', 'filename': 'РАЗДЕЛ 6.docx', 'last_modified': '2025-07-08T17:17:29', 'languages': ['rus'], 'filetype': 'application/vnd.openxmlformats-officedocument.wordprocessingml.document', 'parent_id': '4a54b629a6363eb474ebb8cfeeabb347', 'category': 'ListItem', 'element_id': '2d2d3ccdeb64646fd4e9f66c818dd463'}, page_content='PSAHH-311 давление газа на горелки Н-201В выше 1,76 кг/см2;'),\n",
       " Document(metadata={'source': 'data/data_processing/РАЗДЕЛ 6/РАЗДЕЛ 6.docx', 'category_depth': 0, 'file_directory': 'data/data_processing/РАЗДЕЛ 6', 'filename': 'РАЗДЕЛ 6.docx', 'last_modified': '2025-07-08T17:17:29', 'languages': ['rus'], 'filetype': 'application/vnd.openxmlformats-officedocument.wordprocessingml.document', 'parent_id': '4a54b629a6363eb474ebb8cfeeabb347', 'category': 'ListItem', 'element_id': '3df439b5ab82730d20f8091b55f6ca10'}, page_content='PSAHH-312 давление газа на горелки Н-201С выше 1,76 кг/см2;'),\n",
       " Document(metadata={'source': 'data/data_processing/РАЗДЕЛ 6/РАЗДЕЛ 6.docx', 'category_depth': 0, 'file_directory': 'data/data_processing/РАЗДЕЛ 6', 'filename': 'РАЗДЕЛ 6.docx', 'last_modified': '2025-07-08T17:17:29', 'languages': ['rus'], 'filetype': 'application/vnd.openxmlformats-officedocument.wordprocessingml.document', 'parent_id': '4a54b629a6363eb474ebb8cfeeabb347', 'category': 'NarrativeText', 'element_id': '42c485a6acbcae5140977a8ba229307a'}, page_content='После появления сигнала XL-606 «Готовность к ограничениям» повернуть ключ SA-1 снятия блокировок печей Н-201А,В,С, при этом сработает звуковая сигнализация, загорится табло «Блокировки отключены» в помещении операторной и загорится лампочка поз. XL-618 на местном щите управления.'),\n",
       " Document(metadata={'source': 'data/data_processing/РАЗДЕЛ 6/РАЗДЕЛ 6.docx', 'category_depth': 0, 'file_directory': 'data/data_processing/РАЗДЕЛ 6', 'filename': 'РАЗДЕЛ 6.docx', 'last_modified': '2025-07-08T17:17:29', 'languages': ['rus'], 'filetype': 'application/vnd.openxmlformats-officedocument.wordprocessingml.document', 'parent_id': '4a54b629a6363eb474ebb8cfeeabb347', 'category': 'ListItem', 'element_id': '47a30428d2e800afc451be93f976daab'}, page_content='Нажать кнопку HSP-611 «Старт продувки». При этом загорится лампа «Вентиляция печей» поз. XL-614. Одновременно запустится таймер Т 4:0 в контроллере PLC-100. Через 5 минут он выдаст сигнал в схему готовности к розжигу и лампа XL-615 «Готовность к зажиганию» загорится. Лампа XL-614 погаснет.'),\n",
       " Document(metadata={'source': 'data/data_processing/РАЗДЕЛ 6/РАЗДЕЛ 6.docx', 'category_depth': 0, 'file_directory': 'data/data_processing/РАЗДЕЛ 6', 'filename': 'РАЗДЕЛ 6.docx', 'last_modified': '2025-07-08T17:17:29', 'languages': ['rus'], 'filetype': 'application/vnd.openxmlformats-officedocument.wordprocessingml.document', 'parent_id': '4a54b629a6363eb474ebb8cfeeabb347', 'category': 'ListItem', 'element_id': '08467f022c27e191fd397d0ca51cf00f'}, page_content='Нажать кнопку поз. HSP-612 «Включение газа на дежурные горелки». Загорится лампа поз. XL-616 «Газ на дежурные горелки». Одновременно откроется клапан-отcекатель поз. NV-504 и газ через редуцирующий клапан поз.PCV-309 поступит в линию пилотных горелок с давлением около 0,5 кгс/см2.'),\n",
       " Document(metadata={'source': 'data/data_processing/РАЗДЕЛ 6/РАЗДЕЛ 6.docx', 'category_depth': 0, 'file_directory': 'data/data_processing/РАЗДЕЛ 6', 'filename': 'РАЗДЕЛ 6.docx', 'last_modified': '2025-07-08T17:17:29', 'languages': ['rus'], 'filetype': 'application/vnd.openxmlformats-officedocument.wordprocessingml.document', 'parent_id': '4a54b629a6363eb474ebb8cfeeabb347', 'category': 'ListItem', 'element_id': '06132c54da90faacda4aed2797f91029'}, page_content='Продуть паром камеры сгорания печи Н-201А,В,С. Продувку топочного пространства, считая с момента открытия последней задвижки до момента появления пара из домовой трубы, необходимо вести в течение не менее 15 минут.'),\n",
       " Document(metadata={'source': 'data/data_processing/РАЗДЕЛ 6/РАЗДЕЛ 6.docx', 'category_depth': 0, 'file_directory': 'data/data_processing/РАЗДЕЛ 6', 'filename': 'РАЗДЕЛ 6.docx', 'last_modified': '2025-07-08T17:17:29', 'languages': ['rus'], 'filetype': 'application/vnd.openxmlformats-officedocument.wordprocessingml.document', 'parent_id': '4a54b629a6363eb474ebb8cfeeabb347', 'category': 'ListItem', 'element_id': '27fcd853ee7e1d375519747650417b9f'}, page_content='Демонтировать заглушки с пилотных горелок печи Н-201 А,В,С.'),\n",
       " Document(metadata={'source': 'data/data_processing/РАЗДЕЛ 6/РАЗДЕЛ 6.docx', 'category_depth': 0, 'file_directory': 'data/data_processing/РАЗДЕЛ 6', 'filename': 'РАЗДЕЛ 6.docx', 'last_modified': '2025-07-08T17:17:29', 'languages': ['rus'], 'filetype': 'application/vnd.openxmlformats-officedocument.wordprocessingml.document', 'parent_id': '4a54b629a6363eb474ebb8cfeeabb347', 'category': 'ListItem', 'element_id': '948285c7f5735487924477bbf9c33bf8'}, page_content='Произвести розжиг пилотных горелок от ручных запальных горелок. Процедура розжига горелок описана ниже.'),\n",
       " Document(metadata={'source': 'data/data_processing/РАЗДЕЛ 6/РАЗДЕЛ 6.docx', 'category_depth': 0, 'file_directory': 'data/data_processing/РАЗДЕЛ 6', 'filename': 'РАЗДЕЛ 6.docx', 'last_modified': '2025-07-08T17:17:29', 'languages': ['rus'], 'filetype': 'application/vnd.openxmlformats-officedocument.wordprocessingml.document', 'parent_id': '4a54b629a6363eb474ebb8cfeeabb347', 'category': 'ListItem', 'element_id': 'ee7c17cac8ec441b4ecbc3c90796e145'}, page_content='Перед тем как будет подан топливный газ на основные горелки, необходимо приоткрыть регулирующие клапаны поз. PCV-303, PCV-304, PCV-305. Для этого контроллеры PIC-303, PIC-304 и PIC-305 на щите МСР должны быть установлены в режим ручного управления (статус М) и местной установки задания (статус L). Нажатием кнопок-стрелок установить исполнительные механизмы (клапаны) в положение открытия на 5-7%.'),\n",
       " Document(metadata={'source': 'data/data_processing/РАЗДЕЛ 6/РАЗДЕЛ 6.docx', 'category_depth': 0, 'file_directory': 'data/data_processing/РАЗДЕЛ 6', 'filename': 'РАЗДЕЛ 6.docx', 'last_modified': '2025-07-08T17:17:29', 'languages': ['rus'], 'filetype': 'application/vnd.openxmlformats-officedocument.wordprocessingml.document', 'parent_id': '4a54b629a6363eb474ebb8cfeeabb347', 'category': 'ListItem', 'element_id': '49e704e239c168d382c6e2504aeac47e'}, page_content='Нажать кнопку HSP-613 \"Включение основного газа\". Загорится лампа XL-617 «Газ на основные горелки включен». Одновременно клапаны-отсекатели поз. NV-501, NV-502 откроются, а клапан-отсекатель поз. NV-503 закроется.'),\n",
       " Document(metadata={'source': 'data/data_processing/РАЗДЕЛ 6/РАЗДЕЛ 6.docx', 'category_depth': 0, 'file_directory': 'data/data_processing/РАЗДЕЛ 6', 'filename': 'РАЗДЕЛ 6.docx', 'last_modified': '2025-07-08T17:17:29', 'languages': ['rus'], 'filetype': 'application/vnd.openxmlformats-officedocument.wordprocessingml.document', 'parent_id': '4a54b629a6363eb474ebb8cfeeabb347', 'category': 'ListItem', 'element_id': '90134c9abecefd48f05d55906de37fd2'}, page_content='Демонтировать заглушки и произвести розжиг основных горелок от пилотных.'),\n",
       " Document(metadata={'source': 'data/data_processing/РАЗДЕЛ 6/РАЗДЕЛ 6.docx', 'category_depth': 0, 'file_directory': 'data/data_processing/РАЗДЕЛ 6', 'filename': 'РАЗДЕЛ 6.docx', 'last_modified': '2025-07-08T17:17:29', 'languages': ['rus'], 'filetype': 'application/vnd.openxmlformats-officedocument.wordprocessingml.document', 'parent_id': '4a54b629a6363eb474ebb8cfeeabb347', 'category': 'ListItem', 'element_id': '8a6f69d6bcff9602b9d572e001e0082c'}, page_content='Нажать кнопку HSP-609 «Подтверждение аварии». При этом погаснет табло UA-601 «Остановка печей Н-201 А/В/С» на щите МСР.'),\n",
       " Document(metadata={'source': 'data/data_processing/РАЗДЕЛ 6/РАЗДЕЛ 6.docx', 'category_depth': 0, 'file_directory': 'data/data_processing/РАЗДЕЛ 6', 'filename': 'РАЗДЕЛ 6.docx', 'last_modified': '2025-07-08T17:17:29', 'languages': ['rus'], 'filetype': 'application/vnd.openxmlformats-officedocument.wordprocessingml.document', 'parent_id': '4a54b629a6363eb474ebb8cfeeabb347', 'category': 'ListItem', 'element_id': 'b029899eaae9fbfd154617f60094a0ca'}, page_content='С помощью регуляторов поз. PIC-303, PIC-304, PIC-305 установить необходимое давление газа на основных горелках печей, следя за ростом температуры в печах. После этого регуляторы поз. PIC-303, PIC-304, PIC-305 перевести в режим автоматического управления. (В дальнейшем управление клапанами поз. PV-303, PV-304, PV-305 может быть переведено на каскад от регуляторов поз. TIC-203, TIC-204, TIC-205).'),\n",
       " Document(metadata={'source': 'data/data_processing/РАЗДЕЛ 6/РАЗДЕЛ 6.docx', 'category_depth': 0, 'file_directory': 'data/data_processing/РАЗДЕЛ 6', 'filename': 'РАЗДЕЛ 6.docx', 'last_modified': '2025-07-08T17:17:29', 'languages': ['rus'], 'filetype': 'application/vnd.openxmlformats-officedocument.wordprocessingml.document', 'parent_id': '4a54b629a6363eb474ebb8cfeeabb347', 'category': 'ListItem', 'element_id': 'f8fdd2dc68601b957b4569f9438e03c6'}, page_content='Медленно приоткрывая клапан регулятор поз. TV-251 подать пар в межтрубное пространство теплообменника Е-210 незначительным расходом для прогрева в течении 30 минут. После прогрева теплообменника с помощью регулятора поз. TIC-251/1 доводим значение показания температуры топливного газа поз. TR-251/2 до регламентного значения. Термопара поз. TE-251/1 расположена на линии выхода топливного газа из трубного пространства теплообменника Е-210.'),\n",
       " Document(metadata={'source': 'data/data_processing/РАЗДЕЛ 6/РАЗДЕЛ 6.docx', 'category_depth': 0, 'file_directory': 'data/data_processing/РАЗДЕЛ 6', 'filename': 'РАЗДЕЛ 6.docx', 'last_modified': '2025-07-08T17:17:29', 'languages': ['rus'], 'filetype': 'application/vnd.openxmlformats-officedocument.wordprocessingml.document', 'parent_id': '4a54b629a6363eb474ebb8cfeeabb347', 'category': 'ListItem', 'element_id': '45f05f36088c6adbdb4382b5e9709ed1'}, page_content='После устойчивого горения пламени на всех горелках печей Н-201А,В,С и стабилизации давления после регулирующих клапанов поз. PIC-303, PIC-304, PIC-305 проверяют нормы технологического процесса по печам. При соответствии их регламентному повернуть ключ SA-1 в исходное положение – схема блокировок перейдет в рабочее состояние. При этом погаснет табло в помещении операторной и погаснет сигнальная лампа XL-618 на местном щите управления печами.'),\n",
       " Document(metadata={'source': 'data/data_processing/РАЗДЕЛ 6/РАЗДЕЛ 6.docx', 'category_depth': 0, 'emphasized_text_contents': ['При розжиге горелок нужно придерживаться следующего порядка:'], 'emphasized_text_tags': ['b'], 'file_directory': 'data/data_processing/РАЗДЕЛ 6', 'filename': 'РАЗДЕЛ 6.docx', 'last_modified': '2025-07-08T17:17:29', 'languages': ['rus'], 'filetype': 'application/vnd.openxmlformats-officedocument.wordprocessingml.document', 'parent_id': '4a54b629a6363eb474ebb8cfeeabb347', 'category': 'UncategorizedText', 'element_id': 'bfc0c7ed4b792467a53411241b07ab2c'}, page_content='При розжиге горелок нужно придерживаться следующего порядка:'),\n",
       " Document(metadata={'source': 'data/data_processing/РАЗДЕЛ 6/РАЗДЕЛ 6.docx', 'category_depth': 0, 'file_directory': 'data/data_processing/РАЗДЕЛ 6', 'filename': 'РАЗДЕЛ 6.docx', 'last_modified': '2025-07-08T17:17:29', 'languages': ['rus'], 'filetype': 'application/vnd.openxmlformats-officedocument.wordprocessingml.document', 'parent_id': '4a54b629a6363eb474ebb8cfeeabb347', 'category': 'NarrativeText', 'element_id': '7ce832517f9bcb322bf1d26864abde94'}, page_content='Постепенно открывают газовый кран запальника и спичкой разжигают его. При достижении устойчивого горения газа, выходящего из запальника, последний вводят в специальное запальное отверстие в горелке. Постепенно открывают газовый кран на линии пилотного газа одной из горелок печи при этом воздухорегулировочная шайба пилотной горелки должна быть закрыта. После воспламенения газа отрегулировать воздухорегулировочную шайбу инжекционного механизма пилотной горелки для подачи воздуха.'),\n",
       " Document(metadata={'source': 'data/data_processing/РАЗДЕЛ 6/РАЗДЕЛ 6.docx', 'category_depth': 0, 'file_directory': 'data/data_processing/РАЗДЕЛ 6', 'filename': 'РАЗДЕЛ 6.docx', 'last_modified': '2025-07-08T17:17:29', 'languages': ['rus'], 'filetype': 'application/vnd.openxmlformats-officedocument.wordprocessingml.document', 'parent_id': '4a54b629a6363eb474ebb8cfeeabb347', 'category': 'NarrativeText', 'element_id': '692fd456624fab21a6367509bf540cbb'}, page_content='При подаче воздуха необходимо следить за процессом сгорания газа: если процесс идет нормально, то пламя прозрачное и имеет голубоватый цвет; если пламя мутное и имеет желтые языки, то это свидетельствует о недостатке воздуха. В этом случае необходимо постепенно увеличить подачу воздуха до получения нормального горения.'),\n",
       " Document(metadata={'source': 'data/data_processing/РАЗДЕЛ 6/РАЗДЕЛ 6.docx', 'category_depth': 0, 'file_directory': 'data/data_processing/РАЗДЕЛ 6', 'filename': 'РАЗДЕЛ 6.docx', 'last_modified': '2025-07-08T17:17:29', 'languages': ['rus'], 'filetype': 'application/vnd.openxmlformats-officedocument.wordprocessingml.document', 'parent_id': '4a54b629a6363eb474ebb8cfeeabb347', 'category': 'UncategorizedText', 'element_id': '5cbcdb216dbcbf66fdf32ca894a9a7cd'}, page_content='При срыве пламени или его погасании на запальнике необходимо закрыть газовый кран на трубопроводе пилотного газа и закрыть кран на линии запальника, вынуть его из печи и вновь провентилировать печь для удаления газовоздушной смеси, при трех неудачных попытках розжига запальных горелок необходимо, отглушить горелки печей и провести повторную продувку паром топочного пространства печи Н-201А,В,С. '),\n",
       " Document(metadata={'source': 'data/data_processing/РАЗДЕЛ 6/РАЗДЕЛ 6.docx', 'category_depth': 0, 'file_directory': 'data/data_processing/РАЗДЕЛ 6', 'filename': 'РАЗДЕЛ 6.docx', 'last_modified': '2025-07-08T17:17:29', 'languages': ['rus'], 'filetype': 'application/vnd.openxmlformats-officedocument.wordprocessingml.document', 'parent_id': '4a54b629a6363eb474ebb8cfeeabb347', 'category': 'UncategorizedText', 'element_id': 'd0b54ff53e2eec1705476093468a652c'}, page_content='По окончании розжига пилотных горелок запальник необходимо вынуть из печи, перекрыть кран на линии подачи газа к запальнику и повесить запальник около печи. '),\n",
       " Document(metadata={'source': 'data/data_processing/РАЗДЕЛ 6/РАЗДЕЛ 6.docx', 'category_depth': 0, 'file_directory': 'data/data_processing/РАЗДЕЛ 6', 'filename': 'РАЗДЕЛ 6.docx', 'last_modified': '2025-07-08T17:17:29', 'languages': ['rus'], 'filetype': 'application/vnd.openxmlformats-officedocument.wordprocessingml.document', 'parent_id': '4a54b629a6363eb474ebb8cfeeabb347', 'category': 'UncategorizedText', 'element_id': '328118c92399db999ce8b1c8f2484c62'}, page_content='При устойчивом горении газа из пилотной горелки, демонтируют заглушки перед основными горелками, после снятия заглушек постепенно открывают кран на трубопроводе основного топливного газа, чтобы выходящий из горелки газ воспламенился.'),\n",
       " Document(metadata={'source': 'data/data_processing/РАЗДЕЛ 6/РАЗДЕЛ 6.docx', 'category_depth': 0, 'file_directory': 'data/data_processing/РАЗДЕЛ 6', 'filename': 'РАЗДЕЛ 6.docx', 'last_modified': '2025-07-08T17:17:29', 'languages': ['rus'], 'filetype': 'application/vnd.openxmlformats-officedocument.wordprocessingml.document', 'parent_id': '4a54b629a6363eb474ebb8cfeeabb347', 'category': 'NarrativeText', 'element_id': '4895368a47b83f942eb4873972172dcf'}, page_content='После розжига всех основных горелок в печи приступают к демонтажу заглушек перед каскадными (экологическими) горелками. В процессе подъема температуры продукта на выходе из печи следят за характером горения пламени в топке, а также за давлением топливного газа перед горелками печей. При увеличении давления топливного газа более 0,9 кгс/см2, во избежание срыва пламени и формирования вертикального пламени, приступают к поочередному розжигу экологических горелок, с такой скоростью, чтобы давление топливного газа не понижалась менее 0,1 кгс/см2.'),\n",
       " Document(metadata={'source': 'data/data_processing/РАЗДЕЛ 6/РАЗДЕЛ 6.docx', 'category_depth': 0, 'file_directory': 'data/data_processing/РАЗДЕЛ 6', 'filename': 'РАЗДЕЛ 6.docx', 'last_modified': '2025-07-08T17:17:29', 'languages': ['rus'], 'filetype': 'application/vnd.openxmlformats-officedocument.wordprocessingml.document', 'parent_id': '4a54b629a6363eb474ebb8cfeeabb347', 'category': 'UncategorizedText', 'element_id': 'ffda083b7f6aba0b8fddf2f122e469d2'}, page_content='Для наблюдения за факелом пилотной горелки, основной и экологической горелки необходимо пользоваться смотровым окном или окном для разжигания.'),\n",
       " Document(metadata={'source': 'data/data_processing/РАЗДЕЛ 6/РАЗДЕЛ 6.docx', 'category_depth': 0, 'file_directory': 'data/data_processing/РАЗДЕЛ 6', 'filename': 'РАЗДЕЛ 6.docx', 'last_modified': '2025-07-08T17:17:29', 'languages': ['rus'], 'filetype': 'application/vnd.openxmlformats-officedocument.wordprocessingml.document', 'parent_id': '4a54b629a6363eb474ebb8cfeeabb347', 'category': 'UncategorizedText', 'element_id': 'd1cb8e209825778fb05c9c27430f3161'}, page_content='Категорически запрещается зажигать горелку от соседней.'),\n",
       " Document(metadata={'source': 'data/data_processing/РАЗДЕЛ 6/РАЗДЕЛ 6.docx', 'category_depth': 0, 'file_directory': 'data/data_processing/РАЗДЕЛ 6', 'filename': 'РАЗДЕЛ 6.docx', 'last_modified': '2025-07-08T17:17:29', 'languages': ['rus'], 'filetype': 'application/vnd.openxmlformats-officedocument.wordprocessingml.document', 'parent_id': '4a54b629a6363eb474ebb8cfeeabb347', 'category': 'NarrativeText', 'element_id': '88e416415af7a8271e8ae7eeca9c588a'}, page_content='После того как топливо загорелось, надо отрегулировать горелку на устойчивую работу с небольшой производительностью. Регулировка осуществляется путем постепенной подачи топливного газа регулирующими клапанами, а также открытием или закрытием заслонок на диффузоре  для достижения четко очерченного факела. '),\n",
       " Document(metadata={'source': 'data/data_processing/РАЗДЕЛ 6/РАЗДЕЛ 6.docx', 'category_depth': 0, 'file_directory': 'data/data_processing/РАЗДЕЛ 6', 'filename': 'РАЗДЕЛ 6.docx', 'last_modified': '2025-07-08T17:17:29', 'languages': ['rus'], 'filetype': 'application/vnd.openxmlformats-officedocument.wordprocessingml.document', 'parent_id': '4a54b629a6363eb474ebb8cfeeabb347', 'category': 'NarrativeText', 'element_id': 'fee616fd1f0bec519581068590e908a4'}, page_content='Следуя вышеописанной процедуре, разжигаются все остальные горелки печей. Разжигать горелки надо крест на крест. Производительность горелки должна быть небольшой, но режим горения устойчивый. Увеличивать интенсивность горения следует только после включения в работу всех горелок с тем, чтобы заданный температурный режим достигался равномерным горением топлива по всему периметру.'),\n",
       " Document(metadata={'source': 'data/data_processing/РАЗДЕЛ 6/РАЗДЕЛ 6.docx', 'category_depth': 0, 'file_directory': 'data/data_processing/РАЗДЕЛ 6', 'filename': 'РАЗДЕЛ 6.docx', 'last_modified': '2025-07-08T17:17:29', 'languages': ['rus'], 'filetype': 'application/vnd.openxmlformats-officedocument.wordprocessingml.document', 'parent_id': '4a54b629a6363eb474ebb8cfeeabb347', 'category': 'UncategorizedText', 'element_id': '521fd3243cce3eab7307d6b4cc64a704'}, page_content='Когда пуск печи осуществлен, то используя шиберы дымовых труб для регулирования тяги в печи и заслонку горелки для регулирования избытка воздуха, довести режимные параметры печи до регламентируемых параметров.'),\n",
       " Document(metadata={'source': 'data/data_processing/РАЗДЕЛ 6/РАЗДЕЛ 6.docx', 'category_depth': 0, 'emphasized_text_contents': ['6.2.2.2 Пуск блока риформинга'], 'emphasized_text_tags': ['b'], 'file_directory': 'data/data_processing/РАЗДЕЛ 6', 'filename': 'РАЗДЕЛ 6.docx', 'last_modified': '2025-07-08T17:17:29', 'languages': ['rus'], 'filetype': 'application/vnd.openxmlformats-officedocument.wordprocessingml.document', 'parent_id': '4a54b629a6363eb474ebb8cfeeabb347', 'category': 'UncategorizedText', 'element_id': 'a0b1a5e1fdc41ad40d9a4293d743cf49'}, page_content='6.2.2.2 Пуск блока риформинга'),\n",
       " Document(metadata={'source': 'data/data_processing/РАЗДЕЛ 6/РАЗДЕЛ 6.docx', 'category_depth': 0, 'file_directory': 'data/data_processing/РАЗДЕЛ 6', 'filename': 'РАЗДЕЛ 6.docx', 'last_modified': '2025-07-08T17:17:29', 'languages': ['rus'], 'filetype': 'application/vnd.openxmlformats-officedocument.wordprocessingml.document', 'parent_id': '4a54b629a6363eb474ebb8cfeeabb347', 'category': 'NarrativeText', 'element_id': '19ec279d13946c953c382ffe2a4c8c79'}, page_content='При начальном пуске и после проведения ремонтных работ проводится гидравлическое испытание змеевиков печей Н-201А, В, С на прочность и плотность. Перед пуском блока риформинга необходимо удалить воду из змеевиков печей. Для этого проводится сушка змеевиков печей.'),\n",
       " Document(metadata={'source': 'data/data_processing/РАЗДЕЛ 6/РАЗДЕЛ 6.docx', 'category_depth': 0, 'file_directory': 'data/data_processing/РАЗДЕЛ 6', 'filename': 'РАЗДЕЛ 6.docx', 'last_modified': '2025-07-08T17:17:29', 'languages': ['rus'], 'filetype': 'application/vnd.openxmlformats-officedocument.wordprocessingml.document', 'parent_id': '4a54b629a6363eb474ebb8cfeeabb347', 'category': 'UncategorizedText', 'element_id': '3dc9286b468414b00654ff6f9cc74096'}, page_content='Установить заглушки с \"усами\" на выходе из R-204; на входе и выходе R-201, R-202; на входе R-203.'),\n",
       " Document(metadata={'source': 'data/data_processing/РАЗДЕЛ 6/РАЗДЕЛ 6.docx', 'category_depth': 0, 'file_directory': 'data/data_processing/РАЗДЕЛ 6', 'filename': 'РАЗДЕЛ 6.docx', 'last_modified': '2025-07-08T17:17:29', 'languages': ['rus'], 'filetype': 'application/vnd.openxmlformats-officedocument.wordprocessingml.document', 'parent_id': '4a54b629a6363eb474ebb8cfeeabb347', 'category': 'NarrativeText', 'element_id': '80de1da0516b3651db82868c4bf92dd6'}, page_content='Разжечь печи Н-201А, В, С согласно раздела 6.2.2.1. Со скоростью 25°С в час поднять температуру дымовых газов на перевалах печей до 155°С, после чего сделать выдержку. После прекращения парения из фланцев, убрать \"усы\" на заглушках: выход из R-204, R-201, R-202. Подать воздух (азот) в змеевики печей.'),\n",
       " Document(metadata={'source': 'data/data_processing/РАЗДЕЛ 6/РАЗДЕЛ 6.docx', 'category_depth': 0, 'file_directory': 'data/data_processing/РАЗДЕЛ 6', 'filename': 'РАЗДЕЛ 6.docx', 'last_modified': '2025-07-08T17:17:29', 'languages': ['rus'], 'filetype': 'application/vnd.openxmlformats-officedocument.wordprocessingml.document', 'parent_id': '4a54b629a6363eb474ebb8cfeeabb347', 'category': 'NarrativeText', 'element_id': 'e310fe69041127f9ab2ee9f71cd40b4b'}, page_content='При температуре дымовых газов 155°С сделать выдержку в течение 4-х часов. После выдержки, в течение 4-х часов, со скоростью 15°С в час, поднять температуру дымовых газов до 205°С, после чего сделать выдержку в течение 4-х часов при этом периодически вести продувку змеевиков, закрывая воздух (азот) в змеевики то одной, то другой печи; после окончания выдержки открыть воздух (азот) в змеевики всех печей. Со скоростью 25°С в час поднять температуру дымовых газов до 255°С, сделать выдержку в течение 4-х часов, после чего потушить печи. Продолжать продувку змеевиков воздухом (азотом) для охлаждения фланцев до температуры ~40°C, после чего перекрыть подачу воздуха (азота) в змеевики.'),\n",
       " Document(metadata={'source': 'data/data_processing/РАЗДЕЛ 6/РАЗДЕЛ 6.docx', 'category_depth': 0, 'file_directory': 'data/data_processing/РАЗДЕЛ 6', 'filename': 'РАЗДЕЛ 6.docx', 'last_modified': '2025-07-08T17:17:29', 'languages': ['rus'], 'filetype': 'application/vnd.openxmlformats-officedocument.wordprocessingml.document', 'parent_id': '4a54b629a6363eb474ebb8cfeeabb347', 'category': 'UncategorizedText', 'element_id': '66db0cfbf633c65c0356609ada0e42a6'}, page_content='Снять заглушки на выходе из R-204, на входе и выходе R-201, R-202 и на входе в R-203.'),\n",
       " Document(metadata={'source': 'data/data_processing/РАЗДЕЛ 6/РАЗДЕЛ 6.docx', 'category_depth': 0, 'file_directory': 'data/data_processing/РАЗДЕЛ 6', 'filename': 'РАЗДЕЛ 6.docx', 'last_modified': '2025-07-08T17:17:29', 'languages': ['rus'], 'filetype': 'application/vnd.openxmlformats-officedocument.wordprocessingml.document', 'parent_id': '4a54b629a6363eb474ebb8cfeeabb347', 'category': 'UncategorizedText', 'element_id': '75b472ac8d99af84c1cd3709faae8e5e'}, page_content='Примерный график сушки змеевиков приведен на рис. 6.1.'),\n",
       " Document(metadata={'source': 'data/data_processing/РАЗДЕЛ 6/РАЗДЕЛ 6.docx', 'category_depth': 0, 'file_directory': 'data/data_processing/РАЗДЕЛ 6', 'filename': 'РАЗДЕЛ 6.docx', 'last_modified': '2025-07-08T17:17:29', 'languages': ['rus'], 'filetype': 'application/vnd.openxmlformats-officedocument.wordprocessingml.document', 'parent_id': '4a54b629a6363eb474ebb8cfeeabb347', 'category': 'NarrativeText', 'element_id': '4f1e70739537c1f901cf257dd2675c6a'}, page_content='После снятия заглушек и проведения подготовительных работ принять азот на реакторный блок. Подать азот в выкидной коллектор компрессоров К-201А, В с последующей сдувкой с приемной линии, через клапан поз. PIC-306, на свечу. Одновременно с продувкой реакторного блока набрать давление для его опрессовки. Обмыливание, при опрессовке, производить при ступенчатом поднятии давления: 5 кг/см2, 10 кг/см2, 15 кг/см2, 18 кг/см2. Это делается для своевременного обнаружения пропусков и их устранения с наименьшей потерей времени и азота.'),\n",
       " Document(metadata={'source': 'data/data_processing/РАЗДЕЛ 6/РАЗДЕЛ 6.docx', 'category_depth': 0, 'file_directory': 'data/data_processing/РАЗДЕЛ 6', 'filename': 'РАЗДЕЛ 6.docx', 'header_footer_type': 'primary', 'languages': ['rus'], 'filetype': 'application/vnd.openxmlformats-officedocument.wordprocessingml.document', 'category': 'Header', 'element_id': '9af9e191bcdc7899b26899619212653a'}, page_content='ТР-6100-20368-08-2010'),\n",
       " Document(metadata={'source': 'data/data_processing/РАЗДЕЛ 6/РАЗДЕЛ 6.docx', 'category_depth': 0, 'file_directory': 'data/data_processing/РАЗДЕЛ 6', 'filename': 'РАЗДЕЛ 6.docx', 'header_footer_type': 'primary', 'languages': ['rus'], 'filetype': 'application/vnd.openxmlformats-officedocument.wordprocessingml.document', 'category': 'Header', 'element_id': 'bc7b99af62cb8406cb2207cdf452bdbb'}, page_content='ТР-6100-20368-08-2010'),\n",
       " Document(metadata={'source': 'data/data_processing/РАЗДЕЛ 6/РАЗДЕЛ 6.docx', 'category_depth': 0, 'file_directory': 'data/data_processing/РАЗДЕЛ 6', 'filename': 'РАЗДЕЛ 6.docx', 'last_modified': '2025-07-08T17:17:29', 'languages': ['rus'], 'filetype': 'application/vnd.openxmlformats-officedocument.wordprocessingml.document', 'parent_id': 'bc7b99af62cb8406cb2207cdf452bdbb', 'category': 'UncategorizedText', 'element_id': '71004b21446af21341d8a07dcf6b0f25'}, page_content='После окончания опрессовки и сушки змеевиков печей Н-201A,B,C реакторный блок готов к пуску.'),\n",
       " Document(metadata={'source': 'data/data_processing/РАЗДЕЛ 6/РАЗДЕЛ 6.docx', 'category_depth': 0, 'file_directory': 'data/data_processing/РАЗДЕЛ 6', 'filename': 'РАЗДЕЛ 6.docx', 'last_modified': '2025-07-08T17:17:29', 'languages': ['rus'], 'filetype': 'application/vnd.openxmlformats-officedocument.wordprocessingml.document', 'parent_id': 'bc7b99af62cb8406cb2207cdf452bdbb', 'category': 'NarrativeText', 'element_id': 'd05c49e0dd2bfdca4aa996a47a254f3e'}, page_content='Понизить давление азота на реакторном блоке до 5кгс/см2. Подготовить к пуску один из компрессоров К-201А, К-201В. Открыть полностью клапан поз. FIC-406, а клапан поз. FIC-405 прикрыть оставив открытым его на 30%. Включить в работу компрессор К-201А или К-201 В и наладить циркуляцию газа по пусковой схеме:'),\n",
       " Document(metadata={'source': 'data/data_processing/РАЗДЕЛ 6/РАЗДЕЛ 6.docx', 'category_depth': 0, 'file_directory': 'data/data_processing/РАЗДЕЛ 6', 'filename': 'РАЗДЕЛ 6.docx', 'last_modified': '2025-07-08T17:17:29', 'languages': ['rus'], 'filetype': 'application/vnd.openxmlformats-officedocument.wordprocessingml.document', 'parent_id': 'bc7b99af62cb8406cb2207cdf452bdbb', 'category': 'UncategorizedText', 'element_id': 'da8417f647c9e31c25740d4dd3c42bc6'}, page_content='К-201 А, В -––– АС-201 А -––– V-201 -––– К-201 А, В'),\n",
       " Document(metadata={'source': 'data/data_processing/РАЗДЕЛ 6/РАЗДЕЛ 6.docx', 'category_depth': 0, 'file_directory': 'data/data_processing/РАЗДЕЛ 6', 'filename': 'РАЗДЕЛ 6.docx', 'last_modified': '2025-07-08T17:17:29', 'languages': ['rus'], 'filetype': 'application/vnd.openxmlformats-officedocument.wordprocessingml.document', 'parent_id': 'bc7b99af62cb8406cb2207cdf452bdbb', 'category': 'NarrativeText', 'element_id': '27a992dba3f35f2c8b4a175560a27a24'}, page_content='После налаживания устойчивой циркуляции перевести расход газа в систему, для чего: постепенно закрыть клапан поз.FIC-406, оставив его открытым на 2,5-3% для прогрева пусковой линии, постепенно открыть клапан поз. FIC-405, открытие клапана поз. FIC-405 и закрытие клапана поз. FIC-406 производить одновременно, и наладить циркуляцию газа по схеме:'),\n",
       " Document(metadata={'source': 'data/data_processing/РАЗДЕЛ 6/РАЗДЕЛ 6.docx', 'category_depth': 0, 'file_directory': 'data/data_processing/РАЗДЕЛ 6', 'filename': 'РАЗДЕЛ 6.docx', 'last_modified': '2025-07-08T17:17:29', 'languages': ['rus'], 'filetype': 'application/vnd.openxmlformats-officedocument.wordprocessingml.document', 'parent_id': 'bc7b99af62cb8406cb2207cdf452bdbb', 'category': 'UncategorizedText', 'element_id': '6d101e32f2342903302ff40e1b0021b0'}, page_content='К-201А, В  Е-201м.тр  Е-202м.тр  R-204  Н-201А  R-201'),\n",
       " Document(metadata={'source': 'data/data_processing/РАЗДЕЛ 6/РАЗДЕЛ 6.docx', 'category_depth': 0, 'file_directory': 'data/data_processing/РАЗДЕЛ 6', 'filename': 'РАЗДЕЛ 6.docx', 'last_modified': '2025-07-08T17:17:29', 'languages': ['rus'], 'filetype': 'application/vnd.openxmlformats-officedocument.wordprocessingml.document', 'parent_id': 'bc7b99af62cb8406cb2207cdf452bdbb', 'category': 'UncategorizedText', 'element_id': 'c1c694f8e31f055a47406e8f298828a5'}, page_content=' Н-201В  R-202 - Н-201С  R-203  Е-202тр  Е-201тр'),\n",
       " Document(metadata={'source': 'data/data_processing/РАЗДЕЛ 6/РАЗДЕЛ 6.docx', 'category_depth': 0, 'file_directory': 'data/data_processing/РАЗДЕЛ 6', 'filename': 'РАЗДЕЛ 6.docx', 'last_modified': '2025-07-08T17:17:29', 'languages': ['rus'], 'filetype': 'application/vnd.openxmlformats-officedocument.wordprocessingml.document', 'parent_id': 'bc7b99af62cb8406cb2207cdf452bdbb', 'category': 'UncategorizedText', 'element_id': 'cc07c2ca18243787044d52bb534ec309'}, page_content=' АС-201А  V-201  К-201А, В'),\n",
       " Document(metadata={'source': 'data/data_processing/РАЗДЕЛ 6/РАЗДЕЛ 6.docx', 'category_depth': 0, 'file_directory': 'data/data_processing/РАЗДЕЛ 6', 'filename': 'РАЗДЕЛ 6.docx', 'last_modified': '2025-07-08T17:17:29', 'languages': ['rus'], 'filetype': 'application/vnd.openxmlformats-officedocument.wordprocessingml.document', 'parent_id': 'bc7b99af62cb8406cb2207cdf452bdbb', 'category': 'NarrativeText', 'element_id': 'adf376e38f262cfcb63f56bae71401f7'}, page_content='После налаживания устойчивой циркуляции проверить азот в системе на содержание кислорода, водорода и углеводородов. Содержание кислорода и горючих газов не должно превышать значения 0,5% об. для каждого.'),\n",
       " Document(metadata={'source': 'data/data_processing/РАЗДЕЛ 6/РАЗДЕЛ 6.docx', 'category_depth': 0, 'file_directory': 'data/data_processing/РАЗДЕЛ 6', 'filename': 'РАЗДЕЛ 6.docx', 'last_modified': '2025-07-08T17:17:29', 'languages': ['rus'], 'filetype': 'application/vnd.openxmlformats-officedocument.wordprocessingml.document', 'parent_id': 'bc7b99af62cb8406cb2207cdf452bdbb', 'category': 'UncategorizedText', 'element_id': '0b9ec81336e21cf3ddb34e6d29d474af'}, page_content='Если значения будут выше, необходима дальнейшая продувка системы реакторного блока азотом до получения удовлетворительного анализа.'),\n",
       " Document(metadata={'source': 'data/data_processing/РАЗДЕЛ 6/РАЗДЕЛ 6.docx', 'category_depth': 0, 'file_directory': 'data/data_processing/РАЗДЕЛ 6', 'filename': 'РАЗДЕЛ 6.docx', 'last_modified': '2025-07-08T17:17:29', 'languages': ['rus'], 'filetype': 'application/vnd.openxmlformats-officedocument.wordprocessingml.document', 'parent_id': 'bc7b99af62cb8406cb2207cdf452bdbb', 'category': 'UncategorizedText', 'element_id': 'a4c3417b14f53988c07b1d8aa7e242ca'}, page_content='Постоянно дренировать воду с V-201 и дренажей теплообменников.'),\n",
       " Document(metadata={'source': 'data/data_processing/РАЗДЕЛ 6/РАЗДЕЛ 6.docx', 'category_depth': 0, 'file_directory': 'data/data_processing/РАЗДЕЛ 6', 'filename': 'РАЗДЕЛ 6.docx', 'last_modified': '2025-07-08T17:17:29', 'languages': ['rus'], 'filetype': 'application/vnd.openxmlformats-officedocument.wordprocessingml.document', 'parent_id': 'bc7b99af62cb8406cb2207cdf452bdbb', 'category': 'NarrativeText', 'element_id': '15a9f69ad54fcc2734dd4ed95926616c'}, page_content='После налаживания циркуляции начнет расти температура после воздушного холодильника АС-201 А. При достижении температуры 30°C включить в работу вентиляторы воздушного холодильника АС-201 A.'),\n",
       " Document(metadata={'source': 'data/data_processing/РАЗДЕЛ 6/РАЗДЕЛ 6.docx', 'category_depth': 0, 'file_directory': 'data/data_processing/РАЗДЕЛ 6', 'filename': 'РАЗДЕЛ 6.docx', 'last_modified': '2025-07-08T17:17:29', 'languages': ['rus'], 'filetype': 'application/vnd.openxmlformats-officedocument.wordprocessingml.document', 'parent_id': 'bc7b99af62cb8406cb2207cdf452bdbb', 'category': 'NarrativeText', 'element_id': '5f464577da2360ce7d43fc6173eb432a'}, page_content='Температуру после АС-201 А держать как можно ниже, т.к. из-за большой плотности азота температура на нагнетании К-201 А, В будет высокая.'),\n",
       " Document(metadata={'source': 'data/data_processing/РАЗДЕЛ 6/РАЗДЕЛ 6.docx', 'category_depth': 0, 'file_directory': 'data/data_processing/РАЗДЕЛ 6', 'filename': 'РАЗДЕЛ 6.docx', 'last_modified': '2025-07-08T17:17:29', 'languages': ['rus'], 'filetype': 'application/vnd.openxmlformats-officedocument.wordprocessingml.document', 'parent_id': 'bc7b99af62cb8406cb2207cdf452bdbb', 'category': 'NarrativeText', 'element_id': '9c57432768a3c5a2cf1096cedd6f19ba'}, page_content='После ремонтных работ, связанных с разгерметизацией системы реакторного блока, а также перегрузкой катализаторов, необходима процедура удаления накопившейся влаги на внутренних частях оборудования и поверхности катализатора. Для удаления влаги необходимо провести сушку катализаторов.'),\n",
       " Document(metadata={'source': 'data/data_processing/РАЗДЕЛ 6/РАЗДЕЛ 6.docx', 'category_depth': 0, 'file_directory': 'data/data_processing/РАЗДЕЛ 6', 'filename': 'РАЗДЕЛ 6.docx', 'last_modified': '2025-07-08T17:17:29', 'languages': ['rus'], 'filetype': 'application/vnd.openxmlformats-officedocument.wordprocessingml.document', 'parent_id': 'bc7b99af62cb8406cb2207cdf452bdbb', 'category': 'NarrativeText', 'element_id': '9f39a7f27098e3b8ff643f0a45aaa782'}, page_content='Сушку катализаторов необходимо вести ориентируясь по температурам на входе в реактора R-201–R-203. Примерный график сушки катализаторов приведен на рис.6.2.'),\n",
       " Document(metadata={'source': 'data/data_processing/РАЗДЕЛ 6/РАЗДЕЛ 6.docx', 'category_depth': 0, 'file_directory': 'data/data_processing/РАЗДЕЛ 6', 'filename': 'РАЗДЕЛ 6.docx', 'last_modified': '2025-07-08T17:17:29', 'languages': ['rus'], 'filetype': 'application/vnd.openxmlformats-officedocument.wordprocessingml.document', 'parent_id': 'bc7b99af62cb8406cb2207cdf452bdbb', 'category': 'UncategorizedText', 'element_id': '4586d98fa8a074f3ab9d0a48eb6a9947'}, page_content='После налаживания устойчивой циркуляции газа компрессорами К-201А, В разжечь печи Н-201 А, В, С согласно инструкции по пуску и эксплуатации печей.'),\n",
       " Document(metadata={'source': 'data/data_processing/РАЗДЕЛ 6/РАЗДЕЛ 6.docx', 'category_depth': 0, 'file_directory': 'data/data_processing/РАЗДЕЛ 6', 'filename': 'РАЗДЕЛ 6.docx', 'last_modified': '2025-07-08T17:17:29', 'languages': ['rus'], 'filetype': 'application/vnd.openxmlformats-officedocument.wordprocessingml.document', 'parent_id': 'bc7b99af62cb8406cb2207cdf452bdbb', 'category': 'NarrativeText', 'element_id': 'e39f8e1dbbb96f296022c6accf76244c'}, page_content='Поднять ступенчато температуру на входе в реакторы R-201, R-202, R-203 до 150 °C со скоростью 15 °C в час. При достижении температуры прогрева катализаторов 100 °C  постоянно (каждый час) проверять выход воды из сепаратора V-201. При количестве воды примерно 5 литров и более сделать выдержку до прекращения поступления воды. После прекращения выделения воды со скоростью 15°С в час поднять температуру на входе в реакторы до 130 °С сделать выдержку, в течение 2-х часов, контролируя выход воды.  Поднять температуру на входе в реакторы  до 150 °C со скоростью 10°С в час, сделать выдержку в течение 6-ти часов, проверяя количество воды в V-201 каждый час. После выдержки в течение, 6-ти часов, если количество воды, сливаемое с V-201 также будет примерно 5 литров и более, продолжать выдержку до прекращения поступления воды, при отсутствии воды  поднять температуру на входе в реакторы до 200 °C со скоростью 12 градусов в час, контролируя количество воды в V-201 каждый час. При количестве воды 5 литров и более прекратить подъем температуры и сделать выдержку до прекращения поступления воды. Подняв температуру на входе в R-201, R-202, R-203 до 200 °C, сделать выдержку в течение 8-ми часов, проверяя количество воды из V-201 каждый час. После прекращения выделения воды, этап сушки считается законченным. В каждом конкретном случае все этапы конкретизируются распоряжением начальника установки.'),\n",
       " Document(metadata={'source': 'data/data_processing/РАЗДЕЛ 6/РАЗДЕЛ 6.docx', 'category_depth': 0, 'file_directory': 'data/data_processing/РАЗДЕЛ 6', 'filename': 'РАЗДЕЛ 6.docx', 'header_footer_type': 'primary', 'languages': ['rus'], 'filetype': 'application/vnd.openxmlformats-officedocument.wordprocessingml.document', 'category': 'Header', 'element_id': 'aa21a15e9f3d30960310bfc374eb2c78'}, page_content='ТР-6100-20368-08-2010'),\n",
       " Document(metadata={'source': 'data/data_processing/РАЗДЕЛ 6/РАЗДЕЛ 6.docx', 'category_depth': 0, 'emphasized_text_contents': ['рис. 6.2 График сушки катализаторов', 'рис. 6.2 График сушки катализаторов'], 'emphasized_text_tags': ['b', 'i'], 'file_directory': 'data/data_processing/РАЗДЕЛ 6', 'filename': 'РАЗДЕЛ 6.docx', 'last_modified': '2025-07-08T17:17:29', 'languages': ['rus'], 'filetype': 'application/vnd.openxmlformats-officedocument.wordprocessingml.document', 'parent_id': 'aa21a15e9f3d30960310bfc374eb2c78', 'category': 'UncategorizedText', 'element_id': '32b4471d879f89c6c15e20a1d4d41da2'}, page_content='рис. 6.2 График сушки катализаторов'),\n",
       " Document(metadata={'source': 'data/data_processing/РАЗДЕЛ 6/РАЗДЕЛ 6.docx', 'category_depth': 0, 'emphasized_text_contents': ['График приведен в файле', 'График приведен в файле', 'AutoCAD', 'AutoCAD'], 'emphasized_text_tags': ['b', 'i', 'b', 'i'], 'file_directory': 'data/data_processing/РАЗДЕЛ 6', 'filename': 'РАЗДЕЛ 6.docx', 'last_modified': '2025-07-08T17:17:29', 'languages': ['rus'], 'filetype': 'application/vnd.openxmlformats-officedocument.wordprocessingml.document', 'parent_id': 'aa21a15e9f3d30960310bfc374eb2c78', 'category': 'UncategorizedText', 'element_id': '7fda873e06420ad9e5b6194d54ebc929'}, page_content='График приведен в файле AutoCAD'),\n",
       " Document(metadata={'source': 'data/data_processing/РАЗДЕЛ 6/РАЗДЕЛ 6.docx', 'category_depth': 0, 'file_directory': 'data/data_processing/РАЗДЕЛ 6', 'filename': 'РАЗДЕЛ 6.docx', 'header_footer_type': 'primary', 'languages': ['rus'], 'filetype': 'application/vnd.openxmlformats-officedocument.wordprocessingml.document', 'category': 'Header', 'element_id': '2dc653488ee668cfe454e7104a2edb11'}, page_content='ТР-6100-20368-08-2010'),\n",
       " Document(metadata={'source': 'data/data_processing/РАЗДЕЛ 6/РАЗДЕЛ 6.docx', 'category_depth': 0, 'file_directory': 'data/data_processing/РАЗДЕЛ 6', 'filename': 'РАЗДЕЛ 6.docx', 'last_modified': '2025-07-08T17:17:29', 'languages': ['rus'], 'filetype': 'application/vnd.openxmlformats-officedocument.wordprocessingml.document', 'parent_id': '2dc653488ee668cfe454e7104a2edb11', 'category': 'UncategorizedText', 'element_id': '09c431161b8d0f97e7d53b1f5fed35e9'}, page_content='При температуре 200 °C и в момент выдержки сделать горячую обтяжку фланцевых соединений.'),\n",
       " Document(metadata={'source': 'data/data_processing/РАЗДЕЛ 6/РАЗДЕЛ 6.docx', 'category_depth': 0, 'file_directory': 'data/data_processing/РАЗДЕЛ 6', 'filename': 'РАЗДЕЛ 6.docx', 'last_modified': '2025-07-08T17:17:29', 'languages': ['rus'], 'filetype': 'application/vnd.openxmlformats-officedocument.wordprocessingml.document', 'parent_id': '2dc653488ee668cfe454e7104a2edb11', 'category': 'NarrativeText', 'element_id': '6510d0b819886298ac45a51117842d7a'}, page_content='После окончании горячей обтяжки фланцевых соединений реакторного блока отбирается анализ циркулирующего азота на содержание кислорода. При содержании в циркулирующем газе кислорода менее 0,5 % об., не прекращая циркуляции азота, плавно отключить от системы реактор R-204. '),\n",
       " Document(metadata={'source': 'data/data_processing/РАЗДЕЛ 6/РАЗДЕЛ 6.docx', 'category_depth': 0, 'file_directory': 'data/data_processing/РАЗДЕЛ 6', 'filename': 'РАЗДЕЛ 6.docx', 'last_modified': '2025-07-08T17:17:29', 'languages': ['rus'], 'filetype': 'application/vnd.openxmlformats-officedocument.wordprocessingml.document', 'parent_id': '2dc653488ee668cfe454e7104a2edb11', 'category': 'UncategorizedText', 'element_id': 'd78c3391fc26d09c8b7da66aa0e17e07'}, page_content='Для этого:'),\n",
       " Document(metadata={'source': 'data/data_processing/РАЗДЕЛ 6/РАЗДЕЛ 6.docx', 'category_depth': 0, 'file_directory': 'data/data_processing/РАЗДЕЛ 6', 'filename': 'РАЗДЕЛ 6.docx', 'last_modified': '2025-07-08T17:17:29', 'languages': ['rus'], 'filetype': 'application/vnd.openxmlformats-officedocument.wordprocessingml.document', 'parent_id': '2dc653488ee668cfe454e7104a2edb11', 'category': 'NarrativeText', 'element_id': '3a703c9b181ed3893e464248dcf7940e'}, page_content='а) приоткрыть немного задвижку, на байпасной линии реактора R-204 для постепенного прогрева линии;'),\n",
       " Document(metadata={'source': 'data/data_processing/РАЗДЕЛ 6/РАЗДЕЛ 6.docx', 'category_depth': 0, 'file_directory': 'data/data_processing/РАЗДЕЛ 6', 'filename': 'РАЗДЕЛ 6.docx', 'last_modified': '2025-07-08T17:17:29', 'languages': ['rus'], 'filetype': 'application/vnd.openxmlformats-officedocument.wordprocessingml.document', 'parent_id': '2dc653488ee668cfe454e7104a2edb11', 'category': 'NarrativeText', 'element_id': '49f442ae65e76c776247dc994f03a56f'}, page_content='б) после прогрева линии открыть байпасную задвижку полностью;'),\n",
       " Document(metadata={'source': 'data/data_processing/РАЗДЕЛ 6/РАЗДЕЛ 6.docx', 'category_depth': 0, 'file_directory': 'data/data_processing/РАЗДЕЛ 6', 'filename': 'РАЗДЕЛ 6.docx', 'last_modified': '2025-07-08T17:17:29', 'languages': ['rus'], 'filetype': 'application/vnd.openxmlformats-officedocument.wordprocessingml.document', 'parent_id': '2dc653488ee668cfe454e7104a2edb11', 'category': 'NarrativeText', 'element_id': '192b0606dc94f0e3bac84003a3c23aca'}, page_content='в) плавно закрыть задвижки: на входе в R-204, затем на выходе из R-204.'),\n",
       " Document(metadata={'source': 'data/data_processing/РАЗДЕЛ 6/РАЗДЕЛ 6.docx', 'category_depth': 0, 'emphasized_text_contents': ['6.2.2.3 Оксихлорирование катализатора'], 'emphasized_text_tags': ['b'], 'file_directory': 'data/data_processing/РАЗДЕЛ 6', 'filename': 'РАЗДЕЛ 6.docx', 'last_modified': '2025-07-08T17:17:29', 'languages': ['rus'], 'filetype': 'application/vnd.openxmlformats-officedocument.wordprocessingml.document', 'parent_id': '2dc653488ee668cfe454e7104a2edb11', 'category': 'UncategorizedText', 'element_id': '5531f4eeffb468edc5dfb51dcafd3546'}, page_content='6.2.2.3 Оксихлорирование катализатора'),\n",
       " Document(metadata={'source': 'data/data_processing/РАЗДЕЛ 6/РАЗДЕЛ 6.docx', 'category_depth': 0, 'file_directory': 'data/data_processing/РАЗДЕЛ 6', 'filename': 'РАЗДЕЛ 6.docx', 'last_modified': '2025-07-08T17:17:29', 'languages': ['rus'], 'filetype': 'application/vnd.openxmlformats-officedocument.wordprocessingml.document', 'parent_id': '2dc653488ee668cfe454e7104a2edb11', 'category': 'NarrativeText', 'element_id': '32d9d9faa6463adeaef21a0a49b7b2db'}, page_content='Для свежезагруженного катализатора риформинга проведение процесса оксихлорирования не требуется, т.к. данный процесс проведен на заводе при изготовлении катализатора.'),\n",
       " Document(metadata={'source': 'data/data_processing/РАЗДЕЛ 6/РАЗДЕЛ 6.docx', 'category_depth': 0, 'file_directory': 'data/data_processing/РАЗДЕЛ 6', 'filename': 'РАЗДЕЛ 6.docx', 'last_modified': '2025-07-08T17:17:29', 'languages': ['rus'], 'filetype': 'application/vnd.openxmlformats-officedocument.wordprocessingml.document', 'parent_id': '2dc653488ee668cfe454e7104a2edb11', 'category': 'NarrativeText', 'element_id': '37d05e68c77138260cf276068b6585d2'}, page_content='Если катализатор подвергся процессу регенерации, то в результате сгорания кокса из катализатора удалилось часть хлоридов. Типичный уровень хлоридов в катализаторе после регенерации составляет 0,2-0,3% масс. Окислительное хлорирование восстанавливает кислотную активность катализатора. Конечная массовая концентрация хлоридов в катализаторе после процесса восстановления равна 1,2% масс. Металлическая платина в процессе горения кокса становится агломерированной. После регенерации размеры кристаллов платины превышают 80 ангстрем. Обработка путем окислительного хлорирования восстанавливает дисперсную структуру металлической платины. В результате кристаллы платины уменьшаются и становятся меньше 15 ангстрем. Плохое состояние дисперсной структуры платины может привести в следующем рабочем цикле к ухудшению показателей стабильности и выхода продуктов. Основными коррозионно-агрессивными компонентами продуктов окислительного хлорирования является хлористый водород и хлор. На стадии окислительного хлорирования основным источником хлористого водорода и хлора в газе являются продукты горения хлорорганических соединений (дихлорэтана и др.). На стадии окислительного хлорирования концентрация HCl и Cl2 (в пересчете на HCl) в циркуляционном газе может достигать 700 мг/нм3. Основным фактором эффективной защиты является нейтрализация кислых продуктов водным раствором щелочи или соды. '),\n",
       " Document(metadata={'source': 'data/data_processing/РАЗДЕЛ 6/РАЗДЕЛ 6.docx', 'category_depth': 0, 'file_directory': 'data/data_processing/РАЗДЕЛ 6', 'filename': 'РАЗДЕЛ 6.docx', 'last_modified': '2025-07-08T17:17:29', 'languages': ['rus'], 'filetype': 'application/vnd.openxmlformats-officedocument.wordprocessingml.document', 'parent_id': '2dc653488ee668cfe454e7104a2edb11', 'category': 'NarrativeText', 'element_id': '7f0773a2b2ae56ab4edfe317794e729b'}, page_content='После отключения реактора R-204 поднять температуру на входе в реактора до 482°С со скоростью 25°С в час. При подъеме температуры непрерывно производить дренирование воды из сепаратора V-201. При достижении температуры 230°С произвести выдержку в течение 3 часов для контроля и полного удаления накопившейся влаги из сепаратора V-201, если количество воды сливаемое с V-201 будет значительное (выше одного литра и более, в час) продолжать выдержку до полного прекращения поступления воды, при отсутствии воды приступить к дальнейшему подъему температуры на входе в реакторы до 482 °C со скоростью 25 градусов в час.'),\n",
       " Document(metadata={'source': 'data/data_processing/РАЗДЕЛ 6/РАЗДЕЛ 6.docx', 'category_depth': 0, 'file_directory': 'data/data_processing/РАЗДЕЛ 6', 'filename': 'РАЗДЕЛ 6.docx', 'last_modified': '2025-07-08T17:17:29', 'languages': ['rus'], 'filetype': 'application/vnd.openxmlformats-officedocument.wordprocessingml.document', 'parent_id': '2dc653488ee668cfe454e7104a2edb11', 'category': 'NarrativeText', 'element_id': '398a8db795aa029fc84da42344278ed9'}, page_content='При достижении температуры 250 °С подать воздух на прием компрессоров К-201 А(В) для увеличения содержание кислорода в циркулирующем азоте в количестве 1,0 %об. В температурном интервале от 420°С до 482 °С произвести увеличение содержания кислорода в циркулирующем азоте до уровня 5,0 %об. При достижении температуры на входе в реакторы R-201, R-202, R-203  482°С  медленно увеличить концентрацию кислорода в циркулирующем газе до 10-12,0 % об. В период подъема температуры приготовить содовый раствор в емкости ТК-201 с рH=8,0-11,0. При достижении температуры 350 °С включить в работу насос Р-205 и наладить циркуляцию раствора по схеме:'),\n",
       " Document(metadata={'source': 'data/data_processing/РАЗДЕЛ 6/РАЗДЕЛ 6.docx', 'category_depth': 0, 'file_directory': 'data/data_processing/РАЗДЕЛ 6', 'filename': 'РАЗДЕЛ 6.docx', 'last_modified': '2025-07-08T17:17:29', 'languages': ['rus'], 'filetype': 'application/vnd.openxmlformats-officedocument.wordprocessingml.document', 'parent_id': '2dc653488ee668cfe454e7104a2edb11', 'category': 'NarrativeText', 'element_id': '540008ca092a6c095e6a4ba9f08e0ba0'}, page_content='с расходом не менее 4,5 м3/час.'),\n",
       " Document(metadata={'source': 'data/data_processing/РАЗДЕЛ 6/РАЗДЕЛ 6.docx', 'category_depth': 0, 'file_directory': 'data/data_processing/РАЗДЕЛ 6', 'filename': 'РАЗДЕЛ 6.docx', 'last_modified': '2025-07-08T17:17:29', 'languages': ['rus'], 'filetype': 'application/vnd.openxmlformats-officedocument.wordprocessingml.document', 'parent_id': '2dc653488ee668cfe454e7104a2edb11', 'category': 'NarrativeText', 'element_id': '60e2f9bc44c44c9614de1b20528bcf16'}, page_content='После подъема температуры на входе в реактор до 482 градусов сделать выдержку в течении 4-х часов. Если после выдержки в течении 4-х часов при 482 градусах падение концентрации составит менее 0,5% об., то можно переходить к оксихлорированию катализатора. Если падение концентрации составит более 0,5% об., то продолжать выдержку. Эта обработка воздухом делается для удаления остатков углеводородов, если они остались в системе реакторного блока после регенерации. Пары углеводородов, содержащихся в системе, будут проходить над катализатором и под воздействием высокой температуры разлагаться на СО2 и воду. Этот процесс и контролируется при закрытии кислорода в момент выдержки. Кроме того, если количество углеводородных паров большое, то содержание СО2 в циркулирующем газе может подняться до 8,0 9,0% об. Если концентрация СО2 будет расти и дальше, то требуется также продувка системы азотом.'),\n",
       " Document(metadata={'source': 'data/data_processing/РАЗДЕЛ 6/РАЗДЕЛ 6.docx', 'category_depth': 0, 'file_directory': 'data/data_processing/РАЗДЕЛ 6', 'filename': 'РАЗДЕЛ 6.docx', 'last_modified': '2025-07-08T17:17:29', 'languages': ['rus'], 'filetype': 'application/vnd.openxmlformats-officedocument.wordprocessingml.document', 'parent_id': '2dc653488ee668cfe454e7104a2edb11', 'category': 'NarrativeText', 'element_id': '186f7d00b295b845a164401d97d0a259'}, page_content='Реакторный блок готов к проведению оксихлорирования. Постоянно проверять газ на содержание СО2. Если содержание СО2 превышает 10% об., то необходимо провести продувку системы азотом, причем следить, чтобы не падала концентрация кислорода.'),\n",
       " Document(metadata={'source': 'data/data_processing/РАЗДЕЛ 6/РАЗДЕЛ 6.docx', 'category_depth': 0, 'file_directory': 'data/data_processing/РАЗДЕЛ 6', 'filename': 'РАЗДЕЛ 6.docx', 'last_modified': '2025-07-08T17:17:29', 'languages': ['rus'], 'filetype': 'application/vnd.openxmlformats-officedocument.wordprocessingml.document', 'parent_id': '2dc653488ee668cfe454e7104a2edb11', 'category': 'NarrativeText', 'element_id': '9e24e1cb4ff7835cefc1380ceff8b5b8'}, page_content='После подъема температуры на реакторном блоке в течение часа до 500 °С катализатор риформинга готов к проведению оксихлорирования. '),\n",
       " Document(metadata={'source': 'data/data_processing/РАЗДЕЛ 6/РАЗДЕЛ 6.docx', 'category_depth': 0, 'file_directory': 'data/data_processing/РАЗДЕЛ 6', 'filename': 'РАЗДЕЛ 6.docx', 'last_modified': '2025-07-08T17:17:29', 'languages': ['rus'], 'filetype': 'application/vnd.openxmlformats-officedocument.wordprocessingml.document', 'parent_id': '2dc653488ee668cfe454e7104a2edb11', 'category': 'NarrativeText', 'element_id': '84c86486b3dd27252c57a005e2464ab8'}, page_content='Залить в V-204 расчетное количество четыреххлористого углерода (дихлорэтана). Поднять давление азота в V-204 до 12-14 кг/см2. Подачу хлорорганического раствора вести отдельно в каждый реактор в последовательности от последнего к первому при температуре 500 °С в течение приблизительно 3 часов с такой скоростью чтобы температура на выходе из реактора была не более 510°С. Углерод и водород, имеющиеся в хлорирующем реагенте будут окисляться до двуокиси углерода (СО2) и воды (Н2О) с соответствующим выделением тепла. Полное количество хлора, которое необходимо ввести в каждый реактор, равно 1,0 % масс. от массы катализатора в каждом реакторе. В процессе хлорирования поддерживать концентрацию кислорода 10,0-12,0 % об., регулируя подачу воздуха, а также содержание СО2 , которое не должно превышать 10,0 % об., при необходимости также продуть систему азотом. После подачи основного количества хлора произвести подъем температуры на входе в реакторы до 510 ºС и дополнительно подать в R-201 хлор в количестве эквивалентном 0,2 % масс. от общей массы катализатора в реакторах в течение 3-х часов. При этом содержание  кислорода в циркулирующем газе должно быть не мене 10-12 % об. Произвести выдержку системы в течение полутора часов. Следить также за катализатором, чтобы обнаружить  малейшие признаки горения. Если при увеличении концентрации кислорода началось горение, сделать паузу при этой концентрации до прекращения горения. '),\n",
       " Document(metadata={'source': 'data/data_processing/РАЗДЕЛ 6/РАЗДЕЛ 6.docx', 'category_depth': 0, 'file_directory': 'data/data_processing/РАЗДЕЛ 6', 'filename': 'РАЗДЕЛ 6.docx', 'last_modified': '2025-07-08T17:17:29', 'languages': ['rus'], 'filetype': 'application/vnd.openxmlformats-officedocument.wordprocessingml.document', 'parent_id': '2dc653488ee668cfe454e7104a2edb11', 'category': 'NarrativeText', 'element_id': '95d6e0c6a16e340c227380af8d00b1e2'}, page_content='Со скоростью 40°С в час понизить температуру на входе в реакторы до 360°С. При снижении температуры от 510°С до 360°С концентрацию кислорода в циркулирующем азоте понижать до 3 % об. При температуре 360°С потушить печи Н-201 А,В,С и снизить температуру на входе в реакторы до 200°С, продолжая циркуляцию азота компрессором К-201А или К-201В. После тушения печей заменить циркуляцию нейтрализующего раствора на чистую воду и дальнейшую промывку вести чистой водой. После промывки остановить циркуляцию, слить воду с V-201 и всех нижних точек, а также с линии от выкида насоса Р-205 до воздушного холодильника АС-201А. При снижении температуры до 360°С перекрыть подачу кислорода на реакторный блок, с последующей установкой заглушки на линии подачи технического воздуха на реакторный блок. Продолжать дренирование воды. Одновременно со снижением температуры от 360°С до 200°С продуть реакторный блок азотом для удаления кислорода до содержания менее 0,5 %об. При достижении температуры на входе в реакторы 200°С плавно подключить реактор R-204, для чего:'),\n",
       " Document(metadata={'source': 'data/data_processing/РАЗДЕЛ 6/РАЗДЕЛ 6.docx', 'category_depth': 0, 'file_directory': 'data/data_processing/РАЗДЕЛ 6', 'filename': 'РАЗДЕЛ 6.docx', 'last_modified': '2025-07-08T17:17:29', 'languages': ['rus'], 'filetype': 'application/vnd.openxmlformats-officedocument.wordprocessingml.document', 'parent_id': '2dc653488ee668cfe454e7104a2edb11', 'category': 'ListItem', 'element_id': 'bc6330035046707a7ae0506d82785dc0'}, page_content='плавно открыть задвижку на выходе из реактора R-204;'),\n",
       " Document(metadata={'source': 'data/data_processing/РАЗДЕЛ 6/РАЗДЕЛ 6.docx', 'category_depth': 0, 'file_directory': 'data/data_processing/РАЗДЕЛ 6', 'filename': 'РАЗДЕЛ 6.docx', 'last_modified': '2025-07-08T17:17:29', 'languages': ['rus'], 'filetype': 'application/vnd.openxmlformats-officedocument.wordprocessingml.document', 'parent_id': '2dc653488ee668cfe454e7104a2edb11', 'category': 'ListItem', 'element_id': '4dd52efc52d264a6598e42977446405e'}, page_content='незначительно приоткрыть задвижку на входе в реактор R-204 для постепенного прогрева аппарата;'),\n",
       " Document(metadata={'source': 'data/data_processing/РАЗДЕЛ 6/РАЗДЕЛ 6.docx', 'category_depth': 0, 'file_directory': 'data/data_processing/РАЗДЕЛ 6', 'filename': 'РАЗДЕЛ 6.docx', 'last_modified': '2025-07-08T17:17:29', 'languages': ['rus'], 'filetype': 'application/vnd.openxmlformats-officedocument.wordprocessingml.document', 'parent_id': '2dc653488ee668cfe454e7104a2edb11', 'category': 'ListItem', 'element_id': 'a59075643836793028562ad2a12565ed'}, page_content='после прогрева аппарата плавно перекрыть байпасную линию с одновременным открытием задвижки на входе в реактор R-204.'),\n",
       " Document(metadata={'source': 'data/data_processing/РАЗДЕЛ 6/РАЗДЕЛ 6.docx', 'category_depth': 0, 'file_directory': 'data/data_processing/РАЗДЕЛ 6', 'filename': 'РАЗДЕЛ 6.docx', 'last_modified': '2025-07-08T17:17:29', 'languages': ['rus'], 'filetype': 'application/vnd.openxmlformats-officedocument.wordprocessingml.document', 'parent_id': '2dc653488ee668cfe454e7104a2edb11', 'category': 'NarrativeText', 'element_id': 'f6036f3cca2de27265a5ecfa4dbdd65f'}, page_content='В период циркуляции азота в течение двух – трех часов произвести анализ циркулирующего азота на содержание кислорода. При достижении концентрации кислорода менее 0,5 %об остановить циркуляционный компрессор К-201 А (В). Остановка компрессора К-201 А, В производится в следующем порядке. Постепенно открывать клапан поз. PV-406, одновременно закрывая клапан поз. PV-405 перевести циркуляцию компрессора на малое кольцо:'),\n",
       " Document(metadata={'source': 'data/data_processing/РАЗДЕЛ 6/РАЗДЕЛ 6.docx', 'category_depth': 0, 'file_directory': 'data/data_processing/РАЗДЕЛ 6', 'filename': 'РАЗДЕЛ 6.docx', 'last_modified': '2025-07-08T17:17:29', 'languages': ['rus'], 'filetype': 'application/vnd.openxmlformats-officedocument.wordprocessingml.document', 'parent_id': '2dc653488ee668cfe454e7104a2edb11', 'category': 'UncategorizedText', 'element_id': 'dbc9066826c2fc856c3e710c7474590a'}, page_content='После перевода циркуляции газа на малое кольцо остановить компрессор.'),\n",
       " Document(metadata={'source': 'data/data_processing/РАЗДЕЛ 6/РАЗДЕЛ 6.docx', 'category_depth': 0, 'file_directory': 'data/data_processing/РАЗДЕЛ 6', 'filename': 'РАЗДЕЛ 6.docx', 'last_modified': '2025-07-08T17:17:29', 'languages': ['rus'], 'filetype': 'application/vnd.openxmlformats-officedocument.wordprocessingml.document', 'parent_id': '2dc653488ee668cfe454e7104a2edb11', 'category': 'NarrativeText', 'element_id': '9dbfbe3f424c24f7cecdb1b9e411e9ed'}, page_content='Сбросить давление азота на свечу примерно до 0,5кг/см2, после чего дать азот в выкидной коллектор циркуляционных компрессоров, с одновременной сдувкой на свечу с клапана регулятора давления V-201. Продуть систему с одновременным набором давления азота до 3,5 кг/см2. Отобрать на анализ азот с реакторного блока на содержание кислорода. При содержании кислорода не более 0,5% об. Закрыть азот в систему и сбросить давление с реакторного блока на свечу до 0,5 кг/см2. Установка готова к приему водорода. Примерный график проведения оксихлорирования катализатора приведен на рис. 6.3.'),\n",
       " Document(metadata={'source': 'data/data_processing/РАЗДЕЛ 6/РАЗДЕЛ 6.docx', 'category_depth': 3, 'emphasized_text_contents': ['Восстановление водородом, осернение катализатора', 'Восстановление водородом, осернение катализатора'], 'emphasized_text_tags': ['b', 'i'], 'file_directory': 'data/data_processing/РАЗДЕЛ 6', 'filename': 'РАЗДЕЛ 6.docx', 'last_modified': '2025-07-08T17:17:29', 'languages': ['rus'], 'filetype': 'application/vnd.openxmlformats-officedocument.wordprocessingml.document', 'parent_id': '2dc653488ee668cfe454e7104a2edb11', 'category': 'ListItem', 'element_id': '8796adea85af13db1311843d4b14e47f'}, page_content='Восстановление водородом, осернение катализатора'),\n",
       " Document(metadata={'source': 'data/data_processing/РАЗДЕЛ 6/РАЗДЕЛ 6.docx', 'category_depth': 0, 'file_directory': 'data/data_processing/РАЗДЕЛ 6', 'filename': 'РАЗДЕЛ 6.docx', 'last_modified': '2025-07-08T17:17:29', 'languages': ['rus'], 'filetype': 'application/vnd.openxmlformats-officedocument.wordprocessingml.document', 'parent_id': '2dc653488ee668cfe454e7104a2edb11', 'category': 'NarrativeText', 'element_id': '46724eaeb84d86ea80e5fe1ed6b2cc9d'}, page_content='После проведения окислительной обработки, благородные металлы катализатора оказываются в окисленном состоянии. Эти металлы перед переработкой сырья следует восстановить. Если углеводороды будут контактировать с окисленной платиной, то будет происходить чрезмерный крекинг. Для восстановления благородных металлов рекомендуется использовать водород с концентрацией не менее 92% об. Осернение катализатора необходимо проводить для снижения его сверхактивности, если сырье ввести на неосерненный катализатор, может возникнуть чрезмерное закоксовывание, приводящее к резким повышениям температуры. Эффект снижения активности не продолжителен и сера обычно выводится из катализатора в течение первых двух дней работы.'),\n",
       " Document(metadata={'source': 'data/data_processing/РАЗДЕЛ 6/РАЗДЕЛ 6.docx', 'category_depth': 0, 'file_directory': 'data/data_processing/РАЗДЕЛ 6', 'filename': 'РАЗДЕЛ 6.docx', 'last_modified': '2025-07-08T17:17:29', 'languages': ['rus'], 'filetype': 'application/vnd.openxmlformats-officedocument.wordprocessingml.document', 'parent_id': '2dc653488ee668cfe454e7104a2edb11', 'category': 'NarrativeText', 'element_id': '4c5696ad2b3632274716c3bab52ddda9'}, page_content='Для замены азота на водород, подать водород из буллитов V-801/A,B,C,D,E,F в выкидную линию компрессоров К-201А, В с последующей сдувкой с приемной линии компрессоров К-201А,В через клапан поз. PV-306 на факел.'),\n",
       " Document(metadata={'source': 'data/data_processing/РАЗДЕЛ 6/РАЗДЕЛ 6.docx', 'category_depth': 0, 'file_directory': 'data/data_processing/РАЗДЕЛ 6', 'filename': 'РАЗДЕЛ 6.docx', 'last_modified': '2025-07-08T17:17:29', 'languages': ['rus'], 'filetype': 'application/vnd.openxmlformats-officedocument.wordprocessingml.document', 'parent_id': '2dc653488ee668cfe454e7104a2edb11', 'category': 'NarrativeText', 'element_id': '6651c2d4e49d6b2c773b08805939b0e3'}, page_content='Продуть систему водородом в количестве равном 3-4 объема системы при нормальных условиях, или набрать давление в системе 3-4 кг/см2, после чего закрыть подачу ВСГ в выкидной коллектор и сбросить давление на факел до 0,5кг/см2. Это соответствует 3-х-4-х кратной продувке реакторного блока водородом. Продолжать удалять воду из сепаратора V-201 и через дренажи с теплообменников. Вода, образующаяся при восстановлении, может вызвать сильную коррозию. Набрать давление водорода в системе до 7,0 кг/см2. Водород можно разбавить азотом до концентрации азота не более 20% об. Подать на уплотнение компрессоров в качестве буферного газа природный газ из линии газа передавливания или азот. Включить в работу компрессора К-201А, В в следующей последовательности. Открыть клапан поз. FV-406 полностью. Клапан поз. FV-405 оставить открытым примерно на 30%. Включить в работу компрессор К-201А, за ним компрессор К-201В и наладить устойчивую циркуляцию компрессоров по схеме:'),\n",
       " Document(metadata={'source': 'data/data_processing/РАЗДЕЛ 6/РАЗДЕЛ 6.docx', 'category_depth': 0, 'file_directory': 'data/data_processing/РАЗДЕЛ 6', 'filename': 'РАЗДЕЛ 6.docx', 'last_modified': '2025-07-08T17:17:29', 'languages': ['rus'], 'filetype': 'application/vnd.openxmlformats-officedocument.wordprocessingml.document', 'parent_id': '2dc653488ee668cfe454e7104a2edb11', 'category': 'NarrativeText', 'element_id': '2ee55d3a8481acd814ad3678f984af1c'}, page_content='После налаживания устойчивой циркуляции постепенно закрыть клапан поз. FV-406, открывая одновременно клапан FV-405 и перевести циркуляцию ВСГ от компрессоров К-201А, В по схеме:'),\n",
       " Document(metadata={'source': 'data/data_processing/РАЗДЕЛ 6/РАЗДЕЛ 6.docx', 'category_depth': 0, 'file_directory': 'data/data_processing/РАЗДЕЛ 6', 'filename': 'РАЗДЕЛ 6.docx', 'header_footer_type': 'primary', 'languages': ['rus'], 'filetype': 'application/vnd.openxmlformats-officedocument.wordprocessingml.document', 'category': 'Header', 'element_id': '19fb790e0433895b5faeb87994b61f17'}, page_content='ТР-6100-20368-08-2010'),\n",
       " Document(metadata={'source': 'data/data_processing/РАЗДЕЛ 6/РАЗДЕЛ 6.docx', 'category_depth': 0, 'emphasized_text_contents': ['рис 6.3 График  проведения оксихлорирования катализатора.', 'рис 6.3 График  проведения оксихлорирования катализатора.'], 'emphasized_text_tags': ['b', 'i'], 'file_directory': 'data/data_processing/РАЗДЕЛ 6', 'filename': 'РАЗДЕЛ 6.docx', 'last_modified': '2025-07-08T17:17:29', 'languages': ['rus'], 'filetype': 'application/vnd.openxmlformats-officedocument.wordprocessingml.document', 'parent_id': '19fb790e0433895b5faeb87994b61f17', 'category': 'UncategorizedText', 'element_id': 'be0c14ab0dfe67c23a7ee1d346dbe72c'}, page_content='рис 6.3 График  проведения оксихлорирования катализатора.'),\n",
       " Document(metadata={'source': 'data/data_processing/РАЗДЕЛ 6/РАЗДЕЛ 6.docx', 'category_depth': 0, 'emphasized_text_contents': ['График приведен в файле', 'График приведен в файле', 'AutoCAD', 'AutoCAD'], 'emphasized_text_tags': ['b', 'i', 'b', 'i'], 'file_directory': 'data/data_processing/РАЗДЕЛ 6', 'filename': 'РАЗДЕЛ 6.docx', 'last_modified': '2025-07-08T17:17:29', 'languages': ['rus'], 'filetype': 'application/vnd.openxmlformats-officedocument.wordprocessingml.document', 'parent_id': '19fb790e0433895b5faeb87994b61f17', 'category': 'UncategorizedText', 'element_id': 'd17a803ef4898fc79d414ab0de6ad64d'}, page_content='График приведен в файле AutoCAD'),\n",
       " Document(metadata={'source': 'data/data_processing/РАЗДЕЛ 6/РАЗДЕЛ 6.docx', 'category_depth': 0, 'file_directory': 'data/data_processing/РАЗДЕЛ 6', 'filename': 'РАЗДЕЛ 6.docx', 'header_footer_type': 'primary', 'languages': ['rus'], 'filetype': 'application/vnd.openxmlformats-officedocument.wordprocessingml.document', 'category': 'Header', 'element_id': '173b3692e9746aa17aea2e0a578ff065'}, page_content='ТР-6100-20368-08-2010'),\n",
       " Document(metadata={'source': 'data/data_processing/РАЗДЕЛ 6/РАЗДЕЛ 6.docx', 'category_depth': 0, 'file_directory': 'data/data_processing/РАЗДЕЛ 6', 'filename': 'РАЗДЕЛ 6.docx', 'last_modified': '2025-07-08T17:17:29', 'languages': ['rus'], 'filetype': 'application/vnd.openxmlformats-officedocument.wordprocessingml.document', 'parent_id': '173b3692e9746aa17aea2e0a578ff065', 'category': 'NarrativeText', 'element_id': '089fbf8fb65b05948da0ef327695bc87'}, page_content='Клапан PV-406 оставить открытым на 2,5–3,0% для прогрева линии от К-201А, В в АС-201А. После налаживания циркуляции по блоку риформинга, произвести отключение реактора R-204 в обратной последовательности описанной выше и разжечь печи Н-201А, В, С согласно инструкции по пуску и эксплуатации печей. '),\n",
       " Document(metadata={'source': 'data/data_processing/РАЗДЕЛ 6/РАЗДЕЛ 6.docx', 'category_depth': 0, 'file_directory': 'data/data_processing/РАЗДЕЛ 6', 'filename': 'РАЗДЕЛ 6.docx', 'last_modified': '2025-07-08T17:17:29', 'languages': ['rus'], 'filetype': 'application/vnd.openxmlformats-officedocument.wordprocessingml.document', 'parent_id': '173b3692e9746aa17aea2e0a578ff065', 'category': 'NarrativeText', 'element_id': 'ea2e2cbe4a43c7623096c290bcc47e19'}, page_content='После отключения реактора R-204 поднять температуру на входе в реакторы R-201, R-202, R-203 до 480 градусов со скоростью 30 градусов в час с одновременным подъемом давления в системе реакторного блока до 17,6 кгс/см2, подавая водород из емкостей хранения водорода поз. V-804A÷F либо Е-18÷21 азотно-воздушной и водородной компрессорной с максимальной концентрацией Н2 в выкидной коллектор компрессоров К-201А,В. В период подъема температуры на реакторном блоке при достижении температуры 320-350 ºС начнется резкое поглощение водорода, который необходимо добавлять из емкостей хранения водорода поз. V-804A÷F, Е-18÷21.'),\n",
       " Document(metadata={'source': 'data/data_processing/РАЗДЕЛ 6/РАЗДЕЛ 6.docx', 'category_depth': 0, 'file_directory': 'data/data_processing/РАЗДЕЛ 6', 'filename': 'РАЗДЕЛ 6.docx', 'last_modified': '2025-07-08T17:17:29', 'languages': ['rus'], 'filetype': 'application/vnd.openxmlformats-officedocument.wordprocessingml.document', 'parent_id': '173b3692e9746aa17aea2e0a578ff065', 'category': 'NarrativeText', 'element_id': 'df8b15ff5f8d930befad7e92f28dbfac'}, page_content='После подъема температуры на входе в реакторы до 480 градусов сделать выдержку в течение 2-х часов. Непрерывно вести контроль концентрации водорода в циркулирующем газе и желательно не допускать снижения ниже 85 % об. После выдержки в течении 2-х часов при 480 °С понизить температуру на входе в реакторы R-201, R-202, R-203 до 400 °С для проведения процесса осернения.'),\n",
       " Document(metadata={'source': 'data/data_processing/РАЗДЕЛ 6/РАЗДЕЛ 6.docx', 'category_depth': 0, 'file_directory': 'data/data_processing/РАЗДЕЛ 6', 'filename': 'РАЗДЕЛ 6.docx', 'last_modified': '2025-07-08T17:17:29', 'languages': ['rus'], 'filetype': 'application/vnd.openxmlformats-officedocument.wordprocessingml.document', 'parent_id': '173b3692e9746aa17aea2e0a578ff065', 'category': 'NarrativeText', 'element_id': '10d6ec62eb5f4d1360092bb48a54e43d'}, page_content='Осернение катализатора необходимо проводить, чтобы устранить его сверхактивность. Если сырье ввести на неосерненный катализатор, может возникнуть чрезмерное закоксовывание, приводящее к резким повышениям температуры.'),\n",
       " Document(metadata={'source': 'data/data_processing/РАЗДЕЛ 6/РАЗДЕЛ 6.docx', 'category_depth': 0, 'file_directory': 'data/data_processing/РАЗДЕЛ 6', 'filename': 'РАЗДЕЛ 6.docx', 'last_modified': '2025-07-08T17:17:29', 'languages': ['rus'], 'filetype': 'application/vnd.openxmlformats-officedocument.wordprocessingml.document', 'parent_id': '173b3692e9746aa17aea2e0a578ff065', 'category': 'NarrativeText', 'element_id': 'fff043a54ee683441e57f672fcb7705b'}, page_content='При достижении температуры 400 °С приступить к процессу осернения катализатора. Для этого залить расчетное количество ТБПС-454 (третбутил полисульфид) в емкость V-204. Набрать давление азота в V-204 20 кгс/см2. Подать ТБПС-454 от последнего реактора к первому. Общее количество серы подаваемое на катализатор составляет 0,1% масс. от общей массы катализатора. Осернение  проводится в течении 2-3 часов. Продолжать отбирать на анализ ВСГ из системы, желательно не допускать снижения концентрации водорода в циркулирующем ВСГ ниже 85% об. После окончания первого этапа осернения в течение четырех часов, со скоростью 40°С в час понизить температуру на входе в реакторы R-201, R-202, R-203 до 250°С для проведения второго этапа осернения, подавая ТБПС-454 от последнего к первому реактору в количестве 0,05-0,08% масс. от общей массы катализатора с контролем проскока сероводорода в каждом из реакторов. Осернение вести в течение 2-х часов. После окончания процесса осернения в течение двух часов понизить температуру на входе в реактор R-204 до 200°С для дальнейшего его подключения.'),\n",
       " Document(metadata={'source': 'data/data_processing/РАЗДЕЛ 6/РАЗДЕЛ 6.docx', 'category_depth': 0, 'file_directory': 'data/data_processing/РАЗДЕЛ 6', 'filename': 'РАЗДЕЛ 6.docx', 'last_modified': '2025-07-08T17:17:29', 'languages': ['rus'], 'filetype': 'application/vnd.openxmlformats-officedocument.wordprocessingml.document', 'parent_id': '173b3692e9746aa17aea2e0a578ff065', 'category': 'NarrativeText', 'element_id': '3e9ed2ca7dd021776376ae6e77dafdde'}, page_content='При достижении 200°С плавно подключить реактор R-204 к системе и провести водородное восстановление адсорбента АГС-60. Условия, необходимые для восстановления адсорбента приведены ниже:'),\n",
       " Document(metadata={'source': 'data/data_processing/РАЗДЕЛ 6/РАЗДЕЛ 6.docx', 'file_directory': 'data/data_processing/РАЗДЕЛ 6', 'filename': 'РАЗДЕЛ 6.docx', 'last_modified': '2025-07-08T17:17:29', 'text_as_html': '<table><tr><td>Температура на входе реактор R-204 С</td><td>Время полного восстановления, час</td><td>% восстановления за 4 часа</td></tr><tr><td>315</td><td>40</td><td>11</td></tr><tr><td>370</td><td>24</td><td>54</td></tr><tr><td>425</td><td>6</td><td>99</td></tr></table>', 'languages': ['rus'], 'filetype': 'application/vnd.openxmlformats-officedocument.wordprocessingml.document', 'parent_id': '173b3692e9746aa17aea2e0a578ff065', 'category': 'Table', 'element_id': '60b0d16d45b63b218aa449e1e40852f0'}, page_content='Температура на входе реактор R-204 С Время полного восстановления, час % восстановления за 4 часа 315 40 11 370 24 54 425 6 99'),\n",
       " Document(metadata={'source': 'data/data_processing/РАЗДЕЛ 6/РАЗДЕЛ 6.docx', 'category_depth': 0, 'file_directory': 'data/data_processing/РАЗДЕЛ 6', 'filename': 'РАЗДЕЛ 6.docx', 'last_modified': '2025-07-08T17:17:29', 'languages': ['rus'], 'filetype': 'application/vnd.openxmlformats-officedocument.wordprocessingml.document', 'parent_id': '173b3692e9746aa17aea2e0a578ff065', 'category': 'NarrativeText', 'element_id': 'd68d2467582707413b2077b8999c8e77'}, page_content='Частичное восстановление катализатора АГС-60 проводится в момент подъема температуры на входе в R-201–203 от 200°С до 460°С (температуры подачи сырья), а полное восстановление в процессе эксплуатации установки. При подъеме температуре до 350°С произвести выдержку в течение 4-6 часов с постоянным дренирование образовавшейся воды из сепаратора V-201 и теплообменников Е-201, Е-202. Производить отбор ВСГ из системы для контроля концентрации водорода в циркулирующем газе. Процесс восстановления катализатора сероочистки необходимо проводить не допуская снижения концентрации водорода ниже 85% об., непрерывно добавляя ВСГ из емкостей хранения водорода поз. V-804A÷F, Е-18÷21.'),\n",
       " Document(metadata={'source': 'data/data_processing/РАЗДЕЛ 6/РАЗДЕЛ 6.docx', 'category_depth': 0, 'file_directory': 'data/data_processing/РАЗДЕЛ 6', 'filename': 'РАЗДЕЛ 6.docx', 'last_modified': '2025-07-08T17:17:29', 'languages': ['rus'], 'filetype': 'application/vnd.openxmlformats-officedocument.wordprocessingml.document', 'parent_id': '173b3692e9746aa17aea2e0a578ff065', 'category': 'NarrativeText', 'element_id': '8de9d0c5d2c944e8e19f7b1cab54a6a5'}, page_content='После подключения реактора R-204 со скоростью 40°С в час поднять температуру на входе в реакторы до 460°С. На всех этапах водородного восстановления и осернения постоянно сливать воду с сепаратора V-201 и дренажей теплообменников. Реакторный блок готов к приему сырья. Примерный график водородного восстановления и осернения катализатора приведен на рис. 6.4.\\nВ каждом отдельном случае все этапы конкретизируются распоряжением начальника установки.'),\n",
       " Document(metadata={'source': 'data/data_processing/РАЗДЕЛ 6/РАЗДЕЛ 6.docx', 'category_depth': 3, 'emphasized_text_contents': ['Подача сырья на риформинг и вывод на режим'], 'emphasized_text_tags': ['b'], 'file_directory': 'data/data_processing/РАЗДЕЛ 6', 'filename': 'РАЗДЕЛ 6.docx', 'last_modified': '2025-07-08T17:17:29', 'languages': ['rus'], 'filetype': 'application/vnd.openxmlformats-officedocument.wordprocessingml.document', 'parent_id': '173b3692e9746aa17aea2e0a578ff065', 'category': 'ListItem', 'element_id': 'd98d3a11219d652496251b3b3dfb4c1f'}, page_content='Подача сырья на риформинг и вывод на режим'),\n",
       " Document(metadata={'source': 'data/data_processing/РАЗДЕЛ 6/РАЗДЕЛ 6.docx', 'category_depth': 0, 'file_directory': 'data/data_processing/РАЗДЕЛ 6', 'filename': 'РАЗДЕЛ 6.docx', 'last_modified': '2025-07-08T17:17:29', 'languages': ['rus'], 'filetype': 'application/vnd.openxmlformats-officedocument.wordprocessingml.document', 'parent_id': '173b3692e9746aa17aea2e0a578ff065', 'category': 'UncategorizedText', 'element_id': '200aeedd98784bd9ab8a08d6ab6cd828'}, page_content='Перед подачей сырья на блок риформинга колонна Т-201 должна быть на циркуляции и разогрета.'),\n",
       " Document(metadata={'source': 'data/data_processing/РАЗДЕЛ 6/РАЗДЕЛ 6.docx', 'category_depth': 0, 'file_directory': 'data/data_processing/РАЗДЕЛ 6', 'filename': 'РАЗДЕЛ 6.docx', 'last_modified': '2025-07-08T17:17:29', 'languages': ['rus'], 'filetype': 'application/vnd.openxmlformats-officedocument.wordprocessingml.document', 'parent_id': '173b3692e9746aa17aea2e0a578ff065', 'category': 'NarrativeText', 'element_id': '450c44a397daeaedfb8e92c5d8869ac6'}, page_content='Блок стабилизации готовится к пуску одновременно с блоком подготовки и реакторным блоком, т.е. проводится его продувка от кислорода, опрессовка, обмыливание и устранение пропусков. В колонне Т-201 набирается давление 8 кг/см2 из линии газа передавливания по схеме:'),\n",
       " Document(metadata={'source': 'data/data_processing/РАЗДЕЛ 6/РАЗДЕЛ 6.docx', 'category_depth': 0, 'file_directory': 'data/data_processing/РАЗДЕЛ 6', 'filename': 'РАЗДЕЛ 6.docx', 'last_modified': '2025-07-08T17:17:29', 'languages': ['rus'], 'filetype': 'application/vnd.openxmlformats-officedocument.wordprocessingml.document', 'parent_id': '173b3692e9746aa17aea2e0a578ff065', 'category': 'UncategorizedText', 'element_id': '0e75c3af11a7a47758e8178f1708b2a4'}, page_content='и поддерживается, сбросом небольшого избытка на факел с V-202. '),\n",
       " Document(metadata={'source': 'data/data_processing/РАЗДЕЛ 6/РАЗДЕЛ 6.docx', 'category_depth': 0, 'file_directory': 'data/data_processing/РАЗДЕЛ 6', 'filename': 'РАЗДЕЛ 6.docx', 'header_footer_type': 'primary', 'languages': ['rus'], 'filetype': 'application/vnd.openxmlformats-officedocument.wordprocessingml.document', 'category': 'Header', 'element_id': 'd0538170c6863d452cc0ac0d0a0ee3e6'}, page_content='ТР-6100-20368-08-2010'),\n",
       " Document(metadata={'source': 'data/data_processing/РАЗДЕЛ 6/РАЗДЕЛ 6.docx', 'category_depth': 0, 'emphasized_text_contents': ['рис 6.4 График проведения водородного востановления и осернения катализатора', 'рис 6.4 График проведения водородного востановления и осернения катализатора'], 'emphasized_text_tags': ['b', 'i'], 'file_directory': 'data/data_processing/РАЗДЕЛ 6', 'filename': 'РАЗДЕЛ 6.docx', 'last_modified': '2025-07-08T17:17:29', 'languages': ['rus'], 'filetype': 'application/vnd.openxmlformats-officedocument.wordprocessingml.document', 'parent_id': 'd0538170c6863d452cc0ac0d0a0ee3e6', 'category': 'UncategorizedText', 'element_id': '5311fa5eb8b23963ffcc2cd0b0bd1fa8'}, page_content='рис 6.4 График проведения водородного востановления и осернения катализатора'),\n",
       " Document(metadata={'source': 'data/data_processing/РАЗДЕЛ 6/РАЗДЕЛ 6.docx', 'category_depth': 0, 'emphasized_text_contents': ['График приведен в файле', 'График приведен в файле', 'AutoCAD', 'AutoCAD'], 'emphasized_text_tags': ['b', 'i', 'b', 'i'], 'file_directory': 'data/data_processing/РАЗДЕЛ 6', 'filename': 'РАЗДЕЛ 6.docx', 'last_modified': '2025-07-08T17:17:29', 'languages': ['rus'], 'filetype': 'application/vnd.openxmlformats-officedocument.wordprocessingml.document', 'parent_id': 'd0538170c6863d452cc0ac0d0a0ee3e6', 'category': 'UncategorizedText', 'element_id': '09efaa9fd10291dcc8815dff8e6ee003'}, page_content='График приведен в файле AutoCAD'),\n",
       " Document(metadata={'source': 'data/data_processing/РАЗДЕЛ 6/РАЗДЕЛ 6.docx', 'category_depth': 0, 'file_directory': 'data/data_processing/РАЗДЕЛ 6', 'filename': 'РАЗДЕЛ 6.docx', 'header_footer_type': 'primary', 'languages': ['rus'], 'filetype': 'application/vnd.openxmlformats-officedocument.wordprocessingml.document', 'category': 'Header', 'element_id': '9e8000587e7994102816045a03d1ce72'}, page_content='ТР-6100-20368-08-2010'),\n",
       " Document(metadata={'source': 'data/data_processing/РАЗДЕЛ 6/РАЗДЕЛ 6.docx', 'category_depth': 0, 'file_directory': 'data/data_processing/РАЗДЕЛ 6', 'filename': 'РАЗДЕЛ 6.docx', 'last_modified': '2025-07-08T17:17:29', 'languages': ['rus'], 'filetype': 'application/vnd.openxmlformats-officedocument.wordprocessingml.document', 'parent_id': '9e8000587e7994102816045a03d1ce72', 'category': 'UncategorizedText', 'element_id': '067dfbf6591c6c5d2a8f83bd6dd811e3'}, page_content='После этого налаживается широкая холодная циркуляция бензина'),\n",
       " Document(metadata={'source': 'data/data_processing/РАЗДЕЛ 6/РАЗДЕЛ 6.docx', 'category_depth': 0, 'file_directory': 'data/data_processing/РАЗДЕЛ 6', 'filename': 'РАЗДЕЛ 6.docx', 'last_modified': '2025-07-08T17:17:29', 'languages': ['rus'], 'filetype': 'application/vnd.openxmlformats-officedocument.wordprocessingml.document', 'parent_id': '9e8000587e7994102816045a03d1ce72', 'category': 'UncategorizedText', 'element_id': '1279d624f43544525168542aa7c718ae'}, page_content='по схеме:'),\n",
       " Document(metadata={'source': 'data/data_processing/РАЗДЕЛ 6/РАЗДЕЛ 6.docx', 'category_depth': 0, 'file_directory': 'data/data_processing/РАЗДЕЛ 6', 'filename': 'РАЗДЕЛ 6.docx', 'last_modified': '2025-07-08T17:17:29', 'languages': ['rus'], 'filetype': 'application/vnd.openxmlformats-officedocument.wordprocessingml.document', 'parent_id': '9e8000587e7994102816045a03d1ce72', 'category': 'NarrativeText', 'element_id': '40c9db218abe35843cf16b550ea69225'}, page_content='После этого колонна Т-101 пускается согласно разделу 6.2.1. настоящего регламента, а колонна Т-201 остается на холодной циркуляции. Клапан регулировки температуры поз.TV-201 закрыт, а клапан поз. PV-307 полностью открыт. Разогрев колонны начинается при проведении работ по водородному восстановлению катализатора. Открывая клапан поз. TV-201 и прикрывая клапан поз. PV-307 со скоростью 25-30°С в час поднять температуру низа колонны Т-201 до 180-190°С. При разогреве колонны Т-201 вывести от насоса Р-101А, В в теплообменник Е-203 ~ 0,8–1,5 м3/час рефлюксной жидкости. По мере прогрева в колонне начнет расти давление. Прикрыть постепенно поддавливание емкости V-202 до полного его закрытия. При появлении уровня в V-202 включить в работу насос Р-203 А или Р-203 В и дать минимальный расход орошения в колонну Т-201, а избыток вывести в линию некондиции. Возможно, работа колонны Т-201 будет нестабильной из-за того, что мало легких углеводородов, они появятся только после реакции в реакторах. Колонна Т-201 готова к пуску риформинга. Подготовить раствор четыреххлористого углерода в емкости V-508 в соотношении с бензином указанным распоряжением начальника установки. Снять заглушки: на выкидной линии насосов Р-201А, В в систему риформинга; с линии нестабильного катализата от сепаратора V-201 в теплообменник Е-203А,В,С,Д. Понизить расход от насоса Р-201 А, В в теплообменник Е-203А,В,С,Д до 8 м3/час в период широкой циркуляции сырья. При достижении этого расхода перевести сырье от насоса Р-201 А, В на блок риформинга. В условиях когда в системе находится водород, а бензин проходит над катализатором, который нагрет до 460°С, реакции происходят мгновенно, что приведет к выделению водорода и резкому повышению давления в системе. Застабилизировать давление в сепараторе V-201 в пределах 12,0 кг/см2 и включить прибор поз. PIC-306 в положение «автоматическое регулирование». Закрыть подпитку системы водородом из буллитов V-804A-F. При появлении избытка ВСГ перевести буферный газ уплотнения компрессоров с топливного газа на водородсодержащий.'),\n",
       " Document(metadata={'source': 'data/data_processing/РАЗДЕЛ 6/РАЗДЕЛ 6.docx', 'category_depth': 0, 'file_directory': 'data/data_processing/РАЗДЕЛ 6', 'filename': 'РАЗДЕЛ 6.docx', 'last_modified': '2025-07-08T17:17:29', 'languages': ['rus'], 'filetype': 'application/vnd.openxmlformats-officedocument.wordprocessingml.document', 'parent_id': '9e8000587e7994102816045a03d1ce72', 'category': 'NarrativeText', 'element_id': 'fbfebff1da2c63f746b1f8c50a830de7'}, page_content='При появлении уровня в сепараторе и наборе примерно до 30% вывести расход нестабильного катализата с V-201 в теплообменник Е-203 А,В,С,Д. При выводе всего нестабильного катализата с V-201 в колонне будет наблюдаться колебание режима. Стабилизировать режим по колонне стабилизации, регулируя температуру низа, давление в колонне, расход орошения в колонну. После вывода на режим колонны Т-201, поднять температуру на входе в реакторы до 485°С. Поднять давление в системе реакторного блока до 17,60 кг/см2, поднять производительность на блоке риформинга до 17,5 м3/час. Подать расчетное количество четыреххлористого углерода (дихлорэтана) в трубопровод на выходе газосырьевой смеси из реактора R-204 или на входе в реактор R-201.'),\n",
       " Document(metadata={'source': 'data/data_processing/РАЗДЕЛ 6/РАЗДЕЛ 6.docx', 'category_depth': 0, 'file_directory': 'data/data_processing/РАЗДЕЛ 6', 'filename': 'РАЗДЕЛ 6.docx', 'last_modified': '2025-07-08T17:17:29', 'languages': ['rus'], 'filetype': 'application/vnd.openxmlformats-officedocument.wordprocessingml.document', 'parent_id': '9e8000587e7994102816045a03d1ce72', 'category': 'NarrativeText', 'element_id': 'cffd4019404d10b15d69d49dc13fe08e'}, page_content='Первичный поток риформата содержит влагу, которая, будучи во взвешенном состоянии, имеет кислую реакцию. В последствии риформат будет становиться более сухим, он освободится от воды во взвешенном состоянии, а ее содержание в риформате снизится. На протяжении первых двух дней работы верхняя секция стабилизационной колонны будет подвергаться воздействию этой кислой воды. Удалить воду через отстойник емкости V-202 в емкость V-501 и далее V-501 выдавить в некондицию.'),\n",
       " Document(metadata={'source': 'data/data_processing/РАЗДЕЛ 6/РАЗДЕЛ 6.docx', 'category_depth': 0, 'file_directory': 'data/data_processing/РАЗДЕЛ 6', 'filename': 'РАЗДЕЛ 6.docx', 'last_modified': '2025-07-08T17:17:29', 'languages': ['rus'], 'filetype': 'application/vnd.openxmlformats-officedocument.wordprocessingml.document', 'parent_id': '9e8000587e7994102816045a03d1ce72', 'category': 'NarrativeText', 'element_id': '2cbb0272ffc669ab19a4fe68ae3956c3'}, page_content='Излишек влаги будет выведен из реакторного блока: в течение 8 - 12 часов жидкий риформат в сепараторе продукта будет замутнен конденсируемой водой, после чего жидкость станет более чистой и сухой. В течение первых 48–72 часов в рециркулирующем газе снизится содержание влаги с 1500 ррm. приблизительно до 100 ррm.'),\n",
       " Document(metadata={'source': 'data/data_processing/РАЗДЕЛ 6/РАЗДЕЛ 6.docx', 'category_depth': 0, 'file_directory': 'data/data_processing/РАЗДЕЛ 6', 'filename': 'РАЗДЕЛ 6.docx', 'last_modified': '2025-07-08T17:17:29', 'languages': ['rus'], 'filetype': 'application/vnd.openxmlformats-officedocument.wordprocessingml.document', 'parent_id': '9e8000587e7994102816045a03d1ce72', 'category': 'NarrativeText', 'element_id': 'f3eaf8ffd9e6462d4fc70720d182280b'}, page_content='На данном начальном этапе, когда наблюдается повышенное содержание влаги, температура на входе в реакторы не должна превышать 483°С. После снижения количества влаги до регламентируемых величин температуру на входе в реакторы можно повысить для получения требуемого октанового числа катализата в целях выполнения производственной программы по выпуску товарного автобензина. После стабилизации режима отобрать пробу катализата с Т-201 на анализ и при получении нормальных анализов вывести катализат в парк готовой продукции.'),\n",
       " Document(metadata={'source': 'data/data_processing/РАЗДЕЛ 6/РАЗДЕЛ 6.docx', 'category_depth': 0, 'file_directory': 'data/data_processing/РАЗДЕЛ 6', 'filename': 'РАЗДЕЛ 6.docx', 'last_modified': '2025-07-08T17:17:29', 'languages': ['rus'], 'filetype': 'application/vnd.openxmlformats-officedocument.wordprocessingml.document', 'parent_id': '9e8000587e7994102816045a03d1ce72', 'category': 'NarrativeText', 'element_id': '79555f771e78f63eeb67a1d92d5bb26f'}, page_content='При температуре 485°С отобрать на анализ водородсодержащий газ. При получении удовлетворительного анализа подать водород на прием компрессора К-801 и закачать его в буллиты V-804 А-F до давления не выше 138 кг/см2.'),\n",
       " Document(metadata={'source': 'data/data_processing/РАЗДЕЛ 6/РАЗДЕЛ 6.docx', 'category_depth': 0, 'emphasized_text_contents': ['6.2.3  Пуск установки в зимних условиях'], 'emphasized_text_tags': ['b'], 'file_directory': 'data/data_processing/РАЗДЕЛ 6', 'filename': 'РАЗДЕЛ 6.docx', 'last_modified': '2025-07-08T17:17:29', 'languages': ['rus'], 'filetype': 'application/vnd.openxmlformats-officedocument.wordprocessingml.document', 'parent_id': '9e8000587e7994102816045a03d1ce72', 'category': 'UncategorizedText', 'element_id': '4ccf8b251b5c9fe026dbdd5fb768e09d'}, page_content='6.2.3  Пуск установки в зимних условиях'),\n",
       " Document(metadata={'source': 'data/data_processing/РАЗДЕЛ 6/РАЗДЕЛ 6.docx', 'category_depth': 0, 'file_directory': 'data/data_processing/РАЗДЕЛ 6', 'filename': 'РАЗДЕЛ 6.docx', 'last_modified': '2025-07-08T17:17:29', 'languages': ['rus'], 'filetype': 'application/vnd.openxmlformats-officedocument.wordprocessingml.document', 'parent_id': '9e8000587e7994102816045a03d1ce72', 'category': 'UncategorizedText', 'element_id': 'e1921f3b29a4abafb0ee1c7d775cb5e9'}, page_content='В зимних условиях пуск осложняется в связи с возможным замораживанием трубопроводов воды, пара, парового конденсата.'),\n",
       " Document(metadata={'source': 'data/data_processing/РАЗДЕЛ 6/РАЗДЕЛ 6.docx', 'category_depth': 0, 'file_directory': 'data/data_processing/РАЗДЕЛ 6', 'filename': 'РАЗДЕЛ 6.docx', 'last_modified': '2025-07-08T17:17:29', 'languages': ['rus'], 'filetype': 'application/vnd.openxmlformats-officedocument.wordprocessingml.document', 'parent_id': '9e8000587e7994102816045a03d1ce72', 'category': 'UncategorizedText', 'element_id': '95e0fa03f6f9f6240ad2fafada341166'}, page_content='В зимнее время при остановках на ремонт, при выводе на режим необходимо строго выполнять мероприятия, которые обеспечивают нормальную эксплуатацию установки в зимних условиях.'),\n",
       " Document(metadata={'source': 'data/data_processing/РАЗДЕЛ 6/РАЗДЕЛ 6.docx', 'category_depth': 0, 'file_directory': 'data/data_processing/РАЗДЕЛ 6', 'filename': 'РАЗДЕЛ 6.docx', 'last_modified': '2025-07-08T17:17:29', 'languages': ['rus'], 'filetype': 'application/vnd.openxmlformats-officedocument.wordprocessingml.document', 'parent_id': '9e8000587e7994102816045a03d1ce72', 'category': 'UncategorizedText', 'element_id': '3f58cabfb84956ad31be93a19404da39'}, page_content='Теплоспутники и электрообогрев должны быть включены в работу и за ними должен быть налажен контроль.'),\n",
       " Document(metadata={'source': 'data/data_processing/РАЗДЕЛ 6/РАЗДЕЛ 6.docx', 'category_depth': 0, 'file_directory': 'data/data_processing/РАЗДЕЛ 6', 'filename': 'РАЗДЕЛ 6.docx', 'last_modified': '2025-07-08T17:17:29', 'languages': ['rus'], 'filetype': 'application/vnd.openxmlformats-officedocument.wordprocessingml.document', 'parent_id': '9e8000587e7994102816045a03d1ce72', 'category': 'NarrativeText', 'element_id': '3e53f15a7fa164a54871c0476113ac24'}, page_content='После промывки и пропарки необходимо все аппараты и трубопроводы сдренировать. Дренаж производится в самых низких местах.'),\n",
       " Document(metadata={'source': 'data/data_processing/РАЗДЕЛ 6/РАЗДЕЛ 6.docx', 'category_depth': 0, 'file_directory': 'data/data_processing/РАЗДЕЛ 6', 'filename': 'РАЗДЕЛ 6.docx', 'last_modified': '2025-07-08T17:17:29', 'languages': ['rus'], 'filetype': 'application/vnd.openxmlformats-officedocument.wordprocessingml.document', 'parent_id': '9e8000587e7994102816045a03d1ce72', 'category': 'UncategorizedText', 'element_id': '3aba66bb2ee04268bde9ee19279ec8fe'}, page_content='Кроме того необходимо все продуть или азотом, или воздухом.'),\n",
       " Document(metadata={'source': 'data/data_processing/РАЗДЕЛ 6/РАЗДЕЛ 6.docx', 'category_depth': 0, 'file_directory': 'data/data_processing/РАЗДЕЛ 6', 'filename': 'РАЗДЕЛ 6.docx', 'last_modified': '2025-07-08T17:17:29', 'languages': ['rus'], 'filetype': 'application/vnd.openxmlformats-officedocument.wordprocessingml.document', 'parent_id': '9e8000587e7994102816045a03d1ce72', 'category': 'UncategorizedText', 'element_id': '23be127303549bdec67e1e434ec42472'}, page_content='Процедура прогрева установки является необходимым условием для нормального пуска всякий раз, когда температура окружающей среды ниже –17°С.'),\n",
       " Document(metadata={'source': 'data/data_processing/РАЗДЕЛ 6/РАЗДЕЛ 6.docx', 'category_depth': 0, 'file_directory': 'data/data_processing/РАЗДЕЛ 6', 'filename': 'РАЗДЕЛ 6.docx', 'last_modified': '2025-07-08T17:17:29', 'languages': ['rus'], 'filetype': 'application/vnd.openxmlformats-officedocument.wordprocessingml.document', 'parent_id': '9e8000587e7994102816045a03d1ce72', 'category': 'NarrativeText', 'element_id': 'c1180c9afbbd44adba1c386953f92b6a'}, page_content=' а/ колонна подготовки сырья–секция 100'),\n",
       " Document(metadata={'source': 'data/data_processing/РАЗДЕЛ 6/РАЗДЕЛ 6.docx', 'category_depth': 0, 'file_directory': 'data/data_processing/РАЗДЕЛ 6', 'filename': 'РАЗДЕЛ 6.docx', 'last_modified': '2025-07-08T17:17:29', 'languages': ['rus'], 'filetype': 'application/vnd.openxmlformats-officedocument.wordprocessingml.document', 'parent_id': '9e8000587e7994102816045a03d1ce72', 'category': 'UncategorizedText', 'element_id': 'd99dab5d44f30afc3c80509e72dcbfa8'}, page_content='1. Дать сырье в колонну Т-101 примерно 7м3/час.'),\n",
       " Document(metadata={'source': 'data/data_processing/РАЗДЕЛ 6/РАЗДЕЛ 6.docx', 'category_depth': 0, 'file_directory': 'data/data_processing/РАЗДЕЛ 6', 'filename': 'РАЗДЕЛ 6.docx', 'last_modified': '2025-07-08T17:17:29', 'languages': ['rus'], 'filetype': 'application/vnd.openxmlformats-officedocument.wordprocessingml.document', 'parent_id': '9e8000587e7994102816045a03d1ce72', 'category': 'UncategorizedText', 'element_id': '479c8d5d52f9cc06fd2f1f8d706cefe2'}, page_content='2. Поддавить колонну Т-101 до 1,5 кг/см2.'),\n",
       " Document(metadata={'source': 'data/data_processing/РАЗДЕЛ 6/РАЗДЕЛ 6.docx', 'category_depth': 0, 'file_directory': 'data/data_processing/РАЗДЕЛ 6', 'filename': 'РАЗДЕЛ 6.docx', 'last_modified': '2025-07-08T17:17:29', 'languages': ['rus'], 'filetype': 'application/vnd.openxmlformats-officedocument.wordprocessingml.document', 'parent_id': '9e8000587e7994102816045a03d1ce72', 'category': 'NarrativeText', 'element_id': '9bf62c873a9808e9a9bb746483ce132e'}, page_content='3. Открыть запорную арматуру 147HL, 148HL на линии подачи изопентановой фракции в трубопровод сырья. Клапаном регулятором поз. FV-418 отрегулировать со щита в операторной подачу изопентановой фракции в количестве 1,5-2 м3/час.'),\n",
       " Document(metadata={'source': 'data/data_processing/РАЗДЕЛ 6/РАЗДЕЛ 6.docx', 'category_depth': 0, 'file_directory': 'data/data_processing/РАЗДЕЛ 6', 'filename': 'РАЗДЕЛ 6.docx', 'last_modified': '2025-07-08T17:17:29', 'languages': ['rus'], 'filetype': 'application/vnd.openxmlformats-officedocument.wordprocessingml.document', 'parent_id': '9e8000587e7994102816045a03d1ce72', 'category': 'UncategorizedText', 'element_id': '31019dd3aa7b3c8e37496eb1a981e91a'}, page_content='3. При наборе уровня в колонне пустить насос Р-201 А, В и наладить циркуляцию по Т-101 с откачкой в некондицию.'),\n",
       " Document(metadata={'source': 'data/data_processing/РАЗДЕЛ 6/РАЗДЕЛ 6.docx', 'category_depth': 0, 'file_directory': 'data/data_processing/РАЗДЕЛ 6', 'filename': 'РАЗДЕЛ 6.docx', 'last_modified': '2025-07-08T17:17:29', 'languages': ['rus'], 'filetype': 'application/vnd.openxmlformats-officedocument.wordprocessingml.document', 'parent_id': '9e8000587e7994102816045a03d1ce72', 'category': 'UncategorizedText', 'element_id': '47bfa57ea9736ebb3aceeb6a09589fb2'}, page_content='4. Подать пар 0,6 МПа в корпус теплообменника Е-203А,В для подогрева сырья.'),\n",
       " Document(metadata={'source': 'data/data_processing/РАЗДЕЛ 6/РАЗДЕЛ 6.docx', 'category_depth': 0, 'file_directory': 'data/data_processing/РАЗДЕЛ 6', 'filename': 'РАЗДЕЛ 6.docx', 'last_modified': '2025-07-08T17:17:29', 'languages': ['rus'], 'filetype': 'application/vnd.openxmlformats-officedocument.wordprocessingml.document', 'parent_id': '9e8000587e7994102816045a03d1ce72', 'category': 'NarrativeText', 'element_id': '9ce54c34d2dceb9dc9229dc1972a228a'}, page_content='5. Подать минимальное количество пара в рибойлер Е-102, когда появится уровень в G-101, включить в работу в автоматическом режиме приборы поз. FIC-410 и поз. LIC-101.'),\n",
       " Document(metadata={'source': 'data/data_processing/РАЗДЕЛ 6/РАЗДЕЛ 6.docx', 'category_depth': 0, 'file_directory': 'data/data_processing/РАЗДЕЛ 6', 'filename': 'РАЗДЕЛ 6.docx', 'last_modified': '2025-07-08T17:17:29', 'languages': ['rus'], 'filetype': 'application/vnd.openxmlformats-officedocument.wordprocessingml.document', 'parent_id': '9e8000587e7994102816045a03d1ce72', 'category': 'NarrativeText', 'element_id': '306d7b3b1f0ef6909ddfa017efe8162b'}, page_content='6. Подавать такое количество пара чтобы подъем температуры низа Т-101 был со скоростью не выше 15°С в час.'),\n",
       " Document(metadata={'source': 'data/data_processing/РАЗДЕЛ 6/РАЗДЕЛ 6.docx', 'category_depth': 0, 'file_directory': 'data/data_processing/РАЗДЕЛ 6', 'filename': 'РАЗДЕЛ 6.docx', 'last_modified': '2025-07-08T17:17:29', 'languages': ['rus'], 'filetype': 'application/vnd.openxmlformats-officedocument.wordprocessingml.document', 'parent_id': '9e8000587e7994102816045a03d1ce72', 'category': 'NarrativeText', 'element_id': 'cd3cbc14559f360306a3bfd15a6abf08'}, page_content='7. Появление уровня в V-101 свидетельствует о том, что прогрев блока подготовки сырья закончен и дальнейший пуск вести согласно раздел 6.2.1. настоящего регламента.'),\n",
       " Document(metadata={'source': 'data/data_processing/РАЗДЕЛ 6/РАЗДЕЛ 6.docx', 'category_depth': 0, 'file_directory': 'data/data_processing/РАЗДЕЛ 6', 'filename': 'РАЗДЕЛ 6.docx', 'last_modified': '2025-07-08T17:17:29', 'languages': ['rus'], 'filetype': 'application/vnd.openxmlformats-officedocument.wordprocessingml.document', 'parent_id': '9e8000587e7994102816045a03d1ce72', 'category': 'UncategorizedText', 'element_id': '3c9bf2ed7538b37afcf374ed4706cc65'}, page_content=' б/ Секция 200–каталитический риформинг.'),\n",
       " Document(metadata={'source': 'data/data_processing/РАЗДЕЛ 6/РАЗДЕЛ 6.docx', 'category_depth': 0, 'file_directory': 'data/data_processing/РАЗДЕЛ 6', 'filename': 'РАЗДЕЛ 6.docx', 'last_modified': '2025-07-08T17:17:29', 'languages': ['rus'], 'filetype': 'application/vnd.openxmlformats-officedocument.wordprocessingml.document', 'parent_id': '9e8000587e7994102816045a03d1ce72', 'category': 'UncategorizedText', 'element_id': '0e766ddb9b05b4bb3e805ec90684b558'}, page_content='1. Продуть реакторный блок азотом до содержания кислорода в системе не более 0,5-1% об.'),\n",
       " Document(metadata={'source': 'data/data_processing/РАЗДЕЛ 6/РАЗДЕЛ 6.docx', 'category_depth': 0, 'file_directory': 'data/data_processing/РАЗДЕЛ 6', 'filename': 'РАЗДЕЛ 6.docx', 'last_modified': '2025-07-08T17:17:29', 'languages': ['rus'], 'filetype': 'application/vnd.openxmlformats-officedocument.wordprocessingml.document', 'parent_id': '9e8000587e7994102816045a03d1ce72', 'category': 'NarrativeText', 'element_id': 'bfe399f6c963ea83a0497338d0502db1'}, page_content='2. Набрать давление в системе реакторного блока не более 3,5 кг/см2'),\n",
       " Document(metadata={'source': 'data/data_processing/РАЗДЕЛ 6/РАЗДЕЛ 6.docx', 'category_depth': 0, 'file_directory': 'data/data_processing/РАЗДЕЛ 6', 'filename': 'РАЗДЕЛ 6.docx', 'last_modified': '2025-07-08T17:17:29', 'languages': ['rus'], 'filetype': 'application/vnd.openxmlformats-officedocument.wordprocessingml.document', 'parent_id': '9e8000587e7994102816045a03d1ce72', 'category': 'UncategorizedText', 'element_id': 'abfb1c4eeaa90dd72d20c9d80af35cbf'}, page_content='3. Пустить компрессор К-201А, В и наладить циркуляцию ВСГ по реакторному блоку'),\n",
       " Document(metadata={'source': 'data/data_processing/РАЗДЕЛ 6/РАЗДЕЛ 6.docx', 'category_depth': 0, 'file_directory': 'data/data_processing/РАЗДЕЛ 6', 'filename': 'РАЗДЕЛ 6.docx', 'last_modified': '2025-07-08T17:17:29', 'languages': ['rus'], 'filetype': 'application/vnd.openxmlformats-officedocument.wordprocessingml.document', 'parent_id': '9e8000587e7994102816045a03d1ce72', 'category': 'UncategorizedText', 'element_id': '3796b873c72225be26abde544c1c9bdc'}, page_content='4. Разжечь печи Н-201 А, В, С согласно инструкции по пуску и эксплуатации печей.'),\n",
       " Document(metadata={'source': 'data/data_processing/РАЗДЕЛ 6/РАЗДЕЛ 6.docx', 'category_depth': 0, 'file_directory': 'data/data_processing/РАЗДЕЛ 6', 'filename': 'РАЗДЕЛ 6.docx', 'last_modified': '2025-07-08T17:17:29', 'languages': ['rus'], 'filetype': 'application/vnd.openxmlformats-officedocument.wordprocessingml.document', 'parent_id': '9e8000587e7994102816045a03d1ce72', 'category': 'NarrativeText', 'element_id': '32a186cb60a3df6fa9a9e4d79feff833'}, page_content='5. Нагрев циркулирующего азота вести со скоростью не более 15°С в час.'),\n",
       " Document(metadata={'source': 'data/data_processing/РАЗДЕЛ 6/РАЗДЕЛ 6.docx', 'category_depth': 0, 'file_directory': 'data/data_processing/РАЗДЕЛ 6', 'filename': 'РАЗДЕЛ 6.docx', 'last_modified': '2025-07-08T17:17:29', 'languages': ['rus'], 'filetype': 'application/vnd.openxmlformats-officedocument.wordprocessingml.document', 'parent_id': '9e8000587e7994102816045a03d1ce72', 'category': 'UncategorizedText', 'element_id': '99dadc64032f345e806eb735da07fe6a'}, page_content='6. Как только температура после воздушного холодильника АС-201 А покажет -17°С и выше считается, что предварительный подогрев реакторного блока закончен.'),\n",
       " Document(metadata={'source': 'data/data_processing/РАЗДЕЛ 6/РАЗДЕЛ 6.docx', 'category_depth': 0, 'file_directory': 'data/data_processing/РАЗДЕЛ 6', 'filename': 'РАЗДЕЛ 6.docx', 'last_modified': '2025-07-08T17:17:29', 'languages': ['rus'], 'filetype': 'application/vnd.openxmlformats-officedocument.wordprocessingml.document', 'parent_id': '9e8000587e7994102816045a03d1ce72', 'category': 'UncategorizedText', 'element_id': '4cc83eb2815c2385bf23c55e261e9430'}, page_content='7. Колонна Т-201, АС-201 В, С прогревается следующим образом:'),\n",
       " Document(metadata={'source': 'data/data_processing/РАЗДЕЛ 6/РАЗДЕЛ 6.docx', 'category_depth': 0, 'file_directory': 'data/data_processing/РАЗДЕЛ 6', 'filename': 'РАЗДЕЛ 6.docx', 'last_modified': '2025-07-08T17:17:29', 'languages': ['rus'], 'filetype': 'application/vnd.openxmlformats-officedocument.wordprocessingml.document', 'parent_id': '9e8000587e7994102816045a03d1ce72', 'category': 'ListItem', 'element_id': 'cfcfe3304c7f011ec6ce1ea3bf193c16'}, page_content='дать азот из сухой части сепаратора V-201 через Е-203  в колонну Т-201 с последующим сбросом через V-202 в атмосферу. Падение давления на реакторном блоке компенсировать подачей свежего азота.'),\n",
       " Document(metadata={'source': 'data/data_processing/РАЗДЕЛ 6/РАЗДЕЛ 6.docx', 'category_depth': 0, 'file_directory': 'data/data_processing/РАЗДЕЛ 6', 'filename': 'РАЗДЕЛ 6.docx', 'last_modified': '2025-07-08T17:17:29', 'languages': ['rus'], 'filetype': 'application/vnd.openxmlformats-officedocument.wordprocessingml.document', 'parent_id': '9e8000587e7994102816045a03d1ce72', 'category': 'ListItem', 'element_id': 'f7e03824a2ebcc0fa4e9f86086af0878'}, page_content='при достижении температуры после воздушного холодильника АС-201В – 17°С считается, что прогрев колонны Т-201 закончен.'),\n",
       " Document(metadata={'source': 'data/data_processing/РАЗДЕЛ 6/РАЗДЕЛ 6.docx', 'category_depth': 0, 'file_directory': 'data/data_processing/РАЗДЕЛ 6', 'filename': 'РАЗДЕЛ 6.docx', 'last_modified': '2025-07-08T17:17:29', 'languages': ['rus'], 'filetype': 'application/vnd.openxmlformats-officedocument.wordprocessingml.document', 'parent_id': '9e8000587e7994102816045a03d1ce72', 'category': 'ListItem', 'element_id': 'c22a52817bcd808a0d2a797f42da2373'}, page_content='набрать давление в V-202 8 кг/см2 и наладить широкую циркуляцию бензина через колонны Т-101, Т-201, что позволит прогреть остальное оборудование и трубопроводы блока стабилизации.'),\n",
       " Document(metadata={'source': 'data/data_processing/РАЗДЕЛ 6/РАЗДЕЛ 6.docx', 'category_depth': 0, 'file_directory': 'data/data_processing/РАЗДЕЛ 6', 'filename': 'РАЗДЕЛ 6.docx', 'last_modified': '2025-07-08T17:17:29', 'languages': ['rus'], 'filetype': 'application/vnd.openxmlformats-officedocument.wordprocessingml.document', 'parent_id': '9e8000587e7994102816045a03d1ce72', 'category': 'NarrativeText', 'element_id': 'c1c9fd3abcd01b7f947c3ecf3debb493'}, page_content='8. После окончания предварительного прогрева секции 200–каталитического риформинга дальнейший пуск производить согласно раздела 6.2.2. настоящего регламента.'),\n",
       " Document(metadata={'source': 'data/data_processing/РАЗДЕЛ 6/РАЗДЕЛ 6.docx', 'category_depth': 0, 'emphasized_text_contents': ['6.2.4 Пуск блока риформинга после кратковременной остановки'], 'emphasized_text_tags': ['b'], 'file_directory': 'data/data_processing/РАЗДЕЛ 6', 'filename': 'РАЗДЕЛ 6.docx', 'last_modified': '2025-07-08T17:17:29', 'languages': ['rus'], 'filetype': 'application/vnd.openxmlformats-officedocument.wordprocessingml.document', 'parent_id': '9e8000587e7994102816045a03d1ce72', 'category': 'UncategorizedText', 'element_id': 'a300bd491be5c311a600053b20a18b37'}, page_content='6.2.4 Пуск блока риформинга после кратковременной остановки'),\n",
       " Document(metadata={'source': 'data/data_processing/РАЗДЕЛ 6/РАЗДЕЛ 6.docx', 'category_depth': 0, 'file_directory': 'data/data_processing/РАЗДЕЛ 6', 'filename': 'РАЗДЕЛ 6.docx', 'last_modified': '2025-07-08T17:17:29', 'languages': ['rus'], 'filetype': 'application/vnd.openxmlformats-officedocument.wordprocessingml.document', 'parent_id': '9e8000587e7994102816045a03d1ce72', 'category': 'NarrativeText', 'element_id': 'e7b49a8c6546022c133b972c1309d710'}, page_content='При необходимости кратковременной остановки блока риформинга с остановкой циркуляционных компрессоров К-201 А/В и технологических печей Н-201А/В/С, сырье снимается с блока риформинга и выводится на широкую циркуляцию через колонны Т-101 и Т-201 в линию некондиции, согласно разделу 6.4.1 настоящего регламента. Реакторный блок останавливается согласно разделу 6.4.2 настоящего регламента.'),\n",
       " Document(metadata={'source': 'data/data_processing/РАЗДЕЛ 6/РАЗДЕЛ 6.docx', 'category_depth': 0, 'file_directory': 'data/data_processing/РАЗДЕЛ 6', 'filename': 'РАЗДЕЛ 6.docx', 'last_modified': '2025-07-08T17:17:29', 'languages': ['rus'], 'filetype': 'application/vnd.openxmlformats-officedocument.wordprocessingml.document', 'parent_id': '9e8000587e7994102816045a03d1ce72', 'category': 'NarrativeText', 'element_id': 'dc21d1516343f7d687264da19a5e391e'}, page_content='Необходимым условием для последующего пуска и вывода на режим реакторного блока, охлажденного до температуры 50°С и ниже, является процедура опрессовки блока на рабочее давление азотом с обмыливанием фланцевых соединений печного и реакторного оборудования согласно разделу 6.1.2.8 настоящего регламента.  Процедуру опрессовки реакторного блока необходимо предусмотреть даже в случае проведения работ без вскрытия аппаратов, трубопроводов, запорной арматуры с нарушением герметичности разъемных фланцевых соединений.'),\n",
       " Document(metadata={'source': 'data/data_processing/РАЗДЕЛ 6/РАЗДЕЛ 6.docx', 'category_depth': 0, 'file_directory': 'data/data_processing/РАЗДЕЛ 6', 'filename': 'РАЗДЕЛ 6.docx', 'last_modified': '2025-07-08T17:17:29', 'languages': ['rus'], 'filetype': 'application/vnd.openxmlformats-officedocument.wordprocessingml.document', 'parent_id': '9e8000587e7994102816045a03d1ce72', 'category': 'NarrativeText', 'element_id': '14166c192922f6b30aca94fbd1142ce3'}, page_content='Дальнейший пуск установки и вывод на технологический режим проводится согласно разделам 6.2.1 и 6.2.2 настоящего регламента.'),\n",
       " Document(metadata={'source': 'data/data_processing/РАЗДЕЛ 6/РАЗДЕЛ 6.docx', 'category_depth': 0, 'emphasized_text_contents': ['6.2.5 Отключение (подключение) реактора сероочистки R-204 в период нормальной работы установки'], 'emphasized_text_tags': ['b'], 'file_directory': 'data/data_processing/РАЗДЕЛ 6', 'filename': 'РАЗДЕЛ 6.docx', 'last_modified': '2025-07-08T17:17:29', 'languages': ['rus'], 'filetype': 'application/vnd.openxmlformats-officedocument.wordprocessingml.document', 'parent_id': '9e8000587e7994102816045a03d1ce72', 'category': 'NarrativeText', 'element_id': 'a85b76056a65ccf5cdc4520c5bd39205'}, page_content='6.2.5 Отключение (подключение) реактора сероочистки R-204 в период нормальной работы установки'),\n",
       " Document(metadata={'source': 'data/data_processing/РАЗДЕЛ 6/РАЗДЕЛ 6.docx', 'category_depth': 0, 'file_directory': 'data/data_processing/РАЗДЕЛ 6', 'filename': 'РАЗДЕЛ 6.docx', 'last_modified': '2025-07-08T17:17:29', 'languages': ['rus'], 'filetype': 'application/vnd.openxmlformats-officedocument.wordprocessingml.document', 'parent_id': '9e8000587e7994102816045a03d1ce72', 'category': 'NarrativeText', 'element_id': '5875fdec96c92590a463d78c23808376'}, page_content='В случае переработки гидроочищенного сырья секции 400 КОМТ в смеси с изопентановой фракцией имеется возможность временного вывода в резерв реактора сероочистки R-204 путем отключения и байпасирования реактора. После отключения реактора сероочистки с целью недопущения отравления катализатора риформинга серосодержащими веществами необходимо следить за содержанием серы в сырье реакторного блока (куб колонны Т-101) не более 0,003 %об.\\n(30 ppm).'),\n",
       " Document(metadata={'source': 'data/data_processing/РАЗДЕЛ 6/РАЗДЕЛ 6.docx', 'category_depth': 0, 'file_directory': 'data/data_processing/РАЗДЕЛ 6', 'filename': 'РАЗДЕЛ 6.docx', 'last_modified': '2025-07-08T17:17:29', 'languages': ['rus'], 'filetype': 'application/vnd.openxmlformats-officedocument.wordprocessingml.document', 'parent_id': '9e8000587e7994102816045a03d1ce72', 'category': 'NarrativeText', 'element_id': 'f136f3ec303fe33ee9609c732202a673'}, page_content='Блок подготовки сырья и блок стабилизации для отключения реактора сероочистки останавливается согласно пунктам 6.4.1 и 6.4.2 настоящего регламента. Реакторный блок останавливается следующим образом: '),\n",
       " Document(metadata={'source': 'data/data_processing/РАЗДЕЛ 6/РАЗДЕЛ 6.docx', 'category_depth': 0, 'file_directory': 'data/data_processing/РАЗДЕЛ 6', 'filename': 'РАЗДЕЛ 6.docx', 'last_modified': '2025-07-08T17:17:29', 'languages': ['rus'], 'filetype': 'application/vnd.openxmlformats-officedocument.wordprocessingml.document', 'parent_id': '9e8000587e7994102816045a03d1ce72', 'category': 'NarrativeText', 'element_id': '4d898a591f3db4777090592842f905b2'}, page_content='Понизить температуру на входе в реакторы со скоростью 40-45°С в час до 427°С. По мере снижения загрузки и понижения температуры будет снижаться циркуляционный расход ВСГ от компрессоров К-201 А,В. Для поддержания его на уровне 3800-4200 кг/час подпитать систему реакторного блока водородсодержащим газом с установки КОМТ через клапанную сборку FV-424. При достижении температуры на входе в реакторы 427°С снять сырье с блока риформинга и оставить циркуляцию ВСГ от компрессоров К-201А,В. Продуть сепаратор V-201 от продукта до газа, после чего перекрыть переток с V-201 в Е-203. Понизить давление в сепараторе V-201 до 8-10 кг/см2. Со скоростью 40-50°С в час понизить температуру на входе в реакторы до 300°С. Отключить реактор сероочистки R-204 для чего:'),\n",
       " Document(metadata={'source': 'data/data_processing/РАЗДЕЛ 6/РАЗДЕЛ 6.docx', 'category_depth': 0, 'file_directory': 'data/data_processing/РАЗДЕЛ 6', 'filename': 'РАЗДЕЛ 6.docx', 'last_modified': '2025-07-08T17:17:29', 'languages': ['rus'], 'filetype': 'application/vnd.openxmlformats-officedocument.wordprocessingml.document', 'parent_id': '9e8000587e7994102816045a03d1ce72', 'category': 'ListItem', 'element_id': '281a8dcd933e08b78c0ec8a3b905ccf6'}, page_content='плавно открыть задвижку 24HV на байпасе реактора;'),\n",
       " Document(metadata={'source': 'data/data_processing/РАЗДЕЛ 6/РАЗДЕЛ 6.docx', 'category_depth': 0, 'file_directory': 'data/data_processing/РАЗДЕЛ 6', 'filename': 'РАЗДЕЛ 6.docx', 'last_modified': '2025-07-08T17:17:29', 'languages': ['rus'], 'filetype': 'application/vnd.openxmlformats-officedocument.wordprocessingml.document', 'parent_id': '9e8000587e7994102816045a03d1ce72', 'category': 'ListItem', 'element_id': 'c878b22d91a4753632415b7d1ae9de84'}, page_content='плавно закрыть задвижку 23HV на выходе продукта из реактора R-204;'),\n",
       " Document(metadata={'source': 'data/data_processing/РАЗДЕЛ 6/РАЗДЕЛ 6.docx', 'category_depth': 0, 'file_directory': 'data/data_processing/РАЗДЕЛ 6', 'filename': 'РАЗДЕЛ 6.docx', 'last_modified': '2025-07-08T17:17:29', 'languages': ['rus'], 'filetype': 'application/vnd.openxmlformats-officedocument.wordprocessingml.document', 'parent_id': '9e8000587e7994102816045a03d1ce72', 'category': 'ListItem', 'element_id': '95225bc594d4b947433db9262479733a'}, page_content='плавно закрыть задвижку 22HV на входе в реактор R-204.'),\n",
       " Document(metadata={'source': 'data/data_processing/РАЗДЕЛ 6/РАЗДЕЛ 6.docx', 'category_depth': 0, 'file_directory': 'data/data_processing/РАЗДЕЛ 6', 'filename': 'РАЗДЕЛ 6.docx', 'last_modified': '2025-07-08T17:17:29', 'languages': ['rus'], 'filetype': 'application/vnd.openxmlformats-officedocument.wordprocessingml.document', 'parent_id': '9e8000587e7994102816045a03d1ce72', 'category': 'NarrativeText', 'element_id': 'de3765390fd96bf1fe6fbb6bdcd98dd2'}, page_content='После отключения реактора сероочистки блок подготовки сырья, реакторный блок и блок стабилизации выводятся на режим согласно разделам 6.2.1 и 6.2.2 регламента.'),\n",
       " Document(metadata={'source': 'data/data_processing/РАЗДЕЛ 6/РАЗДЕЛ 6.docx', 'category_depth': 0, 'file_directory': 'data/data_processing/РАЗДЕЛ 6', 'filename': 'РАЗДЕЛ 6.docx', 'last_modified': '2025-07-08T17:17:29', 'languages': ['rus'], 'filetype': 'application/vnd.openxmlformats-officedocument.wordprocessingml.document', 'parent_id': '9e8000587e7994102816045a03d1ce72', 'category': 'UncategorizedText', 'element_id': 'bff93b12c4fcd972fca218ef2549cf96'}, page_content='Для подключения реактора сероочистки R-204 необходимо:'),\n",
       " Document(metadata={'source': 'data/data_processing/РАЗДЕЛ 6/РАЗДЕЛ 6.docx', 'category_depth': 0, 'file_directory': 'data/data_processing/РАЗДЕЛ 6', 'filename': 'РАЗДЕЛ 6.docx', 'last_modified': '2025-07-08T17:17:29', 'languages': ['rus'], 'filetype': 'application/vnd.openxmlformats-officedocument.wordprocessingml.document', 'parent_id': '9e8000587e7994102816045a03d1ce72', 'category': 'ListItem', 'element_id': '2891fc65ebfa07b8d8a7fbaa3afe3d42'}, page_content='плавно открыть задвижку 23HV на выходе продукта из реактора R-204;'),\n",
       " Document(metadata={'source': 'data/data_processing/РАЗДЕЛ 6/РАЗДЕЛ 6.docx', 'category_depth': 0, 'file_directory': 'data/data_processing/РАЗДЕЛ 6', 'filename': 'РАЗДЕЛ 6.docx', 'last_modified': '2025-07-08T17:17:29', 'languages': ['rus'], 'filetype': 'application/vnd.openxmlformats-officedocument.wordprocessingml.document', 'parent_id': '9e8000587e7994102816045a03d1ce72', 'category': 'ListItem', 'element_id': '8bddcbf631fa46e05d252afed2610ac0'}, page_content='плавно открыть задвижку 22HV на входе  в  реактор R-204;'),\n",
       " Document(metadata={'source': 'data/data_processing/РАЗДЕЛ 6/РАЗДЕЛ 6.docx', 'category_depth': 0, 'file_directory': 'data/data_processing/РАЗДЕЛ 6', 'filename': 'РАЗДЕЛ 6.docx', 'last_modified': '2025-07-08T17:17:29', 'languages': ['rus'], 'filetype': 'application/vnd.openxmlformats-officedocument.wordprocessingml.document', 'parent_id': '9e8000587e7994102816045a03d1ce72', 'category': 'ListItem', 'element_id': 'b4ab78be8d7f97d3c91607fe38fafdad'}, page_content='плавно закрыть задвижку 24HV на байпасе реактора.'),\n",
       " Document(metadata={'source': 'data/data_processing/РАЗДЕЛ 6/РАЗДЕЛ 6.docx', 'category_depth': 0, 'emphasized_text_contents': ['6.3 Нормальная эксплуатация установки'], 'emphasized_text_tags': ['b'], 'file_directory': 'data/data_processing/РАЗДЕЛ 6', 'filename': 'РАЗДЕЛ 6.docx', 'last_modified': '2025-07-08T17:17:29', 'languages': ['rus'], 'filetype': 'application/vnd.openxmlformats-officedocument.wordprocessingml.document', 'parent_id': '9e8000587e7994102816045a03d1ce72', 'category': 'UncategorizedText', 'element_id': '55f24757645215bd742b4e37707895f1'}, page_content='6.3 Нормальная эксплуатация установки'),\n",
       " Document(metadata={'source': 'data/data_processing/РАЗДЕЛ 6/РАЗДЕЛ 6.docx', 'category_depth': 0, 'emphasized_text_contents': ['6.3.1 Колонна подготовки сырья Т-101'], 'emphasized_text_tags': ['b'], 'file_directory': 'data/data_processing/РАЗДЕЛ 6', 'filename': 'РАЗДЕЛ 6.docx', 'last_modified': '2025-07-08T17:17:29', 'languages': ['rus'], 'filetype': 'application/vnd.openxmlformats-officedocument.wordprocessingml.document', 'parent_id': '9e8000587e7994102816045a03d1ce72', 'category': 'UncategorizedText', 'element_id': '7666875a7e7aac6e2a8f631ad84b3d9f'}, page_content='6.3.1 Колонна подготовки сырья Т-101'),\n",
       " Document(metadata={'source': 'data/data_processing/РАЗДЕЛ 6/РАЗДЕЛ 6.docx', 'category_depth': 0, 'file_directory': 'data/data_processing/РАЗДЕЛ 6', 'filename': 'РАЗДЕЛ 6.docx', 'last_modified': '2025-07-08T17:17:29', 'languages': ['rus'], 'filetype': 'application/vnd.openxmlformats-officedocument.wordprocessingml.document', 'parent_id': '9e8000587e7994102816045a03d1ce72', 'category': 'NarrativeText', 'element_id': 'f62503c03506e216b965f27988b773b5'}, page_content='В целях обеспечения надежной работы колонны подготовки сырья и последующей работы секции 200–каталитического риформинга следует предпринять меры для удержания в допустимых пределах фракционный состав и плотность подаваемого в колонну сырья. Сырье для установки каталитического риформинга готовится на установке моторных топлив. Изменение фракционного состава или плотности возможно только изменением режима на установке моторных топлив.'),\n",
       " Document(metadata={'source': 'data/data_processing/РАЗДЕЛ 6/РАЗДЕЛ 6.docx', 'category_depth': 0, 'file_directory': 'data/data_processing/РАЗДЕЛ 6', 'filename': 'РАЗДЕЛ 6.docx', 'last_modified': '2025-07-08T17:17:29', 'languages': ['rus'], 'filetype': 'application/vnd.openxmlformats-officedocument.wordprocessingml.document', 'parent_id': '9e8000587e7994102816045a03d1ce72', 'category': 'UncategorizedText', 'element_id': 'bc5d7a02365b50b6772efa525de58355'}, page_content='При постоянном фракционном составе и постоянной скорости подачи сырья основными рабочими параметрами, влияющими на качество сырья подаваемого на блок риформинга, являются температура низа колонны Т-101, которая регулируется подачей пара в рибойлер Е-102, температура на 43-ей тарелке и рабочее давление.'),\n",
       " Document(metadata={'source': 'data/data_processing/РАЗДЕЛ 6/РАЗДЕЛ 6.docx', 'category_depth': 0, 'file_directory': 'data/data_processing/РАЗДЕЛ 6', 'filename': 'РАЗДЕЛ 6.docx', 'last_modified': '2025-07-08T17:17:29', 'languages': ['rus'], 'filetype': 'application/vnd.openxmlformats-officedocument.wordprocessingml.document', 'parent_id': '9e8000587e7994102816045a03d1ce72', 'category': 'UncategorizedText', 'element_id': '43c569d240a157322681c7fe5b7fe24f'}, page_content='Принцип управления состоит в следующем:'),\n",
       " Document(metadata={'source': 'data/data_processing/РАЗДЕЛ 6/РАЗДЕЛ 6.docx', 'category_depth': 0, 'file_directory': 'data/data_processing/РАЗДЕЛ 6', 'filename': 'РАЗДЕЛ 6.docx', 'last_modified': '2025-07-08T17:17:29', 'languages': ['rus'], 'filetype': 'application/vnd.openxmlformats-officedocument.wordprocessingml.document', 'parent_id': '9e8000587e7994102816045a03d1ce72', 'category': 'NarrativeText', 'element_id': 'fdd766062d121c2a2bceddd8debd9dcc'}, page_content='1. Температура низа, регулируемая расходом водяного пара в рибойлер Е-102, устанавливается такой, чтобы было достаточное количество орошения для нормального процесса ректификации и получения требуемого разделения. При увеличении загрузки колонны необходимо увеличивать количество пара подаваемого в рибойлер, при снижении загрузки колонны, необходимо понизить расход пара в рибойлер.'),\n",
       " Document(metadata={'source': 'data/data_processing/РАЗДЕЛ 6/РАЗДЕЛ 6.docx', 'category_depth': 0, 'file_directory': 'data/data_processing/РАЗДЕЛ 6', 'filename': 'РАЗДЕЛ 6.docx', 'last_modified': '2025-07-08T17:17:29', 'languages': ['rus'], 'filetype': 'application/vnd.openxmlformats-officedocument.wordprocessingml.document', 'parent_id': '9e8000587e7994102816045a03d1ce72', 'category': 'NarrativeText', 'element_id': '439ec90376f7dc4c3b7c4a1bb5e28bb8'}, page_content='2. Температура 43-ей тарелки устанавливается таким образом, что часть изопентановой фракции попадает в сырье риформинга, для увеличения расхода циркуляционного газа (ЦГ) на реакторном блоке и часть попадает с легкой углеводородной фракцией в сырье блока стабилизации, для поддержания нормальной работы.'),\n",
       " Document(metadata={'source': 'data/data_processing/РАЗДЕЛ 6/РАЗДЕЛ 6.docx', 'category_depth': 0, 'file_directory': 'data/data_processing/РАЗДЕЛ 6', 'filename': 'РАЗДЕЛ 6.docx', 'last_modified': '2025-07-08T17:17:29', 'languages': ['rus'], 'filetype': 'application/vnd.openxmlformats-officedocument.wordprocessingml.document', 'parent_id': '9e8000587e7994102816045a03d1ce72', 'category': 'NarrativeText', 'element_id': '92f04933d080d7b2dbf3357a764c976a'}, page_content='При использовании гидрогенизата секции 400 КОМТ регулирование режима колонны Т-101 производится подачей изопентановой фракции.'),\n",
       " Document(metadata={'source': 'data/data_processing/РАЗДЕЛ 6/РАЗДЕЛ 6.docx', 'category_depth': 0, 'file_directory': 'data/data_processing/РАЗДЕЛ 6', 'filename': 'РАЗДЕЛ 6.docx', 'last_modified': '2025-07-08T17:17:29', 'languages': ['rus'], 'filetype': 'application/vnd.openxmlformats-officedocument.wordprocessingml.document', 'parent_id': '9e8000587e7994102816045a03d1ce72', 'category': 'NarrativeText', 'element_id': 'fd953a5ddc427fd28cde56589d29bc07'}, page_content='3. Давление поддерживается достаточным для конденсации верхнего погона. Давление практически редко используется для регулировки режима в колонне, в основном при пуске установки.'),\n",
       " Document(metadata={'source': 'data/data_processing/РАЗДЕЛ 6/РАЗДЕЛ 6.docx', 'category_depth': 0, 'file_directory': 'data/data_processing/РАЗДЕЛ 6', 'filename': 'РАЗДЕЛ 6.docx', 'last_modified': '2025-07-08T17:17:29', 'languages': ['rus'], 'filetype': 'application/vnd.openxmlformats-officedocument.wordprocessingml.document', 'parent_id': '9e8000587e7994102816045a03d1ce72', 'category': 'NarrativeText', 'element_id': '0ee33e22abc3839c2e07b6ea4c5cf81d'}, page_content='Нормальный расход водяного пара в рибойлер Е-102 равен не более 4200 кг/час, под избыточным давлением 10 кг/см2 и контролируется прибором поз. FIRC-410. Температура 43-ей тарелки составляет не более 105°С и контролируется прибором поз.TIC-202. Нормальное рабочее давление верхнего погона равняется 2,7 кг/см2 и контролируется прибором поз. PRC-301.'),\n",
       " Document(metadata={'source': 'data/data_processing/РАЗДЕЛ 6/РАЗДЕЛ 6.docx', 'category_depth': 0, 'file_directory': 'data/data_processing/РАЗДЕЛ 6', 'filename': 'РАЗДЕЛ 6.docx', 'last_modified': '2025-07-08T17:17:29', 'languages': ['rus'], 'filetype': 'application/vnd.openxmlformats-officedocument.wordprocessingml.document', 'parent_id': '9e8000587e7994102816045a03d1ce72', 'category': 'UncategorizedText', 'element_id': 'c43b7758c3d0697e6f4c790df88e4a2d'}, page_content='Нисходящий расход флегмы в разделительной колонне и восходящий поток паров из куба колонны обеспечивают необходимую циркуляцию жидкости и пара по тарелкам, на которых контакт приводит к конденсации высококипящих смесей и испарению низкокипящих смесей.'),\n",
       " Document(metadata={'source': 'data/data_processing/РАЗДЕЛ 6/РАЗДЕЛ 6.docx', 'category_depth': 0, 'file_directory': 'data/data_processing/РАЗДЕЛ 6', 'filename': 'РАЗДЕЛ 6.docx', 'last_modified': '2025-07-08T17:17:29', 'languages': ['rus'], 'filetype': 'application/vnd.openxmlformats-officedocument.wordprocessingml.document', 'parent_id': '9e8000587e7994102816045a03d1ce72', 'category': 'NarrativeText', 'element_id': '190e9ffe744b93f3240bf72ace3a7872'}, page_content='Этот обмен переходящий от тарелки к тарелке, приводит к разделению сырья на остаточные продукты с высокими пределами кипения (сырье блока риформинга) и головные продукты с низкими пределами кипения (рефлюксная жидкость). На работу колонны влияют три управляемых параметра. Это температура низа колонны Т-101, регулируемая расходом пара в рибойлер Е-102, температура 43-ей тарелки и давление в колонне. В значения этих параметров вносятся изменения в тех случаях, когда это диктуется режимом работы колонны и требованиями состава продукта.'),\n",
       " Document(metadata={'source': 'data/data_processing/РАЗДЕЛ 6/РАЗДЕЛ 6.docx', 'category_depth': 0, 'file_directory': 'data/data_processing/РАЗДЕЛ 6', 'filename': 'РАЗДЕЛ 6.docx', 'last_modified': '2025-07-08T17:17:29', 'languages': ['rus'], 'filetype': 'application/vnd.openxmlformats-officedocument.wordprocessingml.document', 'parent_id': '9e8000587e7994102816045a03d1ce72', 'category': 'NarrativeText', 'element_id': '711d3d179b08ccf11e0f80338d0989d7'}, page_content='Практически при регулировке режима по колонне Т-101 редко пользуются изменением давления, в основном давление регулируется при пуске колонны. При постоянном расходе сырья потребуется только обычное регулирование температуры тарелки 43 или температуры низа колонны Т-101.'),\n",
       " Document(metadata={'source': 'data/data_processing/РАЗДЕЛ 6/РАЗДЕЛ 6.docx', 'category_depth': 0, 'emphasized_text_contents': ['6.3.2 Секция 200–каталитический риформинг'], 'emphasized_text_tags': ['b'], 'file_directory': 'data/data_processing/РАЗДЕЛ 6', 'filename': 'РАЗДЕЛ 6.docx', 'last_modified': '2025-07-08T17:17:29', 'languages': ['rus'], 'filetype': 'application/vnd.openxmlformats-officedocument.wordprocessingml.document', 'parent_id': '9e8000587e7994102816045a03d1ce72', 'category': 'UncategorizedText', 'element_id': '81ae561d81cccfda1f1a50b1b1decf3d'}, page_content='6.3.2 Секция 200–каталитический риформинг'),\n",
       " Document(metadata={'source': 'data/data_processing/РАЗДЕЛ 6/РАЗДЕЛ 6.docx', 'category_depth': 0, 'emphasized_text_contents': ['6.3.2.1 Реакторный блок'], 'emphasized_text_tags': ['b'], 'file_directory': 'data/data_processing/РАЗДЕЛ 6', 'filename': 'РАЗДЕЛ 6.docx', 'last_modified': '2025-07-08T17:17:29', 'languages': ['rus'], 'filetype': 'application/vnd.openxmlformats-officedocument.wordprocessingml.document', 'parent_id': '9e8000587e7994102816045a03d1ce72', 'category': 'UncategorizedText', 'element_id': '53b5e50789cd1146de8b1cfb69ef0460'}, page_content='6.3.2.1 Реакторный блок'),\n",
       " Document(metadata={'source': 'data/data_processing/РАЗДЕЛ 6/РАЗДЕЛ 6.docx', 'category_depth': 0, 'file_directory': 'data/data_processing/РАЗДЕЛ 6', 'filename': 'РАЗДЕЛ 6.docx', 'last_modified': '2025-07-08T17:17:29', 'languages': ['rus'], 'filetype': 'application/vnd.openxmlformats-officedocument.wordprocessingml.document', 'parent_id': '9e8000587e7994102816045a03d1ce72', 'category': 'NarrativeText', 'element_id': 'eaf36c44c20ec5cf568d83a00cf2522d'}, page_content='6.3.2.1.1. При работе реакторного блока необходимо вести контроль за рабочими параметрами. Для наилучшей оценки за работой реакторного блока следует нанести на график данные по рабочим параметрам и проанализировать их. '),\n",
       " Document(metadata={'source': 'data/data_processing/РАЗДЕЛ 6/РАЗДЕЛ 6.docx', 'category_depth': 0, 'file_directory': 'data/data_processing/РАЗДЕЛ 6', 'filename': 'РАЗДЕЛ 6.docx', 'last_modified': '2025-07-08T17:17:29', 'languages': ['rus'], 'filetype': 'application/vnd.openxmlformats-officedocument.wordprocessingml.document', 'parent_id': '9e8000587e7994102816045a03d1ce72', 'category': 'NarrativeText', 'element_id': '217ed27028a876e97c441db55fae7629'}, page_content='а) Входные температуры реакторов.'),\n",
       " Document(metadata={'source': 'data/data_processing/РАЗДЕЛ 6/РАЗДЕЛ 6.docx', 'category_depth': 0, 'file_directory': 'data/data_processing/РАЗДЕЛ 6', 'filename': 'РАЗДЕЛ 6.docx', 'last_modified': '2025-07-08T17:17:29', 'languages': ['rus'], 'filetype': 'application/vnd.openxmlformats-officedocument.wordprocessingml.document', 'parent_id': '9e8000587e7994102816045a03d1ce72', 'category': 'NarrativeText', 'element_id': 'd2f69fd67738e920f1bf9fb12fb82d71'}, page_content='Наиболее информативными являются изменения в течение цикла либо температур индивидуальных входов, либо температуры последнего реактора. Если в первых двух реакторах в течение цикла поддерживаются постоянные параметры, то изменения температуры последнего реактора будут наиболее эффективны. Повышение температуры в процессе эксплуатации необходимо проводить по мере падения активности катализатора. При повышении и снижении загрузки также необходимо повышать или понижать температуру. Данные для построения графика приведены на рис.6.5.'),\n",
       " Document(metadata={'source': 'data/data_processing/РАЗДЕЛ 6/РАЗДЕЛ 6.docx', 'category_depth': 0, 'file_directory': 'data/data_processing/РАЗДЕЛ 6', 'filename': 'РАЗДЕЛ 6.docx', 'last_modified': '2025-07-08T17:17:29', 'languages': ['rus'], 'filetype': 'application/vnd.openxmlformats-officedocument.wordprocessingml.document', 'parent_id': '9e8000587e7994102816045a03d1ce72', 'category': 'UncategorizedText', 'element_id': 'e48ee801d2471daaa87990e394d362e7'}, page_content='График контроля температур на входе в реактора.'),\n",
       " Document(metadata={'source': 'data/data_processing/РАЗДЕЛ 6/РАЗДЕЛ 6.docx', 'category_depth': 0, 'file_directory': 'data/data_processing/РАЗДЕЛ 6', 'filename': 'РАЗДЕЛ 6.docx', 'last_modified': '2025-07-08T17:17:29', 'languages': ['rus'], 'filetype': 'application/vnd.openxmlformats-officedocument.wordprocessingml.document', 'parent_id': '9e8000587e7994102816045a03d1ce72', 'category': 'UncategorizedText', 'element_id': '5136182e00ebb9711cc43a7226f260eb'}, page_content='рис. 6.5.'),\n",
       " Document(metadata={'source': 'data/data_processing/РАЗДЕЛ 6/РАЗДЕЛ 6.docx', 'category_depth': 0, 'file_directory': 'data/data_processing/РАЗДЕЛ 6', 'filename': 'РАЗДЕЛ 6.docx', 'last_modified': '2025-07-08T17:17:29', 'languages': ['rus'], 'filetype': 'application/vnd.openxmlformats-officedocument.wordprocessingml.document', 'parent_id': '9e8000587e7994102816045a03d1ce72', 'category': 'NarrativeText', 'element_id': '77bf93eb5c24b3c2cc7deb88358df028'}, page_content='б) Перепады температур и давлений в реакторах.'),\n",
       " Document(metadata={'source': 'data/data_processing/РАЗДЕЛ 6/РАЗДЕЛ 6.docx', 'category_depth': 0, 'file_directory': 'data/data_processing/РАЗДЕЛ 6', 'filename': 'РАЗДЕЛ 6.docx', 'last_modified': '2025-07-08T17:17:29', 'languages': ['rus'], 'filetype': 'application/vnd.openxmlformats-officedocument.wordprocessingml.document', 'parent_id': '9e8000587e7994102816045a03d1ce72', 'category': 'NarrativeText', 'element_id': '2783547d1e1ba5dace2e6e8cc10dca5e'}, page_content='Перепады температуры реакторов дают сведения об индивидуальной производительности реактора. Эти параметры совместно с концентрацией ВСГ дают немедленное объяснение изменения выхода продукта риформинга. Подробное объяснение дано в разделе 3.1.2.3. настоящего регламента. График контроля приведен на рисунке 6.6.'),\n",
       " Document(metadata={'source': 'data/data_processing/РАЗДЕЛ 6/РАЗДЕЛ 6.docx', 'category_depth': 0, 'file_directory': 'data/data_processing/РАЗДЕЛ 6', 'filename': 'РАЗДЕЛ 6.docx', 'last_modified': '2025-07-08T17:17:29', 'languages': ['rus'], 'filetype': 'application/vnd.openxmlformats-officedocument.wordprocessingml.document', 'parent_id': '9e8000587e7994102816045a03d1ce72', 'category': 'UncategorizedText', 'element_id': '443019a48ae7e95d8baf871e150f734b'}, page_content='Перепады давления реактора следует использовать для отслеживания хода загрязнения слоев катализатора.'),\n",
       " Document(metadata={'source': 'data/data_processing/РАЗДЕЛ 6/РАЗДЕЛ 6.docx', 'category_depth': 0, 'file_directory': 'data/data_processing/РАЗДЕЛ 6', 'filename': 'РАЗДЕЛ 6.docx', 'last_modified': '2025-07-08T17:17:29', 'languages': ['rus'], 'filetype': 'application/vnd.openxmlformats-officedocument.wordprocessingml.document', 'parent_id': '9e8000587e7994102816045a03d1ce72', 'category': 'UncategorizedText', 'element_id': '023ee9b9284d19c29a55f514dcb4e75d'}, page_content='График контроля за температурным перепадом на реакторах R-201–R-203.'),\n",
       " Document(metadata={'source': 'data/data_processing/РАЗДЕЛ 6/РАЗДЕЛ 6.docx', 'category_depth': 0, 'file_directory': 'data/data_processing/РАЗДЕЛ 6', 'filename': 'РАЗДЕЛ 6.docx', 'last_modified': '2025-07-08T17:17:29', 'languages': ['rus'], 'filetype': 'application/vnd.openxmlformats-officedocument.wordprocessingml.document', 'parent_id': '9e8000587e7994102816045a03d1ce72', 'category': 'UncategorizedText', 'element_id': 'f897c7f9d09e1a7e7938e3196c8fccdb'}, page_content='рис. 6.6.'),\n",
       " Document(metadata={'source': 'data/data_processing/РАЗДЕЛ 6/РАЗДЕЛ 6.docx', 'category_depth': 0, 'file_directory': 'data/data_processing/РАЗДЕЛ 6', 'filename': 'РАЗДЕЛ 6.docx', 'last_modified': '2025-07-08T17:17:29', 'languages': ['rus'], 'filetype': 'application/vnd.openxmlformats-officedocument.wordprocessingml.document', 'parent_id': '9e8000587e7994102816045a03d1ce72', 'category': 'NarrativeText', 'element_id': 'c89b50df43bef5ca47ec42b3554ec55d'}, page_content='Допустимый перепад давлений по реакторам представлен в таблице 6.3.'),\n",
       " Document(metadata={'source': 'data/data_processing/РАЗДЕЛ 6/РАЗДЕЛ 6.docx', 'category_depth': 0, 'file_directory': 'data/data_processing/РАЗДЕЛ 6', 'filename': 'РАЗДЕЛ 6.docx', 'last_modified': '2025-07-08T17:17:29', 'languages': ['rus'], 'filetype': 'application/vnd.openxmlformats-officedocument.wordprocessingml.document', 'parent_id': '9e8000587e7994102816045a03d1ce72', 'category': 'UncategorizedText', 'element_id': '931699c3f2985ea7b1022354608f82be'}, page_content='Таблица 6.3.'),\n",
       " Document(metadata={'source': 'data/data_processing/РАЗДЕЛ 6/РАЗДЕЛ 6.docx', 'file_directory': 'data/data_processing/РАЗДЕЛ 6', 'filename': 'РАЗДЕЛ 6.docx', 'last_modified': '2025-07-08T17:17:29', 'text_as_html': '<table><tr><td>Реактор</td><td>начало работы</td><td>конец работы</td></tr><tr><td>R-201</td><td>0,35 кг/см2</td><td>0,63 кг/см2</td></tr><tr><td>R-202</td><td>0,35 кг/см2</td><td>0,63 кг/см2</td></tr><tr><td>R-203</td><td>0,7 кг/см2</td><td>1,12 кг/см2</td></tr></table>', 'languages': ['rus'], 'filetype': 'application/vnd.openxmlformats-officedocument.wordprocessingml.document', 'parent_id': '9e8000587e7994102816045a03d1ce72', 'category': 'Table', 'element_id': 'bc055af8c9f5c1e785a4c79a8014a1d2'}, page_content='Реактор начало работы конец работы R-201 0,35 кг/см2 0,63 кг/см2 R-202 0,35 кг/см2 0,63 кг/см2 R-203 0,7 кг/см2 1,12 кг/см2'),\n",
       " Document(metadata={'source': 'data/data_processing/РАЗДЕЛ 6/РАЗДЕЛ 6.docx', 'category_depth': 0, 'file_directory': 'data/data_processing/РАЗДЕЛ 6', 'filename': 'РАЗДЕЛ 6.docx', 'last_modified': '2025-07-08T17:17:29', 'languages': ['rus'], 'filetype': 'application/vnd.openxmlformats-officedocument.wordprocessingml.document', 'parent_id': '9e8000587e7994102816045a03d1ce72', 'category': 'NarrativeText', 'element_id': 'e17f890d999a20655facd1a9c3e7ae7f'}, page_content=' в) Скорость подачи сырья на риформинг.'),\n",
       " Document(metadata={'source': 'data/data_processing/РАЗДЕЛ 6/РАЗДЕЛ 6.docx', 'category_depth': 0, 'file_directory': 'data/data_processing/РАЗДЕЛ 6', 'filename': 'РАЗДЕЛ 6.docx', 'last_modified': '2025-07-08T17:17:29', 'languages': ['rus'], 'filetype': 'application/vnd.openxmlformats-officedocument.wordprocessingml.document', 'parent_id': '9e8000587e7994102816045a03d1ce72', 'category': 'NarrativeText', 'element_id': '7a89001ec3252e25940997bf679ef485'}, page_content='Повышение скорости подачи сырья требует увеличения температуры реактора для поддержания октанового числа. Увеличение скорости подачи сырья на риформинг на 10% (1,6 м3/час) приводит к необходимости повышения температуры на входе в реактора от 1°С до 3°C, в зависимости от состояния катализатора. Снижение подачи сырья требует снижения температуры в тех же пределах. '),\n",
       " Document(metadata={'source': 'data/data_processing/РАЗДЕЛ 6/РАЗДЕЛ 6.docx', 'category_depth': 0, 'file_directory': 'data/data_processing/РАЗДЕЛ 6', 'filename': 'РАЗДЕЛ 6.docx', 'last_modified': '2025-07-08T17:17:29', 'languages': ['rus'], 'filetype': 'application/vnd.openxmlformats-officedocument.wordprocessingml.document', 'parent_id': '9e8000587e7994102816045a03d1ce72', 'category': 'NarrativeText', 'element_id': 'd4bc68039866f3149d6c47dec244ae3b'}, page_content='г) Концентрация водорода в циркулирующем газе.'),\n",
       " Document(metadata={'source': 'data/data_processing/РАЗДЕЛ 6/РАЗДЕЛ 6.docx', 'category_depth': 0, 'file_directory': 'data/data_processing/РАЗДЕЛ 6', 'filename': 'РАЗДЕЛ 6.docx', 'last_modified': '2025-07-08T17:17:29', 'languages': ['rus'], 'filetype': 'application/vnd.openxmlformats-officedocument.wordprocessingml.document', 'parent_id': '9e8000587e7994102816045a03d1ce72', 'category': 'NarrativeText', 'element_id': 'd3f816b6ecd3ffa60d608844cd8354f0'}, page_content='Концентрация циркулирующего водорода меняется вместе с давлением и температурой в сепараторе, характеристиками октана и сырья. Чем ниже концентрация водорода, тем больше дезактивирование катализатора. При снижении давления, или поднятия температуры на выходе из холодильника АС-201 А углеводороды, которые при более низкой температуре конденсировались, остаются в газе, в результате снижается концентрация водорода, возрастает плотность газа и, как конечный результат, мы увеличиваем количество циркулирующего газа. При повышении давления или понижении температуры процесс идет обратный. В следующей таблице показано влияние различных параметров на чистоту водорода:'),\n",
       " Document(metadata={'source': 'data/data_processing/РАЗДЕЛ 6/РАЗДЕЛ 6.docx', 'file_directory': 'data/data_processing/РАЗДЕЛ 6', 'filename': 'РАЗДЕЛ 6.docx', 'last_modified': '2025-07-08T17:17:29', 'text_as_html': '<table><tr><td>Возрастание параметра:</td><td>Дает:</td></tr><tr><td>плотность</td><td>убывание концентрации</td></tr><tr><td>парафины</td><td>убывание концентрации</td></tr><tr><td>нафтены</td><td>возрастание концентрации</td></tr><tr><td>ароматика</td><td>убывание концентрации</td></tr><tr><td>исследовательское октановое число</td><td>убывание концентрации</td></tr><tr><td>давление в V-201</td><td>возрастание концентрации</td></tr><tr><td>температура в V-201</td><td>убывание концентрации</td></tr><tr><td>начало кипения</td><td>убывание концентрации</td></tr></table>', 'languages': ['rus'], 'filetype': 'application/vnd.openxmlformats-officedocument.wordprocessingml.document', 'parent_id': '9e8000587e7994102816045a03d1ce72', 'category': 'Table', 'element_id': 'af9ab60ea61b4b70df1342954826c3db'}, page_content='Возрастание параметра: Дает: плотность убывание концентрации парафины убывание концентрации нафтены возрастание концентрации ароматика убывание концентрации исследовательское октановое число убывание концентрации давление в V-201 возрастание концентрации температура в V-201 убывание концентрации начало кипения убывание концентрации'),\n",
       " Document(metadata={'source': 'data/data_processing/РАЗДЕЛ 6/РАЗДЕЛ 6.docx', 'category_depth': 0, 'file_directory': 'data/data_processing/РАЗДЕЛ 6', 'filename': 'РАЗДЕЛ 6.docx', 'last_modified': '2025-07-08T17:17:29', 'languages': ['rus'], 'filetype': 'application/vnd.openxmlformats-officedocument.wordprocessingml.document', 'parent_id': '9e8000587e7994102816045a03d1ce72', 'category': 'UncategorizedText', 'element_id': '661c0527bd63d21a440ac4f8292a80a7'}, page_content='Данные для построения графика приведены на рис.6.7.'),\n",
       " Document(metadata={'source': 'data/data_processing/РАЗДЕЛ 6/РАЗДЕЛ 6.docx', 'category_depth': 0, 'file_directory': 'data/data_processing/РАЗДЕЛ 6', 'filename': 'РАЗДЕЛ 6.docx', 'last_modified': '2025-07-08T17:17:29', 'languages': ['rus'], 'filetype': 'application/vnd.openxmlformats-officedocument.wordprocessingml.document', 'parent_id': '9e8000587e7994102816045a03d1ce72', 'category': 'NarrativeText', 'element_id': '8b97a60a302675482b7b692645bdba19'}, page_content='д) Давление в сепараторе V-201'),\n",
       " Document(metadata={'source': 'data/data_processing/РАЗДЕЛ 6/РАЗДЕЛ 6.docx', 'category_depth': 0, 'file_directory': 'data/data_processing/РАЗДЕЛ 6', 'filename': 'РАЗДЕЛ 6.docx', 'last_modified': '2025-07-08T17:17:29', 'languages': ['rus'], 'filetype': 'application/vnd.openxmlformats-officedocument.wordprocessingml.document', 'parent_id': '9e8000587e7994102816045a03d1ce72', 'category': 'NarrativeText', 'element_id': '43fa315327a0faaed8aeba5549681a3e'}, page_content='Давление в сепараторе оказывает косвенное действие. Так как оно задается на стадии проектирования, то в процессе эксплуатации практически не изменяется. '),\n",
       " Document(metadata={'source': 'data/data_processing/РАЗДЕЛ 6/РАЗДЕЛ 6.docx', 'category_depth': 0, 'file_directory': 'data/data_processing/РАЗДЕЛ 6', 'filename': 'РАЗДЕЛ 6.docx', 'last_modified': '2025-07-08T17:17:29', 'languages': ['rus'], 'filetype': 'application/vnd.openxmlformats-officedocument.wordprocessingml.document', 'parent_id': '9e8000587e7994102816045a03d1ce72', 'category': 'NarrativeText', 'element_id': 'fa0e027625f4707896baa783a23af9c7'}, page_content='е) Октановое число продукта риформинга уменьшается с уменьшением температуры на входе в реактора.'),\n",
       " Document(metadata={'source': 'data/data_processing/РАЗДЕЛ 6/РАЗДЕЛ 6.docx', 'category_depth': 0, 'file_directory': 'data/data_processing/РАЗДЕЛ 6', 'filename': 'РАЗДЕЛ 6.docx', 'last_modified': '2025-07-08T17:17:29', 'languages': ['rus'], 'filetype': 'application/vnd.openxmlformats-officedocument.wordprocessingml.document', 'parent_id': '9e8000587e7994102816045a03d1ce72', 'category': 'NarrativeText', 'element_id': 'e2fa52a60482635075d4e6d8a2b7f00d'}, page_content='Выход продукта риформинга увеличивается с уменьшением октанового числа. Соответственно возрастание октанового числа приводит к уменьшению выхода продукта риформинга. Данные для построения графика приведены на рис.6.7. '),\n",
       " Document(metadata={'source': 'data/data_processing/РАЗДЕЛ 6/РАЗДЕЛ 6.docx', 'category_depth': 0, 'file_directory': 'data/data_processing/РАЗДЕЛ 6', 'filename': 'РАЗДЕЛ 6.docx', 'last_modified': '2025-07-08T17:17:29', 'languages': ['rus'], 'filetype': 'application/vnd.openxmlformats-officedocument.wordprocessingml.document', 'parent_id': '9e8000587e7994102816045a03d1ce72', 'category': 'NarrativeText', 'element_id': '6afcd58708df8a9b1e74aa7a8900c6e2'}, page_content='ж) Высокий выход водорода и продуктов риформинга являются очевидным показателем хорошей работы катализатора. Для точного подсчета выхода следует провести расчет общего баланса материалов. Состав водородсодержащего газа с установки, а также жидкостей и газов, отходящих от верха стабилизационной колонны в сочетании с точными значениями расходов дают возможность определить общий выход метана, этана, пропана и бутана. Мольное отношение пропана к метану (С3/С1), выведенное из этих цифр общего выхода, должно лежать в диапазоне 0,7-1,2. Работа катализатора вне этих пределов указывает, что катализатор выведен из равновесия \"кислота / металл\". В течение рабочего цикла изменить активность металла нелегко, поэтому основным изменяемым переменным параметром является кислотная активность. Следовательно, если характеристики катализатора указывают на дисбаланс \"кислота / металл\", необходимо изменить скорость инжекции воды и хлоридов.'),\n",
       " Document(metadata={'source': 'data/data_processing/РАЗДЕЛ 6/РАЗДЕЛ 6.docx', 'category_depth': 0, 'file_directory': 'data/data_processing/РАЗДЕЛ 6', 'filename': 'РАЗДЕЛ 6.docx', 'last_modified': '2025-07-08T17:17:29', 'languages': ['rus'], 'filetype': 'application/vnd.openxmlformats-officedocument.wordprocessingml.document', 'parent_id': '9e8000587e7994102816045a03d1ce72', 'category': 'UncategorizedText', 'element_id': 'f97377571475ded473ac934dee53d8eb'}, page_content='Данные для построения графика соотношения С3/С1 приведены на рис.6.7.'),\n",
       " Document(metadata={'source': 'data/data_processing/РАЗДЕЛ 6/РАЗДЕЛ 6.docx', 'category_depth': 0, 'file_directory': 'data/data_processing/РАЗДЕЛ 6', 'filename': 'РАЗДЕЛ 6.docx', 'last_modified': '2025-07-08T17:17:29', 'languages': ['rus'], 'filetype': 'application/vnd.openxmlformats-officedocument.wordprocessingml.document', 'parent_id': '9e8000587e7994102816045a03d1ce72', 'category': 'UncategorizedText', 'element_id': 'b2ddac5af019a7db2a267d63f92390cd'}, page_content='График контроля за концентрацией ВСГ, соотношением С3/С1'),\n",
       " Document(metadata={'source': 'data/data_processing/РАЗДЕЛ 6/РАЗДЕЛ 6.docx', 'category_depth': 0, 'file_directory': 'data/data_processing/РАЗДЕЛ 6', 'filename': 'РАЗДЕЛ 6.docx', 'last_modified': '2025-07-08T17:17:29', 'languages': ['rus'], 'filetype': 'application/vnd.openxmlformats-officedocument.wordprocessingml.document', 'parent_id': '9e8000587e7994102816045a03d1ce72', 'category': 'UncategorizedText', 'element_id': '470cc61433d9bf63149ff9aeeccc8d3d'}, page_content='и октановым числом.'),\n",
       " Document(metadata={'source': 'data/data_processing/РАЗДЕЛ 6/РАЗДЕЛ 6.docx', 'category_depth': 0, 'file_directory': 'data/data_processing/РАЗДЕЛ 6', 'filename': 'РАЗДЕЛ 6.docx', 'last_modified': '2025-07-08T17:17:29', 'languages': ['rus'], 'filetype': 'application/vnd.openxmlformats-officedocument.wordprocessingml.document', 'parent_id': '9e8000587e7994102816045a03d1ce72', 'category': 'UncategorizedText', 'element_id': '4e97f1ae2ef279b932e15536c9c078db'}, page_content='рис. 6.7.'),\n",
       " Document(metadata={'source': 'data/data_processing/РАЗДЕЛ 6/РАЗДЕЛ 6.docx', 'category_depth': 0, 'file_directory': 'data/data_processing/РАЗДЕЛ 6', 'filename': 'РАЗДЕЛ 6.docx', 'last_modified': '2025-07-08T17:17:29', 'languages': ['rus'], 'filetype': 'application/vnd.openxmlformats-officedocument.wordprocessingml.document', 'parent_id': '9e8000587e7994102816045a03d1ce72', 'category': 'NarrativeText', 'element_id': '1e545b2ecdb5c354fee3ed214c2c3a1b'}, page_content='6.3.2.1.2. Невозможно переоценить важность хорошего контроля за работой катализатора. Оптимальная работа катализатора может быть обеспечена только при поддержании должного равновесия между функциями металла и кислоты. Отсутствие такого равновесия приводит к низкому выходу жидких фракций С5 и выше, излишкам газа, трудностям обеспечения октанового числа продуктов риформинга, снижению длительности межрегенеративного цикла. Равновесие металл / кислота регулируется инжекцией воды и хлоридов, контроль внешних условий просто сводится к контролю за содержанием влаги в сырье и циркулирующем газе, за содержанием HCl в циркулирующем газе, за отношением Н2О/ НСl что является показателем активности катализатора, за скоростями инжекции хлорсодержащего вещества и воды. Данные для построения графика приведены на рис. 6.8. Большинство проблем, связанных с работой установки риформинга, во многом объясняются плохим контролем внешних условий.'),\n",
       " Document(metadata={'source': 'data/data_processing/РАЗДЕЛ 6/РАЗДЕЛ 6.docx', 'category_depth': 0, 'file_directory': 'data/data_processing/РАЗДЕЛ 6', 'filename': 'РАЗДЕЛ 6.docx', 'last_modified': '2025-07-08T17:17:29', 'languages': ['rus'], 'filetype': 'application/vnd.openxmlformats-officedocument.wordprocessingml.document', 'parent_id': '9e8000587e7994102816045a03d1ce72', 'category': 'UncategorizedText', 'element_id': '4a48b6fbe1485a830c147d435bd1acb6'}, page_content='6.3.2.1.3.Вода. '),\n",
       " Document(metadata={'source': 'data/data_processing/РАЗДЕЛ 6/РАЗДЕЛ 6.docx', 'category_depth': 0, 'file_directory': 'data/data_processing/РАЗДЕЛ 6', 'filename': 'РАЗДЕЛ 6.docx', 'last_modified': '2025-07-08T17:17:29', 'languages': ['rus'], 'filetype': 'application/vnd.openxmlformats-officedocument.wordprocessingml.document', 'parent_id': '9e8000587e7994102816045a03d1ce72', 'category': 'UncategorizedText', 'element_id': '7af89103132c96e133d435c1d93c5355'}, page_content='а) Нормальная влажность.'),\n",
       " Document(metadata={'source': 'data/data_processing/РАЗДЕЛ 6/РАЗДЕЛ 6.docx', 'category_depth': 0, 'file_directory': 'data/data_processing/РАЗДЕЛ 6', 'filename': 'РАЗДЕЛ 6.docx', 'last_modified': '2025-07-08T17:17:29', 'languages': ['rus'], 'filetype': 'application/vnd.openxmlformats-officedocument.wordprocessingml.document', 'parent_id': '9e8000587e7994102816045a03d1ce72', 'category': 'NarrativeText', 'element_id': 'ed65fb2fb0b149522e5feb1c6fdcc54c'}, page_content='Для хорошей дисперсии хлоридов катализатор процесса риформинга требует небольшого количества воды. Обычно в системе реакторов следует поддерживать влажность в пределах 20-40 ррм'),\n",
       " Document(metadata={'source': 'data/data_processing/РАЗДЕЛ 6/РАЗДЕЛ 6.docx', 'category_depth': 0, 'file_directory': 'data/data_processing/РАЗДЕЛ 6', 'filename': 'РАЗДЕЛ 6.docx', 'last_modified': '2025-07-08T17:17:29', 'languages': ['rus'], 'filetype': 'application/vnd.openxmlformats-officedocument.wordprocessingml.document', 'parent_id': '9e8000587e7994102816045a03d1ce72', 'category': 'UncategorizedText', 'element_id': '1c982534fdd4eeddf027c062c58706dd'}, page_content='0,8 мг воды'),\n",
       " Document(metadata={'source': 'data/data_processing/РАЗДЕЛ 6/РАЗДЕЛ 6.docx', 'category_depth': 0, 'file_directory': 'data/data_processing/РАЗДЕЛ 6', 'filename': 'РАЗДЕЛ 6.docx', 'last_modified': '2025-07-08T17:17:29', 'languages': ['rus'], 'filetype': 'application/vnd.openxmlformats-officedocument.wordprocessingml.document', 'parent_id': '9e8000587e7994102816045a03d1ce72', 'category': 'UncategorizedText', 'element_id': '37241f9747e005c0e3bac2e24d9cbaac'}, page_content='1ррм = ––––––––––––'),\n",
       " Document(metadata={'source': 'data/data_processing/РАЗДЕЛ 6/РАЗДЕЛ 6.docx', 'category_depth': 0, 'file_directory': 'data/data_processing/РАЗДЕЛ 6', 'filename': 'РАЗДЕЛ 6.docx', 'last_modified': '2025-07-08T17:17:29', 'languages': ['rus'], 'filetype': 'application/vnd.openxmlformats-officedocument.wordprocessingml.document', 'parent_id': '9e8000587e7994102816045a03d1ce72', 'category': 'UncategorizedText', 'element_id': '4e70ca2bb709b0aa7b5bce770da575a5'}, page_content='1 нм3 газа'),\n",
       " Document(metadata={'source': 'data/data_processing/РАЗДЕЛ 6/РАЗДЕЛ 6.docx', 'category_depth': 0, 'file_directory': 'data/data_processing/РАЗДЕЛ 6', 'filename': 'РАЗДЕЛ 6.docx', 'last_modified': '2025-07-08T17:17:29', 'languages': ['rus'], 'filetype': 'application/vnd.openxmlformats-officedocument.wordprocessingml.document', 'parent_id': '9e8000587e7994102816045a03d1ce72', 'category': 'NarrativeText', 'element_id': '29e2a215583a35246619b279ceb4bfe8'}, page_content='Вода подавляет циклизацию и размыкание колец нафтенов. При риформинге парафинового сырья важнее всего жесткая дегидроциклизация, поэтому влажность системы должна быть низкая (10-20 ррм). При риформинге нафтенового сырья главной целью является уменьшение реакций крекинга нафтенов, в этом случае предпочтительна несколько более высокая влажность в зоне реакторов (20-40 ррм).'),\n",
       " Document(metadata={'source': 'data/data_processing/РАЗДЕЛ 6/РАЗДЕЛ 6.docx', 'category_depth': 0, 'file_directory': 'data/data_processing/РАЗДЕЛ 6', 'filename': 'РАЗДЕЛ 6.docx', 'last_modified': '2025-07-08T17:17:29', 'languages': ['rus'], 'filetype': 'application/vnd.openxmlformats-officedocument.wordprocessingml.document', 'parent_id': '9e8000587e7994102816045a03d1ce72', 'category': 'UncategorizedText', 'element_id': '3c39ea2b39aea54c4ceb70506ed47518'}, page_content='б) Низкая влажность.'),\n",
       " Document(metadata={'source': 'data/data_processing/РАЗДЕЛ 6/РАЗДЕЛ 6.docx', 'category_depth': 0, 'file_directory': 'data/data_processing/РАЗДЕЛ 6', 'filename': 'РАЗДЕЛ 6.docx', 'last_modified': '2025-07-08T17:17:29', 'languages': ['rus'], 'filetype': 'application/vnd.openxmlformats-officedocument.wordprocessingml.document', 'parent_id': '9e8000587e7994102816045a03d1ce72', 'category': 'NarrativeText', 'element_id': '97846a54ff6a11f6d11d7e57fa47c35f'}, page_content='Если система катализатора слишком суха, будет происходить избыточный крекинг под влиянием металлического катализатора. Это вызывает увеличение производства метана и уменьшение производства этана, а также уменьшение концентрации водорода. Выход газа падает, но выход катализата не уменьшается. '),\n",
       " Document(metadata={'source': 'data/data_processing/РАЗДЕЛ 6/РАЗДЕЛ 6.docx', 'category_depth': 0, 'file_directory': 'data/data_processing/РАЗДЕЛ 6', 'filename': 'РАЗДЕЛ 6.docx', 'last_modified': '2025-07-08T17:17:29', 'languages': ['rus'], 'filetype': 'application/vnd.openxmlformats-officedocument.wordprocessingml.document', 'parent_id': '9e8000587e7994102816045a03d1ce72', 'category': 'UncategorizedText', 'element_id': '5efb72490e27397c464e4f6ae17d0246'}, page_content='в) Высокая влажность.'),\n",
       " Document(metadata={'source': 'data/data_processing/РАЗДЕЛ 6/РАЗДЕЛ 6.docx', 'category_depth': 0, 'file_directory': 'data/data_processing/РАЗДЕЛ 6', 'filename': 'РАЗДЕЛ 6.docx', 'last_modified': '2025-07-08T17:17:29', 'languages': ['rus'], 'filetype': 'application/vnd.openxmlformats-officedocument.wordprocessingml.document', 'parent_id': '9e8000587e7994102816045a03d1ce72', 'category': 'UncategorizedText', 'element_id': '8a94084c5e35e419f6d1948825793398'}, page_content='Избыточная влажность вымывает хлориды из катализатора, ухудшая производительность установки.'),\n",
       " Document(metadata={'source': 'data/data_processing/РАЗДЕЛ 6/РАЗДЕЛ 6.docx', 'category_depth': 0, 'file_directory': 'data/data_processing/РАЗДЕЛ 6', 'filename': 'РАЗДЕЛ 6.docx', 'last_modified': '2025-07-08T17:17:29', 'languages': ['rus'], 'filetype': 'application/vnd.openxmlformats-officedocument.wordprocessingml.document', 'parent_id': '9e8000587e7994102816045a03d1ce72', 'category': 'NarrativeText', 'element_id': '40d87b131a04aa8854f24ed1d71d7b82'}, page_content='Быстрое увеличение воды, нескомпенсированное соответствующим увеличением инжекции хлоридов приведет к временному увеличению октанового числа, поскольку увеличится уровень хлоридов в последнем реакторе. Однако оно быстро упадет при дальнейшем вымывании хлорида из последнего реактора.'),\n",
       " Document(metadata={'source': 'data/data_processing/РАЗДЕЛ 6/РАЗДЕЛ 6.docx', 'category_depth': 0, 'file_directory': 'data/data_processing/РАЗДЕЛ 6', 'filename': 'РАЗДЕЛ 6.docx', 'last_modified': '2025-07-08T17:17:29', 'languages': ['rus'], 'filetype': 'application/vnd.openxmlformats-officedocument.wordprocessingml.document', 'parent_id': '9e8000587e7994102816045a03d1ce72', 'category': 'NarrativeText', 'element_id': '01330a4c99ef6ca3312cc26962004939'}, page_content='Даже если поддержать оптимальный уровень хлоридов в катализаторе путем усиления инжекции хлоридов, компенсирующей высокое содержание воды, избыточная влага все же будет налагать более жесткие требования к температуре и уменьшать выход водорода, катализата и газа. Кроме того продолжительная работа при повышенном содержании воды и повышенной инжекции хлоридов вызывают избыточную коррозию воздушного холодильника АС-201 А и сепаратора высокого давления V-201. '),\n",
       " Document(metadata={'source': 'data/data_processing/РАЗДЕЛ 6/РАЗДЕЛ 6.docx', 'category_depth': 0, 'file_directory': 'data/data_processing/РАЗДЕЛ 6', 'filename': 'РАЗДЕЛ 6.docx', 'last_modified': '2025-07-08T17:17:29', 'languages': ['rus'], 'filetype': 'application/vnd.openxmlformats-officedocument.wordprocessingml.document', 'parent_id': '9e8000587e7994102816045a03d1ce72', 'category': 'NarrativeText', 'element_id': 'fd7e6641b8718f17ad9152e408ef1b9d'}, page_content='г) Контроль влажности системы.'),\n",
       " Document(metadata={'source': 'data/data_processing/РАЗДЕЛ 6/РАЗДЕЛ 6.docx', 'category_depth': 0, 'file_directory': 'data/data_processing/РАЗДЕЛ 6', 'filename': 'РАЗДЕЛ 6.docx', 'last_modified': '2025-07-08T17:17:29', 'languages': ['rus'], 'filetype': 'application/vnd.openxmlformats-officedocument.wordprocessingml.document', 'parent_id': '9e8000587e7994102816045a03d1ce72', 'category': 'NarrativeText', 'element_id': 'b905f8a30a86925cf65aaaec615db7c5'}, page_content='Когда установка будет осушена после начального запуска, будет достигнут равновесный уровень воды. Поскольку режим работы установки редко является постоянным, наиболее точная оценка влажности в зоне реакции может быть получена путем измерения содержания влаги в сырье и в рециркулирующем газе (график рис.6.8.). '),\n",
       " Document(metadata={'source': 'data/data_processing/РАЗДЕЛ 6/РАЗДЕЛ 6.docx', 'category_depth': 0, 'file_directory': 'data/data_processing/РАЗДЕЛ 6', 'filename': 'РАЗДЕЛ 6.docx', 'last_modified': '2025-07-08T17:17:29', 'languages': ['rus'], 'filetype': 'application/vnd.openxmlformats-officedocument.wordprocessingml.document', 'parent_id': '9e8000587e7994102816045a03d1ce72', 'category': 'UncategorizedText', 'element_id': '6d513d80f353a70ae0def5d3e1f1826c'}, page_content='д) Инжекция воды.'),\n",
       " Document(metadata={'source': 'data/data_processing/РАЗДЕЛ 6/РАЗДЕЛ 6.docx', 'category_depth': 0, 'file_directory': 'data/data_processing/РАЗДЕЛ 6', 'filename': 'РАЗДЕЛ 6.docx', 'last_modified': '2025-07-08T17:17:29', 'languages': ['rus'], 'filetype': 'application/vnd.openxmlformats-officedocument.wordprocessingml.document', 'parent_id': '9e8000587e7994102816045a03d1ce72', 'category': 'NarrativeText', 'element_id': '1a83ff6db1efb008fb4ac6890c4aa0bc'}, page_content='Поскольку требуемая интенсивность инжекции воды обычно весьма низкая, рекомендуется вводить влаги с сырьем в количестве до 5ppm.'),\n",
       " Document(metadata={'source': 'data/data_processing/РАЗДЕЛ 6/РАЗДЕЛ 6.docx', 'category_depth': 0, 'file_directory': 'data/data_processing/РАЗДЕЛ 6', 'filename': 'РАЗДЕЛ 6.docx', 'last_modified': '2025-07-08T17:17:29', 'languages': ['rus'], 'filetype': 'application/vnd.openxmlformats-officedocument.wordprocessingml.document', 'parent_id': '9e8000587e7994102816045a03d1ce72', 'category': 'UncategorizedText', 'element_id': '17f14e0ada51559c2350215358129464'}, page_content='Для поддержания влажности в зоне реакции на установке используется водяной конденсат.'),\n",
       " Document(metadata={'source': 'data/data_processing/РАЗДЕЛ 6/РАЗДЕЛ 6.docx', 'category_depth': 0, 'file_directory': 'data/data_processing/РАЗДЕЛ 6', 'filename': 'РАЗДЕЛ 6.docx', 'last_modified': '2025-07-08T17:17:29', 'languages': ['rus'], 'filetype': 'application/vnd.openxmlformats-officedocument.wordprocessingml.document', 'parent_id': '9e8000587e7994102816045a03d1ce72', 'category': 'NarrativeText', 'element_id': 'baae4ef2bb600a8a5c5f7f44eaa97574'}, page_content='е) Расчет инжекции водяного конденсата.'),\n",
       " Document(metadata={'source': 'data/data_processing/РАЗДЕЛ 6/РАЗДЕЛ 6.docx', 'category_depth': 0, 'file_directory': 'data/data_processing/РАЗДЕЛ 6', 'filename': 'РАЗДЕЛ 6.docx', 'last_modified': '2025-07-08T17:17:29', 'languages': ['rus'], 'filetype': 'application/vnd.openxmlformats-officedocument.wordprocessingml.document', 'parent_id': '9e8000587e7994102816045a03d1ce72', 'category': 'NarrativeText', 'element_id': '10ddd70bdf6d3c087c8ade66468940b3'}, page_content='б–плотность бензина–725 кг/м3 или 0,725 г/см3;'),\n",
       " Document(metadata={'source': 'data/data_processing/РАЗДЕЛ 6/РАЗДЕЛ 6.docx', 'category_depth': 0, 'file_directory': 'data/data_processing/РАЗДЕЛ 6', 'filename': 'РАЗДЕЛ 6.docx', 'last_modified': '2025-07-08T17:17:29', 'languages': ['rus'], 'filetype': 'application/vnd.openxmlformats-officedocument.wordprocessingml.document', 'parent_id': '9e8000587e7994102816045a03d1ce72', 'category': 'NarrativeText', 'element_id': '9a445dffcbeca8b17ae00fe9aeda6163'}, page_content='в–плотность воды–1000 кг/м3 или 1,0 г/см3;'),\n",
       " Document(metadata={'source': 'data/data_processing/РАЗДЕЛ 6/РАЗДЕЛ 6.docx', 'category_depth': 0, 'file_directory': 'data/data_processing/РАЗДЕЛ 6', 'filename': 'РАЗДЕЛ 6.docx', 'last_modified': '2025-07-08T17:17:29', 'languages': ['rus'], 'filetype': 'application/vnd.openxmlformats-officedocument.wordprocessingml.document', 'parent_id': '9e8000587e7994102816045a03d1ce72', 'category': 'UncategorizedText', 'element_id': 'f98d3710c958f40a287483997179422b'}, page_content='Н–высота уходящего уровня по уровнемерной линейке емкости'),\n",
       " Document(metadata={'source': 'data/data_processing/РАЗДЕЛ 6/РАЗДЕЛ 6.docx', 'category_depth': 0, 'file_directory': 'data/data_processing/РАЗДЕЛ 6', 'filename': 'РАЗДЕЛ 6.docx', 'last_modified': '2025-07-08T17:17:29', 'languages': ['rus'], 'filetype': 'application/vnd.openxmlformats-officedocument.wordprocessingml.document', 'parent_id': '9e8000587e7994102816045a03d1ce72', 'category': 'UncategorizedText', 'element_id': 'dd8c956e073a9d99fcc6b69869d5f6d5'}, page_content='V-509 см/час;'),\n",
       " Document(metadata={'source': 'data/data_processing/РАЗДЕЛ 6/РАЗДЕЛ 6.docx', 'category_depth': 0, 'file_directory': 'data/data_processing/РАЗДЕЛ 6', 'filename': 'РАЗДЕЛ 6.docx', 'last_modified': '2025-07-08T17:17:29', 'languages': ['rus'], 'filetype': 'application/vnd.openxmlformats-officedocument.wordprocessingml.document', 'parent_id': '9e8000587e7994102816045a03d1ce72', 'category': 'UncategorizedText', 'element_id': 'c5e001a79d9c57e2f4e83eb89808bb97'}, page_content='S–площадь поперечного сечения емкости V-509–961,63 см2;'),\n",
       " Document(metadata={'source': 'data/data_processing/РАЗДЕЛ 6/РАЗДЕЛ 6.docx', 'category_depth': 0, 'file_directory': 'data/data_processing/РАЗДЕЛ 6', 'filename': 'РАЗДЕЛ 6.docx', 'last_modified': '2025-07-08T17:17:29', 'languages': ['rus'], 'filetype': 'application/vnd.openxmlformats-officedocument.wordprocessingml.document', 'parent_id': '9e8000587e7994102816045a03d1ce72', 'category': 'UncategorizedText', 'element_id': '39723ebd9f902735c276a139c860396b'}, page_content='Vв–объем инжектируемой воды, см3/час;'),\n",
       " Document(metadata={'source': 'data/data_processing/РАЗДЕЛ 6/РАЗДЕЛ 6.docx', 'category_depth': 0, 'file_directory': 'data/data_processing/РАЗДЕЛ 6', 'filename': 'РАЗДЕЛ 6.docx', 'last_modified': '2025-07-08T17:17:29', 'languages': ['rus'], 'filetype': 'application/vnd.openxmlformats-officedocument.wordprocessingml.document', 'parent_id': '9e8000587e7994102816045a03d1ce72', 'category': 'UncategorizedText', 'element_id': 'a0cc203644b389492bb783cd3bae0def'}, page_content='Vб–объемный часовой расход сырья на риформинг, м3/час;'),\n",
       " Document(metadata={'source': 'data/data_processing/РАЗДЕЛ 6/РАЗДЕЛ 6.docx', 'category_depth': 0, 'file_directory': 'data/data_processing/РАЗДЕЛ 6', 'filename': 'РАЗДЕЛ 6.docx', 'last_modified': '2025-07-08T17:17:29', 'languages': ['rus'], 'filetype': 'application/vnd.openxmlformats-officedocument.wordprocessingml.document', 'parent_id': '9e8000587e7994102816045a03d1ce72', 'category': 'UncategorizedText', 'element_id': '55cae497ee818caf3bc1a0acf1f85566'}, page_content='Мв–масса инжектируемой воды, кг/час;'),\n",
       " Document(metadata={'source': 'data/data_processing/РАЗДЕЛ 6/РАЗДЕЛ 6.docx', 'category_depth': 0, 'file_directory': 'data/data_processing/РАЗДЕЛ 6', 'filename': 'РАЗДЕЛ 6.docx', 'last_modified': '2025-07-08T17:17:29', 'languages': ['rus'], 'filetype': 'application/vnd.openxmlformats-officedocument.wordprocessingml.document', 'parent_id': '9e8000587e7994102816045a03d1ce72', 'category': 'UncategorizedText', 'element_id': '7aa7c9d22769309f7817cf8b16524516'}, page_content='Мб–масса бензина, кг/час;'),\n",
       " Document(metadata={'source': 'data/data_processing/РАЗДЕЛ 6/РАЗДЕЛ 6.docx', 'category_depth': 0, 'file_directory': 'data/data_processing/РАЗДЕЛ 6', 'filename': 'РАЗДЕЛ 6.docx', 'last_modified': '2025-07-08T17:17:29', 'languages': ['rus'], 'filetype': 'application/vnd.openxmlformats-officedocument.wordprocessingml.document', 'parent_id': '9e8000587e7994102816045a03d1ce72', 'category': 'UncategorizedText', 'element_id': '63c07a261ed8f50b7bd810daaeaa3d1f'}, page_content='Qв–расход воды, ppm.'),\n",
       " Document(metadata={'source': 'data/data_processing/РАЗДЕЛ 6/РАЗДЕЛ 6.docx', 'category_depth': 0, 'file_directory': 'data/data_processing/РАЗДЕЛ 6', 'filename': 'РАЗДЕЛ 6.docx', 'last_modified': '2025-07-08T17:17:29', 'languages': ['rus'], 'filetype': 'application/vnd.openxmlformats-officedocument.wordprocessingml.document', 'parent_id': '9e8000587e7994102816045a03d1ce72', 'category': 'UncategorizedText', 'element_id': 'ec256190aa5879a0a2c39159e2dfbfae'}, page_content='Пример расчета подачи воды исходя из заданного расхода'),\n",
       " Document(metadata={'source': 'data/data_processing/РАЗДЕЛ 6/РАЗДЕЛ 6.docx', 'category_depth': 0, 'file_directory': 'data/data_processing/РАЗДЕЛ 6', 'filename': 'РАЗДЕЛ 6.docx', 'last_modified': '2025-07-08T17:17:29', 'languages': ['rus'], 'filetype': 'application/vnd.openxmlformats-officedocument.wordprocessingml.document', 'parent_id': '9e8000587e7994102816045a03d1ce72', 'category': 'NarrativeText', 'element_id': '53d4ffc84734e8a2d33c91f50801c369'}, page_content='Qв = 5ррм, расход сырья на риформинг Vб = 16,2 м3/час.'),\n",
       " Document(metadata={'source': 'data/data_processing/РАЗДЕЛ 6/РАЗДЕЛ 6.docx', 'category_depth': 0, 'file_directory': 'data/data_processing/РАЗДЕЛ 6', 'filename': 'РАЗДЕЛ 6.docx', 'last_modified': '2025-07-08T17:17:29', 'languages': ['rus'], 'filetype': 'application/vnd.openxmlformats-officedocument.wordprocessingml.document', 'parent_id': '9e8000587e7994102816045a03d1ce72', 'category': 'UncategorizedText', 'element_id': '1244c6a6b69ca01a0a70a6d42484a639'}, page_content='Пример расчета подачи воды, исходя из уходящего уровня в'),\n",
       " Document(metadata={'source': 'data/data_processing/РАЗДЕЛ 6/РАЗДЕЛ 6.docx', 'category_depth': 0, 'file_directory': 'data/data_processing/РАЗДЕЛ 6', 'filename': 'РАЗДЕЛ 6.docx', 'last_modified': '2025-07-08T17:17:29', 'languages': ['rus'], 'filetype': 'application/vnd.openxmlformats-officedocument.wordprocessingml.document', 'parent_id': '9e8000587e7994102816045a03d1ce72', 'category': 'NarrativeText', 'element_id': 'b9eeacb0633a38f1f50b33c27dfd51cc'}, page_content='V-509, Н = 0,5 см/час, расход сырья на риформинг Vб = 16,2 м3/час.'),\n",
       " Document(metadata={'source': 'data/data_processing/РАЗДЕЛ 6/РАЗДЕЛ 6.docx', 'category_depth': 0, 'file_directory': 'data/data_processing/РАЗДЕЛ 6', 'filename': 'РАЗДЕЛ 6.docx', 'last_modified': '2025-07-08T17:17:29', 'languages': ['rus'], 'filetype': 'application/vnd.openxmlformats-officedocument.wordprocessingml.document', 'parent_id': '9e8000587e7994102816045a03d1ce72', 'category': 'UncategorizedText', 'element_id': 'bb1bfc8599b03f728bb1995b77076533'}, page_content='При увлажнении системы следует иметь в виду, что вследствие частичной адсорбции влаги катализатором, влажность циркулирующего газа начинает нарастать через 10-20 часов после начала подачи воды.'),\n",
       " Document(metadata={'source': 'data/data_processing/РАЗДЕЛ 6/РАЗДЕЛ 6.docx', 'category_depth': 0, 'file_directory': 'data/data_processing/РАЗДЕЛ 6', 'filename': 'РАЗДЕЛ 6.docx', 'last_modified': '2025-07-08T17:17:29', 'languages': ['rus'], 'filetype': 'application/vnd.openxmlformats-officedocument.wordprocessingml.document', 'parent_id': '9e8000587e7994102816045a03d1ce72', 'category': 'ListItem', 'element_id': '2c2b62c0d524c9e08119d338a2f7c989'}, page_content='Хлорид.'),\n",
       " Document(metadata={'source': 'data/data_processing/РАЗДЕЛ 6/РАЗДЕЛ 6.docx', 'category_depth': 0, 'file_directory': 'data/data_processing/РАЗДЕЛ 6', 'filename': 'РАЗДЕЛ 6.docx', 'last_modified': '2025-07-08T17:17:29', 'languages': ['rus'], 'filetype': 'application/vnd.openxmlformats-officedocument.wordprocessingml.document', 'parent_id': '9e8000587e7994102816045a03d1ce72', 'category': 'NarrativeText', 'element_id': '0e73e8acc5a9001a8c943e5bf726fbc3'}, page_content='а) Нормальный уровень хлорида.'),\n",
       " Document(metadata={'source': 'data/data_processing/РАЗДЕЛ 6/РАЗДЕЛ 6.docx', 'category_depth': 0, 'file_directory': 'data/data_processing/РАЗДЕЛ 6', 'filename': 'РАЗДЕЛ 6.docx', 'last_modified': '2025-07-08T17:17:29', 'languages': ['rus'], 'filetype': 'application/vnd.openxmlformats-officedocument.wordprocessingml.document', 'parent_id': '9e8000587e7994102816045a03d1ce72', 'category': 'NarrativeText', 'element_id': '9d162a78d41a17390e6d5ace4eafa915'}, page_content='Главной целью контроля за уровнем хлорида является поддержание требуемого уровня хлорида на катализаторе. Оптимальное количество хлора составляет 1% масс. от общего веса катализатора. Для поддержания этого уровня хлоридов на катализаторе, в зависимости от влажности системы, расход хлорида приведен в таблице 6.4.'),\n",
       " Document(metadata={'source': 'data/data_processing/РАЗДЕЛ 6/РАЗДЕЛ 6.docx', 'category_depth': 0, 'file_directory': 'data/data_processing/РАЗДЕЛ 6', 'filename': 'РАЗДЕЛ 6.docx', 'last_modified': '2025-07-08T17:17:29', 'languages': ['rus'], 'filetype': 'application/vnd.openxmlformats-officedocument.wordprocessingml.document', 'parent_id': '9e8000587e7994102816045a03d1ce72', 'category': 'UncategorizedText', 'element_id': 'e3eea3ecd4f945335fc89efaa56faf16'}, page_content='Таблица 6.4.'),\n",
       " Document(metadata={'source': 'data/data_processing/РАЗДЕЛ 6/РАЗДЕЛ 6.docx', 'file_directory': 'data/data_processing/РАЗДЕЛ 6', 'filename': 'РАЗДЕЛ 6.docx', 'last_modified': '2025-07-08T17:17:29', 'text_as_html': '<table><tr><td>Н2О в ВСГ</td><td>Хлорид</td></tr><tr><td>более 500 ррm</td><td>50 ррm</td></tr><tr><td>200–300 ррm</td><td>30 ррm</td></tr><tr><td>100–200 ррm</td><td>10 ррm</td></tr><tr><td>30–100 ррm</td><td>5 ррm</td></tr><tr><td>10–30 ррm</td><td>2 ррm</td></tr></table>', 'languages': ['rus'], 'filetype': 'application/vnd.openxmlformats-officedocument.wordprocessingml.document', 'parent_id': '9e8000587e7994102816045a03d1ce72', 'category': 'Table', 'element_id': '76bf8992c4193edf32c1d343882cbfd6'}, page_content='Н2О в ВСГ Хлорид более 500 ррm 50 ррm 200–300 ррm 30 ррm 100–200 ррm 10 ррm 30–100 ррm 5 ррm 10–30 ррm 2 ррm'),\n",
       " Document(metadata={'source': 'data/data_processing/РАЗДЕЛ 6/РАЗДЕЛ 6.docx', 'category_depth': 0, 'file_directory': 'data/data_processing/РАЗДЕЛ 6', 'filename': 'РАЗДЕЛ 6.docx', 'last_modified': '2025-07-08T17:17:29', 'languages': ['rus'], 'filetype': 'application/vnd.openxmlformats-officedocument.wordprocessingml.document', 'parent_id': '9e8000587e7994102816045a03d1ce72', 'category': 'UncategorizedText', 'element_id': 'ea6bff4790590ff0967e5f6beb0b3487'}, page_content='По мере уменьшения площади поверхности при последующих регенерациях падает также способность катализатора удерживать хлорид, следовательно, для поддержания заданного уровня хлорида инжекция хлорида должна увеличиться.'),\n",
       " Document(metadata={'source': 'data/data_processing/РАЗДЕЛ 6/РАЗДЕЛ 6.docx', 'category_depth': 0, 'file_directory': 'data/data_processing/РАЗДЕЛ 6', 'filename': 'РАЗДЕЛ 6.docx', 'last_modified': '2025-07-08T17:17:29', 'languages': ['rus'], 'filetype': 'application/vnd.openxmlformats-officedocument.wordprocessingml.document', 'parent_id': '9e8000587e7994102816045a03d1ce72', 'category': 'NarrativeText', 'element_id': 'd9042ebee88fc0287439030483e999dc'}, page_content='Хлорид прежде всего катализирует изомеризацию нафтенов С5 в нафтены С6 и нормальных углеводородов в изопарафины. В силу этого правильная инжекция хлорида крайне важна для поддержания оптимальной активности катализатора. '),\n",
       " Document(metadata={'source': 'data/data_processing/РАЗДЕЛ 6/РАЗДЕЛ 6.docx', 'category_depth': 0, 'file_directory': 'data/data_processing/РАЗДЕЛ 6', 'filename': 'РАЗДЕЛ 6.docx', 'last_modified': '2025-07-08T17:17:29', 'languages': ['rus'], 'filetype': 'application/vnd.openxmlformats-officedocument.wordprocessingml.document', 'parent_id': '9e8000587e7994102816045a03d1ce72', 'category': 'NarrativeText', 'element_id': '82bfb6d1c207efc4bba75e73255da55c'}, page_content='б) Низкий уровень хлорида.'),\n",
       " Document(metadata={'source': 'data/data_processing/РАЗДЕЛ 6/РАЗДЕЛ 6.docx', 'category_depth': 0, 'file_directory': 'data/data_processing/РАЗДЕЛ 6', 'filename': 'РАЗДЕЛ 6.docx', 'last_modified': '2025-07-08T17:17:29', 'languages': ['rus'], 'filetype': 'application/vnd.openxmlformats-officedocument.wordprocessingml.document', 'parent_id': '9e8000587e7994102816045a03d1ce72', 'category': 'UncategorizedText', 'element_id': '66f5b38c30c2b49b2bcbb1455e2bfa66'}, page_content='Низкий уровень хлорида приводит к уменьшению активности катализатора с соответствующим снижением октанового числа катализата.'),\n",
       " Document(metadata={'source': 'data/data_processing/РАЗДЕЛ 6/РАЗДЕЛ 6.docx', 'category_depth': 0, 'file_directory': 'data/data_processing/РАЗДЕЛ 6', 'filename': 'РАЗДЕЛ 6.docx', 'last_modified': '2025-07-08T17:17:29', 'languages': ['rus'], 'filetype': 'application/vnd.openxmlformats-officedocument.wordprocessingml.document', 'parent_id': '9e8000587e7994102816045a03d1ce72', 'category': 'NarrativeText', 'element_id': 'f7bb0527940372da20e5b6da33f53eef'}, page_content='Этот эффект может быть компенсирован повышением температуры на входе в реактора. На каждый 0,1% дефицита хлорида требуется приблизительно 3°С повышения температуры на входе в реактора.'),\n",
       " Document(metadata={'source': 'data/data_processing/РАЗДЕЛ 6/РАЗДЕЛ 6.docx', 'category_depth': 0, 'file_directory': 'data/data_processing/РАЗДЕЛ 6', 'filename': 'РАЗДЕЛ 6.docx', 'last_modified': '2025-07-08T17:17:29', 'languages': ['rus'], 'filetype': 'application/vnd.openxmlformats-officedocument.wordprocessingml.document', 'parent_id': '9e8000587e7994102816045a03d1ce72', 'category': 'NarrativeText', 'element_id': 'abd930b8f9cbc707705536c055fa68d4'}, page_content='Компенсация понижения содержания хлорида в катализаторе увеличением температуры на входе в реактора приводит к быстрому снижению общей производительности и укорачиванию рабочего цикла катализатора. Например, продолжение работы при катализаторе, содержащем только 0,9% хлорида, привело бы к уменьшению длительности цикла на 20% по сравнению с режимом работы с содержанием хлорида в катализаторе 1% масс. по весу.'),\n",
       " Document(metadata={'source': 'data/data_processing/РАЗДЕЛ 6/РАЗДЕЛ 6.docx', 'category_depth': 0, 'file_directory': 'data/data_processing/РАЗДЕЛ 6', 'filename': 'РАЗДЕЛ 6.docx', 'last_modified': '2025-07-08T17:17:29', 'languages': ['rus'], 'filetype': 'application/vnd.openxmlformats-officedocument.wordprocessingml.document', 'parent_id': '9e8000587e7994102816045a03d1ce72', 'category': 'NarrativeText', 'element_id': '05ffa6f3e6addc5616b1bac2a72add70'}, page_content='в) Высокий уровень хлорида.'),\n",
       " Document(metadata={'source': 'data/data_processing/РАЗДЕЛ 6/РАЗДЕЛ 6.docx', 'category_depth': 0, 'file_directory': 'data/data_processing/РАЗДЕЛ 6', 'filename': 'РАЗДЕЛ 6.docx', 'last_modified': '2025-07-08T17:17:29', 'languages': ['rus'], 'filetype': 'application/vnd.openxmlformats-officedocument.wordprocessingml.document', 'parent_id': '9e8000587e7994102816045a03d1ce72', 'category': 'NarrativeText', 'element_id': 'd7046f6bdc2cbbc55dc2caa86dc4dd47'}, page_content='Высокий уровень хлорида в катализаторе приводит к усилению изомеризации и гидрокрекинга. Как следствие, октановое число катализата при данной температуре в реакторах увеличивается, но выход водорода и катализата уменьшится. Может увеличиться выход легких газов.'),\n",
       " Document(metadata={'source': 'data/data_processing/РАЗДЕЛ 6/РАЗДЕЛ 6.docx', 'category_depth': 0, 'file_directory': 'data/data_processing/РАЗДЕЛ 6', 'filename': 'РАЗДЕЛ 6.docx', 'last_modified': '2025-07-08T17:17:29', 'languages': ['rus'], 'filetype': 'application/vnd.openxmlformats-officedocument.wordprocessingml.document', 'parent_id': '9e8000587e7994102816045a03d1ce72', 'category': 'UncategorizedText', 'element_id': '0087a2e46c4ac8981284b9a4c69ad5dd'}, page_content='Значительный избыточный гидрокрекинг вызовет желтоватую окраску продуктов риформинга. '),\n",
       " Document(metadata={'source': 'data/data_processing/РАЗДЕЛ 6/РАЗДЕЛ 6.docx', 'category_depth': 0, 'file_directory': 'data/data_processing/РАЗДЕЛ 6', 'filename': 'РАЗДЕЛ 6.docx', 'last_modified': '2025-07-08T17:17:29', 'languages': ['rus'], 'filetype': 'application/vnd.openxmlformats-officedocument.wordprocessingml.document', 'parent_id': '9e8000587e7994102816045a03d1ce72', 'category': 'NarrativeText', 'element_id': '602417bf03eefd2e2405103caad2ca31'}, page_content='г) Контроль уровня хлорида в катализаторе.'),\n",
       " Document(metadata={'source': 'data/data_processing/РАЗДЕЛ 6/РАЗДЕЛ 6.docx', 'category_depth': 0, 'file_directory': 'data/data_processing/РАЗДЕЛ 6', 'filename': 'РАЗДЕЛ 6.docx', 'last_modified': '2025-07-08T17:17:29', 'languages': ['rus'], 'filetype': 'application/vnd.openxmlformats-officedocument.wordprocessingml.document', 'parent_id': '9e8000587e7994102816045a03d1ce72', 'category': 'NarrativeText', 'element_id': '7fa7ce61e866b4a02026bf44fd170563'}, page_content='Контроль уровня хлорида в катализаторе исходит из предположения, что установка риформинга работает в стационарном режиме, то есть количества добавляемой воды и хлорида таковы, что уровень хлорида на катализаторе постоянный. Это бывает в тех случаях, когда условия работы установки риформинга остаются стационарными в течение нескольких дней. Данные для построения графика по количеству подаваемого хлора с сырьем приведены на рис.6.8.'),\n",
       " Document(metadata={'source': 'data/data_processing/РАЗДЕЛ 6/РАЗДЕЛ 6.docx', 'category_depth': 0, 'file_directory': 'data/data_processing/РАЗДЕЛ 6', 'filename': 'РАЗДЕЛ 6.docx', 'last_modified': '2025-07-08T17:17:29', 'languages': ['rus'], 'filetype': 'application/vnd.openxmlformats-officedocument.wordprocessingml.document', 'parent_id': '9e8000587e7994102816045a03d1ce72', 'category': 'NarrativeText', 'element_id': '411ab35434ff802acc169d841ae55a7b'}, page_content='Хорошим показателем уровня хлора в катализаторе является наличие НСl в циркулирующем газе и соотношение Н2О / НСl в циркулирующем газе. Данные для построения графиков приведены на рис.6.8. Кроме того соотношение Н2О / НСl для реакторного блока рассчитывается. Пример расчета приведен в пункте \"е)\" данного раздела.'),\n",
       " Document(metadata={'source': 'data/data_processing/РАЗДЕЛ 6/РАЗДЕЛ 6.docx', 'category_depth': 0, 'file_directory': 'data/data_processing/РАЗДЕЛ 6', 'filename': 'РАЗДЕЛ 6.docx', 'last_modified': '2025-07-08T17:17:29', 'languages': ['rus'], 'filetype': 'application/vnd.openxmlformats-officedocument.wordprocessingml.document', 'parent_id': '9e8000587e7994102816045a03d1ce72', 'category': 'UncategorizedText', 'element_id': 'e6ee37fb88de7cd07b2ea828911bfdf6'}, page_content='Кроме расчета можно пользоваться таблицей выведенной специальными исследованиями.'),\n",
       " Document(metadata={'source': 'data/data_processing/РАЗДЕЛ 6/РАЗДЕЛ 6.docx', 'category_depth': 0, 'file_directory': 'data/data_processing/РАЗДЕЛ 6', 'filename': 'РАЗДЕЛ 6.docx', 'last_modified': '2025-07-08T17:17:29', 'languages': ['rus'], 'filetype': 'application/vnd.openxmlformats-officedocument.wordprocessingml.document', 'parent_id': '9e8000587e7994102816045a03d1ce72', 'category': 'UncategorizedText', 'element_id': '0e45d5c20acc47dcaac24f4a986aa8b6'}, page_content='Таблица 6.5.'),\n",
       " Document(metadata={'source': 'data/data_processing/РАЗДЕЛ 6/РАЗДЕЛ 6.docx', 'file_directory': 'data/data_processing/РАЗДЕЛ 6', 'filename': 'РАЗДЕЛ 6.docx', 'last_modified': '2025-07-08T17:17:29', 'text_as_html': '<table><tr><td>Содержание хлора в катализаторе, %масс</td><td>Мольное отношение водяных паров и НСl МН2О/МНСl</td></tr><tr><td>0,9–1,0</td><td>20</td></tr><tr><td>0,7–0,8</td><td>50</td></tr><tr><td>0,5–0,6</td><td>100</td></tr></table>', 'languages': ['rus'], 'filetype': 'application/vnd.openxmlformats-officedocument.wordprocessingml.document', 'parent_id': '9e8000587e7994102816045a03d1ce72', 'category': 'Table', 'element_id': '1a9186a12a5c74609be69ed026743d68'}, page_content='Содержание хлора в катализаторе, %масс Мольное отношение водяных паров и НСl МН2О/МНСl 0,9–1,0 20 0,7–0,8 50 0,5–0,6 100'),\n",
       " Document(metadata={'source': 'data/data_processing/РАЗДЕЛ 6/РАЗДЕЛ 6.docx', 'category_depth': 0, 'file_directory': 'data/data_processing/РАЗДЕЛ 6', 'filename': 'РАЗДЕЛ 6.docx', 'last_modified': '2025-07-08T17:17:29', 'languages': ['rus'], 'filetype': 'application/vnd.openxmlformats-officedocument.wordprocessingml.document', 'parent_id': '9e8000587e7994102816045a03d1ce72', 'category': 'NarrativeText', 'element_id': 'e45077c486239ffaf2e42ac33fda690f'}, page_content='Содержание хлора на нашем катализаторе до 1,0% масс., следовательно, отношение Н2О/HCl = 20'),\n",
       " Document(metadata={'source': 'data/data_processing/РАЗДЕЛ 6/РАЗДЕЛ 6.docx', 'category_depth': 0, 'file_directory': 'data/data_processing/РАЗДЕЛ 6', 'filename': 'РАЗДЕЛ 6.docx', 'last_modified': '2025-07-08T17:17:29', 'languages': ['rus'], 'filetype': 'application/vnd.openxmlformats-officedocument.wordprocessingml.document', 'parent_id': '9e8000587e7994102816045a03d1ce72', 'category': 'UncategorizedText', 'element_id': '5fd05285fb288717fc80892cc3e3ed29'}, page_content='График контроля за содержанием HCl в ВСГ, '),\n",
       " Document(metadata={'source': 'data/data_processing/РАЗДЕЛ 6/РАЗДЕЛ 6.docx', 'category_depth': 0, 'file_directory': 'data/data_processing/РАЗДЕЛ 6', 'filename': 'РАЗДЕЛ 6.docx', 'last_modified': '2025-07-08T17:17:29', 'languages': ['rus'], 'filetype': 'application/vnd.openxmlformats-officedocument.wordprocessingml.document', 'parent_id': '9e8000587e7994102816045a03d1ce72', 'category': 'UncategorizedText', 'element_id': 'f15be35a1ebabc55b833a96435fe9cbe'}, page_content='соотношением H2O / HCl в ВСГ, влажностью системы, и подачей хлорида'),\n",
       " Document(metadata={'source': 'data/data_processing/РАЗДЕЛ 6/РАЗДЕЛ 6.docx', 'category_depth': 0, 'file_directory': 'data/data_processing/РАЗДЕЛ 6', 'filename': 'РАЗДЕЛ 6.docx', 'last_modified': '2025-07-08T17:17:29', 'languages': ['rus'], 'filetype': 'application/vnd.openxmlformats-officedocument.wordprocessingml.document', 'parent_id': '9e8000587e7994102816045a03d1ce72', 'category': 'UncategorizedText', 'element_id': '9675b950baf4a866d47799aa0151a1bd'}, page_content='рис. 6.8.'),\n",
       " Document(metadata={'source': 'data/data_processing/РАЗДЕЛ 6/РАЗДЕЛ 6.docx', 'category_depth': 0, 'file_directory': 'data/data_processing/РАЗДЕЛ 6', 'filename': 'РАЗДЕЛ 6.docx', 'last_modified': '2025-07-08T17:17:29', 'languages': ['rus'], 'filetype': 'application/vnd.openxmlformats-officedocument.wordprocessingml.document', 'parent_id': '9e8000587e7994102816045a03d1ce72', 'category': 'NarrativeText', 'element_id': '6cf2a78a287aad2ce06b818eea2ed969'}, page_content='Другим показателем примерного баланса хлора в катализаторе является то, что изомеризация парафиновых углеводородов протекает почти до равновесия. Это значит, что в риформате отношение изопарафиновых углеводородов к нормальным равно 2,5–3. Данные для получения графика приведены на рис.6.9.'),\n",
       " Document(metadata={'source': 'data/data_processing/РАЗДЕЛ 6/РАЗДЕЛ 6.docx', 'category_depth': 0, 'file_directory': 'data/data_processing/РАЗДЕЛ 6', 'filename': 'РАЗДЕЛ 6.docx', 'last_modified': '2025-07-08T17:17:29', 'languages': ['rus'], 'filetype': 'application/vnd.openxmlformats-officedocument.wordprocessingml.document', 'parent_id': '9e8000587e7994102816045a03d1ce72', 'category': 'UncategorizedText', 'element_id': '10eb70c9283e4e409223bc49c032dc88'}, page_content='График контроля за групповым составом углеводородов'),\n",
       " Document(metadata={'source': 'data/data_processing/РАЗДЕЛ 6/РАЗДЕЛ 6.docx', 'category_depth': 0, 'file_directory': 'data/data_processing/РАЗДЕЛ 6', 'filename': 'РАЗДЕЛ 6.docx', 'last_modified': '2025-07-08T17:17:29', 'languages': ['rus'], 'filetype': 'application/vnd.openxmlformats-officedocument.wordprocessingml.document', 'parent_id': '9e8000587e7994102816045a03d1ce72', 'category': 'UncategorizedText', 'element_id': '30d0afe99de800c864690bea71e0f368'}, page_content='и соотношением i-парафинов к n-парафинам'),\n",
       " Document(metadata={'source': 'data/data_processing/РАЗДЕЛ 6/РАЗДЕЛ 6.docx', 'category_depth': 0, 'file_directory': 'data/data_processing/РАЗДЕЛ 6', 'filename': 'РАЗДЕЛ 6.docx', 'last_modified': '2025-07-08T17:17:29', 'languages': ['rus'], 'filetype': 'application/vnd.openxmlformats-officedocument.wordprocessingml.document', 'parent_id': '9e8000587e7994102816045a03d1ce72', 'category': 'UncategorizedText', 'element_id': 'e76b63be27fdf45fbce8ae529ce8b19b'}, page_content='рис. 6.9.'),\n",
       " Document(metadata={'source': 'data/data_processing/РАЗДЕЛ 6/РАЗДЕЛ 6.docx', 'category_depth': 0, 'file_directory': 'data/data_processing/РАЗДЕЛ 6', 'filename': 'РАЗДЕЛ 6.docx', 'last_modified': '2025-07-08T17:17:29', 'languages': ['rus'], 'filetype': 'application/vnd.openxmlformats-officedocument.wordprocessingml.document', 'parent_id': '9e8000587e7994102816045a03d1ce72', 'category': 'UncategorizedText', 'element_id': '58de5dbefdaf5ff30e41805d60a8b846'}, page_content='д) Инжекция хлорида.'),\n",
       " Document(metadata={'source': 'data/data_processing/РАЗДЕЛ 6/РАЗДЕЛ 6.docx', 'category_depth': 0, 'file_directory': 'data/data_processing/РАЗДЕЛ 6', 'filename': 'РАЗДЕЛ 6.docx', 'last_modified': '2025-07-08T17:17:29', 'languages': ['rus'], 'filetype': 'application/vnd.openxmlformats-officedocument.wordprocessingml.document', 'parent_id': '9e8000587e7994102816045a03d1ce72', 'category': 'NarrativeText', 'element_id': '4a71cf8dd55d680b5e5a179bc054bd5a'}, page_content='В качестве хлорирующего агента на установке применяется четыреххлористый углерод или дихлорэтан. Легкие соединения хлорирующих агентов имеют то преимущество, что они легко диссоциируют на ионы карбонила и хлора. Кроме того использование легкого органического хлорида в процессе восстановления катализатора уменьшает отложение кокса и выделение тепла, вызванного участием в процессе горения карбонильной группы. '),\n",
       " Document(metadata={'source': 'data/data_processing/РАЗДЕЛ 6/РАЗДЕЛ 6.docx', 'category_depth': 0, 'file_directory': 'data/data_processing/РАЗДЕЛ 6', 'filename': 'РАЗДЕЛ 6.docx', 'last_modified': '2025-07-08T17:17:29', 'languages': ['rus'], 'filetype': 'application/vnd.openxmlformats-officedocument.wordprocessingml.document', 'parent_id': '9e8000587e7994102816045a03d1ce72', 'category': 'NarrativeText', 'element_id': 'e200165eec503dd0d2a3b9ab1a251f79'}, page_content='е) Расчет соотношения Н2О / НСl и инжекции хлора.'),\n",
       " Document(metadata={'source': 'data/data_processing/РАЗДЕЛ 6/РАЗДЕЛ 6.docx', 'category_depth': 0, 'file_directory': 'data/data_processing/РАЗДЕЛ 6', 'filename': 'РАЗДЕЛ 6.docx', 'last_modified': '2025-07-08T17:17:29', 'languages': ['rus'], 'filetype': 'application/vnd.openxmlformats-officedocument.wordprocessingml.document', 'parent_id': '9e8000587e7994102816045a03d1ce72', 'category': 'UncategorizedText', 'element_id': 'a8053ec3f1db4a44b00501c53a409edb'}, page_content='1. Соотношение Н2О / НСl               –М'),\n",
       " Document(metadata={'source': 'data/data_processing/РАЗДЕЛ 6/РАЗДЕЛ 6.docx', 'category_depth': 0, 'file_directory': 'data/data_processing/РАЗДЕЛ 6', 'filename': 'РАЗДЕЛ 6.docx', 'last_modified': '2025-07-08T17:17:29', 'languages': ['rus'], 'filetype': 'application/vnd.openxmlformats-officedocument.wordprocessingml.document', 'parent_id': '9e8000587e7994102816045a03d1ce72', 'category': 'UncategorizedText', 'element_id': '46a5edafc494ec7dc0af1fcc3b81476b'}, page_content=', где'),\n",
       " Document(metadata={'source': 'data/data_processing/РАЗДЕЛ 6/РАЗДЕЛ 6.docx', 'category_depth': 0, 'file_directory': 'data/data_processing/РАЗДЕЛ 6', 'filename': 'РАЗДЕЛ 6.docx', 'last_modified': '2025-07-08T17:17:29', 'languages': ['rus'], 'filetype': 'application/vnd.openxmlformats-officedocument.wordprocessingml.document', 'parent_id': '9e8000587e7994102816045a03d1ce72', 'category': 'UncategorizedText', 'element_id': 'c09781d412f0ffb864aa5bf1e9511bec'}, page_content='R–кратность циркуляции ВСГ: сырье, нм3/м3;'),\n",
       " Document(metadata={'source': 'data/data_processing/РАЗДЕЛ 6/РАЗДЕЛ 6.docx', 'category_depth': 0, 'file_directory': 'data/data_processing/РАЗДЕЛ 6', 'filename': 'РАЗДЕЛ 6.docx', 'last_modified': '2025-07-08T17:17:29', 'languages': ['rus'], 'filetype': 'application/vnd.openxmlformats-officedocument.wordprocessingml.document', 'parent_id': '9e8000587e7994102816045a03d1ce72', 'category': 'UncategorizedText', 'element_id': '22edfe332cab0fe6431a9b49ccd29d0b'}, page_content='W–содержание воды в циркулирующем газе, ррм;'),\n",
       " Document(metadata={'source': 'data/data_processing/РАЗДЕЛ 6/РАЗДЕЛ 6.docx', 'category_depth': 0, 'file_directory': 'data/data_processing/РАЗДЕЛ 6', 'filename': 'РАЗДЕЛ 6.docx', 'last_modified': '2025-07-08T17:17:29', 'languages': ['rus'], 'filetype': 'application/vnd.openxmlformats-officedocument.wordprocessingml.document', 'parent_id': '9e8000587e7994102816045a03d1ce72', 'category': 'UncategorizedText', 'element_id': '1725cc95d1dec9e53f3f19089362f471'}, page_content='Cr–содержание хлора в сырье, % мас.'),\n",
       " Document(metadata={'source': 'data/data_processing/РАЗДЕЛ 6/РАЗДЕЛ 6.docx', 'category_depth': 0, 'file_directory': 'data/data_processing/РАЗДЕЛ 6', 'filename': 'РАЗДЕЛ 6.docx', 'last_modified': '2025-07-08T17:17:29', 'languages': ['rus'], 'filetype': 'application/vnd.openxmlformats-officedocument.wordprocessingml.document', 'parent_id': '9e8000587e7994102816045a03d1ce72', 'category': 'UncategorizedText', 'element_id': 'dd23fca01128f77217361101a6f97beb'}, page_content='Пример расчета для нашей установки.'),\n",
       " Document(metadata={'source': 'data/data_processing/РАЗДЕЛ 6/РАЗДЕЛ 6.docx', 'category_depth': 0, 'file_directory': 'data/data_processing/РАЗДЕЛ 6', 'filename': 'РАЗДЕЛ 6.docx', 'last_modified': '2025-07-08T17:17:29', 'languages': ['rus'], 'filetype': 'application/vnd.openxmlformats-officedocument.wordprocessingml.document', 'parent_id': '9e8000587e7994102816045a03d1ce72', 'category': 'UncategorizedText', 'element_id': '98a56e344ea51d5878fd8fa0d2e74bea'}, page_content='Кратность циркуляции ВСГ: сырье (R) ~ 1000 нм3/м3'),\n",
       " Document(metadata={'source': 'data/data_processing/РАЗДЕЛ 6/РАЗДЕЛ 6.docx', 'category_depth': 0, 'file_directory': 'data/data_processing/РАЗДЕЛ 6', 'filename': 'РАЗДЕЛ 6.docx', 'last_modified': '2025-07-08T17:17:29', 'languages': ['rus'], 'filetype': 'application/vnd.openxmlformats-officedocument.wordprocessingml.document', 'parent_id': '9e8000587e7994102816045a03d1ce72', 'category': 'NarrativeText', 'element_id': '13701d94d7b7b0a50e64bb10981013e7'}, page_content='Содержание влаги (W) в циркулирующем ВСГ ~ 50 ррм'),\n",
       " Document(metadata={'source': 'data/data_processing/РАЗДЕЛ 6/РАЗДЕЛ 6.docx', 'category_depth': 0, 'file_directory': 'data/data_processing/РАЗДЕЛ 6', 'filename': 'РАЗДЕЛ 6.docx', 'last_modified': '2025-07-08T17:17:29', 'languages': ['rus'], 'filetype': 'application/vnd.openxmlformats-officedocument.wordprocessingml.document', 'parent_id': '9e8000587e7994102816045a03d1ce72', 'category': 'NarrativeText', 'element_id': '0b0d494301a7694f45b07ce45d2c4ee3'}, page_content='Содержание хлора (Сl) в сырье ~ 5 ррм = 5 х 10 %'),\n",
       " Document(metadata={'source': 'data/data_processing/РАЗДЕЛ 6/РАЗДЕЛ 6.docx', 'category_depth': 0, 'file_directory': 'data/data_processing/РАЗДЕЛ 6', 'filename': 'РАЗДЕЛ 6.docx', 'last_modified': '2025-07-08T17:17:29', 'languages': ['rus'], 'filetype': 'application/vnd.openxmlformats-officedocument.wordprocessingml.document', 'parent_id': '9e8000587e7994102816045a03d1ce72', 'category': 'UncategorizedText', 'element_id': '0f606ad0e7b675309e637f87bb13a5f8'}, page_content='Как видим расчет приблизительно совпадает с таблицей приведенной в пункте \"г)\" данного раздела.'),\n",
       " Document(metadata={'source': 'data/data_processing/РАЗДЕЛ 6/РАЗДЕЛ 6.docx', 'category_depth': 0, 'file_directory': 'data/data_processing/РАЗДЕЛ 6', 'filename': 'РАЗДЕЛ 6.docx', 'last_modified': '2025-07-08T17:17:29', 'languages': ['rus'], 'filetype': 'application/vnd.openxmlformats-officedocument.wordprocessingml.document', 'parent_id': '9e8000587e7994102816045a03d1ce72', 'category': 'UncategorizedText', 'element_id': '5193d2862b70f9a48765bb833c0bc147'}, page_content='2. Расчет подачи дихлорэтана.'),\n",
       " Document(metadata={'source': 'data/data_processing/РАЗДЕЛ 6/РАЗДЕЛ 6.docx', 'category_depth': 0, 'file_directory': 'data/data_processing/РАЗДЕЛ 6', 'filename': 'РАЗДЕЛ 6.docx', 'last_modified': '2025-07-08T17:17:29', 'languages': ['rus'], 'filetype': 'application/vnd.openxmlformats-officedocument.wordprocessingml.document', 'parent_id': '9e8000587e7994102816045a03d1ce72', 'category': 'UncategorizedText', 'element_id': '2add44899df7e33ad2869af1d29a83ab'}, page_content='Мдх–молекулярный вес дихлорэтана = 98,96;'),\n",
       " Document(metadata={'source': 'data/data_processing/РАЗДЕЛ 6/РАЗДЕЛ 6.docx', 'category_depth': 0, 'file_directory': 'data/data_processing/РАЗДЕЛ 6', 'filename': 'РАЗДЕЛ 6.docx', 'last_modified': '2025-07-08T17:17:29', 'languages': ['rus'], 'filetype': 'application/vnd.openxmlformats-officedocument.wordprocessingml.document', 'parent_id': '9e8000587e7994102816045a03d1ce72', 'category': 'UncategorizedText', 'element_id': '185abb2df410214e5a649e791def4fcc'}, page_content='Мхл–молекулярный вес хлора = 70,98;'),\n",
       " Document(metadata={'source': 'data/data_processing/РАЗДЕЛ 6/РАЗДЕЛ 6.docx', 'category_depth': 0, 'file_directory': 'data/data_processing/РАЗДЕЛ 6', 'filename': 'РАЗДЕЛ 6.docx', 'last_modified': '2025-07-08T17:17:29', 'languages': ['rus'], 'filetype': 'application/vnd.openxmlformats-officedocument.wordprocessingml.document', 'parent_id': '9e8000587e7994102816045a03d1ce72', 'category': 'UncategorizedText', 'element_id': '3995898359e8fee5581683fbea99e342'}, page_content='Мдх'),\n",
       " Document(metadata={'source': 'data/data_processing/РАЗДЕЛ 6/РАЗДЕЛ 6.docx', 'category_depth': 0, 'file_directory': 'data/data_processing/РАЗДЕЛ 6', 'filename': 'РАЗДЕЛ 6.docx', 'last_modified': '2025-07-08T17:17:29', 'languages': ['rus'], 'filetype': 'application/vnd.openxmlformats-officedocument.wordprocessingml.document', 'parent_id': '9e8000587e7994102816045a03d1ce72', 'category': 'UncategorizedText', 'element_id': '995593dfd9493a44a7d0c076e251da98'}, page_content='–––––– – отношение молекулярных масс = 1,4;'),\n",
       " Document(metadata={'source': 'data/data_processing/РАЗДЕЛ 6/РАЗДЕЛ 6.docx', 'category_depth': 0, 'file_directory': 'data/data_processing/РАЗДЕЛ 6', 'filename': 'РАЗДЕЛ 6.docx', 'last_modified': '2025-07-08T17:17:29', 'languages': ['rus'], 'filetype': 'application/vnd.openxmlformats-officedocument.wordprocessingml.document', 'parent_id': '9e8000587e7994102816045a03d1ce72', 'category': 'UncategorizedText', 'element_id': '6616e197062726fb028f6ab7f63b6009'}, page_content='Мхл'),\n",
       " Document(metadata={'source': 'data/data_processing/РАЗДЕЛ 6/РАЗДЕЛ 6.docx', 'category_depth': 0, 'file_directory': 'data/data_processing/РАЗДЕЛ 6', 'filename': 'РАЗДЕЛ 6.docx', 'last_modified': '2025-07-08T17:17:29', 'languages': ['rus'], 'filetype': 'application/vnd.openxmlformats-officedocument.wordprocessingml.document', 'parent_id': '9e8000587e7994102816045a03d1ce72', 'category': 'UncategorizedText', 'element_id': '49bba9ecaf4de2043c5bafd931f03294'}, page_content='дх–плотность дихлорэтана = 1,256г/см3 или 1256кг/м3;'),\n",
       " Document(metadata={'source': 'data/data_processing/РАЗДЕЛ 6/РАЗДЕЛ 6.docx', 'category_depth': 0, 'file_directory': 'data/data_processing/РАЗДЕЛ 6', 'filename': 'РАЗДЕЛ 6.docx', 'last_modified': '2025-07-08T17:17:29', 'languages': ['rus'], 'filetype': 'application/vnd.openxmlformats-officedocument.wordprocessingml.document', 'parent_id': '9e8000587e7994102816045a03d1ce72', 'category': 'UncategorizedText', 'element_id': '921bc15a29970ff26cca12c53c354aa5'}, page_content='б–плотность бензина = 0,725г/см3 или 725кг/м3; а–часть смешиваемого дихлорэтана; в–часть смешиваемого бензина;'),\n",
       " Document(metadata={'source': 'data/data_processing/РАЗДЕЛ 6/РАЗДЕЛ 6.docx', 'category_depth': 0, 'file_directory': 'data/data_processing/РАЗДЕЛ 6', 'filename': 'РАЗДЕЛ 6.docx', 'last_modified': '2025-07-08T17:17:29', 'languages': ['rus'], 'filetype': 'application/vnd.openxmlformats-officedocument.wordprocessingml.document', 'parent_id': '9e8000587e7994102816045a03d1ce72', 'category': 'UncategorizedText', 'element_id': '1e934f8737c243ef585855939168bdc4'}, page_content='Н–высота, уходящего уровня, по мерной линейке емкости V-508, см/час;'),\n",
       " Document(metadata={'source': 'data/data_processing/РАЗДЕЛ 6/РАЗДЕЛ 6.docx', 'category_depth': 0, 'file_directory': 'data/data_processing/РАЗДЕЛ 6', 'filename': 'РАЗДЕЛ 6.docx', 'last_modified': '2025-07-08T17:17:29', 'languages': ['rus'], 'filetype': 'application/vnd.openxmlformats-officedocument.wordprocessingml.document', 'parent_id': '9e8000587e7994102816045a03d1ce72', 'category': 'UncategorizedText', 'element_id': '455d4088311db3520f2930df44f40a77'}, page_content='S–площадь поперечного сечения V-508 = 961,63 см2;'),\n",
       " Document(metadata={'source': 'data/data_processing/РАЗДЕЛ 6/РАЗДЕЛ 6.docx', 'category_depth': 0, 'file_directory': 'data/data_processing/РАЗДЕЛ 6', 'filename': 'РАЗДЕЛ 6.docx', 'last_modified': '2025-07-08T17:17:29', 'languages': ['rus'], 'filetype': 'application/vnd.openxmlformats-officedocument.wordprocessingml.document', 'parent_id': '9e8000587e7994102816045a03d1ce72', 'category': 'UncategorizedText', 'element_id': '8bae0c51b0ef2d95cd0d5df29664c07a'}, page_content='Vсм–объем инжектируемой смеси дихлорэтан + бензин, см3/час;'),\n",
       " Document(metadata={'source': 'data/data_processing/РАЗДЕЛ 6/РАЗДЕЛ 6.docx', 'category_depth': 0, 'file_directory': 'data/data_processing/РАЗДЕЛ 6', 'filename': 'РАЗДЕЛ 6.docx', 'last_modified': '2025-07-08T17:17:29', 'languages': ['rus'], 'filetype': 'application/vnd.openxmlformats-officedocument.wordprocessingml.document', 'parent_id': '9e8000587e7994102816045a03d1ce72', 'category': 'UncategorizedText', 'element_id': '51eb895b8ebb9a1746d2ab0f175a3d32'}, page_content='Vдх–объем инжектируемого дихлорэтана, см3/час;'),\n",
       " Document(metadata={'source': 'data/data_processing/РАЗДЕЛ 6/РАЗДЕЛ 6.docx', 'category_depth': 0, 'file_directory': 'data/data_processing/РАЗДЕЛ 6', 'filename': 'РАЗДЕЛ 6.docx', 'last_modified': '2025-07-08T17:17:29', 'languages': ['rus'], 'filetype': 'application/vnd.openxmlformats-officedocument.wordprocessingml.document', 'parent_id': '9e8000587e7994102816045a03d1ce72', 'category': 'UncategorizedText', 'element_id': 'cb9dd3c0aad01db22772bb6691b89565'}, page_content='Vб–объемный расход сырья на риформинг, м3/час;'),\n",
       " Document(metadata={'source': 'data/data_processing/РАЗДЕЛ 6/РАЗДЕЛ 6.docx', 'category_depth': 0, 'file_directory': 'data/data_processing/РАЗДЕЛ 6', 'filename': 'РАЗДЕЛ 6.docx', 'last_modified': '2025-07-08T17:17:29', 'languages': ['rus'], 'filetype': 'application/vnd.openxmlformats-officedocument.wordprocessingml.document', 'parent_id': '9e8000587e7994102816045a03d1ce72', 'category': 'UncategorizedText', 'element_id': '1941e3af547277feeeac0e78c3d65332'}, page_content='Мдх–масса инжектируемого дихлорэтана, кг/час;'),\n",
       " Document(metadata={'source': 'data/data_processing/РАЗДЕЛ 6/РАЗДЕЛ 6.docx', 'category_depth': 0, 'file_directory': 'data/data_processing/РАЗДЕЛ 6', 'filename': 'РАЗДЕЛ 6.docx', 'last_modified': '2025-07-08T17:17:29', 'languages': ['rus'], 'filetype': 'application/vnd.openxmlformats-officedocument.wordprocessingml.document', 'parent_id': '9e8000587e7994102816045a03d1ce72', 'category': 'UncategorizedText', 'element_id': '09a78d5c50d2d1935915f50cb73f9ec2'}, page_content='Мхл–масса инжектируемого хлора, кг/час;'),\n",
       " Document(metadata={'source': 'data/data_processing/РАЗДЕЛ 6/РАЗДЕЛ 6.docx', 'category_depth': 0, 'file_directory': 'data/data_processing/РАЗДЕЛ 6', 'filename': 'РАЗДЕЛ 6.docx', 'last_modified': '2025-07-08T17:17:29', 'languages': ['rus'], 'filetype': 'application/vnd.openxmlformats-officedocument.wordprocessingml.document', 'parent_id': '9e8000587e7994102816045a03d1ce72', 'category': 'UncategorizedText', 'element_id': '1aa652dc909e3e7b8da25cce938d8f90'}, page_content='Мб–масса бензина на риформинг, кг/час;'),\n",
       " Document(metadata={'source': 'data/data_processing/РАЗДЕЛ 6/РАЗДЕЛ 6.docx', 'category_depth': 0, 'file_directory': 'data/data_processing/РАЗДЕЛ 6', 'filename': 'РАЗДЕЛ 6.docx', 'last_modified': '2025-07-08T17:17:29', 'languages': ['rus'], 'filetype': 'application/vnd.openxmlformats-officedocument.wordprocessingml.document', 'parent_id': '9e8000587e7994102816045a03d1ce72', 'category': 'UncategorizedText', 'element_id': 'b3ea171e7a62000aac3f100c501e38f2'}, page_content='Qхл–расход хлора, ррм.'),\n",
       " Document(metadata={'source': 'data/data_processing/РАЗДЕЛ 6/РАЗДЕЛ 6.docx', 'category_depth': 0, 'file_directory': 'data/data_processing/РАЗДЕЛ 6', 'filename': 'РАЗДЕЛ 6.docx', 'last_modified': '2025-07-08T17:17:29', 'languages': ['rus'], 'filetype': 'application/vnd.openxmlformats-officedocument.wordprocessingml.document', 'parent_id': '9e8000587e7994102816045a03d1ce72', 'category': 'NarrativeText', 'element_id': '963212c3db11a7b0dd44cfbe888cde7f'}, page_content='Пример расчета подачи дихлорэтана исходя из заданного расхода Qхл = 5 ррм и соотношения смеси дихлорэтан + бензин 1: 10, где а = 1, в = 10. (Сколько сантиметров уровня в час необходимо откачивать из емкости V-508), загрузка на блок риформинга Vб = 16,2 м3/час.'),\n",
       " Document(metadata={'source': 'data/data_processing/РАЗДЕЛ 6/РАЗДЕЛ 6.docx', 'category_depth': 0, 'file_directory': 'data/data_processing/РАЗДЕЛ 6', 'filename': 'РАЗДЕЛ 6.docx', 'last_modified': '2025-07-08T17:17:29', 'languages': ['rus'], 'filetype': 'application/vnd.openxmlformats-officedocument.wordprocessingml.document', 'parent_id': '9e8000587e7994102816045a03d1ce72', 'category': 'NarrativeText', 'element_id': '889e16181774a900fe8b67f3bf059c3a'}, page_content='т.е. при заданной подаче хлора в 5ррм и соотношении дихлорэтан + бензин 1:10 необходимо отрегулировать расход насоса Р-204 так, чтобы из V-508 уходил уровень со скоростью 0,75 см/час. Максимальный расход насоса Р-204 (100 делений по лимбу) составляет 3,15 см (по мерной линейке емкости V-508)'),\n",
       " Document(metadata={'source': 'data/data_processing/РАЗДЕЛ 6/РАЗДЕЛ 6.docx', 'category_depth': 0, 'file_directory': 'data/data_processing/РАЗДЕЛ 6', 'filename': 'РАЗДЕЛ 6.docx', 'last_modified': '2025-07-08T17:17:29', 'languages': ['rus'], 'filetype': 'application/vnd.openxmlformats-officedocument.wordprocessingml.document', 'parent_id': '9e8000587e7994102816045a03d1ce72', 'category': 'UncategorizedText', 'element_id': '264bacc9e868adbf4349c4a5bbd03b2f'}, page_content='Пример расчета подачи дихлорэтана исходя из уходящего уровня из V-508 со скоростью '),\n",
       " Document(metadata={'source': 'data/data_processing/РАЗДЕЛ 6/РАЗДЕЛ 6.docx', 'category_depth': 0, 'file_directory': 'data/data_processing/РАЗДЕЛ 6', 'filename': 'РАЗДЕЛ 6.docx', 'last_modified': '2025-07-08T17:17:29', 'languages': ['rus'], 'filetype': 'application/vnd.openxmlformats-officedocument.wordprocessingml.document', 'parent_id': '9e8000587e7994102816045a03d1ce72', 'category': 'NarrativeText', 'element_id': '43d5115c08d7a448b851b64842262297'}, page_content='Н = 1см/час и соотношения дихлорэтан + бензин 1:10, т.е. а = 1, в = 10, загрузка на риформинг Vб = 16,2 м3/час.'),\n",
       " Document(metadata={'source': 'data/data_processing/РАЗДЕЛ 6/РАЗДЕЛ 6.docx', 'category_depth': 0, 'file_directory': 'data/data_processing/РАЗДЕЛ 6', 'filename': 'РАЗДЕЛ 6.docx', 'last_modified': '2025-07-08T17:17:29', 'languages': ['rus'], 'filetype': 'application/vnd.openxmlformats-officedocument.wordprocessingml.document', 'parent_id': '9e8000587e7994102816045a03d1ce72', 'category': 'NarrativeText', 'element_id': '878ef42dd8ee8b8ec6bbb4990e79c7a9'}, page_content=' т.е. при снижении уровня в емкости V-508 со скоростью Н = 1см/час и соотношении дихлорэтан + бензин 1: 10 количество подаваемого хлора составляет 6,7 ррм.'),\n",
       " Document(metadata={'source': 'data/data_processing/РАЗДЕЛ 6/РАЗДЕЛ 6.docx', 'category_depth': 0, 'file_directory': 'data/data_processing/РАЗДЕЛ 6', 'filename': 'РАЗДЕЛ 6.docx', 'last_modified': '2025-07-08T17:17:29', 'languages': ['rus'], 'filetype': 'application/vnd.openxmlformats-officedocument.wordprocessingml.document', 'parent_id': '9e8000587e7994102816045a03d1ce72', 'category': 'NarrativeText', 'element_id': '3ac93b5967b9da8148aa45d58d839aa7'}, page_content='Расчет подачи четыреххлористого углерода аналогичен расчета подачи дихлорэтана. Основные данные для подсчета:'),\n",
       " Document(metadata={'source': 'data/data_processing/РАЗДЕЛ 6/РАЗДЕЛ 6.docx', 'category_depth': 0, 'file_directory': 'data/data_processing/РАЗДЕЛ 6', 'filename': 'РАЗДЕЛ 6.docx', 'last_modified': '2025-07-08T17:17:29', 'languages': ['rus'], 'filetype': 'application/vnd.openxmlformats-officedocument.wordprocessingml.document', 'parent_id': '9e8000587e7994102816045a03d1ce72', 'category': 'UncategorizedText', 'element_id': '1064cf388227f0e1927decaab3e97b26'}, page_content='\\t\\t\\tМдх–молекулярный вес четыреххлористого углерода = 153,81;'),\n",
       " Document(metadata={'source': 'data/data_processing/РАЗДЕЛ 6/РАЗДЕЛ 6.docx', 'category_depth': 0, 'file_directory': 'data/data_processing/РАЗДЕЛ 6', 'filename': 'РАЗДЕЛ 6.docx', 'last_modified': '2025-07-08T17:17:29', 'languages': ['rus'], 'filetype': 'application/vnd.openxmlformats-officedocument.wordprocessingml.document', 'parent_id': '9e8000587e7994102816045a03d1ce72', 'category': 'UncategorizedText', 'element_id': '832f3eac10f7bf5c00cd2538248de5fd'}, page_content='Мхл–молекулярный вес хлора = 35,45;'),\n",
       " Document(metadata={'source': 'data/data_processing/РАЗДЕЛ 6/РАЗДЕЛ 6.docx', 'category_depth': 0, 'file_directory': 'data/data_processing/РАЗДЕЛ 6', 'filename': 'РАЗДЕЛ 6.docx', 'last_modified': '2025-07-08T17:17:29', 'languages': ['rus'], 'filetype': 'application/vnd.openxmlformats-officedocument.wordprocessingml.document', 'parent_id': '9e8000587e7994102816045a03d1ce72', 'category': 'UncategorizedText', 'element_id': 'a5ba2e9bb504bda70bebfd48be30b297'}, page_content='Мдх'),\n",
       " Document(metadata={'source': 'data/data_processing/РАЗДЕЛ 6/РАЗДЕЛ 6.docx', 'category_depth': 0, 'file_directory': 'data/data_processing/РАЗДЕЛ 6', 'filename': 'РАЗДЕЛ 6.docx', 'last_modified': '2025-07-08T17:17:29', 'languages': ['rus'], 'filetype': 'application/vnd.openxmlformats-officedocument.wordprocessingml.document', 'parent_id': '9e8000587e7994102816045a03d1ce72', 'category': 'UncategorizedText', 'element_id': '9f621cd7daf13e729b1d31c4c178b568'}, page_content='–––––– – отношение молекулярных масс = 1,0846;'),\n",
       " Document(metadata={'source': 'data/data_processing/РАЗДЕЛ 6/РАЗДЕЛ 6.docx', 'category_depth': 0, 'file_directory': 'data/data_processing/РАЗДЕЛ 6', 'filename': 'РАЗДЕЛ 6.docx', 'last_modified': '2025-07-08T17:17:29', 'languages': ['rus'], 'filetype': 'application/vnd.openxmlformats-officedocument.wordprocessingml.document', 'parent_id': '9e8000587e7994102816045a03d1ce72', 'category': 'UncategorizedText', 'element_id': 'af549f40a22a165a5ebf0e87c8bc795d'}, page_content='Мхл * 4'),\n",
       " Document(metadata={'source': 'data/data_processing/РАЗДЕЛ 6/РАЗДЕЛ 6.docx', 'category_depth': 0, 'file_directory': 'data/data_processing/РАЗДЕЛ 6', 'filename': 'РАЗДЕЛ 6.docx', 'last_modified': '2025-07-08T17:17:29', 'languages': ['rus'], 'filetype': 'application/vnd.openxmlformats-officedocument.wordprocessingml.document', 'parent_id': '9e8000587e7994102816045a03d1ce72', 'category': 'NarrativeText', 'element_id': 'a5f5713c582a01064685f22aca1db254'}, page_content='дх–плотность четыреххлористого углерода = 1,595 г/см3 или 1595 кг/м3;'),\n",
       " Document(metadata={'source': 'data/data_processing/РАЗДЕЛ 6/РАЗДЕЛ 6.docx', 'category_depth': 0, 'file_directory': 'data/data_processing/РАЗДЕЛ 6', 'filename': 'РАЗДЕЛ 6.docx', 'last_modified': '2025-07-08T17:17:29', 'languages': ['rus'], 'filetype': 'application/vnd.openxmlformats-officedocument.wordprocessingml.document', 'parent_id': '9e8000587e7994102816045a03d1ce72', 'category': 'UncategorizedText', 'element_id': 'c021ee75f6bb8479cec739975bbabb22'}, page_content='б–плотность бензина = 0,725г/см3 или 725кг/м3; '),\n",
       " Document(metadata={'source': 'data/data_processing/РАЗДЕЛ 6/РАЗДЕЛ 6.docx', 'category_depth': 0, 'file_directory': 'data/data_processing/РАЗДЕЛ 6', 'filename': 'РАЗДЕЛ 6.docx', 'last_modified': '2025-07-08T17:17:29', 'languages': ['rus'], 'filetype': 'application/vnd.openxmlformats-officedocument.wordprocessingml.document', 'parent_id': '9e8000587e7994102816045a03d1ce72', 'category': 'ListItem', 'element_id': '757d5d183f0aad5cce526df608ad0a1b'}, page_content='Обзор работы по контролю за внешними параметрами.'),\n",
       " Document(metadata={'source': 'data/data_processing/РАЗДЕЛ 6/РАЗДЕЛ 6.docx', 'category_depth': 0, 'file_directory': 'data/data_processing/РАЗДЕЛ 6', 'filename': 'РАЗДЕЛ 6.docx', 'last_modified': '2025-07-08T17:17:29', 'languages': ['rus'], 'filetype': 'application/vnd.openxmlformats-officedocument.wordprocessingml.document', 'parent_id': '9e8000587e7994102816045a03d1ce72', 'category': 'ListItem', 'element_id': '091c71efaa98a262e09a7a4ffb4a6dbe'}, page_content='а) Проверяется влажность системы, при отклонениях от нормы произвести расчет согласно п.6.3.2.1.3. \"е)\" и подать необходимое количество водяного конденсата насосом Р-206 в систему.'),\n",
       " Document(metadata={'source': 'data/data_processing/РАЗДЕЛ 6/РАЗДЕЛ 6.docx', 'category_depth': 0, 'file_directory': 'data/data_processing/РАЗДЕЛ 6', 'filename': 'РАЗДЕЛ 6.docx', 'last_modified': '2025-07-08T17:17:29', 'languages': ['rus'], 'filetype': 'application/vnd.openxmlformats-officedocument.wordprocessingml.document', 'parent_id': '9e8000587e7994102816045a03d1ce72', 'category': 'NarrativeText', 'element_id': '159b4e8d8fd75244b66e6fce2f9b84f5'}, page_content='б) Исходя из влажности системы и пользуясь таблицей, данной в п.6.3.2.1.4. \"а)\" определить количество хлора которое необходимо инжектировать в систему, или произвести расчет согласно п.6.3.2.1.4.\"е)\" и подать четыреххлористый углерод или дихлорэтан насосом Р-204 в систему. '),\n",
       " Document(metadata={'source': 'data/data_processing/РАЗДЕЛ 6/РАЗДЕЛ 6.docx', 'category_depth': 0, 'file_directory': 'data/data_processing/РАЗДЕЛ 6', 'filename': 'РАЗДЕЛ 6.docx', 'last_modified': '2025-07-08T17:17:29', 'languages': ['rus'], 'filetype': 'application/vnd.openxmlformats-officedocument.wordprocessingml.document', 'parent_id': '9e8000587e7994102816045a03d1ce72', 'category': 'NarrativeText', 'element_id': '2e929c95a2743605126f088c48adf740'}, page_content='в) Зная влажность системы, определить содержание НСl в водородсодержащем газе, определить соотношение Н2О/ НСl и сверить его с таблицей приведенной в п. 5.4.2.1.4. \"г)\" или проверить расчетом согласно п. 6.3.2.1.4.\"е\"). При отклонениях от нормы изменить или инжекцию водяного конденсата или инжекцию дихлорэтана. '),\n",
       " Document(metadata={'source': 'data/data_processing/РАЗДЕЛ 6/РАЗДЕЛ 6.docx', 'category_depth': 0, 'file_directory': 'data/data_processing/РАЗДЕЛ 6', 'filename': 'РАЗДЕЛ 6.docx', 'last_modified': '2025-07-08T17:17:29', 'languages': ['rus'], 'filetype': 'application/vnd.openxmlformats-officedocument.wordprocessingml.document', 'parent_id': '9e8000587e7994102816045a03d1ce72', 'category': 'NarrativeText', 'element_id': '4033fad5f3d2c4604ce84259ff7c2278'}, page_content='г) Хорошим индикатором правильности ведения режима на реакторном блоке является мольное отношение С3/С1. Обычно значение их диапазона 0,7–1,2 соответствует правильному сочетанию параметров среды. Если отношение С3/С1 слишком высокое, это указывает на слишком большое по сравнению с концентрацией воды значение уровня хлорида на катализаторе, и наоборот, если это отношение слишком низкое, что скорее всего уровень хлорида в системе слишком низок по отношению к уровню воды. '),\n",
       " Document(metadata={'source': 'data/data_processing/РАЗДЕЛ 6/РАЗДЕЛ 6.docx', 'category_depth': 0, 'file_directory': 'data/data_processing/РАЗДЕЛ 6', 'filename': 'РАЗДЕЛ 6.docx', 'last_modified': '2025-07-08T17:17:29', 'languages': ['rus'], 'filetype': 'application/vnd.openxmlformats-officedocument.wordprocessingml.document', 'parent_id': '9e8000587e7994102816045a03d1ce72', 'category': 'NarrativeText', 'element_id': '2f857d92468f657c2990a5a3b8ffc1d8'}, page_content='д) Желтая окраска продуктов риформинга указывает на слишком высокий уровень хлоридов. '),\n",
       " Document(metadata={'source': 'data/data_processing/РАЗДЕЛ 6/РАЗДЕЛ 6.docx', 'category_depth': 0, 'file_directory': 'data/data_processing/РАЗДЕЛ 6', 'filename': 'РАЗДЕЛ 6.docx', 'last_modified': '2025-07-08T17:17:29', 'languages': ['rus'], 'filetype': 'application/vnd.openxmlformats-officedocument.wordprocessingml.document', 'parent_id': '9e8000587e7994102816045a03d1ce72', 'category': 'NarrativeText', 'element_id': '936aedda6ec9479fd2f07e333fd6bec1'}, page_content='е) Требования слишком низкой температуры обычно является результатом избытка хлорида на катализаторе в предположении, что состав сырья и условия работы не изменились. Обычно это сопровождается низким выходом тяжелых фракций (С5 и выше) и низкой чистотой водорода. '),\n",
       " Document(metadata={'source': 'data/data_processing/РАЗДЕЛ 6/РАЗДЕЛ 6.docx', 'category_depth': 0, 'file_directory': 'data/data_processing/РАЗДЕЛ 6', 'filename': 'РАЗДЕЛ 6.docx', 'last_modified': '2025-07-08T17:17:29', 'languages': ['rus'], 'filetype': 'application/vnd.openxmlformats-officedocument.wordprocessingml.document', 'parent_id': '9e8000587e7994102816045a03d1ce72', 'category': 'NarrativeText', 'element_id': 'fccfb399b2dc171661949b5ff4eb6d31'}, page_content='ж) В сухой системе производится избыток метана.'),\n",
       " Document(metadata={'source': 'data/data_processing/РАЗДЕЛ 6/РАЗДЕЛ 6.docx', 'category_depth': 0, 'file_directory': 'data/data_processing/РАЗДЕЛ 6', 'filename': 'РАЗДЕЛ 6.docx', 'last_modified': '2025-07-08T17:17:29', 'languages': ['rus'], 'filetype': 'application/vnd.openxmlformats-officedocument.wordprocessingml.document', 'parent_id': '9e8000587e7994102816045a03d1ce72', 'category': 'NarrativeText', 'element_id': 'c30caabc423b1cfab33db93235044b49'}, page_content='з) Из-за избытка хлоридов на катализаторе производится избыточный пропан. Анализ работы по последним четырем пунктам также требует изменения инжекции воды или дихлорэтана. Важно помнить, что изменение скорости подачи сырья и условий работы требует пересчета интенсивности инжекции воды и хлорирующего агента.'),\n",
       " Document(metadata={'source': 'data/data_processing/РАЗДЕЛ 6/РАЗДЕЛ 6.docx', 'category_depth': 0, 'file_directory': 'data/data_processing/РАЗДЕЛ 6', 'filename': 'РАЗДЕЛ 6.docx', 'last_modified': '2025-07-08T17:17:29', 'languages': ['rus'], 'filetype': 'application/vnd.openxmlformats-officedocument.wordprocessingml.document', 'parent_id': '9e8000587e7994102816045a03d1ce72', 'category': 'NarrativeText', 'element_id': '577bb3a2580a33e0e022496879428ef2'}, page_content='Интенсивность инжекций следует изменять очень мало и только при абсолютной необходимости. Управление внешними параметрами очень легко может стать нестабильным, если инжектировать переменные количества воды или хлорида. Предполагается, что на каждом шаге инжекция воды не должна изменяться более чем на 2 ppm, а инжекция хлорида более чем на 0,5 ppm.'),\n",
       " Document(metadata={'source': 'data/data_processing/РАЗДЕЛ 6/РАЗДЕЛ 6.docx', 'category_depth': 0, 'file_directory': 'data/data_processing/РАЗДЕЛ 6', 'filename': 'РАЗДЕЛ 6.docx', 'last_modified': '2025-07-08T17:17:29', 'languages': ['rus'], 'filetype': 'application/vnd.openxmlformats-officedocument.wordprocessingml.document', 'parent_id': '9e8000587e7994102816045a03d1ce72', 'category': 'UncategorizedText', 'element_id': '4ccb6aa819e043ccaeb3b98309a824e4'}, page_content='Для установления равновесия требуется примерно 4-5 дней.'),\n",
       " Document(metadata={'source': 'data/data_processing/РАЗДЕЛ 6/РАЗДЕЛ 6.docx', 'category_depth': 0, 'file_directory': 'data/data_processing/РАЗДЕЛ 6', 'filename': 'РАЗДЕЛ 6.docx', 'last_modified': '2025-07-08T17:17:29', 'languages': ['rus'], 'filetype': 'application/vnd.openxmlformats-officedocument.wordprocessingml.document', 'parent_id': '9e8000587e7994102816045a03d1ce72', 'category': 'NarrativeText', 'element_id': 'acb7b876d242c3dd9ef850aff8b1d045'}, page_content='Если уровень хлорида на катализаторе ниже чем 0,7% по весу следует инжектировать добавочную порцию хлорида для достижения 1% по весу. Если инжекция хлорида в сырье равна 5 ppm то потребуется 12,5 дней на добавление количества хлорида, достаточного для достижения требуемого уровня 1% по весу. На практике катализатором задерживается не весь хлорид, поэтому для достижения уровня 1% потребуется 20 дней.'),\n",
       " Document(metadata={'source': 'data/data_processing/РАЗДЕЛ 6/РАЗДЕЛ 6.docx', 'category_depth': 0, 'file_directory': 'data/data_processing/РАЗДЕЛ 6', 'filename': 'РАЗДЕЛ 6.docx', 'last_modified': '2025-07-08T17:17:29', 'languages': ['rus'], 'filetype': 'application/vnd.openxmlformats-officedocument.wordprocessingml.document', 'parent_id': '9e8000587e7994102816045a03d1ce72', 'category': 'UncategorizedText', 'element_id': 'f798ea249dc25e73cd3db37eb0e71fc5'}, page_content='При необходимости ускоренного хлорирования катализатора проводится его гидрохлорирование согласно п.3.1.2.5. настоящего регламента.'),\n",
       " Document(metadata={'source': 'data/data_processing/РАЗДЕЛ 6/РАЗДЕЛ 6.docx', 'category_depth': 0, 'file_directory': 'data/data_processing/РАЗДЕЛ 6', 'filename': 'РАЗДЕЛ 6.docx', 'last_modified': '2025-07-08T17:17:29', 'languages': ['rus'], 'filetype': 'application/vnd.openxmlformats-officedocument.wordprocessingml.document', 'parent_id': '9e8000587e7994102816045a03d1ce72', 'category': 'UncategorizedText', 'element_id': '7fe892bc529380eb14416d83fba89463'}, page_content='6.3.2.2. Колонна стабилизации Т-201.'),\n",
       " Document(metadata={'source': 'data/data_processing/РАЗДЕЛ 6/РАЗДЕЛ 6.docx', 'category_depth': 0, 'file_directory': 'data/data_processing/РАЗДЕЛ 6', 'filename': 'РАЗДЕЛ 6.docx', 'last_modified': '2025-07-08T17:17:29', 'languages': ['rus'], 'filetype': 'application/vnd.openxmlformats-officedocument.wordprocessingml.document', 'parent_id': '9e8000587e7994102816045a03d1ce72', 'category': 'NarrativeText', 'element_id': 'bf1e6edb904fa06fcf8ecb76474d9dc8'}, page_content='Принцип управления режимом колонны Т-201 такой же как и колонной Т-101. Разница в регулировке качества и при регулировании используется давление в колонне. В колонне Т-201 удаляется из нестабильного катализата, поступающего из V-201 газ, регулируется начало кипения и 10% точка готового катализата, а также упругость паров.'),\n",
       " Document(metadata={'source': 'data/data_processing/РАЗДЕЛ 6/РАЗДЕЛ 6.docx', 'category_depth': 0, 'file_directory': 'data/data_processing/РАЗДЕЛ 6', 'filename': 'РАЗДЕЛ 6.docx', 'last_modified': '2025-07-08T17:17:29', 'languages': ['rus'], 'filetype': 'application/vnd.openxmlformats-officedocument.wordprocessingml.document', 'parent_id': '9e8000587e7994102816045a03d1ce72', 'category': 'NarrativeText', 'element_id': 'a8f302b00b0404bb06b4344c9100326e'}, page_content='Кроме того на качество катализата оказывает влияние расход рефлюксной жидкости от насоса Р-101 А,В в теплообменник Е-203 А,В,С,Д. При увеличении расхода увеличивается выход катализата, легко регулируется начало кипения и 10% точка катализата, но имеет место снижение октанового числа, увеличивается упругость паров. При снижении расхода снижается выход из катализата, начало кипения и 10% точка катализата регулируется с трудом, снижается упругость паров, но при этом увеличивается октановое число катализата.'),\n",
       " Document(metadata={'source': 'data/data_processing/РАЗДЕЛ 6/РАЗДЕЛ 6.docx', 'category_depth': 1, 'emphasized_text_contents': ['Остановка установки в нормальных условиях'], 'emphasized_text_tags': ['b'], 'file_directory': 'data/data_processing/РАЗДЕЛ 6', 'filename': 'РАЗДЕЛ 6.docx', 'last_modified': '2025-07-08T17:17:29', 'languages': ['rus'], 'filetype': 'application/vnd.openxmlformats-officedocument.wordprocessingml.document', 'parent_id': '9e8000587e7994102816045a03d1ce72', 'category': 'ListItem', 'element_id': '997164baa973f011bb756fade807436d'}, page_content='Остановка установки в нормальных условиях'),\n",
       " Document(metadata={'source': 'data/data_processing/РАЗДЕЛ 6/РАЗДЕЛ 6.docx', 'category_depth': 0, 'file_directory': 'data/data_processing/РАЗДЕЛ 6', 'filename': 'РАЗДЕЛ 6.docx', 'last_modified': '2025-07-08T17:17:29', 'languages': ['rus'], 'filetype': 'application/vnd.openxmlformats-officedocument.wordprocessingml.document', 'parent_id': '9e8000587e7994102816045a03d1ce72', 'category': 'UncategorizedText', 'element_id': '8734e7b3297dc75b1ca18a0b4c1a9dc8'}, page_content='Полная остановка установки производится при проведении планового ремонта или перегрузки катализатора.'),\n",
       " Document(metadata={'source': 'data/data_processing/РАЗДЕЛ 6/РАЗДЕЛ 6.docx', 'category_depth': 0, 'file_directory': 'data/data_processing/РАЗДЕЛ 6', 'filename': 'РАЗДЕЛ 6.docx', 'last_modified': '2025-07-08T17:17:29', 'languages': ['rus'], 'filetype': 'application/vnd.openxmlformats-officedocument.wordprocessingml.document', 'parent_id': '9e8000587e7994102816045a03d1ce72', 'category': 'UncategorizedText', 'element_id': '107d570218c4e0d282818cf958c9bd51'}, page_content='При необходимости, полной остановке предшествует регенерация катализатора.'),\n",
       " Document(metadata={'source': 'data/data_processing/РАЗДЕЛ 6/РАЗДЕЛ 6.docx', 'category_depth': 0, 'emphasized_text_contents': ['6.4.1 Секция 100–блок подготовки сырья'], 'emphasized_text_tags': ['b'], 'file_directory': 'data/data_processing/РАЗДЕЛ 6', 'filename': 'РАЗДЕЛ 6.docx', 'last_modified': '2025-07-08T17:17:29', 'languages': ['rus'], 'filetype': 'application/vnd.openxmlformats-officedocument.wordprocessingml.document', 'parent_id': '9e8000587e7994102816045a03d1ce72', 'category': 'UncategorizedText', 'element_id': '77a227f7623ed50ab832117c4ab27a16'}, page_content='6.4.1 Секция 100–блок подготовки сырья'),\n",
       " Document(metadata={'source': 'data/data_processing/РАЗДЕЛ 6/РАЗДЕЛ 6.docx', 'category_depth': 0, 'file_directory': 'data/data_processing/РАЗДЕЛ 6', 'filename': 'РАЗДЕЛ 6.docx', 'last_modified': '2025-07-08T17:17:29', 'languages': ['rus'], 'filetype': 'application/vnd.openxmlformats-officedocument.wordprocessingml.document', 'parent_id': '9e8000587e7994102816045a03d1ce72', 'category': 'NarrativeText', 'element_id': '3831d62fb491fd15f74e7eae0b083037'}, page_content='Понизить производительность на блок риформинга до 8 м3/час со скоростью 2 м3/час, одновременно с этим будет снижаться расход сырья в колонну Т-101. Понизить расход пара до 1700 кг/час. После снятия сырья с блока риформинга вывести колонны Т-101 и Т-201 на широкую циркуляцию по схеме:'),\n",
       " Document(metadata={'source': 'data/data_processing/РАЗДЕЛ 6/РАЗДЕЛ 6.docx', 'category_depth': 0, 'file_directory': 'data/data_processing/РАЗДЕЛ 6', 'filename': 'РАЗДЕЛ 6.docx', 'last_modified': '2025-07-08T17:17:29', 'languages': ['rus'], 'filetype': 'application/vnd.openxmlformats-officedocument.wordprocessingml.document', 'parent_id': '9e8000587e7994102816045a03d1ce72', 'category': 'UncategorizedText', 'element_id': '7865e7aaa768b812382a67556c910200'}, page_content='А,В,С,Д\\t\\t\\t\\t  А,В,С,Д'),\n",
       " Document(metadata={'source': 'data/data_processing/РАЗДЕЛ 6/РАЗДЕЛ 6.docx', 'category_depth': 0, 'file_directory': 'data/data_processing/РАЗДЕЛ 6', 'filename': 'РАЗДЕЛ 6.docx', 'last_modified': '2025-07-08T17:17:29', 'languages': ['rus'], 'filetype': 'application/vnd.openxmlformats-officedocument.wordprocessingml.document', 'parent_id': '9e8000587e7994102816045a03d1ce72', 'category': 'NarrativeText', 'element_id': '2c0bdea4da4ce75595ea186dfea72f28'}, page_content='После вывода колонны Т-101 на циркуляцию, снижая расход пара в рибойлер Е-102, понизить температуру куба Т-101 со скоростью 25-30°С в час до полного закрытия подачи пара. После закрытия пара продолжать циркуляцию бензина по колонне Т-101 до охлаждения куба колонны до температуры 30-35°С. В период снижения расхода пара в рибойлер Е-102 плавно перекрыть подачу изопентановой фракции в трубопровод сырья и пара в теплообменник Е-203 А,В.'),\n",
       " Document(metadata={'source': 'data/data_processing/РАЗДЕЛ 6/РАЗДЕЛ 6.docx', 'category_depth': 0, 'file_directory': 'data/data_processing/РАЗДЕЛ 6', 'filename': 'РАЗДЕЛ 6.docx', 'last_modified': '2025-07-08T17:17:29', 'languages': ['rus'], 'filetype': 'application/vnd.openxmlformats-officedocument.wordprocessingml.document', 'parent_id': '9e8000587e7994102816045a03d1ce72', 'category': 'NarrativeText', 'element_id': '73e41a6f78a62413bf37ae7641c492ae'}, page_content='По мере снижения температуры низа будет снижаться количество паров, что приведет к понижению давления в колонне. Для возможности продолжать циркуляцию по колонне Т-101 поддавить колонну Т-101 через емкость V-101 газом передавливания с небольшой сдувкой на факел по схеме:'),\n",
       " Document(metadata={'source': 'data/data_processing/РАЗДЕЛ 6/РАЗДЕЛ 6.docx', 'category_depth': 0, 'file_directory': 'data/data_processing/РАЗДЕЛ 6', 'filename': 'РАЗДЕЛ 6.docx', 'last_modified': '2025-07-08T17:17:29', 'languages': ['rus'], 'filetype': 'application/vnd.openxmlformats-officedocument.wordprocessingml.document', 'parent_id': '9e8000587e7994102816045a03d1ce72', 'category': 'NarrativeText', 'element_id': '8652ff2908f0edc1cc5136dcc105760a'}, page_content='Давление в емкости V-101 поддерживать 2,5 кгс/см2. Откачку с емкости V-101 в линию некондиции перекрыть и оставить работать насос Р-101 А,В только на орошение колонны Т-101 до ее охлаждения. После того, как температура на 43 тарелке стабильно начнет падать, остановить насос Р-101 А, В. Если при этом температура на 43 тарелке не начнет расти, то опять включить насос Р-101 А, В и откачать уровень с емкости V-101 в линию некондиции до «сброса» насоса. После прекращения поступления паров в воздушный холодильник АС-101 остановить вентиляторы АСМ-101 А, В. После полного охлаждения колонны Т-101 созвониться с парком моторных топлив для прекращения приема сырья и остановки сырьевых насосов. При падении расхода сырья до 0 м3/час и падении давления в сырьевом трубопроводе до 0 кгс/см2 перекрыть запорную арматуру на входе бензиновой фракции в колонну Т-101 и откачать уровень с колонны Т-101 насосами Р-201 А, В до «сброса» насоса. Освободить от продукта теплообменник Е-102, от остаточных продуктов Т-101 и V-101 в емкость V-501, уровень с которой потом выдавить в линию некондиции УМТ.'),\n",
       " Document(metadata={'source': 'data/data_processing/РАЗДЕЛ 6/РАЗДЕЛ 6.docx', 'category_depth': 0, 'file_directory': 'data/data_processing/РАЗДЕЛ 6', 'filename': 'РАЗДЕЛ 6.docx', 'last_modified': '2025-07-08T17:17:29', 'languages': ['rus'], 'filetype': 'application/vnd.openxmlformats-officedocument.wordprocessingml.document', 'parent_id': '9e8000587e7994102816045a03d1ce72', 'category': 'NarrativeText', 'element_id': '432926110c55ab8f4f76034b20515b23'}, page_content='Сбросить давление с блока подготовки на факел. Весь остальной продукт с трубопроводов, насосов Р-101 А, В; Р-201 А,В, теплообменника Е-101 слить в дренажную емкость V-507. В дальнейшем подготовка оборудования к ремонтным работам (пропарка, продувка азотом, отглушение) проводится по конкретным схемам по распоряжению начальника установки. После откачки продуктов из аппаратов перекрыть соответствующие клапанные сборки и задвижки.'),\n",
       " Document(metadata={'source': 'data/data_processing/РАЗДЕЛ 6/РАЗДЕЛ 6.docx', 'category_depth': 0, 'emphasized_text_contents': ['6.4.2 Секция 200–каталитический риформинг'], 'emphasized_text_tags': ['b'], 'file_directory': 'data/data_processing/РАЗДЕЛ 6', 'filename': 'РАЗДЕЛ 6.docx', 'last_modified': '2025-07-08T17:17:29', 'languages': ['rus'], 'filetype': 'application/vnd.openxmlformats-officedocument.wordprocessingml.document', 'parent_id': '9e8000587e7994102816045a03d1ce72', 'category': 'UncategorizedText', 'element_id': 'fb2b0703cc6eac053a772833c55166a3'}, page_content='6.4.2 Секция 200–каталитический риформинг'),\n",
       " Document(metadata={'source': 'data/data_processing/РАЗДЕЛ 6/РАЗДЕЛ 6.docx', 'category_depth': 0, 'emphasized_text_contents': ['Реакторный блок.'], 'emphasized_text_tags': ['i'], 'file_directory': 'data/data_processing/РАЗДЕЛ 6', 'filename': 'РАЗДЕЛ 6.docx', 'last_modified': '2025-07-08T17:17:29', 'languages': ['rus'], 'filetype': 'application/vnd.openxmlformats-officedocument.wordprocessingml.document', 'parent_id': '9e8000587e7994102816045a03d1ce72', 'category': 'UncategorizedText', 'element_id': '4bb5a916118e11f57405ea3af56604d8'}, page_content='Реакторный блок.'),\n",
       " Document(metadata={'source': 'data/data_processing/РАЗДЕЛ 6/РАЗДЕЛ 6.docx', 'category_depth': 0, 'file_directory': 'data/data_processing/РАЗДЕЛ 6', 'filename': 'РАЗДЕЛ 6.docx', 'last_modified': '2025-07-08T17:17:29', 'languages': ['rus'], 'filetype': 'application/vnd.openxmlformats-officedocument.wordprocessingml.document', 'parent_id': '9e8000587e7994102816045a03d1ce72', 'category': 'NarrativeText', 'element_id': '0179349ff51194c6d57ec2aab90adae6'}, page_content='Если в циркулирующем газе содержится более 0,0001 % об. сероводорода (H2S) то следует предусмотреть операцию удаления серы, согласно разделов 3.1.2.2. или 6.4.2.3. настоящего регламента.'),\n",
       " Document(metadata={'source': 'data/data_processing/РАЗДЕЛ 6/РАЗДЕЛ 6.docx', 'category_depth': 0, 'file_directory': 'data/data_processing/РАЗДЕЛ 6', 'filename': 'РАЗДЕЛ 6.docx', 'last_modified': '2025-07-08T17:17:29', 'languages': ['rus'], 'filetype': 'application/vnd.openxmlformats-officedocument.wordprocessingml.document', 'parent_id': '9e8000587e7994102816045a03d1ce72', 'category': 'NarrativeText', 'element_id': 'b9767982db49f19a6f03e8fa0b476745'}, page_content='После завершения операции удаления серы понизить производительность на блок риформинга до 8 м3/час со скоростью 2 м3/час. Понизить температуру на входе в реактора со скоростью 40-45°С в час до 427°С. По мере снижения загрузки и понижения температуры будет снижаться циркуляционный расход ВСГ от компрессоров К-201 А,В. Для поддержания его на уровне 3700-3800 кг/час поднять температуру на выходе с АС-201А до 65°С. Будет также снижаться выработка водорода. При достижении расхода ВСГ со щита сдува (прибор поз. FR-413) 200 кг/час перевести уплотнение компрессоров (буферный газ) с водорода на газ передавливания или азот.'),\n",
       " Document(metadata={'source': 'data/data_processing/РАЗДЕЛ 6/РАЗДЕЛ 6.docx', 'category_depth': 0, 'file_directory': 'data/data_processing/РАЗДЕЛ 6', 'filename': 'РАЗДЕЛ 6.docx', 'last_modified': '2025-07-08T17:17:29', 'languages': ['rus'], 'filetype': 'application/vnd.openxmlformats-officedocument.wordprocessingml.document', 'parent_id': '9e8000587e7994102816045a03d1ce72', 'category': 'NarrativeText', 'element_id': 'b6416259cf60072cb9cc3003dc9f91a0'}, page_content='При достижении температуры на входе в реактора 427°С снять сырье с блока риформинга и оставить циркуляцию ВСГ от компрессоров К-201 А,В. Перед снятием сырья принять азот на установку и продуть его до содержания кислорода не более 0,5% об. Продуть сепаратор V-201 от продукта до газа, после чего перекрыть переток с V-201 в Е-203. Если установка останавливается на ремонт без регенерации катализатора, то после снятия сырья подпитать систему водородом с буллитов V-804 А–F, продуть систему от углеводородов и поддерживать давление в системе водородом до полной остановки блока. Понизить давление в сепараторе V-201 до 8-10 кг/см2. Со скоростью 40-50°С в час понизить температуру на входе в реакторы до 360°С, после чего потушить печи Н-201 А,В,С. Продолжать циркуляцию газа по реакторному блоку до снижения температуры на выходе из реакторов до 35-40°С. Постоянно сливать воду и конденсат с сепаратора V-201 и дренажей теплообменников. При достижении температур 35-40°С остановить компрессора К-201А,В и сбросить давление на факел. Компрессора перед остановкой вывести на малое кольцо циркуляции по схеме:'),\n",
       " Document(metadata={'source': 'data/data_processing/РАЗДЕЛ 6/РАЗДЕЛ 6.docx', 'category_depth': 0, 'file_directory': 'data/data_processing/РАЗДЕЛ 6', 'filename': 'РАЗДЕЛ 6.docx', 'last_modified': '2025-07-08T17:17:29', 'languages': ['rus'], 'filetype': 'application/vnd.openxmlformats-officedocument.wordprocessingml.document', 'parent_id': '9e8000587e7994102816045a03d1ce72', 'category': 'NarrativeText', 'element_id': '798ef9465fbef3b9ec28d87ef413b556'}, page_content='и после этого остановить. Дать азот в выкидной трубопровод компрессора К-201 А с последующей сдувкой с приемной линии К-201В на факел.'),\n",
       " Document(metadata={'source': 'data/data_processing/РАЗДЕЛ 6/РАЗДЕЛ 6.docx', 'category_depth': 0, 'file_directory': 'data/data_processing/РАЗДЕЛ 6', 'filename': 'РАЗДЕЛ 6.docx', 'last_modified': '2025-07-08T17:17:29', 'languages': ['rus'], 'filetype': 'application/vnd.openxmlformats-officedocument.wordprocessingml.document', 'parent_id': '9e8000587e7994102816045a03d1ce72', 'category': 'NarrativeText', 'element_id': '0c8a05e220b58ab4aea4471367294de5'}, page_content='Продуть систему азотом со сбросом на факел до тех пор, пока концентрация водорода в азоте будет не более 1% об., углеводородов не более 2% об. Отглушить реактора и набрать в них давление азота не менее 0,35 кг/см2 для предотвращения попадания воздуха.'),\n",
       " Document(metadata={'source': 'data/data_processing/РАЗДЕЛ 6/РАЗДЕЛ 6.docx', 'category_depth': 0, 'file_directory': 'data/data_processing/РАЗДЕЛ 6', 'filename': 'РАЗДЕЛ 6.docx', 'last_modified': '2025-07-08T17:17:29', 'languages': ['rus'], 'filetype': 'application/vnd.openxmlformats-officedocument.wordprocessingml.document', 'parent_id': '9e8000587e7994102816045a03d1ce72', 'category': 'UncategorizedText', 'element_id': '3480be6ce468bb6c7b22b2279363cb61'}, page_content='При остановке реакторного блока с регенерацией катализатора действия следующие.'),\n",
       " Document(metadata={'source': 'data/data_processing/РАЗДЕЛ 6/РАЗДЕЛ 6.docx', 'category_depth': 0, 'file_directory': 'data/data_processing/РАЗДЕЛ 6', 'filename': 'РАЗДЕЛ 6.docx', 'last_modified': '2025-07-08T17:17:29', 'languages': ['rus'], 'filetype': 'application/vnd.openxmlformats-officedocument.wordprocessingml.document', 'parent_id': '9e8000587e7994102816045a03d1ce72', 'category': 'NarrativeText', 'element_id': '669456f5c25f8e2693df6941f4be696a'}, page_content='После снятия сырья по мере снижения давления подпитать систему азотом. По мере увеличения концентрации азота в циркулирующем газе будет увеличивать плотность газа, увеличится расход циркуляционного газа, будет расти температура на нагнетании компрессоров и увеличиваться нагрузка по току на электродвигатели. Необходимо понизить постепенно давление на приеме компрессоров до 6 кг/см2. Температуру после холодильника АС-201 А держать как можно ниже, и при необходимости остановить один из компрессоров. Со скоростью 40-50°С в час понизить температуру на входе в реактора до 360°С, после чего потушить печи Н-201А,В,С. Продолжить циркуляцию газа по реакторному блоку до достижения температуры на входе в реактор R-204 100°С. В момент снижения температуры с 360°С на входе в реактора R-201-R-203 до температуры 100°С на входе в реактор R-204, продуть систему азотом на факел по схеме как указано выше до тех пор, пока концентрация водорода в азоте будет не более 1% об., а углеводородов не более 2% об. Провести пассивацию катализатора в R-204 и регенерацию катализатора риформинга согласно п.6.5 настоящего регламента. Дальнейшая подготовка к ремонту ведется согласно распоряжения начальника установки.'),\n",
       " Document(metadata={'source': 'data/data_processing/РАЗДЕЛ 6/РАЗДЕЛ 6.docx', 'category_depth': 0, 'emphasized_text_contents': ['Блок стабилизации.'], 'emphasized_text_tags': ['i'], 'file_directory': 'data/data_processing/РАЗДЕЛ 6', 'filename': 'РАЗДЕЛ 6.docx', 'last_modified': '2025-07-08T17:17:29', 'languages': ['rus'], 'filetype': 'application/vnd.openxmlformats-officedocument.wordprocessingml.document', 'parent_id': '9e8000587e7994102816045a03d1ce72', 'category': 'UncategorizedText', 'element_id': '61883dbcde41068e7673d0cd547f3c05'}, page_content='Блок стабилизации.'),\n",
       " Document(metadata={'source': 'data/data_processing/РАЗДЕЛ 6/РАЗДЕЛ 6.docx', 'category_depth': 0, 'file_directory': 'data/data_processing/РАЗДЕЛ 6', 'filename': 'РАЗДЕЛ 6.docx', 'last_modified': '2025-07-08T17:17:29', 'languages': ['rus'], 'filetype': 'application/vnd.openxmlformats-officedocument.wordprocessingml.document', 'parent_id': '9e8000587e7994102816045a03d1ce72', 'category': 'UncategorizedText', 'element_id': '0223fb6514154a6c18d142d817863408'}, page_content='После снятия сырья с реакторного блока, колонна Т-201 выводится на широкую циркуляцию вместе с колонной Т-101 по схеме:'),\n",
       " Document(metadata={'source': 'data/data_processing/РАЗДЕЛ 6/РАЗДЕЛ 6.docx', 'category_depth': 0, 'file_directory': 'data/data_processing/РАЗДЕЛ 6', 'filename': 'РАЗДЕЛ 6.docx', 'last_modified': '2025-07-08T17:17:29', 'languages': ['rus'], 'filetype': 'application/vnd.openxmlformats-officedocument.wordprocessingml.document', 'parent_id': '9e8000587e7994102816045a03d1ce72', 'category': 'NarrativeText', 'element_id': '6358e8dc8339c95c62291bc42a37ed05'}, page_content='Закрывая клапан поз. TV-201 и открывая клапан поз. PV-307 понизить температуру низа Т-201 до 35-40°С со скоростью 25-30°С в час. При необходимости закрыть задвижку на входе газопродуктовой смеси в трубное пространство теплообменника Е-204.'),\n",
       " Document(metadata={'source': 'data/data_processing/РАЗДЕЛ 6/РАЗДЕЛ 6.docx', 'category_depth': 0, 'file_directory': 'data/data_processing/РАЗДЕЛ 6', 'filename': 'РАЗДЕЛ 6.docx', 'last_modified': '2025-07-08T17:17:29', 'languages': ['rus'], 'filetype': 'application/vnd.openxmlformats-officedocument.wordprocessingml.document', 'parent_id': '9e8000587e7994102816045a03d1ce72', 'category': 'NarrativeText', 'element_id': '5153454ee33cea87598cbf2dfc490dca'}, page_content='По мере снижения температуры низа колонны и прекращения отпарки будет снижаться давление в колонне Т-201. Для возможности продолжения циркуляции по колонне, поддавить колонну Т-201 газом передавливания по схеме:'),\n",
       " Document(metadata={'source': 'data/data_processing/РАЗДЕЛ 6/РАЗДЕЛ 6.docx', 'category_depth': 0, 'file_directory': 'data/data_processing/РАЗДЕЛ 6', 'filename': 'РАЗДЕЛ 6.docx', 'last_modified': '2025-07-08T17:17:29', 'languages': ['rus'], 'filetype': 'application/vnd.openxmlformats-officedocument.wordprocessingml.document', 'parent_id': '9e8000587e7994102816045a03d1ce72', 'category': 'NarrativeText', 'element_id': 'e6d4ca5aabc67c4ba644d43e3d594931'}, page_content='Давление поддерживать такое, как в линии газа передавливания. Откачку с емкости V-202 в линию некондиции перекрыть и оставить работать насос Р-203А,В только на орошение колонны Т-201 до ее охлаждения. После того, как температура верха колонны будет стабильно падать, остановить насос Р-203 А, В. Если температура верха не будет расти, то опять включить насос Р-203 А,В и откачать уровень с емкости V-202 в линию некондиции до «сброса» насоса. После охлаждения колонн Т-101 и Т-201 циркуляцию прекратить. Выдавить уровень с колонны Т-201, а также продукт с теплообменника Е-203тр. и холодильника АС-201 С в линию некондиции до газа. Освободить от продукта теплообменник Е-204, емкость V-202 в емкость V-501 и далее в линию некондиции установки моторных топлив. Перекрыть поддавливание емкости V-202 и сбросить давление с блока стабилизации на факел. Остатки нефтепродукта с аппаратов, насосов, трубопроводов слить в заглубленную емкость V-507. После освобождения аппаратов от продукта перекрыть соответствующие клапанные сборки и задвижки.'),\n",
       " Document(metadata={'source': 'data/data_processing/РАЗДЕЛ 6/РАЗДЕЛ 6.docx', 'category_depth': 0, 'emphasized_text_contents': ['6.4.3 Удаление серы из катализатора риформинга'], 'emphasized_text_tags': ['b'], 'file_directory': 'data/data_processing/РАЗДЕЛ 6', 'filename': 'РАЗДЕЛ 6.docx', 'last_modified': '2025-07-08T17:17:29', 'languages': ['rus'], 'filetype': 'application/vnd.openxmlformats-officedocument.wordprocessingml.document', 'parent_id': '9e8000587e7994102816045a03d1ce72', 'category': 'UncategorizedText', 'element_id': 'a38f7bcad59e14555259d05da9fa14fd'}, page_content='6.4.3 Удаление серы из катализатора риформинга'),\n",
       " Document(metadata={'source': 'data/data_processing/РАЗДЕЛ 6/РАЗДЕЛ 6.docx', 'category_depth': 0, 'file_directory': 'data/data_processing/РАЗДЕЛ 6', 'filename': 'РАЗДЕЛ 6.docx', 'last_modified': '2025-07-08T17:17:29', 'languages': ['rus'], 'filetype': 'application/vnd.openxmlformats-officedocument.wordprocessingml.document', 'parent_id': '9e8000587e7994102816045a03d1ce72', 'category': 'UncategorizedText', 'element_id': '7445a86d59b0a77f3dde61b046bf10d8'}, page_content='Операция проводится в случае отравления катализатора.'),\n",
       " Document(metadata={'source': 'data/data_processing/РАЗДЕЛ 6/РАЗДЕЛ 6.docx', 'category_depth': 0, 'file_directory': 'data/data_processing/РАЗДЕЛ 6', 'filename': 'РАЗДЕЛ 6.docx', 'last_modified': '2025-07-08T17:17:29', 'languages': ['rus'], 'filetype': 'application/vnd.openxmlformats-officedocument.wordprocessingml.document', 'parent_id': '9e8000587e7994102816045a03d1ce72', 'category': 'NarrativeText', 'element_id': 'cdbd637279e7b12c5d97ef50aabb4416'}, page_content='После прекращения подачи сырья при 425-4300С продолжают циркуляцию водородсодержащего газа, дренируют бензин из сепаратора V- 201 и других низких точек системы , промывают воздушный холодильник АС - 201А и сепаратор водой для удаления осадка хлористого аммония и сливают воду. После этого налаживают циркуляцию содового раствора на участке: сепаратор V-201 - насос Р- 205 - вход в холодильник '),\n",
       " Document(metadata={'source': 'data/data_processing/РАЗДЕЛ 6/РАЗДЕЛ 6.docx', 'category_depth': 0, 'file_directory': 'data/data_processing/РАЗДЕЛ 6', 'filename': 'РАЗДЕЛ 6.docx', 'last_modified': '2025-07-08T17:17:29', 'languages': ['rus'], 'filetype': 'application/vnd.openxmlformats-officedocument.wordprocessingml.document', 'parent_id': '9e8000587e7994102816045a03d1ce72', 'category': 'UncategorizedText', 'element_id': 'ce3f962f6b7c2e50939fc775e55f570e'}, page_content='АС-201А. Скорость циркуляции раствора - 4-5 м3/час.'),\n",
       " Document(metadata={'source': 'data/data_processing/РАЗДЕЛ 6/РАЗДЕЛ 6.docx', 'category_depth': 0, 'file_directory': 'data/data_processing/РАЗДЕЛ 6', 'filename': 'РАЗДЕЛ 6.docx', 'last_modified': '2025-07-08T17:17:29', 'languages': ['rus'], 'filetype': 'application/vnd.openxmlformats-officedocument.wordprocessingml.document', 'parent_id': '9e8000587e7994102816045a03d1ce72', 'category': 'NarrativeText', 'element_id': '6d6a918bd91593f95e8f9e5f472baf8a'}, page_content='Температуру на входе в реакторы повышают до 5100С и начинают подачу четыреххлористого углерода или другого хлорорганического соединения на вход в реактор R-201. '),\n",
       " Document(metadata={'source': 'data/data_processing/РАЗДЕЛ 6/РАЗДЕЛ 6.docx', 'category_depth': 0, 'file_directory': 'data/data_processing/РАЗДЕЛ 6', 'filename': 'РАЗДЕЛ 6.docx', 'last_modified': '2025-07-08T17:17:29', 'languages': ['rus'], 'filetype': 'application/vnd.openxmlformats-officedocument.wordprocessingml.document', 'parent_id': '9e8000587e7994102816045a03d1ce72', 'category': 'NarrativeText', 'element_id': '29d738c959847805e75d1c43155d28a9'}, page_content='При мольном отношении вода/хлористый водород равном 20/1 обработку катализатора продолжают до тех пор , пока содержание сероводорода в газе снизится до менее 1 ррm об. (1-2 мг/нм3), время обработки - 3-5 суток.'),\n",
       " Document(metadata={'source': 'data/data_processing/РАЗДЕЛ 6/РАЗДЕЛ 6.docx', 'category_depth': 0, 'emphasized_text_contents': ['6.5 Пассивация катализаторов АГС-60, АП-56 и регенерация катализатора\\nриформинга'], 'emphasized_text_tags': ['b'], 'file_directory': 'data/data_processing/РАЗДЕЛ 6', 'filename': 'РАЗДЕЛ 6.docx', 'last_modified': '2025-07-08T17:17:29', 'languages': ['rus'], 'filetype': 'application/vnd.openxmlformats-officedocument.wordprocessingml.document', 'parent_id': '9e8000587e7994102816045a03d1ce72', 'category': 'UncategorizedText', 'element_id': '2ce14fbe5ba39a263306def634cca5ad'}, page_content='6.5 Пассивация катализаторов АГС-60, АП-56 и регенерация катализатора\\nриформинга'),\n",
       " Document(metadata={'source': 'data/data_processing/РАЗДЕЛ 6/РАЗДЕЛ 6.docx', 'category_depth': 2, 'emphasized_text_contents': ['Признаки падения активности катализатора'], 'emphasized_text_tags': ['b'], 'file_directory': 'data/data_processing/РАЗДЕЛ 6', 'filename': 'РАЗДЕЛ 6.docx', 'last_modified': '2025-07-08T17:17:29', 'languages': ['rus'], 'filetype': 'application/vnd.openxmlformats-officedocument.wordprocessingml.document', 'parent_id': '9e8000587e7994102816045a03d1ce72', 'category': 'ListItem', 'element_id': 'd8e595a9d6c5bcf0fd839cf3af3ef967'}, page_content='Признаки падения активности катализатора'),\n",
       " Document(metadata={'source': 'data/data_processing/РАЗДЕЛ 6/РАЗДЕЛ 6.docx', 'category_depth': 0, 'file_directory': 'data/data_processing/РАЗДЕЛ 6', 'filename': 'РАЗДЕЛ 6.docx', 'last_modified': '2025-07-08T17:17:29', 'languages': ['rus'], 'filetype': 'application/vnd.openxmlformats-officedocument.wordprocessingml.document', 'parent_id': '9e8000587e7994102816045a03d1ce72', 'category': 'NarrativeText', 'element_id': '825edfc7067691ca3a769ec3c9fc30aa'}, page_content='Окислительная регенерация проводится в том случае, когда падение активности и селективности катализатора не может быть скомпенсировано изменением управляемых параметров, главным образом, температуры процесса. К регенерации обычно переходят, если выход катализата понизился более чем на 2% масс.'),\n",
       " Document(metadata={'source': 'data/data_processing/РАЗДЕЛ 6/РАЗДЕЛ 6.docx', 'category_depth': 0, 'file_directory': 'data/data_processing/РАЗДЕЛ 6', 'filename': 'РАЗДЕЛ 6.docx', 'last_modified': '2025-07-08T17:17:29', 'languages': ['rus'], 'filetype': 'application/vnd.openxmlformats-officedocument.wordprocessingml.document', 'parent_id': '9e8000587e7994102816045a03d1ce72', 'category': 'UncategorizedText', 'element_id': '78a9c99eef95ef50568115d1c9f58ac4'}, page_content='Другие признаки падения активности катализатора :'),\n",
       " Document(metadata={'source': 'data/data_processing/РАЗДЕЛ 6/РАЗДЕЛ 6.docx', 'category_depth': 0, 'file_directory': 'data/data_processing/РАЗДЕЛ 6', 'filename': 'РАЗДЕЛ 6.docx', 'last_modified': '2025-07-08T17:17:29', 'languages': ['rus'], 'filetype': 'application/vnd.openxmlformats-officedocument.wordprocessingml.document', 'parent_id': '9e8000587e7994102816045a03d1ce72', 'category': 'ListItem', 'element_id': '08f1a7089958843186dfcad0c661a03b'}, page_content='снижение октанового числа катализата, снижение концентрации ароматических углеводородов, повышение концентрации нафтеновых углеводородов, повышение бромного числа, появление зеленовато-желтой окраски катализата,'),\n",
       " Document(metadata={'source': 'data/data_processing/РАЗДЕЛ 6/РАЗДЕЛ 6.docx', 'category_depth': 0, 'file_directory': 'data/data_processing/РАЗДЕЛ 6', 'filename': 'РАЗДЕЛ 6.docx', 'last_modified': '2025-07-08T17:17:29', 'languages': ['rus'], 'filetype': 'application/vnd.openxmlformats-officedocument.wordprocessingml.document', 'parent_id': '9e8000587e7994102816045a03d1ce72', 'category': 'ListItem', 'element_id': '56501f058fe1b6f382703c457b1d6c8b'}, page_content='резкое снижение концентрации водорода в циркулирующем газе, рост выхода сухого и сжиженного газа стабилизации,'),\n",
       " Document(metadata={'source': 'data/data_processing/РАЗДЕЛ 6/РАЗДЕЛ 6.docx', 'category_depth': 0, 'file_directory': 'data/data_processing/РАЗДЕЛ 6', 'filename': 'РАЗДЕЛ 6.docx', 'last_modified': '2025-07-08T17:17:29', 'languages': ['rus'], 'filetype': 'application/vnd.openxmlformats-officedocument.wordprocessingml.document', 'parent_id': '9e8000587e7994102816045a03d1ce72', 'category': 'ListItem', 'element_id': 'e167c7805742dbb3219473d20449621f'}, page_content='снижение температурного перепада в реакторах риформинга, прежде всего температурного перепада в 1 ступени (R-201).'),\n",
       " Document(metadata={'source': 'data/data_processing/РАЗДЕЛ 6/РАЗДЕЛ 6.docx', 'category_depth': 0, 'file_directory': 'data/data_processing/РАЗДЕЛ 6', 'filename': 'РАЗДЕЛ 6.docx', 'last_modified': '2025-07-08T17:17:29', 'languages': ['rus'], 'filetype': 'application/vnd.openxmlformats-officedocument.wordprocessingml.document', 'parent_id': '9e8000587e7994102816045a03d1ce72', 'category': 'UncategorizedText', 'element_id': '3f24ab83c72dae2c861d908389a83515'}, page_content='Перед остановкой на регенерацию следует убедиться, что изменение выхода и качества продуктов реакции, изменения показателей технологического режима действительно вызваны падением активности катализатора, а не связаны с изменением качества сырья, поступлением каталитических ядов, неисправностями оборудования.'),\n",
       " Document(metadata={'source': 'data/data_processing/РАЗДЕЛ 6/РАЗДЕЛ 6.docx', 'category_depth': 0, 'emphasized_text_contents': ['6.5.2 Пассивация катализаторов АГС-60 и АП-56'], 'emphasized_text_tags': ['b'], 'file_directory': 'data/data_processing/РАЗДЕЛ 6', 'filename': 'РАЗДЕЛ 6.docx', 'last_modified': '2025-07-08T17:17:29', 'languages': ['rus'], 'filetype': 'application/vnd.openxmlformats-officedocument.wordprocessingml.document', 'parent_id': '9e8000587e7994102816045a03d1ce72', 'category': 'UncategorizedText', 'element_id': '296c0ab79161ff9cc16ec4a1f9a368a1'}, page_content='6.5.2 Пассивация катализаторов АГС-60 и АП-56'),\n",
       " Document(metadata={'source': 'data/data_processing/РАЗДЕЛ 6/РАЗДЕЛ 6.docx', 'category_depth': 0, 'file_directory': 'data/data_processing/РАЗДЕЛ 6', 'filename': 'РАЗДЕЛ 6.docx', 'last_modified': '2025-07-08T17:17:29', 'languages': ['rus'], 'filetype': 'application/vnd.openxmlformats-officedocument.wordprocessingml.document', 'parent_id': '9e8000587e7994102816045a03d1ce72', 'category': 'NarrativeText', 'element_id': 'b7cc0f9154f7477cb00189288f13a399'}, page_content='Катализатор-адсорбент АГС-60 и катализатор АП-56 обладают пирофорными свойствами и разогреваются при контакте с кислородом воздуха. Пассивация катализаторов предназначена для обеспечения безопасности при вскрытии реактора сероочистки без проведения регенерации катализаторов. Такое вскрытие реактора проводится с целью перегрузки катализаторов или полной их выгрузки. Пассивация заключается в окислении в мягких условиях легковоспламеняющихся на воздухе соединений, содержащихся в катализаторах, после чего катализаторы практически теряют свои пирофорные свойства.'),\n",
       " Document(metadata={'source': 'data/data_processing/РАЗДЕЛ 6/РАЗДЕЛ 6.docx', 'category_depth': 0, 'file_directory': 'data/data_processing/РАЗДЕЛ 6', 'filename': 'РАЗДЕЛ 6.docx', 'last_modified': '2025-07-08T17:17:29', 'languages': ['rus'], 'filetype': 'application/vnd.openxmlformats-officedocument.wordprocessingml.document', 'parent_id': '9e8000587e7994102816045a03d1ce72', 'category': 'NarrativeText', 'element_id': '6ff43e9fba886ac83a98b3424630cd54'}, page_content='Технически пассивация катализаторов осуществляется путем продувки катализаторов инертным газом с низким содержанием кислорода в течение 20 - 24 часов при температуре 100 - 130°С. Как было указано, при остановке реакторного блока температура снижается до 100°С на входе в реактор R-204. В момент снижения температуры следует продувка реакторного блока азотом до тех пор, пока содержание водорода в азоте будет не более 0,5% об, а углеводородов не более 2% об. После получения нормального анализа азота, циркулирующего в системе, разжечь одну из секций печей Н-201 А,В,С (обычно Н-201С) и выровнять температуру на входе в реактор R-204 100°С. Медленно подать сжатый воздух в приемную линию компрессоров К-201А,В с регулируемой скоростью, подобранной так, чтобы в циркулирующем газе концентрация кислорода составляла 0,5-1,0% об. При этом кислород последовательно проходит реактор сероочистки и реакторы риформинга, частично поглощаясь катализаторами, что вызывает их разогрев. Следят за концентрацией кислорода в газе, при его снижении добавляют воздух, а при нарастании его концентрации выше указанных пределов немедленно снижают расход воздуха вплоть до полного прекращения его подачи. Следить, чтобы температура газа на выходе из R-204 не превышала 130°С а на выходе из R-201 - R-203 не превышала 250°С. В случае превышения уменьшить подачу воздуха вплоть до полного прекращения, при необходимости потушить печь. После того, как температура выхода газа из реактора сероочистки станет ниже температуры входа, постепенно увеличивают концентрацию кислорода в циркулирующем газе до 2% об. и далее до 3%об. При этом следят, чтобы температура выхода газа из R-204 не превышала 130°С, а температура выхода газа из любого из реакторов риформинга не превышала температуру 250°С. В противном случае немедленно прекращают подачу воздуха в систему, а если это не дает быстрого эффекта, то гасят печь. Об окончании пассивации судят по температуре выхода из R-204. При концентрации кислорода 3-4% об. и входной температуре в R-204 100°С, температура газа на выходе из R-204 в конце пассивации должна быть ниже входной температуры. Давление азотно-кислородной смеси в системе должно быть, при пассивации, не менее 5,3 кг/см2.'),\n",
       " Document(metadata={'source': 'data/data_processing/РАЗДЕЛ 6/РАЗДЕЛ 6.docx', 'category_depth': 0, 'file_directory': 'data/data_processing/РАЗДЕЛ 6', 'filename': 'РАЗДЕЛ 6.docx', 'last_modified': '2025-07-08T17:17:29', 'languages': ['rus'], 'filetype': 'application/vnd.openxmlformats-officedocument.wordprocessingml.document', 'parent_id': '9e8000587e7994102816045a03d1ce72', 'category': 'UncategorizedText', 'element_id': '40f663875aac41553780ac4a17886dbd'}, page_content='После окончания пассивации, тушится секция печи, которая была в работе, закрывается подача воздуха в приемную линию и при достижении температуры на выходе из реактора R-204 30-40°С останавливается компрессор К-201 А или К-201 В и переходят к циклу регенерации.'),\n",
       " Document(metadata={'source': 'data/data_processing/РАЗДЕЛ 6/РАЗДЕЛ 6.docx', 'category_depth': 0, 'file_directory': 'data/data_processing/РАЗДЕЛ 6', 'filename': 'РАЗДЕЛ 6.docx', 'last_modified': '2025-07-08T17:17:29', 'languages': ['rus'], 'filetype': 'application/vnd.openxmlformats-officedocument.wordprocessingml.document', 'parent_id': '9e8000587e7994102816045a03d1ce72', 'category': 'UncategorizedText', 'element_id': '614d90db5dd5b6fdcf1ad16d6a61d8ce'}, page_content='Примерный график пассивации катализаторов приведен на рис. 6.10.'),\n",
       " Document(metadata={'source': 'data/data_processing/РАЗДЕЛ 6/РАЗДЕЛ 6.docx', 'category_depth': 0, 'file_directory': 'data/data_processing/РАЗДЕЛ 6', 'filename': 'РАЗДЕЛ 6.docx', 'header_footer_type': 'primary', 'languages': ['rus'], 'filetype': 'application/vnd.openxmlformats-officedocument.wordprocessingml.document', 'category': 'Header', 'element_id': 'b62cb9dfc4bf1df524f1519ff4ef2654'}, page_content='ТР-6100-20368-08-2010'),\n",
       " Document(metadata={'source': 'data/data_processing/РАЗДЕЛ 6/РАЗДЕЛ 6.docx', 'category_depth': 0, 'emphasized_text_contents': ['рис 6.10  График проведения пассивации катализатора АГС -60 и АП-56', 'рис 6.10  График проведения пассивации катализатора АГС -60 и АП-56'], 'emphasized_text_tags': ['b', 'i'], 'file_directory': 'data/data_processing/РАЗДЕЛ 6', 'filename': 'РАЗДЕЛ 6.docx', 'last_modified': '2025-07-08T17:17:29', 'languages': ['rus'], 'filetype': 'application/vnd.openxmlformats-officedocument.wordprocessingml.document', 'parent_id': 'b62cb9dfc4bf1df524f1519ff4ef2654', 'category': 'UncategorizedText', 'element_id': '10efc72b941894b6e5157fce3733338a'}, page_content='рис 6.10  График проведения пассивации катализатора АГС -60 и АП-56'),\n",
       " Document(metadata={'source': 'data/data_processing/РАЗДЕЛ 6/РАЗДЕЛ 6.docx', 'category_depth': 0, 'emphasized_text_contents': ['график приведен в файле', 'график приведен в файле', 'AutoCAD', 'AutoCAD'], 'emphasized_text_tags': ['b', 'i', 'b', 'i'], 'file_directory': 'data/data_processing/РАЗДЕЛ 6', 'filename': 'РАЗДЕЛ 6.docx', 'last_modified': '2025-07-08T17:17:29', 'languages': ['rus'], 'filetype': 'application/vnd.openxmlformats-officedocument.wordprocessingml.document', 'parent_id': 'b62cb9dfc4bf1df524f1519ff4ef2654', 'category': 'UncategorizedText', 'element_id': '7b878afd90b61a040de5e8c4125d75cb'}, page_content='график приведен в файле AutoCAD'),\n",
       " Document(metadata={'source': 'data/data_processing/РАЗДЕЛ 6/РАЗДЕЛ 6.docx', 'category_depth': 0, 'file_directory': 'data/data_processing/РАЗДЕЛ 6', 'filename': 'РАЗДЕЛ 6.docx', 'header_footer_type': 'primary', 'languages': ['rus'], 'filetype': 'application/vnd.openxmlformats-officedocument.wordprocessingml.document', 'category': 'Header', 'element_id': '9afdb9b323f2876e33107344e0abd7d7'}, page_content='ТР-6100-20368-08-2010'),\n",
       " Document(metadata={'source': 'data/data_processing/РАЗДЕЛ 6/РАЗДЕЛ 6.docx', 'category_depth': 0, 'emphasized_text_contents': ['6.5.3 Последовательность операций в ходе регенерации катализатора'], 'emphasized_text_tags': ['b'], 'file_directory': 'data/data_processing/РАЗДЕЛ 6', 'filename': 'РАЗДЕЛ 6.docx', 'last_modified': '2025-07-08T17:17:29', 'languages': ['rus'], 'filetype': 'application/vnd.openxmlformats-officedocument.wordprocessingml.document', 'parent_id': '9afdb9b323f2876e33107344e0abd7d7', 'category': 'UncategorizedText', 'element_id': '05a1626bdbd783c9a9f0f17d6a89e927'}, page_content='6.5.3 Последовательность операций в ходе регенерации катализатора'),\n",
       " Document(metadata={'source': 'data/data_processing/РАЗДЕЛ 6/РАЗДЕЛ 6.docx', 'category_depth': 0, 'file_directory': 'data/data_processing/РАЗДЕЛ 6', 'filename': 'РАЗДЕЛ 6.docx', 'last_modified': '2025-07-08T17:17:29', 'languages': ['rus'], 'filetype': 'application/vnd.openxmlformats-officedocument.wordprocessingml.document', 'parent_id': '9afdb9b323f2876e33107344e0abd7d7', 'category': 'UncategorizedText', 'element_id': 'a69ff490069f98ffcc15d8427b143124'}, page_content='\\tОбщая последовательность операций в цикле окислительной регенерации катализатора риформинга представлена в таблице.'),\n",
       " Document(metadata={'source': 'data/data_processing/РАЗДЕЛ 6/РАЗДЕЛ 6.docx', 'category_depth': 0, 'file_directory': 'data/data_processing/РАЗДЕЛ 6', 'filename': 'РАЗДЕЛ 6.docx', 'last_modified': '2025-07-08T17:17:29', 'languages': ['rus'], 'filetype': 'application/vnd.openxmlformats-officedocument.wordprocessingml.document', 'parent_id': '9afdb9b323f2876e33107344e0abd7d7', 'category': 'UncategorizedText', 'element_id': 'a6a86ce960765e794591b1b40cae0c81'}, page_content='\\tОсобо следует отметить следующее:'),\n",
       " Document(metadata={'source': 'data/data_processing/РАЗДЕЛ 6/РАЗДЕЛ 6.docx', 'category_depth': 0, 'file_directory': 'data/data_processing/РАЗДЕЛ 6', 'filename': 'РАЗДЕЛ 6.docx', 'last_modified': '2025-07-08T17:17:29', 'languages': ['rus'], 'filetype': 'application/vnd.openxmlformats-officedocument.wordprocessingml.document', 'parent_id': '9afdb9b323f2876e33107344e0abd7d7', 'category': 'ListItem', 'element_id': '0d5bc8d54823fa95ca79c58eb0a33760'}, page_content='- реактор сероочистки R-204 должен быть отключен от системы во время всех операций, связанных с регенерацией катализатора риформинга,'),\n",
       " Document(metadata={'source': 'data/data_processing/РАЗДЕЛ 6/РАЗДЕЛ 6.docx', 'category_depth': 0, 'file_directory': 'data/data_processing/РАЗДЕЛ 6', 'filename': 'РАЗДЕЛ 6.docx', 'last_modified': '2025-07-08T17:17:29', 'languages': ['rus'], 'filetype': 'application/vnd.openxmlformats-officedocument.wordprocessingml.document', 'parent_id': '9afdb9b323f2876e33107344e0abd7d7', 'category': 'ListItem', 'element_id': '3e9fe7d3fe2c38354874b7d8980b5368'}, page_content='- удаление серы из катализатора риформинга проводится только в тех исключительных случаях, если катализатор был отравлен серой,'),\n",
       " Document(metadata={'source': 'data/data_processing/РАЗДЕЛ 6/РАЗДЕЛ 6.docx', 'category_depth': 0, 'file_directory': 'data/data_processing/РАЗДЕЛ 6', 'filename': 'РАЗДЕЛ 6.docx', 'last_modified': '2025-07-08T17:17:29', 'languages': ['rus'], 'filetype': 'application/vnd.openxmlformats-officedocument.wordprocessingml.document', 'parent_id': '9afdb9b323f2876e33107344e0abd7d7', 'category': 'ListItem', 'element_id': 'f6cf2977e08486040eca27a5fceae078'}, page_content='- если в цикле регенерации ремонт установки не производится, то после выжига кокса непосредственно приступают к окислительному хлорированию катализатора,'),\n",
       " Document(metadata={'source': 'data/data_processing/РАЗДЕЛ 6/РАЗДЕЛ 6.docx', 'category_depth': 0, 'file_directory': 'data/data_processing/РАЗДЕЛ 6', 'filename': 'РАЗДЕЛ 6.docx', 'last_modified': '2025-07-08T17:17:29', 'languages': ['rus'], 'filetype': 'application/vnd.openxmlformats-officedocument.wordprocessingml.document', 'parent_id': '9afdb9b323f2876e33107344e0abd7d7', 'category': 'ListItem', 'element_id': 'fdcc4b60376708ba668c3f95092e1473'}, page_content='- все операции, связанные с подачей или удалением хлора проходят со щелочной защитой теплообменного оборудования.'),\n",
       " Document(metadata={'source': 'data/data_processing/РАЗДЕЛ 6/РАЗДЕЛ 6.docx', 'category_depth': 0, 'file_directory': 'data/data_processing/РАЗДЕЛ 6', 'filename': 'РАЗДЕЛ 6.docx', 'last_modified': '2025-07-08T17:17:29', 'languages': ['rus'], 'filetype': 'application/vnd.openxmlformats-officedocument.wordprocessingml.document', 'parent_id': '9afdb9b323f2876e33107344e0abd7d7', 'category': 'UncategorizedText', 'element_id': 'a9cb2190117e187c1facc5e0f37bb1a9'}, page_content='\\tНиже следует более подробное описание отдельных этапов регенерации катализатора.'),\n",
       " Document(metadata={'source': 'data/data_processing/РАЗДЕЛ 6/РАЗДЕЛ 6.docx', 'category_depth': 0, 'file_directory': 'data/data_processing/РАЗДЕЛ 6', 'filename': 'РАЗДЕЛ 6.docx', 'last_modified': '2025-07-08T17:17:29', 'languages': ['rus'], 'filetype': 'application/vnd.openxmlformats-officedocument.wordprocessingml.document', 'parent_id': '9afdb9b323f2876e33107344e0abd7d7', 'category': 'UncategorizedText', 'element_id': '579fcd657306d8ce0a7740ed8c04b4d6'}, page_content='В таблице 6.6. приведена последовательность операций в цикле регенерации катализатора риформинга.'),\n",
       " Document(metadata={'source': 'data/data_processing/РАЗДЕЛ 6/РАЗДЕЛ 6.docx', 'category_depth': 0, 'emphasized_text_contents': ['Последовательность операций в цикле регенерации'], 'emphasized_text_tags': ['b'], 'file_directory': 'data/data_processing/РАЗДЕЛ 6', 'filename': 'РАЗДЕЛ 6.docx', 'last_modified': '2025-07-08T17:17:29', 'languages': ['rus'], 'filetype': 'application/vnd.openxmlformats-officedocument.wordprocessingml.document', 'parent_id': '9afdb9b323f2876e33107344e0abd7d7', 'category': 'UncategorizedText', 'element_id': '91334ab848508d1d1ebc3c23e3e87d91'}, page_content='Последовательность операций в цикле регенерации '),\n",
       " Document(metadata={'source': 'data/data_processing/РАЗДЕЛ 6/РАЗДЕЛ 6.docx', 'category_depth': 0, 'emphasized_text_contents': ['катализатора риформинга'], 'emphasized_text_tags': ['b'], 'file_directory': 'data/data_processing/РАЗДЕЛ 6', 'filename': 'РАЗДЕЛ 6.docx', 'last_modified': '2025-07-08T17:17:29', 'languages': ['rus'], 'filetype': 'application/vnd.openxmlformats-officedocument.wordprocessingml.document', 'parent_id': '9afdb9b323f2876e33107344e0abd7d7', 'category': 'UncategorizedText', 'element_id': 'f968f5f08c674ee2ae7d7adb1adcd817'}, page_content='катализатора риформинга'),\n",
       " Document(metadata={'source': 'data/data_processing/РАЗДЕЛ 6/РАЗДЕЛ 6.docx', 'category_depth': 0, 'file_directory': 'data/data_processing/РАЗДЕЛ 6', 'filename': 'РАЗДЕЛ 6.docx', 'last_modified': '2025-07-08T17:17:29', 'languages': ['rus'], 'filetype': 'application/vnd.openxmlformats-officedocument.wordprocessingml.document', 'parent_id': '9afdb9b323f2876e33107344e0abd7d7', 'category': 'UncategorizedText', 'element_id': '2961623e7e041e8e78eb40a85187aff4'}, page_content='Таблица 6.6.'),\n",
       " Document(metadata={'source': 'data/data_processing/РАЗДЕЛ 6/РАЗДЕЛ 6.docx', 'file_directory': 'data/data_processing/РАЗДЕЛ 6', 'filename': 'РАЗДЕЛ 6.docx', 'last_modified': '2025-07-08T17:17:29', 'text_as_html': '<table><tr><td>№ пп.</td><td>Наименование</td><td>Щелочная защита</td><td>Газовая среда</td><td>Примечание</td></tr><tr><td>1</td><td>2</td><td>3</td><td>4</td><td>5</td></tr><tr><td>1</td><td>Прекращение подачи сырья</td><td>-</td><td>ВСГ</td><td>-</td></tr><tr><td>2</td><td>Плавный подъем температуры на входе в реакторы до 480°С</td><td>-</td><td>ВСГ</td><td>-</td></tr><tr><td>3</td><td>Выдержка в течение 2 часов.</td><td>-</td><td>ВСГ</td><td>Проведение зачистки сепаратора и теплообменников от конденсата в дренажную емкость.</td></tr><tr><td/><td>Охлаждение реакторного блока</td><td>-</td><td>ВСГ</td><td>-</td></tr><tr><td>4</td><td>Удаление серы из катализатора риформинга</td><td>включена</td><td>ВСГ</td><td>Только в случае отравления катализатора риформинга</td></tr><tr><td>5</td><td>Замена ВСГ на азот</td><td>-</td><td>ВСГ- азот</td><td>-</td></tr><tr><td>6</td><td>Отключение реактора сероочистки</td><td>-</td><td>азот</td><td>После проведения пассивации катализатора</td></tr><tr><td>7</td><td>Выжиг кокса (3 стадии).</td><td>включена</td><td>азот</td><td>-</td></tr><tr><td>8</td><td>Ремонт установки.</td><td>-</td><td>воздух</td><td>-</td></tr><tr><td>9</td><td>Контрольный выжиг кокса.</td><td>включена</td><td>воздух</td><td>только после ремонта установки</td></tr><tr><td>10</td><td>Окислительное хлорирование катализатора риформинга.</td><td>включена</td><td>азот</td><td>-</td></tr><tr><td>11</td><td>Замена азота на ВСГ.</td><td>-</td><td>азот-&gt;ВСГ</td><td>-</td></tr><tr><td>12</td><td>Восстановление и осернение катализатора риформинга.</td><td>-</td><td>ВСГ</td><td>-</td></tr><tr><td>13</td><td>Включение реактора сероочистки R-204.</td><td>-</td><td>ВСГ</td><td>-</td></tr><tr><td>14</td><td>Подача сырья на блок риформинга.</td><td>-</td><td>ВСГ</td><td>-</td></tr></table>', 'languages': ['rus'], 'filetype': 'application/vnd.openxmlformats-officedocument.wordprocessingml.document', 'parent_id': '9afdb9b323f2876e33107344e0abd7d7', 'category': 'Table', 'element_id': 'b3b76e9971c5e65b4ee07b2a9898e318'}, page_content='№ пп. Наименование Щелочная защита Газовая среда Примечание 1 2 3 4 5 1 Прекращение подачи сырья - ВСГ - 2 Плавный подъем температуры на входе в реакторы до 480°С - ВСГ - 3 Выдержка в течение 2 часов. - ВСГ Проведение зачистки сепаратора и теплообменников от конденсата в дренажную емкость. Охлаждение реакторного блока - ВСГ - 4 Удаление серы из катализатора риформинга включена ВСГ Только в случае отравления катализатора риформинга 5 Замена ВСГ на азот - ВСГ- азот - 6 Отключение реактора сероочистки - азот После проведения пассивации катализатора 7 Выжиг кокса (3 стадии). включена азот - 8 Ремонт установки. - воздух - 9 Контрольный выжиг кокса. включена воздух только после ремонта установки 10 Окислительное хлорирование катализатора риформинга. включена азот - 11 Замена азота на ВСГ. - азот->ВСГ - 12 Восстановление и осернение катализатора риформинга. - ВСГ - 13 Включение реактора сероочистки R-204. - ВСГ - 14 Подача сырья на блок риформинга. - ВСГ -'),\n",
       " Document(metadata={'source': 'data/data_processing/РАЗДЕЛ 6/РАЗДЕЛ 6.docx', 'category_depth': 0, 'emphasized_text_contents': ['Цикл регенерации катализатора риформинга', 'Цикл регенерации катализатора риформинга'], 'emphasized_text_tags': ['b', 'i'], 'file_directory': 'data/data_processing/РАЗДЕЛ 6', 'filename': 'РАЗДЕЛ 6.docx', 'last_modified': '2025-07-08T17:17:29', 'languages': ['rus'], 'filetype': 'application/vnd.openxmlformats-officedocument.wordprocessingml.document', 'parent_id': '9afdb9b323f2876e33107344e0abd7d7', 'category': 'UncategorizedText', 'element_id': '2ce75ca612e35921662419ca33413f38'}, page_content='Цикл регенерации катализатора риформинга'),\n",
       " Document(metadata={'source': 'data/data_processing/РАЗДЕЛ 6/РАЗДЕЛ 6.docx', 'category_depth': 0, 'emphasized_text_contents': ['приведен в файле', 'приведен в файле', 'AutoCAD', 'AutoCAD'], 'emphasized_text_tags': ['b', 'i', 'b', 'i'], 'file_directory': 'data/data_processing/РАЗДЕЛ 6', 'filename': 'РАЗДЕЛ 6.docx', 'last_modified': '2025-07-08T17:17:29', 'languages': ['rus'], 'filetype': 'application/vnd.openxmlformats-officedocument.wordprocessingml.document', 'parent_id': '9afdb9b323f2876e33107344e0abd7d7', 'category': 'UncategorizedText', 'element_id': '94982963384d6dee2aaad338860c3eba'}, page_content='приведен в файле AutoCAD'),\n",
       " Document(metadata={'source': 'data/data_processing/РАЗДЕЛ 6/РАЗДЕЛ 6.docx', 'category_depth': 0, 'emphasized_text_contents': ['6.5.4 Подготовка к регенерации'], 'emphasized_text_tags': ['b'], 'file_directory': 'data/data_processing/РАЗДЕЛ 6', 'filename': 'РАЗДЕЛ 6.docx', 'last_modified': '2025-07-08T17:17:29', 'languages': ['rus'], 'filetype': 'application/vnd.openxmlformats-officedocument.wordprocessingml.document', 'parent_id': '9afdb9b323f2876e33107344e0abd7d7', 'category': 'UncategorizedText', 'element_id': '9ea00a746782cfce8ce401033fac49e8'}, page_content='6.5.4 Подготовка к регенерации'),\n",
       " Document(metadata={'source': 'data/data_processing/РАЗДЕЛ 6/РАЗДЕЛ 6.docx', 'category_depth': 0, 'file_directory': 'data/data_processing/РАЗДЕЛ 6', 'filename': 'РАЗДЕЛ 6.docx', 'last_modified': '2025-07-08T17:17:29', 'languages': ['rus'], 'filetype': 'application/vnd.openxmlformats-officedocument.wordprocessingml.document', 'parent_id': '9afdb9b323f2876e33107344e0abd7d7', 'category': 'ListItem', 'element_id': 'a3d798c75dd3fd0383b35dc671157bfb'}, page_content='Если подвергаемая риформингу нафта содержит больше серы, чем это оговорено в технических требованиях, следует принять меры к тому, чтобы в течение нескольких дней перед регенерацией работа велась на сырье с низким содержанием серы. Высокое содержание серы в катализаторе не позволит в процессе восстановления обеспечить хорошую дисперсию металла. В отсутствии кокса массовое содержание серы на биметаллических или монометаллических катализаторах в идеальном случае должно быть ниже 0,05%.'),\n",
       " Document(metadata={'source': 'data/data_processing/РАЗДЕЛ 6/РАЗДЕЛ 6.docx', 'category_depth': 0, 'file_directory': 'data/data_processing/РАЗДЕЛ 6', 'filename': 'РАЗДЕЛ 6.docx', 'last_modified': '2025-07-08T17:17:29', 'languages': ['rus'], 'filetype': 'application/vnd.openxmlformats-officedocument.wordprocessingml.document', 'parent_id': '9afdb9b323f2876e33107344e0abd7d7', 'category': 'ListItem', 'element_id': 'd1bf128166b983d0cc0fd4462d475791'}, page_content='Предыдущий рабочий цикл заканчивается уменьшением скорости подачи нафты и снижением температуры на выходе печей до 427°С. Температуру на выходе печей следует снижать со скоростью 40-45°С в час. Когда эта температура достигнет 427°С, подача сырья на установку риформинга полностью прекращается.'),\n",
       " Document(metadata={'source': 'data/data_processing/РАЗДЕЛ 6/РАЗДЕЛ 6.docx', 'category_depth': 0, 'file_directory': 'data/data_processing/РАЗДЕЛ 6', 'filename': 'РАЗДЕЛ 6.docx', 'last_modified': '2025-07-08T17:17:29', 'languages': ['rus'], 'filetype': 'application/vnd.openxmlformats-officedocument.wordprocessingml.document', 'parent_id': '9afdb9b323f2876e33107344e0abd7d7', 'category': 'ListItem', 'element_id': 'e3ff83c6909e7461813ebf0616178d3c'}, page_content='Если циркулирующий газ сдержит более 1*10-4 % об. сероводорода, то следует предусмотреть операцию удаления серы. Продукт на выходе каждого реактора должен проверяться в течение двух часов, чтобы гарантировать достаточно низкое содержание серы в каждом реакторе, что необходимо для проведения надлежащего восстановления катализатора. По завершении процесса удаления серы снижается температура на выходе печей до 427°С со скорость 40-45°С в час.'),\n",
       " Document(metadata={'source': 'data/data_processing/РАЗДЕЛ 6/РАЗДЕЛ 6.docx', 'category_depth': 0, 'file_directory': 'data/data_processing/РАЗДЕЛ 6', 'filename': 'РАЗДЕЛ 6.docx', 'last_modified': '2025-07-08T17:17:29', 'languages': ['rus'], 'filetype': 'application/vnd.openxmlformats-officedocument.wordprocessingml.document', 'parent_id': '9afdb9b323f2876e33107344e0abd7d7', 'category': 'ListItem', 'element_id': '4b252e8c73971cf22945d3e75ed3cc35'}, page_content='Если содержание сероводорода оказывается ниже максимально допустимого то после прекращения подачи сырья на реакторный блок вновь плавно поднимают температуру на входе в реакторы R-201, R-202, R-203 до 480°С. При это подпитку водородсодержащим газом осуществляют от газгольдеров поз.Е-18÷Е-21 азотно-воздушной и водородной компрессорной. При этой температуре сделать выдержку 2 часа и только затем приступить к охлаждению реакторного блока. В период выдержки производить дренирование сепаратора и теплообменников реакторного блока от конденсата.'),\n",
       " Document(metadata={'source': 'data/data_processing/РАЗДЕЛ 6/РАЗДЕЛ 6.docx', 'category_depth': 0, 'file_directory': 'data/data_processing/РАЗДЕЛ 6', 'filename': 'РАЗДЕЛ 6.docx', 'last_modified': '2025-07-08T17:17:29', 'languages': ['rus'], 'filetype': 'application/vnd.openxmlformats-officedocument.wordprocessingml.document', 'parent_id': '9afdb9b323f2876e33107344e0abd7d7', 'category': 'ListItem', 'element_id': '341bf76fdfe13ba5c048b2842cab91e9'}, page_content='При снижении температуры на реакторном блоке до 372°С остановить печи Н-201А,В,С согласно инструкции по эксплуатации технологических печей.'),\n",
       " Document(metadata={'source': 'data/data_processing/РАЗДЕЛ 6/РАЗДЕЛ 6.docx', 'category_depth': 0, 'file_directory': 'data/data_processing/РАЗДЕЛ 6', 'filename': 'РАЗДЕЛ 6.docx', 'last_modified': '2025-07-08T17:17:29', 'languages': ['rus'], 'filetype': 'application/vnd.openxmlformats-officedocument.wordprocessingml.document', 'parent_id': '9afdb9b323f2876e33107344e0abd7d7', 'category': 'ListItem', 'element_id': '9697beabe5e98bb8c955f1095fb68912'}, page_content='Продолжая циркуляцию ВСГ от компрессоров К-201 А,В понизить температуру на входе в реакторы R-201–201 с таким расчетом, чтобы температура на входе в R-204 составила 100°С и провести пассивацию катализаторов АГС-60 и АП-56 согласно раздела 6.5.2. настоящего регламента. Для поддержания температуры на входе в реактор R-204 100°С произвести розжиг горелок на малой производительности.'),\n",
       " Document(metadata={'source': 'data/data_processing/РАЗДЕЛ 6/РАЗДЕЛ 6.docx', 'category_depth': 0, 'file_directory': 'data/data_processing/РАЗДЕЛ 6', 'filename': 'РАЗДЕЛ 6.docx', 'last_modified': '2025-07-08T17:17:29', 'languages': ['rus'], 'filetype': 'application/vnd.openxmlformats-officedocument.wordprocessingml.document', 'parent_id': '9afdb9b323f2876e33107344e0abd7d7', 'category': 'ListItem', 'element_id': 'aa45a3c6bbdc4ec5dbd369728d5b4b96'}, page_content='После  окончания пассивации катализаторов в реакторе R-204 остановить печи и продолжить циркуляцию азота до снижения температуры на выходе из R-204 не выше +40°С .'),\n",
       " Document(metadata={'source': 'data/data_processing/РАЗДЕЛ 6/РАЗДЕЛ 6.docx', 'category_depth': 0, 'file_directory': 'data/data_processing/РАЗДЕЛ 6', 'filename': 'РАЗДЕЛ 6.docx', 'last_modified': '2025-07-08T17:17:29', 'languages': ['rus'], 'filetype': 'application/vnd.openxmlformats-officedocument.wordprocessingml.document', 'parent_id': '9afdb9b323f2876e33107344e0abd7d7', 'category': 'ListItem', 'element_id': '4e0a59d7fbe5908738f55386aa488833'}, page_content='При достижении температуры 40°С отключается реактор R-204 запорной арматурой, для чего:'),\n",
       " Document(metadata={'source': 'data/data_processing/РАЗДЕЛ 6/РАЗДЕЛ 6.docx', 'category_depth': 0, 'file_directory': 'data/data_processing/РАЗДЕЛ 6', 'filename': 'РАЗДЕЛ 6.docx', 'last_modified': '2025-07-08T17:17:29', 'languages': ['rus'], 'filetype': 'application/vnd.openxmlformats-officedocument.wordprocessingml.document', 'parent_id': '9afdb9b323f2876e33107344e0abd7d7', 'category': 'ListItem', 'element_id': 'e9b682e41ece6f01cc1025ab6f5b4ad2'}, page_content='плавно открыть задвижку 24HV на байпасе реактора;'),\n",
       " Document(metadata={'source': 'data/data_processing/РАЗДЕЛ 6/РАЗДЕЛ 6.docx', 'category_depth': 0, 'file_directory': 'data/data_processing/РАЗДЕЛ 6', 'filename': 'РАЗДЕЛ 6.docx', 'last_modified': '2025-07-08T17:17:29', 'languages': ['rus'], 'filetype': 'application/vnd.openxmlformats-officedocument.wordprocessingml.document', 'parent_id': '9afdb9b323f2876e33107344e0abd7d7', 'category': 'ListItem', 'element_id': 'c4ca2129b025e4314974c0741b7b84cd'}, page_content='плавно закрыть задвижку 23HV на выходе продукта из реактора R-204;'),\n",
       " Document(metadata={'source': 'data/data_processing/РАЗДЕЛ 6/РАЗДЕЛ 6.docx', 'category_depth': 0, 'file_directory': 'data/data_processing/РАЗДЕЛ 6', 'filename': 'РАЗДЕЛ 6.docx', 'last_modified': '2025-07-08T17:17:29', 'languages': ['rus'], 'filetype': 'application/vnd.openxmlformats-officedocument.wordprocessingml.document', 'parent_id': '9afdb9b323f2876e33107344e0abd7d7', 'category': 'ListItem', 'element_id': '07132eb084c07ad260748c71af093d53'}, page_content='плавно закрыть задвижку 22HV на входе в реактор R-204.'),\n",
       " Document(metadata={'source': 'data/data_processing/РАЗДЕЛ 6/РАЗДЕЛ 6.docx', 'category_depth': 0, 'emphasized_text_contents': ['6.5.5  Работа перед регенерацией'], 'emphasized_text_tags': ['b'], 'file_directory': 'data/data_processing/РАЗДЕЛ 6', 'filename': 'РАЗДЕЛ 6.docx', 'last_modified': '2025-07-08T17:17:29', 'languages': ['rus'], 'filetype': 'application/vnd.openxmlformats-officedocument.wordprocessingml.document', 'parent_id': '9afdb9b323f2876e33107344e0abd7d7', 'category': 'UncategorizedText', 'element_id': '04741019ae2a3a85865b66695809fa10'}, page_content='6.5.5  Работа перед регенерацией'),\n",
       " Document(metadata={'source': 'data/data_processing/РАЗДЕЛ 6/РАЗДЕЛ 6.docx', 'category_depth': 0, 'file_directory': 'data/data_processing/РАЗДЕЛ 6', 'filename': 'РАЗДЕЛ 6.docx', 'last_modified': '2025-07-08T17:17:29', 'languages': ['rus'], 'filetype': 'application/vnd.openxmlformats-officedocument.wordprocessingml.document', 'parent_id': '9afdb9b323f2876e33107344e0abd7d7', 'category': 'UncategorizedText', 'element_id': 'b77850eb62a7dc4b121ab456f3146bec'}, page_content='При проведении пассивации катализатора выполняется несколько этапов работ, описанных ниже:'),\n",
       " Document(metadata={'source': 'data/data_processing/РАЗДЕЛ 6/РАЗДЕЛ 6.docx', 'category_depth': 0, 'file_directory': 'data/data_processing/РАЗДЕЛ 6', 'filename': 'РАЗДЕЛ 6.docx', 'last_modified': '2025-07-08T17:17:29', 'languages': ['rus'], 'filetype': 'application/vnd.openxmlformats-officedocument.wordprocessingml.document', 'parent_id': '9afdb9b323f2876e33107344e0abd7d7', 'category': 'NarrativeText', 'element_id': 'd48bb422531ec2a452d13dbe37108693'}, page_content='а) Одна миллионная часть азота в сырье для установки риформинга, может давать в процессе нормального рабочего цикла сотни килограммов хлорида аммония. Поэтому для удаления этих отложений и уменьшения до минимума возможности переноса соли в компрессор рециркуляции и в сепаратор продукта рекомендуется промывка установки водой.'),\n",
       " Document(metadata={'source': 'data/data_processing/РАЗДЕЛ 6/РАЗДЕЛ 6.docx', 'category_depth': 0, 'file_directory': 'data/data_processing/РАЗДЕЛ 6', 'filename': 'РАЗДЕЛ 6.docx', 'last_modified': '2025-07-08T17:17:29', 'languages': ['rus'], 'filetype': 'application/vnd.openxmlformats-officedocument.wordprocessingml.document', 'parent_id': '9afdb9b323f2876e33107344e0abd7d7', 'category': 'NarrativeText', 'element_id': '1eb5297d93a7c776f1dbbe0600b08816'}, page_content='б) Набрать в ТК-201 мыльный раствор воды с температурой 60-80°С. После окончания пассивации и остановки печей, в момент охлаждения реактора R-204 , пустить в работу насос Р-205 по схеме:'),\n",
       " Document(metadata={'source': 'data/data_processing/РАЗДЕЛ 6/РАЗДЕЛ 6.docx', 'category_depth': 0, 'file_directory': 'data/data_processing/РАЗДЕЛ 6', 'filename': 'РАЗДЕЛ 6.docx', 'last_modified': '2025-07-08T17:17:29', 'languages': ['rus'], 'filetype': 'application/vnd.openxmlformats-officedocument.wordprocessingml.document', 'parent_id': '9afdb9b323f2876e33107344e0abd7d7', 'category': 'NarrativeText', 'element_id': '0068ad8c1be4af57ddaa595f487b6e75'}, page_content='и в течение 30-40 мин. произвести промывку воздушного холодильника АС-201 А. После окончания промывки остановить насос Р-205 , слить мыльную воду с системы, ТК-201 и сепаратора V-201. Набрать чистой воды в ТК-201 и опять пустить в работу насос Р-205 по вышеуказанной схеме. Промыть воздушный холодильник АС-201 А горячей чистой водой (t°С=60-80°С) в течение 3-4 часов, причем все время сливать часть воды с сепаратора V-201 и подпитывать свежую воду из ТК-201. После окончания промывки слить воду со всей системы.'),\n",
       " Document(metadata={'source': 'data/data_processing/РАЗДЕЛ 6/РАЗДЕЛ 6.docx', 'category_depth': 0, 'file_directory': 'data/data_processing/РАЗДЕЛ 6', 'filename': 'РАЗДЕЛ 6.docx', 'last_modified': '2025-07-08T17:17:29', 'languages': ['rus'], 'filetype': 'application/vnd.openxmlformats-officedocument.wordprocessingml.document', 'parent_id': '9afdb9b323f2876e33107344e0abd7d7', 'category': 'UncategorizedText', 'element_id': '12b26c5d1738652f4c243db00547dc3c'}, page_content='Подготовка промывки нейтрализующим раствором.'),\n",
       " Document(metadata={'source': 'data/data_processing/РАЗДЕЛ 6/РАЗДЕЛ 6.docx', 'category_depth': 0, 'file_directory': 'data/data_processing/РАЗДЕЛ 6', 'filename': 'РАЗДЕЛ 6.docx', 'last_modified': '2025-07-08T17:17:29', 'languages': ['rus'], 'filetype': 'application/vnd.openxmlformats-officedocument.wordprocessingml.document', 'parent_id': '9afdb9b323f2876e33107344e0abd7d7', 'category': 'NarrativeText', 'element_id': 'a4844b2259ed679f511f5435be148379'}, page_content='Для сжигания кокса требуется промывка нейтрализующим раствором. В процессе горения кокса на катализаторе среди продуктов сгорания образуется и водяной пар. Этот водяной пар удаляет из катализатора хлориды и после конденсации имеет сильную кислотную реакцию, если его надлежащим образом не нейтрализовать. '),\n",
       " Document(metadata={'source': 'data/data_processing/РАЗДЕЛ 6/РАЗДЕЛ 6.docx', 'category_depth': 0, 'file_directory': 'data/data_processing/РАЗДЕЛ 6', 'filename': 'РАЗДЕЛ 6.docx', 'last_modified': '2025-07-08T17:17:29', 'languages': ['rus'], 'filetype': 'application/vnd.openxmlformats-officedocument.wordprocessingml.document', 'parent_id': '9afdb9b323f2876e33107344e0abd7d7', 'category': 'NarrativeText', 'element_id': '43186554a80060ce85d2a69c0864ded0'}, page_content='Нейтрализующий раствор следует насосом Р-205 из емкости ТК-201 закачивать в передающую линию перед охладителем стока АС-201А, на возможно большем удалении от него. Это уменьшит возможность коррозии. Нейтрализующий раствор собирается в сепараторе продукта V-201. Отработанный раствор соды сбрасывается во 2-ую общезаводскую систему промканализации или, в случае однократной промывки, сливается в колодец и вывозится за пределы установки. Если используется система промывки с рециркуляцией содового раствора, то насос Р-205 должен всасывать раствор из сепаратора V-201. При этом требуется спуск циркулирующего раствора из сепаратора для предотвращения чрезмерного увеличения содержания твердой фазы. По мере уменьшения уровня нейтрализующего раствора в сепараторе V-201 систему циркуляции подпитывают свежим раствором карбоната натрия из емкости ТК-201 с рН=8-11.'),\n",
       " Document(metadata={'source': 'data/data_processing/РАЗДЕЛ 6/РАЗДЕЛ 6.docx', 'category_depth': 0, 'file_directory': 'data/data_processing/РАЗДЕЛ 6', 'filename': 'РАЗДЕЛ 6.docx', 'last_modified': '2025-07-08T17:17:29', 'languages': ['rus'], 'filetype': 'application/vnd.openxmlformats-officedocument.wordprocessingml.document', 'parent_id': '9afdb9b323f2876e33107344e0abd7d7', 'category': 'UncategorizedText', 'element_id': '840e8dc4c8a2b02187e6d98563a24084'}, page_content='Другие работы.'),\n",
       " Document(metadata={'source': 'data/data_processing/РАЗДЕЛ 6/РАЗДЕЛ 6.docx', 'category_depth': 0, 'file_directory': 'data/data_processing/РАЗДЕЛ 6', 'filename': 'РАЗДЕЛ 6.docx', 'last_modified': '2025-07-08T17:17:29', 'languages': ['rus'], 'filetype': 'application/vnd.openxmlformats-officedocument.wordprocessingml.document', 'parent_id': '9afdb9b323f2876e33107344e0abd7d7', 'category': 'NarrativeText', 'element_id': '92fd1d1c9f7135c193ee1a6742e20ca1'}, page_content='а) В период проведения этих работ следует установить оборудование для нагнетания\\nвоздуха.'),\n",
       " Document(metadata={'source': 'data/data_processing/РАЗДЕЛ 6/РАЗДЕЛ 6.docx', 'category_depth': 0, 'file_directory': 'data/data_processing/РАЗДЕЛ 6', 'filename': 'РАЗДЕЛ 6.docx', 'last_modified': '2025-07-08T17:17:29', 'languages': ['rus'], 'filetype': 'application/vnd.openxmlformats-officedocument.wordprocessingml.document', 'parent_id': '9afdb9b323f2876e33107344e0abd7d7', 'category': 'NarrativeText', 'element_id': '1553311fd9eeb0937e8b21b73091089a'}, page_content='б) Очень важно, чтобы на выходе сепаратора продукта (V-201) был установлен туманоуловитель. Он должен быть устойчив к коррозии и полностью действовать в период нейтрализации и промывки при выжигании кокса. Это сведет к минимуму перенос соли в компрессор рециркуляции и в слои катализатора в реакторах.'),\n",
       " Document(metadata={'source': 'data/data_processing/РАЗДЕЛ 6/РАЗДЕЛ 6.docx', 'category_depth': 0, 'file_directory': 'data/data_processing/РАЗДЕЛ 6', 'filename': 'РАЗДЕЛ 6.docx', 'last_modified': '2025-07-08T17:17:29', 'languages': ['rus'], 'filetype': 'application/vnd.openxmlformats-officedocument.wordprocessingml.document', 'parent_id': '9afdb9b323f2876e33107344e0abd7d7', 'category': 'NarrativeText', 'element_id': '85660d5641dde685614eae8326b6c2ec'}, page_content='в) Прибор, контролирующий уровень продукта в сепараторе (V-201), необходимо перекалибровать по воде. Без перекалибровки или изменения уставок аварийной сигнализации возможен перенос воды, так как удельный вес водного раствора отличается от удельного веса обычного жидкого углеводорода.'),\n",
       " Document(metadata={'source': 'data/data_processing/РАЗДЕЛ 6/РАЗДЕЛ 6.docx', 'category_depth': 0, 'file_directory': 'data/data_processing/РАЗДЕЛ 6', 'filename': 'РАЗДЕЛ 6.docx', 'last_modified': '2025-07-08T17:17:29', 'languages': ['rus'], 'filetype': 'application/vnd.openxmlformats-officedocument.wordprocessingml.document', 'parent_id': '9afdb9b323f2876e33107344e0abd7d7', 'category': 'NarrativeText', 'element_id': '41d432c6a243345f277d44e392f7ef9f'}, page_content='г) Измените уставки в контролерах компрессоров рециркуляции так как рециркулирующий газ будет иметь другой удельный вес.'),\n",
       " Document(metadata={'source': 'data/data_processing/РАЗДЕЛ 6/РАЗДЕЛ 6.docx', 'category_depth': 0, 'file_directory': 'data/data_processing/РАЗДЕЛ 6', 'filename': 'РАЗДЕЛ 6.docx', 'last_modified': '2025-07-08T17:17:29', 'languages': ['rus'], 'filetype': 'application/vnd.openxmlformats-officedocument.wordprocessingml.document', 'parent_id': '9afdb9b323f2876e33107344e0abd7d7', 'category': 'NarrativeText', 'element_id': 'b5951d8caac12f3a152d88aa3789fc85'}, page_content='д) В процессе регенерации будет работать один компрессор (либо К-201 А, либо К-201В). Убедитесь, что задвижки в области компрессоров рециркулирующего газа хорошо приспособлены для этого. Например, если будет работать К-201А, то НУ-610, НУ-611 и НУ-614 будут закрыты, а НУ-612, НУ-614 и НУ-615 останутся открытыми.'),\n",
       " Document(metadata={'source': 'data/data_processing/РАЗДЕЛ 6/РАЗДЕЛ 6.docx', 'category_depth': 2, 'emphasized_text_contents': ['Регенерация катализатора'], 'emphasized_text_tags': ['b'], 'file_directory': 'data/data_processing/РАЗДЕЛ 6', 'filename': 'РАЗДЕЛ 6.docx', 'last_modified': '2025-07-08T17:17:29', 'languages': ['rus'], 'filetype': 'application/vnd.openxmlformats-officedocument.wordprocessingml.document', 'parent_id': '9afdb9b323f2876e33107344e0abd7d7', 'category': 'ListItem', 'element_id': '8cfa1ef70d93e272fb74cc1925436d21'}, page_content='Регенерация катализатора'),\n",
       " Document(metadata={'source': 'data/data_processing/РАЗДЕЛ 6/РАЗДЕЛ 6.docx', 'category_depth': 0, 'file_directory': 'data/data_processing/РАЗДЕЛ 6', 'filename': 'РАЗДЕЛ 6.docx', 'last_modified': '2025-07-08T17:17:29', 'languages': ['rus'], 'filetype': 'application/vnd.openxmlformats-officedocument.wordprocessingml.document', 'parent_id': '9afdb9b323f2876e33107344e0abd7d7', 'category': 'NarrativeText', 'element_id': '150edb342e78f2ebf6c60d8eaff8c319'}, page_content='По окончании подготовительных работ набрать давление азота на реакторном блоке 6,0 кг/см2 пустить в работу компрессор К-201 А или В и наладить циркуляцию газа по малому кольцу, после налаживания устойчивой работы компрессора вывести газ на циркуляцию по большому кольцу.'),\n",
       " Document(metadata={'source': 'data/data_processing/РАЗДЕЛ 6/РАЗДЕЛ 6.docx', 'category_depth': 0, 'file_directory': 'data/data_processing/РАЗДЕЛ 6', 'filename': 'РАЗДЕЛ 6.docx', 'last_modified': '2025-07-08T17:17:29', 'languages': ['rus'], 'filetype': 'application/vnd.openxmlformats-officedocument.wordprocessingml.document', 'parent_id': '9afdb9b323f2876e33107344e0abd7d7', 'category': 'NarrativeText', 'element_id': 'e42d5ece201cfe28e9608ec83a3060ae'}, page_content='При налаживании устойчивой циркуляции газа по большому кольцу разжечь печи Н-201 А,В,С. Со скоростью 40°С в час поднять температуру на входе в реактора до 371°С. Во время подъема температуры наладить циркуляцию нейтрализующего раствора насосом Р-205 по вышеуказанной схеме. Медленно подать сжатый воздух в приемную линию компрессора с регулируемой скоростью, подобранной так, чтобы в циркулирующем газе концентрация кислорода равнялась 0,8% об.'),\n",
       " Document(metadata={'source': 'data/data_processing/РАЗДЕЛ 6/РАЗДЕЛ 6.docx', 'category_depth': 0, 'file_directory': 'data/data_processing/РАЗДЕЛ 6', 'filename': 'РАЗДЕЛ 6.docx', 'last_modified': '2025-07-08T17:17:29', 'languages': ['rus'], 'filetype': 'application/vnd.openxmlformats-officedocument.wordprocessingml.document', 'parent_id': '9afdb9b323f2876e33107344e0abd7d7', 'category': 'NarrativeText', 'element_id': '4922d99c4106d2b67771eb2bb891be00'}, page_content='Следить, чтобы давление технического воздуха было примерно на 1,2–1,5 кг/см2 выше, чем в сепараторе V-201.'),\n",
       " Document(metadata={'source': 'data/data_processing/РАЗДЕЛ 6/РАЗДЕЛ 6.docx', 'category_depth': 0, 'file_directory': 'data/data_processing/РАЗДЕЛ 6', 'filename': 'РАЗДЕЛ 6.docx', 'last_modified': '2025-07-08T17:17:29', 'languages': ['rus'], 'filetype': 'application/vnd.openxmlformats-officedocument.wordprocessingml.document', 'parent_id': '9afdb9b323f2876e33107344e0abd7d7', 'category': 'NarrativeText', 'element_id': '4da45cfb1f026ce0e72e5aa87c9b755b'}, page_content='Максимальная концентрация кислорода в процессе первоначального выжигания кокса равна 0,8% об. Эту концентрацию кислорода следует уменьшить, если температура газа на выходе из реакторов превысит 421°С. Превышение указанных предельных значений температуры и концентрации кислорода может привести к избыточной агломерации металла и к спеканию опорного слоя катализатора.'),\n",
       " Document(metadata={'source': 'data/data_processing/РАЗДЕЛ 6/РАЗДЕЛ 6.docx', 'category_depth': 0, 'file_directory': 'data/data_processing/РАЗДЕЛ 6', 'filename': 'РАЗДЕЛ 6.docx', 'last_modified': '2025-07-08T17:17:29', 'languages': ['rus'], 'filetype': 'application/vnd.openxmlformats-officedocument.wordprocessingml.document', 'parent_id': '9afdb9b323f2876e33107344e0abd7d7', 'category': 'NarrativeText', 'element_id': '86b7dee77234c34648ba840d122c72c0'}, page_content='Горение кокса необходимо контролировать постоянно, следя за перепадом температур на входе и выходе реакторов, и анализируя циркулирующий газ для определения концентрации кислорода и двуокиси углерода. Перепад температур наносится на график, данные для которого приведены на рис. 6.11. Максимальное значение перепада должно составлять не более 50°С. Если отсутствует прибор для определения концентрации кислорода и двуокиси углерода в потоке, этот анализ выполняется лабораторией каждый час. При наличии прибора на потоке контроль ведется постоянно. Содержание кислорода 0,8% об. Максимальное количество двуокиси углерода не должно превышать 5% об. Поддерживать концентрацию кислорода и предельное значение перепада температур. При увеличении СО2 выше 5% об. добавлять в систему свежий азот, а избыток сдувать в атмосферу через свечу. При соблюдении этих условий горение кокса завершится за минимальное время. Продолжать добавлять кислород по мере прохождения фронта горения через все реактора. Прорыв кислорода обычно наблюдается в каждом реакторе, когда фронт горения пройдет приблизительно 70% толщины слоя. Продолжать поддерживать температуру на входе всех реакторов равный 371°С. Когда фронт горения проходит через последний реактор, продолжайте регулировать концентрацию кислорода в циркулирующем газе, входящим в первый реактор. Когда кислород прорвется через последний реактор скорость добавления кислорода необходимо уменьшить, чтобы сохранить его концентрацию равной 0,8% об. Первичный выжиг кокса при этих условиях завершен.'),\n",
       " Document(metadata={'source': 'data/data_processing/РАЗДЕЛ 6/РАЗДЕЛ 6.docx', 'category_depth': 0, 'file_directory': 'data/data_processing/РАЗДЕЛ 6', 'filename': 'РАЗДЕЛ 6.docx', 'last_modified': '2025-07-08T17:17:29', 'languages': ['rus'], 'filetype': 'application/vnd.openxmlformats-officedocument.wordprocessingml.document', 'parent_id': '9afdb9b323f2876e33107344e0abd7d7', 'category': 'NarrativeText', 'element_id': '40b1cd7d532e2859893ed4f7559d4bc9'}, page_content='После того как фронт горения прошел через все реактора, медленно поднять температуру на входе в реактора до 427°С со скоростью 14°С в час. Поддерживать концентрацию О2 в газе 0,8% об, СО2–не более 5% об, делать паузу при любых признаках начала горения кокса до его прекращения. Любое горение, происходящее в это время должно быть кратковременно; однако при необходимости уменьшить подачу кислорода для ограничения температуры на выходе из реакторов не выше 454°С.'),\n",
       " Document(metadata={'source': 'data/data_processing/РАЗДЕЛ 6/РАЗДЕЛ 6.docx', 'category_depth': 0, 'file_directory': 'data/data_processing/РАЗДЕЛ 6', 'filename': 'РАЗДЕЛ 6.docx', 'last_modified': '2025-07-08T17:17:29', 'languages': ['rus'], 'filetype': 'application/vnd.openxmlformats-officedocument.wordprocessingml.document', 'parent_id': '9afdb9b323f2876e33107344e0abd7d7', 'category': 'NarrativeText', 'element_id': '1757bcf26584a883301f88488f807520'}, page_content='После достижения температуры на входе в реактора 427°С и при отсутствии признаков горения кокса, при концентрации кислорода 0,8% об., медленно увеличить концентрацию кислорода в циркулирующем газе до 3% об. с шагом 0,5% об. Делать паузу при любых признаках горения кокса. Не допускать увеличения температуры на выходе из реакторов выше 454°С.'),\n",
       " Document(metadata={'source': 'data/data_processing/РАЗДЕЛ 6/РАЗДЕЛ 6.docx', 'category_depth': 0, 'file_directory': 'data/data_processing/РАЗДЕЛ 6', 'filename': 'РАЗДЕЛ 6.docx', 'last_modified': '2025-07-08T17:17:29', 'languages': ['rus'], 'filetype': 'application/vnd.openxmlformats-officedocument.wordprocessingml.document', 'parent_id': '9afdb9b323f2876e33107344e0abd7d7', 'category': 'NarrativeText', 'element_id': '1186ff35da12a66144059df38ec737c1'}, page_content='После увеличения концентрации кислорода в циркуляционном газе до 3,0% об. В случае отсутствия признаков горения кокса в течение 5 часов поднимают температуру на входе в реакторы R-201, 202, 203 до 454оС. При достижении температуры 454°С контролировать в циркуляционном газе содержание кислорода (не более 3,0% об.) и диоксида углерода (не более 5,0% об.).'),\n",
       " Document(metadata={'source': 'data/data_processing/РАЗДЕЛ 6/РАЗДЕЛ 6.docx', 'category_depth': 0, 'file_directory': 'data/data_processing/РАЗДЕЛ 6', 'filename': 'РАЗДЕЛ 6.docx', 'last_modified': '2025-07-08T17:17:29', 'languages': ['rus'], 'filetype': 'application/vnd.openxmlformats-officedocument.wordprocessingml.document', 'parent_id': '9afdb9b323f2876e33107344e0abd7d7', 'category': 'NarrativeText', 'element_id': 'cb661fdf59cfc484ff961363641a03cf'}, page_content='После выдержки температуры 454оС в течение 4-6 часов и отсутствии признаков горения кокса перейти к следующей стадии регенерации: поверочному выжигу кокса. Медленно поднять температуру на входе в реактора до 482°С с шагом 14°С в час. Делать паузу при любых признаках горения кокса. При достижении температуры 482оС в течение 3-4 часов произвести подъем содержания кислорода в циркулирующем газе до 5,0% об.'),\n",
       " Document(metadata={'source': 'data/data_processing/РАЗДЕЛ 6/РАЗДЕЛ 6.docx', 'category_depth': 0, 'file_directory': 'data/data_processing/РАЗДЕЛ 6', 'filename': 'РАЗДЕЛ 6.docx', 'header_footer_type': 'primary', 'languages': ['rus'], 'filetype': 'application/vnd.openxmlformats-officedocument.wordprocessingml.document', 'category': 'Header', 'element_id': '12b83fb42f95885a19abe6c6f99a2099'}, page_content='ТР-6100-20368-08-2010'),\n",
       " Document(metadata={'source': 'data/data_processing/РАЗДЕЛ 6/РАЗДЕЛ 6.docx', 'category_depth': 0, 'file_directory': 'data/data_processing/РАЗДЕЛ 6', 'filename': 'РАЗДЕЛ 6.docx', 'header_footer_type': 'primary', 'languages': ['rus'], 'filetype': 'application/vnd.openxmlformats-officedocument.wordprocessingml.document', 'category': 'Header', 'element_id': 'ebb3847448b25b222b8dfeb1fb3d0e5c'}, page_content='ТР-6100-20368-08-2010'),\n",
       " Document(metadata={'source': 'data/data_processing/РАЗДЕЛ 6/РАЗДЕЛ 6.docx', 'category_depth': 0, 'file_directory': 'data/data_processing/РАЗДЕЛ 6', 'filename': 'РАЗДЕЛ 6.docx', 'last_modified': '2025-07-08T17:17:29', 'languages': ['rus'], 'filetype': 'application/vnd.openxmlformats-officedocument.wordprocessingml.document', 'parent_id': 'ebb3847448b25b222b8dfeb1fb3d0e5c', 'category': 'NarrativeText', 'element_id': '906a8887a9130b93ad0fe21f69c0f634'}, page_content='Поверочный выжиг считается завершенным, когда температура на выходе из реакторов будет ниже чем температура на входе в реактора, а потребление кислорода составит не более 0,5% об. за 30 мин.'),\n",
       " Document(metadata={'source': 'data/data_processing/РАЗДЕЛ 6/РАЗДЕЛ 6.docx', 'category_depth': 0, 'file_directory': 'data/data_processing/РАЗДЕЛ 6', 'filename': 'РАЗДЕЛ 6.docx', 'last_modified': '2025-07-08T17:17:29', 'languages': ['rus'], 'filetype': 'application/vnd.openxmlformats-officedocument.wordprocessingml.document', 'parent_id': 'ebb3847448b25b222b8dfeb1fb3d0e5c', 'category': 'NarrativeText', 'element_id': '97c36d5067b4fc2466c42615b955dac7'}, page_content='Такая проверка потребления кислорода проводится путем отключения подачи воздуха и определения концентрации кислорода в циркулирующем газе в течение 30 минут. '),\n",
       " Document(metadata={'source': 'data/data_processing/РАЗДЕЛ 6/РАЗДЕЛ 6.docx', 'category_depth': 0, 'file_directory': 'data/data_processing/РАЗДЕЛ 6', 'filename': 'РАЗДЕЛ 6.docx', 'last_modified': '2025-07-08T17:17:29', 'languages': ['rus'], 'filetype': 'application/vnd.openxmlformats-officedocument.wordprocessingml.document', 'parent_id': 'ebb3847448b25b222b8dfeb1fb3d0e5c', 'category': 'UncategorizedText', 'element_id': '6f3c2dc4b9d673b9f07501245833a1a1'}, page_content='Примерный график регенерации катализатора приведен на рис.6.12.'),\n",
       " Document(metadata={'source': 'data/data_processing/РАЗДЕЛ 6/РАЗДЕЛ 6.docx', 'category_depth': 0, 'file_directory': 'data/data_processing/РАЗДЕЛ 6', 'filename': 'РАЗДЕЛ 6.docx', 'last_modified': '2025-07-08T17:17:29', 'languages': ['rus'], 'filetype': 'application/vnd.openxmlformats-officedocument.wordprocessingml.document', 'parent_id': 'ebb3847448b25b222b8dfeb1fb3d0e5c', 'category': 'NarrativeText', 'element_id': 'edc2acbfc7ed704dc96bb6c5f77f6b84'}, page_content='После окончания поверочного выжига понизить температуру на входе в реактора до 360°С со скоростью 50°С в час. При достижении этой температуры потушить печи Н-201 А,В,С и продолжить циркуляцию газа до достижения температуры на выходе из реакторов 35-40°С. При достижении температуры 35-40°С на выходе из реакторов остановить компрессор К-201 А или В и сбросить давление с системы на свечу.'),\n",
       " Document(metadata={'source': 'data/data_processing/РАЗДЕЛ 6/РАЗДЕЛ 6.docx', 'category_depth': 0, 'file_directory': 'data/data_processing/РАЗДЕЛ 6', 'filename': 'РАЗДЕЛ 6.docx', 'last_modified': '2025-07-08T17:17:29', 'languages': ['rus'], 'filetype': 'application/vnd.openxmlformats-officedocument.wordprocessingml.document', 'parent_id': 'ebb3847448b25b222b8dfeb1fb3d0e5c', 'category': 'NarrativeText', 'element_id': 'fb2785772c3ea702644e5a1b3ab2c830'}, page_content='Когда температура на входе в реактора понизится до 371°С прекратить циркуляцию нейтрализующего раствора насосом Р-205.'),\n",
       " Document(metadata={'source': 'data/data_processing/РАЗДЕЛ 6/РАЗДЕЛ 6.docx', 'category_depth': 0, 'file_directory': 'data/data_processing/РАЗДЕЛ 6', 'filename': 'РАЗДЕЛ 6.docx', 'last_modified': '2025-07-08T17:17:29', 'languages': ['rus'], 'filetype': 'application/vnd.openxmlformats-officedocument.wordprocessingml.document', 'parent_id': 'ebb3847448b25b222b8dfeb1fb3d0e5c', 'category': 'NarrativeText', 'element_id': 'd3dbceed1518904b753c041d237b9f2e'}, page_content='Слить раствор с ТК-201, с V-201. Заполнить ТК-201 чистой водой и опять наладить циркуляцию насосом Р-205. Продолжать промывку и слив циркулирующей воды до тех пор, пока сливаемая вода из V-201 не будет чистой. Затем остановить циркуляцию воды и слить воду из V-201, ТК-201 и линий.'),\n",
       " Document(metadata={'source': 'data/data_processing/РАЗДЕЛ 6/РАЗДЕЛ 6.docx', 'category_depth': 0, 'file_directory': 'data/data_processing/РАЗДЕЛ 6', 'filename': 'РАЗДЕЛ 6.docx', 'header_footer_type': 'primary', 'languages': ['rus'], 'filetype': 'application/vnd.openxmlformats-officedocument.wordprocessingml.document', 'category': 'Header', 'element_id': '5778c446e1897c81c0f349d57b15126b'}, page_content='ТР-6100-20368-08-2010'),\n",
       " Document(metadata={'source': 'data/data_processing/РАЗДЕЛ 6/РАЗДЕЛ 6.docx', 'category_depth': 0, 'file_directory': 'data/data_processing/РАЗДЕЛ 6', 'filename': 'РАЗДЕЛ 6.docx', 'header_footer_type': 'primary', 'languages': ['rus'], 'filetype': 'application/vnd.openxmlformats-officedocument.wordprocessingml.document', 'category': 'Header', 'element_id': 'b4b07dbbe3cbbbad4e0c96aac991c02a'}, page_content='ТР-6100-20368-08-2010'),\n",
       " Document(metadata={'source': 'data/data_processing/РАЗДЕЛ 6/РАЗДЕЛ 6.docx', 'category_depth': 0, 'emphasized_text_contents': ['6.6 Техническое обслуживание после регенерации'], 'emphasized_text_tags': ['b'], 'file_directory': 'data/data_processing/РАЗДЕЛ 6', 'filename': 'РАЗДЕЛ 6.docx', 'last_modified': '2025-07-08T17:17:29', 'languages': ['rus'], 'filetype': 'application/vnd.openxmlformats-officedocument.wordprocessingml.document', 'parent_id': 'b4b07dbbe3cbbbad4e0c96aac991c02a', 'category': 'UncategorizedText', 'element_id': 'f75cfd157cc220220b7a92d877c80661'}, page_content='6.6 Техническое обслуживание после регенерации'),\n",
       " Document(metadata={'source': 'data/data_processing/РАЗДЕЛ 6/РАЗДЕЛ 6.docx', 'category_depth': 0, 'file_directory': 'data/data_processing/РАЗДЕЛ 6', 'filename': 'РАЗДЕЛ 6.docx', 'last_modified': '2025-07-08T17:17:29', 'languages': ['rus'], 'filetype': 'application/vnd.openxmlformats-officedocument.wordprocessingml.document', 'parent_id': 'b4b07dbbe3cbbbad4e0c96aac991c02a', 'category': 'NarrativeText', 'element_id': 'd99d3c4a0669e54150481732a6accf75'}, page_content='Любое планируемое техническое обслуживание должно проводится после завершения проверочного выжига кокса. Оно включает в себя обслуживание оборудования, осмотр реакторов и просеивание катализатора. После проверочного выжигания катализатор находится в самой устойчивой форме и с ним легко обращаться.'),\n",
       " Document(metadata={'source': 'data/data_processing/РАЗДЕЛ 6/РАЗДЕЛ 6.docx', 'category_depth': 2, 'emphasized_text_contents': ['Выгрузка катализатора и обращение с ним'], 'emphasized_text_tags': ['b'], 'file_directory': 'data/data_processing/РАЗДЕЛ 6', 'filename': 'РАЗДЕЛ 6.docx', 'last_modified': '2025-07-08T17:17:29', 'languages': ['rus'], 'filetype': 'application/vnd.openxmlformats-officedocument.wordprocessingml.document', 'parent_id': 'b4b07dbbe3cbbbad4e0c96aac991c02a', 'category': 'ListItem', 'element_id': '5d5c12d1d169dcef94ac8714359a9188'}, page_content='Выгрузка катализатора и обращение с ним'),\n",
       " Document(metadata={'source': 'data/data_processing/РАЗДЕЛ 6/РАЗДЕЛ 6.docx', 'category_depth': 0, 'file_directory': 'data/data_processing/РАЗДЕЛ 6', 'filename': 'РАЗДЕЛ 6.docx', 'last_modified': '2025-07-08T17:17:29', 'languages': ['rus'], 'filetype': 'application/vnd.openxmlformats-officedocument.wordprocessingml.document', 'parent_id': 'b4b07dbbe3cbbbad4e0c96aac991c02a', 'category': 'NarrativeText', 'element_id': 'cf28009c7e8795f69a1dfdc5efe877f3'}, page_content='Те же меры предосторожности, которые принимаются для предотвращения воздействия воздуха на свежий катализатор, должны приниматься и при выгрузке из реактора истощенного катализатора. Истощенный катализатор содержит большое количество хлорида, и при контакте катализатора с влагой он приобретает высокую коррозионную активность. В течение всего времени, пока реактор открыт и идет выгрузка катализатора, реакторы должны быть заполнены сухим газообразным азотом при давлении 25-40 мм.вд.ст.'),\n",
       " Document(metadata={'source': 'data/data_processing/РАЗДЕЛ 6/РАЗДЕЛ 6.docx', 'category_depth': 0, 'file_directory': 'data/data_processing/РАЗДЕЛ 6', 'filename': 'РАЗДЕЛ 6.docx', 'last_modified': '2025-07-08T17:17:29', 'languages': ['rus'], 'filetype': 'application/vnd.openxmlformats-officedocument.wordprocessingml.document', 'parent_id': 'b4b07dbbe3cbbbad4e0c96aac991c02a', 'category': 'UncategorizedText', 'element_id': 'a9d2b89131abc4ca2c20b5fd416b6401'}, page_content='Необходимо:'),\n",
       " Document(metadata={'source': 'data/data_processing/РАЗДЕЛ 6/РАЗДЕЛ 6.docx', 'category_depth': 0, 'file_directory': 'data/data_processing/РАЗДЕЛ 6', 'filename': 'РАЗДЕЛ 6.docx', 'last_modified': '2025-07-08T17:17:29', 'languages': ['rus'], 'filetype': 'application/vnd.openxmlformats-officedocument.wordprocessingml.document', 'parent_id': 'b4b07dbbe3cbbbad4e0c96aac991c02a', 'category': 'UncategorizedText', 'element_id': 'ec6db20ad06082cc8c07f2f0c02eef41'}, page_content='1. Снять заглушку с патрубка для удаления катализатора и присоединить трубу для его выгрузки.'),\n",
       " Document(metadata={'source': 'data/data_processing/РАЗДЕЛ 6/РАЗДЕЛ 6.docx', 'category_depth': 0, 'file_directory': 'data/data_processing/РАЗДЕЛ 6', 'filename': 'РАЗДЕЛ 6.docx', 'last_modified': '2025-07-08T17:17:29', 'languages': ['rus'], 'filetype': 'application/vnd.openxmlformats-officedocument.wordprocessingml.document', 'parent_id': 'b4b07dbbe3cbbbad4e0c96aac991c02a', 'category': 'NarrativeText', 'element_id': 'fb65462122189e80b024a78b18493875'}, page_content='2. Истощенный катализатор должен загружаться в исходные металлические бочки с пластмассовой облицовкой, предохраняющей от коррозии при перевозке. В процессе этих работ с катализатором металлические бочки должны храниться в сухом месте и оберегаться от повреждений. Подробнее этапы выгрузки катализатора описаны ниже:'),\n",
       " Document(metadata={'source': 'data/data_processing/РАЗДЕЛ 6/РАЗДЕЛ 6.docx', 'category_depth': 0, 'file_directory': 'data/data_processing/РАЗДЕЛ 6', 'filename': 'РАЗДЕЛ 6.docx', 'last_modified': '2025-07-08T17:17:29', 'languages': ['rus'], 'filetype': 'application/vnd.openxmlformats-officedocument.wordprocessingml.document', 'parent_id': 'b4b07dbbe3cbbbad4e0c96aac991c02a', 'category': 'UncategorizedText', 'element_id': 'b957c67d79c04a62862ff27ba2db54b7'}, page_content='–поставьте пустую бочку для катализатора на подставку, поместить внутренний пластиковый мешок вместе с разгрузочной горловиной внутрь внешнего плотного мешка из пластика ;'),\n",
       " Document(metadata={'source': 'data/data_processing/РАЗДЕЛ 6/РАЗДЕЛ 6.docx', 'category_depth': 0, 'file_directory': 'data/data_processing/РАЗДЕЛ 6', 'filename': 'РАЗДЕЛ 6.docx', 'last_modified': '2025-07-08T17:17:29', 'languages': ['rus'], 'filetype': 'application/vnd.openxmlformats-officedocument.wordprocessingml.document', 'parent_id': 'b4b07dbbe3cbbbad4e0c96aac991c02a', 'category': 'UncategorizedText', 'element_id': '128e03ca24515b36bffc0da0bc7a5e0d'}, page_content='–надвинуть разгрузочную горловину из пластика на трубу для выгрузки катализатора, удалить нижележащий опорный слой через патрубок для выгрузки ;'),\n",
       " Document(metadata={'source': 'data/data_processing/РАЗДЕЛ 6/РАЗДЕЛ 6.docx', 'category_depth': 0, 'file_directory': 'data/data_processing/РАЗДЕЛ 6', 'filename': 'РАЗДЕЛ 6.docx', 'last_modified': '2025-07-08T17:17:29', 'languages': ['rus'], 'filetype': 'application/vnd.openxmlformats-officedocument.wordprocessingml.document', 'parent_id': 'b4b07dbbe3cbbbad4e0c96aac991c02a', 'category': 'NarrativeText', 'element_id': 'c7435b7df5e9887ae01da99fcebb2f0b'}, page_content='–в каждую металлическую бочку загружается приблизительно 160 кг. катализатора. Небольшое усовершенствование трубы для выгрузки катализатора позволит довольно просто регулировать и останавливать поток выгружаемого катализатора ;'),\n",
       " Document(metadata={'source': 'data/data_processing/РАЗДЕЛ 6/РАЗДЕЛ 6.docx', 'category_depth': 0, 'file_directory': 'data/data_processing/РАЗДЕЛ 6', 'filename': 'РАЗДЕЛ 6.docx', 'last_modified': '2025-07-08T17:17:29', 'languages': ['rus'], 'filetype': 'application/vnd.openxmlformats-officedocument.wordprocessingml.document', 'parent_id': 'b4b07dbbe3cbbbad4e0c96aac991c02a', 'category': 'NarrativeText', 'element_id': '823a7ecea4857228d1eafe8e13597f27'}, page_content='–после наполнения бочки пережать пластмассовую разгрузочную горловину проволокой в двух местах, а затем пережать проволокой и плотный пластмассовый мешок, который охватывает внутренний мешок. Плотно закрывается металлическая бочка, используя исходные крышки и фиксирующие их кольца.'),\n",
       " Document(metadata={'source': 'data/data_processing/РАЗДЕЛ 6/РАЗДЕЛ 6.docx', 'category_depth': 0, 'file_directory': 'data/data_processing/РАЗДЕЛ 6', 'filename': 'РАЗДЕЛ 6.docx', 'last_modified': '2025-07-08T17:17:29', 'languages': ['rus'], 'filetype': 'application/vnd.openxmlformats-officedocument.wordprocessingml.document', 'parent_id': 'b4b07dbbe3cbbbad4e0c96aac991c02a', 'category': 'NarrativeText', 'element_id': '2950d6d11713a409e0fe0af1026a8acf'}, page_content='Перед возвращением катализатора для регенерации платины нет необходимости в его просеивании, так как его будут просеивать перед переработкой. Однако, если катализатор не просеять, то присутствие в выгруженном катализаторе керамических частиц опорного слоя приведет к увеличению транспортных расходов. Трубу для выгрузки катализатора можно видоизменить таким образом, чтобы пропускать катализатор через специально изготовленное или приобретенное приспособление для просеивания. Собираемый при этом материал опорного слоя необходимо затем просеять вручную второй раз и выделенный катализатор или мелочь добавить в одну из бочек.'),\n",
       " Document(metadata={'source': 'data/data_processing/РАЗДЕЛ 6/РАЗДЕЛ 6.docx', 'category_depth': 0, 'file_directory': 'data/data_processing/РАЗДЕЛ 6', 'filename': 'РАЗДЕЛ 6.docx', 'last_modified': '2025-07-08T17:17:29', 'languages': ['rus'], 'filetype': 'application/vnd.openxmlformats-officedocument.wordprocessingml.document', 'parent_id': 'b4b07dbbe3cbbbad4e0c96aac991c02a', 'category': 'NarrativeText', 'element_id': '8ef9e1975581bdba5066283880c050c1'}, page_content='В процессе выгрузки катализатора верхний люк реактора может оставаться открытым для подготовки к загрузке свежего катализатора. При открывании этого люка плотно закройте открытые фланцы пластиком. Распределитель и крышка люка должны быть завернуты в пластик, чтобы предохранить их от влаги. Люк реактора следует плотно закрыть пластиком или установить устройство для загрузки катализатора для сохранения азота в процессе выгрузки.'),\n",
       " Document(metadata={'source': 'data/data_processing/РАЗДЕЛ 6/РАЗДЕЛ 6.docx', 'category_depth': 0, 'file_directory': 'data/data_processing/РАЗДЕЛ 6', 'filename': 'РАЗДЕЛ 6.docx', 'last_modified': '2025-07-08T17:17:29', 'languages': ['rus'], 'filetype': 'application/vnd.openxmlformats-officedocument.wordprocessingml.document', 'parent_id': 'b4b07dbbe3cbbbad4e0c96aac991c02a', 'category': 'NarrativeText', 'element_id': 'fe8042b44c5eb1a212831cdacc3c071d'}, page_content='Небольшое количество истощенного катализатора останется в нижней части реактора, так как опорный материал расположен горизонтально, а не наклонен в сторону патрубка для выгрузки. Эту часть катализатора можно удалить с помощью отрезка трубы с укрепленным на его конце совком, чтобы “подмести” катализатор в направлении разгрузочной трубы. '),\n",
       " Document(metadata={'source': 'data/data_processing/РАЗДЕЛ 6/РАЗДЕЛ 6.docx', 'category_depth': 0, 'file_directory': 'data/data_processing/РАЗДЕЛ 6', 'filename': 'РАЗДЕЛ 6.docx', 'last_modified': '2025-07-08T17:17:29', 'languages': ['rus'], 'filetype': 'application/vnd.openxmlformats-officedocument.wordprocessingml.document', 'parent_id': 'b4b07dbbe3cbbbad4e0c96aac991c02a', 'category': 'NarrativeText', 'element_id': 'a42b38327742ed031950e78614ccdd4f'}, page_content='Когда весь истощенный катализатор удален, пластину, на которой располагается катализатор, следует снова установить в разгрузочный патрубок, трубу для выгрузки снять, а разгрузочный патрубок закрыть. Разгрузочный рукав можно заполнить соответствующего размера материалом опорного слоя (фарфоровыми шариками) с частицами соответствующего размера из верхней части реактора, используя длинный отрезок 38 мм трубы или пластмассовую трубку и воронку, помогающую направить этот материал в рукав.'),\n",
       " Document(metadata={'source': 'data/data_processing/РАЗДЕЛ 6/РАЗДЕЛ 6.docx', 'category_depth': 0, 'file_directory': 'data/data_processing/РАЗДЕЛ 6', 'filename': 'РАЗДЕЛ 6.docx', 'last_modified': '2025-07-08T17:17:29', 'languages': ['rus'], 'filetype': 'application/vnd.openxmlformats-officedocument.wordprocessingml.document', 'parent_id': 'b4b07dbbe3cbbbad4e0c96aac991c02a', 'category': 'UncategorizedText', 'element_id': '87c6f16e73438f4b158f09278d1e4280'}, page_content='Затем можно загрузить свежий катализатор, используя ту последовательность операций, которая описана ранее.'),\n",
       " Document(metadata={'source': 'data/data_processing/РАЗДЕЛ 6/РАЗДЕЛ 6.docx', 'category_depth': 0, 'file_directory': 'data/data_processing/РАЗДЕЛ 6', 'filename': 'РАЗДЕЛ 6.docx', 'last_modified': '2025-07-08T17:17:29', 'languages': ['rus'], 'filetype': 'application/vnd.openxmlformats-officedocument.wordprocessingml.document', 'parent_id': 'b4b07dbbe3cbbbad4e0c96aac991c02a', 'category': 'NarrativeText', 'element_id': '96d7967dbf5246e3ea07e6164896b6a7'}, page_content='Если использовать изложенную выше последовательность операций, то человеку нет необходимости проникать в внутрь реактора для окончания выгрузки и подготовке реактора к загрузке. Если по какой-либо причине потребуется проникнуть внутрь реактора, то следует принять соответствующие меры, обеспечивающие безопасность при нахождении человека в атмосфере азота, в том числе использовать изолирующие противогазы и веревки безопасности. '),\n",
       " Document(metadata={'source': 'data/data_processing/РАЗДЕЛ 6/РАЗДЕЛ 6.docx', 'category_depth': 0, 'file_directory': 'data/data_processing/РАЗДЕЛ 6', 'filename': 'РАЗДЕЛ 6.docx', 'last_modified': '2025-07-08T17:17:29', 'languages': ['rus'], 'filetype': 'application/vnd.openxmlformats-officedocument.wordprocessingml.document', 'parent_id': 'b4b07dbbe3cbbbad4e0c96aac991c02a', 'category': 'NarrativeText', 'element_id': '0cfaedcf27fff08bf07dab092f08e121'}, page_content='Применение указанной выше последовательности операций и использование специального оборудования, предназначенного для выгрузки катализатора, должно свести к минимуму его просыпание мимо тары. Тем не менее, перед началом работы по выгрузке катализатора следует очистить бетонный прилив у основания реакторов, чтобы просыпанный катализатор можно было смести в одну из металлических бочек.'),\n",
       " Document(metadata={'source': 'data/data_processing/РАЗДЕЛ 6/РАЗДЕЛ 6.docx', 'category_depth': 0, 'file_directory': 'data/data_processing/РАЗДЕЛ 6', 'filename': 'РАЗДЕЛ 6.docx', 'last_modified': '2025-07-08T17:17:29', 'languages': ['rus'], 'filetype': 'application/vnd.openxmlformats-officedocument.wordprocessingml.document', 'parent_id': 'b4b07dbbe3cbbbad4e0c96aac991c02a', 'category': 'NarrativeText', 'element_id': '9bb39b27340e604d148c604ee945432c'}, page_content='Вес выгруженного катализатора следует зарегистрировать для контроля возможных потерь в процессе перевозки. Когда катализатор возвращается для регенерации платины, его просеивают, чтобы удалить частицы увеличенного размера и мелочь.'),\n",
       " Document(metadata={'source': 'data/data_processing/РАЗДЕЛ 6/РАЗДЕЛ 6.docx', 'category_depth': 0, 'file_directory': 'data/data_processing/РАЗДЕЛ 6', 'filename': 'РАЗДЕЛ 6.docx', 'last_modified': '2025-07-08T17:17:29', 'languages': ['rus'], 'filetype': 'application/vnd.openxmlformats-officedocument.wordprocessingml.document', 'parent_id': 'b4b07dbbe3cbbbad4e0c96aac991c02a', 'category': 'NarrativeText', 'element_id': '1c609bfd20a958f211906b653c80b44e'}, page_content='Содержание платины в катализаторе и в мелоче определяется раздельно. Как правило, мелочь содержит приблизительно 20% катализатора.'),\n",
       " Document(metadata={'source': 'data/data_processing/РАЗДЕЛ 6/РАЗДЕЛ 6.docx', 'category_depth': 0, 'file_directory': 'data/data_processing/РАЗДЕЛ 6', 'filename': 'РАЗДЕЛ 6.docx', 'last_modified': '2025-07-08T17:17:29', 'languages': ['rus'], 'filetype': 'application/vnd.openxmlformats-officedocument.wordprocessingml.document', 'parent_id': 'b4b07dbbe3cbbbad4e0c96aac991c02a', 'category': 'NarrativeText', 'element_id': '54aa3eca50d17ea3f7328e06d9bbf418'}, page_content='Рекомендуется перед выгрузкой катализатор всегда регенерировать, что обусловлено пирофорными свойствами нерегенерированного катализатора. Присутствие железа на катализаторе в любой форме приведет при его соприкосновении с кислородом к спонтанному воспламенению. '),\n",
       " Document(metadata={'source': 'data/data_processing/РАЗДЕЛ 6/РАЗДЕЛ 6.docx', 'category_depth': 0, 'file_directory': 'data/data_processing/РАЗДЕЛ 6', 'filename': 'РАЗДЕЛ 6.docx', 'last_modified': '2025-07-08T17:17:29', 'languages': ['rus'], 'filetype': 'application/vnd.openxmlformats-officedocument.wordprocessingml.document', 'parent_id': 'b4b07dbbe3cbbbad4e0c96aac991c02a', 'category': 'UncategorizedText', 'element_id': 'b58788d192a78c0df21deb7669494fff'}, page_content='ТРУБА ДЛЯ ВЫГРУЗКИ ИСТОЩЕННОГО КАТАЛИЗАТОРА'),\n",
       " Document(metadata={'source': 'data/data_processing/РАЗДЕЛ 6/РАЗДЕЛ 6.docx', 'category_depth': 0, 'emphasized_text_contents': ['6.6.2 Подготовка основного оборудования к ремонту'], 'emphasized_text_tags': ['b'], 'file_directory': 'data/data_processing/РАЗДЕЛ 6', 'filename': 'РАЗДЕЛ 6.docx', 'last_modified': '2025-07-08T17:17:29', 'languages': ['rus'], 'filetype': 'application/vnd.openxmlformats-officedocument.wordprocessingml.document', 'parent_id': 'b4b07dbbe3cbbbad4e0c96aac991c02a', 'category': 'UncategorizedText', 'element_id': '73f6480a3a1f655d4902167fc5bb2c6e'}, page_content='6.6.2 Подготовка основного оборудования к ремонту'),\n",
       " Document(metadata={'source': 'data/data_processing/РАЗДЕЛ 6/РАЗДЕЛ 6.docx', 'category_depth': 0, 'file_directory': 'data/data_processing/РАЗДЕЛ 6', 'filename': 'РАЗДЕЛ 6.docx', 'last_modified': '2025-07-08T17:17:29', 'languages': ['rus'], 'filetype': 'application/vnd.openxmlformats-officedocument.wordprocessingml.document', 'parent_id': 'b4b07dbbe3cbbbad4e0c96aac991c02a', 'category': 'NarrativeText', 'element_id': 'bead289069cd30bb52f804350c426385'}, page_content='Для обеспечения нормальной работы секции аппараты, оборудование и трубопроводы подвергаются текущим, капитальным ремонтам и техническому освидетельствованию согласно правилам. Одной из основных обязанностей технологического персонала является своевременная подготовка оборудования к ремонту.'),\n",
       " Document(metadata={'source': 'data/data_processing/РАЗДЕЛ 6/РАЗДЕЛ 6.docx', 'category_depth': 0, 'file_directory': 'data/data_processing/РАЗДЕЛ 6', 'filename': 'РАЗДЕЛ 6.docx', 'last_modified': '2025-07-08T17:17:29', 'languages': ['rus'], 'filetype': 'application/vnd.openxmlformats-officedocument.wordprocessingml.document', 'parent_id': 'b4b07dbbe3cbbbad4e0c96aac991c02a', 'category': 'NarrativeText', 'element_id': '5717d615eeb273a7defce32f421725b1'}, page_content='Подготовка аппаратов, трубопроводов, насосно-компрессорного хозяйства к ремонту производится по «Правилам безопасности при эксплуатации нефтеперерабатывающих заводов». Основной задачей при подготовке к ремонту является создание таких условий, которые бы исключили возможность загораний и взрывов и получения травмы рабочими при производстве работ.'),\n",
       " Document(metadata={'source': 'data/data_processing/РАЗДЕЛ 6/РАЗДЕЛ 6.docx', 'category_depth': 0, 'file_directory': 'data/data_processing/РАЗДЕЛ 6', 'filename': 'РАЗДЕЛ 6.docx', 'last_modified': '2025-07-08T17:17:29', 'languages': ['rus'], 'filetype': 'application/vnd.openxmlformats-officedocument.wordprocessingml.document', 'parent_id': 'b4b07dbbe3cbbbad4e0c96aac991c02a', 'category': 'UncategorizedText', 'element_id': '368b9727ad916687f91ab4170cd22374'}, page_content='Ответственный за подготовку секции к ремонтным работам назначается приказом по предприятию.'),\n",
       " Document(metadata={'source': 'data/data_processing/РАЗДЕЛ 6/РАЗДЕЛ 6.docx', 'category_depth': 0, 'emphasized_text_contents': ['6.6.3 Общие правила подготовки оборудования системы высокого давления'], 'emphasized_text_tags': ['b'], 'file_directory': 'data/data_processing/РАЗДЕЛ 6', 'filename': 'РАЗДЕЛ 6.docx', 'last_modified': '2025-07-08T17:17:29', 'languages': ['rus'], 'filetype': 'application/vnd.openxmlformats-officedocument.wordprocessingml.document', 'parent_id': 'b4b07dbbe3cbbbad4e0c96aac991c02a', 'category': 'UncategorizedText', 'element_id': '735eefd9c9834e305e13bd17f21082e5'}, page_content='6.6.3 Общие правила подготовки оборудования системы высокого давления'),\n",
       " Document(metadata={'source': 'data/data_processing/РАЗДЕЛ 6/РАЗДЕЛ 6.docx', 'category_depth': 0, 'file_directory': 'data/data_processing/РАЗДЕЛ 6', 'filename': 'РАЗДЕЛ 6.docx', 'last_modified': '2025-07-08T17:17:29', 'languages': ['rus'], 'filetype': 'application/vnd.openxmlformats-officedocument.wordprocessingml.document', 'parent_id': 'b4b07dbbe3cbbbad4e0c96aac991c02a', 'category': 'NarrativeText', 'element_id': 'ba8545d2300f85026c34e07a62c6bf5a'}, page_content='Подготовка оборудования системы высокого давления R–201, R–202, R–203, R–204, H-201A/B/C, E–201, E–202, K–201 A/B, AC–201 A, V–201 производится предварительно при остановке секции. При этом система и все аппараты освобождаются от жидких продуктов путем длительной циркуляции водородсодержащего газа (4-6 часов) при температуре в реакторах риформинга ~ 470 С. Бензин из сепаратора V–201, по мере накопления передавливается по нормальной схеме на стабилизацию. После снижения температуры в реакторах до 70 С производится продувка инертным газом до содержания горючих в системе не более предельно допустимых санитарных норм.'),\n",
       " Document(metadata={'source': 'data/data_processing/РАЗДЕЛ 6/РАЗДЕЛ 6.docx', 'category_depth': 0, 'file_directory': 'data/data_processing/РАЗДЕЛ 6', 'filename': 'РАЗДЕЛ 6.docx', 'last_modified': '2025-07-08T17:17:29', 'languages': ['rus'], 'filetype': 'application/vnd.openxmlformats-officedocument.wordprocessingml.document', 'parent_id': 'b4b07dbbe3cbbbad4e0c96aac991c02a', 'category': 'NarrativeText', 'element_id': 'e8bca6da2176f96515c510ec95580780'}, page_content='Ввиду того, что в секции при реакции выделяется сероводород, в аппарате R–204 есть условия для образования и накопления пирофорного железа. Поэтому при подготовке этого аппарата необходимо провести особо тщательную промывку водой и периодически увлажнять отложения до полного их удаления из аппаратов.'),\n",
       " Document(metadata={'source': 'data/data_processing/РАЗДЕЛ 6/РАЗДЕЛ 6.docx', 'category_depth': 0, 'file_directory': 'data/data_processing/РАЗДЕЛ 6', 'filename': 'РАЗДЕЛ 6.docx', 'last_modified': '2025-07-08T17:17:29', 'languages': ['rus'], 'filetype': 'application/vnd.openxmlformats-officedocument.wordprocessingml.document', 'parent_id': 'b4b07dbbe3cbbbad4e0c96aac991c02a', 'category': 'UncategorizedText', 'element_id': '4c92c909b887ed9cc65a76f7f1963d88'}, page_content='При получении положительных анализов система считается продутой и в дальнейшем при производстве огневых работ или работ внутри аппаратов, каждый аппарат отглушается, пропаривается или продувается и готовится согласно существующим правилам.'),\n",
       " Document(metadata={'source': 'data/data_processing/РАЗДЕЛ 6/РАЗДЕЛ 6.docx', 'category_depth': 0, 'file_directory': 'data/data_processing/РАЗДЕЛ 6', 'filename': 'РАЗДЕЛ 6.docx', 'last_modified': '2025-07-08T17:17:29', 'languages': ['rus'], 'filetype': 'application/vnd.openxmlformats-officedocument.wordprocessingml.document', 'parent_id': 'b4b07dbbe3cbbbad4e0c96aac991c02a', 'category': 'NarrativeText', 'element_id': 'e53659d81d761f69db68cefc953ab3e4'}, page_content='Следует помнить, что попадание влаги в реакторы приведет к потере активности катализатора. В связи с этим при подготовке аппаратов блока риформинга после продувки инертным газом с целью окончательной подготовки разрешается продувка аппаратов и трубопроводов воздухом.'),\n",
       " Document(metadata={'source': 'data/data_processing/РАЗДЕЛ 6/РАЗДЕЛ 6.docx', 'category_depth': 0, 'emphasized_text_contents': ['6.6.4 Подготовка к ремонту колонн, емкостей и сепараторов'], 'emphasized_text_tags': ['b'], 'file_directory': 'data/data_processing/РАЗДЕЛ 6', 'filename': 'РАЗДЕЛ 6.docx', 'last_modified': '2025-07-08T17:17:29', 'languages': ['rus'], 'filetype': 'application/vnd.openxmlformats-officedocument.wordprocessingml.document', 'parent_id': 'b4b07dbbe3cbbbad4e0c96aac991c02a', 'category': 'UncategorizedText', 'element_id': 'a7bfb50162ec6e618c977c5e77e793f2'}, page_content='6.6.4 Подготовка к ремонту колонн, емкостей и сепараторов'),\n",
       " Document(metadata={'source': 'data/data_processing/РАЗДЕЛ 6/РАЗДЕЛ 6.docx', 'category_depth': 0, 'file_directory': 'data/data_processing/РАЗДЕЛ 6', 'filename': 'РАЗДЕЛ 6.docx', 'last_modified': '2025-07-08T17:17:29', 'languages': ['rus'], 'filetype': 'application/vnd.openxmlformats-officedocument.wordprocessingml.document', 'parent_id': 'b4b07dbbe3cbbbad4e0c96aac991c02a', 'category': 'UncategorizedText', 'element_id': '065c5acb325e44c7b3d32cb906d7515f'}, page_content='–отключить аппарат перекрытием задвижек от всех трубопроводов;'),\n",
       " Document(metadata={'source': 'data/data_processing/РАЗДЕЛ 6/РАЗДЕЛ 6.docx', 'category_depth': 0, 'file_directory': 'data/data_processing/РАЗДЕЛ 6', 'filename': 'РАЗДЕЛ 6.docx', 'last_modified': '2025-07-08T17:17:29', 'languages': ['rus'], 'filetype': 'application/vnd.openxmlformats-officedocument.wordprocessingml.document', 'parent_id': 'b4b07dbbe3cbbbad4e0c96aac991c02a', 'category': 'UncategorizedText', 'element_id': '63d595d72701aae1de9cbd90705cc707'}, page_content='–освободить аппарат от продукта;'),\n",
       " Document(metadata={'source': 'data/data_processing/РАЗДЕЛ 6/РАЗДЕЛ 6.docx', 'category_depth': 0, 'file_directory': 'data/data_processing/РАЗДЕЛ 6', 'filename': 'РАЗДЕЛ 6.docx', 'last_modified': '2025-07-08T17:17:29', 'languages': ['rus'], 'filetype': 'application/vnd.openxmlformats-officedocument.wordprocessingml.document', 'parent_id': 'b4b07dbbe3cbbbad4e0c96aac991c02a', 'category': 'UncategorizedText', 'element_id': 'f20c1090ae866c5c16e9851ba067da2a'}, page_content='–отглушить все трубопроводы, связанные с аппаратами (кроме участвующих в пропарке или продувке;'),\n",
       " Document(metadata={'source': 'data/data_processing/РАЗДЕЛ 6/РАЗДЕЛ 6.docx', 'category_depth': 0, 'file_directory': 'data/data_processing/РАЗДЕЛ 6', 'filename': 'РАЗДЕЛ 6.docx', 'last_modified': '2025-07-08T17:17:29', 'languages': ['rus'], 'filetype': 'application/vnd.openxmlformats-officedocument.wordprocessingml.document', 'parent_id': 'b4b07dbbe3cbbbad4e0c96aac991c02a', 'category': 'NarrativeText', 'element_id': '54a34a0f9a6703a380633a08059d43d5'}, page_content='–пропарить аппарат согласно инструкции завода. На блоке риформинга продуть инертным газом и воздухом. Конденсат дренировать.'),\n",
       " Document(metadata={'source': 'data/data_processing/РАЗДЕЛ 6/РАЗДЕЛ 6.docx', 'category_depth': 0, 'file_directory': 'data/data_processing/РАЗДЕЛ 6', 'filename': 'РАЗДЕЛ 6.docx', 'last_modified': '2025-07-08T17:17:29', 'languages': ['rus'], 'filetype': 'application/vnd.openxmlformats-officedocument.wordprocessingml.document', 'parent_id': 'b4b07dbbe3cbbbad4e0c96aac991c02a', 'category': 'UncategorizedText', 'element_id': 'aa6dae83374dbc0b3c808ca363665e14'}, page_content='–промыть аппарат водой (где это возможно) для охлаждения, воду сдренировать;'),\n",
       " Document(metadata={'source': 'data/data_processing/РАЗДЕЛ 6/РАЗДЕЛ 6.docx', 'category_depth': 0, 'file_directory': 'data/data_processing/РАЗДЕЛ 6', 'filename': 'РАЗДЕЛ 6.docx', 'last_modified': '2025-07-08T17:17:29', 'languages': ['rus'], 'filetype': 'application/vnd.openxmlformats-officedocument.wordprocessingml.document', 'parent_id': 'b4b07dbbe3cbbbad4e0c96aac991c02a', 'category': 'UncategorizedText', 'element_id': '5c3932c832e3db409ff9026be16378da'}, page_content='–отглушить трубопроводы подачи пара, инертного газа и дренаж ;'),\n",
       " Document(metadata={'source': 'data/data_processing/РАЗДЕЛ 6/РАЗДЕЛ 6.docx', 'category_depth': 0, 'file_directory': 'data/data_processing/РАЗДЕЛ 6', 'filename': 'РАЗДЕЛ 6.docx', 'last_modified': '2025-07-08T17:17:29', 'languages': ['rus'], 'filetype': 'application/vnd.openxmlformats-officedocument.wordprocessingml.document', 'parent_id': 'b4b07dbbe3cbbbad4e0c96aac991c02a', 'category': 'UncategorizedText', 'element_id': 'aee16c66b389ac4b5bdbd1ddfa09a133'}, page_content='–произвести вскрытие люков аппарата.'),\n",
       " Document(metadata={'source': 'data/data_processing/РАЗДЕЛ 6/РАЗДЕЛ 6.docx', 'category_depth': 0, 'file_directory': 'data/data_processing/РАЗДЕЛ 6', 'filename': 'РАЗДЕЛ 6.docx', 'last_modified': '2025-07-08T17:17:29', 'languages': ['rus'], 'filetype': 'application/vnd.openxmlformats-officedocument.wordprocessingml.document', 'parent_id': 'b4b07dbbe3cbbbad4e0c96aac991c02a', 'category': 'UncategorizedText', 'element_id': 'dabfe990e5df3b7fbd3211aa1e01dc66'}, page_content='Вскрытие люков аппаратов начинать с верхнего и последовательно до нижнего.'),\n",
       " Document(metadata={'source': 'data/data_processing/РАЗДЕЛ 6/РАЗДЕЛ 6.docx', 'category_depth': 0, 'file_directory': 'data/data_processing/РАЗДЕЛ 6', 'filename': 'РАЗДЕЛ 6.docx', 'last_modified': '2025-07-08T17:17:29', 'languages': ['rus'], 'filetype': 'application/vnd.openxmlformats-officedocument.wordprocessingml.document', 'parent_id': 'b4b07dbbe3cbbbad4e0c96aac991c02a', 'category': 'NarrativeText', 'element_id': '899692d4ba89f5fcf2eaa244afbafe1d'}, page_content='После охлаждения и проветривания аппарата в нём берется анализ воздуха. При допустимой концентрации выдается представителем газоспасательной службы справка. После получения анализа огневые работы должны начинаться не позднее, чем через час после отбора проб. При задержке анализ берется вторично. Если концентрация выше нормы, необходимо аппарат снова готовить к сварочным работам.'),\n",
       " Document(metadata={'source': 'data/data_processing/РАЗДЕЛ 6/РАЗДЕЛ 6.docx', 'category_depth': 0, 'emphasized_text_contents': ['6.6.5 Подготовка насосов (компрессоров) к ремонту'], 'emphasized_text_tags': ['b'], 'file_directory': 'data/data_processing/РАЗДЕЛ 6', 'filename': 'РАЗДЕЛ 6.docx', 'last_modified': '2025-07-08T17:17:29', 'languages': ['rus'], 'filetype': 'application/vnd.openxmlformats-officedocument.wordprocessingml.document', 'parent_id': 'b4b07dbbe3cbbbad4e0c96aac991c02a', 'category': 'NarrativeText', 'element_id': 'e2d58cc0d13855578800b53c5f1086ba'}, page_content='6.6.5 Подготовка насосов (компрессоров) к ремонту'),\n",
       " Document(metadata={'source': 'data/data_processing/РАЗДЕЛ 6/РАЗДЕЛ 6.docx', 'category_depth': 0, 'file_directory': 'data/data_processing/РАЗДЕЛ 6', 'filename': 'РАЗДЕЛ 6.docx', 'last_modified': '2025-07-08T17:17:29', 'languages': ['rus'], 'filetype': 'application/vnd.openxmlformats-officedocument.wordprocessingml.document', 'parent_id': 'b4b07dbbe3cbbbad4e0c96aac991c02a', 'category': 'NarrativeText', 'element_id': '9258d97bf94a9656b0edcad400b73787'}, page_content='Ремонт насосов (компрессоров) производится как во время работы установки, так и при её ремонте.'),\n",
       " Document(metadata={'source': 'data/data_processing/РАЗДЕЛ 6/РАЗДЕЛ 6.docx', 'category_depth': 0, 'file_directory': 'data/data_processing/РАЗДЕЛ 6', 'filename': 'РАЗДЕЛ 6.docx', 'last_modified': '2025-07-08T17:17:29', 'languages': ['rus'], 'filetype': 'application/vnd.openxmlformats-officedocument.wordprocessingml.document', 'parent_id': 'b4b07dbbe3cbbbad4e0c96aac991c02a', 'category': 'UncategorizedText', 'element_id': '82cc5ef82b56ce3b793e12eecc4ac3a2'}, page_content='При подготовке к ремонту необходимо выполнять следующие работы:'),\n",
       " Document(metadata={'source': 'data/data_processing/РАЗДЕЛ 6/РАЗДЕЛ 6.docx', 'category_depth': 0, 'file_directory': 'data/data_processing/РАЗДЕЛ 6', 'filename': 'РАЗДЕЛ 6.docx', 'last_modified': '2025-07-08T17:17:29', 'languages': ['rus'], 'filetype': 'application/vnd.openxmlformats-officedocument.wordprocessingml.document', 'parent_id': 'b4b07dbbe3cbbbad4e0c96aac991c02a', 'category': 'UncategorizedText', 'element_id': '1cd0375ea04f7b808fba53674f2d61d8'}, page_content='–остановить насос (компрессор), перекрыть все задвижки, охладить ;'),\n",
       " Document(metadata={'source': 'data/data_processing/РАЗДЕЛ 6/РАЗДЕЛ 6.docx', 'category_depth': 0, 'file_directory': 'data/data_processing/РАЗДЕЛ 6', 'filename': 'РАЗДЕЛ 6.docx', 'last_modified': '2025-07-08T17:17:29', 'languages': ['rus'], 'filetype': 'application/vnd.openxmlformats-officedocument.wordprocessingml.document', 'parent_id': 'b4b07dbbe3cbbbad4e0c96aac991c02a', 'category': 'NarrativeText', 'element_id': '6f7035de203321eb86788e2e4029ece4'}, page_content='–сдренировать нефтепродукт из насоса (компрессора) в заглубленную ёмкость ;'),\n",
       " Document(metadata={'source': 'data/data_processing/РАЗДЕЛ 6/РАЗДЕЛ 6.docx', 'category_depth': 0, 'file_directory': 'data/data_processing/РАЗДЕЛ 6', 'filename': 'РАЗДЕЛ 6.docx', 'last_modified': '2025-07-08T17:17:29', 'languages': ['rus'], 'filetype': 'application/vnd.openxmlformats-officedocument.wordprocessingml.document', 'parent_id': 'b4b07dbbe3cbbbad4e0c96aac991c02a', 'category': 'NarrativeText', 'element_id': '85dbd858debea816ba7b456bacf6efe2'}, page_content='–продуть корпус насоса (компрессора) инертным газом на факел (где это возможно) и промыть водой насосы, циркуляции нейтрализующего раствора (содового раствора);'),\n",
       " Document(metadata={'source': 'data/data_processing/РАЗДЕЛ 6/РАЗДЕЛ 6.docx', 'category_depth': 0, 'file_directory': 'data/data_processing/РАЗДЕЛ 6', 'filename': 'РАЗДЕЛ 6.docx', 'last_modified': '2025-07-08T17:17:29', 'languages': ['rus'], 'filetype': 'application/vnd.openxmlformats-officedocument.wordprocessingml.document', 'parent_id': 'b4b07dbbe3cbbbad4e0c96aac991c02a', 'category': 'UncategorizedText', 'element_id': '828345571fa3de219b477249e6e0aac2'}, page_content='–отглушить приемные и выкидные трубопроводы;'),\n",
       " Document(metadata={'source': 'data/data_processing/РАЗДЕЛ 6/РАЗДЕЛ 6.docx', 'category_depth': 0, 'file_directory': 'data/data_processing/РАЗДЕЛ 6', 'filename': 'РАЗДЕЛ 6.docx', 'last_modified': '2025-07-08T17:17:29', 'languages': ['rus'], 'filetype': 'application/vnd.openxmlformats-officedocument.wordprocessingml.document', 'parent_id': 'b4b07dbbe3cbbbad4e0c96aac991c02a', 'category': 'UncategorizedText', 'element_id': 'e612cf87baba1abf1623efeeb377c6f2'}, page_content='–отглушить трубопровод продувки на факел и дренаж;'),\n",
       " Document(metadata={'source': 'data/data_processing/РАЗДЕЛ 6/РАЗДЕЛ 6.docx', 'category_depth': 0, 'file_directory': 'data/data_processing/РАЗДЕЛ 6', 'filename': 'РАЗДЕЛ 6.docx', 'last_modified': '2025-07-08T17:17:29', 'languages': ['rus'], 'filetype': 'application/vnd.openxmlformats-officedocument.wordprocessingml.document', 'parent_id': 'b4b07dbbe3cbbbad4e0c96aac991c02a', 'category': 'UncategorizedText', 'element_id': 'e380d1a597d3c114b53086dfec601db0'}, page_content='–обесточить электродвигатель, для чего на подстанции снять предохранитель, а на пусковом устройстве электродвигателя вывесить плакат «НЕ ВКЛЮЧАТЬ»;'),\n",
       " Document(metadata={'source': 'data/data_processing/РАЗДЕЛ 6/РАЗДЕЛ 6.docx', 'category_depth': 0, 'file_directory': 'data/data_processing/РАЗДЕЛ 6', 'filename': 'РАЗДЕЛ 6.docx', 'last_modified': '2025-07-08T17:17:29', 'languages': ['rus'], 'filetype': 'application/vnd.openxmlformats-officedocument.wordprocessingml.document', 'parent_id': 'b4b07dbbe3cbbbad4e0c96aac991c02a', 'category': 'UncategorizedText', 'element_id': 'dd7bbd77f6cb205944621f96765cd73b'}, page_content='–работу производить инструментом не дающим искру ;'),\n",
       " Document(metadata={'source': 'data/data_processing/РАЗДЕЛ 6/РАЗДЕЛ 6.docx', 'category_depth': 0, 'file_directory': 'data/data_processing/РАЗДЕЛ 6', 'filename': 'РАЗДЕЛ 6.docx', 'last_modified': '2025-07-08T17:17:29', 'languages': ['rus'], 'filetype': 'application/vnd.openxmlformats-officedocument.wordprocessingml.document', 'parent_id': 'b4b07dbbe3cbbbad4e0c96aac991c02a', 'category': 'UncategorizedText', 'element_id': 'b1bf36e8639a54d81e115a16c3151e5e'}, page_content='–при подготовке компрессора К–201 А/В продувка производится на свечу.'),\n",
       " Document(metadata={'source': 'data/data_processing/РАЗДЕЛ 6/РАЗДЕЛ 6.docx', 'category_depth': 0, 'emphasized_text_contents': ['6.6.6 Подготовка к ремонту теплообменников, холодильников'], 'emphasized_text_tags': ['b'], 'file_directory': 'data/data_processing/РАЗДЕЛ 6', 'filename': 'РАЗДЕЛ 6.docx', 'last_modified': '2025-07-08T17:17:29', 'languages': ['rus'], 'filetype': 'application/vnd.openxmlformats-officedocument.wordprocessingml.document', 'parent_id': 'b4b07dbbe3cbbbad4e0c96aac991c02a', 'category': 'UncategorizedText', 'element_id': '704422f4bc9153f62a33f1420d57e8b8'}, page_content='6.6.6 Подготовка к ремонту теплообменников, холодильников'),\n",
       " Document(metadata={'source': 'data/data_processing/РАЗДЕЛ 6/РАЗДЕЛ 6.docx', 'category_depth': 0, 'file_directory': 'data/data_processing/РАЗДЕЛ 6', 'filename': 'РАЗДЕЛ 6.docx', 'last_modified': '2025-07-08T17:17:29', 'languages': ['rus'], 'filetype': 'application/vnd.openxmlformats-officedocument.wordprocessingml.document', 'parent_id': 'b4b07dbbe3cbbbad4e0c96aac991c02a', 'category': 'UncategorizedText', 'element_id': 'e252e9f685eed8f90caf55ae1f0f3029'}, page_content='–отключить аппарат или, если это невозможно, группу аппаратов перекрытием задвижек и охладить ;'),\n",
       " Document(metadata={'source': 'data/data_processing/РАЗДЕЛ 6/РАЗДЕЛ 6.docx', 'category_depth': 0, 'file_directory': 'data/data_processing/РАЗДЕЛ 6', 'filename': 'РАЗДЕЛ 6.docx', 'last_modified': '2025-07-08T17:17:29', 'languages': ['rus'], 'filetype': 'application/vnd.openxmlformats-officedocument.wordprocessingml.document', 'parent_id': 'b4b07dbbe3cbbbad4e0c96aac991c02a', 'category': 'UncategorizedText', 'element_id': 'c64d6dbc781480bb7de27915745f600e'}, page_content='–освободить аппарат от продукта по пучку и межтрубному пространству ;'),\n",
       " Document(metadata={'source': 'data/data_processing/РАЗДЕЛ 6/РАЗДЕЛ 6.docx', 'category_depth': 0, 'file_directory': 'data/data_processing/РАЗДЕЛ 6', 'filename': 'РАЗДЕЛ 6.docx', 'last_modified': '2025-07-08T17:17:29', 'languages': ['rus'], 'filetype': 'application/vnd.openxmlformats-officedocument.wordprocessingml.document', 'parent_id': 'b4b07dbbe3cbbbad4e0c96aac991c02a', 'category': 'UncategorizedText', 'element_id': 'fd738a2f7e1f516c0edb24783b669c08'}, page_content='–отглушить от всех трубопроводов ;'),\n",
       " Document(metadata={'source': 'data/data_processing/РАЗДЕЛ 6/РАЗДЕЛ 6.docx', 'category_depth': 0, 'file_directory': 'data/data_processing/РАЗДЕЛ 6', 'filename': 'РАЗДЕЛ 6.docx', 'last_modified': '2025-07-08T17:17:29', 'languages': ['rus'], 'filetype': 'application/vnd.openxmlformats-officedocument.wordprocessingml.document', 'parent_id': 'b4b07dbbe3cbbbad4e0c96aac991c02a', 'category': 'UncategorizedText', 'element_id': 'f7ce81aafdb41e14e4746fcb8de445b2'}, page_content='–пропарить или продуть инертным газом, промыть при необходимости водой (особенно при наличии пирофорных соединений) ;'),\n",
       " Document(metadata={'source': 'data/data_processing/РАЗДЕЛ 6/РАЗДЕЛ 6.docx', 'category_depth': 0, 'file_directory': 'data/data_processing/РАЗДЕЛ 6', 'filename': 'РАЗДЕЛ 6.docx', 'last_modified': '2025-07-08T17:17:29', 'languages': ['rus'], 'filetype': 'application/vnd.openxmlformats-officedocument.wordprocessingml.document', 'parent_id': 'b4b07dbbe3cbbbad4e0c96aac991c02a', 'category': 'UncategorizedText', 'element_id': '7e57ed468fdb22e5d513dee5c7007b18'}, page_content='–после пропарки, продувки, промывки отглушить дренажи и трубопровод пропарки ;'),\n",
       " Document(metadata={'source': 'data/data_processing/РАЗДЕЛ 6/РАЗДЕЛ 6.docx', 'category_depth': 0, 'file_directory': 'data/data_processing/РАЗДЕЛ 6', 'filename': 'РАЗДЕЛ 6.docx', 'last_modified': '2025-07-08T17:17:29', 'languages': ['rus'], 'filetype': 'application/vnd.openxmlformats-officedocument.wordprocessingml.document', 'parent_id': 'b4b07dbbe3cbbbad4e0c96aac991c02a', 'category': 'UncategorizedText', 'element_id': 'ae500c266687f35c8c6c8aa85c52165c'}, page_content='–взять анализ воздуха и приступить к ремонту.'),\n",
       " Document(metadata={'source': 'data/data_processing/РАЗДЕЛ 6/РАЗДЕЛ 6.docx', 'category_depth': 0, 'file_directory': 'data/data_processing/РАЗДЕЛ 6', 'filename': 'РАЗДЕЛ 6.docx', 'last_modified': '2025-07-08T17:17:29', 'languages': ['rus'], 'filetype': 'application/vnd.openxmlformats-officedocument.wordprocessingml.document', 'parent_id': 'b4b07dbbe3cbbbad4e0c96aac991c02a', 'category': 'UncategorizedText', 'element_id': 'b3a5e04812f5f8d97b2665ef6db70a71'}, page_content='Приступать к ремонту оборудования разрешается только с разрешения руководства и выдачи наряда-допуска для производства работ.'),\n",
       " Document(metadata={'source': 'data/data_processing/РАЗДЕЛ 6/РАЗДЕЛ 6.docx', 'category_depth': 0, 'file_directory': 'data/data_processing/РАЗДЕЛ 6', 'filename': 'РАЗДЕЛ 6.docx', 'last_modified': '2025-07-08T17:17:29', 'languages': ['rus'], 'filetype': 'application/vnd.openxmlformats-officedocument.wordprocessingml.document', 'parent_id': 'b4b07dbbe3cbbbad4e0c96aac991c02a', 'category': 'UncategorizedText', 'element_id': '3a08955846f0cc71cb7b5ddb8ea3afd9'}, page_content='При этом необходимо выполнять все правила, предусмотренные инструкцией по технике безопасности и пожарной безопасности для производства ремонтных работ.'),\n",
       " Document(metadata={'source': 'data/data_processing/РАЗДЕЛ 6/РАЗДЕЛ 6.docx', 'category_depth': 0, 'file_directory': 'data/data_processing/РАЗДЕЛ 6', 'filename': 'РАЗДЕЛ 6.docx', 'last_modified': '2025-07-08T17:17:29', 'languages': ['rus'], 'filetype': 'application/vnd.openxmlformats-officedocument.wordprocessingml.document', 'parent_id': 'b4b07dbbe3cbbbad4e0c96aac991c02a', 'category': 'NarrativeText', 'element_id': 'fe6064ba37fa02045238301c46b28bf7'}, page_content='При разбалчивании фланцевых соединений, сначала ослабляют нижние шпильки с противоположной стороны и только после этого–от себя. Раздавать фланцевые соединения необходимо осторожно, убедиться в отсутствии давления и продукта.'),\n",
       " Document(metadata={'source': 'data/data_processing/РАЗДЕЛ 6/РАЗДЕЛ 6.docx', 'category_depth': 0, 'file_directory': 'data/data_processing/РАЗДЕЛ 6', 'filename': 'РАЗДЕЛ 6.docx', 'last_modified': '2025-07-08T17:17:29', 'languages': ['rus'], 'filetype': 'application/vnd.openxmlformats-officedocument.wordprocessingml.document', 'parent_id': 'b4b07dbbe3cbbbad4e0c96aac991c02a', 'category': 'UncategorizedText', 'element_id': '907b1cd1cd4ff7fde10758f4cfe981c7'}, page_content='Слесарный инструмент должен быть неискрящим.'),\n",
       " Document(metadata={'source': 'data/data_processing/РАЗДЕЛ 6/РАЗДЕЛ 6.docx', 'category_depth': 0, 'emphasized_text_contents': ['6.7 Энергообеспечение'], 'emphasized_text_tags': ['b'], 'file_directory': 'data/data_processing/РАЗДЕЛ 6', 'filename': 'РАЗДЕЛ 6.docx', 'last_modified': '2025-07-08T17:17:29', 'languages': ['rus'], 'filetype': 'application/vnd.openxmlformats-officedocument.wordprocessingml.document', 'parent_id': 'b4b07dbbe3cbbbad4e0c96aac991c02a', 'category': 'UncategorizedText', 'element_id': '7a081cf2abb1ac6fe4b7095fb879c069'}, page_content='6.7 Энергообеспечение'),\n",
       " Document(metadata={'source': 'data/data_processing/РАЗДЕЛ 6/РАЗДЕЛ 6.docx', 'category_depth': 0, 'file_directory': 'data/data_processing/РАЗДЕЛ 6', 'filename': 'РАЗДЕЛ 6.docx', 'last_modified': '2025-07-08T17:17:29', 'languages': ['rus'], 'filetype': 'application/vnd.openxmlformats-officedocument.wordprocessingml.document', 'parent_id': 'b4b07dbbe3cbbbad4e0c96aac991c02a', 'category': 'UncategorizedText', 'element_id': '9644efddf38479bf0e526217bc11c0c7'}, page_content='Снабжение секции сырьем, реагентами и другими материалами.'),\n",
       " Document(metadata={'source': 'data/data_processing/РАЗДЕЛ 6/РАЗДЕЛ 6.docx', 'category_depth': 0, 'emphasized_text_contents': ['6.7.1 Снабжение сырьем'], 'emphasized_text_tags': ['b'], 'file_directory': 'data/data_processing/РАЗДЕЛ 6', 'filename': 'РАЗДЕЛ 6.docx', 'last_modified': '2025-07-08T17:17:29', 'languages': ['rus'], 'filetype': 'application/vnd.openxmlformats-officedocument.wordprocessingml.document', 'parent_id': 'b4b07dbbe3cbbbad4e0c96aac991c02a', 'category': 'UncategorizedText', 'element_id': 'd318792109c29c6b77d2f4858c1785be'}, page_content='6.7.1 Снабжение сырьем'),\n",
       " Document(metadata={'source': 'data/data_processing/РАЗДЕЛ 6/РАЗДЕЛ 6.docx', 'category_depth': 0, 'file_directory': 'data/data_processing/РАЗДЕЛ 6', 'filename': 'РАЗДЕЛ 6.docx', 'last_modified': '2025-07-08T17:17:29', 'languages': ['rus'], 'filetype': 'application/vnd.openxmlformats-officedocument.wordprocessingml.document', 'parent_id': 'b4b07dbbe3cbbbad4e0c96aac991c02a', 'category': 'ListItem', 'element_id': '569dcf57c0e7d18a3eefe9c4654bb1aa'}, page_content='Сырьем секции 100 является стабильный гидрогенизат (секции 400 КОМТ) изготовленный по стандарту организации. Сырьем секции 200–каталитический риформинг- является фракция 85-180 С из секции100. Основные требования к сырью изложены в разделе 2.'),\n",
       " Document(metadata={'source': 'data/data_processing/РАЗДЕЛ 6/РАЗДЕЛ 6.docx', 'category_depth': 0, 'emphasized_text_contents': ['6.7.2 Снабжение установки катализаторами и реагентами'], 'emphasized_text_tags': ['b'], 'file_directory': 'data/data_processing/РАЗДЕЛ 6', 'filename': 'РАЗДЕЛ 6.docx', 'last_modified': '2025-07-08T17:17:29', 'languages': ['rus'], 'filetype': 'application/vnd.openxmlformats-officedocument.wordprocessingml.document', 'parent_id': 'b4b07dbbe3cbbbad4e0c96aac991c02a', 'category': 'UncategorizedText', 'element_id': 'c0ddc904c97121fcf3ee9184edd38457'}, page_content='6.7.2 Снабжение установки катализаторами и реагентами'),\n",
       " Document(metadata={'source': 'data/data_processing/РАЗДЕЛ 6/РАЗДЕЛ 6.docx', 'category_depth': 0, 'file_directory': 'data/data_processing/РАЗДЕЛ 6', 'filename': 'РАЗДЕЛ 6.docx', 'last_modified': '2025-07-08T17:17:29', 'languages': ['rus'], 'filetype': 'application/vnd.openxmlformats-officedocument.wordprocessingml.document', 'parent_id': 'b4b07dbbe3cbbbad4e0c96aac991c02a', 'category': 'NarrativeText', 'element_id': '24ee5fb8644c571558a653d594f88b5a'}, page_content='Полиметаллический катализатор марки РБ-44У марки «Ш» по ТУ 2177-023-23092878-2002 Изм.3 используется на риформинге. Единовременная загрузка 9,000 т насыпной плотностью 0,80 г/см3. Срок службы 7 лет.'),\n",
       " Document(metadata={'source': 'data/data_processing/РАЗДЕЛ 6/РАЗДЕЛ 6.docx', 'category_depth': 0, 'file_directory': 'data/data_processing/РАЗДЕЛ 6', 'filename': 'РАЗДЕЛ 6.docx', 'last_modified': '2025-07-08T17:17:29', 'languages': ['rus'], 'filetype': 'application/vnd.openxmlformats-officedocument.wordprocessingml.document', 'parent_id': 'b4b07dbbe3cbbbad4e0c96aac991c02a', 'category': 'NarrativeText', 'element_id': 'ab060e8679cbbf3ab24ae2246081aed5'}, page_content='Полиметаллический катализатор риформинга фирмы АО «АНХК» марки КР-108 У по ТУ 2177-019-04610600-99 используется на риформинге. Единовременная  загрузка 6,500 т насыпной плотностью 0,70 г/см3. Срок службы 5 лет.'),\n",
       " Document(metadata={'source': 'data/data_processing/РАЗДЕЛ 6/РАЗДЕЛ 6.docx', 'category_depth': 0, 'file_directory': 'data/data_processing/РАЗДЕЛ 6', 'filename': 'РАЗДЕЛ 6.docx', 'last_modified': '2025-07-08T17:17:29', 'languages': ['rus'], 'filetype': 'application/vnd.openxmlformats-officedocument.wordprocessingml.document', 'parent_id': 'b4b07dbbe3cbbbad4e0c96aac991c02a', 'category': 'NarrativeText', 'element_id': '5c799a9de75f88234b0ce50a435a5a86'}, page_content='Монометаллический катализатор риформинга фирмы АО «АНХК» марки АП-56 по ТУ-2177-011-04749189-95 используется для превращения углеводородов в реакторе R-204. Единовременная загрузка 0,700 т насыпной плотностью 0,80 г/см3. Срок службы–3 года.'),\n",
       " Document(metadata={'source': 'data/data_processing/РАЗДЕЛ 6/РАЗДЕЛ 6.docx', 'category_depth': 0, 'file_directory': 'data/data_processing/РАЗДЕЛ 6', 'filename': 'РАЗДЕЛ 6.docx', 'last_modified': '2025-07-08T17:17:29', 'languages': ['rus'], 'filetype': 'application/vnd.openxmlformats-officedocument.wordprocessingml.document', 'parent_id': 'b4b07dbbe3cbbbad4e0c96aac991c02a', 'category': 'NarrativeText', 'element_id': '8df1bee73880d32bab42a66f5a41b726'}, page_content='Адсорбент глубокой сероочистки фирмы АО «АНХК» марки АГС-60 по ТУ-2163-004-23092878-99 изм.1 используется для очистки углеводородного сырья от серосодержащих соединений. Единовременная загрузка 12,500 т насыпной плотностью 1,0 г/см3. Срок службы–1 год.'),\n",
       " Document(metadata={'source': 'data/data_processing/РАЗДЕЛ 6/РАЗДЕЛ 6.docx', 'category_depth': 0, 'file_directory': 'data/data_processing/РАЗДЕЛ 6', 'filename': 'РАЗДЕЛ 6.docx', 'last_modified': '2025-07-08T17:17:29', 'languages': ['rus'], 'filetype': 'application/vnd.openxmlformats-officedocument.wordprocessingml.document', 'parent_id': 'b4b07dbbe3cbbbad4e0c96aac991c02a', 'category': 'NarrativeText', 'element_id': '181903cbdfb42ad8628fdd2465b56378'}, page_content='Катализаторы поставляются на установку в металлических бочках. Необходимо избегать попадания прямых солнечных и атмосферных осадков. Хранение бочек на секции не предусматривается.'),\n",
       " Document(metadata={'source': 'data/data_processing/РАЗДЕЛ 6/РАЗДЕЛ 6.docx', 'category_depth': 0, 'file_directory': 'data/data_processing/РАЗДЕЛ 6', 'filename': 'РАЗДЕЛ 6.docx', 'last_modified': '2025-07-08T17:17:29', 'languages': ['rus'], 'filetype': 'application/vnd.openxmlformats-officedocument.wordprocessingml.document', 'parent_id': 'b4b07dbbe3cbbbad4e0c96aac991c02a', 'category': 'UncategorizedText', 'element_id': '5eecde935985660e8ed6742ce67589ad'}, page_content='Хлорорганическое соединение подается в сырье и реакторы каталитического риформинга в качестве активатора катализатора.'),\n",
       " Document(metadata={'source': 'data/data_processing/РАЗДЕЛ 6/РАЗДЕЛ 6.docx', 'category_depth': 0, 'file_directory': 'data/data_processing/РАЗДЕЛ 6', 'filename': 'РАЗДЕЛ 6.docx', 'last_modified': '2025-07-08T17:17:29', 'languages': ['rus'], 'filetype': 'application/vnd.openxmlformats-officedocument.wordprocessingml.document', 'parent_id': 'b4b07dbbe3cbbbad4e0c96aac991c02a', 'category': 'UncategorizedText', 'element_id': '15d439128576501ad456cbda97730f7b'}, page_content='Потребляется как в цикле реакции при нормальной эксплуатации, так и при регенерации катализатора один раз в год.'),\n",
       " Document(metadata={'source': 'data/data_processing/РАЗДЕЛ 6/РАЗДЕЛ 6.docx', 'category_depth': 0, 'file_directory': 'data/data_processing/РАЗДЕЛ 6', 'filename': 'РАЗДЕЛ 6.docx', 'last_modified': '2025-07-08T17:17:29', 'languages': ['rus'], 'filetype': 'application/vnd.openxmlformats-officedocument.wordprocessingml.document', 'parent_id': 'b4b07dbbe3cbbbad4e0c96aac991c02a', 'category': 'UncategorizedText', 'element_id': '447b323b0baf81a997a2ca8e00151107'}, page_content='С этой целью используется четыреххлористый углерод (ГОСТ 20288-74) или дихлорэтан (ГОСТ 1942-86) поступающий на установку в металлических бочках емкостью 100-200 л.'),\n",
       " Document(metadata={'source': 'data/data_processing/РАЗДЕЛ 6/РАЗДЕЛ 6.docx', 'category_depth': 0, 'file_directory': 'data/data_processing/РАЗДЕЛ 6', 'filename': 'РАЗДЕЛ 6.docx', 'last_modified': '2025-07-08T17:17:29', 'languages': ['rus'], 'filetype': 'application/vnd.openxmlformats-officedocument.wordprocessingml.document', 'parent_id': 'b4b07dbbe3cbbbad4e0c96aac991c02a', 'category': 'NarrativeText', 'element_id': '46cc21de979fcfe4243de2ad6a694162'}, page_content='Единовременная загрузка–1 бочка, емкостью 200 л. Годовой расход –1130 кг.'),\n",
       " Document(metadata={'source': 'data/data_processing/РАЗДЕЛ 6/РАЗДЕЛ 6.docx', 'category_depth': 0, 'file_directory': 'data/data_processing/РАЗДЕЛ 6', 'filename': 'РАЗДЕЛ 6.docx', 'last_modified': '2025-07-08T17:17:29', 'languages': ['rus'], 'filetype': 'application/vnd.openxmlformats-officedocument.wordprocessingml.document', 'parent_id': 'b4b07dbbe3cbbbad4e0c96aac991c02a', 'category': 'NarrativeText', 'element_id': 'ad07c0b918ce595b5c5f3c2e509278ec'}, page_content='Сероорганическое соединение применяется для осернения катализатора риформинга. Для этой цели используется ТБПС-454 (ди-третичный бутил полисульфид) или этилмеркаптан (ТУ 02-511-80). Поступает на установку в бутылях, емкостью 5-10 л. Единовременная загрузка–1 бутыль.'),\n",
       " Document(metadata={'source': 'data/data_processing/РАЗДЕЛ 6/РАЗДЕЛ 6.docx', 'category_depth': 0, 'file_directory': 'data/data_processing/РАЗДЕЛ 6', 'filename': 'РАЗДЕЛ 6.docx', 'last_modified': '2025-07-08T17:17:29', 'languages': ['rus'], 'filetype': 'application/vnd.openxmlformats-officedocument.wordprocessingml.document', 'parent_id': 'b4b07dbbe3cbbbad4e0c96aac991c02a', 'category': 'NarrativeText', 'element_id': 'd64830c6d38e435dc5822ff91548c795'}, page_content='Потребление периодическое при регенерации катализатора раз в 1 год. Годовой расход - 20\\xa0кг.'),\n",
       " Document(metadata={'source': 'data/data_processing/РАЗДЕЛ 6/РАЗДЕЛ 6.docx', 'category_depth': 0, 'file_directory': 'data/data_processing/РАЗДЕЛ 6', 'filename': 'РАЗДЕЛ 6.docx', 'last_modified': '2025-07-08T17:17:29', 'languages': ['rus'], 'filetype': 'application/vnd.openxmlformats-officedocument.wordprocessingml.document', 'parent_id': 'b4b07dbbe3cbbbad4e0c96aac991c02a', 'category': 'UncategorizedText', 'element_id': '208a769d78b0e5c9d9f2ffef9485ef69'}, page_content='Для поддержания необходимого уровня влаги в системе риформинга используется водяной конденсат.'),\n",
       " Document(metadata={'source': 'data/data_processing/РАЗДЕЛ 6/РАЗДЕЛ 6.docx', 'category_depth': 0, 'file_directory': 'data/data_processing/РАЗДЕЛ 6', 'filename': 'РАЗДЕЛ 6.docx', 'last_modified': '2025-07-08T17:17:29', 'languages': ['rus'], 'filetype': 'application/vnd.openxmlformats-officedocument.wordprocessingml.document', 'parent_id': 'b4b07dbbe3cbbbad4e0c96aac991c02a', 'category': 'NarrativeText', 'element_id': '3afbc447b2dbb2c7762071f961eb05b8'}, page_content='Кальцинированная сода 100% (ГОСТ 5100-84) используется для приготовления нейтрализующего раствора (содового раствора) при проведение регенерации катализатора риформинга рН=8-11. Раствор готовится на установке путем разбавления конденсатом.'),\n",
       " Document(metadata={'source': 'data/data_processing/РАЗДЕЛ 6/РАЗДЕЛ 6.docx', 'category_depth': 0, 'file_directory': 'data/data_processing/РАЗДЕЛ 6', 'filename': 'РАЗДЕЛ 6.docx', 'last_modified': '2025-07-08T17:17:29', 'languages': ['rus'], 'filetype': 'application/vnd.openxmlformats-officedocument.wordprocessingml.document', 'parent_id': 'b4b07dbbe3cbbbad4e0c96aac991c02a', 'category': 'NarrativeText', 'element_id': '2b3d08ee77a6d78a242b0c3900f67a28'}, page_content='Единовременное потребление -250 кг. Годовой расход 700 кг.'),\n",
       " Document(metadata={'source': 'data/data_processing/РАЗДЕЛ 6/РАЗДЕЛ 6.docx', 'category_depth': 0, 'file_directory': 'data/data_processing/РАЗДЕЛ 6', 'filename': 'РАЗДЕЛ 6.docx', 'last_modified': '2025-07-08T17:17:29', 'languages': ['rus'], 'filetype': 'application/vnd.openxmlformats-officedocument.wordprocessingml.document', 'parent_id': 'b4b07dbbe3cbbbad4e0c96aac991c02a', 'category': 'UncategorizedText', 'element_id': 'c7fe6a2dc87991c1aa445f758de133b9'}, page_content='Отработанные растворы соды, ингибитора коррозии сбрасываются во 2-ую общезаводскую систему промканализации.'),\n",
       " Document(metadata={'source': 'data/data_processing/РАЗДЕЛ 6/РАЗДЕЛ 6.docx', 'category_depth': 0, 'emphasized_text_contents': ['6.7.3 Снабжение водородом'], 'emphasized_text_tags': ['b'], 'file_directory': 'data/data_processing/РАЗДЕЛ 6', 'filename': 'РАЗДЕЛ 6.docx', 'last_modified': '2025-07-08T17:17:29', 'languages': ['rus'], 'filetype': 'application/vnd.openxmlformats-officedocument.wordprocessingml.document', 'parent_id': 'b4b07dbbe3cbbbad4e0c96aac991c02a', 'category': 'UncategorizedText', 'element_id': '8d76563354522aecdba2d0369af564d7'}, page_content='6.7.3 Снабжение водородом'),\n",
       " Document(metadata={'source': 'data/data_processing/РАЗДЕЛ 6/РАЗДЕЛ 6.docx', 'category_depth': 0, 'file_directory': 'data/data_processing/РАЗДЕЛ 6', 'filename': 'РАЗДЕЛ 6.docx', 'last_modified': '2025-07-08T17:17:29', 'languages': ['rus'], 'filetype': 'application/vnd.openxmlformats-officedocument.wordprocessingml.document', 'parent_id': 'b4b07dbbe3cbbbad4e0c96aac991c02a', 'category': 'NarrativeText', 'element_id': '7817676e04248bd543dc6857b83e7515'}, page_content='Для пуска и восстановления катализаторов риформинга и сероочистки используется или водород технический (марка А), или собственный водородсодержащий газ. Для подачи ВСГ предусмотрено водородное хозяйство.'),\n",
       " Document(metadata={'source': 'data/data_processing/РАЗДЕЛ 6/РАЗДЕЛ 6.docx', 'category_depth': 0, 'file_directory': 'data/data_processing/РАЗДЕЛ 6', 'filename': 'РАЗДЕЛ 6.docx', 'last_modified': '2025-07-08T17:17:29', 'languages': ['rus'], 'filetype': 'application/vnd.openxmlformats-officedocument.wordprocessingml.document', 'parent_id': 'b4b07dbbe3cbbbad4e0c96aac991c02a', 'category': 'UncategorizedText', 'element_id': '95355cfcae2022452d667682128123f2'}, page_content='Требуемый состав:'),\n",
       " Document(metadata={'source': 'data/data_processing/РАЗДЕЛ 6/РАЗДЕЛ 6.docx', 'file_directory': 'data/data_processing/РАЗДЕЛ 6', 'filename': 'РАЗДЕЛ 6.docx', 'last_modified': '2025-07-08T17:17:29', 'text_as_html': '<table><tr><td>Водород технический (марка А)</td><td>ВСГ</td></tr><tr><td>Объемная доля водорода – не менее 99,99 %</td><td>Концентрация водорода в ВСГ не менее 92% об.</td></tr><tr><td>Суммарная объемная доля кислорода и азота – не более 0,01</td><td/></tr><tr><td>массовая концентрация водяных паров при 20°С 101,3 кПа: - в трубопроводах 0,5 г/м3; - в баллонах под давлением 0,2 г/м3</td><td/></tr></table>', 'languages': ['rus'], 'filetype': 'application/vnd.openxmlformats-officedocument.wordprocessingml.document', 'parent_id': 'b4b07dbbe3cbbbad4e0c96aac991c02a', 'category': 'Table', 'element_id': '1fec6d3e8c526e48f83242052c59e2b5'}, page_content='Водород технический (марка А) ВСГ Объемная доля водорода – не менее 99,99 % Концентрация водорода в ВСГ не менее 92% об. Суммарная объемная доля кислорода и азота – не более 0,01 массовая концентрация водяных паров при 20°С 101,3 кПа: - в трубопроводах 0,5 г/м3; - в баллонах под давлением 0,2 г/м3'),\n",
       " Document(metadata={'source': 'data/data_processing/РАЗДЕЛ 6/РАЗДЕЛ 6.docx', 'category_depth': 0, 'emphasized_text_contents': ['6.7.4 Снабжение установки инертным газом'], 'emphasized_text_tags': ['b'], 'file_directory': 'data/data_processing/РАЗДЕЛ 6', 'filename': 'РАЗДЕЛ 6.docx', 'last_modified': '2025-07-08T17:17:29', 'languages': ['rus'], 'filetype': 'application/vnd.openxmlformats-officedocument.wordprocessingml.document', 'parent_id': 'b4b07dbbe3cbbbad4e0c96aac991c02a', 'category': 'UncategorizedText', 'element_id': '8d593cf3d1e27c9e29b6d21173e580b8'}, page_content='6.7.4 Снабжение установки инертным газом'),\n",
       " Document(metadata={'source': 'data/data_processing/РАЗДЕЛ 6/РАЗДЕЛ 6.docx', 'category_depth': 0, 'file_directory': 'data/data_processing/РАЗДЕЛ 6', 'filename': 'РАЗДЕЛ 6.docx', 'last_modified': '2025-07-08T17:17:29', 'languages': ['rus'], 'filetype': 'application/vnd.openxmlformats-officedocument.wordprocessingml.document', 'parent_id': 'b4b07dbbe3cbbbad4e0c96aac991c02a', 'category': 'NarrativeText', 'element_id': '3e2e63d19ab8496fdfcdd6abf745bcaa'}, page_content='На установке используется инертный газ давлением 8 и 32 кгс/ см2 для регенерации катализатора риформинга и для испытания систем на плотность.'),\n",
       " Document(metadata={'source': 'data/data_processing/РАЗДЕЛ 6/РАЗДЕЛ 6.docx', 'category_depth': 0, 'file_directory': 'data/data_processing/РАЗДЕЛ 6', 'filename': 'РАЗДЕЛ 6.docx', 'last_modified': '2025-07-08T17:17:29', 'languages': ['rus'], 'filetype': 'application/vnd.openxmlformats-officedocument.wordprocessingml.document', 'parent_id': 'b4b07dbbe3cbbbad4e0c96aac991c02a', 'category': 'UncategorizedText', 'element_id': '13e0b3ec8727a553feb1f6cfe04fe35c'}, page_content='Часовой расход 300-500 нм3.'),\n",
       " Document(metadata={'source': 'data/data_processing/РАЗДЕЛ 6/РАЗДЕЛ 6.docx', 'category_depth': 0, 'file_directory': 'data/data_processing/РАЗДЕЛ 6', 'filename': 'РАЗДЕЛ 6.docx', 'last_modified': '2025-07-08T17:17:29', 'languages': ['rus'], 'filetype': 'application/vnd.openxmlformats-officedocument.wordprocessingml.document', 'parent_id': 'b4b07dbbe3cbbbad4e0c96aac991c02a', 'category': 'UncategorizedText', 'element_id': '7220637fa410d32f1b62b51756829e8e'}, page_content='Годовое потребление–1200 нм3.'),\n",
       " Document(metadata={'source': 'data/data_processing/РАЗДЕЛ 6/РАЗДЕЛ 6.docx', 'category_depth': 0, 'file_directory': 'data/data_processing/РАЗДЕЛ 6', 'filename': 'РАЗДЕЛ 6.docx', 'last_modified': '2025-07-08T17:17:29', 'languages': ['rus'], 'filetype': 'application/vnd.openxmlformats-officedocument.wordprocessingml.document', 'parent_id': 'b4b07dbbe3cbbbad4e0c96aac991c02a', 'category': 'NarrativeText', 'element_id': 'b2f72507ffefacbacec177996e8532e5'}, page_content='Инертный газ поступает из ОЗХ (об. 740-20) по эстакаде МЦК 930-01 линия “207”.'),\n",
       " Document(metadata={'source': 'data/data_processing/РАЗДЕЛ 6/РАЗДЕЛ 6.docx', 'category_depth': 0, 'file_directory': 'data/data_processing/РАЗДЕЛ 6', 'filename': 'РАЗДЕЛ 6.docx', 'last_modified': '2025-07-08T17:17:29', 'languages': ['rus'], 'filetype': 'application/vnd.openxmlformats-officedocument.wordprocessingml.document', 'parent_id': 'b4b07dbbe3cbbbad4e0c96aac991c02a', 'category': 'UncategorizedText', 'element_id': '9f2aaeddb1c30ff5a8b3b4f55bf3c30f'}, page_content='Требования по составу:'),\n",
       " Document(metadata={'source': 'data/data_processing/РАЗДЕЛ 6/РАЗДЕЛ 6.docx', 'category_depth': 0, 'file_directory': 'data/data_processing/РАЗДЕЛ 6', 'filename': 'РАЗДЕЛ 6.docx', 'last_modified': '2025-07-08T17:17:29', 'languages': ['rus'], 'filetype': 'application/vnd.openxmlformats-officedocument.wordprocessingml.document', 'parent_id': 'b4b07dbbe3cbbbad4e0c96aac991c02a', 'category': 'UncategorizedText', 'element_id': '5801df9f51207e68e26b0d3cdf6c3667'}, page_content='объемная доля азота –99,6 %'),\n",
       " Document(metadata={'source': 'data/data_processing/РАЗДЕЛ 6/РАЗДЕЛ 6.docx', 'category_depth': 0, 'file_directory': 'data/data_processing/РАЗДЕЛ 6', 'filename': 'РАЗДЕЛ 6.docx', 'last_modified': '2025-07-08T17:17:29', 'languages': ['rus'], 'filetype': 'application/vnd.openxmlformats-officedocument.wordprocessingml.document', 'parent_id': 'b4b07dbbe3cbbbad4e0c96aac991c02a', 'category': 'UncategorizedText', 'element_id': 'ba3caa251d2e567f84dbc0f2a22c4eab'}, page_content='объемная доля кислорода –0,4 %'),\n",
       " Document(metadata={'source': 'data/data_processing/РАЗДЕЛ 6/РАЗДЕЛ 6.docx', 'category_depth': 0, 'file_directory': 'data/data_processing/РАЗДЕЛ 6', 'filename': 'РАЗДЕЛ 6.docx', 'last_modified': '2025-07-08T17:17:29', 'languages': ['rus'], 'filetype': 'application/vnd.openxmlformats-officedocument.wordprocessingml.document', 'parent_id': 'b4b07dbbe3cbbbad4e0c96aac991c02a', 'category': 'NarrativeText', 'element_id': '71fe095faef5b6c227eab21a79c0644d'}, page_content='объемная доля водяного пара в газообразном азоте - не более 0,009'),\n",
       " Document(metadata={'source': 'data/data_processing/РАЗДЕЛ 6/РАЗДЕЛ 6.docx', 'category_depth': 0, 'emphasized_text_contents': ['6.7.5 Снабжение установки воздухом'], 'emphasized_text_tags': ['b'], 'file_directory': 'data/data_processing/РАЗДЕЛ 6', 'filename': 'РАЗДЕЛ 6.docx', 'last_modified': '2025-07-08T17:17:29', 'languages': ['rus'], 'filetype': 'application/vnd.openxmlformats-officedocument.wordprocessingml.document', 'parent_id': 'b4b07dbbe3cbbbad4e0c96aac991c02a', 'category': 'UncategorizedText', 'element_id': 'ebc7d0b11b587ec6dacff1dfd7661d04'}, page_content='6.7.5 Снабжение установки воздухом'),\n",
       " Document(metadata={'source': 'data/data_processing/РАЗДЕЛ 6/РАЗДЕЛ 6.docx', 'category_depth': 0, 'file_directory': 'data/data_processing/РАЗДЕЛ 6', 'filename': 'РАЗДЕЛ 6.docx', 'last_modified': '2025-07-08T17:17:29', 'languages': ['rus'], 'filetype': 'application/vnd.openxmlformats-officedocument.wordprocessingml.document', 'parent_id': 'b4b07dbbe3cbbbad4e0c96aac991c02a', 'category': 'NarrativeText', 'element_id': 'b48096bd73b1de078e983bb20cb2b41f'}, page_content='Установка потребляет сжатый воздух для пассивации катализатора сероочистки и регенерации катализатора риформинга и для ремонтных нужд от азотно-воздушной и водородной компрессорной (об.740-30) давлением 20 кгс/см2.'),\n",
       " Document(metadata={'source': 'data/data_processing/РАЗДЕЛ 6/РАЗДЕЛ 6.docx', 'category_depth': 0, 'file_directory': 'data/data_processing/РАЗДЕЛ 6', 'filename': 'РАЗДЕЛ 6.docx', 'last_modified': '2025-07-08T17:17:29', 'languages': ['rus'], 'filetype': 'application/vnd.openxmlformats-officedocument.wordprocessingml.document', 'parent_id': 'b4b07dbbe3cbbbad4e0c96aac991c02a', 'category': 'NarrativeText', 'element_id': 'b125b1e72c505250e542a32ad441da1a'}, page_content='Для питания приборов контроля и автоматики используется осушенный воздух с точкой росы ниже минимальной рабочей температуры не менее чем на 10ºС из АКС (об.740-20) по эстакаде МЦК 930-01 линия “215” с давлением 5-6 кгс/ см2.'),\n",
       " Document(metadata={'source': 'data/data_processing/РАЗДЕЛ 6/РАЗДЕЛ 6.docx', 'category_depth': 0, 'file_directory': 'data/data_processing/РАЗДЕЛ 6', 'filename': 'РАЗДЕЛ 6.docx', 'last_modified': '2025-07-08T17:17:29', 'languages': ['rus'], 'filetype': 'application/vnd.openxmlformats-officedocument.wordprocessingml.document', 'parent_id': 'b4b07dbbe3cbbbad4e0c96aac991c02a', 'category': 'NarrativeText', 'element_id': '61078bbf00ab77eb28513043e7075593'}, page_content='Потребление воздуха на регенерацию катализатора–145-1450 нм3/ час, в год~ 24 000 нм3.'),\n",
       " Document(metadata={'source': 'data/data_processing/РАЗДЕЛ 6/РАЗДЕЛ 6.docx', 'category_depth': 0, 'emphasized_text_contents': ['6.7.6 Снабжение установки топливом, паром, электроэнергией'], 'emphasized_text_tags': ['b'], 'file_directory': 'data/data_processing/РАЗДЕЛ 6', 'filename': 'РАЗДЕЛ 6.docx', 'last_modified': '2025-07-08T17:17:29', 'languages': ['rus'], 'filetype': 'application/vnd.openxmlformats-officedocument.wordprocessingml.document', 'parent_id': 'b4b07dbbe3cbbbad4e0c96aac991c02a', 'category': 'UncategorizedText', 'element_id': '28c893634241fda178128465e8c5390e'}, page_content='6.7.6 Снабжение установки топливом, паром, электроэнергией'),\n",
       " Document(metadata={'source': 'data/data_processing/РАЗДЕЛ 6/РАЗДЕЛ 6.docx', 'category_depth': 0, 'emphasized_text_contents': ['6.7.6.1 Топливоснабжение'], 'emphasized_text_tags': ['b'], 'file_directory': 'data/data_processing/РАЗДЕЛ 6', 'filename': 'РАЗДЕЛ 6.docx', 'last_modified': '2025-07-08T17:17:29', 'languages': ['rus'], 'filetype': 'application/vnd.openxmlformats-officedocument.wordprocessingml.document', 'parent_id': 'b4b07dbbe3cbbbad4e0c96aac991c02a', 'category': 'UncategorizedText', 'element_id': '3f62df193cb62ceade83317c9b8df435'}, page_content='6.7.6.1 Топливоснабжение'),\n",
       " Document(metadata={'source': 'data/data_processing/РАЗДЕЛ 6/РАЗДЕЛ 6.docx', 'category_depth': 0, 'file_directory': 'data/data_processing/РАЗДЕЛ 6', 'filename': 'РАЗДЕЛ 6.docx', 'last_modified': '2025-07-08T17:17:29', 'languages': ['rus'], 'filetype': 'application/vnd.openxmlformats-officedocument.wordprocessingml.document', 'parent_id': 'b4b07dbbe3cbbbad4e0c96aac991c02a', 'category': 'UncategorizedText', 'element_id': '23cacfde58022631c006d804d16cd6b5'}, page_content='В качестве топлива для печей используется топливный газ с АГРС теплотворной способностью 8453 ккал/ нм3, или сбросной газ с УСК-1 теплотворной способностью 14000 ккал/ нм3. '),\n",
       " Document(metadata={'source': 'data/data_processing/РАЗДЕЛ 6/РАЗДЕЛ 6.docx', 'category_depth': 0, 'file_directory': 'data/data_processing/РАЗДЕЛ 6', 'filename': 'РАЗДЕЛ 6.docx', 'last_modified': '2025-07-08T17:17:29', 'languages': ['rus'], 'filetype': 'application/vnd.openxmlformats-officedocument.wordprocessingml.document', 'parent_id': 'b4b07dbbe3cbbbad4e0c96aac991c02a', 'category': 'UncategorizedText', 'element_id': 'e8d2557af986c024cef0da2c4af59ca5'}, page_content='Параметры газа на границе установки:'),\n",
       " Document(metadata={'source': 'data/data_processing/РАЗДЕЛ 6/РАЗДЕЛ 6.docx', 'category_depth': 0, 'file_directory': 'data/data_processing/РАЗДЕЛ 6', 'filename': 'РАЗДЕЛ 6.docx', 'last_modified': '2025-07-08T17:17:29', 'languages': ['rus'], 'filetype': 'application/vnd.openxmlformats-officedocument.wordprocessingml.document', 'parent_id': 'b4b07dbbe3cbbbad4e0c96aac991c02a', 'category': 'UncategorizedText', 'element_id': '04e053643fa3fb38da6aafb121f6924a'}, page_content='давление–2,5 кгс/ см2'),\n",
       " Document(metadata={'source': 'data/data_processing/РАЗДЕЛ 6/РАЗДЕЛ 6.docx', 'category_depth': 0, 'file_directory': 'data/data_processing/РАЗДЕЛ 6', 'filename': 'РАЗДЕЛ 6.docx', 'last_modified': '2025-07-08T17:17:29', 'languages': ['rus'], 'filetype': 'application/vnd.openxmlformats-officedocument.wordprocessingml.document', 'parent_id': 'b4b07dbbe3cbbbad4e0c96aac991c02a', 'category': 'UncategorizedText', 'element_id': 'd686106f465129ae95b8b7837ab7f069'}, page_content='температура–27 0С'),\n",
       " Document(metadata={'source': 'data/data_processing/РАЗДЕЛ 6/РАЗДЕЛ 6.docx', 'category_depth': 0, 'emphasized_text_contents': ['6.7.6.2 Электроснабжение'], 'emphasized_text_tags': ['b'], 'file_directory': 'data/data_processing/РАЗДЕЛ 6', 'filename': 'РАЗДЕЛ 6.docx', 'last_modified': '2025-07-08T17:17:29', 'languages': ['rus'], 'filetype': 'application/vnd.openxmlformats-officedocument.wordprocessingml.document', 'parent_id': 'b4b07dbbe3cbbbad4e0c96aac991c02a', 'category': 'UncategorizedText', 'element_id': 'd8e3616a6673f8d4b60f3ab68525d94f'}, page_content='6.7.6.2 Электроснабжение'),\n",
       " Document(metadata={'source': 'data/data_processing/РАЗДЕЛ 6/РАЗДЕЛ 6.docx', 'category_depth': 0, 'file_directory': 'data/data_processing/РАЗДЕЛ 6', 'filename': 'РАЗДЕЛ 6.docx', 'last_modified': '2025-07-08T17:17:29', 'languages': ['rus'], 'filetype': 'application/vnd.openxmlformats-officedocument.wordprocessingml.document', 'parent_id': 'b4b07dbbe3cbbbad4e0c96aac991c02a', 'category': 'NarrativeText', 'element_id': '7c81966bb6b0b2fd9ae969e7f0233660'}, page_content='Электроснабжение потребителей УКР «Петрофак» 6кВ (электроприводы компрессоров К-201 А/В) осуществляется от ЗРУ-9 расположенной на территории установки.'),\n",
       " Document(metadata={'source': 'data/data_processing/РАЗДЕЛ 6/РАЗДЕЛ 6.docx', 'category_depth': 0, 'file_directory': 'data/data_processing/РАЗДЕЛ 6', 'filename': 'РАЗДЕЛ 6.docx', 'last_modified': '2025-07-08T17:17:29', 'languages': ['rus'], 'filetype': 'application/vnd.openxmlformats-officedocument.wordprocessingml.document', 'parent_id': 'b4b07dbbe3cbbbad4e0c96aac991c02a', 'category': 'NarrativeText', 'element_id': '8c86b0f0c7ebd3a43476c29805429b35'}, page_content='Электроснабжение потребителей ЩСУ МСС 0,4кВ УКР «Петрофак» осуществляется от трансформаторной подстанции 6/0,4 кВ ТП-19 с установленной мощностью трансформаторов 2*630 кВА.'),\n",
       " Document(metadata={'source': 'data/data_processing/РАЗДЕЛ 6/РАЗДЕЛ 6.docx', 'category_depth': 0, 'emphasized_text_contents': ['6.7.6.3 Теплоснабжение'], 'emphasized_text_tags': ['b'], 'file_directory': 'data/data_processing/РАЗДЕЛ 6', 'filename': 'РАЗДЕЛ 6.docx', 'last_modified': '2025-07-08T17:17:29', 'languages': ['rus'], 'filetype': 'application/vnd.openxmlformats-officedocument.wordprocessingml.document', 'parent_id': 'b4b07dbbe3cbbbad4e0c96aac991c02a', 'category': 'UncategorizedText', 'element_id': '4631f54a26d8bf905273cca9b719059d'}, page_content='6.7.6.3 Теплоснабжение'),\n",
       " Document(metadata={'source': 'data/data_processing/РАЗДЕЛ 6/РАЗДЕЛ 6.docx', 'category_depth': 0, 'file_directory': 'data/data_processing/РАЗДЕЛ 6', 'filename': 'РАЗДЕЛ 6.docx', 'last_modified': '2025-07-08T17:17:29', 'languages': ['rus'], 'filetype': 'application/vnd.openxmlformats-officedocument.wordprocessingml.document', 'parent_id': 'b4b07dbbe3cbbbad4e0c96aac991c02a', 'category': 'NarrativeText', 'element_id': '5f700653e8a92b2419df2a214862784d'}, page_content='Установка обеспечивается паром от заводских сетей. На границе установки имеется водяной пар следующего параметра:'),\n",
       " Document(metadata={'source': 'data/data_processing/РАЗДЕЛ 6/РАЗДЕЛ 6.docx', 'category_depth': 0, 'file_directory': 'data/data_processing/РАЗДЕЛ 6', 'filename': 'РАЗДЕЛ 6.docx', 'last_modified': '2025-07-08T17:17:29', 'languages': ['rus'], 'filetype': 'application/vnd.openxmlformats-officedocument.wordprocessingml.document', 'parent_id': 'b4b07dbbe3cbbbad4e0c96aac991c02a', 'category': 'UncategorizedText', 'element_id': 'a9a4b96ff38568402fafe8da2dddcf40'}, page_content='давление–10,0 кгс/см2'),\n",
       " Document(metadata={'source': 'data/data_processing/РАЗДЕЛ 6/РАЗДЕЛ 6.docx', 'category_depth': 0, 'file_directory': 'data/data_processing/РАЗДЕЛ 6', 'filename': 'РАЗДЕЛ 6.docx', 'last_modified': '2025-07-08T17:17:29', 'languages': ['rus'], 'filetype': 'application/vnd.openxmlformats-officedocument.wordprocessingml.document', 'parent_id': 'b4b07dbbe3cbbbad4e0c96aac991c02a', 'category': 'UncategorizedText', 'element_id': 'f6a956e4c502c0c2e2e56c78517aaf3a'}, page_content='температура–179 0С'),\n",
       " Document(metadata={'source': 'data/data_processing/РАЗДЕЛ 6/РАЗДЕЛ 6.docx', 'category_depth': 0, 'file_directory': 'data/data_processing/РАЗДЕЛ 6', 'filename': 'РАЗДЕЛ 6.docx', 'last_modified': '2025-07-08T17:17:29', 'languages': ['rus'], 'filetype': 'application/vnd.openxmlformats-officedocument.wordprocessingml.document', 'parent_id': 'b4b07dbbe3cbbbad4e0c96aac991c02a', 'category': 'UncategorizedText', 'element_id': '99f0a422bab2feffce5a66d4e13e9cb2'}, page_content='Водяной пар используется в качестве теплоносителя в рибойлере колонны Т-101, для обогрева аппаратов, паротушения и паровой завесы печей.'),\n",
       " Document(metadata={'source': 'data/data_processing/РАЗДЕЛ 6/РАЗДЕЛ 6.docx', 'category_depth': 0, 'emphasized_text_contents': ['6.7.7 Вспомогательные системы'], 'emphasized_text_tags': ['b'], 'file_directory': 'data/data_processing/РАЗДЕЛ 6', 'filename': 'РАЗДЕЛ 6.docx', 'last_modified': '2025-07-08T17:17:29', 'languages': ['rus'], 'filetype': 'application/vnd.openxmlformats-officedocument.wordprocessingml.document', 'parent_id': 'b4b07dbbe3cbbbad4e0c96aac991c02a', 'category': 'UncategorizedText', 'element_id': 'cb48e052295af10c266d0efc590a5707'}, page_content='6.7.7 Вспомогательные системы'),\n",
       " Document(metadata={'source': 'data/data_processing/РАЗДЕЛ 6/РАЗДЕЛ 6.docx', 'category_depth': 0, 'emphasized_text_contents': ['6.7.7.1 Система факела'], 'emphasized_text_tags': ['b'], 'file_directory': 'data/data_processing/РАЗДЕЛ 6', 'filename': 'РАЗДЕЛ 6.docx', 'last_modified': '2025-07-08T17:17:29', 'languages': ['rus'], 'filetype': 'application/vnd.openxmlformats-officedocument.wordprocessingml.document', 'parent_id': 'b4b07dbbe3cbbbad4e0c96aac991c02a', 'category': 'UncategorizedText', 'element_id': '73dd3a5a1371c9fd3c4047fa355fcdac'}, page_content='6.7.7.1 Система факела'),\n",
       " Document(metadata={'source': 'data/data_processing/РАЗДЕЛ 6/РАЗДЕЛ 6.docx', 'category_depth': 0, 'file_directory': 'data/data_processing/РАЗДЕЛ 6', 'filename': 'РАЗДЕЛ 6.docx', 'last_modified': '2025-07-08T17:17:29', 'languages': ['rus'], 'filetype': 'application/vnd.openxmlformats-officedocument.wordprocessingml.document', 'parent_id': 'b4b07dbbe3cbbbad4e0c96aac991c02a', 'category': 'UncategorizedText', 'element_id': '7cb057bb0e97b57b46e5e1ac4e108f9c'}, page_content='На установке имеется одна система сброса от предохранительных клапанов со взрывоопасными и токсичными продуктами.'),\n",
       " Document(metadata={'source': 'data/data_processing/РАЗДЕЛ 6/РАЗДЕЛ 6.docx', 'category_depth': 0, 'file_directory': 'data/data_processing/РАЗДЕЛ 6', 'filename': 'РАЗДЕЛ 6.docx', 'last_modified': '2025-07-08T17:17:29', 'languages': ['rus'], 'filetype': 'application/vnd.openxmlformats-officedocument.wordprocessingml.document', 'parent_id': 'b4b07dbbe3cbbbad4e0c96aac991c02a', 'category': 'UncategorizedText', 'element_id': 'f86306bcf0f1fb0f1a57590ab3c13f45'}, page_content='Сброс осуществляется в закрытую факельную систему.'),\n",
       " Document(metadata={'source': 'data/data_processing/РАЗДЕЛ 6/РАЗДЕЛ 6.docx', 'category_depth': 0, 'file_directory': 'data/data_processing/РАЗДЕЛ 6', 'filename': 'РАЗДЕЛ 6.docx', 'last_modified': '2025-07-08T17:17:29', 'languages': ['rus'], 'filetype': 'application/vnd.openxmlformats-officedocument.wordprocessingml.document', 'parent_id': 'b4b07dbbe3cbbbad4e0c96aac991c02a', 'category': 'NarrativeText', 'element_id': '7dd7fbe608c1074d4562e167dd15f851'}, page_content='Факельная емкость и насосы расположены за границей установки. Сбросы нетоксичных, невзрывоопасных продуктов осуществляются в атмосферу.'),\n",
       " Document(metadata={'source': 'data/data_processing/РАЗДЕЛ 6/РАЗДЕЛ 6.docx', 'category_depth': 0, 'emphasized_text_contents': ['6.7.7.2 Система дренажа'], 'emphasized_text_tags': ['b'], 'file_directory': 'data/data_processing/РАЗДЕЛ 6', 'filename': 'РАЗДЕЛ 6.docx', 'last_modified': '2025-07-08T17:17:29', 'languages': ['rus'], 'filetype': 'application/vnd.openxmlformats-officedocument.wordprocessingml.document', 'parent_id': 'b4b07dbbe3cbbbad4e0c96aac991c02a', 'category': 'UncategorizedText', 'element_id': 'e6e10e2ab25665373229e4cb53d9f96c'}, page_content='6.7.7.2 Система дренажа'),\n",
       " Document(metadata={'source': 'data/data_processing/РАЗДЕЛ 6/РАЗДЕЛ 6.docx', 'category_depth': 0, 'file_directory': 'data/data_processing/РАЗДЕЛ 6', 'filename': 'РАЗДЕЛ 6.docx', 'last_modified': '2025-07-08T17:17:29', 'languages': ['rus'], 'filetype': 'application/vnd.openxmlformats-officedocument.wordprocessingml.document', 'parent_id': 'b4b07dbbe3cbbbad4e0c96aac991c02a', 'category': 'UncategorizedText', 'element_id': '4e2ae7da998a3dc8c398c00a7ddb5fd0'}, page_content='При работе установки на нормальном технологическом режиме, постоянные сбросы в дренажную емкость отсутствуют.'),\n",
       " Document(metadata={'source': 'data/data_processing/РАЗДЕЛ 6/РАЗДЕЛ 6.docx', 'category_depth': 0, 'file_directory': 'data/data_processing/РАЗДЕЛ 6', 'filename': 'РАЗДЕЛ 6.docx', 'last_modified': '2025-07-08T17:17:29', 'languages': ['rus'], 'filetype': 'application/vnd.openxmlformats-officedocument.wordprocessingml.document', 'parent_id': 'b4b07dbbe3cbbbad4e0c96aac991c02a', 'category': 'UncategorizedText', 'element_id': 'da86a2012696426412122828c6733267'}, page_content='В емкость сбрасываются жидкие нефтепродукты при подготовке к ремонту колонн, емкостей, сепаратора, насосов, технологических трубопроводов.'),\n",
       " Document(metadata={'source': 'data/data_processing/РАЗДЕЛ 6/РАЗДЕЛ 6.docx', 'category_depth': 0, 'file_directory': 'data/data_processing/РАЗДЕЛ 6', 'filename': 'РАЗДЕЛ 6.docx', 'last_modified': '2025-07-08T17:17:29', 'languages': ['rus'], 'filetype': 'application/vnd.openxmlformats-officedocument.wordprocessingml.document', 'parent_id': 'b4b07dbbe3cbbbad4e0c96aac991c02a', 'category': 'UncategorizedText', 'element_id': 'b5c443ff2aa9ab597cc5fe988408266a'}, page_content='Жидкие нефтепродукты из дренажной емкости откачиваются насосом и направляются с установки в парк по линии некондиции.'),\n",
       " Document(metadata={'source': 'data/data_processing/РАЗДЕЛ 6/РАЗДЕЛ 6.docx', 'category_depth': 0, 'file_directory': 'data/data_processing/РАЗДЕЛ 6', 'filename': 'РАЗДЕЛ 6.docx', 'last_modified': '2025-07-08T17:17:29', 'languages': ['rus'], 'filetype': 'application/vnd.openxmlformats-officedocument.wordprocessingml.document', 'parent_id': 'b4b07dbbe3cbbbad4e0c96aac991c02a', 'category': 'NarrativeText', 'element_id': '7e44a85e856aac42b6d05281ce1974b9'}, page_content='Нормы расхода топлива, воды, пара, электроэнергии, катализаторов, реагентов представлены в таблице 6.7.'),\n",
       " Document(metadata={'source': 'data/data_processing/РАЗДЕЛ 6/РАЗДЕЛ 6.docx', 'category_depth': 0, 'file_directory': 'data/data_processing/РАЗДЕЛ 6', 'filename': 'РАЗДЕЛ 6.docx', 'last_modified': '2025-07-08T17:17:29', 'languages': ['rus'], 'filetype': 'application/vnd.openxmlformats-officedocument.wordprocessingml.document', 'parent_id': 'b4b07dbbe3cbbbad4e0c96aac991c02a', 'category': 'UncategorizedText', 'element_id': '8edfff6e30fbdf3a9f4be8b887b183eb'}, page_content='Таблица 6.7'),\n",
       " Document(metadata={'source': 'data/data_processing/РАЗДЕЛ 6/РАЗДЕЛ 6.docx', 'file_directory': 'data/data_processing/РАЗДЕЛ 6', 'filename': 'РАЗДЕЛ 6.docx', 'last_modified': '2025-07-08T17:17:29', 'text_as_html': '<table><tr><td>№ п/п</td><td>Наименование показателей</td><td>Единица измерения</td><td>Уд. норма расхода на тонну сырья</td><td>Примечание</td></tr><tr><td>1</td><td>2</td><td>3</td><td>4</td><td>5</td></tr><tr><td>1</td><td>Электроэнергия: 6000 в</td><td>тыс. кВт/час</td><td>45, 10</td><td/></tr><tr><td>1</td><td>Электроэнергия: 380 в</td><td>тыс. кВт/час</td><td>16,85</td><td/></tr><tr><td>2</td><td>Топливный газ Qp= 8453 ккал/нм3</td><td>нм3</td><td>76,8</td><td/></tr><tr><td>3</td><td>Сжатый воздух - Р= 20 кгс/ см2 на регенерацию катализатора</td><td>нм3</td><td>0,24</td><td/></tr><tr><td>3</td><td>Сжатый воздух - Р= 5÷6 кгс/см2 для приборов КИП и А</td><td>нм3</td><td>0,13</td><td/></tr><tr><td>4</td><td>Инертный газ (азот) Р= 8 кгс/ см2; Р= 32 кгс/ см2</td><td>нм3</td><td>0,012</td><td/></tr><tr><td>5</td><td>Водород технический</td><td>нм3</td><td>0,019</td><td/></tr><tr><td>6</td><td>Водяной пар Р= 10 кгс/ cм2</td><td>т</td><td>0,346</td><td/></tr><tr><td>7</td><td>Катализаторы: АП-56</td><td>т</td><td>0,70*10-5</td><td/></tr><tr><td>7</td><td>Катализаторы: АГС-60</td><td>т</td><td>12,545*10-5</td><td/></tr><tr><td>7</td><td>Катализаторы: КР-108 У</td><td>т</td><td>6,422* 10-5</td><td/></tr><tr><td>7</td><td>Катализаторы: РБ-44У марки «Ш»</td><td>т</td><td>8,89*10-5</td><td/></tr><tr><td>8</td><td>Дихлорэтан (ГОСТ 1942-86) Четыреххлористый углерод (ГОСТ 20288-74)</td><td>т</td><td>1,13* 10-5</td><td/></tr><tr><td>9</td><td>Этилмеркаптан (ТУ 02-511-80) Дитретичный бутил полисульфид (ТБПС-454)</td><td>т</td><td>0,02*10-5</td><td/></tr><tr><td>10</td><td>Кальцинированная сода 100 (ГОСТ 5100-84)</td><td>т</td><td>0,70*10-5</td><td/></tr></table>', 'languages': ['rus'], 'filetype': 'application/vnd.openxmlformats-officedocument.wordprocessingml.document', 'parent_id': 'b4b07dbbe3cbbbad4e0c96aac991c02a', 'category': 'Table', 'element_id': '33068445399edb040863f4d96ff73756'}, page_content='№ п/п Наименование показателей Единица измерения Уд. норма расхода на тонну сырья Примечание 1 2 3 4 5 1 Электроэнергия: 6000 в тыс. кВт/час 45, 10 1 Электроэнергия: 380 в тыс. кВт/час 16,85 2 Топливный газ Qp= 8453 ккал/нм3 нм3 76,8 3 Сжатый воздух  - Р= 20 кгс/ см2 на регенерацию катализатора нм3 0,24 3 Сжатый воздух - Р= 5÷6 кгс/см2 для приборов КИП и А нм3 0,13 4 Инертный газ (азот) Р= 8 кгс/ см2; Р= 32 кгс/ см2 нм3 0,012 5 Водород технический нм3 0,019 6 Водяной пар Р= 10 кгс/ cм2 т 0,346 7 Катализаторы: АП-56 т 0,70*10-5 7 Катализаторы: АГС-60 т 12,545*10-5 7 Катализаторы: КР-108 У т 6,422* 10-5 7 Катализаторы: РБ-44У марки «Ш» т 8,89*10-5 8 Дихлорэтан (ГОСТ 1942-86) Четыреххлористый углерод (ГОСТ 20288-74) т 1,13* 10-5 9 Этилмеркаптан (ТУ 02-511-80) Дитретичный бутил полисульфид (ТБПС-454) т 0,02*10-5 10 Кальцинированная сода 100 (ГОСТ 5100-84) т 0,70*10-5')]"
      ]
     },
     "execution_count": 12,
     "metadata": {},
     "output_type": "execute_result"
    }
   ],
   "source": [
    "docs"
   ]
  },
  {
   "cell_type": "code",
   "execution_count": null,
   "id": "41ef44d1-34fe-47ff-94a2-54f72c3de3c5",
   "metadata": {},
   "outputs": [],
   "source": []
  },
  {
   "cell_type": "markdown",
   "id": "d7f6a44b",
   "metadata": {},
   "source": [
    "# Заводим ollama + qwen"
   ]
  },
  {
   "cell_type": "code",
   "execution_count": 3,
   "id": "ba784d0d",
   "metadata": {},
   "outputs": [
    {
     "data": {
      "text/plain": [
       "ListResponse(models=[Model(model='gemma3n:e4b', modified_at=datetime.datetime(2025, 7, 14, 15, 50, 14, 56036, tzinfo=TzInfo(+03:00)), digest='15cb39fd9394fd2549f6df9081cfc84dd134ecf2c9c5be911e5629920489ac32', size=7547589116, details=ModelDetails(parent_model='', format='gguf', family='gemma3n', families=['gemma3n'], parameter_size='6.9B', quantization_level='Q4_K_M')), Model(model='deepseek-r1:latest', modified_at=datetime.datetime(2025, 7, 11, 13, 18, 56, 239732, tzinfo=TzInfo(+03:00)), digest='6995872bfe4c521a67b32da386cd21d5c6e819b6e0d62f79f64ec83be99f5763', size=5225376047, details=ModelDetails(parent_model='', format='gguf', family='qwen3', families=['qwen3'], parameter_size='8.2B', quantization_level='Q4_K_M')), Model(model='qwen3:8b', modified_at=datetime.datetime(2025, 7, 10, 16, 11, 15, 224804, tzinfo=TzInfo(+03:00)), digest='500a1f067a9f782620b40bee6f7b0c89e17ae61f686b92c24933e4ca4b2b8b41', size=5225388164, details=ModelDetails(parent_model='', format='gguf', family='qwen3', families=['qwen3'], parameter_size='8.2B', quantization_level='Q4_K_M'))])"
      ]
     },
     "execution_count": 3,
     "metadata": {},
     "output_type": "execute_result"
    }
   ],
   "source": [
    "ollama.list()"
   ]
  },
  {
   "cell_type": "code",
   "execution_count": null,
   "id": "e60eb5f2-ef47-4097-9c20-6bf6d86ba72c",
   "metadata": {},
   "outputs": [],
   "source": []
  },
  {
   "cell_type": "code",
   "execution_count": 4,
   "id": "e9cb798d-8f64-45ef-bc70-ab2c257fcb05",
   "metadata": {},
   "outputs": [],
   "source": []
  },
  {
   "cell_type": "code",
   "execution_count": 13,
   "id": "be8df2db-9ac2-4b5b-a342-09bba1c513a7",
   "metadata": {},
   "outputs": [],
   "source": [
    "url = \"http://localhost:11434/api/chat\""
   ]
  },
  {
   "cell_type": "code",
   "execution_count": 14,
   "id": "b330e3ac-e424-4374-a0e6-25e3e89165b2",
   "metadata": {},
   "outputs": [],
   "source": [
    "headers = {'Content-Type': 'application/json'}"
   ]
  },
  {
   "cell_type": "code",
   "execution_count": null,
   "id": "dc3ae5a7-6052-4eea-8c79-bccb98b23e9c",
   "metadata": {},
   "outputs": [],
   "source": []
  },
  {
   "cell_type": "code",
   "execution_count": 58,
   "id": "82afb7fc-99f1-48c5-ab31-98d5415b3c7e",
   "metadata": {},
   "outputs": [],
   "source": [
    "url='http://localhost:11434/api/chat'\n",
    "headers={'Content-Type': 'application/json'}\n",
    "data={\"model\": \"gemma3n:e4b\", \"messages\": [{\"role\": \"user\", \"content\": \"Привет!\"}], 'stream': False}\n"
   ]
  },
  {
   "cell_type": "code",
   "execution_count": 59,
   "id": "4bbc7747-0a94-46f8-bef8-e19264a583b6",
   "metadata": {},
   "outputs": [],
   "source": [
    "response = requests.post(url, headers=headers, data=json.dumps(data))"
   ]
  },
  {
   "cell_type": "code",
   "execution_count": 60,
   "id": "383ec3ed-1218-4d4f-acee-561306045325",
   "metadata": {},
   "outputs": [
    {
     "data": {
      "text/plain": [
       "{'model': 'gemma3n:e4b',\n",
       " 'created_at': '2025-07-14T17:08:12.599305459Z',\n",
       " 'message': {'role': 'assistant',\n",
       "  'content': 'Привет! 👋 Рад тебя видеть! Чем могу помочь? Что тебя интересует?\\n'},\n",
       " 'done_reason': 'stop',\n",
       " 'done': True,\n",
       " 'total_duration': 3026054075,\n",
       " 'load_duration': 104100736,\n",
       " 'prompt_eval_count': 11,\n",
       " 'prompt_eval_duration': 168584085,\n",
       " 'eval_count': 19,\n",
       " 'eval_duration': 2752746874}"
      ]
     },
     "execution_count": 60,
     "metadata": {},
     "output_type": "execute_result"
    }
   ],
   "source": [
    "response.json()"
   ]
  },
  {
   "cell_type": "code",
   "execution_count": null,
   "id": "3291ab3a-27f7-4ef4-ac8c-8d9405e8eb95",
   "metadata": {},
   "outputs": [],
   "source": []
  },
  {
   "cell_type": "code",
   "execution_count": 54,
   "id": "fd9d286a-5446-44ed-96ee-f8456639d98e",
   "metadata": {},
   "outputs": [],
   "source": [
    "data = {\n",
    "    'model': 'gemma3n:e4b',\n",
    "    # 'model': 'deepseek-r1:latest',\n",
    "    # 'prompt': 'hello! How are you?',\n",
    "    # \"prompt\": 'Привет!',\n",
    "    'messages': [{'role': 'user', 'content': 'Привет!'}],\n",
    "    'stream': False\n",
    "    \n",
    "}"
   ]
  },
  {
   "cell_type": "code",
   "execution_count": 55,
   "id": "522c6b3e-018c-4168-8e68-fa4cc46a9709",
   "metadata": {},
   "outputs": [
    {
     "data": {
      "text/plain": [
       "{'model': 'gemma3n:e4b',\n",
       " 'messages': [{'role': 'user', 'content': 'Привет!'}],\n",
       " 'stream': False}"
      ]
     },
     "execution_count": 55,
     "metadata": {},
     "output_type": "execute_result"
    }
   ],
   "source": [
    "data"
   ]
  },
  {
   "cell_type": "code",
   "execution_count": 56,
   "id": "e8295870-e4fa-4ccb-8c0b-dc4e9c9b092e",
   "metadata": {},
   "outputs": [],
   "source": [
    "response = requests.post(url, headers=headers, data=json.dumps(data))"
   ]
  },
  {
   "cell_type": "code",
   "execution_count": null,
   "id": "ce9bea4e-fdbe-4a03-ab0e-74a6aa8a2096",
   "metadata": {},
   "outputs": [],
   "source": []
  },
  {
   "cell_type": "code",
   "execution_count": null,
   "id": "40794778-28da-4e19-8dcf-d7c75384227b",
   "metadata": {},
   "outputs": [],
   "source": []
  },
  {
   "cell_type": "code",
   "execution_count": 45,
   "id": "f480cb18-6dd6-49a2-b721-0fcbbf1acf36",
   "metadata": {},
   "outputs": [],
   "source": [
    "response = requests.post(\n",
    "    \"http://localhost:11434/api/chat\",\n",
    "    data={'model': 'gemma3n:e4b ', 'messages': [{'role': 'user', 'content': 'Привет!'}], 'stream': False}\n",
    ")"
   ]
  },
  {
   "cell_type": "code",
   "execution_count": 57,
   "id": "da8c95e4-ceba-452d-a597-b6f86d08ad8b",
   "metadata": {},
   "outputs": [
    {
     "data": {
      "text/plain": [
       "'Привет! 👋 Рад тебя видеть! Чем могу помочь? Что тебя интересует? 😊\\n'"
      ]
     },
     "execution_count": 57,
     "metadata": {},
     "output_type": "execute_result"
    }
   ],
   "source": [
    "response.json()[\"message\"][\"content\"]"
   ]
  },
  {
   "cell_type": "code",
   "execution_count": 43,
   "id": "d1db39ed-04b2-4a2e-b847-1947045a3747",
   "metadata": {},
   "outputs": [
    {
     "data": {
      "text/plain": [
       "200"
      ]
     },
     "execution_count": 43,
     "metadata": {},
     "output_type": "execute_result"
    }
   ],
   "source": [
    "response.status_code"
   ]
  },
  {
   "cell_type": "code",
   "execution_count": null,
   "id": "db27ca17-2b51-49cf-a8cc-97b7a927dbf0",
   "metadata": {},
   "outputs": [],
   "source": []
  },
  {
   "cell_type": "code",
   "execution_count": null,
   "id": "a7f24f12-2682-40d9-a7fe-a9151c9d72e5",
   "metadata": {},
   "outputs": [],
   "source": [
    "response = requests.post(\n",
    "    \"http://localhost:11434/api/chat\",\n",
    "    json={\n",
    "        \"model\": MODEL_NAME,\n",
    "        \"messages\": [\n",
    "            {\"role\": m[\"role\"], \"content\": m[\"content\"]} for m in st.session_state.messages\n",
    "        ],\n",
    "        \"stream\": False\n",
    "    }\n",
    ")"
   ]
  },
  {
   "cell_type": "code",
   "execution_count": null,
   "id": "09ee99f2-44b9-49f2-84ed-5fe8520f4916",
   "metadata": {},
   "outputs": [],
   "source": []
  },
  {
   "cell_type": "code",
   "execution_count": null,
   "id": "e1098983-71d0-4e4f-864b-2d5a101e1a23",
   "metadata": {},
   "outputs": [],
   "source": []
  },
  {
   "cell_type": "code",
   "execution_count": null,
   "id": "90114612-9c67-4467-8cdd-827209b55177",
   "metadata": {},
   "outputs": [],
   "source": []
  },
  {
   "cell_type": "code",
   "execution_count": 4,
   "id": "505aa8d2-27bb-4cc9-870e-94a50599910d",
   "metadata": {},
   "outputs": [],
   "source": [
    "# Собираем из разных папок в папку Data_processing_collected\n",
    "\n",
    "SOURCE_DIR = Path('./data/data_processing')\n",
    "DATA_DIR = Path('./data/processed_csv_files')"
   ]
  },
  {
   "cell_type": "code",
   "execution_count": null,
   "id": "51b06b19-bbc6-4ae3-a7de-4f446469a41d",
   "metadata": {},
   "outputs": [],
   "source": []
  },
  {
   "cell_type": "code",
   "execution_count": 28,
   "id": "0870e354-b0d9-4e57-9dd2-1ec53695c0db",
   "metadata": {
    "scrolled": true
   },
   "outputs": [
    {
     "data": {
      "application/vnd.jupyter.widget-view+json": {
       "model_id": "5f2ba595010947a5aee9cff790f9a143",
       "version_major": 2,
       "version_minor": 0
      },
      "text/plain": [
       "  0%|          | 0/37 [00:00<?, ?it/s]"
      ]
     },
     "metadata": {},
     "output_type": "display_data"
    },
    {
     "name": "stdout",
     "output_type": "stream",
     "text": [
      "data/data_processing/РАЗДЕЛ 6/РАЗДЕЛ 6_1.csv\n",
      "data/data_processing/РАЗДЕЛ 6/РАЗДЕЛ 6_4.csv\n",
      "data/data_processing/РАЗДЕЛ 6/РАЗДЕЛ 6_8.csv\n",
      "data/data_processing/РАЗДЕЛ 6/РАЗДЕЛ 6_7.csv\n",
      "data/data_processing/РАЗДЕЛ 6/РАЗДЕЛ 6_9.csv\n",
      "data/data_processing/РАЗДЕЛ 6/РАЗДЕЛ 6_11.csv\n",
      "data/data_processing/РАЗДЕЛ 6/РАЗДЕЛ 6_0.csv\n",
      "data/data_processing/РАЗДЕЛ 6/РАЗДЕЛ 6_6.csv\n",
      "data/data_processing/РАЗДЕЛ 6/РАЗДЕЛ 6_5.csv\n",
      "data/data_processing/РАЗДЕЛ 6/РАЗДЕЛ 6_3.csv\n",
      "data/data_processing/РАЗДЕЛ 6/РАЗДЕЛ 6_10.csv\n",
      "data/data_processing/РАЗДЕЛ 6/РАЗДЕЛ 6_2.csv\n",
      "data/data_processing/РАЗДЕЛ 8/РАЗДЕЛ 8 - 1.csv\n",
      "data/data_processing/РАЗДЕЛ 8/РАЗДЕЛ 8 - 2.csv\n",
      "data/data_processing/РАЗДЕЛ 8/РАЗДЕЛ 8 - 3.csv\n",
      "data/data_processing/РАЗДЕЛ 9 - 9.2,9.3,9.4,9.5/РАЗДЕЛ 9 - 9.5.csv\n",
      "data/data_processing/РАЗДЕЛ 9 - 9.2,9.3,9.4,9.5/РАЗДЕЛ 9 - 9.3.csv\n",
      "data/data_processing/РАЗДЕЛ 9 - 9.2,9.3,9.4,9.5/РАЗДЕЛ 9 - 9.4.csv\n",
      "data/data_processing/РАЗДЕЛ 9 - 9.2,9.3,9.4,9.5/РАЗДЕЛ 9 - 9.2.csv\n",
      "data/data_processing/РАЗДЕЛ 3/РАЗДЕЛ 3_9.csv\n",
      "data/data_processing/РАЗДЕЛ 3/РАЗДЕЛ 3_7.csv\n",
      "data/data_processing/РАЗДЕЛ 3/РАЗДЕЛ 3_3.csv\n",
      "data/data_processing/РАЗДЕЛ 3/РАЗДЕЛ 3_4.csv\n",
      "data/data_processing/РАЗДЕЛ 3/РАЗДЕЛ 3_0.csv\n",
      "data/data_processing/РАЗДЕЛ 3/РАЗДЕЛ 3_11.csv\n",
      "data/data_processing/РАЗДЕЛ 3/РАЗДЕЛ 3_5.csv\n",
      "data/data_processing/РАЗДЕЛ 3/РАЗДЕЛ 3_8.csv\n",
      "data/data_processing/РАЗДЕЛ 3/РАЗДЕЛ 3_1.csv\n",
      "data/data_processing/РАЗДЕЛ 3/РАЗДЕЛ 3_6.csv\n",
      "data/data_processing/РАЗДЕЛ 3/РАЗДЕЛ 3_2.csv\n",
      "data/data_processing/РАЗДЕЛ 3/РАЗДЕЛ 3_10.csv\n",
      "data/data_processing/РАЗДЕЛ 1 - ОПУ Петрофак/РАЗДЕЛ 1 - ОПУ Петрофак.csv\n",
      "data/data_processing/раздел 5.2/раздел 5.2.csv\n",
      "data/data_processing/РАЗДЕЛ 2 ОПУ/РАЗДЕЛ 2 ОПУ.csv\n",
      "data/data_processing/раздел 7 Таблица 7.1.1/раздел 7 Таблица 7.1.1.csv\n",
      "data/data_processing/РАЗДЕЛ 10/РАЗДЕЛ 10.csv\n",
      "data/data_processing/раздел 5.2_с критическими параметрами Петрофак/раздел 5.2_с критическими параметрами Петрофак.csv\n"
     ]
    }
   ],
   "source": [
    "shutil.rmtree(DATA_DIR)\n",
    "DATA_DIR.mkdir(parents=True, exist_ok=True)\n",
    "\n",
    "pathlist = list(Path(SOURCE_DIR).glob('**/*.csv'))\n",
    "for path in tqdm(pathlist):\n",
    "    # because path is object not string\n",
    "    path_in_str = str(path)\n",
    "    print(path_in_str)\n",
    "    df = pd.read_csv(path, sep=';')\n",
    "    df.to_csv(DATA_DIR / path.name)"
   ]
  },
  {
   "cell_type": "code",
   "execution_count": 25,
   "id": "9686cc6a-2484-4ff8-bbe9-39dd75f5d4eb",
   "metadata": {},
   "outputs": [
    {
     "data": {
      "text/plain": [
       "PosixPath('data/processed_csv_files')"
      ]
     },
     "execution_count": 25,
     "metadata": {},
     "output_type": "execute_result"
    }
   ],
   "source": [
    "DATA_DIR"
   ]
  },
  {
   "cell_type": "code",
   "execution_count": 5,
   "id": "12a2f39a-5478-4e71-91d6-835d54efc716",
   "metadata": {},
   "outputs": [
    {
     "name": "stdout",
     "output_type": "stream",
     "text": [
      "Loaded 73 documents\n"
     ]
    }
   ],
   "source": [
    "# loader_args = {'sep': ';'}\n",
    "# loader_cls = CSVLoader[file_type]\n",
    "# loader_instance = CSVLoader({'sep': ';'})\n",
    "\n",
    "\n",
    "loaders = [\n",
    "    DirectoryLoader(\n",
    "        path=DATA_DIR,\n",
    "        glob=\"./*.csv\",\n",
    "        # loader_cls=CSVLoader(file_path='./data/processed_csv_files/раздел 5.2.csv', csv_args={'sep': ';'}),\n",
    "        loader_cls=CSVLoader,\n",
    "    ),\n",
    "    # DirectoryLoader(\n",
    "    #     path=\"./data\",\n",
    "    #     glob=\"**/*.md\",\n",
    "    #     loader_cls=UnstructuredMarkdownLoader\n",
    "    # ),\n",
    "    # DirectoryLoader(\n",
    "    #     path=\"./data\",\n",
    "    #     glob=\"**/*.txt\",\n",
    "    #     loader_cls=TextLoader\n",
    "    # ),\n",
    "]\n",
    "\n",
    "\n",
    "# Load and combine documents from all loaders\n",
    "documents = []\n",
    "for loader in loaders:\n",
    "    docs = loader.load()\n",
    "    documents.extend(docs)\n",
    "\n",
    "print(f\"Loaded {len(documents)} documents\")"
   ]
  },
  {
   "cell_type": "code",
   "execution_count": 6,
   "id": "d77e2f0e-3268-43c7-93d7-abf0fe6542d1",
   "metadata": {},
   "outputs": [
    {
     "name": "stdout",
     "output_type": "stream",
     "text": [
      "Split into 147 chunks\n"
     ]
    }
   ],
   "source": [
    "# Split documents into chunks\n",
    "\n",
    "text_splitter = RecursiveCharacterTextSplitter(\n",
    "    chunk_size=500,\n",
    "    chunk_overlap=50\n",
    ")\n",
    "\n",
    "docs = text_splitter.split_documents(documents)\n",
    "print(f\"Split into {len(docs)} chunks\")"
   ]
  },
  {
   "cell_type": "code",
   "execution_count": 7,
   "id": "2a5c2e41-4867-4272-aa7f-a36f456fab99",
   "metadata": {},
   "outputs": [
    {
     "name": "stderr",
     "output_type": "stream",
     "text": [
      "/home/konstantin/python_venvs/default_venv/lib/python3.10/site-packages/torch/cuda/__init__.py:619: UserWarning: Can't initialize NVML\n",
      "  warnings.warn(\"Can't initialize NVML\")\n"
     ]
    },
    {
     "name": "stdout",
     "output_type": "stream",
     "text": [
      "CPU times: user 1min 8s, sys: 5.57 s, total: 1min 14s\n",
      "Wall time: 17.3 s\n"
     ]
    }
   ],
   "source": [
    "%%time\n",
    "\n",
    "# Embed and store chunks in a vector store\n",
    "\n",
    "# Initialize embedding model\n",
    "# embeddings = HuggingFaceEmbeddings()\n",
    "\n",
    "\n",
    "embeddings = HuggingFaceEmbeddings(\n",
    "    model_name=\"sentence-transformers/paraphrase-multilingual-mpnet-base-v2\"\n",
    ")\n",
    "\n",
    "# sentence-transformers/LaBSE\n",
    "# DeepPavlov/rubert-base-cased-sentence\n",
    "\n",
    "\n",
    "# Create vector store\n",
    "vectorstore = FAISS.from_documents(docs, embeddings)"
   ]
  },
  {
   "cell_type": "raw",
   "id": "959d201b-1699-4328-a696-c733a4864f3d",
   "metadata": {},
   "source": [
    "ListResponse(models=[Model(model='qwen3:8b', modified_at=datetime.datetime(2025, 7, 10, 16, 11, 15, 224804, tzinfo=TzInfo(+03:00)), digest='500a1f067a9f782620b40bee6f7b0c89e17ae61f686b92c24933e4ca4b2b8b41', size=5225388164, details=ModelDetails(parent_model='', format='gguf', family='qwen3', families=['qwen3'], parameter_size='8.2B', quantization_level='Q4_K_M'))])"
   ]
  },
  {
   "cell_type": "code",
   "execution_count": 12,
   "id": "7c2d6216-4845-4ed8-9626-921d3eb21c99",
   "metadata": {},
   "outputs": [],
   "source": [
    "# Set up Ollama as your LLM\n",
    "\n",
    "\n",
    "\n",
    "llm = ChatOllama(\n",
    "    base_url=\"http://localhost:11434\",\n",
    "    model=\"qwen3:8b\"\n",
    "    # mode='deepseek-r1:latest',\n",
    ")"
   ]
  },
  {
   "cell_type": "code",
   "execution_count": 13,
   "id": "7da36dc2-8d3f-4138-8d03-2e4d7124cbff",
   "metadata": {},
   "outputs": [
    {
     "name": "stdout",
     "output_type": "stream",
     "text": [
      "<think>\n",
      "Okay, the user is asking about the established limits for the buffer gas pipeline on the inlet of compressor K-201B. Let me check the provided context.\n",
      "\n",
      "Looking through the entries, there's one for FSALL-417В, which is the buffer gas pipeline on the inlet of compressor K-201B. The parameters listed are:\n",
      "\n",
      "- Minimum permissible limit: 31.5 kg/hour\n",
      "- Maximum permissible limit: Not specified (blank)\n",
      "- Blockage minimum: 31.5 kg/hour\n",
      "- Blockage maximum: Not specified (blank)\n",
      "\n",
      "So the answer should mention the minimum permissible limit is 31.5 kg/hour, but the maximum permissible limit isn't provided in the data. Also, the blockage minimum is the same as the permissible minimum, while the blockage maximum is missing. I need to state that clearly without making up any information.\n",
      "</think>\n",
      "\n",
      "Для трубопровода буферного газа на приеме компрессора К-201В (обозначение FSALL-417В) установлены следующие пределы:  \n",
      "- **Допустимая норма (минимум):** 31,5 кг/час  \n",
      "- **Допустимая норма (максимум):** Не указано (пустое значение)  \n",
      "- **Блокировка (минимум):** 31,5 кг/час  \n",
      "- **Блокировка (максимум):** Не указано (пустое значение)  \n",
      "\n",
      "Данные о максимальной допустимой норме и блокировке максимума отсутствуют в предоставленной информации.\n"
     ]
    }
   ],
   "source": [
    "# Create a retriever and a RAG chain\n",
    "\n",
    "from langchain.chains import RetrievalQA\n",
    "\n",
    "retriever = vectorstore.as_retriever()\n",
    "\n",
    "qa_chain = RetrievalQA.from_chain_type(\n",
    "    llm=llm,\n",
    "    chain_type=\"stuff\",\n",
    "    retriever=retriever\n",
    ")\n",
    "\n",
    "# Run a test question\n",
    "# result = qa_chain.run(\"Дай мне краткий (в 2 предложения) пересказ csv файла.\")\n",
    "result = qa_chain.run('Скажи, какие установленные пределы у трубопровода буферного газа на приеме компрессора?')\n",
    "print(result)"
   ]
  },
  {
   "cell_type": "code",
   "execution_count": null,
   "id": "96e7d01f-4122-4ad2-a1bc-2b414e67cfa1",
   "metadata": {},
   "outputs": [],
   "source": []
  },
  {
   "cell_type": "code",
   "execution_count": null,
   "id": "66ec8aa2-bbb6-4a65-a2b0-504c875b4f38",
   "metadata": {},
   "outputs": [],
   "source": []
  },
  {
   "cell_type": "code",
   "execution_count": null,
   "id": "70eaefdb-9f0d-47e9-8f56-f07d43521321",
   "metadata": {},
   "outputs": [],
   "source": []
  },
  {
   "cell_type": "markdown",
   "id": "d3ed4d0d-747b-4afd-8dc7-bc39abbacd9e",
   "metadata": {},
   "source": [
    "# Старый код"
   ]
  },
  {
   "cell_type": "code",
   "execution_count": 2,
   "id": "be77abc6",
   "metadata": {},
   "outputs": [],
   "source": [
    "# response = ollama.chat(model='llama3:70b', messages=[\n",
    "#   {\n",
    "#     'role': 'user',\n",
    "#     'content': 'Почему небо голубое?',\n",
    "#   },\n",
    "# ])\n",
    "# print(response['message']['content'])"
   ]
  },
  {
   "cell_type": "code",
   "execution_count": 3,
   "id": "67e20d4c",
   "metadata": {},
   "outputs": [],
   "source": [
    "DATA_DIR = \"data/\"\n",
    "\n",
    "\n",
    "def load_and_split_documents() -> list[dict]:\n",
    "    \"\"\"\n",
    "    Loads our documents from disc and split them into chunks.\n",
    "    Returns a list of dictionaries.\n",
    "    \"\"\"\n",
    "    # Load our data.\n",
    "    loader = DirectoryLoader(\n",
    "        DATA_DIR, loader_cls=UnstructuredMarkdownLoader, show_progress=True\n",
    "    )\n",
    "    docs = loader.load()\n",
    "\n",
    "    # Split our documents.\n",
    "    splitter = RecursiveCharacterTextSplitter.from_language(\n",
    "        language=Language.MARKDOWN, chunk_size=6000, chunk_overlap=100\n",
    "    )\n",
    "    split_docs = splitter.split_documents(docs)\n",
    "\n",
    "    # Convert our LangChain Documents to a list of dictionaries.\n",
    "    final_docs = []\n",
    "    for i, doc in enumerate(split_docs):\n",
    "        doc_dict = {\n",
    "            \"id\": str(i),\n",
    "            \"content\": doc.page_content,\n",
    "            \"sourcefile\": os.path.basename(doc.metadata[\"source\"]),\n",
    "        }\n",
    "        final_docs.append(doc_dict)\n",
    "\n",
    "    return final_docs\n",
    "\n"
   ]
  },
  {
   "cell_type": "code",
   "execution_count": 4,
   "id": "1ab3c298",
   "metadata": {},
   "outputs": [
    {
     "name": "stdout",
     "output_type": "stream",
     "text": [
      "Небо кажется голубым из-затого, что наше зрение наиболее чувствительно к синим и коротковолновым частотам видимого спектра света.\n",
      "\n",
      "В действительности, свет от Солнца содержит все цвета спектра, включая красные, оранжевые, желтые, зеленые, синие и инфракрасные. Однако наше зрение лучше всего воспринимает синий цвет, потому что он имеет наиболее высокую частоту в видимом спектре.\n",
      "\n",
      "Когда мы смотрим на небо, мы видим свет, который проходит через атмосферу Земли. Атмосфера состоит из различных газов, таких как азот, кислород и углекислый газ. Эти газы поглощают или рассеивают другие цвета спектра, такие как красный, оранжевый и желтый, но не синий.\n",
      "\n",
      "Следствием этого является то, что наше зрение воспринимает преимущественно синий цвет, который остается после прохождения света через атмосферу. Этоwhy небо кажется голубым – потому что наш мозг интерпретирует синий цвет как основной цвет неба.\n",
      "\n",
      "Таким образом, голубое небо – это не только результат физических свойств света и атмосферы, но и функция нашего зрения, которое лучше всего воспринимает синий цвет."
     ]
    }
   ],
   "source": [
    "stream = ollama.chat(\n",
    "    model='llama3',\n",
    "    messages=[{'role': 'user', 'content': 'Почему небо голубое? Ответьте, пожалуйста, по-русски.'}],\n",
    "    stream=True,\n",
    ")\n",
    "\n",
    "for chunk in stream:\n",
    "    print(chunk['message']['content'], end='', flush=True)"
   ]
  },
  {
   "cell_type": "markdown",
   "id": "a7f40fc0",
   "metadata": {},
   "source": [
    "# RAG - BERT + Llama"
   ]
  },
  {
   "cell_type": "markdown",
   "id": "7f811a64-c635-4469-9958-e5517060a1c5",
   "metadata": {},
   "source": [
    "## Base model"
   ]
  },
  {
   "cell_type": "code",
   "execution_count": 1,
   "id": "7f1bfd1a",
   "metadata": {},
   "outputs": [],
   "source": [
    "from transformers import AutoModelForCausalLM, AutoTokenizer, AutoModel\n",
    "import torch\n",
    "import transformers\n",
    "\n",
    "device = torch.device(\"cuda\")\n",
    "# transformers.logging.set_verbosity_info()\n",
    "transformers.logging.set_verbosity_error()"
   ]
  },
  {
   "cell_type": "code",
   "execution_count": 2,
   "id": "d2684fde",
   "metadata": {},
   "outputs": [
    {
     "data": {
      "text/plain": [
       "True"
      ]
     },
     "execution_count": 2,
     "metadata": {},
     "output_type": "execute_result"
    }
   ],
   "source": [
    "torch.cuda.is_available()"
   ]
  },
  {
   "cell_type": "code",
   "execution_count": 3,
   "id": "325616d2-c998-4ea8-873e-8551d1e7e2ec",
   "metadata": {},
   "outputs": [
    {
     "data": {
      "application/vnd.jupyter.widget-view+json": {
       "model_id": "0c3edbd43b6e4133bc296ea4862ef540",
       "version_major": 2,
       "version_minor": 0
      },
      "text/plain": [
       "Loading checkpoint shards:   0%|          | 0/4 [00:00<?, ?it/s]"
      ]
     },
     "metadata": {},
     "output_type": "display_data"
    }
   ],
   "source": [
    "model_name_base = './meta-llama/Meta-Llama-3-8B-Instruct'\n",
    "# model_base = AutoModel.from_pretrained(model_name_base).eval()\n",
    "\n",
    "\n",
    "\n",
    "from transformers import LlamaForCausalLM, LlamaTokenizer\n",
    "\n",
    "# tokenizer = LlamaTokenizer.from_pretrained(model_name_base)\n",
    "model_base = LlamaForCausalLM.from_pretrained(model_name_base).eval()"
   ]
  },
  {
   "cell_type": "raw",
   "id": "ac742fac-b52a-42c2-b613-7a621a7bf585",
   "metadata": {},
   "source": [
    "# model_name_base = 'minhtt/vistral-7b-chat'\n",
    "# model_name_base = 'meta-llama/Meta-Llama-3-70B'\n",
    "model_name_base = './meta-llama/Meta-Llama-3-8B-Instruct'\n",
    "\n",
    "model_base = AutoModelForCausalLM.from_pretrained(\n",
    "    model_name_base,\n",
    "    # device_map=\"auto\",\n",
    "    load_in_4bit=True,\n",
    "    trust_remote_code=True\n",
    ").eval()"
   ]
  },
  {
   "cell_type": "code",
   "execution_count": 4,
   "id": "252e70dd",
   "metadata": {},
   "outputs": [],
   "source": [
    "# model_vistral = AutoModelForCausalLM.from_pretrained(model_name_vistral).eval()\n",
    "tokenizer = AutoTokenizer.from_pretrained(model_name_base)"
   ]
  },
  {
   "cell_type": "code",
   "execution_count": 5,
   "id": "2fb1f654",
   "metadata": {},
   "outputs": [],
   "source": [
    "from langchain_huggingface import HuggingFacePipeline\n",
    "from transformers import AutoModelForCausalLM, AutoTokenizer,pipeline\n",
    "\n",
    "pipeline = pipeline(task=\"text-generation\", model=model_base, tokenizer=tokenizer, max_new_tokens=300)\n",
    "base_llm =  HuggingFacePipeline(pipeline = pipeline)\n",
    "# LlamaForCausalLM\n",
    "# LlamaForCausalLM"
   ]
  },
  {
   "cell_type": "markdown",
   "id": "45cb9c92-8f02-4f83-bf55-0b7426cb60aa",
   "metadata": {},
   "source": [
    "## Embedding model"
   ]
  },
  {
   "cell_type": "code",
   "execution_count": 6,
   "id": "d35c801a",
   "metadata": {},
   "outputs": [
    {
     "data": {
      "application/vnd.jupyter.widget-view+json": {
       "model_id": "c9ef5ccca54a446489420499114f8022",
       "version_major": 2,
       "version_minor": 0
      },
      "text/plain": [
       "Loading checkpoint shards:   0%|          | 0/4 [00:00<?, ?it/s]"
      ]
     },
     "metadata": {},
     "output_type": "display_data"
    }
   ],
   "source": [
    "from transformers import AutoModel\n",
    "# model_name_embedding = 'minhtt/phobert-base-v2'\n",
    "model_name_embedding = './meta-llama/Meta-Llama-3-8B-Instruct'\n",
    "\n",
    "model_embedding = AutoModel.from_pretrained(\n",
    "    model_name_embedding,\n",
    "    # load_in_4bit=True,\n",
    "    # device_map=\"auto\",\n",
    "    # trust_remote_code=True\n",
    ").eval()\n",
    "\n",
    "tokenizer_embedding = AutoTokenizer.from_pretrained(model_name_embedding)\n"
   ]
  },
  {
   "cell_type": "code",
   "execution_count": 7,
   "id": "4284dfa7-1554-47e6-b73a-7eeb53af4b41",
   "metadata": {},
   "outputs": [],
   "source": [
    "class custom_embedding():\n",
    "    def __init__(self, eb, tokenizer):\n",
    "        self.model = eb\n",
    "        self.tokenizer = tokenizer\n",
    "    \n",
    "    def embed_document(self, text):\n",
    "        with torch.no_grad():\n",
    "            inputs = self.tokenizer(text, return_tensors=\"pt\")\n",
    "            outputs = self.model(**inputs)\n",
    "            embeddings = outputs.last_hidden_state[:, 0, :]\n",
    "            return embeddings.reshape((-1))\n",
    "    \n",
    "    def embed_documents(self, texts):\n",
    "        l = []\n",
    "        for i in texts:\n",
    "            l.append(self.embed_document(i))\n",
    "        return l\n",
    "    \n",
    "    def __call__(self, text):\n",
    "        return self.embed_document(text)\n"
   ]
  },
  {
   "cell_type": "code",
   "execution_count": 8,
   "id": "4095de79-8ad0-4560-8502-ecf8922bfec7",
   "metadata": {},
   "outputs": [],
   "source": [
    "custom_embedding = custom_embedding(model_embedding, tokenizer_embedding)"
   ]
  },
  {
   "cell_type": "markdown",
   "id": "3718aedc-986e-47ec-b726-5ca2bc47ddc6",
   "metadata": {},
   "source": [
    "## Load documents into RAG"
   ]
  },
  {
   "cell_type": "code",
   "execution_count": 9,
   "id": "6301bcb3-8e20-4fda-a6b8-e757b915b3fc",
   "metadata": {},
   "outputs": [],
   "source": [
    "from langchain.document_loaders import DirectoryLoader, UnstructuredMarkdownLoader\n",
    "from langchain.embeddings.openai import OpenAIEmbeddings\n",
    "from langchain.text_splitter import Language, RecursiveCharacterTextSplitter\n",
    "from langchain.vectorstores.azuresearch import AzureSearch\n",
    "# from langchain.vectorstores.utils import Document"
   ]
  },
  {
   "cell_type": "code",
   "execution_count": 10,
   "id": "ef4c90b1-7ce9-4055-a31b-d8dd28edf5b0",
   "metadata": {},
   "outputs": [],
   "source": [
    "DATA_DIR = './data'"
   ]
  },
  {
   "cell_type": "code",
   "execution_count": 11,
   "id": "2bff7e3c-95b5-4ab9-9859-0bb3c8748596",
   "metadata": {},
   "outputs": [
    {
     "name": "stderr",
     "output_type": "stream",
     "text": [
      "100%|██████████████████████████████████████████████████████████| 20/20 [01:05<00:00,  3.27s/it]\n"
     ]
    }
   ],
   "source": [
    "loader = DirectoryLoader(\n",
    "    DATA_DIR, loader_cls=UnstructuredMarkdownLoader, show_progress=True\n",
    ")\n",
    "docs = loader.load()\n",
    "\n",
    "# Split our documents.\n",
    "splitter = RecursiveCharacterTextSplitter.from_language(\n",
    "    language=Language.MARKDOWN, chunk_size=6000, chunk_overlap=100\n",
    ")\n",
    "split_docs = splitter.split_documents(docs)"
   ]
  },
  {
   "cell_type": "code",
   "execution_count": 17,
   "id": "49b0bda7-e065-4dfe-b0ae-0f74ee7da0bb",
   "metadata": {},
   "outputs": [],
   "source": [
    "from langchain.vectorstores import FAISS"
   ]
  },
  {
   "cell_type": "code",
   "execution_count": 29,
   "id": "fc435a79-7630-49e1-9bd8-48d72aac6dec",
   "metadata": {},
   "outputs": [],
   "source": [
    "import os\n",
    "os.environ[\"TOKENIZERS_PARALLELISM\"] = \"true\"\n"
   ]
  },
  {
   "cell_type": "code",
   "execution_count": 25,
   "id": "b0950b37-1e42-42a7-9ba1-58ddac44b74b",
   "metadata": {
    "scrolled": true
   },
   "outputs": [
    {
     "ename": "ImportError",
     "evalue": "Could not import faiss python package. Please install it with `pip install faiss-gpu` (for CUDA supported GPU) or `pip install faiss-cpu` (depending on Python version).",
     "output_type": "error",
     "traceback": [
      "\u001b[0;31m---------------------------------------------------------------------------\u001b[0m",
      "\u001b[0;31mModuleNotFoundError\u001b[0m                       Traceback (most recent call last)",
      "File \u001b[0;32m~/python_venv/lib/python3.12/site-packages/langchain_community/vectorstores/faiss.py:55\u001b[0m, in \u001b[0;36mdependable_faiss_import\u001b[0;34m(no_avx2)\u001b[0m\n\u001b[1;32m     54\u001b[0m     \u001b[38;5;28;01melse\u001b[39;00m:\n\u001b[0;32m---> 55\u001b[0m         \u001b[38;5;28;01mimport\u001b[39;00m \u001b[38;5;21;01mfaiss\u001b[39;00m\n\u001b[1;32m     56\u001b[0m \u001b[38;5;28;01mexcept\u001b[39;00m \u001b[38;5;167;01mImportError\u001b[39;00m:\n",
      "\u001b[0;31mModuleNotFoundError\u001b[0m: No module named 'faiss'",
      "\nDuring handling of the above exception, another exception occurred:\n",
      "\u001b[0;31mImportError\u001b[0m                               Traceback (most recent call last)",
      "Cell \u001b[0;32mIn[25], line 3\u001b[0m\n\u001b[1;32m      1\u001b[0m texts \u001b[38;5;241m=\u001b[39m [split_docs[i] \u001b[38;5;28;01mfor\u001b[39;00m i \u001b[38;5;129;01min\u001b[39;00m \u001b[38;5;28mrange\u001b[39m(\u001b[38;5;28mlen\u001b[39m(split_docs))]\n\u001b[0;32m----> 3\u001b[0m db \u001b[38;5;241m=\u001b[39m \u001b[43mFAISS\u001b[49m\u001b[38;5;241;43m.\u001b[39;49m\u001b[43mfrom_documents\u001b[49m\u001b[43m(\u001b[49m\u001b[43mtexts\u001b[49m\u001b[43m,\u001b[49m\u001b[43m \u001b[49m\u001b[43mcustom_embedding\u001b[49m\u001b[43m)\u001b[49m\n",
      "File \u001b[0;32m~/python_venv/lib/python3.12/site-packages/langchain_core/vectorstores/base.py:1058\u001b[0m, in \u001b[0;36mVectorStore.from_documents\u001b[0;34m(cls, documents, embedding, **kwargs)\u001b[0m\n\u001b[1;32m   1056\u001b[0m texts \u001b[38;5;241m=\u001b[39m [d\u001b[38;5;241m.\u001b[39mpage_content \u001b[38;5;28;01mfor\u001b[39;00m d \u001b[38;5;129;01min\u001b[39;00m documents]\n\u001b[1;32m   1057\u001b[0m metadatas \u001b[38;5;241m=\u001b[39m [d\u001b[38;5;241m.\u001b[39mmetadata \u001b[38;5;28;01mfor\u001b[39;00m d \u001b[38;5;129;01min\u001b[39;00m documents]\n\u001b[0;32m-> 1058\u001b[0m \u001b[38;5;28;01mreturn\u001b[39;00m \u001b[38;5;28;43mcls\u001b[39;49m\u001b[38;5;241;43m.\u001b[39;49m\u001b[43mfrom_texts\u001b[49m\u001b[43m(\u001b[49m\u001b[43mtexts\u001b[49m\u001b[43m,\u001b[49m\u001b[43m \u001b[49m\u001b[43membedding\u001b[49m\u001b[43m,\u001b[49m\u001b[43m \u001b[49m\u001b[43mmetadatas\u001b[49m\u001b[38;5;241;43m=\u001b[39;49m\u001b[43mmetadatas\u001b[49m\u001b[43m,\u001b[49m\u001b[43m \u001b[49m\u001b[38;5;241;43m*\u001b[39;49m\u001b[38;5;241;43m*\u001b[39;49m\u001b[43mkwargs\u001b[49m\u001b[43m)\u001b[49m\n",
      "File \u001b[0;32m~/python_venv/lib/python3.12/site-packages/langchain_community/vectorstores/faiss.py:931\u001b[0m, in \u001b[0;36mFAISS.from_texts\u001b[0;34m(cls, texts, embedding, metadatas, ids, **kwargs)\u001b[0m\n\u001b[1;32m    912\u001b[0m \u001b[38;5;250m\u001b[39m\u001b[38;5;124;03m\"\"\"Construct FAISS wrapper from raw documents.\u001b[39;00m\n\u001b[1;32m    913\u001b[0m \n\u001b[1;32m    914\u001b[0m \u001b[38;5;124;03mThis is a user friendly interface that:\u001b[39;00m\n\u001b[0;32m   (...)\u001b[0m\n\u001b[1;32m    928\u001b[0m \u001b[38;5;124;03m        faiss = FAISS.from_texts(texts, embeddings)\u001b[39;00m\n\u001b[1;32m    929\u001b[0m \u001b[38;5;124;03m\"\"\"\u001b[39;00m\n\u001b[1;32m    930\u001b[0m embeddings \u001b[38;5;241m=\u001b[39m embedding\u001b[38;5;241m.\u001b[39membed_documents(texts)\n\u001b[0;32m--> 931\u001b[0m \u001b[38;5;28;01mreturn\u001b[39;00m \u001b[38;5;28;43mcls\u001b[39;49m\u001b[38;5;241;43m.\u001b[39;49m\u001b[43m__from\u001b[49m\u001b[43m(\u001b[49m\n\u001b[1;32m    932\u001b[0m \u001b[43m    \u001b[49m\u001b[43mtexts\u001b[49m\u001b[43m,\u001b[49m\n\u001b[1;32m    933\u001b[0m \u001b[43m    \u001b[49m\u001b[43membeddings\u001b[49m\u001b[43m,\u001b[49m\n\u001b[1;32m    934\u001b[0m \u001b[43m    \u001b[49m\u001b[43membedding\u001b[49m\u001b[43m,\u001b[49m\n\u001b[1;32m    935\u001b[0m \u001b[43m    \u001b[49m\u001b[43mmetadatas\u001b[49m\u001b[38;5;241;43m=\u001b[39;49m\u001b[43mmetadatas\u001b[49m\u001b[43m,\u001b[49m\n\u001b[1;32m    936\u001b[0m \u001b[43m    \u001b[49m\u001b[43mids\u001b[49m\u001b[38;5;241;43m=\u001b[39;49m\u001b[43mids\u001b[49m\u001b[43m,\u001b[49m\n\u001b[1;32m    937\u001b[0m \u001b[43m    \u001b[49m\u001b[38;5;241;43m*\u001b[39;49m\u001b[38;5;241;43m*\u001b[39;49m\u001b[43mkwargs\u001b[49m\u001b[43m,\u001b[49m\n\u001b[1;32m    938\u001b[0m \u001b[43m\u001b[49m\u001b[43m)\u001b[49m\n",
      "File \u001b[0;32m~/python_venv/lib/python3.12/site-packages/langchain_community/vectorstores/faiss.py:883\u001b[0m, in \u001b[0;36mFAISS.__from\u001b[0;34m(cls, texts, embeddings, embedding, metadatas, ids, normalize_L2, distance_strategy, **kwargs)\u001b[0m\n\u001b[1;32m    871\u001b[0m \u001b[38;5;129m@classmethod\u001b[39m\n\u001b[1;32m    872\u001b[0m \u001b[38;5;28;01mdef\u001b[39;00m \u001b[38;5;21m__from\u001b[39m(\n\u001b[1;32m    873\u001b[0m     \u001b[38;5;28mcls\u001b[39m,\n\u001b[0;32m   (...)\u001b[0m\n\u001b[1;32m    881\u001b[0m     \u001b[38;5;241m*\u001b[39m\u001b[38;5;241m*\u001b[39mkwargs: Any,\n\u001b[1;32m    882\u001b[0m ) \u001b[38;5;241m-\u001b[39m\u001b[38;5;241m>\u001b[39m FAISS:\n\u001b[0;32m--> 883\u001b[0m     faiss \u001b[38;5;241m=\u001b[39m \u001b[43mdependable_faiss_import\u001b[49m\u001b[43m(\u001b[49m\u001b[43m)\u001b[49m\n\u001b[1;32m    884\u001b[0m     \u001b[38;5;28;01mif\u001b[39;00m distance_strategy \u001b[38;5;241m==\u001b[39m DistanceStrategy\u001b[38;5;241m.\u001b[39mMAX_INNER_PRODUCT:\n\u001b[1;32m    885\u001b[0m         index \u001b[38;5;241m=\u001b[39m faiss\u001b[38;5;241m.\u001b[39mIndexFlatIP(\u001b[38;5;28mlen\u001b[39m(embeddings[\u001b[38;5;241m0\u001b[39m]))\n",
      "File \u001b[0;32m~/python_venv/lib/python3.12/site-packages/langchain_community/vectorstores/faiss.py:57\u001b[0m, in \u001b[0;36mdependable_faiss_import\u001b[0;34m(no_avx2)\u001b[0m\n\u001b[1;32m     55\u001b[0m         \u001b[38;5;28;01mimport\u001b[39;00m \u001b[38;5;21;01mfaiss\u001b[39;00m\n\u001b[1;32m     56\u001b[0m \u001b[38;5;28;01mexcept\u001b[39;00m \u001b[38;5;167;01mImportError\u001b[39;00m:\n\u001b[0;32m---> 57\u001b[0m     \u001b[38;5;28;01mraise\u001b[39;00m \u001b[38;5;167;01mImportError\u001b[39;00m(\n\u001b[1;32m     58\u001b[0m         \u001b[38;5;124m\"\u001b[39m\u001b[38;5;124mCould not import faiss python package. \u001b[39m\u001b[38;5;124m\"\u001b[39m\n\u001b[1;32m     59\u001b[0m         \u001b[38;5;124m\"\u001b[39m\u001b[38;5;124mPlease install it with `pip install faiss-gpu` (for CUDA supported GPU) \u001b[39m\u001b[38;5;124m\"\u001b[39m\n\u001b[1;32m     60\u001b[0m         \u001b[38;5;124m\"\u001b[39m\u001b[38;5;124mor `pip install faiss-cpu` (depending on Python version).\u001b[39m\u001b[38;5;124m\"\u001b[39m\n\u001b[1;32m     61\u001b[0m     )\n\u001b[1;32m     62\u001b[0m \u001b[38;5;28;01mreturn\u001b[39;00m faiss\n",
      "\u001b[0;31mImportError\u001b[0m: Could not import faiss python package. Please install it with `pip install faiss-gpu` (for CUDA supported GPU) or `pip install faiss-cpu` (depending on Python version)."
     ]
    }
   ],
   "source": [
    "%%time\n",
    "\n",
    "texts = [split_docs[i] for i in range(len(split_docs))]\n",
    "\n",
    "db = FAISS.from_documents(texts, custom_embedding)"
   ]
  },
  {
   "cell_type": "code",
   "execution_count": 30,
   "id": "599261b2-d540-43f3-a0ae-71d66ed48b53",
   "metadata": {},
   "outputs": [
    {
     "name": "stdout",
     "output_type": "stream",
     "text": [
      "\u001b[31mERROR: Could not find a version that satisfies the requirement faiss-gpu (from versions: none)\u001b[0m\u001b[31m\n",
      "\u001b[0m\u001b[31mERROR: No matching distribution found for faiss-gpu\u001b[0m\u001b[31m\n",
      "\u001b[0m"
     ]
    }
   ],
   "source": [
    "!pip install faiss-gpu"
   ]
  },
  {
   "cell_type": "code",
   "execution_count": 14,
   "id": "3e889444-3738-4091-87ce-6563a1df14f7",
   "metadata": {},
   "outputs": [
    {
     "ename": "NameError",
     "evalue": "name 'db' is not defined",
     "output_type": "error",
     "traceback": [
      "\u001b[0;31m---------------------------------------------------------------------------\u001b[0m",
      "\u001b[0;31mNameError\u001b[0m                                 Traceback (most recent call last)",
      "Cell \u001b[0;32mIn[14], line 22\u001b[0m\n\u001b[1;32m      7\u001b[0m template \u001b[38;5;241m=\u001b[39m \u001b[38;5;124m\"\"\"\u001b[39m\u001b[38;5;124mYou\u001b[39m\u001b[38;5;124m'\u001b[39m\u001b[38;5;124mre a helpful assistant.\u001b[39m\u001b[38;5;130;01m\\n\u001b[39;00m\n\u001b[1;32m      8\u001b[0m \u001b[38;5;124mPlease answer the user\u001b[39m\u001b[38;5;124m'\u001b[39m\u001b[38;5;124ms question using only information you can \u001b[39m\n\u001b[1;32m      9\u001b[0m \u001b[38;5;124mfind in the context.\u001b[39m\u001b[38;5;130;01m\\n\u001b[39;00m\n\u001b[0;32m   (...)\u001b[0m\n\u001b[1;32m     13\u001b[0m \u001b[38;5;124mQuestion: \u001b[39m\u001b[38;5;132;01m{question}\u001b[39;00m\n\u001b[1;32m     14\u001b[0m \u001b[38;5;124m\"\"\"\u001b[39m\n\u001b[1;32m     17\u001b[0m prompt \u001b[38;5;241m=\u001b[39m PromptTemplate(\n\u001b[1;32m     18\u001b[0m     input_variables\u001b[38;5;241m=\u001b[39m[\u001b[38;5;124m\"\u001b[39m\u001b[38;5;124mquery\u001b[39m\u001b[38;5;124m\"\u001b[39m,\u001b[38;5;124m\"\u001b[39m\u001b[38;5;124mcontext\u001b[39m\u001b[38;5;124m\"\u001b[39m],\n\u001b[1;32m     19\u001b[0m     template\u001b[38;5;241m=\u001b[39mtemplate,\n\u001b[1;32m     20\u001b[0m )\n\u001b[0;32m---> 22\u001b[0m retriever \u001b[38;5;241m=\u001b[39m \u001b[43mdb\u001b[49m\u001b[38;5;241m.\u001b[39mas_retriever(search_kwargs\u001b[38;5;241m=\u001b[39m{\u001b[38;5;124m'\u001b[39m\u001b[38;5;124mk\u001b[39m\u001b[38;5;124m'\u001b[39m: \u001b[38;5;241m3\u001b[39m})\n\u001b[1;32m     24\u001b[0m qa \u001b[38;5;241m=\u001b[39m RetrievalQA\u001b[38;5;241m.\u001b[39mfrom_chain_type(llm\u001b[38;5;241m=\u001b[39mbase_llm, \n\u001b[1;32m     25\u001b[0m                                  retriever\u001b[38;5;241m=\u001b[39mretriever,\n\u001b[1;32m     26\u001b[0m                                  chain_type\u001b[38;5;241m=\u001b[39m\u001b[38;5;124m\"\u001b[39m\u001b[38;5;124mstuff\u001b[39m\u001b[38;5;124m\"\u001b[39m,\n\u001b[1;32m     27\u001b[0m                                  return_source_documents \u001b[38;5;241m=\u001b[39m \u001b[38;5;28;01mTrue\u001b[39;00m,\n\u001b[1;32m     28\u001b[0m                                  chain_type_kwargs \u001b[38;5;241m=\u001b[39m {\u001b[38;5;124m'\u001b[39m\u001b[38;5;124mprompt\u001b[39m\u001b[38;5;124m'\u001b[39m: prompt, \u001b[38;5;124m\"\u001b[39m\u001b[38;5;124mverbose\u001b[39m\u001b[38;5;124m\"\u001b[39m: \u001b[38;5;28;01mFalse\u001b[39;00m},)\n",
      "\u001b[0;31mNameError\u001b[0m: name 'db' is not defined"
     ]
    }
   ],
   "source": [
    "from langchain import PromptTemplate\n",
    "from langchain_core import prompt_values\n",
    "\n",
    "\n",
    "\n",
    "\n",
    "template = \"\"\"You're a helpful assistant.\\n\n",
    "Please answer the user's question using only information you can \n",
    "find in the context.\\n\n",
    "If the user's question is unrelated to the information in the \n",
    "context, say you don't know.\\n\n",
    "Context: {context}\\n\n",
    "Question: {question}\n",
    "\"\"\"\n",
    "\n",
    "\n",
    "prompt = PromptTemplate(\n",
    "    input_variables=[\"query\",\"context\"],\n",
    "    template=template,\n",
    ")\n",
    "\n",
    "retriever = db.as_retriever(search_kwargs={'k': 3})\n",
    "\n",
    "qa = RetrievalQA.from_chain_type(llm=base_llm, \n",
    "                                 retriever=retriever,\n",
    "                                 chain_type=\"stuff\",\n",
    "                                 return_source_documents = True,\n",
    "                                 chain_type_kwargs = {'prompt': prompt, \"verbose\": False},)"
   ]
  },
  {
   "cell_type": "code",
   "execution_count": null,
   "id": "8f61cfb0-9dee-4c22-af70-d21163e65dcc",
   "metadata": {},
   "outputs": [],
   "source": [
    "question = \"I need a large backpack. Which one do you recommend?\""
   ]
  },
  {
   "cell_type": "code",
   "execution_count": null,
   "id": "001ba8af-50b5-4691-a534-5e2de0bafa3e",
   "metadata": {},
   "outputs": [],
   "source": []
  },
  {
   "cell_type": "code",
   "execution_count": null,
   "id": "d9397627-2aed-453b-934f-0fd5adbb89e3",
   "metadata": {},
   "outputs": [],
   "source": []
  },
  {
   "cell_type": "code",
   "execution_count": null,
   "id": "5cbc633c-b526-45b1-b487-ffd1ff6cd9c9",
   "metadata": {},
   "outputs": [],
   "source": []
  },
  {
   "cell_type": "code",
   "execution_count": 15,
   "id": "688f69bb-c04d-4b22-9c22-683dcc7967d9",
   "metadata": {},
   "outputs": [
    {
     "name": "stdout",
     "output_type": "stream",
     "text": [
      "['./data/product_info_13.md', './data/product_info_7.md', './data/product_info_10.md', './data/product_info_12.md', './data/product_info_3.md', './data/product_info_18.md', './data/product_info_19.md', './data/product_info_1.md', './data/product_info_15.md', './data/product_info_16.md', './data/product_info_6.md', './data/product_info_17.md', './data/product_info_8.md', './data/product_info_9.md', './data/product_info_4.md', './data/product_info_2.md', './data/product_info_5.md', './data/product_info_11.md', './data/product_info_20.md', './data/product_info_14.md']\n"
     ]
    }
   ],
   "source": [
    "from langchain.text_splitter import RecursiveCharacterTextSplitter\n",
    "from langchain.document_loaders import TextLoader\n",
    "from langchain.vectorstores import FAISS\n",
    "from langchain.chains import RetrievalQA\n",
    "from langchain.chains.retrieval_qa.base import BaseRetrievalQA\n",
    "from langchain_community.document_loaders.word_document import Docx2txtLoader\n",
    "import docx2txt\n",
    "import os\n",
    "import glob\n",
    "\n",
    "# dir_path = \"/kaggle/input/vietinbank-document\"\n",
    "dir_path = \"./data/\"\n",
    "files = glob.glob(os.path.join(dir_path, \"*.md\"))\n",
    "print(files)"
   ]
  },
  {
   "cell_type": "code",
   "execution_count": 16,
   "id": "ec36c6f5-5caa-4f9e-88e0-da241bfc5769",
   "metadata": {},
   "outputs": [],
   "source": [
    "from langchain.text_splitter import MarkdownTextSplitter\n",
    "splitter = MarkdownTextSplitter(chunk_size = 500, chunk_overlap=300)"
   ]
  },
  {
   "cell_type": "code",
   "execution_count": 20,
   "id": "1248576f-ba95-43c9-912e-8663f7b6b2de",
   "metadata": {},
   "outputs": [],
   "source": [
    "import markdown"
   ]
  },
  {
   "cell_type": "code",
   "execution_count": 22,
   "id": "26f00ee9-d7b6-4004-9ef9-91f3443bbc78",
   "metadata": {},
   "outputs": [],
   "source": [
    "f = open(files[0], 'r')\n",
    "htmlmarkdown=markdown.markdown( f.read() )"
   ]
  },
  {
   "cell_type": "code",
   "execution_count": 23,
   "id": "74855db8-874c-4462-aa65-d38688a85bea",
   "metadata": {
    "scrolled": true
   },
   "outputs": [
    {
     "data": {
      "text/plain": [
       "'<h1>Information about product item_number: 13</h1>\\n<p>PowerBurner Camping Stove, price $100,</p>\\n<h2>Brand</h2>\\n<p>PowerBurner</p>\\n<h2>Category</h2>\\n<p>Camping Stoves</p>\\n<h2>Features</h2>\\n<ul>\\n<li>Dual burners for efficient cooking</li>\\n<li>High heat output for fast boiling and cooking times</li>\\n<li>Adjustable flame control for precise temperature regulation</li>\\n<li>Compact and portable design for easy transportation</li>\\n<li>Piezo ignition system for quick and reliable ignition</li>\\n<li>Wind-resistant design to withstand outdoor conditions</li>\\n<li>Removable cooking grates for easy cleaning</li>\\n<li>Built-in fuel regulator for consistent performance</li>\\n<li>Sturdy construction for durability and stability</li>\\n<li>Compatible with various fuel types (propane, butane, etc.)</li>\\n<li>Integrated carrying handle for convenient portability</li>\\n<li>Made with high-quality materials for long-lasting use</li>\\n</ul>\\n<h2>Technical Specs</h2>\\n<ul>\\n<li><strong>Best Use</strong>: Camping, Outdoor Cooking</li>\\n<li><strong>Material:</strong> Stainless Steel</li>\\n<li><strong>Fuel Type</strong>: Propane, Butane, compatible with various fuel types</li>\\n<li><strong>Color:</strong> Black</li>\\n<li><strong>Burner Type</strong>: Dual Burners</li>\\n<li><strong>Heat Output</strong>: High heat output for fast boiling and cooking times</li>\\n<li><strong>Flame Control</strong>: Adjustable flame control for precise temperature regulation</li>\\n<li><strong>Ignition System</strong>: Piezo ignition system for quick and reliable ignition</li>\\n<li><strong>Wind Resistance</strong>: Wind-resistant design to withstand outdoor conditions</li>\\n<li><strong>Construction</strong>: Sturdy construction for durability and stability</li>\\n<li><strong>Fuel Regulator</strong>: Built-in fuel regulator for consistent performance</li>\\n<li><strong>Cooking Grates</strong>: Removable cooking grates for easy cleaning</li>\\n<li><strong>Portability</strong>: Compact and portable design with integrated carrying handle</li>\\n<li><strong>Compatibility</strong>: Compatible with standard camping fuel canisters</li>\\n<li><strong>Dimensions</strong>: 14in x 14in x 10in</li>\\n<li><strong>Weight</strong>: 5 lbs</li>\\n</ul>\\n<h2>User Guide/Manual</h2>\\n<h3>1. Safety Instructions</h3>\\n<ul>\\n<li>Read and understand all instructions before using the camping stove.</li>\\n<li>Only use the camping stove in well-ventilated outdoor areas.</li>\\n<li>Keep the camping stove away from flammable materials, including tents and overhanging branches.</li>\\n<li>Never leave the camping stove unattended while it is in use.</li>\\n<li>Use caution when handling the camping stove, as it can become hot during operation.</li>\\n<li>Keep children and pets away from the camping stove.</li>\\n<li>Follow all local fire safety regulations and guidelines.</li>\\n</ul>\\n<h3>2. Setup and Assembly</h3>\\n<ul>\\n<li>Select a flat and stable surface for setting up the camping stove.</li>\\n<li>Remove the stove from its packaging and unfold the legs.</li>\\n<li>Attach any included accessories such as windshields or side tables, if applicable.</li>\\n</ul>\\n<h3>3. Fuel Selection and Connection</h3>\\n<ul>\\n<li>Choose the appropriate fuel type for your camping stove (propane, butane, etc.).</li>\\n<li>Follow the manufacturer\\'s instructions for connecting the fuel canister to the stove.</li>\\n<li>Ensure a secure and tight connection between the fuel canister and the stove.</li>\\n</ul>\\n<h3>4. Ignition and Flame Control</h3>\\n<ul>\\n<li>Locate the ignition system (typically a piezo igniter) on the camping stove.</li>\\n<li>Turn the control knob to the \"Ignite\" or \"Start\" position and press the ignition button to ignite the burners.</li>\\n<li>Adjust the flame control knob to increase or decrease the flame intensity.</li>\\n</ul>\\n<h3>5. Cooking Tips</h3>\\n<ul>\\n<li>Place cookware on the cooking grates and ensure stability.</li>\\n<li>Use suitable cookware that matches the size of the burners.</li>\\n<li>Monitor the cooking process closely and adjust the flame as needed.</li>\\n<li>Avoid placing flammable materials near the camping stove during cooking.</li>\\n</ul>\\n<h3>6. Cleaning and Maintenance</h3>\\n<ul>\\n<li>Allow the camping stove to cool down completely before cleaning.</li>\\n<li>Clean the cooking grates and stove surface using mild soap and water.</li>\\n<li>Remove any food residue or grease buildup from the burners.</li>\\n<li>Store the camping stove in a clean and dry place.</li>\\n</ul>\\n<h2>Caution Information</h2>\\n<ol>\\n<li><strong>DO NOT</strong> use the camping stove indoors or in poorly ventilated areas. It is designed for outdoor use only.</li>\\n<li><strong>DO NOT</strong> leave the camping stove unattended while it is in use.</li>\\n<li><strong>DO NOT</strong> place flammable materials or objects near the camping stove during operation.</li>\\n<li><strong>DO NOT</strong> use the camping stove in windy conditions without proper wind protection or shielding.</li>\\n<li><strong>DO NOT</strong> touch the stove surfaces or components while they are hot. Always use heat-resistant gloves or utensils.</li>\\n<li><strong>DO NOT</strong> use the camping stove with a damaged or leaking fuel canister. Check for any leaks or defects before connecting.</li>\\n<li><strong>DO NOT</strong> modify or alter the camping stove in any way. Use it as intended and follow the manufacturer\\'s instructions.</li>\\n<li><strong>DO NOT</strong> attempt to disassemble or repair the camping stove yourself. Contact authorized service personnel for assistance.</li>\\n<li><strong>DO NOT</strong> use the camping stove if you suspect a malfunction or if it shows signs of damage. Discontinue use and seek professional inspection.</li>\\n<li><strong>DO NOT</strong> expose the camping stove to extreme temperatures or direct sunlight for prolonged periods when not in use.</li>\\n</ol>\\n<p>Certainly! Here\\'s a sample warranty information for the PowerBurner Camping Stove:</p>\\n<h2>Warranty Information</h2>\\n<ol>\\n<li>Warranty Coverage:</li>\\n<li>The PowerBurner Camping Stove is covered by a <strong>1-year limited warranty</strong> from the date of purchase.</li>\\n<li>The warranty covers manufacturing defects in materials and workmanship under normal use.</li>\\n<li>\\n<p>The warranty is valid only for the original purchaser and is non-transferable.</p>\\n</li>\\n<li>\\n<p>Warranty Exclusions:\\nThe warranty does not cover the following:</p>\\n</li>\\n<li>Damage caused by misuse, abuse, negligence, accidents, or improper maintenance.</li>\\n<li>Normal wear and tear, including scratches, dents, or fading of the finish.</li>\\n<li>Damage caused by unauthorized repairs or modifications.</li>\\n<li>Damage caused by using the camping stove for purposes other than intended.</li>\\n<li>\\n<p>Damage caused by using incompatible or improper fuel.</p>\\n</li>\\n<li>\\n<p>Warranty Claim Procedure:\\nIn the event of a warranty claim, please follow these steps:</p>\\n</li>\\n<li>Contact our customer care center within the warranty period to initiate a warranty claim.</li>\\n<li>Provide proof of purchase, including the date of purchase and the retailer from whom the product was purchased.</li>\\n<li>Describe the issue or defect in detail and provide any supporting documentation or images, if applicable.</li>\\n<li>\\n<p>Our customer care team will guide you through the warranty claim process, which may involve inspection, repair, or replacement of the camping stove.</p>\\n</li>\\n<li>\\n<p>Contact Information:\\nIf you have any questions or need assistance with your PowerBurner Camping Stove, please contact our customer care team:</p>\\n</li>\\n<li>Customer Care Phone: 1-800-213-2314</li>\\n<li>Customer Care Email: support@powerburner.com</li>\\n<li>Website: www.powerburner.com/support</li>\\n</ol>\\n<h2>Return Policy</h2>\\n<ul>\\n<li><strong>If Membership status \"None\":</strong>  If you are not satisfied with your purchase, you can return it within 30 days for a full refund. The product must be unused and in its original packaging.</li>\\n<li><strong>If Membership status \"Gold\":</strong>  Gold members can return their camping stoves within 60 days of purchase for a full refund or exchange. The product must be unused and in its original packaging.</li>\\n<li><strong>If Membership status \"Platinum\":</strong>  Platinum members can return their camping stoves within 90 days of purchase for a full refund or exchange. The product must be unused and in its original packaging. Additionally, Platinum members receive a 10% discount on all camping stove purchases but from the same product brand.</li>\\n</ul>\\n<h2>Reviews</h2>\\n<p>1) <strong>Rating:</strong> 5\\n   <strong>Review:</strong> I absolutely love the PowerBurner Camping Stove! It\\'s compact, lightweight, and incredibly efficient. It heats up quickly and provides a consistent flame for cooking. The adjustable heat control is a great feature, allowing me to simmer or boil with ease. The sturdy construction and durable materials give me confidence in its longevity. It\\'s definitely a reliable companion for all my camping adventures!</p>\\n<p>2) <strong>Rating:</strong> 4\\n   <strong>Review:</strong> The PowerBurner Camping Stove is a solid choice for outdoor cooking. It\\'s easy to assemble and disassemble, making it convenient to transport. The flame output is consistent, and the heat is well-distributed. I appreciate the built-in wind protection, which helps maintain a steady flame even in windy conditions. The stove is sturdy and stable, providing a reliable cooking surface. The only downside is that it\\'s a bit bulky compared to other camping stoves I\\'ve used, but overall, it\\'s a reliable and functional option.</p>\\n<p>3) <strong>Rating:</strong> 3\\n   <strong>Review:</strong> The PowerBurner Camping Stove gets the job done, but it has some room for improvement. The flame control is a bit tricky, and it can be challenging to achieve a low simmer. The ignition system works well most of the time, but occasionally it takes a few tries to get it going. On the positive side, it\\'s fairly lightweight and easy to carry. The construction is decent, but I would prefer a more durable feel. It\\'s an average camping stove that serves its purpose adequately.</p>\\n<p>4) <strong>Rating:</strong> 5\\n   <strong>Review:</strong> I\\'m impressed with the performance of the PowerBurner Camping Stove. It\\'s compact, yet powerful enough to cook meals quickly. The flame is adjustable and provides excellent heat control. The integrated piezo ignition is reliable and saves me the hassle of carrying a separate lighter. The stove is easy to clean, and the included carrying case is a nice bonus. I\\'ve used it on multiple camping trips, and it has never let me down. Highly recommended for outdoor cooking enthusiasts!</p>\\n<p>5) <strong>Rating:</strong> 4\\n   <strong>Review:</strong> The PowerBurner Camping Stove is a solid choice for camp cooking. It\\'s easy to set up and operate, and the flame is consistent and reliable. The stove is stable on various surfaces, thanks to its sturdy design. The included windscreen is effective in protecting the flame from gusts of wind. The only minor drawback is that the control valve is a bit sensitive, requiring careful adjustment to achieve the desired heat level. Overall, it\\'s a reliable camping stove that delivers good performance.</p>\\n<h2>FAQ</h2>\\n<p>59) Can the PowerBurner Camping Stove be used with both propane and butane?\\n   Yes, the PowerBurner Camping Stove is compatible with both propane and butane fuel canisters, allowing you to choose the most convenient option for your needs.</p>\\n<p>60) How easy is it to clean the PowerBurner Camping Stove after use?\\n   The PowerBurner Camping Stove is designed for easy cleaning, with removable pot supports and a stainless steel construction that can be wiped down with a damp cloth after it has cooled down.</p>\\n<p>61) How long do fuel canisters last with the PowerBurner Camping Stove?\\n   Fuel consumption for the PowerBurner Camping Stove depends on factors like burner intensity and altitude. On average, a 16 oz propane canister can last between 1 to 2 hours of continuous use on high heat.</p>\\n<p>62) Can I use the PowerBurner Camping Stove indoors?\\n   The PowerBurner Camping Stove is designed for outdoor use only. Using it indoors can lead to dangerous carbon monoxide buildup, which poses a serious risk to your health and safety.</p>'"
      ]
     },
     "execution_count": 23,
     "metadata": {},
     "output_type": "execute_result"
    }
   ],
   "source": [
    "htmlmarkdown"
   ]
  },
  {
   "cell_type": "code",
   "execution_count": 17,
   "id": "9450bf5e-518e-48c7-a8bc-e17543daf3fc",
   "metadata": {},
   "outputs": [
    {
     "ename": "BadZipFile",
     "evalue": "File is not a zip file",
     "output_type": "error",
     "traceback": [
      "\u001b[0;31m---------------------------------------------------------------------------\u001b[0m",
      "\u001b[0;31mBadZipFile\u001b[0m                                Traceback (most recent call last)",
      "Cell \u001b[0;32mIn[17], line 2\u001b[0m\n\u001b[1;32m      1\u001b[0m \u001b[38;5;28;01mfor\u001b[39;00m i \u001b[38;5;129;01min\u001b[39;00m \u001b[38;5;28mrange\u001b[39m(\u001b[38;5;28mlen\u001b[39m(files)):\n\u001b[0;32m----> 2\u001b[0m     text \u001b[38;5;241m=\u001b[39m \u001b[43mdocx2txt\u001b[49m\u001b[38;5;241;43m.\u001b[39;49m\u001b[43mprocess\u001b[49m\u001b[43m(\u001b[49m\u001b[43mfiles\u001b[49m\u001b[43m[\u001b[49m\u001b[43mi\u001b[49m\u001b[43m]\u001b[49m\u001b[43m)\u001b[49m\u001b[38;5;241m.\u001b[39mreplace(\u001b[38;5;124m'\u001b[39m\u001b[38;5;130;01m\\n\u001b[39;00m\u001b[38;5;130;01m\\n\u001b[39;00m\u001b[38;5;124m'\u001b[39m, \u001b[38;5;124m'\u001b[39m\u001b[38;5;124m'\u001b[39m)\u001b[38;5;241m.\u001b[39mreplace(\u001b[38;5;124m'\u001b[39m\u001b[38;5;130;01m\\t\u001b[39;00m\u001b[38;5;124m'\u001b[39m, \u001b[38;5;124m'\u001b[39m\u001b[38;5;124m \u001b[39m\u001b[38;5;124m'\u001b[39m)\n\u001b[1;32m      3\u001b[0m \u001b[38;5;66;03m#     text = docx2txt.process(files[i])\u001b[39;00m\n\u001b[1;32m      6\u001b[0m     docs \u001b[38;5;241m=\u001b[39m splitter\u001b[38;5;241m.\u001b[39mcreate_documents([text])\n",
      "File \u001b[0;32m~/python_venv/lib/python3.12/site-packages/docx2txt/docx2txt.py:76\u001b[0m, in \u001b[0;36mprocess\u001b[0;34m(docx, img_dir)\u001b[0m\n\u001b[1;32m     73\u001b[0m text \u001b[38;5;241m=\u001b[39m \u001b[38;5;124mu\u001b[39m\u001b[38;5;124m'\u001b[39m\u001b[38;5;124m'\u001b[39m\n\u001b[1;32m     75\u001b[0m \u001b[38;5;66;03m# unzip the docx in memory\u001b[39;00m\n\u001b[0;32m---> 76\u001b[0m zipf \u001b[38;5;241m=\u001b[39m \u001b[43mzipfile\u001b[49m\u001b[38;5;241;43m.\u001b[39;49m\u001b[43mZipFile\u001b[49m\u001b[43m(\u001b[49m\u001b[43mdocx\u001b[49m\u001b[43m)\u001b[49m\n\u001b[1;32m     77\u001b[0m filelist \u001b[38;5;241m=\u001b[39m zipf\u001b[38;5;241m.\u001b[39mnamelist()\n\u001b[1;32m     79\u001b[0m \u001b[38;5;66;03m# get header text\u001b[39;00m\n\u001b[1;32m     80\u001b[0m \u001b[38;5;66;03m# there can be 3 header files in the zip\u001b[39;00m\n",
      "File \u001b[0;32m/usr/lib/python3.12/zipfile/__init__.py:1349\u001b[0m, in \u001b[0;36mZipFile.__init__\u001b[0;34m(self, file, mode, compression, allowZip64, compresslevel, strict_timestamps, metadata_encoding)\u001b[0m\n\u001b[1;32m   1347\u001b[0m \u001b[38;5;28;01mtry\u001b[39;00m:\n\u001b[1;32m   1348\u001b[0m     \u001b[38;5;28;01mif\u001b[39;00m mode \u001b[38;5;241m==\u001b[39m \u001b[38;5;124m'\u001b[39m\u001b[38;5;124mr\u001b[39m\u001b[38;5;124m'\u001b[39m:\n\u001b[0;32m-> 1349\u001b[0m         \u001b[38;5;28;43mself\u001b[39;49m\u001b[38;5;241;43m.\u001b[39;49m\u001b[43m_RealGetContents\u001b[49m\u001b[43m(\u001b[49m\u001b[43m)\u001b[49m\n\u001b[1;32m   1350\u001b[0m     \u001b[38;5;28;01melif\u001b[39;00m mode \u001b[38;5;129;01min\u001b[39;00m (\u001b[38;5;124m'\u001b[39m\u001b[38;5;124mw\u001b[39m\u001b[38;5;124m'\u001b[39m, \u001b[38;5;124m'\u001b[39m\u001b[38;5;124mx\u001b[39m\u001b[38;5;124m'\u001b[39m):\n\u001b[1;32m   1351\u001b[0m         \u001b[38;5;66;03m# set the modified flag so central directory gets written\u001b[39;00m\n\u001b[1;32m   1352\u001b[0m         \u001b[38;5;66;03m# even if no files are added to the archive\u001b[39;00m\n\u001b[1;32m   1353\u001b[0m         \u001b[38;5;28mself\u001b[39m\u001b[38;5;241m.\u001b[39m_didModify \u001b[38;5;241m=\u001b[39m \u001b[38;5;28;01mTrue\u001b[39;00m\n",
      "File \u001b[0;32m/usr/lib/python3.12/zipfile/__init__.py:1416\u001b[0m, in \u001b[0;36mZipFile._RealGetContents\u001b[0;34m(self)\u001b[0m\n\u001b[1;32m   1414\u001b[0m     \u001b[38;5;28;01mraise\u001b[39;00m BadZipFile(\u001b[38;5;124m\"\u001b[39m\u001b[38;5;124mFile is not a zip file\u001b[39m\u001b[38;5;124m\"\u001b[39m)\n\u001b[1;32m   1415\u001b[0m \u001b[38;5;28;01mif\u001b[39;00m \u001b[38;5;129;01mnot\u001b[39;00m endrec:\n\u001b[0;32m-> 1416\u001b[0m     \u001b[38;5;28;01mraise\u001b[39;00m BadZipFile(\u001b[38;5;124m\"\u001b[39m\u001b[38;5;124mFile is not a zip file\u001b[39m\u001b[38;5;124m\"\u001b[39m)\n\u001b[1;32m   1417\u001b[0m \u001b[38;5;28;01mif\u001b[39;00m \u001b[38;5;28mself\u001b[39m\u001b[38;5;241m.\u001b[39mdebug \u001b[38;5;241m>\u001b[39m \u001b[38;5;241m1\u001b[39m:\n\u001b[1;32m   1418\u001b[0m     \u001b[38;5;28mprint\u001b[39m(endrec)\n",
      "\u001b[0;31mBadZipFile\u001b[0m: File is not a zip file"
     ]
    }
   ],
   "source": [
    "for i in range(len(files)):\n",
    "    text = docx2txt.process(files[i]).replace('\\n\\n', '').replace('\\t', ' ')\n",
    "#     text = docx2txt.process(files[i])\n",
    "\n",
    "\n",
    "    docs = splitter.create_documents([text])\n",
    "    if(i == 0):\n",
    "        db = FAISS.from_documents(docs, custom_embedding)\n",
    "    else:\n",
    "        db.add_documents(docs)\n"
   ]
  },
  {
   "cell_type": "code",
   "execution_count": null,
   "id": "f7c21310-59b8-492d-a444-49bda72c9ace",
   "metadata": {},
   "outputs": [],
   "source": []
  },
  {
   "cell_type": "code",
   "execution_count": null,
   "id": "df74d7df-1256-421b-9c11-ce9e255bd6cd",
   "metadata": {},
   "outputs": [],
   "source": []
  },
  {
   "cell_type": "code",
   "execution_count": null,
   "id": "f0fdd72e-6d86-491f-8a83-8b1fb58b5307",
   "metadata": {},
   "outputs": [],
   "source": []
  },
  {
   "cell_type": "code",
   "execution_count": null,
   "id": "d95c6e34-f6bf-483f-8d3d-905e914495cd",
   "metadata": {},
   "outputs": [],
   "source": []
  },
  {
   "cell_type": "code",
   "execution_count": null,
   "id": "11d2a6e6-fd43-483d-a64c-e0781e97dd0d",
   "metadata": {},
   "outputs": [],
   "source": []
  },
  {
   "cell_type": "code",
   "execution_count": null,
   "id": "d6bed542-507e-4ebd-9162-9b7690432146",
   "metadata": {},
   "outputs": [],
   "source": []
  },
  {
   "cell_type": "code",
   "execution_count": null,
   "id": "4b7774d7-32ad-48e0-9b62-20f7855b489c",
   "metadata": {},
   "outputs": [],
   "source": []
  },
  {
   "cell_type": "code",
   "execution_count": null,
   "id": "c49ea6ae-c2f6-4578-a664-42a6e3e5bc3f",
   "metadata": {},
   "outputs": [],
   "source": []
  },
  {
   "cell_type": "code",
   "execution_count": null,
   "id": "cc3853df-e1a1-4e9b-8e39-03bb8b6a71a5",
   "metadata": {},
   "outputs": [],
   "source": []
  },
  {
   "cell_type": "code",
   "execution_count": null,
   "id": "4f3859bc-ef96-4752-a976-ca7419d7f957",
   "metadata": {},
   "outputs": [],
   "source": []
  }
 ],
 "metadata": {
  "kernelspec": {
   "display_name": "Python 3 (ipykernel)",
   "language": "python",
   "name": "python3"
  },
  "language_info": {
   "codemirror_mode": {
    "name": "ipython",
    "version": 3
   },
   "file_extension": ".py",
   "mimetype": "text/x-python",
   "name": "python",
   "nbconvert_exporter": "python",
   "pygments_lexer": "ipython3",
   "version": "3.12.3"
  },
  "toc": {
   "base_numbering": 1,
   "nav_menu": {},
   "number_sections": true,
   "sideBar": true,
   "skip_h1_title": false,
   "title_cell": "Table of Contents",
   "title_sidebar": "Contents",
   "toc_cell": false,
   "toc_position": {
    "height": "calc(100% - 180px)",
    "left": "10px",
    "top": "150px",
    "width": "370px"
   },
   "toc_section_display": true,
   "toc_window_display": true
  }
 },
 "nbformat": 4,
 "nbformat_minor": 5
}
