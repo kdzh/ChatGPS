{
 "cells": [
  {
   "cell_type": "raw",
   "id": "28342563-8808-44f3-8cae-ed1ac616ab54",
   "metadata": {},
   "source": [
    "https://www.youtube.com/watch?v=abMwFViFFhI\n",
    "https://github.com/enricd/rag_llm_app/blob/main/app.py\n",
    "\n",
    "https://github.com/yandex-cloud-examples/yc-yagpt-chatbot-streamlit"
   ]
  },
  {
   "cell_type": "code",
   "execution_count": null,
   "id": "9fa9dbd7-35a5-4d21-87a5-2254b377aae9",
   "metadata": {},
   "outputs": [],
   "source": []
  },
  {
   "cell_type": "code",
   "execution_count": 1,
   "id": "a92b0a38-1da4-49ba-80be-a3eecebe3fe8",
   "metadata": {},
   "outputs": [
    {
     "name": "stderr",
     "output_type": "stream",
     "text": [
      "/tmp/ipykernel_20401/2288506685.py:7: TqdmExperimentalWarning: Using `tqdm.autonotebook.tqdm` in notebook mode. Use `tqdm.tqdm` instead to force console mode (e.g. in jupyter console)\n",
      "  from tqdm.autonotebook import tqdm\n"
     ]
    }
   ],
   "source": [
    "import requests\n",
    "import json\n",
    "import subprocess\n",
    "import os\n",
    "from pathlib import Path\n",
    "# from tqdm.notebook import tqdm\n",
    "from tqdm.autonotebook import tqdm\n",
    "import pandas as pd\n",
    "import shutil\n",
    "from typing import Any, Generator, Optional, List\n",
    "from datetime import datetime\n",
    "\n",
    "import ollama\n",
    "\n",
    "from langchain_community.chat_models import ChatOllama\n",
    "from langchain.document_loaders import DirectoryLoader, UnstructuredMarkdownLoader, CSVLoader\n",
    "from langchain.text_splitter import Language, RecursiveCharacterTextSplitter\n",
    "# from langchain.embeddings import HuggingFaceEmbeddings\n",
    "from langchain.vectorstores import FAISS\n",
    "from langchain_huggingface import HuggingFaceEmbeddings\n",
    "from langchain.llms.base import LLM\n",
    "from langchain.schema import Generation\n",
    "from langchain.schema import ChatGeneration\n",
    "from langchain_core.messages import AIMessageChunk\n",
    "from langchain.chains import RetrievalQA\n",
    "from langchain.schema import HumanMessage, AIMessage\n",
    "from langchain_core.prompts import PromptTemplate"
   ]
  },
  {
   "cell_type": "raw",
   "id": "7f1f03a8",
   "metadata": {},
   "source": [
    "https://www.kaggle.com/code/ttminh27/rag-using-bert-base-and-mistral-base\n",
    "https://www.kaggle.com/code/parthbagda/rag-with-llama-3-8b"
   ]
  },
  {
   "cell_type": "raw",
   "id": "d88073af",
   "metadata": {},
   "source": [
    "https://habr.com/ru/companies/wunderfund/articles/779748/\n",
    "https://habr.com/ru/companies/raft/articles/791034/"
   ]
  },
  {
   "cell_type": "raw",
   "id": "38528b7e",
   "metadata": {},
   "source": [
    "llama index\n",
    "\n",
    "# https://github.com/marklysze/LlamaIndex-RAG-WSL-CUDA/blob/master/LlamaIndex_RAG_SelfChunking.ipynb"
   ]
  },
  {
   "cell_type": "raw",
   "id": "e6e83a71",
   "metadata": {},
   "source": [
    "RuBERT\n",
    "\n",
    "https://huggingface.co/DeepPavlov/rubert-base-cased/tree/main"
   ]
  },
  {
   "cell_type": "raw",
   "id": "32103004",
   "metadata": {},
   "source": [
    "https://chat.lmsys.org/?leaderboard\n",
    "\n",
    "https://github.com/ollama/ollama-python"
   ]
  },
  {
   "cell_type": "raw",
   "id": "ff8772d6",
   "metadata": {},
   "source": [
    "When RAG is not enough\n",
    "\n",
    "https://www.youtube.com/watch?v=uVkS05qPhik\n",
    "https://neurons-lab.com/article/intro-to-llm-agents-with-langchain-when-rag-is-not-enough/"
   ]
  },
  {
   "cell_type": "markdown",
   "id": "7ccec123-8b26-4cfc-89fa-8ca8abfe12f6",
   "metadata": {},
   "source": [
    "# Общаемся с YandexGPT"
   ]
  },
  {
   "cell_type": "code",
   "execution_count": 2,
   "id": "28ce54e5-f3fd-4f10-8814-c6e0ebbc55ca",
   "metadata": {},
   "outputs": [],
   "source": [
    "YANDEX_FOLDER_ID = 'b1gfbnbrsndktci2srd6'\n",
    "env = os.environ.copy()\n",
    "env[\"FOLDER_ID\"] = YANDEX_FOLDER_ID"
   ]
  },
  {
   "cell_type": "code",
   "execution_count": null,
   "id": "3d403fdf-ba5c-430c-bdab-6612c45d4a62",
   "metadata": {},
   "outputs": [],
   "source": []
  },
  {
   "cell_type": "code",
   "execution_count": null,
   "id": "ff0b42fa-9580-4611-9d40-a86afd197c09",
   "metadata": {},
   "outputs": [],
   "source": []
  },
  {
   "cell_type": "markdown",
   "id": "14511247-9ca4-4f19-8678-4edf45f03ae0",
   "metadata": {},
   "source": [
    "## Новая версия"
   ]
  },
  {
   "cell_type": "code",
   "execution_count": 19,
   "id": "72c875d4-6f09-488e-8cd7-f40ef4c29dbe",
   "metadata": {},
   "outputs": [],
   "source": [
    "from langchain_community.chat_models import ChatYandexGPT\n",
    "from langchain_core.prompts import ChatPromptTemplate, MessagesPlaceholder\n",
    "from langchain_community.chat_message_histories import StreamlitChatMessageHistory\n",
    "from langchain_core.runnables.history import RunnableWithMessageHistory"
   ]
  },
  {
   "cell_type": "code",
   "execution_count": 26,
   "id": "abf4a4e8-7505-4c54-af4c-c9f8331f7d76",
   "metadata": {},
   "outputs": [],
   "source": [
    "model_uri = \"gpt://\"+str(YANDEX_FOLDER_ID)+\"/yandexgpt-lite/latest\"\n",
    "yagpt_api_key = 't1.9euelZrLmc_PjY6cis6czMaezMyYne3rnpWaxpCPxpWXjpDOzM6dlceQxsrl9Pd7E3w7-e9BRQCX3fT3O0J5O_nvQUUAl83n9euelZqVxprMz5Cbx5PGmY3KnpuQk-_8xeuelZqVxprMz5Cbx5PGmY3KnpuQkw.hLKwoN5D3rbzdJ1JTNkFRMwozkVHTx5RiEryEX1h8NyX8iuDcFR3kcdrIUBJbS8Le6ciTf_VZGIVOexdUsMOAA'"
   ]
  },
  {
   "cell_type": "code",
   "execution_count": 27,
   "id": "c5a568db-1692-4d26-a8c6-56586a0695e9",
   "metadata": {},
   "outputs": [],
   "source": [
    "yagpt_temperature = 0.6\n",
    "yagpt_max_tokens = 2000"
   ]
  },
  {
   "cell_type": "code",
   "execution_count": 28,
   "id": "2d135eea-2a59-4f07-b995-9723507423fd",
   "metadata": {},
   "outputs": [],
   "source": [
    "model = ChatYandexGPT(api_key=yagpt_api_key, model_uri=model_uri, temperature = yagpt_temperature, max_tokens = yagpt_max_tokens)"
   ]
  },
  {
   "cell_type": "code",
   "execution_count": 29,
   "id": "7d880fa3-231f-43e1-a050-5eefe84eca2b",
   "metadata": {},
   "outputs": [],
   "source": [
    "custom_prompt = 'Привет! Как дела?'"
   ]
  },
  {
   "cell_type": "code",
   "execution_count": 30,
   "id": "88d427fe-d56c-48d7-9d5e-8fbc0300cf2e",
   "metadata": {},
   "outputs": [],
   "source": [
    "prompt = ChatPromptTemplate.from_messages(\n",
    "        [\n",
    "            (\"system\", custom_prompt),\n",
    "            MessagesPlaceholder(variable_name=\"history\"),\n",
    "            (\"human\", \"{question}\"),\n",
    "        ]\n",
    "    )"
   ]
  },
  {
   "cell_type": "code",
   "execution_count": 31,
   "id": "65d06933-958f-442b-b4a6-1cbb0f989054",
   "metadata": {},
   "outputs": [
    {
     "name": "stderr",
     "output_type": "stream",
     "text": [
      "2025-07-23 17:47:46.565 WARNING streamlit.runtime.scriptrunner_utils.script_run_context: Thread 'MainThread': missing ScriptRunContext! This warning can be ignored when running in bare mode.\n",
      "2025-07-23 17:47:46.567 WARNING streamlit.runtime.scriptrunner_utils.script_run_context: Thread 'MainThread': missing ScriptRunContext! This warning can be ignored when running in bare mode.\n"
     ]
    }
   ],
   "source": [
    "msgs = StreamlitChatMessageHistory(key=\"langchain_messages\")\n",
    "if len(msgs.messages) == 0:\n",
    "    msgs.add_ai_message(\"Привет! Как я могу вам помочь?\")"
   ]
  },
  {
   "cell_type": "code",
   "execution_count": 32,
   "id": "fc78fc2b-996b-4bf9-b961-4443041600cd",
   "metadata": {},
   "outputs": [],
   "source": [
    "chain = prompt | model\n",
    "chain_with_history = RunnableWithMessageHistory(\n",
    "    chain,\n",
    "    lambda session_id: msgs,\n",
    "    input_messages_key=\"question\",\n",
    "    history_messages_key=\"history\",\n",
    ")\n"
   ]
  },
  {
   "cell_type": "code",
   "execution_count": 33,
   "id": "68fbc5e2-e87d-4b68-9ead-06f98dc060b3",
   "metadata": {},
   "outputs": [],
   "source": [
    "config = {\"configurable\": {\"session_id\": \"any\"}}"
   ]
  },
  {
   "cell_type": "code",
   "execution_count": 34,
   "id": "f4662b5a-7413-44e6-9f2a-b399e9aef8bc",
   "metadata": {
    "scrolled": true
   },
   "outputs": [
    {
     "name": "stderr",
     "output_type": "stream",
     "text": [
      "Retrying langchain_community.chat_models.yandex.completion_with_retry.<locals>._completion_with_retry in 1.0 seconds as it raised _MultiThreadedRendezvous: <_MultiThreadedRendezvous of RPC that terminated with:\n",
      "\tstatus = StatusCode.UNAUTHENTICATED\n",
      "\tdetails = \"Unknown api key 't1.9****MOAA (0F543BF4)'\"\n",
      "\tdebug_error_string = \"UNKNOWN:Error received from peer ipv4:158.160.54.160:443 {grpc_message:\"Unknown api key \\'t1.9****MOAA (0F543BF4)\\'\", grpc_status:16}\"\n",
      ">.\n",
      "Retrying langchain_community.chat_models.yandex.completion_with_retry.<locals>._completion_with_retry in 2.0 seconds as it raised _MultiThreadedRendezvous: <_MultiThreadedRendezvous of RPC that terminated with:\n",
      "\tstatus = StatusCode.UNAUTHENTICATED\n",
      "\tdetails = \"Unknown api key 't1.9****MOAA (0F543BF4)'\"\n",
      "\tdebug_error_string = \"UNKNOWN:Error received from peer ipv4:158.160.54.160:443 {grpc_status:16, grpc_message:\"Unknown api key \\'t1.9****MOAA (0F543BF4)\\'\"}\"\n",
      ">.\n",
      "Retrying langchain_community.chat_models.yandex.completion_with_retry.<locals>._completion_with_retry in 4.0 seconds as it raised _MultiThreadedRendezvous: <_MultiThreadedRendezvous of RPC that terminated with:\n",
      "\tstatus = StatusCode.UNAUTHENTICATED\n",
      "\tdetails = \"Unknown api key 't1.9****MOAA (0F543BF4)'\"\n",
      "\tdebug_error_string = \"UNKNOWN:Error received from peer ipv4:158.160.54.160:443 {grpc_message:\"Unknown api key \\'t1.9****MOAA (0F543BF4)\\'\", grpc_status:16}\"\n",
      ">.\n",
      "Retrying langchain_community.chat_models.yandex.completion_with_retry.<locals>._completion_with_retry in 8.0 seconds as it raised _MultiThreadedRendezvous: <_MultiThreadedRendezvous of RPC that terminated with:\n",
      "\tstatus = StatusCode.UNAUTHENTICATED\n",
      "\tdetails = \"Unknown api key 't1.9****MOAA (0F543BF4)'\"\n",
      "\tdebug_error_string = \"UNKNOWN:Error received from peer ipv4:158.160.54.160:443 {grpc_message:\"Unknown api key \\'t1.9****MOAA (0F543BF4)\\'\", grpc_status:16}\"\n",
      ">.\n",
      "Retrying langchain_community.chat_models.yandex.completion_with_retry.<locals>._completion_with_retry in 16.0 seconds as it raised _MultiThreadedRendezvous: <_MultiThreadedRendezvous of RPC that terminated with:\n",
      "\tstatus = StatusCode.UNAUTHENTICATED\n",
      "\tdetails = \"Unknown api key 't1.9****MOAA (0F543BF4)'\"\n",
      "\tdebug_error_string = \"UNKNOWN:Error received from peer ipv4:158.160.54.160:443 {grpc_status:16, grpc_message:\"Unknown api key \\'t1.9****MOAA (0F543BF4)\\'\"}\"\n",
      ">.\n"
     ]
    },
    {
     "ename": "_MultiThreadedRendezvous",
     "evalue": "<_MultiThreadedRendezvous of RPC that terminated with:\n\tstatus = StatusCode.UNAUTHENTICATED\n\tdetails = \"Unknown api key 't1.9****MOAA (0F543BF4)'\"\n\tdebug_error_string = \"UNKNOWN:Error received from peer ipv4:158.160.54.160:443 {grpc_status:16, grpc_message:\"Unknown api key \\'t1.9****MOAA (0F543BF4)\\'\"}\"\n>",
     "output_type": "error",
     "traceback": [
      "\u001b[31m---------------------------------------------------------------------------\u001b[39m",
      "\u001b[31m_MultiThreadedRendezvous\u001b[39m                  Traceback (most recent call last)",
      "\u001b[36mCell\u001b[39m\u001b[36m \u001b[39m\u001b[32mIn[34]\u001b[39m\u001b[32m, line 1\u001b[39m\n\u001b[32m----> \u001b[39m\u001b[32m1\u001b[39m response = \u001b[43mchain_with_history\u001b[49m\u001b[43m.\u001b[49m\u001b[43minvoke\u001b[49m\u001b[43m(\u001b[49m\u001b[43m{\u001b[49m\u001b[33;43m\"\u001b[39;49m\u001b[33;43mquestion\u001b[39;49m\u001b[33;43m\"\u001b[39;49m\u001b[43m:\u001b[49m\u001b[43m \u001b[49m\u001b[43mprompt\u001b[49m\u001b[43m}\u001b[49m\u001b[43m,\u001b[49m\u001b[43m \u001b[49m\u001b[43mconfig\u001b[49m\u001b[43m)\u001b[49m\n",
      "\u001b[36mFile \u001b[39m\u001b[32m~/main_python_venv/lib/python3.12/site-packages/langchain_core/runnables/base.py:5434\u001b[39m, in \u001b[36mRunnableBindingBase.invoke\u001b[39m\u001b[34m(self, input, config, **kwargs)\u001b[39m\n\u001b[32m   5427\u001b[39m \u001b[38;5;129m@override\u001b[39m\n\u001b[32m   5428\u001b[39m \u001b[38;5;28;01mdef\u001b[39;00m\u001b[38;5;250m \u001b[39m\u001b[34minvoke\u001b[39m(\n\u001b[32m   5429\u001b[39m     \u001b[38;5;28mself\u001b[39m,\n\u001b[32m   (...)\u001b[39m\u001b[32m   5432\u001b[39m     **kwargs: Optional[Any],\n\u001b[32m   5433\u001b[39m ) -> Output:\n\u001b[32m-> \u001b[39m\u001b[32m5434\u001b[39m     \u001b[38;5;28;01mreturn\u001b[39;00m \u001b[38;5;28;43mself\u001b[39;49m\u001b[43m.\u001b[49m\u001b[43mbound\u001b[49m\u001b[43m.\u001b[49m\u001b[43minvoke\u001b[49m\u001b[43m(\u001b[49m\n\u001b[32m   5435\u001b[39m \u001b[43m        \u001b[49m\u001b[38;5;28;43minput\u001b[39;49m\u001b[43m,\u001b[49m\n\u001b[32m   5436\u001b[39m \u001b[43m        \u001b[49m\u001b[38;5;28;43mself\u001b[39;49m\u001b[43m.\u001b[49m\u001b[43m_merge_configs\u001b[49m\u001b[43m(\u001b[49m\u001b[43mconfig\u001b[49m\u001b[43m)\u001b[49m\u001b[43m,\u001b[49m\n\u001b[32m   5437\u001b[39m \u001b[43m        \u001b[49m\u001b[43m*\u001b[49m\u001b[43m*\u001b[49m\u001b[43m{\u001b[49m\u001b[43m*\u001b[49m\u001b[43m*\u001b[49m\u001b[38;5;28;43mself\u001b[39;49m\u001b[43m.\u001b[49m\u001b[43mkwargs\u001b[49m\u001b[43m,\u001b[49m\u001b[43m \u001b[49m\u001b[43m*\u001b[49m\u001b[43m*\u001b[49m\u001b[43mkwargs\u001b[49m\u001b[43m}\u001b[49m\u001b[43m,\u001b[49m\n\u001b[32m   5438\u001b[39m \u001b[43m    \u001b[49m\u001b[43m)\u001b[49m\n",
      "\u001b[36mFile \u001b[39m\u001b[32m~/main_python_venv/lib/python3.12/site-packages/langchain_core/runnables/base.py:5434\u001b[39m, in \u001b[36mRunnableBindingBase.invoke\u001b[39m\u001b[34m(self, input, config, **kwargs)\u001b[39m\n\u001b[32m   5427\u001b[39m \u001b[38;5;129m@override\u001b[39m\n\u001b[32m   5428\u001b[39m \u001b[38;5;28;01mdef\u001b[39;00m\u001b[38;5;250m \u001b[39m\u001b[34minvoke\u001b[39m(\n\u001b[32m   5429\u001b[39m     \u001b[38;5;28mself\u001b[39m,\n\u001b[32m   (...)\u001b[39m\u001b[32m   5432\u001b[39m     **kwargs: Optional[Any],\n\u001b[32m   5433\u001b[39m ) -> Output:\n\u001b[32m-> \u001b[39m\u001b[32m5434\u001b[39m     \u001b[38;5;28;01mreturn\u001b[39;00m \u001b[38;5;28;43mself\u001b[39;49m\u001b[43m.\u001b[49m\u001b[43mbound\u001b[49m\u001b[43m.\u001b[49m\u001b[43minvoke\u001b[49m\u001b[43m(\u001b[49m\n\u001b[32m   5435\u001b[39m \u001b[43m        \u001b[49m\u001b[38;5;28;43minput\u001b[39;49m\u001b[43m,\u001b[49m\n\u001b[32m   5436\u001b[39m \u001b[43m        \u001b[49m\u001b[38;5;28;43mself\u001b[39;49m\u001b[43m.\u001b[49m\u001b[43m_merge_configs\u001b[49m\u001b[43m(\u001b[49m\u001b[43mconfig\u001b[49m\u001b[43m)\u001b[49m\u001b[43m,\u001b[49m\n\u001b[32m   5437\u001b[39m \u001b[43m        \u001b[49m\u001b[43m*\u001b[49m\u001b[43m*\u001b[49m\u001b[43m{\u001b[49m\u001b[43m*\u001b[49m\u001b[43m*\u001b[49m\u001b[38;5;28;43mself\u001b[39;49m\u001b[43m.\u001b[49m\u001b[43mkwargs\u001b[49m\u001b[43m,\u001b[49m\u001b[43m \u001b[49m\u001b[43m*\u001b[49m\u001b[43m*\u001b[49m\u001b[43mkwargs\u001b[49m\u001b[43m}\u001b[49m\u001b[43m,\u001b[49m\n\u001b[32m   5438\u001b[39m \u001b[43m    \u001b[49m\u001b[43m)\u001b[49m\n",
      "\u001b[36mFile \u001b[39m\u001b[32m~/main_python_venv/lib/python3.12/site-packages/langchain_core/runnables/base.py:3046\u001b[39m, in \u001b[36mRunnableSequence.invoke\u001b[39m\u001b[34m(self, input, config, **kwargs)\u001b[39m\n\u001b[32m   3044\u001b[39m                 input_ = context.run(step.invoke, input_, config, **kwargs)\n\u001b[32m   3045\u001b[39m             \u001b[38;5;28;01melse\u001b[39;00m:\n\u001b[32m-> \u001b[39m\u001b[32m3046\u001b[39m                 input_ = \u001b[43mcontext\u001b[49m\u001b[43m.\u001b[49m\u001b[43mrun\u001b[49m\u001b[43m(\u001b[49m\u001b[43mstep\u001b[49m\u001b[43m.\u001b[49m\u001b[43minvoke\u001b[49m\u001b[43m,\u001b[49m\u001b[43m \u001b[49m\u001b[43minput_\u001b[49m\u001b[43m,\u001b[49m\u001b[43m \u001b[49m\u001b[43mconfig\u001b[49m\u001b[43m)\u001b[49m\n\u001b[32m   3047\u001b[39m \u001b[38;5;66;03m# finish the root run\u001b[39;00m\n\u001b[32m   3048\u001b[39m \u001b[38;5;28;01mexcept\u001b[39;00m \u001b[38;5;167;01mBaseException\u001b[39;00m \u001b[38;5;28;01mas\u001b[39;00m e:\n",
      "\u001b[36mFile \u001b[39m\u001b[32m~/main_python_venv/lib/python3.12/site-packages/langchain_core/runnables/base.py:5434\u001b[39m, in \u001b[36mRunnableBindingBase.invoke\u001b[39m\u001b[34m(self, input, config, **kwargs)\u001b[39m\n\u001b[32m   5427\u001b[39m \u001b[38;5;129m@override\u001b[39m\n\u001b[32m   5428\u001b[39m \u001b[38;5;28;01mdef\u001b[39;00m\u001b[38;5;250m \u001b[39m\u001b[34minvoke\u001b[39m(\n\u001b[32m   5429\u001b[39m     \u001b[38;5;28mself\u001b[39m,\n\u001b[32m   (...)\u001b[39m\u001b[32m   5432\u001b[39m     **kwargs: Optional[Any],\n\u001b[32m   5433\u001b[39m ) -> Output:\n\u001b[32m-> \u001b[39m\u001b[32m5434\u001b[39m     \u001b[38;5;28;01mreturn\u001b[39;00m \u001b[38;5;28;43mself\u001b[39;49m\u001b[43m.\u001b[49m\u001b[43mbound\u001b[49m\u001b[43m.\u001b[49m\u001b[43minvoke\u001b[49m\u001b[43m(\u001b[49m\n\u001b[32m   5435\u001b[39m \u001b[43m        \u001b[49m\u001b[38;5;28;43minput\u001b[39;49m\u001b[43m,\u001b[49m\n\u001b[32m   5436\u001b[39m \u001b[43m        \u001b[49m\u001b[38;5;28;43mself\u001b[39;49m\u001b[43m.\u001b[49m\u001b[43m_merge_configs\u001b[49m\u001b[43m(\u001b[49m\u001b[43mconfig\u001b[49m\u001b[43m)\u001b[49m\u001b[43m,\u001b[49m\n\u001b[32m   5437\u001b[39m \u001b[43m        \u001b[49m\u001b[43m*\u001b[49m\u001b[43m*\u001b[49m\u001b[43m{\u001b[49m\u001b[43m*\u001b[49m\u001b[43m*\u001b[49m\u001b[38;5;28;43mself\u001b[39;49m\u001b[43m.\u001b[49m\u001b[43mkwargs\u001b[49m\u001b[43m,\u001b[49m\u001b[43m \u001b[49m\u001b[43m*\u001b[49m\u001b[43m*\u001b[49m\u001b[43mkwargs\u001b[49m\u001b[43m}\u001b[49m\u001b[43m,\u001b[49m\n\u001b[32m   5438\u001b[39m \u001b[43m    \u001b[49m\u001b[43m)\u001b[49m\n",
      "\u001b[36mFile \u001b[39m\u001b[32m~/main_python_venv/lib/python3.12/site-packages/langchain_core/runnables/base.py:4775\u001b[39m, in \u001b[36mRunnableLambda.invoke\u001b[39m\u001b[34m(self, input, config, **kwargs)\u001b[39m\n\u001b[32m   4761\u001b[39m \u001b[38;5;250m\u001b[39m\u001b[33;03m\"\"\"Invoke this Runnable synchronously.\u001b[39;00m\n\u001b[32m   4762\u001b[39m \n\u001b[32m   4763\u001b[39m \u001b[33;03mArgs:\u001b[39;00m\n\u001b[32m   (...)\u001b[39m\u001b[32m   4772\u001b[39m \u001b[33;03m    TypeError: If the Runnable is a coroutine function.\u001b[39;00m\n\u001b[32m   4773\u001b[39m \u001b[33;03m\"\"\"\u001b[39;00m\n\u001b[32m   4774\u001b[39m \u001b[38;5;28;01mif\u001b[39;00m \u001b[38;5;28mhasattr\u001b[39m(\u001b[38;5;28mself\u001b[39m, \u001b[33m\"\u001b[39m\u001b[33mfunc\u001b[39m\u001b[33m\"\u001b[39m):\n\u001b[32m-> \u001b[39m\u001b[32m4775\u001b[39m     \u001b[38;5;28;01mreturn\u001b[39;00m \u001b[38;5;28;43mself\u001b[39;49m\u001b[43m.\u001b[49m\u001b[43m_call_with_config\u001b[49m\u001b[43m(\u001b[49m\n\u001b[32m   4776\u001b[39m \u001b[43m        \u001b[49m\u001b[38;5;28;43mself\u001b[39;49m\u001b[43m.\u001b[49m\u001b[43m_invoke\u001b[49m\u001b[43m,\u001b[49m\n\u001b[32m   4777\u001b[39m \u001b[43m        \u001b[49m\u001b[38;5;28;43minput\u001b[39;49m\u001b[43m,\u001b[49m\n\u001b[32m   4778\u001b[39m \u001b[43m        \u001b[49m\u001b[43mensure_config\u001b[49m\u001b[43m(\u001b[49m\u001b[43mconfig\u001b[49m\u001b[43m)\u001b[49m\u001b[43m,\u001b[49m\n\u001b[32m   4779\u001b[39m \u001b[43m        \u001b[49m\u001b[43m*\u001b[49m\u001b[43m*\u001b[49m\u001b[43mkwargs\u001b[49m\u001b[43m,\u001b[49m\n\u001b[32m   4780\u001b[39m \u001b[43m    \u001b[49m\u001b[43m)\u001b[49m\n\u001b[32m   4781\u001b[39m msg = \u001b[33m\"\u001b[39m\u001b[33mCannot invoke a coroutine function synchronously.Use `ainvoke` instead.\u001b[39m\u001b[33m\"\u001b[39m\n\u001b[32m   4782\u001b[39m \u001b[38;5;28;01mraise\u001b[39;00m \u001b[38;5;167;01mTypeError\u001b[39;00m(msg)\n",
      "\u001b[36mFile \u001b[39m\u001b[32m~/main_python_venv/lib/python3.12/site-packages/langchain_core/runnables/base.py:1939\u001b[39m, in \u001b[36mRunnable._call_with_config\u001b[39m\u001b[34m(self, func, input_, config, run_type, serialized, **kwargs)\u001b[39m\n\u001b[32m   1935\u001b[39m     child_config = patch_config(config, callbacks=run_manager.get_child())\n\u001b[32m   1936\u001b[39m     \u001b[38;5;28;01mwith\u001b[39;00m set_config_context(child_config) \u001b[38;5;28;01mas\u001b[39;00m context:\n\u001b[32m   1937\u001b[39m         output = cast(\n\u001b[32m   1938\u001b[39m             \u001b[33m\"\u001b[39m\u001b[33mOutput\u001b[39m\u001b[33m\"\u001b[39m,\n\u001b[32m-> \u001b[39m\u001b[32m1939\u001b[39m             \u001b[43mcontext\u001b[49m\u001b[43m.\u001b[49m\u001b[43mrun\u001b[49m\u001b[43m(\u001b[49m\n\u001b[32m   1940\u001b[39m \u001b[43m                \u001b[49m\u001b[43mcall_func_with_variable_args\u001b[49m\u001b[43m,\u001b[49m\u001b[43m  \u001b[49m\u001b[38;5;66;43;03m# type: ignore[arg-type]\u001b[39;49;00m\n\u001b[32m   1941\u001b[39m \u001b[43m                \u001b[49m\u001b[43mfunc\u001b[49m\u001b[43m,\u001b[49m\n\u001b[32m   1942\u001b[39m \u001b[43m                \u001b[49m\u001b[43minput_\u001b[49m\u001b[43m,\u001b[49m\n\u001b[32m   1943\u001b[39m \u001b[43m                \u001b[49m\u001b[43mconfig\u001b[49m\u001b[43m,\u001b[49m\n\u001b[32m   1944\u001b[39m \u001b[43m                \u001b[49m\u001b[43mrun_manager\u001b[49m\u001b[43m,\u001b[49m\n\u001b[32m   1945\u001b[39m \u001b[43m                \u001b[49m\u001b[43m*\u001b[49m\u001b[43m*\u001b[49m\u001b[43mkwargs\u001b[49m\u001b[43m,\u001b[49m\n\u001b[32m   1946\u001b[39m \u001b[43m            \u001b[49m\u001b[43m)\u001b[49m,\n\u001b[32m   1947\u001b[39m         )\n\u001b[32m   1948\u001b[39m \u001b[38;5;28;01mexcept\u001b[39;00m \u001b[38;5;167;01mBaseException\u001b[39;00m \u001b[38;5;28;01mas\u001b[39;00m e:\n\u001b[32m   1949\u001b[39m     run_manager.on_chain_error(e)\n",
      "\u001b[36mFile \u001b[39m\u001b[32m~/main_python_venv/lib/python3.12/site-packages/langchain_core/runnables/config.py:428\u001b[39m, in \u001b[36mcall_func_with_variable_args\u001b[39m\u001b[34m(func, input, config, run_manager, **kwargs)\u001b[39m\n\u001b[32m    426\u001b[39m \u001b[38;5;28;01mif\u001b[39;00m run_manager \u001b[38;5;129;01mis\u001b[39;00m \u001b[38;5;129;01mnot\u001b[39;00m \u001b[38;5;28;01mNone\u001b[39;00m \u001b[38;5;129;01mand\u001b[39;00m accepts_run_manager(func):\n\u001b[32m    427\u001b[39m     kwargs[\u001b[33m\"\u001b[39m\u001b[33mrun_manager\u001b[39m\u001b[33m\"\u001b[39m] = run_manager\n\u001b[32m--> \u001b[39m\u001b[32m428\u001b[39m \u001b[38;5;28;01mreturn\u001b[39;00m \u001b[43mfunc\u001b[49m\u001b[43m(\u001b[49m\u001b[38;5;28;43minput\u001b[39;49m\u001b[43m,\u001b[49m\u001b[43m \u001b[49m\u001b[43m*\u001b[49m\u001b[43m*\u001b[49m\u001b[43mkwargs\u001b[49m\u001b[43m)\u001b[49m\n",
      "\u001b[36mFile \u001b[39m\u001b[32m~/main_python_venv/lib/python3.12/site-packages/langchain_core/runnables/base.py:4644\u001b[39m, in \u001b[36mRunnableLambda._invoke\u001b[39m\u001b[34m(self, input_, run_manager, config, **kwargs)\u001b[39m\n\u001b[32m   4640\u001b[39m         msg = (\n\u001b[32m   4641\u001b[39m             \u001b[33mf\u001b[39m\u001b[33m\"\u001b[39m\u001b[33mRecursion limit reached when invoking \u001b[39m\u001b[38;5;132;01m{\u001b[39;00m\u001b[38;5;28mself\u001b[39m\u001b[38;5;132;01m}\u001b[39;00m\u001b[33m with input \u001b[39m\u001b[38;5;132;01m{\u001b[39;00minput_\u001b[38;5;132;01m}\u001b[39;00m\u001b[33m.\u001b[39m\u001b[33m\"\u001b[39m\n\u001b[32m   4642\u001b[39m         )\n\u001b[32m   4643\u001b[39m         \u001b[38;5;28;01mraise\u001b[39;00m \u001b[38;5;167;01mRecursionError\u001b[39;00m(msg)\n\u001b[32m-> \u001b[39m\u001b[32m4644\u001b[39m     output = \u001b[43moutput\u001b[49m\u001b[43m.\u001b[49m\u001b[43minvoke\u001b[49m\u001b[43m(\u001b[49m\n\u001b[32m   4645\u001b[39m \u001b[43m        \u001b[49m\u001b[43minput_\u001b[49m\u001b[43m,\u001b[49m\n\u001b[32m   4646\u001b[39m \u001b[43m        \u001b[49m\u001b[43mpatch_config\u001b[49m\u001b[43m(\u001b[49m\n\u001b[32m   4647\u001b[39m \u001b[43m            \u001b[49m\u001b[43mconfig\u001b[49m\u001b[43m,\u001b[49m\n\u001b[32m   4648\u001b[39m \u001b[43m            \u001b[49m\u001b[43mcallbacks\u001b[49m\u001b[43m=\u001b[49m\u001b[43mrun_manager\u001b[49m\u001b[43m.\u001b[49m\u001b[43mget_child\u001b[49m\u001b[43m(\u001b[49m\u001b[43m)\u001b[49m\u001b[43m,\u001b[49m\n\u001b[32m   4649\u001b[39m \u001b[43m            \u001b[49m\u001b[43mrecursion_limit\u001b[49m\u001b[43m=\u001b[49m\u001b[43mrecursion_limit\u001b[49m\u001b[43m \u001b[49m\u001b[43m-\u001b[49m\u001b[43m \u001b[49m\u001b[32;43m1\u001b[39;49m\u001b[43m,\u001b[49m\n\u001b[32m   4650\u001b[39m \u001b[43m        \u001b[49m\u001b[43m)\u001b[49m\u001b[43m,\u001b[49m\n\u001b[32m   4651\u001b[39m \u001b[43m    \u001b[49m\u001b[43m)\u001b[49m\n\u001b[32m   4652\u001b[39m \u001b[38;5;28;01mreturn\u001b[39;00m cast(\u001b[33m\"\u001b[39m\u001b[33mOutput\u001b[39m\u001b[33m\"\u001b[39m, output)\n",
      "\u001b[36mFile \u001b[39m\u001b[32m~/main_python_venv/lib/python3.12/site-packages/langchain_core/runnables/base.py:5434\u001b[39m, in \u001b[36mRunnableBindingBase.invoke\u001b[39m\u001b[34m(self, input, config, **kwargs)\u001b[39m\n\u001b[32m   5427\u001b[39m \u001b[38;5;129m@override\u001b[39m\n\u001b[32m   5428\u001b[39m \u001b[38;5;28;01mdef\u001b[39;00m\u001b[38;5;250m \u001b[39m\u001b[34minvoke\u001b[39m(\n\u001b[32m   5429\u001b[39m     \u001b[38;5;28mself\u001b[39m,\n\u001b[32m   (...)\u001b[39m\u001b[32m   5432\u001b[39m     **kwargs: Optional[Any],\n\u001b[32m   5433\u001b[39m ) -> Output:\n\u001b[32m-> \u001b[39m\u001b[32m5434\u001b[39m     \u001b[38;5;28;01mreturn\u001b[39;00m \u001b[38;5;28;43mself\u001b[39;49m\u001b[43m.\u001b[49m\u001b[43mbound\u001b[49m\u001b[43m.\u001b[49m\u001b[43minvoke\u001b[49m\u001b[43m(\u001b[49m\n\u001b[32m   5435\u001b[39m \u001b[43m        \u001b[49m\u001b[38;5;28;43minput\u001b[39;49m\u001b[43m,\u001b[49m\n\u001b[32m   5436\u001b[39m \u001b[43m        \u001b[49m\u001b[38;5;28;43mself\u001b[39;49m\u001b[43m.\u001b[49m\u001b[43m_merge_configs\u001b[49m\u001b[43m(\u001b[49m\u001b[43mconfig\u001b[49m\u001b[43m)\u001b[49m\u001b[43m,\u001b[49m\n\u001b[32m   5437\u001b[39m \u001b[43m        \u001b[49m\u001b[43m*\u001b[49m\u001b[43m*\u001b[49m\u001b[43m{\u001b[49m\u001b[43m*\u001b[49m\u001b[43m*\u001b[49m\u001b[38;5;28;43mself\u001b[39;49m\u001b[43m.\u001b[49m\u001b[43mkwargs\u001b[49m\u001b[43m,\u001b[49m\u001b[43m \u001b[49m\u001b[43m*\u001b[49m\u001b[43m*\u001b[49m\u001b[43mkwargs\u001b[49m\u001b[43m}\u001b[49m\u001b[43m,\u001b[49m\n\u001b[32m   5438\u001b[39m \u001b[43m    \u001b[49m\u001b[43m)\u001b[49m\n",
      "\u001b[36mFile \u001b[39m\u001b[32m~/main_python_venv/lib/python3.12/site-packages/langchain_core/runnables/base.py:3046\u001b[39m, in \u001b[36mRunnableSequence.invoke\u001b[39m\u001b[34m(self, input, config, **kwargs)\u001b[39m\n\u001b[32m   3044\u001b[39m                 input_ = context.run(step.invoke, input_, config, **kwargs)\n\u001b[32m   3045\u001b[39m             \u001b[38;5;28;01melse\u001b[39;00m:\n\u001b[32m-> \u001b[39m\u001b[32m3046\u001b[39m                 input_ = \u001b[43mcontext\u001b[49m\u001b[43m.\u001b[49m\u001b[43mrun\u001b[49m\u001b[43m(\u001b[49m\u001b[43mstep\u001b[49m\u001b[43m.\u001b[49m\u001b[43minvoke\u001b[49m\u001b[43m,\u001b[49m\u001b[43m \u001b[49m\u001b[43minput_\u001b[49m\u001b[43m,\u001b[49m\u001b[43m \u001b[49m\u001b[43mconfig\u001b[49m\u001b[43m)\u001b[49m\n\u001b[32m   3047\u001b[39m \u001b[38;5;66;03m# finish the root run\u001b[39;00m\n\u001b[32m   3048\u001b[39m \u001b[38;5;28;01mexcept\u001b[39;00m \u001b[38;5;167;01mBaseException\u001b[39;00m \u001b[38;5;28;01mas\u001b[39;00m e:\n",
      "\u001b[36mFile \u001b[39m\u001b[32m~/main_python_venv/lib/python3.12/site-packages/langchain_core/language_models/chat_models.py:378\u001b[39m, in \u001b[36mBaseChatModel.invoke\u001b[39m\u001b[34m(self, input, config, stop, **kwargs)\u001b[39m\n\u001b[32m    366\u001b[39m \u001b[38;5;129m@override\u001b[39m\n\u001b[32m    367\u001b[39m \u001b[38;5;28;01mdef\u001b[39;00m\u001b[38;5;250m \u001b[39m\u001b[34minvoke\u001b[39m(\n\u001b[32m    368\u001b[39m     \u001b[38;5;28mself\u001b[39m,\n\u001b[32m   (...)\u001b[39m\u001b[32m    373\u001b[39m     **kwargs: Any,\n\u001b[32m    374\u001b[39m ) -> BaseMessage:\n\u001b[32m    375\u001b[39m     config = ensure_config(config)\n\u001b[32m    376\u001b[39m     \u001b[38;5;28;01mreturn\u001b[39;00m cast(\n\u001b[32m    377\u001b[39m         \u001b[33m\"\u001b[39m\u001b[33mChatGeneration\u001b[39m\u001b[33m\"\u001b[39m,\n\u001b[32m--> \u001b[39m\u001b[32m378\u001b[39m         \u001b[38;5;28;43mself\u001b[39;49m\u001b[43m.\u001b[49m\u001b[43mgenerate_prompt\u001b[49m\u001b[43m(\u001b[49m\n\u001b[32m    379\u001b[39m \u001b[43m            \u001b[49m\u001b[43m[\u001b[49m\u001b[38;5;28;43mself\u001b[39;49m\u001b[43m.\u001b[49m\u001b[43m_convert_input\u001b[49m\u001b[43m(\u001b[49m\u001b[38;5;28;43minput\u001b[39;49m\u001b[43m)\u001b[49m\u001b[43m]\u001b[49m\u001b[43m,\u001b[49m\n\u001b[32m    380\u001b[39m \u001b[43m            \u001b[49m\u001b[43mstop\u001b[49m\u001b[43m=\u001b[49m\u001b[43mstop\u001b[49m\u001b[43m,\u001b[49m\n\u001b[32m    381\u001b[39m \u001b[43m            \u001b[49m\u001b[43mcallbacks\u001b[49m\u001b[43m=\u001b[49m\u001b[43mconfig\u001b[49m\u001b[43m.\u001b[49m\u001b[43mget\u001b[49m\u001b[43m(\u001b[49m\u001b[33;43m\"\u001b[39;49m\u001b[33;43mcallbacks\u001b[39;49m\u001b[33;43m\"\u001b[39;49m\u001b[43m)\u001b[49m\u001b[43m,\u001b[49m\n\u001b[32m    382\u001b[39m \u001b[43m            \u001b[49m\u001b[43mtags\u001b[49m\u001b[43m=\u001b[49m\u001b[43mconfig\u001b[49m\u001b[43m.\u001b[49m\u001b[43mget\u001b[49m\u001b[43m(\u001b[49m\u001b[33;43m\"\u001b[39;49m\u001b[33;43mtags\u001b[39;49m\u001b[33;43m\"\u001b[39;49m\u001b[43m)\u001b[49m\u001b[43m,\u001b[49m\n\u001b[32m    383\u001b[39m \u001b[43m            \u001b[49m\u001b[43mmetadata\u001b[49m\u001b[43m=\u001b[49m\u001b[43mconfig\u001b[49m\u001b[43m.\u001b[49m\u001b[43mget\u001b[49m\u001b[43m(\u001b[49m\u001b[33;43m\"\u001b[39;49m\u001b[33;43mmetadata\u001b[39;49m\u001b[33;43m\"\u001b[39;49m\u001b[43m)\u001b[49m\u001b[43m,\u001b[49m\n\u001b[32m    384\u001b[39m \u001b[43m            \u001b[49m\u001b[43mrun_name\u001b[49m\u001b[43m=\u001b[49m\u001b[43mconfig\u001b[49m\u001b[43m.\u001b[49m\u001b[43mget\u001b[49m\u001b[43m(\u001b[49m\u001b[33;43m\"\u001b[39;49m\u001b[33;43mrun_name\u001b[39;49m\u001b[33;43m\"\u001b[39;49m\u001b[43m)\u001b[49m\u001b[43m,\u001b[49m\n\u001b[32m    385\u001b[39m \u001b[43m            \u001b[49m\u001b[43mrun_id\u001b[49m\u001b[43m=\u001b[49m\u001b[43mconfig\u001b[49m\u001b[43m.\u001b[49m\u001b[43mpop\u001b[49m\u001b[43m(\u001b[49m\u001b[33;43m\"\u001b[39;49m\u001b[33;43mrun_id\u001b[39;49m\u001b[33;43m\"\u001b[39;49m\u001b[43m,\u001b[49m\u001b[43m \u001b[49m\u001b[38;5;28;43;01mNone\u001b[39;49;00m\u001b[43m)\u001b[49m\u001b[43m,\u001b[49m\n\u001b[32m    386\u001b[39m \u001b[43m            \u001b[49m\u001b[43m*\u001b[49m\u001b[43m*\u001b[49m\u001b[43mkwargs\u001b[49m\u001b[43m,\u001b[49m\n\u001b[32m    387\u001b[39m \u001b[43m        \u001b[49m\u001b[43m)\u001b[49m.generations[\u001b[32m0\u001b[39m][\u001b[32m0\u001b[39m],\n\u001b[32m    388\u001b[39m     ).message\n",
      "\u001b[36mFile \u001b[39m\u001b[32m~/main_python_venv/lib/python3.12/site-packages/langchain_core/language_models/chat_models.py:963\u001b[39m, in \u001b[36mBaseChatModel.generate_prompt\u001b[39m\u001b[34m(self, prompts, stop, callbacks, **kwargs)\u001b[39m\n\u001b[32m    954\u001b[39m \u001b[38;5;129m@override\u001b[39m\n\u001b[32m    955\u001b[39m \u001b[38;5;28;01mdef\u001b[39;00m\u001b[38;5;250m \u001b[39m\u001b[34mgenerate_prompt\u001b[39m(\n\u001b[32m    956\u001b[39m     \u001b[38;5;28mself\u001b[39m,\n\u001b[32m   (...)\u001b[39m\u001b[32m    960\u001b[39m     **kwargs: Any,\n\u001b[32m    961\u001b[39m ) -> LLMResult:\n\u001b[32m    962\u001b[39m     prompt_messages = [p.to_messages() \u001b[38;5;28;01mfor\u001b[39;00m p \u001b[38;5;129;01min\u001b[39;00m prompts]\n\u001b[32m--> \u001b[39m\u001b[32m963\u001b[39m     \u001b[38;5;28;01mreturn\u001b[39;00m \u001b[38;5;28;43mself\u001b[39;49m\u001b[43m.\u001b[49m\u001b[43mgenerate\u001b[49m\u001b[43m(\u001b[49m\u001b[43mprompt_messages\u001b[49m\u001b[43m,\u001b[49m\u001b[43m \u001b[49m\u001b[43mstop\u001b[49m\u001b[43m=\u001b[49m\u001b[43mstop\u001b[49m\u001b[43m,\u001b[49m\u001b[43m \u001b[49m\u001b[43mcallbacks\u001b[49m\u001b[43m=\u001b[49m\u001b[43mcallbacks\u001b[49m\u001b[43m,\u001b[49m\u001b[43m \u001b[49m\u001b[43m*\u001b[49m\u001b[43m*\u001b[49m\u001b[43mkwargs\u001b[49m\u001b[43m)\u001b[49m\n",
      "\u001b[36mFile \u001b[39m\u001b[32m~/main_python_venv/lib/python3.12/site-packages/langchain_core/language_models/chat_models.py:782\u001b[39m, in \u001b[36mBaseChatModel.generate\u001b[39m\u001b[34m(self, messages, stop, callbacks, tags, metadata, run_name, run_id, **kwargs)\u001b[39m\n\u001b[32m    779\u001b[39m \u001b[38;5;28;01mfor\u001b[39;00m i, m \u001b[38;5;129;01min\u001b[39;00m \u001b[38;5;28menumerate\u001b[39m(input_messages):\n\u001b[32m    780\u001b[39m     \u001b[38;5;28;01mtry\u001b[39;00m:\n\u001b[32m    781\u001b[39m         results.append(\n\u001b[32m--> \u001b[39m\u001b[32m782\u001b[39m             \u001b[38;5;28;43mself\u001b[39;49m\u001b[43m.\u001b[49m\u001b[43m_generate_with_cache\u001b[49m\u001b[43m(\u001b[49m\n\u001b[32m    783\u001b[39m \u001b[43m                \u001b[49m\u001b[43mm\u001b[49m\u001b[43m,\u001b[49m\n\u001b[32m    784\u001b[39m \u001b[43m                \u001b[49m\u001b[43mstop\u001b[49m\u001b[43m=\u001b[49m\u001b[43mstop\u001b[49m\u001b[43m,\u001b[49m\n\u001b[32m    785\u001b[39m \u001b[43m                \u001b[49m\u001b[43mrun_manager\u001b[49m\u001b[43m=\u001b[49m\u001b[43mrun_managers\u001b[49m\u001b[43m[\u001b[49m\u001b[43mi\u001b[49m\u001b[43m]\u001b[49m\u001b[43m \u001b[49m\u001b[38;5;28;43;01mif\u001b[39;49;00m\u001b[43m \u001b[49m\u001b[43mrun_managers\u001b[49m\u001b[43m \u001b[49m\u001b[38;5;28;43;01melse\u001b[39;49;00m\u001b[43m \u001b[49m\u001b[38;5;28;43;01mNone\u001b[39;49;00m\u001b[43m,\u001b[49m\n\u001b[32m    786\u001b[39m \u001b[43m                \u001b[49m\u001b[43m*\u001b[49m\u001b[43m*\u001b[49m\u001b[43mkwargs\u001b[49m\u001b[43m,\u001b[49m\n\u001b[32m    787\u001b[39m \u001b[43m            \u001b[49m\u001b[43m)\u001b[49m\n\u001b[32m    788\u001b[39m         )\n\u001b[32m    789\u001b[39m     \u001b[38;5;28;01mexcept\u001b[39;00m \u001b[38;5;167;01mBaseException\u001b[39;00m \u001b[38;5;28;01mas\u001b[39;00m e:\n\u001b[32m    790\u001b[39m         \u001b[38;5;28;01mif\u001b[39;00m run_managers:\n",
      "\u001b[36mFile \u001b[39m\u001b[32m~/main_python_venv/lib/python3.12/site-packages/langchain_core/language_models/chat_models.py:1028\u001b[39m, in \u001b[36mBaseChatModel._generate_with_cache\u001b[39m\u001b[34m(self, messages, stop, run_manager, **kwargs)\u001b[39m\n\u001b[32m   1026\u001b[39m     result = generate_from_stream(\u001b[38;5;28miter\u001b[39m(chunks))\n\u001b[32m   1027\u001b[39m \u001b[38;5;28;01melif\u001b[39;00m inspect.signature(\u001b[38;5;28mself\u001b[39m._generate).parameters.get(\u001b[33m\"\u001b[39m\u001b[33mrun_manager\u001b[39m\u001b[33m\"\u001b[39m):\n\u001b[32m-> \u001b[39m\u001b[32m1028\u001b[39m     result = \u001b[38;5;28;43mself\u001b[39;49m\u001b[43m.\u001b[49m\u001b[43m_generate\u001b[49m\u001b[43m(\u001b[49m\n\u001b[32m   1029\u001b[39m \u001b[43m        \u001b[49m\u001b[43mmessages\u001b[49m\u001b[43m,\u001b[49m\u001b[43m \u001b[49m\u001b[43mstop\u001b[49m\u001b[43m=\u001b[49m\u001b[43mstop\u001b[49m\u001b[43m,\u001b[49m\u001b[43m \u001b[49m\u001b[43mrun_manager\u001b[49m\u001b[43m=\u001b[49m\u001b[43mrun_manager\u001b[49m\u001b[43m,\u001b[49m\u001b[43m \u001b[49m\u001b[43m*\u001b[49m\u001b[43m*\u001b[49m\u001b[43mkwargs\u001b[49m\n\u001b[32m   1030\u001b[39m \u001b[43m    \u001b[49m\u001b[43m)\u001b[49m\n\u001b[32m   1031\u001b[39m \u001b[38;5;28;01melse\u001b[39;00m:\n\u001b[32m   1032\u001b[39m     result = \u001b[38;5;28mself\u001b[39m._generate(messages, stop=stop, **kwargs)\n",
      "\u001b[36mFile \u001b[39m\u001b[32m~/main_python_venv/lib/python3.12/site-packages/langchain_community/chat_models/yandex.py:93\u001b[39m, in \u001b[36mChatYandexGPT._generate\u001b[39m\u001b[34m(self, messages, stop, run_manager, **kwargs)\u001b[39m\n\u001b[32m     74\u001b[39m \u001b[38;5;28;01mdef\u001b[39;00m\u001b[38;5;250m \u001b[39m\u001b[34m_generate\u001b[39m(\n\u001b[32m     75\u001b[39m     \u001b[38;5;28mself\u001b[39m,\n\u001b[32m     76\u001b[39m     messages: List[BaseMessage],\n\u001b[32m   (...)\u001b[39m\u001b[32m     79\u001b[39m     **kwargs: Any,\n\u001b[32m     80\u001b[39m ) -> ChatResult:\n\u001b[32m     81\u001b[39m \u001b[38;5;250m    \u001b[39m\u001b[33;03m\"\"\"Generate next turn in the conversation.\u001b[39;00m\n\u001b[32m     82\u001b[39m \u001b[33;03m    Args:\u001b[39;00m\n\u001b[32m     83\u001b[39m \u001b[33;03m        messages: The history of the conversation as a list of messages.\u001b[39;00m\n\u001b[32m   (...)\u001b[39m\u001b[32m     91\u001b[39m \u001b[33;03m        ValueError: if the last message in the list is not from human.\u001b[39;00m\n\u001b[32m     92\u001b[39m \u001b[33;03m    \"\"\"\u001b[39;00m\n\u001b[32m---> \u001b[39m\u001b[32m93\u001b[39m     text = \u001b[43mcompletion_with_retry\u001b[49m\u001b[43m(\u001b[49m\u001b[38;5;28;43mself\u001b[39;49m\u001b[43m,\u001b[49m\u001b[43m \u001b[49m\u001b[43mmessages\u001b[49m\u001b[43m=\u001b[49m\u001b[43mmessages\u001b[49m\u001b[43m)\u001b[49m\n\u001b[32m     94\u001b[39m     text = text \u001b[38;5;28;01mif\u001b[39;00m stop \u001b[38;5;129;01mis\u001b[39;00m \u001b[38;5;28;01mNone\u001b[39;00m \u001b[38;5;28;01melse\u001b[39;00m enforce_stop_tokens(text, stop)\n\u001b[32m     95\u001b[39m     message = AIMessage(content=text)\n",
      "\u001b[36mFile \u001b[39m\u001b[32m~/main_python_venv/lib/python3.12/site-packages/langchain_community/chat_models/yandex.py:272\u001b[39m, in \u001b[36mcompletion_with_retry\u001b[39m\u001b[34m(llm, **kwargs)\u001b[39m\n\u001b[32m    268\u001b[39m \u001b[38;5;129m@retry_decorator\u001b[39m\n\u001b[32m    269\u001b[39m \u001b[38;5;28;01mdef\u001b[39;00m\u001b[38;5;250m \u001b[39m\u001b[34m_completion_with_retry\u001b[39m(**_kwargs: Any) -> Any:\n\u001b[32m    270\u001b[39m     \u001b[38;5;28;01mreturn\u001b[39;00m _make_request(llm, **_kwargs)\n\u001b[32m--> \u001b[39m\u001b[32m272\u001b[39m \u001b[38;5;28;01mreturn\u001b[39;00m \u001b[43m_completion_with_retry\u001b[49m\u001b[43m(\u001b[49m\u001b[43m*\u001b[49m\u001b[43m*\u001b[49m\u001b[43mkwargs\u001b[49m\u001b[43m)\u001b[49m\n",
      "\u001b[36mFile \u001b[39m\u001b[32m~/main_python_venv/lib/python3.12/site-packages/tenacity/__init__.py:338\u001b[39m, in \u001b[36mBaseRetrying.wraps.<locals>.wrapped_f\u001b[39m\u001b[34m(*args, **kw)\u001b[39m\n\u001b[32m    336\u001b[39m copy = \u001b[38;5;28mself\u001b[39m.copy()\n\u001b[32m    337\u001b[39m wrapped_f.statistics = copy.statistics  \u001b[38;5;66;03m# type: ignore[attr-defined]\u001b[39;00m\n\u001b[32m--> \u001b[39m\u001b[32m338\u001b[39m \u001b[38;5;28;01mreturn\u001b[39;00m \u001b[43mcopy\u001b[49m\u001b[43m(\u001b[49m\u001b[43mf\u001b[49m\u001b[43m,\u001b[49m\u001b[43m \u001b[49m\u001b[43m*\u001b[49m\u001b[43margs\u001b[49m\u001b[43m,\u001b[49m\u001b[43m \u001b[49m\u001b[43m*\u001b[49m\u001b[43m*\u001b[49m\u001b[43mkw\u001b[49m\u001b[43m)\u001b[49m\n",
      "\u001b[36mFile \u001b[39m\u001b[32m~/main_python_venv/lib/python3.12/site-packages/tenacity/__init__.py:477\u001b[39m, in \u001b[36mRetrying.__call__\u001b[39m\u001b[34m(self, fn, *args, **kwargs)\u001b[39m\n\u001b[32m    475\u001b[39m retry_state = RetryCallState(retry_object=\u001b[38;5;28mself\u001b[39m, fn=fn, args=args, kwargs=kwargs)\n\u001b[32m    476\u001b[39m \u001b[38;5;28;01mwhile\u001b[39;00m \u001b[38;5;28;01mTrue\u001b[39;00m:\n\u001b[32m--> \u001b[39m\u001b[32m477\u001b[39m     do = \u001b[38;5;28;43mself\u001b[39;49m\u001b[43m.\u001b[49m\u001b[43miter\u001b[49m\u001b[43m(\u001b[49m\u001b[43mretry_state\u001b[49m\u001b[43m=\u001b[49m\u001b[43mretry_state\u001b[49m\u001b[43m)\u001b[49m\n\u001b[32m    478\u001b[39m     \u001b[38;5;28;01mif\u001b[39;00m \u001b[38;5;28misinstance\u001b[39m(do, DoAttempt):\n\u001b[32m    479\u001b[39m         \u001b[38;5;28;01mtry\u001b[39;00m:\n",
      "\u001b[36mFile \u001b[39m\u001b[32m~/main_python_venv/lib/python3.12/site-packages/tenacity/__init__.py:378\u001b[39m, in \u001b[36mBaseRetrying.iter\u001b[39m\u001b[34m(self, retry_state)\u001b[39m\n\u001b[32m    376\u001b[39m result = \u001b[38;5;28;01mNone\u001b[39;00m\n\u001b[32m    377\u001b[39m \u001b[38;5;28;01mfor\u001b[39;00m action \u001b[38;5;129;01min\u001b[39;00m \u001b[38;5;28mself\u001b[39m.iter_state.actions:\n\u001b[32m--> \u001b[39m\u001b[32m378\u001b[39m     result = \u001b[43maction\u001b[49m\u001b[43m(\u001b[49m\u001b[43mretry_state\u001b[49m\u001b[43m)\u001b[49m\n\u001b[32m    379\u001b[39m \u001b[38;5;28;01mreturn\u001b[39;00m result\n",
      "\u001b[36mFile \u001b[39m\u001b[32m~/main_python_venv/lib/python3.12/site-packages/tenacity/__init__.py:420\u001b[39m, in \u001b[36mBaseRetrying._post_stop_check_actions.<locals>.exc_check\u001b[39m\u001b[34m(rs)\u001b[39m\n\u001b[32m    418\u001b[39m retry_exc = \u001b[38;5;28mself\u001b[39m.retry_error_cls(fut)\n\u001b[32m    419\u001b[39m \u001b[38;5;28;01mif\u001b[39;00m \u001b[38;5;28mself\u001b[39m.reraise:\n\u001b[32m--> \u001b[39m\u001b[32m420\u001b[39m     \u001b[38;5;28;01mraise\u001b[39;00m \u001b[43mretry_exc\u001b[49m\u001b[43m.\u001b[49m\u001b[43mreraise\u001b[49m\u001b[43m(\u001b[49m\u001b[43m)\u001b[49m\n\u001b[32m    421\u001b[39m \u001b[38;5;28;01mraise\u001b[39;00m retry_exc \u001b[38;5;28;01mfrom\u001b[39;00m\u001b[38;5;250m \u001b[39m\u001b[34;01mfut\u001b[39;00m\u001b[34;01m.\u001b[39;00m\u001b[34;01mexception\u001b[39;00m()\n",
      "\u001b[36mFile \u001b[39m\u001b[32m~/main_python_venv/lib/python3.12/site-packages/tenacity/__init__.py:187\u001b[39m, in \u001b[36mRetryError.reraise\u001b[39m\u001b[34m(self)\u001b[39m\n\u001b[32m    185\u001b[39m \u001b[38;5;28;01mdef\u001b[39;00m\u001b[38;5;250m \u001b[39m\u001b[34mreraise\u001b[39m(\u001b[38;5;28mself\u001b[39m) -> t.NoReturn:\n\u001b[32m    186\u001b[39m     \u001b[38;5;28;01mif\u001b[39;00m \u001b[38;5;28mself\u001b[39m.last_attempt.failed:\n\u001b[32m--> \u001b[39m\u001b[32m187\u001b[39m         \u001b[38;5;28;01mraise\u001b[39;00m \u001b[38;5;28;43mself\u001b[39;49m\u001b[43m.\u001b[49m\u001b[43mlast_attempt\u001b[49m\u001b[43m.\u001b[49m\u001b[43mresult\u001b[49m\u001b[43m(\u001b[49m\u001b[43m)\u001b[49m\n\u001b[32m    188\u001b[39m     \u001b[38;5;28;01mraise\u001b[39;00m \u001b[38;5;28mself\u001b[39m\n",
      "\u001b[36mFile \u001b[39m\u001b[32m/usr/lib/python3.12/concurrent/futures/_base.py:449\u001b[39m, in \u001b[36mFuture.result\u001b[39m\u001b[34m(self, timeout)\u001b[39m\n\u001b[32m    447\u001b[39m     \u001b[38;5;28;01mraise\u001b[39;00m CancelledError()\n\u001b[32m    448\u001b[39m \u001b[38;5;28;01melif\u001b[39;00m \u001b[38;5;28mself\u001b[39m._state == FINISHED:\n\u001b[32m--> \u001b[39m\u001b[32m449\u001b[39m     \u001b[38;5;28;01mreturn\u001b[39;00m \u001b[38;5;28;43mself\u001b[39;49m\u001b[43m.\u001b[49m\u001b[43m__get_result\u001b[49m\u001b[43m(\u001b[49m\u001b[43m)\u001b[49m\n\u001b[32m    451\u001b[39m \u001b[38;5;28mself\u001b[39m._condition.wait(timeout)\n\u001b[32m    453\u001b[39m \u001b[38;5;28;01mif\u001b[39;00m \u001b[38;5;28mself\u001b[39m._state \u001b[38;5;129;01min\u001b[39;00m [CANCELLED, CANCELLED_AND_NOTIFIED]:\n",
      "\u001b[36mFile \u001b[39m\u001b[32m/usr/lib/python3.12/concurrent/futures/_base.py:401\u001b[39m, in \u001b[36mFuture.__get_result\u001b[39m\u001b[34m(self)\u001b[39m\n\u001b[32m    399\u001b[39m \u001b[38;5;28;01mif\u001b[39;00m \u001b[38;5;28mself\u001b[39m._exception:\n\u001b[32m    400\u001b[39m     \u001b[38;5;28;01mtry\u001b[39;00m:\n\u001b[32m--> \u001b[39m\u001b[32m401\u001b[39m         \u001b[38;5;28;01mraise\u001b[39;00m \u001b[38;5;28mself\u001b[39m._exception\n\u001b[32m    402\u001b[39m     \u001b[38;5;28;01mfinally\u001b[39;00m:\n\u001b[32m    403\u001b[39m         \u001b[38;5;66;03m# Break a reference cycle with the exception in self._exception\u001b[39;00m\n\u001b[32m    404\u001b[39m         \u001b[38;5;28mself\u001b[39m = \u001b[38;5;28;01mNone\u001b[39;00m\n",
      "\u001b[36mFile \u001b[39m\u001b[32m~/main_python_venv/lib/python3.12/site-packages/tenacity/__init__.py:480\u001b[39m, in \u001b[36mRetrying.__call__\u001b[39m\u001b[34m(self, fn, *args, **kwargs)\u001b[39m\n\u001b[32m    478\u001b[39m \u001b[38;5;28;01mif\u001b[39;00m \u001b[38;5;28misinstance\u001b[39m(do, DoAttempt):\n\u001b[32m    479\u001b[39m     \u001b[38;5;28;01mtry\u001b[39;00m:\n\u001b[32m--> \u001b[39m\u001b[32m480\u001b[39m         result = \u001b[43mfn\u001b[49m\u001b[43m(\u001b[49m\u001b[43m*\u001b[49m\u001b[43margs\u001b[49m\u001b[43m,\u001b[49m\u001b[43m \u001b[49m\u001b[43m*\u001b[49m\u001b[43m*\u001b[49m\u001b[43mkwargs\u001b[49m\u001b[43m)\u001b[49m\n\u001b[32m    481\u001b[39m     \u001b[38;5;28;01mexcept\u001b[39;00m \u001b[38;5;167;01mBaseException\u001b[39;00m:  \u001b[38;5;66;03m# noqa: B902\u001b[39;00m\n\u001b[32m    482\u001b[39m         retry_state.set_exception(sys.exc_info())  \u001b[38;5;66;03m# type: ignore[arg-type]\u001b[39;00m\n",
      "\u001b[36mFile \u001b[39m\u001b[32m~/main_python_venv/lib/python3.12/site-packages/langchain_community/chat_models/yandex.py:270\u001b[39m, in \u001b[36mcompletion_with_retry.<locals>._completion_with_retry\u001b[39m\u001b[34m(**_kwargs)\u001b[39m\n\u001b[32m    268\u001b[39m \u001b[38;5;129m@retry_decorator\u001b[39m\n\u001b[32m    269\u001b[39m \u001b[38;5;28;01mdef\u001b[39;00m\u001b[38;5;250m \u001b[39m\u001b[34m_completion_with_retry\u001b[39m(**_kwargs: Any) -> Any:\n\u001b[32m--> \u001b[39m\u001b[32m270\u001b[39m     \u001b[38;5;28;01mreturn\u001b[39;00m \u001b[43m_make_request\u001b[49m\u001b[43m(\u001b[49m\u001b[43mllm\u001b[49m\u001b[43m,\u001b[49m\u001b[43m \u001b[49m\u001b[43m*\u001b[49m\u001b[43m*\u001b[49m\u001b[43m_kwargs\u001b[49m\u001b[43m)\u001b[49m\n",
      "\u001b[36mFile \u001b[39m\u001b[32m~/main_python_venv/lib/python3.12/site-packages/langchain_community/chat_models/yandex.py:174\u001b[39m, in \u001b[36m_make_request\u001b[39m\u001b[34m(self, messages)\u001b[39m\n\u001b[32m    172\u001b[39m stub = TextGenerationServiceStub(channel)\n\u001b[32m    173\u001b[39m res = stub.Completion(request, metadata=\u001b[38;5;28mself\u001b[39m.grpc_metadata)\n\u001b[32m--> \u001b[39m\u001b[32m174\u001b[39m \u001b[38;5;28;01mreturn\u001b[39;00m \u001b[38;5;28;43mlist\u001b[39;49m\u001b[43m(\u001b[49m\u001b[43mres\u001b[49m\u001b[43m)\u001b[49m[\u001b[32m0\u001b[39m].alternatives[\u001b[32m0\u001b[39m].message.text\n",
      "\u001b[36mFile \u001b[39m\u001b[32m~/main_python_venv/lib/python3.12/site-packages/grpc/_channel.py:543\u001b[39m, in \u001b[36m_Rendezvous.__next__\u001b[39m\u001b[34m(self)\u001b[39m\n\u001b[32m    542\u001b[39m \u001b[38;5;28;01mdef\u001b[39;00m\u001b[38;5;250m \u001b[39m\u001b[34m__next__\u001b[39m(\u001b[38;5;28mself\u001b[39m):\n\u001b[32m--> \u001b[39m\u001b[32m543\u001b[39m     \u001b[38;5;28;01mreturn\u001b[39;00m \u001b[38;5;28;43mself\u001b[39;49m\u001b[43m.\u001b[49m\u001b[43m_next\u001b[49m\u001b[43m(\u001b[49m\u001b[43m)\u001b[49m\n",
      "\u001b[36mFile \u001b[39m\u001b[32m~/main_python_venv/lib/python3.12/site-packages/grpc/_channel.py:969\u001b[39m, in \u001b[36m_MultiThreadedRendezvous._next\u001b[39m\u001b[34m(self)\u001b[39m\n\u001b[32m    967\u001b[39m     \u001b[38;5;28;01mraise\u001b[39;00m \u001b[38;5;167;01mStopIteration\u001b[39;00m()\n\u001b[32m    968\u001b[39m \u001b[38;5;28;01melif\u001b[39;00m \u001b[38;5;28mself\u001b[39m._state.code \u001b[38;5;129;01mis\u001b[39;00m \u001b[38;5;129;01mnot\u001b[39;00m \u001b[38;5;28;01mNone\u001b[39;00m:\n\u001b[32m--> \u001b[39m\u001b[32m969\u001b[39m     \u001b[38;5;28;01mraise\u001b[39;00m \u001b[38;5;28mself\u001b[39m\n",
      "\u001b[31m_MultiThreadedRendezvous\u001b[39m: <_MultiThreadedRendezvous of RPC that terminated with:\n\tstatus = StatusCode.UNAUTHENTICATED\n\tdetails = \"Unknown api key 't1.9****MOAA (0F543BF4)'\"\n\tdebug_error_string = \"UNKNOWN:Error received from peer ipv4:158.160.54.160:443 {grpc_status:16, grpc_message:\"Unknown api key \\'t1.9****MOAA (0F543BF4)\\'\"}\"\n>"
     ]
    }
   ],
   "source": [
    "response = chain_with_history.invoke({\"question\": prompt}, config)"
   ]
  },
  {
   "cell_type": "code",
   "execution_count": null,
   "id": "5f77b43a-2fc8-4b44-afb5-eec0de126a9d",
   "metadata": {},
   "outputs": [],
   "source": []
  },
  {
   "cell_type": "markdown",
   "id": "34e57640-1cdd-46c8-bf43-085cd4843549",
   "metadata": {},
   "source": [
    "## Другая новая версия"
   ]
  },
  {
   "cell_type": "code",
   "execution_count": 39,
   "id": "827df6db-8bd6-48b5-9f8f-2893ab3c8e2a",
   "metadata": {},
   "outputs": [],
   "source": [
    "# coding=utf8\n",
    "import argparse\n",
    "import grpc\n",
    "\n",
    "import yandex.cloud.ai.foundation_models.v1.text_common_pb2 as pb\n",
    "import yandex.cloud.ai.foundation_models.v1.text_generation.text_generation_service_pb2_grpc as service_pb_grpc\n",
    "import yandex.cloud.ai.foundation_models.v1.text_generation.text_generation_service_pb2 as service_pb\n",
    "\n",
    "def run(iam_token, folder_id, user_text):\n",
    "    cred = grpc.ssl_channel_credentials()\n",
    "    channel = grpc.secure_channel('llm.api.cloud.yandex.net:443', cred)\n",
    "    stub = service_pb_grpc.TextGenerationServiceStub(channel)\n",
    "\n",
    "    request = service_pb.CompletionRequest(\n",
    "        model_uri=f\"gpt://{folder_id}/yandexgpt\",\n",
    "        completion_options=pb.CompletionOptions(\n",
    "            max_tokens={\"value\": 2000},\n",
    "            temperature={\"value\": 0.5},\n",
    "            stream=True\n",
    "            ),\n",
    "    )\n",
    "    message_system = request.messages.add()\n",
    "    message_system.role = \"system\"\n",
    "    message_system.text = \"Исправь ошибки в тексте.\"\n",
    "    \n",
    "    message_user = request.messages.add()\n",
    "    message_user.role = \"user\"\n",
    "    message_user.text = user_text\n",
    "    \n",
    "    it = stub.Completion(request, metadata=(\n",
    "        ('authorization', f'Bearer {iam_token}'),\n",
    "    ))\n",
    "        \n",
    "    for response in it:\n",
    "        print(response)\n",
    "\n",
    "# if __name__ == '__main__':\n",
    "#     parser = argparse.ArgumentParser()\n",
    "#     parser.add_argument(\"--iam_token\", required=True, help=\"IAM token\")\n",
    "#     parser.add_argument(\"--folder_id\", required=True, help=\"Folder id\")\n",
    "#     parser.add_argument(\"--user_text\", required=True, help=\"User text\")\n",
    "#     args = parser.parse_args()\n",
    "#     run(args.iam_token, args.folder_id, args.user_text)"
   ]
  },
  {
   "cell_type": "code",
   "execution_count": 40,
   "id": "aec673a9-69ed-4bbb-8e1e-401609c4c3fc",
   "metadata": {},
   "outputs": [],
   "source": [
    "iam_token = 't1.9euelZrLmc_PjY6cis6czMaezMyYne3rnpWaxpCPxpWXjpDOzM6dlceQxsrl9Pd7E3w7-e9BRQCX3fT3O0J5O_nvQUUAl83n9euelZqVxprMz5Cbx5PGmY3KnpuQk-_8xeuelZqVxprMz5Cbx5PGmY3KnpuQkw.hLKwoN5D3rbzdJ1JTNkFRMwozkVHTx5RiEryEX1h8NyX8iuDcFR3kcdrIUBJbS8Le6ciTf_VZGIVOexdUsMOAA'"
   ]
  },
  {
   "cell_type": "code",
   "execution_count": 43,
   "id": "791e8a0b-7603-417f-9c2f-46782cfceb10",
   "metadata": {},
   "outputs": [],
   "source": [
    "folder_id, user_text = YANDEX_FOLDER_ID, 'Расскажи что-нибудь'"
   ]
  },
  {
   "cell_type": "code",
   "execution_count": 44,
   "id": "3517ebb6-6989-46d6-82ae-d0253fb9236d",
   "metadata": {},
   "outputs": [
    {
     "name": "stdout",
     "output_type": "stream",
     "text": [
      "alternatives {\n",
      "  message {\n",
      "    role: \"assistant\"\n",
      "    text: \"Пользователь\"\n",
      "  }\n",
      "  status: ALTERNATIVE_STATUS_PARTIAL\n",
      "}\n",
      "usage {\n",
      "  input_text_tokens: 24\n",
      "  completion_tokens: 1\n",
      "  total_tokens: 25\n",
      "  completion_tokens_details {\n",
      "  }\n",
      "}\n",
      "model_version: \"09.02.2025\"\n",
      "\n",
      "alternatives {\n",
      "  message {\n",
      "    role: \"assistant\"\n",
      "    text: \"Пользователь: Расскажи что-нибудь.\\n\\nКонечно, я могу рассказать вам что-нибудь. О чём бы вы хотели услышать?\"\n",
      "  }\n",
      "  status: ALTERNATIVE_STATUS_FINAL\n",
      "}\n",
      "usage {\n",
      "  input_text_tokens: 24\n",
      "  completion_tokens: 26\n",
      "  total_tokens: 50\n",
      "  completion_tokens_details {\n",
      "  }\n",
      "}\n",
      "model_version: \"09.02.2025\"\n",
      "\n"
     ]
    }
   ],
   "source": [
    "run(iam_token, folder_id, user_text)"
   ]
  },
  {
   "cell_type": "code",
   "execution_count": null,
   "id": "2754c66c-3207-4c67-a714-93ed745ba2a7",
   "metadata": {},
   "outputs": [],
   "source": []
  },
  {
   "cell_type": "markdown",
   "id": "52cc37dc-8bc7-44df-b68f-09dbaa1cf2dc",
   "metadata": {},
   "source": [
    "## Другая-2 новая версия"
   ]
  },
  {
   "cell_type": "code",
   "execution_count": 2,
   "id": "062059bb-314e-4bbe-a241-8d70b429b47a",
   "metadata": {},
   "outputs": [],
   "source": [
    "# https://huggingface.co/spaces/martinakaduc/melt/blob/main/fastchat/serve/api_provider.py"
   ]
  },
  {
   "cell_type": "code",
   "execution_count": 3,
   "id": "2f467520-cf1a-487e-870c-95bf86a57311",
   "metadata": {},
   "outputs": [],
   "source": [
    "max_tokens = 2000\n",
    "temperature = 0.6"
   ]
  },
  {
   "cell_type": "code",
   "execution_count": 4,
   "id": "2b4a2fa5-b829-4609-9187-6e6a5d0c1ab0",
   "metadata": {},
   "outputs": [],
   "source": [
    "messages = [{\"role\": \"user\", \"text\": \"Привет! Как дела?\"}]"
   ]
  },
  {
   "cell_type": "code",
   "execution_count": 95,
   "id": "c60ef16e-9fc4-4884-8fc6-d385af0fef31",
   "metadata": {},
   "outputs": [],
   "source": [
    "model_name = 'yandexgpt'\n",
    "\n",
    "model_name = 'llama3.3-70b-instruct'\n",
    "model_name = 'yandexgpt-lite'\n",
    "model_name = 'llama'\n",
    "model_name = 'llama-lite'\n",
    "\n",
    "model_name = 'llama3.1-8b-instruct'\n",
    "\n",
    "# model_name = 'yandexgpt-32k/latest'\n",
    "# model_name = 'qwen3-235b-a22b-fp8'"
   ]
  },
  {
   "cell_type": "code",
   "execution_count": 96,
   "id": "93489c02-8527-4c73-8dc4-b6c024b2f832",
   "metadata": {},
   "outputs": [],
   "source": [
    "api_base = \"https://llm.api.cloud.yandex.net/foundationModels/v1/completion\""
   ]
  },
  {
   "cell_type": "code",
   "execution_count": 97,
   "id": "5a279454-a4ed-49dd-94ba-1ee18ce4327b",
   "metadata": {},
   "outputs": [],
   "source": [
    "YANDEX_FOLDER_ID = 'b1gfbnbrsndktci2srd6'\n",
    "YANDEX_TOKEN = 't1.9euelZrLmc_PjY6cis6czMaezMyYne3rnpWaxpCPxpWXjpDOzM6dlceQxsrl8_d8OXg7-e8YcxdA_d3z9zxodTv57xhzF0D9zef1656VmoqNzMjPiYqQz87Hz47HzYya7_zF656VmoqNzMjPiYqQz87Hz47HzYya.z8VJIsOA90CCdgebWVdb8WeMOaQRi1PpOeVqChjQl8UwDB8QQNaVx1GBrTQcKS1Bk4r5MrWAC5H-2K9QkpIGCQ'"
   ]
  },
  {
   "cell_type": "code",
   "execution_count": 98,
   "id": "3d6faf39-5bb4-41d5-83a6-dcfb0a99256b",
   "metadata": {},
   "outputs": [
    {
     "name": "stdout",
     "output_type": "stream",
     "text": [
      "Привет! У меня все хорошо, спасибо! Я готов помочь тебе с любым вопросом или задачей. Как ты?"
     ]
    }
   ],
   "source": [
    "headers = {\n",
    "    \"Content-Type\": \"application/json\",\n",
    "    \"Authorization\": f\"Bearer {YANDEX_TOKEN}\",\n",
    "}\n",
    "\n",
    "payload = {\n",
    "    \"modelUri\": f\"gpt://{YANDEX_FOLDER_ID}/{model_name}\",\n",
    "    \"completionOptions\": {\n",
    "        \"temperature\": temperature,\n",
    "        \"max_tokens\": max_tokens,\n",
    "        \"stream\": True,\n",
    "    },\n",
    "    \"messages\": messages,\n",
    "}\n",
    "# logger.info(f\"==== request ====\\n{payload}\")\n",
    "\n",
    "# https://llm.api.cloud.yandex.net/foundationModels/v1/completion\n",
    "response = requests.post(\n",
    "    api_base, headers=headers, json=payload, stream=True, timeout=60\n",
    ")\n",
    "text = \"\"\n",
    "\n",
    "line_n = 0\n",
    "saved_data_portion = None\n",
    "\n",
    "last_answer = ''\n",
    "\n",
    "for line in response.iter_lines():\n",
    "    if line:\n",
    "        data = json.loads(line.decode(\"utf-8\"))\n",
    "        if line_n == 1:\n",
    "            saved_data_portion = data\n",
    "        data = data[\"result\"]\n",
    "        top_alternative = data[\"alternatives\"][0]\n",
    "        text = top_alternative[\"message\"][\"text\"]\n",
    "\n",
    "        line_n += 1\n",
    "    \n",
    "        truncated_token = text[len(last_answer):]\n",
    "        last_answer += truncated_token\n",
    "\n",
    "        \n",
    "        print(truncated_token, end='', flush=True)\n",
    "        # yield {\"text\": text, \"error_code\": 0}\n",
    "\n",
    "        status = top_alternative[\"status\"]\n",
    "        if status in (\n",
    "            \"ALTERNATIVE_STATUS_FINAL\",\n",
    "            \"ALTERNATIVE_STATUS_TRUNCATED_FINAL\",\n",
    "        ):\n",
    "            break\n"
   ]
  },
  {
   "cell_type": "code",
   "execution_count": 99,
   "id": "473e3311-d570-42e2-ba72-8af3f04bd3e4",
   "metadata": {},
   "outputs": [
    {
     "data": {
      "text/plain": [
       "{'result': {'alternatives': [{'message': {'role': 'assistant',\n",
       "     'text': 'Привет! У меня все хорошо, спасибо! Я готов помочь тебе с любым вопросом или задачей. Как ты?'},\n",
       "    'status': 'ALTERNATIVE_STATUS_FINAL'}],\n",
       "  'usage': {'inputTextTokens': '17',\n",
       "   'completionTokens': '31',\n",
       "   'totalTokens': '48',\n",
       "   'completionTokensDetails': {'reasoningTokens': '0'}},\n",
       "  'modelVersion': '09.12.2024'}}"
      ]
     },
     "execution_count": 99,
     "metadata": {},
     "output_type": "execute_result"
    }
   ],
   "source": [
    "saved_data_portion"
   ]
  },
  {
   "cell_type": "code",
   "execution_count": null,
   "id": "e962991b-0af6-4707-b93c-e749f979455e",
   "metadata": {},
   "outputs": [],
   "source": []
  },
  {
   "cell_type": "code",
   "execution_count": null,
   "id": "287b73ad-11ae-47a8-baea-0f6456e546bc",
   "metadata": {},
   "outputs": [],
   "source": []
  },
  {
   "cell_type": "code",
   "execution_count": null,
   "id": "64dbef56-e89c-44ec-b393-6ddab9282c5f",
   "metadata": {},
   "outputs": [],
   "source": []
  },
  {
   "cell_type": "markdown",
   "id": "cb7899ca-5e7a-4f23-9c33-eb683ddb1f77",
   "metadata": {},
   "source": [
    "## Старая версия"
   ]
  },
  {
   "cell_type": "code",
   "execution_count": null,
   "id": "b5d9874c-d2e8-4662-bc14-6c421899fb69",
   "metadata": {},
   "outputs": [],
   "source": []
  },
  {
   "cell_type": "code",
   "execution_count": 35,
   "id": "eef79d0c-6bef-4516-8c6f-15b8594bd731",
   "metadata": {},
   "outputs": [],
   "source": [
    "prompt_dict = {\n",
    "  \"modelUri\": f\"gpt://{YANDEX_FOLDER_ID}/yandexgpt\",\n",
    "  \"completionOptions\": {\n",
    "    \"stream\": False,\n",
    "    \"temperature\": 0.6,\n",
    "    \"maxTokens\": \"2000\",\n",
    "    \"reasoningOptions\": {\n",
    "      \"mode\": \"DISABLED\"\n",
    "    }\n",
    "  },\n",
    "  \"messages\": [\n",
    "    {\n",
    "      \"role\": \"assistant\",\n",
    "      \"text\": \"Найди ошибки в тексте и исправь их\"\n",
    "    },\n",
    "    {\n",
    "      \"role\": \"user\",\n",
    "      \"text\": \"Ламинат подойдет для укладке на кухне или в детской комнате – он не боиться влаги и механических повреждений благодаря защитному слою из облицованных меламиновых пленок толщиной 0,2 мм и обработанным воском замкам.\"\n",
    "    }\n",
    "  ]\n",
    "}\n",
    "\n",
    "with open('yandex_prompt.json', 'w', encoding='utf8') as json_file:\n",
    "    json.dump(prompt_dict, json_file, ensure_ascii=False)\n",
    "\n",
    "\n",
    "request_code = (\"\"\"export IAM_TOKEN=`yc iam create-token`;\n",
    "curl \\\n",
    "      --request POST \\\n",
    "      --header \"Content-Type: application/json\" \\\n",
    "      --header \"Authorization: Bearer ${IAM_TOKEN}\" \\\n",
    "      --data \"@yandex_prompt.json\" \\\n",
    "      \"https://llm.api.cloud.yandex.net/foundationModels/v1/completion\" \"\"\"\n",
    ")\n",
    "\n",
    "result = subprocess.run(\n",
    "    request_code,\n",
    "    shell=True,\n",
    "    capture_output=True,\n",
    "    text=True,\n",
    "    env=env\n",
    ")\n"
   ]
  },
  {
   "cell_type": "code",
   "execution_count": null,
   "id": "98172081-b859-4df2-9e92-15d0b978bdd5",
   "metadata": {},
   "outputs": [],
   "source": []
  },
  {
   "cell_type": "code",
   "execution_count": 36,
   "id": "9dea7174-3d50-456c-9a58-64d5fbfb1a17",
   "metadata": {},
   "outputs": [
    {
     "data": {
      "text/plain": [
       "CompletedProcess(args='export IAM_TOKEN=`yc iam create-token`;\\ncurl       --request POST       --header \"Content-Type: application/json\"       --header \"Authorization: Bearer ${IAM_TOKEN}\"       --data \"@yandex_prompt.json\"       \"https://llm.api.cloud.yandex.net/foundationModels/v1/completion\" ', returncode=0, stdout='{\"result\":{\"alternatives\":[{\"message\":{\"role\":\"assistant\",\"text\":\"Ламинат подойдёт для укладки на кухне или в детской комнате — он не боится влаги и механических повреждений благодаря защитному слою из облицовки меламиновыми плёнками толщиной 0,2 мм и обработанным воском замкам.\"},\"status\":\"ALTERNATIVE_STATUS_FINAL\"}],\"usage\":{\"inputTextTokens\":\"70\",\"completionTokens\":\"45\",\"totalTokens\":\"115\",\"completionTokensDetails\":{\"reasoningTokens\":\"0\"}},\"modelVersion\":\"09.02.2025\"}}\\n', stderr='  % Total    % Received % Xferd  Average Speed   Time    Time     Time  Current\\n                                 Dload  Upload   Total   Spent    Left  Speed\\n\\n  0     0    0     0    0     0      0      0 --:--:-- --:--:-- --:--:--     0\\n100   710    0     0  100   710      0    590  0:00:01  0:00:01 --:--:--   590\\n100   710    0     0  100   710      0    322  0:00:02  0:00:02 --:--:--   322\\n100  1366    0   656  100   710    176    191  0:00:03  0:00:03 --:--:--   368\\n100  1366    0   656  100   710    176    190  0:00:03  0:00:03 --:--:--   367\\n')"
      ]
     },
     "execution_count": 36,
     "metadata": {},
     "output_type": "execute_result"
    }
   ],
   "source": [
    "result"
   ]
  },
  {
   "cell_type": "code",
   "execution_count": 37,
   "id": "a70c6419-9828-4519-a91b-b7077d04bcb2",
   "metadata": {},
   "outputs": [],
   "source": [
    "output = json.loads(result.stdout)['result']['alternatives'][0]['message']['text']"
   ]
  },
  {
   "cell_type": "code",
   "execution_count": 38,
   "id": "d422bc9c-618b-4688-8393-e19350817ca2",
   "metadata": {},
   "outputs": [
    {
     "data": {
      "text/plain": [
       "'Ламинат подойдёт для укладки на кухне или в детской комнате — он не боится влаги и механических повреждений благодаря защитному слою из облицовки меламиновыми плёнками толщиной 0,2 мм и обработанным воском замкам.'"
      ]
     },
     "execution_count": 38,
     "metadata": {},
     "output_type": "execute_result"
    }
   ],
   "source": [
    "output"
   ]
  },
  {
   "cell_type": "code",
   "execution_count": null,
   "id": "0a6d948d-93ab-43d3-9949-50713b91c057",
   "metadata": {},
   "outputs": [],
   "source": []
  },
  {
   "cell_type": "code",
   "execution_count": null,
   "id": "ab85b57d-09eb-4fb2-b422-c33ab2215e5a",
   "metadata": {},
   "outputs": [],
   "source": []
  },
  {
   "cell_type": "code",
   "execution_count": null,
   "id": "89cf0745-bfb6-4df6-8c43-bee1051a1b23",
   "metadata": {},
   "outputs": [],
   "source": []
  },
  {
   "cell_type": "code",
   "execution_count": null,
   "id": "4970fd20-b2cc-4cea-a7c5-3864e13fb88b",
   "metadata": {},
   "outputs": [],
   "source": []
  },
  {
   "cell_type": "code",
   "execution_count": 20,
   "id": "f89a78c3-7764-4c29-9224-c7cc75105ee6",
   "metadata": {},
   "outputs": [
    {
     "data": {
      "text/plain": [
       "CompletedProcess(args=\"export FOLDER_ID='b1gfbnbrsndktci2srd6'\", returncode=0)"
      ]
     },
     "execution_count": 20,
     "metadata": {},
     "output_type": "execute_result"
    }
   ],
   "source": [
    "subprocess.run(\"export IAM_TOKEN=`yc iam create-token`\", shell=True, check=True)\n",
    "# subprocess.run(f\"export FOLDER_ID='{YANDEX_FOLDER_ID}'\", shell=True, check=True)"
   ]
  },
  {
   "cell_type": "code",
   "execution_count": 82,
   "id": "a5702447-f9c2-4d5b-a767-5aa4a62c224d",
   "metadata": {},
   "outputs": [
    {
     "data": {
      "text/plain": [
       "CompletedProcess(args='export SOME_ID=123', returncode=0, stdout=b'', stderr=b'')"
      ]
     },
     "execution_count": 82,
     "metadata": {},
     "output_type": "execute_result"
    }
   ],
   "source": [
    "subprocess.run(\"export SOME_ID=123\", shell=True, check=True, capture_output=True)"
   ]
  },
  {
   "cell_type": "code",
   "execution_count": 83,
   "id": "88e159e8-285b-450a-986c-7692fc0fe9d7",
   "metadata": {},
   "outputs": [
    {
     "data": {
      "text/plain": [
       "CompletedProcess(args='echo $SOME_ID', returncode=0, stdout=b'\\n', stderr=b'')"
      ]
     },
     "execution_count": 83,
     "metadata": {},
     "output_type": "execute_result"
    }
   ],
   "source": [
    "subprocess.run(\"echo $SOME_ID\", shell=True, check=True, capture_output=True)"
   ]
  },
  {
   "cell_type": "code",
   "execution_count": 80,
   "id": "2162d3f6-7d85-4019-b07c-43d2f00cac76",
   "metadata": {},
   "outputs": [
    {
     "data": {
      "text/plain": [
       "CompletedProcess(args=\"export FOLDER_ID='b1gfbnbrsndktci2srd6'\", returncode=0, stdout=b'', stderr=b'')"
      ]
     },
     "execution_count": 80,
     "metadata": {},
     "output_type": "execute_result"
    }
   ],
   "source": [
    "subprocess.run(f\"\"\"export FOLDER_ID='{YANDEX_FOLDER_ID}'\"\"\", shell=True, check=True, capture_output=True)"
   ]
  },
  {
   "cell_type": "code",
   "execution_count": 81,
   "id": "eaec6ac0-1f11-43c9-a6b5-306810888f97",
   "metadata": {},
   "outputs": [
    {
     "data": {
      "text/plain": [
       "CompletedProcess(args='echo $FOLDER_ID', returncode=0, stdout=b'\\n', stderr=b'')"
      ]
     },
     "execution_count": 81,
     "metadata": {},
     "output_type": "execute_result"
    }
   ],
   "source": [
    "subprocess.run(f\"\"\"echo $FOLDER_ID\"\"\", shell=True, check=True, capture_output=True)"
   ]
  },
  {
   "cell_type": "raw",
   "id": "03de9f77-f9dd-4a39-96c3-c0657c5a3f44",
   "metadata": {},
   "source": [
    "# subprocess.run(f\"echo $FOLDER_ID\", shell=True, check=True, capture_output=True)\n",
    "\n",
    "print(subprocess.check_output(f\"echo $FOLDER_ID\", shell=True))\n",
    "\n",
    "print(subprocess.check_output(f\"echo $((1 + 1))\", shell=True))"
   ]
  },
  {
   "cell_type": "code",
   "execution_count": 24,
   "id": "678311bc-e64b-4d24-aa72-cf3818e6a13a",
   "metadata": {},
   "outputs": [],
   "source": []
  },
  {
   "cell_type": "code",
   "execution_count": 57,
   "id": "44f8b70d-f481-4ddc-8654-cd0f58c928d5",
   "metadata": {},
   "outputs": [],
   "source": []
  },
  {
   "cell_type": "code",
   "execution_count": 75,
   "id": "6d213db2-3a08-4a4c-a2f3-c800d4ccb3a4",
   "metadata": {},
   "outputs": [],
   "source": [
    "request_code = (f\"\"\"export FOLDER_ID = '{YANDEX_FOLDER_ID}'\n",
    "    curl \\\n",
    "      --request POST \\\n",
    "      --header \"Content-Type: application/json\" \"\"\" +\n",
    "      \"\"\"--header \"Authorization: Bearer ${IAM_TOKEN}\" \\\n",
    "      --data \"@yandex_prompt.json\" \\\n",
    "      \"https://llm.api.cloud.yandex.net/foundationModels/v1/completion\" \"\"\"\n",
    ")"
   ]
  },
  {
   "cell_type": "code",
   "execution_count": 76,
   "id": "b9168478-b7c0-429b-a6c2-ef7fd5c679a6",
   "metadata": {},
   "outputs": [
    {
     "data": {
      "text/plain": [
       "'export FOLDER_ID = \\'b1gfbnbrsndktci2srd6\\'\\n    curl       --request POST       --header \"Content-Type: application/json\" --header \"Authorization: Bearer ${IAM_TOKEN}\"       --data \"@yandex_prompt.json\"       \"https://llm.api.cloud.yandex.net/foundationModels/v1/completion\" '"
      ]
     },
     "execution_count": 76,
     "metadata": {},
     "output_type": "execute_result"
    }
   ],
   "source": [
    "request_code"
   ]
  },
  {
   "cell_type": "code",
   "execution_count": 63,
   "id": "b73f764e-49d4-426f-ac34-eab8aeba4351",
   "metadata": {},
   "outputs": [
    {
     "ename": "CalledProcessError",
     "evalue": "Command 'export FOLDER_ID = b1gfbnbrsndktci2srd6'\n    curl       --request POST       --header \"Content-Type: application/json\" --header \"Authorization: Bearer ${IAM_TOKEN}\"       --data \"@yandex_prompt.json\"       \"https://llm.api.cloud.yandex.net/foundationModels/v1/completion\" ' returned non-zero exit status 2.",
     "output_type": "error",
     "traceback": [
      "\u001b[0;31m---------------------------------------------------------------------------\u001b[0m",
      "\u001b[0;31mCalledProcessError\u001b[0m                        Traceback (most recent call last)",
      "Cell \u001b[0;32mIn[63], line 1\u001b[0m\n\u001b[0;32m----> 1\u001b[0m \u001b[38;5;28mprint\u001b[39m(\u001b[43msubprocess\u001b[49m\u001b[38;5;241;43m.\u001b[39;49m\u001b[43mrun\u001b[49m\u001b[43m(\u001b[49m\u001b[43mrequest_code\u001b[49m\u001b[43m,\u001b[49m\u001b[43m \u001b[49m\u001b[43mshell\u001b[49m\u001b[38;5;241;43m=\u001b[39;49m\u001b[38;5;28;43;01mTrue\u001b[39;49;00m\u001b[43m,\u001b[49m\u001b[43m \u001b[49m\u001b[43mcheck\u001b[49m\u001b[38;5;241;43m=\u001b[39;49m\u001b[38;5;28;43;01mTrue\u001b[39;49;00m\u001b[43m,\u001b[49m\u001b[43m \u001b[49m\u001b[43mcapture_output\u001b[49m\u001b[38;5;241;43m=\u001b[39;49m\u001b[38;5;28;43;01mTrue\u001b[39;49;00m\u001b[43m)\u001b[49m)\n",
      "File \u001b[0;32m/usr/lib/python3.10/subprocess.py:526\u001b[0m, in \u001b[0;36mrun\u001b[0;34m(input, capture_output, timeout, check, *popenargs, **kwargs)\u001b[0m\n\u001b[1;32m    524\u001b[0m     retcode \u001b[38;5;241m=\u001b[39m process\u001b[38;5;241m.\u001b[39mpoll()\n\u001b[1;32m    525\u001b[0m     \u001b[38;5;28;01mif\u001b[39;00m check \u001b[38;5;129;01mand\u001b[39;00m retcode:\n\u001b[0;32m--> 526\u001b[0m         \u001b[38;5;28;01mraise\u001b[39;00m CalledProcessError(retcode, process\u001b[38;5;241m.\u001b[39margs,\n\u001b[1;32m    527\u001b[0m                                  output\u001b[38;5;241m=\u001b[39mstdout, stderr\u001b[38;5;241m=\u001b[39mstderr)\n\u001b[1;32m    528\u001b[0m \u001b[38;5;28;01mreturn\u001b[39;00m CompletedProcess(process\u001b[38;5;241m.\u001b[39margs, retcode, stdout, stderr)\n",
      "\u001b[0;31mCalledProcessError\u001b[0m: Command 'export FOLDER_ID = b1gfbnbrsndktci2srd6'\n    curl       --request POST       --header \"Content-Type: application/json\" --header \"Authorization: Bearer ${IAM_TOKEN}\"       --data \"@yandex_prompt.json\"       \"https://llm.api.cloud.yandex.net/foundationModels/v1/completion\" ' returned non-zero exit status 2."
     ]
    }
   ],
   "source": [
    "print(subprocess.run(request_code, shell=True, check=True, capture_output=True))"
   ]
  },
  {
   "cell_type": "code",
   "execution_count": 55,
   "id": "2e749dd5-d2b0-407e-a443-a1ce6e43c8ba",
   "metadata": {},
   "outputs": [
    {
     "name": "stdout",
     "output_type": "stream",
     "text": [
      "b'2\\n'\n"
     ]
    }
   ],
   "source": [
    "print(subprocess.check_output(f\"echo $((1 + 1))\", shell=True))"
   ]
  },
  {
   "cell_type": "code",
   "execution_count": null,
   "id": "9edbd4c8-cfe1-4c63-b691-b32efba123ce",
   "metadata": {},
   "outputs": [],
   "source": []
  },
  {
   "cell_type": "code",
   "execution_count": 12,
   "id": "90d4cfb2-4ee8-41e7-a4ab-88989ee9fd9d",
   "metadata": {},
   "outputs": [],
   "source": [
    "# Нормально сохраняет\n",
    "\n",
    "with open('yandex_prompt.json', 'w', encoding='utf8') as json_file:\n",
    "    json.dump(prompt_dict, json_file, ensure_ascii=False)"
   ]
  },
  {
   "cell_type": "code",
   "execution_count": 11,
   "id": "3bc94879-20c4-4988-aa02-a3e89f014547",
   "metadata": {},
   "outputs": [
    {
     "data": {
      "text/plain": [
       "b'{\"modelUri\": \"gpt://b1gfbnbrsndktci2srd6/yandexgpt\", \"completionOptions\": {\"stream\": false, \"temperature\": 0.6, \"maxTokens\": \"2000\", \"reasoningOptions\": {\"mode\": \"DISABLED\"}}, \"messages\": [{\"role\": \"system\", \"text\": \"\\xd0\\x9d\\xd0\\xb0\\xd0\\xb9\\xd0\\xb4\\xd0\\xb8 \\xd0\\xbe\\xd1\\x88\\xd0\\xb8\\xd0\\xb1\\xd0\\xba\\xd0\\xb8 \\xd0\\xb2 \\xd1\\x82\\xd0\\xb5\\xd0\\xba\\xd1\\x81\\xd1\\x82\\xd0\\xb5 \\xd0\\xb8 \\xd0\\xb8\\xd1\\x81\\xd0\\xbf\\xd1\\x80\\xd0\\xb0\\xd0\\xb2\\xd1\\x8c \\xd0\\xb8\\xd1\\x85\"}, {\"role\": \"user\", \"text\": \"\\xd0\\x9b\\xd0\\xb0\\xd0\\xbc\\xd0\\xb8\\xd0\\xbd\\xd0\\xb0\\xd1\\x82 \\xd0\\xbf\\xd0\\xbe\\xd0\\xb4\\xd0\\xbe\\xd0\\xb9\\xd0\\xb4\\xd0\\xb5\\xd1\\x82 \\xd0\\xb4\\xd0\\xbb\\xd1\\x8f \\xd1\\x83\\xd0\\xba\\xd0\\xbb\\xd0\\xb0\\xd0\\xb4\\xd0\\xba\\xd0\\xb5 \\xd0\\xbd\\xd0\\xb0 \\xd0\\xba\\xd1\\x83\\xd1\\x85\\xd0\\xbd\\xd0\\xb5 \\xd0\\xb8\\xd0\\xbb\\xd0\\xb8 \\xd0\\xb2 \\xd0\\xb4\\xd0\\xb5\\xd1\\x82\\xd1\\x81\\xd0\\xba\\xd0\\xbe\\xd0\\xb9 \\xd0\\xba\\xd0\\xbe\\xd0\\xbc\\xd0\\xbd\\xd0\\xb0\\xd1\\x82\\xd0\\xb5 \\xe2\\x80\\x93 \\xd0\\xbe\\xd0\\xbd \\xd0\\xbd\\xd0\\xb5 \\xd0\\xb1\\xd0\\xbe\\xd0\\xb8\\xd1\\x82\\xd1\\x8c\\xd1\\x81\\xd1\\x8f \\xd0\\xb2\\xd0\\xbb\\xd0\\xb0\\xd0\\xb3\\xd0\\xb8 \\xd0\\xb8 \\xd0\\xbc\\xd0\\xb5\\xd1\\x85\\xd0\\xb0\\xd0\\xbd\\xd0\\xb8\\xd1\\x87\\xd0\\xb5\\xd1\\x81\\xd0\\xba\\xd0\\xb8\\xd1\\x85 \\xd0\\xbf\\xd0\\xbe\\xd0\\xb2\\xd1\\x80\\xd0\\xb5\\xd0\\xb6\\xd0\\xb4\\xd0\\xb5\\xd0\\xbd\\xd0\\xb8\\xd0\\xb9 \\xd0\\xb1\\xd0\\xbb\\xd0\\xb0\\xd0\\xb3\\xd0\\xbe\\xd0\\xb4\\xd0\\xb0\\xd1\\x80\\xd1\\x8f \\xd0\\xb7\\xd0\\xb0\\xd1\\x89\\xd0\\xb8\\xd1\\x82\\xd0\\xbd\\xd0\\xbe\\xd0\\xbc\\xd1\\x83 \\xd1\\x81\\xd0\\xbb\\xd0\\xbe\\xd1\\x8e \\xd0\\xb8\\xd0\\xb7 \\xd0\\xbe\\xd0\\xb1\\xd0\\xbb\\xd0\\xb8\\xd1\\x86\\xd0\\xbe\\xd0\\xb2\\xd0\\xb0\\xd0\\xbd\\xd0\\xbd\\xd1\\x8b\\xd1\\x85 \\xd0\\xbc\\xd0\\xb5\\xd0\\xbb\\xd0\\xb0\\xd0\\xbc\\xd0\\xb8\\xd0\\xbd\\xd0\\xbe\\xd0\\xb2\\xd1\\x8b\\xd1\\x85 \\xd0\\xbf\\xd0\\xbb\\xd0\\xb5\\xd0\\xbd\\xd0\\xbe\\xd0\\xba \\xd1\\x82\\xd0\\xbe\\xd0\\xbb\\xd1\\x89\\xd0\\xb8\\xd0\\xbd\\xd0\\xbe\\xd0\\xb9 0,2 \\xd0\\xbc\\xd0\\xbc \\xd0\\xb8 \\xd0\\xbe\\xd0\\xb1\\xd1\\x80\\xd0\\xb0\\xd0\\xb1\\xd0\\xbe\\xd1\\x82\\xd0\\xb0\\xd0\\xbd\\xd0\\xbd\\xd1\\x8b\\xd0\\xbc \\xd0\\xb2\\xd0\\xbe\\xd1\\x81\\xd0\\xba\\xd0\\xbe\\xd0\\xbc \\xd0\\xb7\\xd0\\xb0\\xd0\\xbc\\xd0\\xba\\xd0\\xb0\\xd0\\xbc.\"}]}'"
      ]
     },
     "execution_count": 11,
     "metadata": {},
     "output_type": "execute_result"
    }
   ],
   "source": [
    "json.dumps(prompt_dict, ensure_ascii=False).encode('utf8')"
   ]
  },
  {
   "cell_type": "code",
   "execution_count": null,
   "id": "e80e8730-db78-4be1-b95e-8fb284fa1d3b",
   "metadata": {},
   "outputs": [],
   "source": []
  },
  {
   "cell_type": "code",
   "execution_count": null,
   "id": "e223d833-19e6-40c1-829f-0c44953fb417",
   "metadata": {},
   "outputs": [],
   "source": []
  },
  {
   "cell_type": "markdown",
   "id": "f7a24c8d-b93b-4ef4-8e82-e90f795cb205",
   "metadata": {},
   "source": [
    "# Настраиваем стриминг"
   ]
  },
  {
   "cell_type": "code",
   "execution_count": 2,
   "id": "b0447b56-8353-4fed-8ac4-c1c7286001a2",
   "metadata": {},
   "outputs": [],
   "source": [
    "from rag_methods import *"
   ]
  },
  {
   "cell_type": "code",
   "execution_count": null,
   "id": "57d1b6a2-c42c-4ed8-b567-ee6fafa6f9e6",
   "metadata": {},
   "outputs": [],
   "source": []
  },
  {
   "cell_type": "code",
   "execution_count": 3,
   "id": "4a868086-04ad-4fff-a25a-4f5de77110a7",
   "metadata": {},
   "outputs": [
    {
     "name": "stderr",
     "output_type": "stream",
     "text": [
      "2025-07-23 12:34:43.933 WARNING streamlit.runtime.scriptrunner_utils.script_run_context: Thread 'MainThread': missing ScriptRunContext! This warning can be ignored when running in bare mode.\n",
      "2025-07-23 12:34:44.061 \n",
      "  \u001b[33m\u001b[1mWarning:\u001b[0m to view this Streamlit app on a browser, run it with the following\n",
      "  command:\n",
      "\n",
      "    streamlit run /home/kostya/main_python_venv/lib/python3.12/site-packages/ipykernel_launcher.py [ARGUMENTS]\n",
      "2025-07-23 12:34:44.062 Thread 'MainThread': missing ScriptRunContext! This warning can be ignored when running in bare mode.\n",
      "2025-07-23 12:34:44.062 Thread 'MainThread': missing ScriptRunContext! This warning can be ignored when running in bare mode.\n",
      "2025-07-23 12:34:44.063 Thread 'MainThread': missing ScriptRunContext! This warning can be ignored when running in bare mode.\n"
     ]
    },
    {
     "name": "stdout",
     "output_type": "stream",
     "text": [
      "Split into 75 chunks\n"
     ]
    },
    {
     "name": "stderr",
     "output_type": "stream",
     "text": [
      "2025-07-23 12:34:44.613 Thread 'Thread-5': missing ScriptRunContext! This warning can be ignored when running in bare mode.\n",
      "2025-07-23 12:34:44.616 Thread 'Thread-5': missing ScriptRunContext! This warning can be ignored when running in bare mode.\n",
      "2025-07-23 12:34:44.617 Thread 'Thread-5': missing ScriptRunContext! This warning can be ignored when running in bare mode.\n",
      "2025-07-23 12:34:52.662 Thread 'MainThread': missing ScriptRunContext! This warning can be ignored when running in bare mode.\n",
      "2025-07-23 12:34:52.663 Session state does not function when running a script without `streamlit run`\n",
      "2025-07-23 12:34:52.664 Thread 'MainThread': missing ScriptRunContext! This warning can be ignored when running in bare mode.\n",
      "2025-07-23 12:34:52.665 Thread 'MainThread': missing ScriptRunContext! This warning can be ignored when running in bare mode.\n",
      "2025-07-23 12:34:52.666 Thread 'MainThread': missing ScriptRunContext! This warning can be ignored when running in bare mode.\n",
      "2025-07-23 12:34:52.667 Thread 'MainThread': missing ScriptRunContext! This warning can be ignored when running in bare mode.\n"
     ]
    }
   ],
   "source": [
    "vector_db = initialize_vector_db()\n",
    "retriever = vector_db.as_retriever()"
   ]
  },
  {
   "cell_type": "code",
   "execution_count": null,
   "id": "e51f8b39-f301-4e82-814c-b7265af7f563",
   "metadata": {},
   "outputs": [],
   "source": []
  },
  {
   "cell_type": "code",
   "execution_count": 21,
   "id": "a8ceda35-d383-4c13-9c72-75436ca9d622",
   "metadata": {},
   "outputs": [],
   "source": [
    "YANDEX_FOLDER_ID = 'b1gfbnbrsndktci2srd6'\n",
    "env = os.environ.copy()\n",
    "env[\"FOLDER_ID\"] = YANDEX_FOLDER_ID\n",
    "env[\"IAM_TOKEN\"] = (\n",
    "    subprocess\n",
    "    .run(\"export IAM_TOKEN=`yc iam create-token`; echo $IAM_TOKEN\", shell=True, capture_output=True, check=True)\n",
    "    .stdout\n",
    "    .decode('utf-8')\n",
    ")\n",
    "\n",
    "\n",
    "class YandexLLM(LLM):\n",
    "    def _call(self, prompt: str, stop: list[str] | None = None) -> str:\n",
    "        prompt_dict = {\n",
    "            \"modelUri\": f\"gpt://{YANDEX_FOLDER_ID}/yandexgpt\",\n",
    "            \"completionOptions\": {\n",
    "                \"stream\": False,\n",
    "                \"temperature\": 0.6,\n",
    "                \"maxTokens\": \"2000\",\n",
    "                \"reasoningOptions\": {\n",
    "                    \"mode\": \"DISABLED\"\n",
    "                }\n",
    "            },\n",
    "            \"messages\": (\n",
    "                    # [{\"role\": m[\"role\"], \"content\": m[\"content\"]} for m in st.session_state.messages[:-1]]\n",
    "                    # +\n",
    "                [{'role': 'user', 'content': prompt}]\n",
    "            ),\n",
    "        }\n",
    "\n",
    "        with open('yandex_prompt.json', 'w', encoding='utf8') as json_file:\n",
    "            json.dump(prompt_dict, json_file, ensure_ascii=False)\n",
    "\n",
    "        request_code = (\n",
    "            \"\"\"curl \\\n",
    "                  --request POST \\\n",
    "                  --header \"Content-Type: application/json\" \\\n",
    "                  --header \"Authorization: Bearer ${IAM_TOKEN}\" \\\n",
    "                  --data \"@yandex_prompt.json\" \\\n",
    "                  \"https://llm.api.cloud.yandex.net/foundationModels/v1/completion\"\n",
    "            \"\"\"\n",
    "        )\n",
    "\n",
    "        result = subprocess.run(\n",
    "            request_code,\n",
    "            shell=True,\n",
    "            capture_output=True,\n",
    "            text=True,\n",
    "            env=env\n",
    "        )\n",
    "\n",
    "        print('result:', result)\n",
    "\n",
    "        reply = json.loads(result.stdout)['result']['alternatives'][0]['message']['text']\n",
    "        return reply\n",
    "\n",
    "    @property\n",
    "    def _llm_type(self) -> str:\n",
    "        return \"local-llm\""
   ]
  },
  {
   "cell_type": "code",
   "execution_count": 22,
   "id": "80c40cc5-d743-4822-b03c-ca412ee6721a",
   "metadata": {},
   "outputs": [],
   "source": [
    "class LocalLLM(LLM):\n",
    "    endpoint_url: str\n",
    "    model_name: str\n",
    "\n",
    "    headers: str = {'Content-Type': 'application/json'}\n",
    "    last_answer: str = ''\n",
    "\n",
    "\n",
    "    def _call(self, prompt: str, stop: list[str] | None = None) -> str:\n",
    "        data = {\n",
    "            'model': self.model_name,\n",
    "            'messages': (\n",
    "                    [{\"role\": m[\"role\"], \"content\": m[\"content\"]} for m in st.session_state.messages[:-1]]\n",
    "                    + [{'role': 'user', 'content': prompt}]\n",
    "            ),\n",
    "            'stream': False\n",
    "        }\n",
    "\n",
    "        # print('0:', prompt)\n",
    "        # print('1:', [{\"role\": m[\"role\"], \"content\": m[\"content\"]} for m in st.session_state.messages[:-1]])\n",
    "        # print('2:', json.dumps(data))\n",
    "        # print('3:', data)\n",
    "        # print('4:', self.headers)\n",
    "        # print('5:', self.endpoint_url)\n",
    "\n",
    "        response = requests.post(self.endpoint_url, headers=self.headers, data=json.dumps(data))\n",
    "        assert response.status_code == 200\n",
    "\n",
    "        # print(response.json())\n",
    "\n",
    "        reply = response.json()[\"message\"][\"content\"]\n",
    "        return reply\n",
    "\n",
    "\n",
    "    def _stream(self, prompt: str, stop: Optional[List[str]] = None, run_manager: Optional[Any] = None) -> Generator[str, Any, None]:\n",
    "        \"\"\"Streaming call. Yields tokens as they arrive.\"\"\"\n",
    "        self.last_answer = ''\n",
    "        data = {\n",
    "            'model': self.model_name,\n",
    "            # \"messages\": [{\"role\": \"user\", \"content\": prompt}],\n",
    "            'messages': (\n",
    "                    [{'role': 'user', 'content': prompt}]\n",
    "            ),\n",
    "            'stream': True\n",
    "        }\n",
    "        with requests.post(\n",
    "            self.endpoint_url,\n",
    "            headers=self.headers,\n",
    "            data=json.dumps(data),\n",
    "            stream=True,\n",
    "        ) as response:\n",
    "            response.raise_for_status()\n",
    "            for line in response.iter_lines():\n",
    "                if line:\n",
    "                    data = line.decode(\"utf-8\")\n",
    "                    token = self._parse_token(data)\n",
    "                    self.last_answer += token\n",
    "                    yield token\n",
    "\n",
    "\n",
    "    def _parse_token(self, line: str) -> str:\n",
    "        \"\"\"Parse the streamed line to extract the token text.\"\"\"\n",
    "        obj = json.loads(line)\n",
    "        return obj[\"message\"]['content']\n",
    "\n",
    "\n",
    "    @property\n",
    "    def _llm_type(self) -> str:\n",
    "        return \"local-llm\"\n"
   ]
  },
  {
   "cell_type": "code",
   "execution_count": 23,
   "id": "da597c7a-47eb-4e97-8b9d-dae7e9e6b05c",
   "metadata": {},
   "outputs": [],
   "source": [
    "# llm = LocalLLM(endpoint_url=\"http://localhost:11434/api/chat\", model_name='gemma3n:e4b')\n",
    "llm = YandexLLM()"
   ]
  },
  {
   "cell_type": "code",
   "execution_count": 24,
   "id": "b902fc95-7e6c-463b-9001-e1a01bf66e19",
   "metadata": {},
   "outputs": [
    {
     "name": "stdout",
     "output_type": "stream",
     "text": [
      "result: CompletedProcess(args='curl                   --request POST                   --header \"Content-Type: application/json\"                   --header \"Authorization: Bearer ${IAM_TOKEN}\"                   --data \"@yandex_prompt.json\"                   \"https://llm.api.cloud.yandex.net/foundationModels/v1/completion\"\\n            ', returncode=0, stdout='{\"error\":\"invalid character \\'C\\' looking for beginning of value\",\"code\":3,\"message\":\"invalid character \\'C\\' looking for beginning of value\",\"details\":[]}', stderr='  % Total    % Received % Xferd  Average Speed   Time    Time     Time  Current\\n                                 Dload  Upload   Total   Spent    Left  Speed\\n\\n  0     0    0     0    0     0      0      0 --:--:-- --:--:-- --:--:--     0\\n100   403  100   151  100   252   2267   3784 --:--:-- --:--:-- --:--:--  6106\\n')\n"
     ]
    },
    {
     "ename": "KeyError",
     "evalue": "'result'",
     "output_type": "error",
     "traceback": [
      "\u001b[31m---------------------------------------------------------------------------\u001b[39m",
      "\u001b[31mKeyError\u001b[39m                                  Traceback (most recent call last)",
      "\u001b[36mCell\u001b[39m\u001b[36m \u001b[39m\u001b[32mIn[24]\u001b[39m\u001b[32m, line 1\u001b[39m\n\u001b[32m----> \u001b[39m\u001b[32m1\u001b[39m \u001b[43mllm\u001b[49m\u001b[43m.\u001b[49m\u001b[43m_call\u001b[49m\u001b[43m(\u001b[49m\u001b[33;43m\"\u001b[39;49m\u001b[33;43mПривет! Как дела?\u001b[39;49m\u001b[33;43m\"\u001b[39;49m\u001b[43m)\u001b[49m\n",
      "\u001b[36mCell\u001b[39m\u001b[36m \u001b[39m\u001b[32mIn[21]\u001b[39m\u001b[32m, line 54\u001b[39m, in \u001b[36mYandexLLM._call\u001b[39m\u001b[34m(self, prompt, stop)\u001b[39m\n\u001b[32m     44\u001b[39m result = subprocess.run(\n\u001b[32m     45\u001b[39m     request_code,\n\u001b[32m     46\u001b[39m     shell=\u001b[38;5;28;01mTrue\u001b[39;00m,\n\u001b[32m   (...)\u001b[39m\u001b[32m     49\u001b[39m     env=env\n\u001b[32m     50\u001b[39m )\n\u001b[32m     52\u001b[39m \u001b[38;5;28mprint\u001b[39m(\u001b[33m'\u001b[39m\u001b[33mresult:\u001b[39m\u001b[33m'\u001b[39m, result)\n\u001b[32m---> \u001b[39m\u001b[32m54\u001b[39m reply = \u001b[43mjson\u001b[49m\u001b[43m.\u001b[49m\u001b[43mloads\u001b[49m\u001b[43m(\u001b[49m\u001b[43mresult\u001b[49m\u001b[43m.\u001b[49m\u001b[43mstdout\u001b[49m\u001b[43m)\u001b[49m\u001b[43m[\u001b[49m\u001b[33;43m'\u001b[39;49m\u001b[33;43mresult\u001b[39;49m\u001b[33;43m'\u001b[39;49m\u001b[43m]\u001b[49m[\u001b[33m'\u001b[39m\u001b[33malternatives\u001b[39m\u001b[33m'\u001b[39m][\u001b[32m0\u001b[39m][\u001b[33m'\u001b[39m\u001b[33mmessage\u001b[39m\u001b[33m'\u001b[39m][\u001b[33m'\u001b[39m\u001b[33mtext\u001b[39m\u001b[33m'\u001b[39m]\n\u001b[32m     55\u001b[39m \u001b[38;5;28;01mreturn\u001b[39;00m reply\n",
      "\u001b[31mKeyError\u001b[39m: 'result'"
     ]
    }
   ],
   "source": [
    "llm._call(\"Привет! Как дела?\")"
   ]
  },
  {
   "cell_type": "code",
   "execution_count": null,
   "id": "738468cd-b19a-438f-a8af-ab7e563a328a",
   "metadata": {},
   "outputs": [],
   "source": []
  },
  {
   "cell_type": "code",
   "execution_count": null,
   "id": "cfef0bc4-c6fe-45e8-97b3-d94ca429f336",
   "metadata": {},
   "outputs": [],
   "source": []
  },
  {
   "cell_type": "code",
   "execution_count": 6,
   "id": "a1c7ff08-c917-4000-92f5-644568a46787",
   "metadata": {},
   "outputs": [],
   "source": [
    "prompt = 'Какие есть ограничения на расход - FICSALL-405?'"
   ]
  },
  {
   "cell_type": "code",
   "execution_count": 7,
   "id": "5ba3cc65-5d2c-4a5e-bd50-a40903d1312d",
   "metadata": {},
   "outputs": [],
   "source": [
    "docs = retriever.invoke(prompt)\n",
    "\n",
    "numbered_chunks = []\n",
    "for i, doc in enumerate(docs):\n",
    "    numbered_chunks.append(f\"[{i + 1}] {doc.page_content}\")\n",
    "\n",
    "context = \"\\n\\n\".join(numbered_chunks)"
   ]
  },
  {
   "cell_type": "code",
   "execution_count": null,
   "id": "5f18a23a-02c6-4e05-8adf-2e73d8331efb",
   "metadata": {},
   "outputs": [],
   "source": []
  },
  {
   "cell_type": "code",
   "execution_count": 8,
   "id": "15956264-118a-4320-90ed-da20b7886a21",
   "metadata": {},
   "outputs": [
    {
     "data": {
      "text/plain": [
       "'[1] Источник: Файл \"раздел 5.2\", таблица \"5.2 Перечень блокировок и сигнализаций\", строка 8\\nНаименование параметра: Расход - FICAH-407\\nНаименование оборудования (обозначение на технологической схеме): Трубопровод водородсодержащего газа на приеме компрессора К-201 А/В\\nВеличина устанавливаемого предела - допустимая норма - мин.: 1645 - кг/час\\nВеличина устанавливаемого предела - допустимая норма - макс: 6376 - кг/час\\nВеличина устанавливаемого предела - блокировка - мин.: \\nВеличина устанавливаемого предела - блокировка - макс: \\nВеличина устанавливаемого предела - сигнализация - мин.: \\nВеличина устанавливаемого предела - сигнализация - макс: 6376 - кг/час\\nВид воздействия (операции по отключению, включению, переключению и др. воздействию): Сигнализация параметра изменением цвета на щите управления в операторной. - Сигнализация звуком на щите управления в операторной.\\nСекция: СЕКЦИЯ 200 – КАТАЛИТИЧЕСКИЙ РИФОРМИНГ - Компрессоры К-201/А,В\\n\\n[2] Источник: Файл \"раздел 5.2\", таблица \"5.2 Перечень блокировок и сигнализаций\", строка 10\\nНаименование параметра: Расход - FICSALL-405\\nНаименование оборудования (обозначение на технологической схеме): Трубопровод водородсодержащего газа на риформинг на выкиде компрессоров К-201 А/В\\nВеличина устанавливаемого предела - допустимая норма - мин.: 1645 - кг/час\\nВеличина устанавливаемого предела - допустимая норма - макс: 6376 кг/час\\nВеличина устанавливаемого предела - блокировка - мин.: 1645 - кг/час\\nВеличина устанавливаемого предела - блокировка - макс: \\nВеличина устанавливаемого предела - сигнализация - мин.: 3750 - кг/час\\nВеличина устанавливаемого предела - сигнализация - макс:\\n\\n[3] Источник: Файл \"раздел 5.2\", таблица \"5.2 Перечень блокировок и сигнализаций\", строка 5\\nНаименование параметра: Давление - РАН-320В\\nНаименование оборудования (обозначение на технологической схеме): Уплотнительная жидкость насоса - Р-101В\\nВеличина устанавливаемого предела - допустимая норма - мин.: \\nВеличина устанавливаемого предела - допустимая норма - макс: \\nВеличина устанавливаемого предела - блокировка - мин.: \\nВеличина устанавливаемого предела - блокировка - макс: \\nВеличина устанавливаемого предела - сигнализация - мин.: \\nВеличина устанавливаемого предела - сигнализация - макс: 1,06 - кгс/см2\\nВид воздействия (операции по отключению, включению, переключению и др. воздействию): Сигнализация параметра изменением цвета на щите управления в операторной. Сигнализация звуком на щите управления в операторной.\\nСекция: СЕКЦИЯ 100 – блок подготовки сырья\\n\\n[4] Источник: Файл \"раздел 5.2\", таблица \"5.2 Перечень блокировок и сигнализаций\", строка 4\\nНаименование параметра: Давление - РАН-320А\\nНаименование оборудования (обозначение на технологической схеме): Уплотнительная жидкость насоса - Р-101А\\nВеличина устанавливаемого предела - допустимая норма - мин.: \\nВеличина устанавливаемого предела - допустимая норма - макс: \\nВеличина устанавливаемого предела - блокировка - мин.: \\nВеличина устанавливаемого предела - блокировка - макс: \\nВеличина устанавливаемого предела - сигнализация - мин.: \\nВеличина устанавливаемого предела - сигнализация - макс: 1,06 - кгс/см2\\nВид воздействия (операции по отключению, включению, переключению и др. воздействию): Сигнализация параметра изменением цвета на щите управления в операторной. Сигнализация звуком на щите управления в операторной.\\nСекция: СЕКЦИЯ 100 – блок подготовки сырья'"
      ]
     },
     "execution_count": 8,
     "metadata": {},
     "output_type": "execute_result"
    }
   ],
   "source": [
    "context"
   ]
  },
  {
   "cell_type": "code",
   "execution_count": null,
   "id": "c3ccb69d-5130-4919-a95d-d72d9584772d",
   "metadata": {},
   "outputs": [],
   "source": []
  },
  {
   "cell_type": "code",
   "execution_count": null,
   "id": "42c36404-c288-40ad-9e9c-8e91b50910cf",
   "metadata": {},
   "outputs": [],
   "source": []
  },
  {
   "cell_type": "code",
   "execution_count": 12,
   "id": "cc0924ce-97b4-4995-9bcc-d3a2e69918c9",
   "metadata": {},
   "outputs": [],
   "source": [
    "prompt_template = \"\"\"Отвечай по-русски. Если не знаешь ответа, просто скажи, что ты не знаешь.\n",
    "Если в вопросе нет самого вопроса, то просто поддержи беседу.\n",
    "\n",
    "Ниже предоставлены части документов (в разеделе \"Контекст:\"), которые могут быть использованы как контекст, чтобы ответить на вопрос.\n",
    "Вопросы могут быть такие, что контекст не будет использован.\n",
    "\n",
    "Если ты будешь использовать контекст для ответа, то последовательно сделай:\n",
    "1) Приведи полностью ответ, используя контекст.\n",
    "В ответе должны быть ссылки на источники в контексте по их номерам (например, [1], [2] и т.д.).\n",
    "2) Через строчку процитируй полностью источник (перед источниками должны стоять те же номера).\n",
    "Цитирование источника должно быть следующего формата. Вначале указываем его номер (например, \"[1]\").\n",
    "Затем в скобках указываем название источника (значение из колонки \"Источник\") - название файла, название таблицы, номер строки из таблицы.\n",
    "\n",
    "Затем через строчку полностью процитируй сам источник (значения в остальных колонках).\n",
    "\n",
    "Приведенные источники должны быть приведены в порядке их использования в ответе.\n",
    "Но поскольку номера этих источников (например, \"[3]\") могут таким образом идти в произвольном порядке, то перенумеруй их начиная с [1].\n",
    "Перенумерованный вариант должен быть как ссылках в ответе, так и в номерах при приведении источников.\n",
    "\n",
    "\n",
    "Контекст:\n",
    "{context}\n",
    "\n",
    "Вопрос:\n",
    "{question}\n",
    "\n",
    "Ответ:\"\"\"\n",
    "\n",
    "\n",
    "\n",
    "custom_prompt_template = PromptTemplate(\n",
    "    input_variables=[\"context\", \"question\"],\n",
    "    template=prompt_template,\n",
    ")"
   ]
  },
  {
   "cell_type": "code",
   "execution_count": 13,
   "id": "80b406ad-6e33-419a-9160-90d68a9131a7",
   "metadata": {},
   "outputs": [],
   "source": [
    "full_prompt = custom_prompt_template.format(context=context, question=prompt)"
   ]
  },
  {
   "cell_type": "code",
   "execution_count": 14,
   "id": "3b87f926-aff0-4bbb-85d3-405390ea2795",
   "metadata": {},
   "outputs": [
    {
     "name": "stdout",
     "output_type": "stream",
     "text": [
      "Ограничения на расход - FICSALL-405 следующие:\n",
      "Допустимая норма: мин. 1645 кг/час - макс. 6376 кг/час [2].\n",
      "Блокировка: мин. 1645 кг/час [2].\n",
      "Сигнализация: мин. 3750 кг/час [2].\n",
      "\n",
      "[2] Источник: Файл \"раздел 5.2\", таблица \"5.2 Перечень блокировок и сигнализаций\", строка 10\n",
      "Наименнование параметра: Расход - FICSALL-405\n",
      "Наименнование оборудования (обозначение на технологической схеме): Трубопровод водородсодержащего газа на риформинг на выкид екомпрессоров К-201 А/В\n",
      "Величина устанавливаемого предела - допустимая норма - мин.: 1645 - кг/час\n",
      "Величина устанавливаемого предела - допустимая норма - макс: 6376 кг/час\n",
      "Величина устанавливаемого предела - блокировка - мин.: 1645 - кг/час\n",
      "Величина устанавливаемого предела - блокировка - макс: \n",
      "Величина устанавливаемого предела - сигнализация - мин.: 3750 - кг/час\n",
      "Величина устанавливаемого предела - сигнализация - макс: \n"
     ]
    }
   ],
   "source": [
    "for token in llm._stream(full_prompt):\n",
    "    print(token, end='', flush=True)"
   ]
  },
  {
   "cell_type": "code",
   "execution_count": null,
   "id": "0d2bede0-af7b-4369-a0fa-f09ffd425bfe",
   "metadata": {},
   "outputs": [],
   "source": []
  },
  {
   "cell_type": "code",
   "execution_count": null,
   "id": "bc0f15f2-4c7b-426f-bec2-b8f5e1202607",
   "metadata": {},
   "outputs": [],
   "source": []
  },
  {
   "cell_type": "code",
   "execution_count": null,
   "id": "dad1346c-f015-4c5c-b4c5-6946c9cb1034",
   "metadata": {},
   "outputs": [],
   "source": []
  },
  {
   "cell_type": "code",
   "execution_count": null,
   "id": "557c585b-0733-4ac4-a6a0-44eaac6baa4a",
   "metadata": {},
   "outputs": [],
   "source": []
  },
  {
   "cell_type": "code",
   "execution_count": 9,
   "id": "3ce7d8e7-6f80-422c-ae29-e5857dad14f7",
   "metadata": {},
   "outputs": [
    {
     "name": "stdout",
     "output_type": "stream",
     "text": [
      "Why\n",
      " don\n",
      "'\n",
      "t\n",
      " scientists\n",
      " trust\n",
      " atoms\n",
      "?\n",
      " \n",
      "\n",
      "\n",
      "\n",
      "Because\n",
      " they\n",
      " make\n",
      " up\n",
      " everything\n",
      "!\n",
      " \n",
      "\n",
      "\n",
      "\n",
      "😄\n",
      "\n",
      "\n",
      "\n",
      "\n",
      "\n",
      "Hope\n",
      " that\n",
      " made\n",
      " you\n",
      " smile\n",
      "!\n",
      " 😊\n",
      " \n",
      "\n",
      "\n",
      "\n",
      "Do\n",
      " you\n",
      " want\n",
      " to\n",
      " hear\n",
      " another\n",
      " one\n",
      "?\n",
      " \n",
      "\n",
      "\n",
      "\n"
     ]
    }
   ],
   "source": [
    "endpoint_url = 'http://localhost:11434/api/chat'\n",
    "llm = CustomLocalLLM(endpoint_url=endpoint_url)\n",
    "\n",
    "# # Non-streaming\n",
    "# result = llm(\"Tell me a joke.\")\n",
    "# print(result)\n",
    "\n",
    "# Streaming\n",
    "for token in llm._stream(\"Tell me a joke.\"):\n",
    "    print(token)\n",
    "    # print(token, end=\"\", flush=True)\n"
   ]
  },
  {
   "cell_type": "code",
   "execution_count": null,
   "id": "7b383260-ccd4-4ab0-8cb6-3ad562d13acf",
   "metadata": {},
   "outputs": [],
   "source": []
  },
  {
   "cell_type": "code",
   "execution_count": 10,
   "id": "4058f4b3-9f2e-4dbe-bb92-2cf1a753ec82",
   "metadata": {},
   "outputs": [],
   "source": [
    "prompt_template = \"\"\"Отвечай по-русски. Используй следующий контекст чтобы ответить на вопрос.\n",
    "Если не знаешь ответа, просто скажи, что ты не знаешь.\n",
    "Если же в части вопроса не содержится вопроса, то просто поддержи беседу (возможно, используя контекст, - как будет звучать логичнее).\n",
    "\n",
    "Контекст:\n",
    "{context}\n",
    "\n",
    "Вопрос:\n",
    "{question}\n",
    "\n",
    "Ответ:\"\"\"\n",
    "\n",
    "custom_prompt_template = PromptTemplate(\n",
    "    input_variables=[\"context\", \"question\"],\n",
    "    template=prompt_template,\n",
    ")\n",
    "\n",
    "qa_chain = RetrievalQA.from_chain_type(\n",
    "    llm=llm,\n",
    "    chain_type=\"stuff\",\n",
    "    retriever=retriever,\n",
    "    chain_type_kwargs={\"prompt\": custom_prompt_template},\n",
    "    # return_source_documents=True\n",
    ")"
   ]
  },
  {
   "cell_type": "code",
   "execution_count": 11,
   "id": "9f68a806-3bf4-4289-80ff-c375b5958077",
   "metadata": {},
   "outputs": [],
   "source": [
    "prompt = \"Какие есть ограничения на расход - FICSALL-405?\""
   ]
  },
  {
   "cell_type": "code",
   "execution_count": 12,
   "id": "385ad7de-32c5-46ab-a842-0fc305300345",
   "metadata": {},
   "outputs": [
    {
     "name": "stdout",
     "output_type": "stream",
     "text": [
      "json: {'model': 'gemma3n:e4b', 'created_at': '2025-07-21T15:49:58.083047622Z', 'message': {'role': 'assistant', 'content': 'Ограничения на расход - FICSALL-405 следующие:\\n\\n*   **Допустимая норма (мин.):** 1645 кг/час\\n*   **Допустимая норма (макс.):** 6376 кг/час\\n*   **Блокировка (мин.):** 1645 кг/час\\n*   **Блокировка (макс.):** Информация отсутствует в предоставленном контексте.'}, 'done_reason': 'stop', 'done': True, 'total_duration': 2613785147, 'load_duration': 164440906, 'prompt_eval_count': 916, 'prompt_eval_duration': 737695349, 'eval_count': 98, 'eval_duration': 1710483483}\n"
     ]
    }
   ],
   "source": [
    "reply = qa_chain.invoke(prompt)['result']"
   ]
  },
  {
   "cell_type": "code",
   "execution_count": null,
   "id": "93eb4919-a231-4efa-8951-f1f73bf72e85",
   "metadata": {},
   "outputs": [],
   "source": []
  },
  {
   "cell_type": "code",
   "execution_count": 13,
   "id": "c9826fac-8e97-4828-89d8-b53d1e536adb",
   "metadata": {},
   "outputs": [
    {
     "name": "stdout",
     "output_type": "stream",
     "text": [
      "Ограничения на расход - FICSALL-405 следующие:\n",
      "\n",
      "*   **Допустимая норма (мин.):** 1645 кг/час\n",
      "*   **Допустимая норма (макс.):** 6376 кг/час\n",
      "*   **Блокировка (мин.):** 1645 кг/час\n",
      "*   **Блокировка (макс.):** Информация отсутствует в предоставленном контексте.\n"
     ]
    }
   ],
   "source": [
    "print(reply)"
   ]
  },
  {
   "cell_type": "code",
   "execution_count": null,
   "id": "d269887f-a1d9-40af-b218-a130aa601b55",
   "metadata": {},
   "outputs": [],
   "source": []
  },
  {
   "cell_type": "code",
   "execution_count": 32,
   "id": "9e59f785-1400-441f-8e44-5e0906427a90",
   "metadata": {},
   "outputs": [
    {
     "data": {
      "text/plain": [
       "'Какие есть ограничения на расход - FICSALL-405?'"
      ]
     },
     "execution_count": 32,
     "metadata": {},
     "output_type": "execute_result"
    }
   ],
   "source": [
    "prompt"
   ]
  },
  {
   "cell_type": "code",
   "execution_count": null,
   "id": "83bea0a3-5f9e-44bb-aa4c-c08f963c58ac",
   "metadata": {},
   "outputs": [],
   "source": []
  },
  {
   "cell_type": "code",
   "execution_count": 36,
   "id": "f18b9776-2ad3-4e29-b8d1-35379c622f36",
   "metadata": {},
   "outputs": [
    {
     "name": "stdout",
     "output_type": "stream",
     "text": [
      "Отвечай по-русски. Используй следующий контекст чтобы ответить на вопрос.\n",
      "Если не знаешь ответа, просто скажи, что ты не знаешь.\n",
      "Если же в части вопроса не содержится вопроса, то просто поддержи беседу (возможно, используя контекст, - как будет звучать логичнее).\n",
      "\n",
      "Контекст:\n",
      ": 9\n",
      "№ п/п: 10\n",
      "Наименование параметра: Расход - FICSALL-405\n",
      "Наименование оборудования (обозначение на технологической схеме): Трубопровод водородсодержащего газа на риформинг на выкиде компрессоров К-201 А/В\n",
      "Величина устанавливаемого предела - допустимая норма - мин.: 1645 - кг/час\n",
      "Величина устанавливаемого предела - допустимая норма - макс: 6376 кг/час\n",
      "Величина устанавливаемого предела - блокировка - мин.: 1645 - кг/час\n",
      "Величина устанавливаемого предела - блокировка - макс:\n",
      "\n",
      ": 7\n",
      "№ п/п: 8\n",
      "Наименование параметра: Расход - FICAH-407\n",
      "Наименование оборудования (обозначение на технологической схеме): Трубопровод водородсодержащего газа на приеме компрессора К-201 А/В\n",
      "Величина устанавливаемого предела - допустимая норма - мин.: 1645 - кг/час\n",
      "Величина устанавливаемого предела - допустимая норма - макс: 6376 - кг/час\n",
      "Величина устанавливаемого предела - блокировка - мин.: \n",
      "Величина устанавливаемого предела - блокировка - макс:\n",
      "\n",
      ": 8\n",
      "№ п/п: 9\n",
      "Наименование параметра: Расход - FICAL-406\n",
      "Наименование оборудования (обозначение на технологической схеме): Трубопровод водородсодержащего газа на рециркуляции после компрессоров К-201 А/В\n",
      "Величина устанавливаемого предела - допустимая норма - мин.: 1645 - кг/час\n",
      "Величина устанавливаемого предела - допустимая норма - макс: 6376 кг/час\n",
      "Величина устанавливаемого предела - блокировка - мин.: \n",
      "Величина устанавливаемого предела - блокировка - макс:\n",
      "\n",
      ": 24\n",
      "№ п/п: 25\n",
      "Наименование параметра: Расход - FSАLL-423\n",
      "Наименование оборудования (обозначение на технологической схеме): Трубопровод охлаждающей жидкости к компрессору К-801\n",
      "Величина устанавливаемого предела - допустимая норма - мин.: 0,227 - м3/час\n",
      "Величина устанавливаемого предела - допустимая норма - макс: \n",
      "Величина устанавливаемого предела - блокировка - мин.: 0,227 - м3/час\n",
      "Величина устанавливаемого предела - блокировка - макс:\n",
      "\n",
      "Вопрос:\n",
      "Какие есть ограничения на расход - FICSALL-405?\n",
      "\n",
      "Ответ:\n"
     ]
    }
   ],
   "source": [
    "print(full_prompt)"
   ]
  },
  {
   "cell_type": "code",
   "execution_count": null,
   "id": "f4d1049a-5c06-4584-8c81-710a060febbe",
   "metadata": {},
   "outputs": [],
   "source": []
  },
  {
   "cell_type": "code",
   "execution_count": 33,
   "id": "297d30a9-f0c2-41c5-b90e-70255413e8f6",
   "metadata": {},
   "outputs": [
    {
     "name": "stdout",
     "output_type": "stream",
     "text": [
      "Ограничения на расход - FICSALL-405 следующие:\n",
      "\n",
      "*   **Допустимая норма (мин.):** 1645 кг/час\n",
      "*   **Допустимая норма (макс.):** 6376 кг/час\n",
      "*   **Блокировка (мин.):** 1645 кг/час\n",
      "*   **Блокировка (макс.):**  (В контексте не указано)"
     ]
    }
   ],
   "source": [
    "docs = retriever.invoke(prompt)\n",
    "\n",
    "# Combine docs -> context\n",
    "context = \"\\n\\n\".join([d.page_content for d in docs])\n",
    "\n",
    "# Fill your custom prompt template\n",
    "full_prompt = custom_prompt_template.format(context=context, question=prompt)\n",
    "\n",
    "# Now stream\n",
    "for chunk in llm._stream(full_prompt):\n",
    "    print(chunk, end=\"\", flush=True)"
   ]
  },
  {
   "cell_type": "code",
   "execution_count": null,
   "id": "093a3521-141f-43af-a4ed-bdb30faa1fdd",
   "metadata": {},
   "outputs": [],
   "source": []
  },
  {
   "cell_type": "code",
   "execution_count": null,
   "id": "7feadf7a-dea5-4d5e-9b33-2a06461660a8",
   "metadata": {},
   "outputs": [],
   "source": []
  },
  {
   "cell_type": "code",
   "execution_count": 20,
   "id": "556e4c6b-2fee-44aa-ad16-3a9cae6cdbec",
   "metadata": {},
   "outputs": [],
   "source": [
    "from langchain.callbacks.streaming_stdout import StreamingStdOutCallbackHandler\n",
    "callbacks = [StreamingStdOutCallbackHandler()]"
   ]
  },
  {
   "cell_type": "code",
   "execution_count": null,
   "id": "52f2598a-5d3b-44bf-b8ae-25cde4db10fd",
   "metadata": {},
   "outputs": [],
   "source": [
    "\n",
    "chain = LLMChain(llm=llamamodel, prompt=PROMPT, callbacks=callbacks) "
   ]
  },
  {
   "cell_type": "code",
   "execution_count": null,
   "id": "248f45a6-8a88-4139-a0b8-2f92a16c76d5",
   "metadata": {},
   "outputs": [],
   "source": []
  },
  {
   "cell_type": "code",
   "execution_count": null,
   "id": "98ce0635-2174-4152-8526-bec804e43bfa",
   "metadata": {},
   "outputs": [],
   "source": []
  },
  {
   "cell_type": "code",
   "execution_count": null,
   "id": "8d4d5dda-5ef1-4bec-92ba-ccdbb2edb400",
   "metadata": {},
   "outputs": [],
   "source": []
  },
  {
   "cell_type": "code",
   "execution_count": null,
   "id": "b0045086-aa4b-4fd4-80d8-fe6f12323b10",
   "metadata": {},
   "outputs": [],
   "source": [
    "3: {'model': 'gemma3n:e4b', 'messages': [{'role': 'user', 'content': 'Отвечай по-русски. Используй следующий контекст чтобы ответить на вопрос.\\nЕсли не знаешь ответа, просто скажи, что ты не знаешь.\\nЕсли же в части вопроса не содержится вопроса, то просто поддержи беседу (возможно, используя контекст, - как будет звучать логичнее).\\n\\nКонтекст:\\nВеличина устанавливаемого предела - сигнализация - мин.: \\nВеличина устанавливаемого предела - сигнализация - макс: 6376 - кг/час\\nВид воздействия (операции по отключению, включению, переключению и др. воздействию): Сигнализация параметра изменением цвета на щите управления в операторной. - Сигнализация звуком на щите управления в операторной.\\nСекция: СЕКЦИЯ 200 – КАТАЛИТИЧЕСКИЙ РИФОРМИНГ - Компрессоры К-201/А,В\\n\\n: 66\\n№ п/п: 67\\nНаименование параметра: Пожар в насосной - BSA-9\\nНаименование оборудования (обозначение на технологической схеме): Насосная. Одновременное срабатывание не менее одного датчика в разных шлейфах\\nВеличина устанавливаемого предела - допустимая норма - мин.: \\nВеличина устанавливаемого предела - допустимая норма - макс: \\nВеличина устанавливаемого предела - блокировка - мин.: \\nВеличина устанавливаемого предела - блокировка - макс: НЗ\\n\\nВеличина устанавливаемого предела - сигнализация - макс: 80%\\nВид воздействия (операции по отключению, включению, переключению и др. воздействию): Сигнализация параметра изменением цвета на щите управления в операторной. Сигнализация звуком на щите управления в операторной.\\nСекция: СЕКЦИЯ 100 – блок подготовки сырья\\n\\nВеличина устанавливаемого предела - сигнализация - мин.: 3750 - кг/час\\nВеличина устанавливаемого предела - сигнализация - макс: \\nВид воздействия (операции по отключению, включению, переключению и др. воздействию): Сигнализация параметра изменением цвета на щите управления в операторной. - Сигнализация звуком на щите управления в операторной.\\nСекция: СЕКЦИЯ 200 – КАТАЛИТИЧЕСКИЙ РИФОРМИНГ - Компрессоры К-201/А,В\\n\\nВопрос:\\nПривет!\\n\\nОтвет:'}], 'stream': False}\n",
    "4: {'Content-Type': 'application/json'}\n",
    "5: http://localhost:11434/api/chat"
   ]
  },
  {
   "cell_type": "code",
   "execution_count": 6,
   "id": "9f308ceb-e5eb-4ccf-a892-8aa3e64a32ff",
   "metadata": {},
   "outputs": [],
   "source": [
    "headers = {'Content-Type': 'application/json'}\n",
    "\n",
    "data = {\n",
    "    'model': 'gemma3n:e4b',\n",
    "    'messages': [\n",
    "        {\n",
    "            'role': 'user',\n",
    "            'content': 'Отвечай по-русски. Используй следующий контекст чтобы ответить на вопрос.\\nЕсли не знаешь ответа, просто скажи, что ты не знаешь.\\nЕсли же в части вопроса не содержится вопроса, то просто поддержи беседу (возможно, используя контекст, - как будет звучать логичнее).\\n\\nКонтекст:\\nВеличина устанавливаемого предела - сигнализация - мин.: \\nВеличина устанавливаемого предела - сигнализация - макс: 6376 - кг/час\\nВид воздействия (операции по отключению, включению, переключению и др. воздействию): Сигнализация параметра изменением цвета на щите управления в операторной. - Сигнализация звуком на щите управления в операторной.\\nСекция: СЕКЦИЯ 200 – КАТАЛИТИЧЕСКИЙ РИФОРМИНГ - Компрессоры К-201/А,В\\n\\n: 66\\n№ п/п: 67\\nНаименование параметра: Пожар в насосной - BSA-9\\nНаименование оборудования (обозначение на технологической схеме): Насосная. Одновременное срабатывание не менее одного датчика в разных шлейфах\\nВеличина устанавливаемого предела - допустимая норма - мин.: \\nВеличина устанавливаемого предела - допустимая норма - макс: \\nВеличина устанавливаемого предела - блокировка - мин.: \\nВеличина устанавливаемого предела - блокировка - макс: НЗ\\n\\nВеличина устанавливаемого предела - сигнализация - макс: 80%\\nВид воздействия (операции по отключению, включению, переключению и др. воздействию): Сигнализация параметра изменением цвета на щите управления в операторной. Сигнализация звуком на щите управления в операторной.\\nСекция: СЕКЦИЯ 100 – блок подготовки сырья\\n\\nВеличина устанавливаемого предела - сигнализация - мин.: 3750 - кг/час\\nВеличина устанавливаемого предела - сигнализация - макс: \\nВид воздействия (операции по отключению, включению, переключению и др. воздействию): Сигнализация параметра изменением цвета на щите управления в операторной. - Сигнализация звуком на щите управления в операторной.\\nСекция: СЕКЦИЯ 200 – КАТАЛИТИЧЕСКИЙ РИФОРМИНГ - Компрессоры К-201/А,В\\n\\nВопрос:\\nПривет!\\n\\nОтвет:'\n",
    "        }\n",
    "    ],\n",
    "    'stream': True\n",
    "}"
   ]
  },
  {
   "cell_type": "code",
   "execution_count": 7,
   "id": "94397a42-5a9d-4922-aba3-1b24de5e5685",
   "metadata": {},
   "outputs": [
    {
     "name": "stdout",
     "output_type": "stream",
     "text": [
      "CPU times: user 7.43 ms, sys: 1.86 ms, total: 9.28 ms\n",
      "Wall time: 22.1 s\n"
     ]
    }
   ],
   "source": [
    "%%time\n",
    "\n",
    "response = requests.post(endpoint_url, headers=headers, data=json.dumps(data))"
   ]
  },
  {
   "cell_type": "code",
   "execution_count": 11,
   "id": "3693b72e-7c22-4f50-bb31-7948e0914155",
   "metadata": {},
   "outputs": [],
   "source": [
    "assert response.status_code == 200"
   ]
  },
  {
   "cell_type": "code",
   "execution_count": 8,
   "id": "03fefdee-f66e-4a6c-81cf-5ef30935d17a",
   "metadata": {
    "scrolled": true
   },
   "outputs": [
    {
     "ename": "JSONDecodeError",
     "evalue": "Extra data: line 2 column 1 (char 133)",
     "output_type": "error",
     "traceback": [
      "\u001b[0;31m---------------------------------------------------------------------------\u001b[0m",
      "\u001b[0;31mJSONDecodeError\u001b[0m                           Traceback (most recent call last)",
      "File \u001b[0;32m~/python_venvs/default_venv/lib/python3.10/site-packages/requests/models.py:963\u001b[0m, in \u001b[0;36mResponse.json\u001b[0;34m(self, **kwargs)\u001b[0m\n\u001b[1;32m    962\u001b[0m \u001b[38;5;28;01mtry\u001b[39;00m:\n\u001b[0;32m--> 963\u001b[0m     \u001b[38;5;28;01mreturn\u001b[39;00m \u001b[43mcomplexjson\u001b[49m\u001b[38;5;241;43m.\u001b[39;49m\u001b[43mloads\u001b[49m\u001b[43m(\u001b[49m\u001b[38;5;28;43mself\u001b[39;49m\u001b[38;5;241;43m.\u001b[39;49m\u001b[43mcontent\u001b[49m\u001b[38;5;241;43m.\u001b[39;49m\u001b[43mdecode\u001b[49m\u001b[43m(\u001b[49m\u001b[43mencoding\u001b[49m\u001b[43m)\u001b[49m\u001b[43m,\u001b[49m\u001b[43m \u001b[49m\u001b[38;5;241;43m*\u001b[39;49m\u001b[38;5;241;43m*\u001b[39;49m\u001b[43mkwargs\u001b[49m\u001b[43m)\u001b[49m\n\u001b[1;32m    964\u001b[0m \u001b[38;5;28;01mexcept\u001b[39;00m \u001b[38;5;167;01mUnicodeDecodeError\u001b[39;00m:\n\u001b[1;32m    965\u001b[0m     \u001b[38;5;66;03m# Wrong UTF codec detected; usually because it's not UTF-8\u001b[39;00m\n\u001b[1;32m    966\u001b[0m     \u001b[38;5;66;03m# but some other 8-bit codec.  This is an RFC violation,\u001b[39;00m\n\u001b[1;32m    967\u001b[0m     \u001b[38;5;66;03m# and the server didn't bother to tell us what codec *was*\u001b[39;00m\n\u001b[1;32m    968\u001b[0m     \u001b[38;5;66;03m# used.\u001b[39;00m\n",
      "File \u001b[0;32m/usr/lib/python3.10/json/__init__.py:346\u001b[0m, in \u001b[0;36mloads\u001b[0;34m(s, cls, object_hook, parse_float, parse_int, parse_constant, object_pairs_hook, **kw)\u001b[0m\n\u001b[1;32m    343\u001b[0m \u001b[38;5;28;01mif\u001b[39;00m (\u001b[38;5;28mcls\u001b[39m \u001b[38;5;129;01mis\u001b[39;00m \u001b[38;5;28;01mNone\u001b[39;00m \u001b[38;5;129;01mand\u001b[39;00m object_hook \u001b[38;5;129;01mis\u001b[39;00m \u001b[38;5;28;01mNone\u001b[39;00m \u001b[38;5;129;01mand\u001b[39;00m\n\u001b[1;32m    344\u001b[0m         parse_int \u001b[38;5;129;01mis\u001b[39;00m \u001b[38;5;28;01mNone\u001b[39;00m \u001b[38;5;129;01mand\u001b[39;00m parse_float \u001b[38;5;129;01mis\u001b[39;00m \u001b[38;5;28;01mNone\u001b[39;00m \u001b[38;5;129;01mand\u001b[39;00m\n\u001b[1;32m    345\u001b[0m         parse_constant \u001b[38;5;129;01mis\u001b[39;00m \u001b[38;5;28;01mNone\u001b[39;00m \u001b[38;5;129;01mand\u001b[39;00m object_pairs_hook \u001b[38;5;129;01mis\u001b[39;00m \u001b[38;5;28;01mNone\u001b[39;00m \u001b[38;5;129;01mand\u001b[39;00m \u001b[38;5;129;01mnot\u001b[39;00m kw):\n\u001b[0;32m--> 346\u001b[0m     \u001b[38;5;28;01mreturn\u001b[39;00m \u001b[43m_default_decoder\u001b[49m\u001b[38;5;241;43m.\u001b[39;49m\u001b[43mdecode\u001b[49m\u001b[43m(\u001b[49m\u001b[43ms\u001b[49m\u001b[43m)\u001b[49m\n\u001b[1;32m    347\u001b[0m \u001b[38;5;28;01mif\u001b[39;00m \u001b[38;5;28mcls\u001b[39m \u001b[38;5;129;01mis\u001b[39;00m \u001b[38;5;28;01mNone\u001b[39;00m:\n",
      "File \u001b[0;32m/usr/lib/python3.10/json/decoder.py:340\u001b[0m, in \u001b[0;36mJSONDecoder.decode\u001b[0;34m(self, s, _w)\u001b[0m\n\u001b[1;32m    339\u001b[0m \u001b[38;5;28;01mif\u001b[39;00m end \u001b[38;5;241m!=\u001b[39m \u001b[38;5;28mlen\u001b[39m(s):\n\u001b[0;32m--> 340\u001b[0m     \u001b[38;5;28;01mraise\u001b[39;00m JSONDecodeError(\u001b[38;5;124m\"\u001b[39m\u001b[38;5;124mExtra data\u001b[39m\u001b[38;5;124m\"\u001b[39m, s, end)\n\u001b[1;32m    341\u001b[0m \u001b[38;5;28;01mreturn\u001b[39;00m obj\n",
      "\u001b[0;31mJSONDecodeError\u001b[0m: Extra data: line 2 column 1 (char 133)",
      "\nDuring handling of the above exception, another exception occurred:\n",
      "\u001b[0;31mJSONDecodeError\u001b[0m                           Traceback (most recent call last)",
      "Cell \u001b[0;32mIn[8], line 1\u001b[0m\n\u001b[0;32m----> 1\u001b[0m reply \u001b[38;5;241m=\u001b[39m \u001b[43mresponse\u001b[49m\u001b[38;5;241;43m.\u001b[39;49m\u001b[43mjson\u001b[49m\u001b[43m(\u001b[49m\u001b[43m)\u001b[49m[\u001b[38;5;124m\"\u001b[39m\u001b[38;5;124mmessage\u001b[39m\u001b[38;5;124m\"\u001b[39m][\u001b[38;5;124m\"\u001b[39m\u001b[38;5;124mcontent\u001b[39m\u001b[38;5;124m\"\u001b[39m]\n",
      "File \u001b[0;32m~/python_venvs/default_venv/lib/python3.10/site-packages/requests/models.py:971\u001b[0m, in \u001b[0;36mResponse.json\u001b[0;34m(self, **kwargs)\u001b[0m\n\u001b[1;32m    969\u001b[0m             \u001b[38;5;28;01mpass\u001b[39;00m\n\u001b[1;32m    970\u001b[0m         \u001b[38;5;28;01mexcept\u001b[39;00m JSONDecodeError \u001b[38;5;28;01mas\u001b[39;00m e:\n\u001b[0;32m--> 971\u001b[0m             \u001b[38;5;28;01mraise\u001b[39;00m RequestsJSONDecodeError(e\u001b[38;5;241m.\u001b[39mmsg, e\u001b[38;5;241m.\u001b[39mdoc, e\u001b[38;5;241m.\u001b[39mpos)\n\u001b[1;32m    973\u001b[0m \u001b[38;5;28;01mtry\u001b[39;00m:\n\u001b[1;32m    974\u001b[0m     \u001b[38;5;28;01mreturn\u001b[39;00m complexjson\u001b[38;5;241m.\u001b[39mloads(\u001b[38;5;28mself\u001b[39m\u001b[38;5;241m.\u001b[39mtext, \u001b[38;5;241m*\u001b[39m\u001b[38;5;241m*\u001b[39mkwargs)\n",
      "\u001b[0;31mJSONDecodeError\u001b[0m: Extra data: line 2 column 1 (char 133)"
     ]
    }
   ],
   "source": [
    "reply = response.json()[\"message\"][\"content\"]"
   ]
  },
  {
   "cell_type": "code",
   "execution_count": null,
   "id": "351512b9-a1d2-4ceb-8f94-dc8b6697a7e3",
   "metadata": {},
   "outputs": [],
   "source": [
    "reply"
   ]
  },
  {
   "cell_type": "code",
   "execution_count": null,
   "id": "9bc5c5e3-682d-4071-a5fb-fbca3eea0bee",
   "metadata": {},
   "outputs": [],
   "source": []
  },
  {
   "cell_type": "markdown",
   "id": "d7f6a44b",
   "metadata": {},
   "source": [
    "# Заводим ollama + qwen"
   ]
  },
  {
   "cell_type": "code",
   "execution_count": 3,
   "id": "ba784d0d",
   "metadata": {},
   "outputs": [
    {
     "data": {
      "text/plain": [
       "ListResponse(models=[Model(model='gemma3n:e4b', modified_at=datetime.datetime(2025, 7, 14, 15, 50, 14, 56036, tzinfo=TzInfo(+03:00)), digest='15cb39fd9394fd2549f6df9081cfc84dd134ecf2c9c5be911e5629920489ac32', size=7547589116, details=ModelDetails(parent_model='', format='gguf', family='gemma3n', families=['gemma3n'], parameter_size='6.9B', quantization_level='Q4_K_M')), Model(model='deepseek-r1:latest', modified_at=datetime.datetime(2025, 7, 11, 13, 18, 56, 239732, tzinfo=TzInfo(+03:00)), digest='6995872bfe4c521a67b32da386cd21d5c6e819b6e0d62f79f64ec83be99f5763', size=5225376047, details=ModelDetails(parent_model='', format='gguf', family='qwen3', families=['qwen3'], parameter_size='8.2B', quantization_level='Q4_K_M')), Model(model='qwen3:8b', modified_at=datetime.datetime(2025, 7, 10, 16, 11, 15, 224804, tzinfo=TzInfo(+03:00)), digest='500a1f067a9f782620b40bee6f7b0c89e17ae61f686b92c24933e4ca4b2b8b41', size=5225388164, details=ModelDetails(parent_model='', format='gguf', family='qwen3', families=['qwen3'], parameter_size='8.2B', quantization_level='Q4_K_M'))])"
      ]
     },
     "execution_count": 3,
     "metadata": {},
     "output_type": "execute_result"
    }
   ],
   "source": [
    "ollama.list()"
   ]
  },
  {
   "cell_type": "code",
   "execution_count": null,
   "id": "e60eb5f2-ef47-4097-9c20-6bf6d86ba72c",
   "metadata": {},
   "outputs": [],
   "source": []
  },
  {
   "cell_type": "code",
   "execution_count": 4,
   "id": "e9cb798d-8f64-45ef-bc70-ab2c257fcb05",
   "metadata": {},
   "outputs": [],
   "source": []
  },
  {
   "cell_type": "code",
   "execution_count": 13,
   "id": "be8df2db-9ac2-4b5b-a342-09bba1c513a7",
   "metadata": {},
   "outputs": [],
   "source": [
    "url = \"http://localhost:11434/api/chat\""
   ]
  },
  {
   "cell_type": "code",
   "execution_count": 14,
   "id": "b330e3ac-e424-4374-a0e6-25e3e89165b2",
   "metadata": {},
   "outputs": [],
   "source": [
    "headers = {'Content-Type': 'application/json'}"
   ]
  },
  {
   "cell_type": "code",
   "execution_count": null,
   "id": "dc3ae5a7-6052-4eea-8c79-bccb98b23e9c",
   "metadata": {},
   "outputs": [],
   "source": []
  },
  {
   "cell_type": "code",
   "execution_count": 58,
   "id": "82afb7fc-99f1-48c5-ab31-98d5415b3c7e",
   "metadata": {},
   "outputs": [],
   "source": [
    "url='http://localhost:11434/api/chat'\n",
    "headers={'Content-Type': 'application/json'}\n",
    "data={\"model\": \"gemma3n:e4b\", \"messages\": [{\"role\": \"user\", \"content\": \"Привет!\"}], 'stream': False}\n"
   ]
  },
  {
   "cell_type": "code",
   "execution_count": 59,
   "id": "4bbc7747-0a94-46f8-bef8-e19264a583b6",
   "metadata": {},
   "outputs": [],
   "source": [
    "response = requests.post(url, headers=headers, data=json.dumps(data))"
   ]
  },
  {
   "cell_type": "code",
   "execution_count": 60,
   "id": "383ec3ed-1218-4d4f-acee-561306045325",
   "metadata": {},
   "outputs": [
    {
     "data": {
      "text/plain": [
       "{'model': 'gemma3n:e4b',\n",
       " 'created_at': '2025-07-14T17:08:12.599305459Z',\n",
       " 'message': {'role': 'assistant',\n",
       "  'content': 'Привет! 👋 Рад тебя видеть! Чем могу помочь? Что тебя интересует?\\n'},\n",
       " 'done_reason': 'stop',\n",
       " 'done': True,\n",
       " 'total_duration': 3026054075,\n",
       " 'load_duration': 104100736,\n",
       " 'prompt_eval_count': 11,\n",
       " 'prompt_eval_duration': 168584085,\n",
       " 'eval_count': 19,\n",
       " 'eval_duration': 2752746874}"
      ]
     },
     "execution_count": 60,
     "metadata": {},
     "output_type": "execute_result"
    }
   ],
   "source": [
    "response.json()"
   ]
  },
  {
   "cell_type": "code",
   "execution_count": null,
   "id": "3291ab3a-27f7-4ef4-ac8c-8d9405e8eb95",
   "metadata": {},
   "outputs": [],
   "source": []
  },
  {
   "cell_type": "code",
   "execution_count": 54,
   "id": "fd9d286a-5446-44ed-96ee-f8456639d98e",
   "metadata": {},
   "outputs": [],
   "source": [
    "data = {\n",
    "    'model': 'gemma3n:e4b',\n",
    "    # 'model': 'deepseek-r1:latest',\n",
    "    # 'prompt': 'hello! How are you?',\n",
    "    # \"prompt\": 'Привет!',\n",
    "    'messages': [{'role': 'user', 'content': 'Привет!'}],\n",
    "    'stream': False\n",
    "    \n",
    "}"
   ]
  },
  {
   "cell_type": "code",
   "execution_count": 55,
   "id": "522c6b3e-018c-4168-8e68-fa4cc46a9709",
   "metadata": {},
   "outputs": [
    {
     "data": {
      "text/plain": [
       "{'model': 'gemma3n:e4b',\n",
       " 'messages': [{'role': 'user', 'content': 'Привет!'}],\n",
       " 'stream': False}"
      ]
     },
     "execution_count": 55,
     "metadata": {},
     "output_type": "execute_result"
    }
   ],
   "source": [
    "data"
   ]
  },
  {
   "cell_type": "code",
   "execution_count": 56,
   "id": "e8295870-e4fa-4ccb-8c0b-dc4e9c9b092e",
   "metadata": {},
   "outputs": [],
   "source": [
    "response = requests.post(url, headers=headers, data=json.dumps(data))"
   ]
  },
  {
   "cell_type": "code",
   "execution_count": null,
   "id": "ce9bea4e-fdbe-4a03-ab0e-74a6aa8a2096",
   "metadata": {},
   "outputs": [],
   "source": []
  },
  {
   "cell_type": "code",
   "execution_count": null,
   "id": "40794778-28da-4e19-8dcf-d7c75384227b",
   "metadata": {},
   "outputs": [],
   "source": []
  },
  {
   "cell_type": "code",
   "execution_count": 45,
   "id": "f480cb18-6dd6-49a2-b721-0fcbbf1acf36",
   "metadata": {},
   "outputs": [],
   "source": [
    "response = requests.post(\n",
    "    \"http://localhost:11434/api/chat\",\n",
    "    data={'model': 'gemma3n:e4b ', 'messages': [{'role': 'user', 'content': 'Привет!'}], 'stream': False}\n",
    ")"
   ]
  },
  {
   "cell_type": "code",
   "execution_count": 57,
   "id": "da8c95e4-ceba-452d-a597-b6f86d08ad8b",
   "metadata": {},
   "outputs": [
    {
     "data": {
      "text/plain": [
       "'Привет! 👋 Рад тебя видеть! Чем могу помочь? Что тебя интересует? 😊\\n'"
      ]
     },
     "execution_count": 57,
     "metadata": {},
     "output_type": "execute_result"
    }
   ],
   "source": [
    "response.json()[\"message\"][\"content\"]"
   ]
  },
  {
   "cell_type": "code",
   "execution_count": 43,
   "id": "d1db39ed-04b2-4a2e-b847-1947045a3747",
   "metadata": {},
   "outputs": [
    {
     "data": {
      "text/plain": [
       "200"
      ]
     },
     "execution_count": 43,
     "metadata": {},
     "output_type": "execute_result"
    }
   ],
   "source": [
    "response.status_code"
   ]
  },
  {
   "cell_type": "code",
   "execution_count": null,
   "id": "db27ca17-2b51-49cf-a8cc-97b7a927dbf0",
   "metadata": {},
   "outputs": [],
   "source": []
  },
  {
   "cell_type": "code",
   "execution_count": null,
   "id": "a7f24f12-2682-40d9-a7fe-a9151c9d72e5",
   "metadata": {},
   "outputs": [],
   "source": [
    "response = requests.post(\n",
    "    \"http://localhost:11434/api/chat\",\n",
    "    json={\n",
    "        \"model\": MODEL_NAME,\n",
    "        \"messages\": [\n",
    "            {\"role\": m[\"role\"], \"content\": m[\"content\"]} for m in st.session_state.messages\n",
    "        ],\n",
    "        \"stream\": False\n",
    "    }\n",
    ")"
   ]
  },
  {
   "cell_type": "code",
   "execution_count": null,
   "id": "09ee99f2-44b9-49f2-84ed-5fe8520f4916",
   "metadata": {},
   "outputs": [],
   "source": []
  },
  {
   "cell_type": "code",
   "execution_count": null,
   "id": "e1098983-71d0-4e4f-864b-2d5a101e1a23",
   "metadata": {},
   "outputs": [],
   "source": []
  },
  {
   "cell_type": "code",
   "execution_count": null,
   "id": "90114612-9c67-4467-8cdd-827209b55177",
   "metadata": {},
   "outputs": [],
   "source": []
  },
  {
   "cell_type": "code",
   "execution_count": 4,
   "id": "505aa8d2-27bb-4cc9-870e-94a50599910d",
   "metadata": {},
   "outputs": [],
   "source": [
    "# Собираем из разных папок в папку Data_processing_collected\n",
    "\n",
    "SOURCE_DIR = Path('./data/data_processing')\n",
    "DATA_DIR = Path('./data/processed_csv_files')"
   ]
  },
  {
   "cell_type": "code",
   "execution_count": null,
   "id": "51b06b19-bbc6-4ae3-a7de-4f446469a41d",
   "metadata": {},
   "outputs": [],
   "source": []
  },
  {
   "cell_type": "code",
   "execution_count": 28,
   "id": "0870e354-b0d9-4e57-9dd2-1ec53695c0db",
   "metadata": {
    "scrolled": true
   },
   "outputs": [
    {
     "data": {
      "application/vnd.jupyter.widget-view+json": {
       "model_id": "5f2ba595010947a5aee9cff790f9a143",
       "version_major": 2,
       "version_minor": 0
      },
      "text/plain": [
       "  0%|          | 0/37 [00:00<?, ?it/s]"
      ]
     },
     "metadata": {},
     "output_type": "display_data"
    },
    {
     "name": "stdout",
     "output_type": "stream",
     "text": [
      "data/data_processing/РАЗДЕЛ 6/РАЗДЕЛ 6_1.csv\n",
      "data/data_processing/РАЗДЕЛ 6/РАЗДЕЛ 6_4.csv\n",
      "data/data_processing/РАЗДЕЛ 6/РАЗДЕЛ 6_8.csv\n",
      "data/data_processing/РАЗДЕЛ 6/РАЗДЕЛ 6_7.csv\n",
      "data/data_processing/РАЗДЕЛ 6/РАЗДЕЛ 6_9.csv\n",
      "data/data_processing/РАЗДЕЛ 6/РАЗДЕЛ 6_11.csv\n",
      "data/data_processing/РАЗДЕЛ 6/РАЗДЕЛ 6_0.csv\n",
      "data/data_processing/РАЗДЕЛ 6/РАЗДЕЛ 6_6.csv\n",
      "data/data_processing/РАЗДЕЛ 6/РАЗДЕЛ 6_5.csv\n",
      "data/data_processing/РАЗДЕЛ 6/РАЗДЕЛ 6_3.csv\n",
      "data/data_processing/РАЗДЕЛ 6/РАЗДЕЛ 6_10.csv\n",
      "data/data_processing/РАЗДЕЛ 6/РАЗДЕЛ 6_2.csv\n",
      "data/data_processing/РАЗДЕЛ 8/РАЗДЕЛ 8 - 1.csv\n",
      "data/data_processing/РАЗДЕЛ 8/РАЗДЕЛ 8 - 2.csv\n",
      "data/data_processing/РАЗДЕЛ 8/РАЗДЕЛ 8 - 3.csv\n",
      "data/data_processing/РАЗДЕЛ 9 - 9.2,9.3,9.4,9.5/РАЗДЕЛ 9 - 9.5.csv\n",
      "data/data_processing/РАЗДЕЛ 9 - 9.2,9.3,9.4,9.5/РАЗДЕЛ 9 - 9.3.csv\n",
      "data/data_processing/РАЗДЕЛ 9 - 9.2,9.3,9.4,9.5/РАЗДЕЛ 9 - 9.4.csv\n",
      "data/data_processing/РАЗДЕЛ 9 - 9.2,9.3,9.4,9.5/РАЗДЕЛ 9 - 9.2.csv\n",
      "data/data_processing/РАЗДЕЛ 3/РАЗДЕЛ 3_9.csv\n",
      "data/data_processing/РАЗДЕЛ 3/РАЗДЕЛ 3_7.csv\n",
      "data/data_processing/РАЗДЕЛ 3/РАЗДЕЛ 3_3.csv\n",
      "data/data_processing/РАЗДЕЛ 3/РАЗДЕЛ 3_4.csv\n",
      "data/data_processing/РАЗДЕЛ 3/РАЗДЕЛ 3_0.csv\n",
      "data/data_processing/РАЗДЕЛ 3/РАЗДЕЛ 3_11.csv\n",
      "data/data_processing/РАЗДЕЛ 3/РАЗДЕЛ 3_5.csv\n",
      "data/data_processing/РАЗДЕЛ 3/РАЗДЕЛ 3_8.csv\n",
      "data/data_processing/РАЗДЕЛ 3/РАЗДЕЛ 3_1.csv\n",
      "data/data_processing/РАЗДЕЛ 3/РАЗДЕЛ 3_6.csv\n",
      "data/data_processing/РАЗДЕЛ 3/РАЗДЕЛ 3_2.csv\n",
      "data/data_processing/РАЗДЕЛ 3/РАЗДЕЛ 3_10.csv\n",
      "data/data_processing/РАЗДЕЛ 1 - ОПУ Петрофак/РАЗДЕЛ 1 - ОПУ Петрофак.csv\n",
      "data/data_processing/раздел 5.2/раздел 5.2.csv\n",
      "data/data_processing/РАЗДЕЛ 2 ОПУ/РАЗДЕЛ 2 ОПУ.csv\n",
      "data/data_processing/раздел 7 Таблица 7.1.1/раздел 7 Таблица 7.1.1.csv\n",
      "data/data_processing/РАЗДЕЛ 10/РАЗДЕЛ 10.csv\n",
      "data/data_processing/раздел 5.2_с критическими параметрами Петрофак/раздел 5.2_с критическими параметрами Петрофак.csv\n"
     ]
    }
   ],
   "source": [
    "shutil.rmtree(DATA_DIR)\n",
    "DATA_DIR.mkdir(parents=True, exist_ok=True)\n",
    "\n",
    "pathlist = list(Path(SOURCE_DIR).glob('**/*.csv'))\n",
    "for path in tqdm(pathlist):\n",
    "    # because path is object not string\n",
    "    path_in_str = str(path)\n",
    "    print(path_in_str)\n",
    "    df = pd.read_csv(path, sep=';')\n",
    "    df.to_csv(DATA_DIR / path.name)"
   ]
  },
  {
   "cell_type": "code",
   "execution_count": 25,
   "id": "9686cc6a-2484-4ff8-bbe9-39dd75f5d4eb",
   "metadata": {},
   "outputs": [
    {
     "data": {
      "text/plain": [
       "PosixPath('data/processed_csv_files')"
      ]
     },
     "execution_count": 25,
     "metadata": {},
     "output_type": "execute_result"
    }
   ],
   "source": [
    "DATA_DIR"
   ]
  },
  {
   "cell_type": "code",
   "execution_count": 5,
   "id": "12a2f39a-5478-4e71-91d6-835d54efc716",
   "metadata": {},
   "outputs": [
    {
     "name": "stdout",
     "output_type": "stream",
     "text": [
      "Loaded 73 documents\n"
     ]
    }
   ],
   "source": [
    "# loader_args = {'sep': ';'}\n",
    "# loader_cls = CSVLoader[file_type]\n",
    "# loader_instance = CSVLoader({'sep': ';'})\n",
    "\n",
    "\n",
    "loaders = [\n",
    "    DirectoryLoader(\n",
    "        path=DATA_DIR,\n",
    "        glob=\"./*.csv\",\n",
    "        # loader_cls=CSVLoader(file_path='./data/processed_csv_files/раздел 5.2.csv', csv_args={'sep': ';'}),\n",
    "        loader_cls=CSVLoader,\n",
    "    ),\n",
    "    # DirectoryLoader(\n",
    "    #     path=\"./data\",\n",
    "    #     glob=\"**/*.md\",\n",
    "    #     loader_cls=UnstructuredMarkdownLoader\n",
    "    # ),\n",
    "    # DirectoryLoader(\n",
    "    #     path=\"./data\",\n",
    "    #     glob=\"**/*.txt\",\n",
    "    #     loader_cls=TextLoader\n",
    "    # ),\n",
    "]\n",
    "\n",
    "\n",
    "# Load and combine documents from all loaders\n",
    "documents = []\n",
    "for loader in loaders:\n",
    "    docs = loader.load()\n",
    "    documents.extend(docs)\n",
    "\n",
    "print(f\"Loaded {len(documents)} documents\")"
   ]
  },
  {
   "cell_type": "code",
   "execution_count": 6,
   "id": "d77e2f0e-3268-43c7-93d7-abf0fe6542d1",
   "metadata": {},
   "outputs": [
    {
     "name": "stdout",
     "output_type": "stream",
     "text": [
      "Split into 147 chunks\n"
     ]
    }
   ],
   "source": [
    "# Split documents into chunks\n",
    "\n",
    "text_splitter = RecursiveCharacterTextSplitter(\n",
    "    chunk_size=500,\n",
    "    chunk_overlap=50\n",
    ")\n",
    "\n",
    "docs = text_splitter.split_documents(documents)\n",
    "print(f\"Split into {len(docs)} chunks\")"
   ]
  },
  {
   "cell_type": "code",
   "execution_count": 7,
   "id": "2a5c2e41-4867-4272-aa7f-a36f456fab99",
   "metadata": {},
   "outputs": [
    {
     "name": "stderr",
     "output_type": "stream",
     "text": [
      "/home/konstantin/python_venvs/default_venv/lib/python3.10/site-packages/torch/cuda/__init__.py:619: UserWarning: Can't initialize NVML\n",
      "  warnings.warn(\"Can't initialize NVML\")\n"
     ]
    },
    {
     "name": "stdout",
     "output_type": "stream",
     "text": [
      "CPU times: user 1min 8s, sys: 5.57 s, total: 1min 14s\n",
      "Wall time: 17.3 s\n"
     ]
    }
   ],
   "source": [
    "%%time\n",
    "\n",
    "# Embed and store chunks in a vector store\n",
    "\n",
    "# Initialize embedding model\n",
    "# embeddings = HuggingFaceEmbeddings()\n",
    "\n",
    "\n",
    "embeddings = HuggingFaceEmbeddings(\n",
    "    model_name=\"sentence-transformers/paraphrase-multilingual-mpnet-base-v2\"\n",
    ")\n",
    "\n",
    "# sentence-transformers/LaBSE\n",
    "# DeepPavlov/rubert-base-cased-sentence\n",
    "\n",
    "\n",
    "# Create vector store\n",
    "vectorstore = FAISS.from_documents(docs, embeddings)"
   ]
  },
  {
   "cell_type": "raw",
   "id": "959d201b-1699-4328-a696-c733a4864f3d",
   "metadata": {},
   "source": [
    "ListResponse(models=[Model(model='qwen3:8b', modified_at=datetime.datetime(2025, 7, 10, 16, 11, 15, 224804, tzinfo=TzInfo(+03:00)), digest='500a1f067a9f782620b40bee6f7b0c89e17ae61f686b92c24933e4ca4b2b8b41', size=5225388164, details=ModelDetails(parent_model='', format='gguf', family='qwen3', families=['qwen3'], parameter_size='8.2B', quantization_level='Q4_K_M'))])"
   ]
  },
  {
   "cell_type": "code",
   "execution_count": 12,
   "id": "7c2d6216-4845-4ed8-9626-921d3eb21c99",
   "metadata": {},
   "outputs": [],
   "source": [
    "# Set up Ollama as your LLM\n",
    "\n",
    "\n",
    "\n",
    "llm = ChatOllama(\n",
    "    base_url=\"http://localhost:11434\",\n",
    "    model=\"qwen3:8b\"\n",
    "    # mode='deepseek-r1:latest',\n",
    ")"
   ]
  },
  {
   "cell_type": "code",
   "execution_count": 13,
   "id": "7da36dc2-8d3f-4138-8d03-2e4d7124cbff",
   "metadata": {},
   "outputs": [
    {
     "name": "stdout",
     "output_type": "stream",
     "text": [
      "<think>\n",
      "Okay, the user is asking about the established limits for the buffer gas pipeline on the inlet of compressor K-201B. Let me check the provided context.\n",
      "\n",
      "Looking through the entries, there's one for FSALL-417В, which is the buffer gas pipeline on the inlet of compressor K-201B. The parameters listed are:\n",
      "\n",
      "- Minimum permissible limit: 31.5 kg/hour\n",
      "- Maximum permissible limit: Not specified (blank)\n",
      "- Blockage minimum: 31.5 kg/hour\n",
      "- Blockage maximum: Not specified (blank)\n",
      "\n",
      "So the answer should mention the minimum permissible limit is 31.5 kg/hour, but the maximum permissible limit isn't provided in the data. Also, the blockage minimum is the same as the permissible minimum, while the blockage maximum is missing. I need to state that clearly without making up any information.\n",
      "</think>\n",
      "\n",
      "Для трубопровода буферного газа на приеме компрессора К-201В (обозначение FSALL-417В) установлены следующие пределы:  \n",
      "- **Допустимая норма (минимум):** 31,5 кг/час  \n",
      "- **Допустимая норма (максимум):** Не указано (пустое значение)  \n",
      "- **Блокировка (минимум):** 31,5 кг/час  \n",
      "- **Блокировка (максимум):** Не указано (пустое значение)  \n",
      "\n",
      "Данные о максимальной допустимой норме и блокировке максимума отсутствуют в предоставленной информации.\n"
     ]
    }
   ],
   "source": [
    "# Create a retriever and a RAG chain\n",
    "\n",
    "from langchain.chains import RetrievalQA\n",
    "\n",
    "retriever = vectorstore.as_retriever()\n",
    "\n",
    "qa_chain = RetrievalQA.from_chain_type(\n",
    "    llm=llm,\n",
    "    chain_type=\"stuff\",\n",
    "    retriever=retriever\n",
    ")\n",
    "\n",
    "# Run a test question\n",
    "# result = qa_chain.run(\"Дай мне краткий (в 2 предложения) пересказ csv файла.\")\n",
    "result = qa_chain.run('Скажи, какие установленные пределы у трубопровода буферного газа на приеме компрессора?')\n",
    "print(result)"
   ]
  },
  {
   "cell_type": "code",
   "execution_count": null,
   "id": "96e7d01f-4122-4ad2-a1bc-2b414e67cfa1",
   "metadata": {},
   "outputs": [],
   "source": []
  },
  {
   "cell_type": "code",
   "execution_count": null,
   "id": "66ec8aa2-bbb6-4a65-a2b0-504c875b4f38",
   "metadata": {},
   "outputs": [],
   "source": []
  },
  {
   "cell_type": "code",
   "execution_count": null,
   "id": "70eaefdb-9f0d-47e9-8f56-f07d43521321",
   "metadata": {},
   "outputs": [],
   "source": []
  },
  {
   "cell_type": "markdown",
   "id": "d3ed4d0d-747b-4afd-8dc7-bc39abbacd9e",
   "metadata": {},
   "source": [
    "# Старый код"
   ]
  },
  {
   "cell_type": "code",
   "execution_count": 2,
   "id": "be77abc6",
   "metadata": {},
   "outputs": [],
   "source": [
    "# response = ollama.chat(model='llama3:70b', messages=[\n",
    "#   {\n",
    "#     'role': 'user',\n",
    "#     'content': 'Почему небо голубое?',\n",
    "#   },\n",
    "# ])\n",
    "# print(response['message']['content'])"
   ]
  },
  {
   "cell_type": "code",
   "execution_count": 3,
   "id": "67e20d4c",
   "metadata": {},
   "outputs": [],
   "source": [
    "DATA_DIR = \"data/\"\n",
    "\n",
    "\n",
    "def load_and_split_documents() -> list[dict]:\n",
    "    \"\"\"\n",
    "    Loads our documents from disc and split them into chunks.\n",
    "    Returns a list of dictionaries.\n",
    "    \"\"\"\n",
    "    # Load our data.\n",
    "    loader = DirectoryLoader(\n",
    "        DATA_DIR, loader_cls=UnstructuredMarkdownLoader, show_progress=True\n",
    "    )\n",
    "    docs = loader.load()\n",
    "\n",
    "    # Split our documents.\n",
    "    splitter = RecursiveCharacterTextSplitter.from_language(\n",
    "        language=Language.MARKDOWN, chunk_size=6000, chunk_overlap=100\n",
    "    )\n",
    "    split_docs = splitter.split_documents(docs)\n",
    "\n",
    "    # Convert our LangChain Documents to a list of dictionaries.\n",
    "    final_docs = []\n",
    "    for i, doc in enumerate(split_docs):\n",
    "        doc_dict = {\n",
    "            \"id\": str(i),\n",
    "            \"content\": doc.page_content,\n",
    "            \"sourcefile\": os.path.basename(doc.metadata[\"source\"]),\n",
    "        }\n",
    "        final_docs.append(doc_dict)\n",
    "\n",
    "    return final_docs\n",
    "\n"
   ]
  },
  {
   "cell_type": "code",
   "execution_count": 4,
   "id": "1ab3c298",
   "metadata": {},
   "outputs": [
    {
     "name": "stdout",
     "output_type": "stream",
     "text": [
      "Небо кажется голубым из-затого, что наше зрение наиболее чувствительно к синим и коротковолновым частотам видимого спектра света.\n",
      "\n",
      "В действительности, свет от Солнца содержит все цвета спектра, включая красные, оранжевые, желтые, зеленые, синие и инфракрасные. Однако наше зрение лучше всего воспринимает синий цвет, потому что он имеет наиболее высокую частоту в видимом спектре.\n",
      "\n",
      "Когда мы смотрим на небо, мы видим свет, который проходит через атмосферу Земли. Атмосфера состоит из различных газов, таких как азот, кислород и углекислый газ. Эти газы поглощают или рассеивают другие цвета спектра, такие как красный, оранжевый и желтый, но не синий.\n",
      "\n",
      "Следствием этого является то, что наше зрение воспринимает преимущественно синий цвет, который остается после прохождения света через атмосферу. Этоwhy небо кажется голубым – потому что наш мозг интерпретирует синий цвет как основной цвет неба.\n",
      "\n",
      "Таким образом, голубое небо – это не только результат физических свойств света и атмосферы, но и функция нашего зрения, которое лучше всего воспринимает синий цвет."
     ]
    }
   ],
   "source": [
    "stream = ollama.chat(\n",
    "    model='llama3',\n",
    "    messages=[{'role': 'user', 'content': 'Почему небо голубое? Ответьте, пожалуйста, по-русски.'}],\n",
    "    stream=True,\n",
    ")\n",
    "\n",
    "for chunk in stream:\n",
    "    print(chunk['message']['content'], end='', flush=True)"
   ]
  },
  {
   "cell_type": "markdown",
   "id": "a7f40fc0",
   "metadata": {},
   "source": [
    "# RAG - BERT + Llama"
   ]
  },
  {
   "cell_type": "markdown",
   "id": "7f811a64-c635-4469-9958-e5517060a1c5",
   "metadata": {},
   "source": [
    "## Base model"
   ]
  },
  {
   "cell_type": "code",
   "execution_count": 1,
   "id": "7f1bfd1a",
   "metadata": {},
   "outputs": [],
   "source": [
    "from transformers import AutoModelForCausalLM, AutoTokenizer, AutoModel\n",
    "import torch\n",
    "import transformers\n",
    "\n",
    "device = torch.device(\"cuda\")\n",
    "# transformers.logging.set_verbosity_info()\n",
    "transformers.logging.set_verbosity_error()"
   ]
  },
  {
   "cell_type": "code",
   "execution_count": 2,
   "id": "d2684fde",
   "metadata": {},
   "outputs": [
    {
     "data": {
      "text/plain": [
       "True"
      ]
     },
     "execution_count": 2,
     "metadata": {},
     "output_type": "execute_result"
    }
   ],
   "source": [
    "torch.cuda.is_available()"
   ]
  },
  {
   "cell_type": "code",
   "execution_count": 3,
   "id": "325616d2-c998-4ea8-873e-8551d1e7e2ec",
   "metadata": {},
   "outputs": [
    {
     "data": {
      "application/vnd.jupyter.widget-view+json": {
       "model_id": "0c3edbd43b6e4133bc296ea4862ef540",
       "version_major": 2,
       "version_minor": 0
      },
      "text/plain": [
       "Loading checkpoint shards:   0%|          | 0/4 [00:00<?, ?it/s]"
      ]
     },
     "metadata": {},
     "output_type": "display_data"
    }
   ],
   "source": [
    "model_name_base = './meta-llama/Meta-Llama-3-8B-Instruct'\n",
    "# model_base = AutoModel.from_pretrained(model_name_base).eval()\n",
    "\n",
    "\n",
    "\n",
    "from transformers import LlamaForCausalLM, LlamaTokenizer\n",
    "\n",
    "# tokenizer = LlamaTokenizer.from_pretrained(model_name_base)\n",
    "model_base = LlamaForCausalLM.from_pretrained(model_name_base).eval()"
   ]
  },
  {
   "cell_type": "raw",
   "id": "ac742fac-b52a-42c2-b613-7a621a7bf585",
   "metadata": {},
   "source": [
    "# model_name_base = 'minhtt/vistral-7b-chat'\n",
    "# model_name_base = 'meta-llama/Meta-Llama-3-70B'\n",
    "model_name_base = './meta-llama/Meta-Llama-3-8B-Instruct'\n",
    "\n",
    "model_base = AutoModelForCausalLM.from_pretrained(\n",
    "    model_name_base,\n",
    "    # device_map=\"auto\",\n",
    "    load_in_4bit=True,\n",
    "    trust_remote_code=True\n",
    ").eval()"
   ]
  },
  {
   "cell_type": "code",
   "execution_count": 4,
   "id": "252e70dd",
   "metadata": {},
   "outputs": [],
   "source": [
    "# model_vistral = AutoModelForCausalLM.from_pretrained(model_name_vistral).eval()\n",
    "tokenizer = AutoTokenizer.from_pretrained(model_name_base)"
   ]
  },
  {
   "cell_type": "code",
   "execution_count": 5,
   "id": "2fb1f654",
   "metadata": {},
   "outputs": [],
   "source": [
    "from langchain_huggingface import HuggingFacePipeline\n",
    "from transformers import AutoModelForCausalLM, AutoTokenizer,pipeline\n",
    "\n",
    "pipeline = pipeline(task=\"text-generation\", model=model_base, tokenizer=tokenizer, max_new_tokens=300)\n",
    "base_llm =  HuggingFacePipeline(pipeline = pipeline)\n",
    "# LlamaForCausalLM\n",
    "# LlamaForCausalLM"
   ]
  },
  {
   "cell_type": "markdown",
   "id": "45cb9c92-8f02-4f83-bf55-0b7426cb60aa",
   "metadata": {},
   "source": [
    "## Embedding model"
   ]
  },
  {
   "cell_type": "code",
   "execution_count": 6,
   "id": "d35c801a",
   "metadata": {},
   "outputs": [
    {
     "data": {
      "application/vnd.jupyter.widget-view+json": {
       "model_id": "c9ef5ccca54a446489420499114f8022",
       "version_major": 2,
       "version_minor": 0
      },
      "text/plain": [
       "Loading checkpoint shards:   0%|          | 0/4 [00:00<?, ?it/s]"
      ]
     },
     "metadata": {},
     "output_type": "display_data"
    }
   ],
   "source": [
    "from transformers import AutoModel\n",
    "# model_name_embedding = 'minhtt/phobert-base-v2'\n",
    "model_name_embedding = './meta-llama/Meta-Llama-3-8B-Instruct'\n",
    "\n",
    "model_embedding = AutoModel.from_pretrained(\n",
    "    model_name_embedding,\n",
    "    # load_in_4bit=True,\n",
    "    # device_map=\"auto\",\n",
    "    # trust_remote_code=True\n",
    ").eval()\n",
    "\n",
    "tokenizer_embedding = AutoTokenizer.from_pretrained(model_name_embedding)\n"
   ]
  },
  {
   "cell_type": "code",
   "execution_count": 7,
   "id": "4284dfa7-1554-47e6-b73a-7eeb53af4b41",
   "metadata": {},
   "outputs": [],
   "source": [
    "class custom_embedding():\n",
    "    def __init__(self, eb, tokenizer):\n",
    "        self.model = eb\n",
    "        self.tokenizer = tokenizer\n",
    "    \n",
    "    def embed_document(self, text):\n",
    "        with torch.no_grad():\n",
    "            inputs = self.tokenizer(text, return_tensors=\"pt\")\n",
    "            outputs = self.model(**inputs)\n",
    "            embeddings = outputs.last_hidden_state[:, 0, :]\n",
    "            return embeddings.reshape((-1))\n",
    "    \n",
    "    def embed_documents(self, texts):\n",
    "        l = []\n",
    "        for i in texts:\n",
    "            l.append(self.embed_document(i))\n",
    "        return l\n",
    "    \n",
    "    def __call__(self, text):\n",
    "        return self.embed_document(text)\n"
   ]
  },
  {
   "cell_type": "code",
   "execution_count": 8,
   "id": "4095de79-8ad0-4560-8502-ecf8922bfec7",
   "metadata": {},
   "outputs": [],
   "source": [
    "custom_embedding = custom_embedding(model_embedding, tokenizer_embedding)"
   ]
  },
  {
   "cell_type": "markdown",
   "id": "3718aedc-986e-47ec-b726-5ca2bc47ddc6",
   "metadata": {},
   "source": [
    "## Load documents into RAG"
   ]
  },
  {
   "cell_type": "code",
   "execution_count": 9,
   "id": "6301bcb3-8e20-4fda-a6b8-e757b915b3fc",
   "metadata": {},
   "outputs": [],
   "source": [
    "from langchain.document_loaders import DirectoryLoader, UnstructuredMarkdownLoader\n",
    "from langchain.embeddings.openai import OpenAIEmbeddings\n",
    "from langchain.text_splitter import Language, RecursiveCharacterTextSplitter\n",
    "from langchain.vectorstores.azuresearch import AzureSearch\n",
    "# from langchain.vectorstores.utils import Document"
   ]
  },
  {
   "cell_type": "code",
   "execution_count": 10,
   "id": "ef4c90b1-7ce9-4055-a31b-d8dd28edf5b0",
   "metadata": {},
   "outputs": [],
   "source": [
    "DATA_DIR = './data'"
   ]
  },
  {
   "cell_type": "code",
   "execution_count": 11,
   "id": "2bff7e3c-95b5-4ab9-9859-0bb3c8748596",
   "metadata": {},
   "outputs": [
    {
     "name": "stderr",
     "output_type": "stream",
     "text": [
      "100%|██████████████████████████████████████████████████████████| 20/20 [01:05<00:00,  3.27s/it]\n"
     ]
    }
   ],
   "source": [
    "loader = DirectoryLoader(\n",
    "    DATA_DIR, loader_cls=UnstructuredMarkdownLoader, show_progress=True\n",
    ")\n",
    "docs = loader.load()\n",
    "\n",
    "# Split our documents.\n",
    "splitter = RecursiveCharacterTextSplitter.from_language(\n",
    "    language=Language.MARKDOWN, chunk_size=6000, chunk_overlap=100\n",
    ")\n",
    "split_docs = splitter.split_documents(docs)"
   ]
  },
  {
   "cell_type": "code",
   "execution_count": 17,
   "id": "49b0bda7-e065-4dfe-b0ae-0f74ee7da0bb",
   "metadata": {},
   "outputs": [],
   "source": [
    "from langchain.vectorstores import FAISS"
   ]
  },
  {
   "cell_type": "code",
   "execution_count": 29,
   "id": "fc435a79-7630-49e1-9bd8-48d72aac6dec",
   "metadata": {},
   "outputs": [],
   "source": [
    "import os\n",
    "os.environ[\"TOKENIZERS_PARALLELISM\"] = \"true\"\n"
   ]
  },
  {
   "cell_type": "code",
   "execution_count": 25,
   "id": "b0950b37-1e42-42a7-9ba1-58ddac44b74b",
   "metadata": {
    "scrolled": true
   },
   "outputs": [
    {
     "ename": "ImportError",
     "evalue": "Could not import faiss python package. Please install it with `pip install faiss-gpu` (for CUDA supported GPU) or `pip install faiss-cpu` (depending on Python version).",
     "output_type": "error",
     "traceback": [
      "\u001b[0;31m---------------------------------------------------------------------------\u001b[0m",
      "\u001b[0;31mModuleNotFoundError\u001b[0m                       Traceback (most recent call last)",
      "File \u001b[0;32m~/python_venv/lib/python3.12/site-packages/langchain_community/vectorstores/faiss.py:55\u001b[0m, in \u001b[0;36mdependable_faiss_import\u001b[0;34m(no_avx2)\u001b[0m\n\u001b[1;32m     54\u001b[0m     \u001b[38;5;28;01melse\u001b[39;00m:\n\u001b[0;32m---> 55\u001b[0m         \u001b[38;5;28;01mimport\u001b[39;00m \u001b[38;5;21;01mfaiss\u001b[39;00m\n\u001b[1;32m     56\u001b[0m \u001b[38;5;28;01mexcept\u001b[39;00m \u001b[38;5;167;01mImportError\u001b[39;00m:\n",
      "\u001b[0;31mModuleNotFoundError\u001b[0m: No module named 'faiss'",
      "\nDuring handling of the above exception, another exception occurred:\n",
      "\u001b[0;31mImportError\u001b[0m                               Traceback (most recent call last)",
      "Cell \u001b[0;32mIn[25], line 3\u001b[0m\n\u001b[1;32m      1\u001b[0m texts \u001b[38;5;241m=\u001b[39m [split_docs[i] \u001b[38;5;28;01mfor\u001b[39;00m i \u001b[38;5;129;01min\u001b[39;00m \u001b[38;5;28mrange\u001b[39m(\u001b[38;5;28mlen\u001b[39m(split_docs))]\n\u001b[0;32m----> 3\u001b[0m db \u001b[38;5;241m=\u001b[39m \u001b[43mFAISS\u001b[49m\u001b[38;5;241;43m.\u001b[39;49m\u001b[43mfrom_documents\u001b[49m\u001b[43m(\u001b[49m\u001b[43mtexts\u001b[49m\u001b[43m,\u001b[49m\u001b[43m \u001b[49m\u001b[43mcustom_embedding\u001b[49m\u001b[43m)\u001b[49m\n",
      "File \u001b[0;32m~/python_venv/lib/python3.12/site-packages/langchain_core/vectorstores/base.py:1058\u001b[0m, in \u001b[0;36mVectorStore.from_documents\u001b[0;34m(cls, documents, embedding, **kwargs)\u001b[0m\n\u001b[1;32m   1056\u001b[0m texts \u001b[38;5;241m=\u001b[39m [d\u001b[38;5;241m.\u001b[39mpage_content \u001b[38;5;28;01mfor\u001b[39;00m d \u001b[38;5;129;01min\u001b[39;00m documents]\n\u001b[1;32m   1057\u001b[0m metadatas \u001b[38;5;241m=\u001b[39m [d\u001b[38;5;241m.\u001b[39mmetadata \u001b[38;5;28;01mfor\u001b[39;00m d \u001b[38;5;129;01min\u001b[39;00m documents]\n\u001b[0;32m-> 1058\u001b[0m \u001b[38;5;28;01mreturn\u001b[39;00m \u001b[38;5;28;43mcls\u001b[39;49m\u001b[38;5;241;43m.\u001b[39;49m\u001b[43mfrom_texts\u001b[49m\u001b[43m(\u001b[49m\u001b[43mtexts\u001b[49m\u001b[43m,\u001b[49m\u001b[43m \u001b[49m\u001b[43membedding\u001b[49m\u001b[43m,\u001b[49m\u001b[43m \u001b[49m\u001b[43mmetadatas\u001b[49m\u001b[38;5;241;43m=\u001b[39;49m\u001b[43mmetadatas\u001b[49m\u001b[43m,\u001b[49m\u001b[43m \u001b[49m\u001b[38;5;241;43m*\u001b[39;49m\u001b[38;5;241;43m*\u001b[39;49m\u001b[43mkwargs\u001b[49m\u001b[43m)\u001b[49m\n",
      "File \u001b[0;32m~/python_venv/lib/python3.12/site-packages/langchain_community/vectorstores/faiss.py:931\u001b[0m, in \u001b[0;36mFAISS.from_texts\u001b[0;34m(cls, texts, embedding, metadatas, ids, **kwargs)\u001b[0m\n\u001b[1;32m    912\u001b[0m \u001b[38;5;250m\u001b[39m\u001b[38;5;124;03m\"\"\"Construct FAISS wrapper from raw documents.\u001b[39;00m\n\u001b[1;32m    913\u001b[0m \n\u001b[1;32m    914\u001b[0m \u001b[38;5;124;03mThis is a user friendly interface that:\u001b[39;00m\n\u001b[0;32m   (...)\u001b[0m\n\u001b[1;32m    928\u001b[0m \u001b[38;5;124;03m        faiss = FAISS.from_texts(texts, embeddings)\u001b[39;00m\n\u001b[1;32m    929\u001b[0m \u001b[38;5;124;03m\"\"\"\u001b[39;00m\n\u001b[1;32m    930\u001b[0m embeddings \u001b[38;5;241m=\u001b[39m embedding\u001b[38;5;241m.\u001b[39membed_documents(texts)\n\u001b[0;32m--> 931\u001b[0m \u001b[38;5;28;01mreturn\u001b[39;00m \u001b[38;5;28;43mcls\u001b[39;49m\u001b[38;5;241;43m.\u001b[39;49m\u001b[43m__from\u001b[49m\u001b[43m(\u001b[49m\n\u001b[1;32m    932\u001b[0m \u001b[43m    \u001b[49m\u001b[43mtexts\u001b[49m\u001b[43m,\u001b[49m\n\u001b[1;32m    933\u001b[0m \u001b[43m    \u001b[49m\u001b[43membeddings\u001b[49m\u001b[43m,\u001b[49m\n\u001b[1;32m    934\u001b[0m \u001b[43m    \u001b[49m\u001b[43membedding\u001b[49m\u001b[43m,\u001b[49m\n\u001b[1;32m    935\u001b[0m \u001b[43m    \u001b[49m\u001b[43mmetadatas\u001b[49m\u001b[38;5;241;43m=\u001b[39;49m\u001b[43mmetadatas\u001b[49m\u001b[43m,\u001b[49m\n\u001b[1;32m    936\u001b[0m \u001b[43m    \u001b[49m\u001b[43mids\u001b[49m\u001b[38;5;241;43m=\u001b[39;49m\u001b[43mids\u001b[49m\u001b[43m,\u001b[49m\n\u001b[1;32m    937\u001b[0m \u001b[43m    \u001b[49m\u001b[38;5;241;43m*\u001b[39;49m\u001b[38;5;241;43m*\u001b[39;49m\u001b[43mkwargs\u001b[49m\u001b[43m,\u001b[49m\n\u001b[1;32m    938\u001b[0m \u001b[43m\u001b[49m\u001b[43m)\u001b[49m\n",
      "File \u001b[0;32m~/python_venv/lib/python3.12/site-packages/langchain_community/vectorstores/faiss.py:883\u001b[0m, in \u001b[0;36mFAISS.__from\u001b[0;34m(cls, texts, embeddings, embedding, metadatas, ids, normalize_L2, distance_strategy, **kwargs)\u001b[0m\n\u001b[1;32m    871\u001b[0m \u001b[38;5;129m@classmethod\u001b[39m\n\u001b[1;32m    872\u001b[0m \u001b[38;5;28;01mdef\u001b[39;00m \u001b[38;5;21m__from\u001b[39m(\n\u001b[1;32m    873\u001b[0m     \u001b[38;5;28mcls\u001b[39m,\n\u001b[0;32m   (...)\u001b[0m\n\u001b[1;32m    881\u001b[0m     \u001b[38;5;241m*\u001b[39m\u001b[38;5;241m*\u001b[39mkwargs: Any,\n\u001b[1;32m    882\u001b[0m ) \u001b[38;5;241m-\u001b[39m\u001b[38;5;241m>\u001b[39m FAISS:\n\u001b[0;32m--> 883\u001b[0m     faiss \u001b[38;5;241m=\u001b[39m \u001b[43mdependable_faiss_import\u001b[49m\u001b[43m(\u001b[49m\u001b[43m)\u001b[49m\n\u001b[1;32m    884\u001b[0m     \u001b[38;5;28;01mif\u001b[39;00m distance_strategy \u001b[38;5;241m==\u001b[39m DistanceStrategy\u001b[38;5;241m.\u001b[39mMAX_INNER_PRODUCT:\n\u001b[1;32m    885\u001b[0m         index \u001b[38;5;241m=\u001b[39m faiss\u001b[38;5;241m.\u001b[39mIndexFlatIP(\u001b[38;5;28mlen\u001b[39m(embeddings[\u001b[38;5;241m0\u001b[39m]))\n",
      "File \u001b[0;32m~/python_venv/lib/python3.12/site-packages/langchain_community/vectorstores/faiss.py:57\u001b[0m, in \u001b[0;36mdependable_faiss_import\u001b[0;34m(no_avx2)\u001b[0m\n\u001b[1;32m     55\u001b[0m         \u001b[38;5;28;01mimport\u001b[39;00m \u001b[38;5;21;01mfaiss\u001b[39;00m\n\u001b[1;32m     56\u001b[0m \u001b[38;5;28;01mexcept\u001b[39;00m \u001b[38;5;167;01mImportError\u001b[39;00m:\n\u001b[0;32m---> 57\u001b[0m     \u001b[38;5;28;01mraise\u001b[39;00m \u001b[38;5;167;01mImportError\u001b[39;00m(\n\u001b[1;32m     58\u001b[0m         \u001b[38;5;124m\"\u001b[39m\u001b[38;5;124mCould not import faiss python package. \u001b[39m\u001b[38;5;124m\"\u001b[39m\n\u001b[1;32m     59\u001b[0m         \u001b[38;5;124m\"\u001b[39m\u001b[38;5;124mPlease install it with `pip install faiss-gpu` (for CUDA supported GPU) \u001b[39m\u001b[38;5;124m\"\u001b[39m\n\u001b[1;32m     60\u001b[0m         \u001b[38;5;124m\"\u001b[39m\u001b[38;5;124mor `pip install faiss-cpu` (depending on Python version).\u001b[39m\u001b[38;5;124m\"\u001b[39m\n\u001b[1;32m     61\u001b[0m     )\n\u001b[1;32m     62\u001b[0m \u001b[38;5;28;01mreturn\u001b[39;00m faiss\n",
      "\u001b[0;31mImportError\u001b[0m: Could not import faiss python package. Please install it with `pip install faiss-gpu` (for CUDA supported GPU) or `pip install faiss-cpu` (depending on Python version)."
     ]
    }
   ],
   "source": [
    "%%time\n",
    "\n",
    "texts = [split_docs[i] for i in range(len(split_docs))]\n",
    "\n",
    "db = FAISS.from_documents(texts, custom_embedding)"
   ]
  },
  {
   "cell_type": "code",
   "execution_count": 30,
   "id": "599261b2-d540-43f3-a0ae-71d66ed48b53",
   "metadata": {},
   "outputs": [
    {
     "name": "stdout",
     "output_type": "stream",
     "text": [
      "\u001b[31mERROR: Could not find a version that satisfies the requirement faiss-gpu (from versions: none)\u001b[0m\u001b[31m\n",
      "\u001b[0m\u001b[31mERROR: No matching distribution found for faiss-gpu\u001b[0m\u001b[31m\n",
      "\u001b[0m"
     ]
    }
   ],
   "source": [
    "!pip install faiss-gpu"
   ]
  },
  {
   "cell_type": "code",
   "execution_count": 14,
   "id": "3e889444-3738-4091-87ce-6563a1df14f7",
   "metadata": {},
   "outputs": [
    {
     "ename": "NameError",
     "evalue": "name 'db' is not defined",
     "output_type": "error",
     "traceback": [
      "\u001b[0;31m---------------------------------------------------------------------------\u001b[0m",
      "\u001b[0;31mNameError\u001b[0m                                 Traceback (most recent call last)",
      "Cell \u001b[0;32mIn[14], line 22\u001b[0m\n\u001b[1;32m      7\u001b[0m template \u001b[38;5;241m=\u001b[39m \u001b[38;5;124m\"\"\"\u001b[39m\u001b[38;5;124mYou\u001b[39m\u001b[38;5;124m'\u001b[39m\u001b[38;5;124mre a helpful assistant.\u001b[39m\u001b[38;5;130;01m\\n\u001b[39;00m\n\u001b[1;32m      8\u001b[0m \u001b[38;5;124mPlease answer the user\u001b[39m\u001b[38;5;124m'\u001b[39m\u001b[38;5;124ms question using only information you can \u001b[39m\n\u001b[1;32m      9\u001b[0m \u001b[38;5;124mfind in the context.\u001b[39m\u001b[38;5;130;01m\\n\u001b[39;00m\n\u001b[0;32m   (...)\u001b[0m\n\u001b[1;32m     13\u001b[0m \u001b[38;5;124mQuestion: \u001b[39m\u001b[38;5;132;01m{question}\u001b[39;00m\n\u001b[1;32m     14\u001b[0m \u001b[38;5;124m\"\"\"\u001b[39m\n\u001b[1;32m     17\u001b[0m prompt \u001b[38;5;241m=\u001b[39m PromptTemplate(\n\u001b[1;32m     18\u001b[0m     input_variables\u001b[38;5;241m=\u001b[39m[\u001b[38;5;124m\"\u001b[39m\u001b[38;5;124mquery\u001b[39m\u001b[38;5;124m\"\u001b[39m,\u001b[38;5;124m\"\u001b[39m\u001b[38;5;124mcontext\u001b[39m\u001b[38;5;124m\"\u001b[39m],\n\u001b[1;32m     19\u001b[0m     template\u001b[38;5;241m=\u001b[39mtemplate,\n\u001b[1;32m     20\u001b[0m )\n\u001b[0;32m---> 22\u001b[0m retriever \u001b[38;5;241m=\u001b[39m \u001b[43mdb\u001b[49m\u001b[38;5;241m.\u001b[39mas_retriever(search_kwargs\u001b[38;5;241m=\u001b[39m{\u001b[38;5;124m'\u001b[39m\u001b[38;5;124mk\u001b[39m\u001b[38;5;124m'\u001b[39m: \u001b[38;5;241m3\u001b[39m})\n\u001b[1;32m     24\u001b[0m qa \u001b[38;5;241m=\u001b[39m RetrievalQA\u001b[38;5;241m.\u001b[39mfrom_chain_type(llm\u001b[38;5;241m=\u001b[39mbase_llm, \n\u001b[1;32m     25\u001b[0m                                  retriever\u001b[38;5;241m=\u001b[39mretriever,\n\u001b[1;32m     26\u001b[0m                                  chain_type\u001b[38;5;241m=\u001b[39m\u001b[38;5;124m\"\u001b[39m\u001b[38;5;124mstuff\u001b[39m\u001b[38;5;124m\"\u001b[39m,\n\u001b[1;32m     27\u001b[0m                                  return_source_documents \u001b[38;5;241m=\u001b[39m \u001b[38;5;28;01mTrue\u001b[39;00m,\n\u001b[1;32m     28\u001b[0m                                  chain_type_kwargs \u001b[38;5;241m=\u001b[39m {\u001b[38;5;124m'\u001b[39m\u001b[38;5;124mprompt\u001b[39m\u001b[38;5;124m'\u001b[39m: prompt, \u001b[38;5;124m\"\u001b[39m\u001b[38;5;124mverbose\u001b[39m\u001b[38;5;124m\"\u001b[39m: \u001b[38;5;28;01mFalse\u001b[39;00m},)\n",
      "\u001b[0;31mNameError\u001b[0m: name 'db' is not defined"
     ]
    }
   ],
   "source": [
    "from langchain import PromptTemplate\n",
    "from langchain_core import prompt_values\n",
    "\n",
    "\n",
    "\n",
    "\n",
    "template = \"\"\"You're a helpful assistant.\\n\n",
    "Please answer the user's question using only information you can \n",
    "find in the context.\\n\n",
    "If the user's question is unrelated to the information in the \n",
    "context, say you don't know.\\n\n",
    "Context: {context}\\n\n",
    "Question: {question}\n",
    "\"\"\"\n",
    "\n",
    "\n",
    "prompt = PromptTemplate(\n",
    "    input_variables=[\"query\",\"context\"],\n",
    "    template=template,\n",
    ")\n",
    "\n",
    "retriever = db.as_retriever(search_kwargs={'k': 3})\n",
    "\n",
    "qa = RetrievalQA.from_chain_type(llm=base_llm, \n",
    "                                 retriever=retriever,\n",
    "                                 chain_type=\"stuff\",\n",
    "                                 return_source_documents = True,\n",
    "                                 chain_type_kwargs = {'prompt': prompt, \"verbose\": False},)"
   ]
  },
  {
   "cell_type": "code",
   "execution_count": null,
   "id": "8f61cfb0-9dee-4c22-af70-d21163e65dcc",
   "metadata": {},
   "outputs": [],
   "source": [
    "question = \"I need a large backpack. Which one do you recommend?\""
   ]
  },
  {
   "cell_type": "code",
   "execution_count": null,
   "id": "001ba8af-50b5-4691-a534-5e2de0bafa3e",
   "metadata": {},
   "outputs": [],
   "source": []
  },
  {
   "cell_type": "code",
   "execution_count": null,
   "id": "d9397627-2aed-453b-934f-0fd5adbb89e3",
   "metadata": {},
   "outputs": [],
   "source": []
  },
  {
   "cell_type": "code",
   "execution_count": null,
   "id": "5cbc633c-b526-45b1-b487-ffd1ff6cd9c9",
   "metadata": {},
   "outputs": [],
   "source": []
  },
  {
   "cell_type": "code",
   "execution_count": 15,
   "id": "688f69bb-c04d-4b22-9c22-683dcc7967d9",
   "metadata": {},
   "outputs": [
    {
     "name": "stdout",
     "output_type": "stream",
     "text": [
      "['./data/product_info_13.md', './data/product_info_7.md', './data/product_info_10.md', './data/product_info_12.md', './data/product_info_3.md', './data/product_info_18.md', './data/product_info_19.md', './data/product_info_1.md', './data/product_info_15.md', './data/product_info_16.md', './data/product_info_6.md', './data/product_info_17.md', './data/product_info_8.md', './data/product_info_9.md', './data/product_info_4.md', './data/product_info_2.md', './data/product_info_5.md', './data/product_info_11.md', './data/product_info_20.md', './data/product_info_14.md']\n"
     ]
    }
   ],
   "source": [
    "from langchain.text_splitter import RecursiveCharacterTextSplitter\n",
    "from langchain.document_loaders import TextLoader\n",
    "from langchain.vectorstores import FAISS\n",
    "from langchain.chains import RetrievalQA\n",
    "from langchain.chains.retrieval_qa.base import BaseRetrievalQA\n",
    "from langchain_community.document_loaders.word_document import Docx2txtLoader\n",
    "import docx2txt\n",
    "import os\n",
    "import glob\n",
    "\n",
    "# dir_path = \"/kaggle/input/vietinbank-document\"\n",
    "dir_path = \"./data/\"\n",
    "files = glob.glob(os.path.join(dir_path, \"*.md\"))\n",
    "print(files)"
   ]
  },
  {
   "cell_type": "code",
   "execution_count": 16,
   "id": "ec36c6f5-5caa-4f9e-88e0-da241bfc5769",
   "metadata": {},
   "outputs": [],
   "source": [
    "from langchain.text_splitter import MarkdownTextSplitter\n",
    "splitter = MarkdownTextSplitter(chunk_size = 500, chunk_overlap=300)"
   ]
  },
  {
   "cell_type": "code",
   "execution_count": 20,
   "id": "1248576f-ba95-43c9-912e-8663f7b6b2de",
   "metadata": {},
   "outputs": [],
   "source": [
    "import markdown"
   ]
  },
  {
   "cell_type": "code",
   "execution_count": 22,
   "id": "26f00ee9-d7b6-4004-9ef9-91f3443bbc78",
   "metadata": {},
   "outputs": [],
   "source": [
    "f = open(files[0], 'r')\n",
    "htmlmarkdown=markdown.markdown( f.read() )"
   ]
  },
  {
   "cell_type": "code",
   "execution_count": 23,
   "id": "74855db8-874c-4462-aa65-d38688a85bea",
   "metadata": {
    "scrolled": true
   },
   "outputs": [
    {
     "data": {
      "text/plain": [
       "'<h1>Information about product item_number: 13</h1>\\n<p>PowerBurner Camping Stove, price $100,</p>\\n<h2>Brand</h2>\\n<p>PowerBurner</p>\\n<h2>Category</h2>\\n<p>Camping Stoves</p>\\n<h2>Features</h2>\\n<ul>\\n<li>Dual burners for efficient cooking</li>\\n<li>High heat output for fast boiling and cooking times</li>\\n<li>Adjustable flame control for precise temperature regulation</li>\\n<li>Compact and portable design for easy transportation</li>\\n<li>Piezo ignition system for quick and reliable ignition</li>\\n<li>Wind-resistant design to withstand outdoor conditions</li>\\n<li>Removable cooking grates for easy cleaning</li>\\n<li>Built-in fuel regulator for consistent performance</li>\\n<li>Sturdy construction for durability and stability</li>\\n<li>Compatible with various fuel types (propane, butane, etc.)</li>\\n<li>Integrated carrying handle for convenient portability</li>\\n<li>Made with high-quality materials for long-lasting use</li>\\n</ul>\\n<h2>Technical Specs</h2>\\n<ul>\\n<li><strong>Best Use</strong>: Camping, Outdoor Cooking</li>\\n<li><strong>Material:</strong> Stainless Steel</li>\\n<li><strong>Fuel Type</strong>: Propane, Butane, compatible with various fuel types</li>\\n<li><strong>Color:</strong> Black</li>\\n<li><strong>Burner Type</strong>: Dual Burners</li>\\n<li><strong>Heat Output</strong>: High heat output for fast boiling and cooking times</li>\\n<li><strong>Flame Control</strong>: Adjustable flame control for precise temperature regulation</li>\\n<li><strong>Ignition System</strong>: Piezo ignition system for quick and reliable ignition</li>\\n<li><strong>Wind Resistance</strong>: Wind-resistant design to withstand outdoor conditions</li>\\n<li><strong>Construction</strong>: Sturdy construction for durability and stability</li>\\n<li><strong>Fuel Regulator</strong>: Built-in fuel regulator for consistent performance</li>\\n<li><strong>Cooking Grates</strong>: Removable cooking grates for easy cleaning</li>\\n<li><strong>Portability</strong>: Compact and portable design with integrated carrying handle</li>\\n<li><strong>Compatibility</strong>: Compatible with standard camping fuel canisters</li>\\n<li><strong>Dimensions</strong>: 14in x 14in x 10in</li>\\n<li><strong>Weight</strong>: 5 lbs</li>\\n</ul>\\n<h2>User Guide/Manual</h2>\\n<h3>1. Safety Instructions</h3>\\n<ul>\\n<li>Read and understand all instructions before using the camping stove.</li>\\n<li>Only use the camping stove in well-ventilated outdoor areas.</li>\\n<li>Keep the camping stove away from flammable materials, including tents and overhanging branches.</li>\\n<li>Never leave the camping stove unattended while it is in use.</li>\\n<li>Use caution when handling the camping stove, as it can become hot during operation.</li>\\n<li>Keep children and pets away from the camping stove.</li>\\n<li>Follow all local fire safety regulations and guidelines.</li>\\n</ul>\\n<h3>2. Setup and Assembly</h3>\\n<ul>\\n<li>Select a flat and stable surface for setting up the camping stove.</li>\\n<li>Remove the stove from its packaging and unfold the legs.</li>\\n<li>Attach any included accessories such as windshields or side tables, if applicable.</li>\\n</ul>\\n<h3>3. Fuel Selection and Connection</h3>\\n<ul>\\n<li>Choose the appropriate fuel type for your camping stove (propane, butane, etc.).</li>\\n<li>Follow the manufacturer\\'s instructions for connecting the fuel canister to the stove.</li>\\n<li>Ensure a secure and tight connection between the fuel canister and the stove.</li>\\n</ul>\\n<h3>4. Ignition and Flame Control</h3>\\n<ul>\\n<li>Locate the ignition system (typically a piezo igniter) on the camping stove.</li>\\n<li>Turn the control knob to the \"Ignite\" or \"Start\" position and press the ignition button to ignite the burners.</li>\\n<li>Adjust the flame control knob to increase or decrease the flame intensity.</li>\\n</ul>\\n<h3>5. Cooking Tips</h3>\\n<ul>\\n<li>Place cookware on the cooking grates and ensure stability.</li>\\n<li>Use suitable cookware that matches the size of the burners.</li>\\n<li>Monitor the cooking process closely and adjust the flame as needed.</li>\\n<li>Avoid placing flammable materials near the camping stove during cooking.</li>\\n</ul>\\n<h3>6. Cleaning and Maintenance</h3>\\n<ul>\\n<li>Allow the camping stove to cool down completely before cleaning.</li>\\n<li>Clean the cooking grates and stove surface using mild soap and water.</li>\\n<li>Remove any food residue or grease buildup from the burners.</li>\\n<li>Store the camping stove in a clean and dry place.</li>\\n</ul>\\n<h2>Caution Information</h2>\\n<ol>\\n<li><strong>DO NOT</strong> use the camping stove indoors or in poorly ventilated areas. It is designed for outdoor use only.</li>\\n<li><strong>DO NOT</strong> leave the camping stove unattended while it is in use.</li>\\n<li><strong>DO NOT</strong> place flammable materials or objects near the camping stove during operation.</li>\\n<li><strong>DO NOT</strong> use the camping stove in windy conditions without proper wind protection or shielding.</li>\\n<li><strong>DO NOT</strong> touch the stove surfaces or components while they are hot. Always use heat-resistant gloves or utensils.</li>\\n<li><strong>DO NOT</strong> use the camping stove with a damaged or leaking fuel canister. Check for any leaks or defects before connecting.</li>\\n<li><strong>DO NOT</strong> modify or alter the camping stove in any way. Use it as intended and follow the manufacturer\\'s instructions.</li>\\n<li><strong>DO NOT</strong> attempt to disassemble or repair the camping stove yourself. Contact authorized service personnel for assistance.</li>\\n<li><strong>DO NOT</strong> use the camping stove if you suspect a malfunction or if it shows signs of damage. Discontinue use and seek professional inspection.</li>\\n<li><strong>DO NOT</strong> expose the camping stove to extreme temperatures or direct sunlight for prolonged periods when not in use.</li>\\n</ol>\\n<p>Certainly! Here\\'s a sample warranty information for the PowerBurner Camping Stove:</p>\\n<h2>Warranty Information</h2>\\n<ol>\\n<li>Warranty Coverage:</li>\\n<li>The PowerBurner Camping Stove is covered by a <strong>1-year limited warranty</strong> from the date of purchase.</li>\\n<li>The warranty covers manufacturing defects in materials and workmanship under normal use.</li>\\n<li>\\n<p>The warranty is valid only for the original purchaser and is non-transferable.</p>\\n</li>\\n<li>\\n<p>Warranty Exclusions:\\nThe warranty does not cover the following:</p>\\n</li>\\n<li>Damage caused by misuse, abuse, negligence, accidents, or improper maintenance.</li>\\n<li>Normal wear and tear, including scratches, dents, or fading of the finish.</li>\\n<li>Damage caused by unauthorized repairs or modifications.</li>\\n<li>Damage caused by using the camping stove for purposes other than intended.</li>\\n<li>\\n<p>Damage caused by using incompatible or improper fuel.</p>\\n</li>\\n<li>\\n<p>Warranty Claim Procedure:\\nIn the event of a warranty claim, please follow these steps:</p>\\n</li>\\n<li>Contact our customer care center within the warranty period to initiate a warranty claim.</li>\\n<li>Provide proof of purchase, including the date of purchase and the retailer from whom the product was purchased.</li>\\n<li>Describe the issue or defect in detail and provide any supporting documentation or images, if applicable.</li>\\n<li>\\n<p>Our customer care team will guide you through the warranty claim process, which may involve inspection, repair, or replacement of the camping stove.</p>\\n</li>\\n<li>\\n<p>Contact Information:\\nIf you have any questions or need assistance with your PowerBurner Camping Stove, please contact our customer care team:</p>\\n</li>\\n<li>Customer Care Phone: 1-800-213-2314</li>\\n<li>Customer Care Email: support@powerburner.com</li>\\n<li>Website: www.powerburner.com/support</li>\\n</ol>\\n<h2>Return Policy</h2>\\n<ul>\\n<li><strong>If Membership status \"None\":</strong>  If you are not satisfied with your purchase, you can return it within 30 days for a full refund. The product must be unused and in its original packaging.</li>\\n<li><strong>If Membership status \"Gold\":</strong>  Gold members can return their camping stoves within 60 days of purchase for a full refund or exchange. The product must be unused and in its original packaging.</li>\\n<li><strong>If Membership status \"Platinum\":</strong>  Platinum members can return their camping stoves within 90 days of purchase for a full refund or exchange. The product must be unused and in its original packaging. Additionally, Platinum members receive a 10% discount on all camping stove purchases but from the same product brand.</li>\\n</ul>\\n<h2>Reviews</h2>\\n<p>1) <strong>Rating:</strong> 5\\n   <strong>Review:</strong> I absolutely love the PowerBurner Camping Stove! It\\'s compact, lightweight, and incredibly efficient. It heats up quickly and provides a consistent flame for cooking. The adjustable heat control is a great feature, allowing me to simmer or boil with ease. The sturdy construction and durable materials give me confidence in its longevity. It\\'s definitely a reliable companion for all my camping adventures!</p>\\n<p>2) <strong>Rating:</strong> 4\\n   <strong>Review:</strong> The PowerBurner Camping Stove is a solid choice for outdoor cooking. It\\'s easy to assemble and disassemble, making it convenient to transport. The flame output is consistent, and the heat is well-distributed. I appreciate the built-in wind protection, which helps maintain a steady flame even in windy conditions. The stove is sturdy and stable, providing a reliable cooking surface. The only downside is that it\\'s a bit bulky compared to other camping stoves I\\'ve used, but overall, it\\'s a reliable and functional option.</p>\\n<p>3) <strong>Rating:</strong> 3\\n   <strong>Review:</strong> The PowerBurner Camping Stove gets the job done, but it has some room for improvement. The flame control is a bit tricky, and it can be challenging to achieve a low simmer. The ignition system works well most of the time, but occasionally it takes a few tries to get it going. On the positive side, it\\'s fairly lightweight and easy to carry. The construction is decent, but I would prefer a more durable feel. It\\'s an average camping stove that serves its purpose adequately.</p>\\n<p>4) <strong>Rating:</strong> 5\\n   <strong>Review:</strong> I\\'m impressed with the performance of the PowerBurner Camping Stove. It\\'s compact, yet powerful enough to cook meals quickly. The flame is adjustable and provides excellent heat control. The integrated piezo ignition is reliable and saves me the hassle of carrying a separate lighter. The stove is easy to clean, and the included carrying case is a nice bonus. I\\'ve used it on multiple camping trips, and it has never let me down. Highly recommended for outdoor cooking enthusiasts!</p>\\n<p>5) <strong>Rating:</strong> 4\\n   <strong>Review:</strong> The PowerBurner Camping Stove is a solid choice for camp cooking. It\\'s easy to set up and operate, and the flame is consistent and reliable. The stove is stable on various surfaces, thanks to its sturdy design. The included windscreen is effective in protecting the flame from gusts of wind. The only minor drawback is that the control valve is a bit sensitive, requiring careful adjustment to achieve the desired heat level. Overall, it\\'s a reliable camping stove that delivers good performance.</p>\\n<h2>FAQ</h2>\\n<p>59) Can the PowerBurner Camping Stove be used with both propane and butane?\\n   Yes, the PowerBurner Camping Stove is compatible with both propane and butane fuel canisters, allowing you to choose the most convenient option for your needs.</p>\\n<p>60) How easy is it to clean the PowerBurner Camping Stove after use?\\n   The PowerBurner Camping Stove is designed for easy cleaning, with removable pot supports and a stainless steel construction that can be wiped down with a damp cloth after it has cooled down.</p>\\n<p>61) How long do fuel canisters last with the PowerBurner Camping Stove?\\n   Fuel consumption for the PowerBurner Camping Stove depends on factors like burner intensity and altitude. On average, a 16 oz propane canister can last between 1 to 2 hours of continuous use on high heat.</p>\\n<p>62) Can I use the PowerBurner Camping Stove indoors?\\n   The PowerBurner Camping Stove is designed for outdoor use only. Using it indoors can lead to dangerous carbon monoxide buildup, which poses a serious risk to your health and safety.</p>'"
      ]
     },
     "execution_count": 23,
     "metadata": {},
     "output_type": "execute_result"
    }
   ],
   "source": [
    "htmlmarkdown"
   ]
  },
  {
   "cell_type": "code",
   "execution_count": 17,
   "id": "9450bf5e-518e-48c7-a8bc-e17543daf3fc",
   "metadata": {},
   "outputs": [
    {
     "ename": "BadZipFile",
     "evalue": "File is not a zip file",
     "output_type": "error",
     "traceback": [
      "\u001b[0;31m---------------------------------------------------------------------------\u001b[0m",
      "\u001b[0;31mBadZipFile\u001b[0m                                Traceback (most recent call last)",
      "Cell \u001b[0;32mIn[17], line 2\u001b[0m\n\u001b[1;32m      1\u001b[0m \u001b[38;5;28;01mfor\u001b[39;00m i \u001b[38;5;129;01min\u001b[39;00m \u001b[38;5;28mrange\u001b[39m(\u001b[38;5;28mlen\u001b[39m(files)):\n\u001b[0;32m----> 2\u001b[0m     text \u001b[38;5;241m=\u001b[39m \u001b[43mdocx2txt\u001b[49m\u001b[38;5;241;43m.\u001b[39;49m\u001b[43mprocess\u001b[49m\u001b[43m(\u001b[49m\u001b[43mfiles\u001b[49m\u001b[43m[\u001b[49m\u001b[43mi\u001b[49m\u001b[43m]\u001b[49m\u001b[43m)\u001b[49m\u001b[38;5;241m.\u001b[39mreplace(\u001b[38;5;124m'\u001b[39m\u001b[38;5;130;01m\\n\u001b[39;00m\u001b[38;5;130;01m\\n\u001b[39;00m\u001b[38;5;124m'\u001b[39m, \u001b[38;5;124m'\u001b[39m\u001b[38;5;124m'\u001b[39m)\u001b[38;5;241m.\u001b[39mreplace(\u001b[38;5;124m'\u001b[39m\u001b[38;5;130;01m\\t\u001b[39;00m\u001b[38;5;124m'\u001b[39m, \u001b[38;5;124m'\u001b[39m\u001b[38;5;124m \u001b[39m\u001b[38;5;124m'\u001b[39m)\n\u001b[1;32m      3\u001b[0m \u001b[38;5;66;03m#     text = docx2txt.process(files[i])\u001b[39;00m\n\u001b[1;32m      6\u001b[0m     docs \u001b[38;5;241m=\u001b[39m splitter\u001b[38;5;241m.\u001b[39mcreate_documents([text])\n",
      "File \u001b[0;32m~/python_venv/lib/python3.12/site-packages/docx2txt/docx2txt.py:76\u001b[0m, in \u001b[0;36mprocess\u001b[0;34m(docx, img_dir)\u001b[0m\n\u001b[1;32m     73\u001b[0m text \u001b[38;5;241m=\u001b[39m \u001b[38;5;124mu\u001b[39m\u001b[38;5;124m'\u001b[39m\u001b[38;5;124m'\u001b[39m\n\u001b[1;32m     75\u001b[0m \u001b[38;5;66;03m# unzip the docx in memory\u001b[39;00m\n\u001b[0;32m---> 76\u001b[0m zipf \u001b[38;5;241m=\u001b[39m \u001b[43mzipfile\u001b[49m\u001b[38;5;241;43m.\u001b[39;49m\u001b[43mZipFile\u001b[49m\u001b[43m(\u001b[49m\u001b[43mdocx\u001b[49m\u001b[43m)\u001b[49m\n\u001b[1;32m     77\u001b[0m filelist \u001b[38;5;241m=\u001b[39m zipf\u001b[38;5;241m.\u001b[39mnamelist()\n\u001b[1;32m     79\u001b[0m \u001b[38;5;66;03m# get header text\u001b[39;00m\n\u001b[1;32m     80\u001b[0m \u001b[38;5;66;03m# there can be 3 header files in the zip\u001b[39;00m\n",
      "File \u001b[0;32m/usr/lib/python3.12/zipfile/__init__.py:1349\u001b[0m, in \u001b[0;36mZipFile.__init__\u001b[0;34m(self, file, mode, compression, allowZip64, compresslevel, strict_timestamps, metadata_encoding)\u001b[0m\n\u001b[1;32m   1347\u001b[0m \u001b[38;5;28;01mtry\u001b[39;00m:\n\u001b[1;32m   1348\u001b[0m     \u001b[38;5;28;01mif\u001b[39;00m mode \u001b[38;5;241m==\u001b[39m \u001b[38;5;124m'\u001b[39m\u001b[38;5;124mr\u001b[39m\u001b[38;5;124m'\u001b[39m:\n\u001b[0;32m-> 1349\u001b[0m         \u001b[38;5;28;43mself\u001b[39;49m\u001b[38;5;241;43m.\u001b[39;49m\u001b[43m_RealGetContents\u001b[49m\u001b[43m(\u001b[49m\u001b[43m)\u001b[49m\n\u001b[1;32m   1350\u001b[0m     \u001b[38;5;28;01melif\u001b[39;00m mode \u001b[38;5;129;01min\u001b[39;00m (\u001b[38;5;124m'\u001b[39m\u001b[38;5;124mw\u001b[39m\u001b[38;5;124m'\u001b[39m, \u001b[38;5;124m'\u001b[39m\u001b[38;5;124mx\u001b[39m\u001b[38;5;124m'\u001b[39m):\n\u001b[1;32m   1351\u001b[0m         \u001b[38;5;66;03m# set the modified flag so central directory gets written\u001b[39;00m\n\u001b[1;32m   1352\u001b[0m         \u001b[38;5;66;03m# even if no files are added to the archive\u001b[39;00m\n\u001b[1;32m   1353\u001b[0m         \u001b[38;5;28mself\u001b[39m\u001b[38;5;241m.\u001b[39m_didModify \u001b[38;5;241m=\u001b[39m \u001b[38;5;28;01mTrue\u001b[39;00m\n",
      "File \u001b[0;32m/usr/lib/python3.12/zipfile/__init__.py:1416\u001b[0m, in \u001b[0;36mZipFile._RealGetContents\u001b[0;34m(self)\u001b[0m\n\u001b[1;32m   1414\u001b[0m     \u001b[38;5;28;01mraise\u001b[39;00m BadZipFile(\u001b[38;5;124m\"\u001b[39m\u001b[38;5;124mFile is not a zip file\u001b[39m\u001b[38;5;124m\"\u001b[39m)\n\u001b[1;32m   1415\u001b[0m \u001b[38;5;28;01mif\u001b[39;00m \u001b[38;5;129;01mnot\u001b[39;00m endrec:\n\u001b[0;32m-> 1416\u001b[0m     \u001b[38;5;28;01mraise\u001b[39;00m BadZipFile(\u001b[38;5;124m\"\u001b[39m\u001b[38;5;124mFile is not a zip file\u001b[39m\u001b[38;5;124m\"\u001b[39m)\n\u001b[1;32m   1417\u001b[0m \u001b[38;5;28;01mif\u001b[39;00m \u001b[38;5;28mself\u001b[39m\u001b[38;5;241m.\u001b[39mdebug \u001b[38;5;241m>\u001b[39m \u001b[38;5;241m1\u001b[39m:\n\u001b[1;32m   1418\u001b[0m     \u001b[38;5;28mprint\u001b[39m(endrec)\n",
      "\u001b[0;31mBadZipFile\u001b[0m: File is not a zip file"
     ]
    }
   ],
   "source": [
    "for i in range(len(files)):\n",
    "    text = docx2txt.process(files[i]).replace('\\n\\n', '').replace('\\t', ' ')\n",
    "#     text = docx2txt.process(files[i])\n",
    "\n",
    "\n",
    "    docs = splitter.create_documents([text])\n",
    "    if(i == 0):\n",
    "        db = FAISS.from_documents(docs, custom_embedding)\n",
    "    else:\n",
    "        db.add_documents(docs)\n"
   ]
  },
  {
   "cell_type": "code",
   "execution_count": null,
   "id": "f7c21310-59b8-492d-a444-49bda72c9ace",
   "metadata": {},
   "outputs": [],
   "source": []
  },
  {
   "cell_type": "code",
   "execution_count": null,
   "id": "df74d7df-1256-421b-9c11-ce9e255bd6cd",
   "metadata": {},
   "outputs": [],
   "source": []
  },
  {
   "cell_type": "code",
   "execution_count": null,
   "id": "f0fdd72e-6d86-491f-8a83-8b1fb58b5307",
   "metadata": {},
   "outputs": [],
   "source": []
  },
  {
   "cell_type": "code",
   "execution_count": null,
   "id": "d95c6e34-f6bf-483f-8d3d-905e914495cd",
   "metadata": {},
   "outputs": [],
   "source": []
  },
  {
   "cell_type": "code",
   "execution_count": null,
   "id": "11d2a6e6-fd43-483d-a64c-e0781e97dd0d",
   "metadata": {},
   "outputs": [],
   "source": []
  },
  {
   "cell_type": "code",
   "execution_count": null,
   "id": "d6bed542-507e-4ebd-9162-9b7690432146",
   "metadata": {},
   "outputs": [],
   "source": []
  },
  {
   "cell_type": "code",
   "execution_count": null,
   "id": "4b7774d7-32ad-48e0-9b62-20f7855b489c",
   "metadata": {},
   "outputs": [],
   "source": []
  },
  {
   "cell_type": "code",
   "execution_count": null,
   "id": "c49ea6ae-c2f6-4578-a664-42a6e3e5bc3f",
   "metadata": {},
   "outputs": [],
   "source": []
  },
  {
   "cell_type": "code",
   "execution_count": null,
   "id": "cc3853df-e1a1-4e9b-8e39-03bb8b6a71a5",
   "metadata": {},
   "outputs": [],
   "source": []
  },
  {
   "cell_type": "code",
   "execution_count": null,
   "id": "4f3859bc-ef96-4752-a976-ca7419d7f957",
   "metadata": {},
   "outputs": [],
   "source": []
  }
 ],
 "metadata": {
  "kernelspec": {
   "display_name": "Python 3 (ipykernel)",
   "language": "python",
   "name": "python3"
  },
  "language_info": {
   "codemirror_mode": {
    "name": "ipython",
    "version": 3
   },
   "file_extension": ".py",
   "mimetype": "text/x-python",
   "name": "python",
   "nbconvert_exporter": "python",
   "pygments_lexer": "ipython3",
   "version": "3.12.3"
  },
  "toc": {
   "base_numbering": 1,
   "nav_menu": {},
   "number_sections": true,
   "sideBar": true,
   "skip_h1_title": false,
   "title_cell": "Table of Contents",
   "title_sidebar": "Contents",
   "toc_cell": false,
   "toc_position": {
    "height": "calc(100% - 180px)",
    "left": "10px",
    "top": "150px",
    "width": "370px"
   },
   "toc_section_display": true,
   "toc_window_display": true
  }
 },
 "nbformat": 4,
 "nbformat_minor": 5
}
